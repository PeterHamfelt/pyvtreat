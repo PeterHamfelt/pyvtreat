{
 "cells": [
  {
   "cell_type": "code",
   "execution_count": null,
   "metadata": {
    "collapsed": true
   },
   "outputs": [],
   "source": [
    "import os\n",
    "os.chdir('/Users/johnmount/Documents/work/pyvtreat/Examples/Database')\n",
    "import numpy as np\n",
    "import pandas as pd\n",
    "\n",
    "from data_algebra.data_ops import *\n",
    "import data_algebra.SQLite\n",
    "import data_algebra.test_util\n",
    "import vtreat\n",
    "from vtreat.vtreat_db_adapter import as_data_algebra_pipeline"
   ]
  },
  {
   "cell_type": "code",
   "execution_count": 1,
   "outputs": [
    {
     "ename": "NameError",
     "evalue": "name 'pd' is not defined",
     "output_type": "error",
     "traceback": [
      "\u001B[0;31m---------------------------------------------------------------------------\u001B[0m",
      "\u001B[0;31mNameError\u001B[0m                                 Traceback (most recent call last)",
      "\u001B[0;32m/var/folders/7f/sdjycp_d08n8wwytsbgwqgsw0000gn/T/ipykernel_32950/1426963481.py\u001B[0m in \u001B[0;36m<module>\u001B[0;34m\u001B[0m\n\u001B[1;32m     28\u001B[0m     \u001B[0;32mreturn\u001B[0m \u001B[0;34m{\u001B[0m\u001B[0;34m}\u001B[0m\u001B[0;34m\u001B[0m\u001B[0;34m\u001B[0m\u001B[0m\n\u001B[1;32m     29\u001B[0m \u001B[0;34m\u001B[0m\u001B[0m\n\u001B[0;32m---> 30\u001B[0;31m \u001B[0mtransform_as_data\u001B[0m \u001B[0;34m=\u001B[0m \u001B[0mpd\u001B[0m\u001B[0;34m.\u001B[0m\u001B[0mread_csv\u001B[0m\u001B[0;34m(\u001B[0m\u001B[0;34m'example_transform.csv'\u001B[0m\u001B[0;34m)\u001B[0m\u001B[0;34m\u001B[0m\u001B[0;34m\u001B[0m\u001B[0m\n\u001B[0m\u001B[1;32m     31\u001B[0m \u001B[0;34m\u001B[0m\u001B[0m\n\u001B[1;32m     32\u001B[0m \u001B[0;34m\u001B[0m\u001B[0m\n",
      "\u001B[0;31mNameError\u001B[0m: name 'pd' is not defined"
     ]
    }
   ],
   "source": [
    "\"\"\"\n",
    "# larger version of tests/test_db_adapter.py:test_db_adapter_monster()\n",
    "def mk_example(n_rows:int = 100, n_vars:int = 50):  # stress goal: 5000, normal test 50\n",
    "    step = 1/np.sqrt(n_vars)\n",
    "    cols = dict()\n",
    "    y = np.random.normal(size=n_rows)\n",
    "    for i in range(n_vars):\n",
    "        vname = f'v_{i}'\n",
    "        v = np.random.choice(['a', 'b'], replace=True, size=n_rows)\n",
    "        y = y + np.where(v == 'a', step, -step)\n",
    "        cols[vname] = v\n",
    "    vars = list(cols.keys())\n",
    "    vars.sort()\n",
    "    cols['y'] = y\n",
    "    d = pd.DataFrame(cols)\n",
    "\n",
    "    outcome_name = \"y\"\n",
    "    cols_to_copy = [outcome_name]\n",
    "    columns = vars + cols_to_copy\n",
    "\n",
    "    treatment = vtreat.NumericOutcomeTreatment(\n",
    "        cols_to_copy=cols_to_copy,\n",
    "        outcome_name=outcome_name,\n",
    "        params=vtreat.vtreat_parameters(\n",
    "            {\"sparse_indicators\": False, \"filter_to_recommended\": False,}\n",
    "        ),\n",
    "    )\n",
    "    d_train_treated = treatment.fit_transform(d)\n",
    "    transform_as_data = treatment.description_matrix()\n",
    "    source_descr = TableDescription(\n",
    "        table_name='d_app',\n",
    "        column_names=columns,\n",
    "    )\n",
    "    return {\n",
    "        'transform_as_data': transform_as_data,\n",
    "        'source_descr': source_descr,\n",
    "    }\n",
    "\n",
    "ex = mk_example()\n",
    "source_descr = ex['source_descr']\n",
    "transform_as_data = ex['transform_as_data']\n",
    "\"\"\""
   ],
   "metadata": {
    "collapsed": false,
    "pycharm": {
     "name": "#%%\n"
    }
   }
  },
  {
   "cell_type": "code",
   "execution_count": null,
   "outputs": [],
   "source": [
    "transform_as_data = pd.read_csv('example_transform.csv')\n",
    "orig_vars = list(set(transform_as_data['orig_var']))\n",
    "orig_vars.sort()\n",
    "outcome_name = 'y'\n",
    "source_descr = TableDescription(\n",
    "    table_name='d_app',\n",
    "    column_names=orig_vars + [outcome_name],\n",
    ")"
   ],
   "metadata": {
    "collapsed": false,
    "pycharm": {
     "name": "#%%\n"
    }
   }
  },
  {
   "cell_type": "code",
   "execution_count": null,
   "outputs": [],
   "source": [],
   "metadata": {
    "collapsed": false,
    "pycharm": {
     "name": "#%%\n"
    }
   }
  },
  {
   "cell_type": "code",
   "execution_count": null,
   "outputs": [],
   "source": [
    "\n",
    "ops = as_data_algebra_pipeline(\n",
    "    source=source_descr,\n",
    "    vtreat_descr=transform_as_data,\n",
    "    treatment_table_name='transform_as_data',\n",
    ")"
   ],
   "metadata": {
    "collapsed": false,
    "pycharm": {
     "name": "#%%\n"
    }
   }
  }
 ],
 "metadata": {
  "kernelspec": {
   "display_name": "Python 3",
   "language": "python",
   "name": "python3"
  },
  "language_info": {
   "codemirror_mode": {
    "name": "ipython",
    "version": 2
   },
   "file_extension": ".py",
   "mimetype": "text/x-python",
   "name": "python",
   "nbconvert_exporter": "python",
   "pygments_lexer": "ipython2",
   "version": "2.7.6"
  }
 },
 "nbformat": 4,
 "nbformat_minor": 0
}