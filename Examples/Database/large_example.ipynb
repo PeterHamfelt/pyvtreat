{
 "cells": [
  {
   "cell_type": "code",
   "execution_count": 1,
   "metadata": {
    "collapsed": true
   },
   "outputs": [],
   "source": [
    "import datetime\n",
    "import os\n",
    "import sys\n",
    "import numpy as np\n",
    "import pandas as pd\n",
    "\n",
    "from data_algebra.data_ops import *\n",
    "import data_algebra.SQLite\n",
    "import data_algebra.test_util\n",
    "import vtreat\n",
    "from vtreat.vtreat_db_adapter import as_data_algebra_pipeline\n",
    "\n",
    "sys.setrecursionlimit(30000)"
   ]
  },
  {
   "cell_type": "code",
   "execution_count": 2,
   "outputs": [],
   "source": [
    "# larger version of tests/test_db_adapter.py:test_db_adapter_monster()\n",
    "def mk_example(n_rows:int = 100, n_vars:int = 50):  # stress goal: 5000, normal test 50\n",
    "    step = 1/np.sqrt(n_vars)\n",
    "    cols = dict()\n",
    "    y = np.random.normal(size=n_rows)\n",
    "    for i in range(n_vars):\n",
    "        vname = f'v_{i}'\n",
    "        v = np.random.choice(['a', 'b'], replace=True, size=n_rows)\n",
    "        y = y + np.where(v == 'a', step, -step)\n",
    "        cols[vname] = v\n",
    "    vars = list(cols.keys())\n",
    "    vars.sort()\n",
    "    cols['y'] = y\n",
    "    d = pd.DataFrame(cols)\n",
    "\n",
    "    outcome_name = \"y\"\n",
    "    cols_to_copy = [outcome_name]\n",
    "    columns = vars + cols_to_copy\n",
    "\n",
    "    treatment = vtreat.NumericOutcomeTreatment(\n",
    "        cols_to_copy=cols_to_copy,\n",
    "        outcome_name=outcome_name,\n",
    "        params=vtreat.vtreat_parameters(\n",
    "            {\"sparse_indicators\": False, \"filter_to_recommended\": False,}\n",
    "        ),\n",
    "    )\n",
    "    d_train_treated = treatment.fit_transform(d)\n",
    "    transform_as_data = treatment.description_matrix()\n",
    "    source_descr = TableDescription(\n",
    "        table_name='d_app',\n",
    "        column_names=columns,\n",
    "    )\n",
    "    return {\n",
    "        'transform_as_data': transform_as_data,\n",
    "        'source_descr': source_descr,\n",
    "    }\n",
    "\n",
    "ex = mk_example(n_vars=1000)\n",
    "source_descr = ex['source_descr']\n",
    "transform_as_data = ex['transform_as_data']\n"
   ],
   "metadata": {
    "collapsed": false,
    "pycharm": {
     "name": "#%%\n"
    }
   }
  },
  {
   "cell_type": "code",
   "execution_count": 3,
   "outputs": [
    {
     "name": "stdout",
     "output_type": "stream",
     "text": [
      "2021-12-11 16:07:59.521081\n",
      "2021-12-11 16:08:26.615549\n"
     ]
    }
   ],
   "source": [
    "print(datetime.datetime.now())\n",
    "ops = as_data_algebra_pipeline(\n",
    "    source=source_descr,\n",
    "    vtreat_descr=transform_as_data,\n",
    "    treatment_table_name='transform_as_data',\n",
    ")\n",
    "print(datetime.datetime.now())"
   ],
   "metadata": {
    "collapsed": false,
    "pycharm": {
     "name": "#%%\n"
    }
   }
  },
  {
   "cell_type": "code",
   "execution_count": 4,
   "outputs": [
    {
     "name": "stdout",
     "output_type": "stream",
     "text": [
      "2021-12-11 16:08:26.619536\n",
      "2446423\n",
      "2021-12-11 16:09:00.409253\n"
     ]
    }
   ],
   "source": [
    "print(datetime.datetime.now())\n",
    "ops_str = str(ops)\n",
    "print(len(ops_str))\n",
    "del ops_str\n",
    "print(datetime.datetime.now())"
   ],
   "metadata": {
    "collapsed": false,
    "pycharm": {
     "name": "#%%\n"
    }
   }
  },
  {
   "cell_type": "code",
   "execution_count": 5,
   "outputs": [
    {
     "name": "stdout",
     "output_type": "stream",
     "text": [
      "2021-12-11 16:09:00.414331\n",
      "259133618\n",
      "2021-12-11 16:51:45.211195\n"
     ]
    }
   ],
   "source": [
    "print(datetime.datetime.now())\n",
    "db_model = data_algebra.SQLite.SQLiteModel()\n",
    "sql_str = db_model.to_sql(ops)\n",
    "print(len(sql_str))\n",
    "del sql_str\n",
    "print(datetime.datetime.now())"
   ],
   "metadata": {
    "collapsed": false,
    "pycharm": {
     "name": "#%%\n"
    }
   }
  },
  {
   "cell_type": "code",
   "execution_count": 6,
   "outputs": [
    {
     "data": {
      "text/plain": "2"
     },
     "execution_count": 6,
     "metadata": {},
     "output_type": "execute_result"
    }
   ],
   "source": [
    "1 + 1  # show we are done"
   ],
   "metadata": {
    "collapsed": false,
    "pycharm": {
     "name": "#%%\n"
    }
   }
  }
 ],
 "metadata": {
  "kernelspec": {
   "display_name": "Python 3",
   "language": "python",
   "name": "python3"
  },
  "language_info": {
   "codemirror_mode": {
    "name": "ipython",
    "version": 2
   },
   "file_extension": ".py",
   "mimetype": "text/x-python",
   "name": "python",
   "nbconvert_exporter": "python",
   "pygments_lexer": "ipython2",
   "version": "2.7.6"
  }
 },
 "nbformat": 4,
 "nbformat_minor": 0
}