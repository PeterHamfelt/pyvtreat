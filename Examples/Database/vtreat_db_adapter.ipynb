{
 "cells": [
  {
   "cell_type": "markdown",
   "metadata": {
    "collapsed": true,
    "pycharm": {
     "name": "#%% md\n"
    }
   },
   "source": [
    "A demonstration of converting a [Python vtreat](https://github.com/WinVector/vtreat) transformation into a [data algebra](https://github.com/WinVector/data_algebra) pipeline, which can then in turn be converted to SQL queries.\n",
    "[R vtreat](https://winvector.github.io/vtreat/) already has similar functionality with [as_rquery_plan()](https://winvector.github.io/vtreat/reference/as_rquery_plan.html)."
   ]
  },
  {
   "cell_type": "code",
   "execution_count": 1,
   "outputs": [],
   "source": [
    "import pandas as pd\n",
    "\n",
    "from data_algebra.data_ops import *\n",
    "import data_algebra.SQLite\n",
    "import vtreat\n",
    "from vtreat_db_adapter import as_data_algebra_pipeline"
   ],
   "metadata": {
    "collapsed": false,
    "pycharm": {
     "name": "#%%\n"
    }
   }
  },
  {
   "cell_type": "code",
   "execution_count": 2,
   "outputs": [
    {
     "data": {
      "text/plain": "        weight  encounter_id  patient_nbr  readmitted\n0          NaN       2278392      8222157       False\n1          NaN         64410     86047875       False\n2          NaN        500364     82442376       False\n3          NaN         35754     82637451       False\n4          NaN         55842     84259809       False\n..         ...           ...          ...         ...\n995        NaN       8860284     94419315       False\n996        NaN       8860944       338247       False\n997        NaN       8864718       695439       False\n998  [100-125)       8866632    103586670       False\n999        NaN       8867106      4988970       False\n\n[1000 rows x 4 columns]",
      "text/html": "<div>\n<style scoped>\n    .dataframe tbody tr th:only-of-type {\n        vertical-align: middle;\n    }\n\n    .dataframe tbody tr th {\n        vertical-align: top;\n    }\n\n    .dataframe thead th {\n        text-align: right;\n    }\n</style>\n<table border=\"1\" class=\"dataframe\">\n  <thead>\n    <tr style=\"text-align: right;\">\n      <th></th>\n      <th>weight</th>\n      <th>encounter_id</th>\n      <th>patient_nbr</th>\n      <th>readmitted</th>\n    </tr>\n  </thead>\n  <tbody>\n    <tr>\n      <th>0</th>\n      <td>NaN</td>\n      <td>2278392</td>\n      <td>8222157</td>\n      <td>False</td>\n    </tr>\n    <tr>\n      <th>1</th>\n      <td>NaN</td>\n      <td>64410</td>\n      <td>86047875</td>\n      <td>False</td>\n    </tr>\n    <tr>\n      <th>2</th>\n      <td>NaN</td>\n      <td>500364</td>\n      <td>82442376</td>\n      <td>False</td>\n    </tr>\n    <tr>\n      <th>3</th>\n      <td>NaN</td>\n      <td>35754</td>\n      <td>82637451</td>\n      <td>False</td>\n    </tr>\n    <tr>\n      <th>4</th>\n      <td>NaN</td>\n      <td>55842</td>\n      <td>84259809</td>\n      <td>False</td>\n    </tr>\n    <tr>\n      <th>...</th>\n      <td>...</td>\n      <td>...</td>\n      <td>...</td>\n      <td>...</td>\n    </tr>\n    <tr>\n      <th>995</th>\n      <td>NaN</td>\n      <td>8860284</td>\n      <td>94419315</td>\n      <td>False</td>\n    </tr>\n    <tr>\n      <th>996</th>\n      <td>NaN</td>\n      <td>8860944</td>\n      <td>338247</td>\n      <td>False</td>\n    </tr>\n    <tr>\n      <th>997</th>\n      <td>NaN</td>\n      <td>8864718</td>\n      <td>695439</td>\n      <td>False</td>\n    </tr>\n    <tr>\n      <th>998</th>\n      <td>[100-125)</td>\n      <td>8866632</td>\n      <td>103586670</td>\n      <td>False</td>\n    </tr>\n    <tr>\n      <th>999</th>\n      <td>NaN</td>\n      <td>8867106</td>\n      <td>4988970</td>\n      <td>False</td>\n    </tr>\n  </tbody>\n</table>\n<p>1000 rows × 4 columns</p>\n</div>"
     },
     "execution_count": 2,
     "metadata": {},
     "output_type": "execute_result"
    }
   ],
   "source": [
    "# Data from:\n",
    "# https://archive.ics.uci.edu/ml/datasets/Diabetes+130-US+hospitals+for+years+1999-2008\n",
    "\n",
    "data = pd.read_csv(\"diabetes_head.csv\")\n",
    "\n",
    "outcome_name = \"readmitted\"\n",
    "cols_to_copy = [\"encounter_id\", \"patient_nbr\"] + [outcome_name]\n",
    "#vars = [c for c in data.columns if c not in cols_to_copy]\n",
    "vars = ['weight']\n",
    "columns = vars + cols_to_copy\n",
    "\n",
    "data.loc[:, columns]\n"
   ],
   "metadata": {
    "collapsed": false,
    "pycharm": {
     "name": "#%%\n"
    }
   }
  },
  {
   "cell_type": "code",
   "execution_count": 3,
   "outputs": [
    {
     "data": {
      "text/plain": "     encounter_id  patient_nbr  readmitted  weight_is_bad  weight_logit_code  \\\n0         2278392      8222157       False            1.0           0.004795   \n1           64410     86047875       False            1.0           0.005997   \n2          500364     82442376       False            1.0           0.007164   \n3           35754     82637451       False            1.0           0.007164   \n4           55842     84259809       False            1.0           0.008366   \n..            ...          ...         ...            ...                ...   \n995       8860284     94419315       False            1.0           0.007164   \n996       8860944       338247       False            1.0           0.007164   \n997       8864718       695439       False            1.0           0.005997   \n998       8866632    103586670       False            0.0           0.000000   \n999       8867106      4988970       False            1.0           0.008366   \n\n     weight_prevalence_code  weight_lev__NA_  \n0                     0.993              1.0  \n1                     0.993              1.0  \n2                     0.993              1.0  \n3                     0.993              1.0  \n4                     0.993              1.0  \n..                      ...              ...  \n995                   0.993              1.0  \n996                   0.993              1.0  \n997                   0.993              1.0  \n998                   0.001              0.0  \n999                   0.993              1.0  \n\n[1000 rows x 7 columns]",
      "text/html": "<div>\n<style scoped>\n    .dataframe tbody tr th:only-of-type {\n        vertical-align: middle;\n    }\n\n    .dataframe tbody tr th {\n        vertical-align: top;\n    }\n\n    .dataframe thead th {\n        text-align: right;\n    }\n</style>\n<table border=\"1\" class=\"dataframe\">\n  <thead>\n    <tr style=\"text-align: right;\">\n      <th></th>\n      <th>encounter_id</th>\n      <th>patient_nbr</th>\n      <th>readmitted</th>\n      <th>weight_is_bad</th>\n      <th>weight_logit_code</th>\n      <th>weight_prevalence_code</th>\n      <th>weight_lev__NA_</th>\n    </tr>\n  </thead>\n  <tbody>\n    <tr>\n      <th>0</th>\n      <td>2278392</td>\n      <td>8222157</td>\n      <td>False</td>\n      <td>1.0</td>\n      <td>0.004795</td>\n      <td>0.993</td>\n      <td>1.0</td>\n    </tr>\n    <tr>\n      <th>1</th>\n      <td>64410</td>\n      <td>86047875</td>\n      <td>False</td>\n      <td>1.0</td>\n      <td>0.005997</td>\n      <td>0.993</td>\n      <td>1.0</td>\n    </tr>\n    <tr>\n      <th>2</th>\n      <td>500364</td>\n      <td>82442376</td>\n      <td>False</td>\n      <td>1.0</td>\n      <td>0.007164</td>\n      <td>0.993</td>\n      <td>1.0</td>\n    </tr>\n    <tr>\n      <th>3</th>\n      <td>35754</td>\n      <td>82637451</td>\n      <td>False</td>\n      <td>1.0</td>\n      <td>0.007164</td>\n      <td>0.993</td>\n      <td>1.0</td>\n    </tr>\n    <tr>\n      <th>4</th>\n      <td>55842</td>\n      <td>84259809</td>\n      <td>False</td>\n      <td>1.0</td>\n      <td>0.008366</td>\n      <td>0.993</td>\n      <td>1.0</td>\n    </tr>\n    <tr>\n      <th>...</th>\n      <td>...</td>\n      <td>...</td>\n      <td>...</td>\n      <td>...</td>\n      <td>...</td>\n      <td>...</td>\n      <td>...</td>\n    </tr>\n    <tr>\n      <th>995</th>\n      <td>8860284</td>\n      <td>94419315</td>\n      <td>False</td>\n      <td>1.0</td>\n      <td>0.007164</td>\n      <td>0.993</td>\n      <td>1.0</td>\n    </tr>\n    <tr>\n      <th>996</th>\n      <td>8860944</td>\n      <td>338247</td>\n      <td>False</td>\n      <td>1.0</td>\n      <td>0.007164</td>\n      <td>0.993</td>\n      <td>1.0</td>\n    </tr>\n    <tr>\n      <th>997</th>\n      <td>8864718</td>\n      <td>695439</td>\n      <td>False</td>\n      <td>1.0</td>\n      <td>0.005997</td>\n      <td>0.993</td>\n      <td>1.0</td>\n    </tr>\n    <tr>\n      <th>998</th>\n      <td>8866632</td>\n      <td>103586670</td>\n      <td>False</td>\n      <td>0.0</td>\n      <td>0.000000</td>\n      <td>0.001</td>\n      <td>0.0</td>\n    </tr>\n    <tr>\n      <th>999</th>\n      <td>8867106</td>\n      <td>4988970</td>\n      <td>False</td>\n      <td>1.0</td>\n      <td>0.008366</td>\n      <td>0.993</td>\n      <td>1.0</td>\n    </tr>\n  </tbody>\n</table>\n<p>1000 rows × 7 columns</p>\n</div>"
     },
     "execution_count": 3,
     "metadata": {},
     "output_type": "execute_result"
    }
   ],
   "source": [
    "treatment = vtreat.BinomialOutcomeTreatment(\n",
    "    cols_to_copy=cols_to_copy,\n",
    "    outcome_name=outcome_name,\n",
    "    outcome_target=True,\n",
    "    params=vtreat.vtreat_parameters(\n",
    "        {\"sparse_indicators\": False, \"filter_to_recommended\": False,}\n",
    "    ),\n",
    ")\n",
    "data_treated = treatment.fit_transform(data.loc[:, columns])\n",
    "\n",
    "data_treated"
   ],
   "metadata": {
    "collapsed": false,
    "pycharm": {
     "name": "#%%\n"
    }
   }
  },
  {
   "cell_type": "code",
   "execution_count": 4,
   "outputs": [
    {
     "data": {
      "text/plain": "             treatment_class          treatment orig_var  \\\n0   IndicateMissingTransform  missing_indicator   weight   \n1        MappedCodeTransform         logit_code   weight   \n2        MappedCodeTransform         logit_code   weight   \n3        MappedCodeTransform         logit_code   weight   \n4        MappedCodeTransform         logit_code   weight   \n5        MappedCodeTransform         logit_code   weight   \n6        MappedCodeTransform    prevalence_code   weight   \n7        MappedCodeTransform    prevalence_code   weight   \n8        MappedCodeTransform    prevalence_code   weight   \n9        MappedCodeTransform    prevalence_code   weight   \n10       MappedCodeTransform    prevalence_code   weight   \n11    IndicatorCodeTransform     indicator_code   weight   \n\n                  variable      value  replacement  \n0            weight_is_bad       _NA_     1.000000  \n1        weight_logit_code     [0-25)     0.000000  \n2        weight_logit_code  [100-125)     0.000000  \n3        weight_logit_code    [50-75)     0.000000  \n4        weight_logit_code   [75-100)    -2.129774  \n5        weight_logit_code       _NA_     0.006737  \n6   weight_prevalence_code     [0-25)     0.001000  \n7   weight_prevalence_code  [100-125)     0.001000  \n8   weight_prevalence_code    [50-75)     0.001000  \n9   weight_prevalence_code   [75-100)     0.004000  \n10  weight_prevalence_code       _NA_     0.993000  \n11         weight_lev__NA_       _NA_     1.000000  ",
      "text/html": "<div>\n<style scoped>\n    .dataframe tbody tr th:only-of-type {\n        vertical-align: middle;\n    }\n\n    .dataframe tbody tr th {\n        vertical-align: top;\n    }\n\n    .dataframe thead th {\n        text-align: right;\n    }\n</style>\n<table border=\"1\" class=\"dataframe\">\n  <thead>\n    <tr style=\"text-align: right;\">\n      <th></th>\n      <th>treatment_class</th>\n      <th>treatment</th>\n      <th>orig_var</th>\n      <th>variable</th>\n      <th>value</th>\n      <th>replacement</th>\n    </tr>\n  </thead>\n  <tbody>\n    <tr>\n      <th>0</th>\n      <td>IndicateMissingTransform</td>\n      <td>missing_indicator</td>\n      <td>weight</td>\n      <td>weight_is_bad</td>\n      <td>_NA_</td>\n      <td>1.000000</td>\n    </tr>\n    <tr>\n      <th>1</th>\n      <td>MappedCodeTransform</td>\n      <td>logit_code</td>\n      <td>weight</td>\n      <td>weight_logit_code</td>\n      <td>[0-25)</td>\n      <td>0.000000</td>\n    </tr>\n    <tr>\n      <th>2</th>\n      <td>MappedCodeTransform</td>\n      <td>logit_code</td>\n      <td>weight</td>\n      <td>weight_logit_code</td>\n      <td>[100-125)</td>\n      <td>0.000000</td>\n    </tr>\n    <tr>\n      <th>3</th>\n      <td>MappedCodeTransform</td>\n      <td>logit_code</td>\n      <td>weight</td>\n      <td>weight_logit_code</td>\n      <td>[50-75)</td>\n      <td>0.000000</td>\n    </tr>\n    <tr>\n      <th>4</th>\n      <td>MappedCodeTransform</td>\n      <td>logit_code</td>\n      <td>weight</td>\n      <td>weight_logit_code</td>\n      <td>[75-100)</td>\n      <td>-2.129774</td>\n    </tr>\n    <tr>\n      <th>5</th>\n      <td>MappedCodeTransform</td>\n      <td>logit_code</td>\n      <td>weight</td>\n      <td>weight_logit_code</td>\n      <td>_NA_</td>\n      <td>0.006737</td>\n    </tr>\n    <tr>\n      <th>6</th>\n      <td>MappedCodeTransform</td>\n      <td>prevalence_code</td>\n      <td>weight</td>\n      <td>weight_prevalence_code</td>\n      <td>[0-25)</td>\n      <td>0.001000</td>\n    </tr>\n    <tr>\n      <th>7</th>\n      <td>MappedCodeTransform</td>\n      <td>prevalence_code</td>\n      <td>weight</td>\n      <td>weight_prevalence_code</td>\n      <td>[100-125)</td>\n      <td>0.001000</td>\n    </tr>\n    <tr>\n      <th>8</th>\n      <td>MappedCodeTransform</td>\n      <td>prevalence_code</td>\n      <td>weight</td>\n      <td>weight_prevalence_code</td>\n      <td>[50-75)</td>\n      <td>0.001000</td>\n    </tr>\n    <tr>\n      <th>9</th>\n      <td>MappedCodeTransform</td>\n      <td>prevalence_code</td>\n      <td>weight</td>\n      <td>weight_prevalence_code</td>\n      <td>[75-100)</td>\n      <td>0.004000</td>\n    </tr>\n    <tr>\n      <th>10</th>\n      <td>MappedCodeTransform</td>\n      <td>prevalence_code</td>\n      <td>weight</td>\n      <td>weight_prevalence_code</td>\n      <td>_NA_</td>\n      <td>0.993000</td>\n    </tr>\n    <tr>\n      <th>11</th>\n      <td>IndicatorCodeTransform</td>\n      <td>indicator_code</td>\n      <td>weight</td>\n      <td>weight_lev__NA_</td>\n      <td>_NA_</td>\n      <td>1.000000</td>\n    </tr>\n  </tbody>\n</table>\n</div>"
     },
     "execution_count": 4,
     "metadata": {},
     "output_type": "execute_result"
    }
   ],
   "source": [
    "transform_as_data = treatment.description_matrix()\n",
    "\n",
    "transform_as_data"
   ],
   "metadata": {
    "collapsed": false,
    "pycharm": {
     "name": "#%%\n"
    }
   }
  },
  {
   "cell_type": "code",
   "execution_count": 5,
   "outputs": [
    {
     "name": "stdout",
     "output_type": "stream",
     "text": [
      "(\n",
      "    TableDescription(\n",
      "        table_name=\"data\",\n",
      "        column_names=[\"weight\", \"encounter_id\", \"patient_nbr\", \"readmitted\"],\n",
      "    )\n",
      "    .extend(\n",
      "        {\n",
      "            \"weight_is_bad\": \"(weight.is_bad()).if_else(1.0, 0.0)\",\n",
      "            \"weight_lev__NA_\": \"(weight.coalesce('_NA_') == '_NA_').if_else(1.0, 0.0)\",\n",
      "            \"vtreat_join_key\": \"weight.coalesce('_NA_')\",\n",
      "        }\n",
      "    )\n",
      "    .natural_join(\n",
      "        b=TableDescription(\n",
      "            table_name=\"transform_as_data\",\n",
      "            column_names=[\n",
      "                \"treatment_class\",\n",
      "                \"treatment\",\n",
      "                \"orig_var\",\n",
      "                \"variable\",\n",
      "                \"value\",\n",
      "                \"replacement\",\n",
      "            ],\n",
      "        )\n",
      "        .select_rows(\n",
      "            \"(treatment_class == 'MappedCodeTransform') and (orig_var == 'weight') and (variable == 'weight_logit_code')\"\n",
      "        )\n",
      "        .extend({\"vtreat_join_key\": \"variable\", \"weight_logit_code\": \"replacement\"})\n",
      "        .select_columns([\"vtreat_join_key\", \"weight_logit_code\"]),\n",
      "        by=[\"vtreat_join_key\"],\n",
      "        jointype=\"LEFT\",\n",
      "    )\n",
      "    .drop_columns([\"vtreat_join_key\"])\n",
      "    .extend({\"vtreat_join_key\": \"weight.coalesce('_NA_')\"})\n",
      "    .natural_join(\n",
      "        b=TableDescription(\n",
      "            table_name=\"transform_as_data\",\n",
      "            column_names=[\n",
      "                \"treatment_class\",\n",
      "                \"treatment\",\n",
      "                \"orig_var\",\n",
      "                \"variable\",\n",
      "                \"value\",\n",
      "                \"replacement\",\n",
      "            ],\n",
      "        )\n",
      "        .select_rows(\n",
      "            \"(treatment_class == 'MappedCodeTransform') and (orig_var == 'weight') and (variable == 'weight_prevalence_code')\"\n",
      "        )\n",
      "        .extend(\n",
      "            {\"vtreat_join_key\": \"variable\", \"weight_prevalence_code\": \"replacement\"}\n",
      "        )\n",
      "        .select_columns([\"vtreat_join_key\", \"weight_prevalence_code\"]),\n",
      "        by=[\"vtreat_join_key\"],\n",
      "        jointype=\"LEFT\",\n",
      "    )\n",
      "    .drop_columns([\"vtreat_join_key\"])\n",
      "    .drop_columns([\"weight\"])\n",
      ")\n",
      "\n"
     ]
    }
   ],
   "source": [
    "ops = as_data_algebra_pipeline(\n",
    "    source=descr(data=data.loc[:, columns]),\n",
    "    vtreat_descr=transform_as_data,\n",
    "    treatment_table_name='transform_as_data',\n",
    ")\n",
    "\n",
    "print(ops)"
   ],
   "metadata": {
    "collapsed": false,
    "pycharm": {
     "name": "#%%\n"
    }
   }
  },
  {
   "cell_type": "code",
   "execution_count": 6,
   "outputs": [
    {
     "data": {
      "text/plain": "     encounter_id  patient_nbr  readmitted  weight_is_bad  weight_lev__NA_  \\\n0         2278392      8222157       False            1.0              1.0   \n1           64410     86047875       False            1.0              1.0   \n2          500364     82442376       False            1.0              1.0   \n3           35754     82637451       False            1.0              1.0   \n4           55842     84259809       False            1.0              1.0   \n..            ...          ...         ...            ...              ...   \n995       8860284     94419315       False            1.0              1.0   \n996       8860944       338247       False            1.0              1.0   \n997       8864718       695439       False            1.0              1.0   \n998       8866632    103586670       False            0.0              0.0   \n999       8867106      4988970       False            1.0              1.0   \n\n     weight_logit_code  weight_prevalence_code  \n0                  NaN                     NaN  \n1                  NaN                     NaN  \n2                  NaN                     NaN  \n3                  NaN                     NaN  \n4                  NaN                     NaN  \n..                 ...                     ...  \n995                NaN                     NaN  \n996                NaN                     NaN  \n997                NaN                     NaN  \n998                NaN                     NaN  \n999                NaN                     NaN  \n\n[1000 rows x 7 columns]",
      "text/html": "<div>\n<style scoped>\n    .dataframe tbody tr th:only-of-type {\n        vertical-align: middle;\n    }\n\n    .dataframe tbody tr th {\n        vertical-align: top;\n    }\n\n    .dataframe thead th {\n        text-align: right;\n    }\n</style>\n<table border=\"1\" class=\"dataframe\">\n  <thead>\n    <tr style=\"text-align: right;\">\n      <th></th>\n      <th>encounter_id</th>\n      <th>patient_nbr</th>\n      <th>readmitted</th>\n      <th>weight_is_bad</th>\n      <th>weight_lev__NA_</th>\n      <th>weight_logit_code</th>\n      <th>weight_prevalence_code</th>\n    </tr>\n  </thead>\n  <tbody>\n    <tr>\n      <th>0</th>\n      <td>2278392</td>\n      <td>8222157</td>\n      <td>False</td>\n      <td>1.0</td>\n      <td>1.0</td>\n      <td>NaN</td>\n      <td>NaN</td>\n    </tr>\n    <tr>\n      <th>1</th>\n      <td>64410</td>\n      <td>86047875</td>\n      <td>False</td>\n      <td>1.0</td>\n      <td>1.0</td>\n      <td>NaN</td>\n      <td>NaN</td>\n    </tr>\n    <tr>\n      <th>2</th>\n      <td>500364</td>\n      <td>82442376</td>\n      <td>False</td>\n      <td>1.0</td>\n      <td>1.0</td>\n      <td>NaN</td>\n      <td>NaN</td>\n    </tr>\n    <tr>\n      <th>3</th>\n      <td>35754</td>\n      <td>82637451</td>\n      <td>False</td>\n      <td>1.0</td>\n      <td>1.0</td>\n      <td>NaN</td>\n      <td>NaN</td>\n    </tr>\n    <tr>\n      <th>4</th>\n      <td>55842</td>\n      <td>84259809</td>\n      <td>False</td>\n      <td>1.0</td>\n      <td>1.0</td>\n      <td>NaN</td>\n      <td>NaN</td>\n    </tr>\n    <tr>\n      <th>...</th>\n      <td>...</td>\n      <td>...</td>\n      <td>...</td>\n      <td>...</td>\n      <td>...</td>\n      <td>...</td>\n      <td>...</td>\n    </tr>\n    <tr>\n      <th>995</th>\n      <td>8860284</td>\n      <td>94419315</td>\n      <td>False</td>\n      <td>1.0</td>\n      <td>1.0</td>\n      <td>NaN</td>\n      <td>NaN</td>\n    </tr>\n    <tr>\n      <th>996</th>\n      <td>8860944</td>\n      <td>338247</td>\n      <td>False</td>\n      <td>1.0</td>\n      <td>1.0</td>\n      <td>NaN</td>\n      <td>NaN</td>\n    </tr>\n    <tr>\n      <th>997</th>\n      <td>8864718</td>\n      <td>695439</td>\n      <td>False</td>\n      <td>1.0</td>\n      <td>1.0</td>\n      <td>NaN</td>\n      <td>NaN</td>\n    </tr>\n    <tr>\n      <th>998</th>\n      <td>8866632</td>\n      <td>103586670</td>\n      <td>False</td>\n      <td>0.0</td>\n      <td>0.0</td>\n      <td>NaN</td>\n      <td>NaN</td>\n    </tr>\n    <tr>\n      <th>999</th>\n      <td>8867106</td>\n      <td>4988970</td>\n      <td>False</td>\n      <td>1.0</td>\n      <td>1.0</td>\n      <td>NaN</td>\n      <td>NaN</td>\n    </tr>\n  </tbody>\n</table>\n<p>1000 rows × 7 columns</p>\n</div>"
     },
     "execution_count": 6,
     "metadata": {},
     "output_type": "execute_result"
    }
   ],
   "source": [
    "transformed = ops.eval({'data': data.loc[:, columns], 'transform_as_data': transform_as_data})\n",
    "\n",
    "transformed"
   ],
   "metadata": {
    "collapsed": false,
    "pycharm": {
     "name": "#%%\n"
    }
   }
  },
  {
   "cell_type": "code",
   "execution_count": 7,
   "outputs": [
    {
     "name": "stdout",
     "output_type": "stream",
     "text": [
      "-- data_algebra SQL https://github.com/WinVector/data_algebra\n",
      "--  dialect: SQLiteModel\n",
      "--       string quote: '\n",
      "--   identifier quote: \"\n",
      "WITH\n",
      " \"extend_0\" AS (\n",
      "  SELECT  -- .extend({ 'weight_is_bad': '(weight.is_bad()).if_else(1.0, 0.0)', 'weight_lev__NA_': \"(weight.coalesce('_NA_') == '_NA_').if_else(1.0, 0.0)\", 'vtreat_join_key': \"weight.coalesce('_NA_')\"})\n",
      "   \"weight\" ,\n",
      "   \"patient_nbr\" ,\n",
      "   \"encounter_id\" ,\n",
      "   \"readmitted\" ,\n",
      "   CASE WHEN is_bad(\"weight\") THEN 1.0 WHEN NOT is_bad(\"weight\") THEN 0.0 ELSE NULL END AS \"weight_is_bad\" ,\n",
      "   CASE WHEN (COALESCE(\"weight\", '_NA_') = '_NA_') THEN 1.0 WHEN NOT (COALESCE(\"weight\", '_NA_') = '_NA_') THEN 0.0 ELSE NULL END AS \"weight_lev__NA_\" ,\n",
      "   COALESCE(\"weight\", '_NA_') AS \"vtreat_join_key\"\n",
      "  FROM\n",
      "   \"data\"\n",
      " ) ,\n",
      " \"table_reference_1\" AS (\n",
      "  SELECT\n",
      "   \"variable\" ,\n",
      "   \"replacement\" ,\n",
      "   \"orig_var\" ,\n",
      "   \"treatment_class\"\n",
      "  FROM\n",
      "   \"transform_as_data\"\n",
      " ) ,\n",
      " \"select_rows_2\" AS (\n",
      "  SELECT  -- .select_rows(\"(treatment_class == 'MappedCodeTransform') and (orig_var == 'weight') and (variable == 'weight_logit_code')\")\n",
      "   \"variable\" ,\n",
      "   \"replacement\"\n",
      "  FROM\n",
      "   \"table_reference_1\"\n",
      "  WHERE\n",
      "   (\"treatment_class\" = 'MappedCodeTransform') AND (\"orig_var\" = 'weight') AND (\"variable\" = 'weight_logit_code')\n",
      " ) ,\n",
      " \"extend_3\" AS (\n",
      "  SELECT  -- .extend({ 'vtreat_join_key': 'variable', 'weight_logit_code': 'replacement'})\n",
      "   \"variable\" AS \"vtreat_join_key\" ,\n",
      "   \"replacement\" AS \"weight_logit_code\"\n",
      "  FROM\n",
      "   \"select_rows_2\"\n",
      " ) ,\n",
      " \"natural_join_4\" AS (\n",
      "  SELECT  -- _0..natural_join(b= _1, by=['vtreat_join_key'], jointype='LEFT')\n",
      "   \"weight_is_bad\" ,\n",
      "   \"weight\" ,\n",
      "   \"weight_lev__NA_\" ,\n",
      "   \"patient_nbr\" ,\n",
      "   \"encounter_id\" ,\n",
      "   \"readmitted\" ,\n",
      "   \"weight_logit_code\"\n",
      "  FROM\n",
      "  (\n",
      "   \"extend_0\"\n",
      "  LEFT JOIN\n",
      "   \"extend_3\"\n",
      "  ON\n",
      "   \"extend_0\".\"vtreat_join_key\" = \"extend_3\".\"vtreat_join_key\"\n",
      "  )\n",
      " ) ,\n",
      " \"extend_5\" AS (\n",
      "  SELECT  -- .extend({ 'vtreat_join_key': \"weight.coalesce('_NA_')\"})\n",
      "   \"weight_is_bad\" ,\n",
      "   \"weight_lev__NA_\" ,\n",
      "   \"patient_nbr\" ,\n",
      "   \"encounter_id\" ,\n",
      "   \"weight_logit_code\" ,\n",
      "   \"readmitted\" ,\n",
      "   COALESCE(\"weight\", '_NA_') AS \"vtreat_join_key\"\n",
      "  FROM\n",
      "   \"natural_join_4\"\n",
      " ) ,\n",
      " \"table_reference_6\" AS (\n",
      "  SELECT\n",
      "   \"variable\" ,\n",
      "   \"replacement\" ,\n",
      "   \"orig_var\" ,\n",
      "   \"treatment_class\"\n",
      "  FROM\n",
      "   \"transform_as_data\"\n",
      " ) ,\n",
      " \"select_rows_7\" AS (\n",
      "  SELECT  -- .select_rows(\"(treatment_class == 'MappedCodeTransform') and (orig_var == 'weight') and (variable == 'weight_prevalence_code')\")\n",
      "   \"variable\" ,\n",
      "   \"replacement\"\n",
      "  FROM\n",
      "   \"table_reference_6\"\n",
      "  WHERE\n",
      "   (\"treatment_class\" = 'MappedCodeTransform') AND (\"orig_var\" = 'weight') AND (\"variable\" = 'weight_prevalence_code')\n",
      " ) ,\n",
      " \"extend_8\" AS (\n",
      "  SELECT  -- .extend({ 'vtreat_join_key': 'variable', 'weight_prevalence_code': 'replacement'})\n",
      "   \"variable\" AS \"vtreat_join_key\" ,\n",
      "   \"replacement\" AS \"weight_prevalence_code\"\n",
      "  FROM\n",
      "   \"select_rows_7\"\n",
      " )\n",
      "SELECT  -- _0..natural_join(b= _1, by=['vtreat_join_key'], jointype='LEFT')\n",
      " \"weight_is_bad\" ,\n",
      " \"weight_lev__NA_\" ,\n",
      " \"patient_nbr\" ,\n",
      " \"encounter_id\" ,\n",
      " \"weight_logit_code\" ,\n",
      " \"readmitted\" ,\n",
      " \"weight_prevalence_code\"\n",
      "FROM\n",
      "(\n",
      " \"extend_5\"\n",
      "LEFT JOIN\n",
      " \"extend_8\"\n",
      "ON\n",
      " \"extend_5\".\"vtreat_join_key\" = \"extend_8\".\"vtreat_join_key\"\n",
      ")\n",
      "\n"
     ]
    }
   ],
   "source": [
    "db_model = data_algebra.SQLite.SQLiteModel()\n",
    "\n",
    "sql = db_model.to_sql(ops)\n",
    "print(sql)\n"
   ],
   "metadata": {
    "collapsed": false,
    "pycharm": {
     "name": "#%%\n"
    }
   }
  }
 ],
 "metadata": {
  "kernelspec": {
   "display_name": "Python 3",
   "language": "python",
   "name": "python3"
  },
  "language_info": {
   "codemirror_mode": {
    "name": "ipython",
    "version": 2
   },
   "file_extension": ".py",
   "mimetype": "text/x-python",
   "name": "python",
   "nbconvert_exporter": "python",
   "pygments_lexer": "ipython2",
   "version": "2.7.6"
  }
 },
 "nbformat": 4,
 "nbformat_minor": 0
}