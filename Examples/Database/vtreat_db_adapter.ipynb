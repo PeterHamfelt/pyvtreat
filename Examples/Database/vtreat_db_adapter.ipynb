{
 "cells": [
  {
   "cell_type": "markdown",
   "metadata": {
    "collapsed": true,
    "pycharm": {
     "name": "#%% md\n"
    }
   },
   "source": [
    "A demonstration of converting a [Python vtreat](https://github.com/WinVector/vtreat) transformation into a [data algebra](https://github.com/WinVector/data_algebra) pipeline, which can then in turn be converted to SQL queries.\n",
    "[R vtreat](https://winvector.github.io/vtreat/) already has similar functionality with [as_rquery_plan()](https://winvector.github.io/vtreat/reference/as_rquery_plan.html).\n",
    "\n",
    "Let's demonstrate this with a simple problem.\n",
    "\n",
    "First we import our modules."
   ]
  },
  {
   "cell_type": "code",
   "execution_count": 11,
   "outputs": [],
   "source": [
    "import pandas as pd\n",
    "\n",
    "from data_algebra.data_ops import *\n",
    "import data_algebra.SQLite\n",
    "import vtreat\n",
    "from vtreat_db_adapter import as_data_algebra_pipeline"
   ],
   "metadata": {
    "collapsed": false,
    "pycharm": {
     "name": "#%%\n"
    }
   }
  },
  {
   "cell_type": "code",
   "execution_count": 12,
   "outputs": [
    {
     "data": {
      "text/plain": "     encounter_id  patient_nbr             race  gender      age     weight  \\\n0         2278392      8222157        Caucasian  Female   [0-10)        NaN   \n1           64410     86047875  AfricanAmerican  Female  [20-30)        NaN   \n2          500364     82442376        Caucasian    Male  [30-40)        NaN   \n3           35754     82637451        Caucasian    Male  [50-60)        NaN   \n4           55842     84259809        Caucasian    Male  [60-70)        NaN   \n..            ...          ...              ...     ...      ...        ...   \n995       8860284     94419315         Hispanic    Male  [50-60)        NaN   \n996       8860944       338247        Caucasian  Female  [60-70)        NaN   \n997       8864718       695439        Caucasian    Male  [70-80)        NaN   \n998       8866632    103586670        Caucasian    Male  [70-80)  [100-125)   \n999       8867106      4988970        Caucasian  Female  [60-70)        NaN   \n\n     admission_type_id  discharge_disposition_id  admission_source_id  \\\n0                    6                        25                    1   \n1                    1                         1                    7   \n2                    1                         1                    7   \n3                    2                         1                    2   \n4                    3                         1                    2   \n..                 ...                       ...                  ...   \n995                  6                         1                   17   \n996                  1                         1                    7   \n997                  1                         1                    7   \n998                  6                         1                   17   \n999                  1                         1                    7   \n\n     time_in_hospital  ...  glipizide-metformin glimepiride-pioglitazone  \\\n0                   1  ...                   No                       No   \n1                   2  ...                   No                       No   \n2                   2  ...                   No                       No   \n3                   3  ...                   No                       No   \n4                   4  ...                   No                       No   \n..                ...  ...                  ...                      ...   \n995                 3  ...                   No                       No   \n996                 4  ...                   No                       No   \n997                 1  ...                   No                       No   \n998                 6  ...                   No                       No   \n999                 9  ...                   No                       No   \n\n     metformin-rosiglitazone  metformin-pioglitazone  change  diabetesMed  \\\n0                         No                      No      No           No   \n1                         No                      No      No          Yes   \n2                         No                      No      Ch          Yes   \n3                         No                      No      No          Yes   \n4                         No                      No      Ch          Yes   \n..                       ...                     ...     ...          ...   \n995                       No                      No      Ch          Yes   \n996                       No                      No      No          Yes   \n997                       No                      No      No          Yes   \n998                       No                      No      No          Yes   \n999                       No                      No      Ch          Yes   \n\n     readmitted  visit_number revisit orig_index  \n0         False             1   False          0  \n1         False             1   False          1  \n2         False             1   False          2  \n3         False             1   False          3  \n4         False             1   False          4  \n..          ...           ...     ...        ...  \n995       False             1   False        995  \n996       False             2    True        996  \n997       False             1   False        997  \n998       False             1   False        998  \n999       False             1   False        999  \n\n[1000 rows x 53 columns]",
      "text/html": "<div>\n<style scoped>\n    .dataframe tbody tr th:only-of-type {\n        vertical-align: middle;\n    }\n\n    .dataframe tbody tr th {\n        vertical-align: top;\n    }\n\n    .dataframe thead th {\n        text-align: right;\n    }\n</style>\n<table border=\"1\" class=\"dataframe\">\n  <thead>\n    <tr style=\"text-align: right;\">\n      <th></th>\n      <th>encounter_id</th>\n      <th>patient_nbr</th>\n      <th>race</th>\n      <th>gender</th>\n      <th>age</th>\n      <th>weight</th>\n      <th>admission_type_id</th>\n      <th>discharge_disposition_id</th>\n      <th>admission_source_id</th>\n      <th>time_in_hospital</th>\n      <th>...</th>\n      <th>glipizide-metformin</th>\n      <th>glimepiride-pioglitazone</th>\n      <th>metformin-rosiglitazone</th>\n      <th>metformin-pioglitazone</th>\n      <th>change</th>\n      <th>diabetesMed</th>\n      <th>readmitted</th>\n      <th>visit_number</th>\n      <th>revisit</th>\n      <th>orig_index</th>\n    </tr>\n  </thead>\n  <tbody>\n    <tr>\n      <th>0</th>\n      <td>2278392</td>\n      <td>8222157</td>\n      <td>Caucasian</td>\n      <td>Female</td>\n      <td>[0-10)</td>\n      <td>NaN</td>\n      <td>6</td>\n      <td>25</td>\n      <td>1</td>\n      <td>1</td>\n      <td>...</td>\n      <td>No</td>\n      <td>No</td>\n      <td>No</td>\n      <td>No</td>\n      <td>No</td>\n      <td>No</td>\n      <td>False</td>\n      <td>1</td>\n      <td>False</td>\n      <td>0</td>\n    </tr>\n    <tr>\n      <th>1</th>\n      <td>64410</td>\n      <td>86047875</td>\n      <td>AfricanAmerican</td>\n      <td>Female</td>\n      <td>[20-30)</td>\n      <td>NaN</td>\n      <td>1</td>\n      <td>1</td>\n      <td>7</td>\n      <td>2</td>\n      <td>...</td>\n      <td>No</td>\n      <td>No</td>\n      <td>No</td>\n      <td>No</td>\n      <td>No</td>\n      <td>Yes</td>\n      <td>False</td>\n      <td>1</td>\n      <td>False</td>\n      <td>1</td>\n    </tr>\n    <tr>\n      <th>2</th>\n      <td>500364</td>\n      <td>82442376</td>\n      <td>Caucasian</td>\n      <td>Male</td>\n      <td>[30-40)</td>\n      <td>NaN</td>\n      <td>1</td>\n      <td>1</td>\n      <td>7</td>\n      <td>2</td>\n      <td>...</td>\n      <td>No</td>\n      <td>No</td>\n      <td>No</td>\n      <td>No</td>\n      <td>Ch</td>\n      <td>Yes</td>\n      <td>False</td>\n      <td>1</td>\n      <td>False</td>\n      <td>2</td>\n    </tr>\n    <tr>\n      <th>3</th>\n      <td>35754</td>\n      <td>82637451</td>\n      <td>Caucasian</td>\n      <td>Male</td>\n      <td>[50-60)</td>\n      <td>NaN</td>\n      <td>2</td>\n      <td>1</td>\n      <td>2</td>\n      <td>3</td>\n      <td>...</td>\n      <td>No</td>\n      <td>No</td>\n      <td>No</td>\n      <td>No</td>\n      <td>No</td>\n      <td>Yes</td>\n      <td>False</td>\n      <td>1</td>\n      <td>False</td>\n      <td>3</td>\n    </tr>\n    <tr>\n      <th>4</th>\n      <td>55842</td>\n      <td>84259809</td>\n      <td>Caucasian</td>\n      <td>Male</td>\n      <td>[60-70)</td>\n      <td>NaN</td>\n      <td>3</td>\n      <td>1</td>\n      <td>2</td>\n      <td>4</td>\n      <td>...</td>\n      <td>No</td>\n      <td>No</td>\n      <td>No</td>\n      <td>No</td>\n      <td>Ch</td>\n      <td>Yes</td>\n      <td>False</td>\n      <td>1</td>\n      <td>False</td>\n      <td>4</td>\n    </tr>\n    <tr>\n      <th>...</th>\n      <td>...</td>\n      <td>...</td>\n      <td>...</td>\n      <td>...</td>\n      <td>...</td>\n      <td>...</td>\n      <td>...</td>\n      <td>...</td>\n      <td>...</td>\n      <td>...</td>\n      <td>...</td>\n      <td>...</td>\n      <td>...</td>\n      <td>...</td>\n      <td>...</td>\n      <td>...</td>\n      <td>...</td>\n      <td>...</td>\n      <td>...</td>\n      <td>...</td>\n      <td>...</td>\n    </tr>\n    <tr>\n      <th>995</th>\n      <td>8860284</td>\n      <td>94419315</td>\n      <td>Hispanic</td>\n      <td>Male</td>\n      <td>[50-60)</td>\n      <td>NaN</td>\n      <td>6</td>\n      <td>1</td>\n      <td>17</td>\n      <td>3</td>\n      <td>...</td>\n      <td>No</td>\n      <td>No</td>\n      <td>No</td>\n      <td>No</td>\n      <td>Ch</td>\n      <td>Yes</td>\n      <td>False</td>\n      <td>1</td>\n      <td>False</td>\n      <td>995</td>\n    </tr>\n    <tr>\n      <th>996</th>\n      <td>8860944</td>\n      <td>338247</td>\n      <td>Caucasian</td>\n      <td>Female</td>\n      <td>[60-70)</td>\n      <td>NaN</td>\n      <td>1</td>\n      <td>1</td>\n      <td>7</td>\n      <td>4</td>\n      <td>...</td>\n      <td>No</td>\n      <td>No</td>\n      <td>No</td>\n      <td>No</td>\n      <td>No</td>\n      <td>Yes</td>\n      <td>False</td>\n      <td>2</td>\n      <td>True</td>\n      <td>996</td>\n    </tr>\n    <tr>\n      <th>997</th>\n      <td>8864718</td>\n      <td>695439</td>\n      <td>Caucasian</td>\n      <td>Male</td>\n      <td>[70-80)</td>\n      <td>NaN</td>\n      <td>1</td>\n      <td>1</td>\n      <td>7</td>\n      <td>1</td>\n      <td>...</td>\n      <td>No</td>\n      <td>No</td>\n      <td>No</td>\n      <td>No</td>\n      <td>No</td>\n      <td>Yes</td>\n      <td>False</td>\n      <td>1</td>\n      <td>False</td>\n      <td>997</td>\n    </tr>\n    <tr>\n      <th>998</th>\n      <td>8866632</td>\n      <td>103586670</td>\n      <td>Caucasian</td>\n      <td>Male</td>\n      <td>[70-80)</td>\n      <td>[100-125)</td>\n      <td>6</td>\n      <td>1</td>\n      <td>17</td>\n      <td>6</td>\n      <td>...</td>\n      <td>No</td>\n      <td>No</td>\n      <td>No</td>\n      <td>No</td>\n      <td>No</td>\n      <td>Yes</td>\n      <td>False</td>\n      <td>1</td>\n      <td>False</td>\n      <td>998</td>\n    </tr>\n    <tr>\n      <th>999</th>\n      <td>8867106</td>\n      <td>4988970</td>\n      <td>Caucasian</td>\n      <td>Female</td>\n      <td>[60-70)</td>\n      <td>NaN</td>\n      <td>1</td>\n      <td>1</td>\n      <td>7</td>\n      <td>9</td>\n      <td>...</td>\n      <td>No</td>\n      <td>No</td>\n      <td>No</td>\n      <td>No</td>\n      <td>Ch</td>\n      <td>Yes</td>\n      <td>False</td>\n      <td>1</td>\n      <td>False</td>\n      <td>999</td>\n    </tr>\n  </tbody>\n</table>\n<p>1000 rows × 53 columns</p>\n</div>"
     },
     "execution_count": 2,
     "metadata": {},
     "output_type": "execute_result"
    },
    {
     "data": {
      "text/plain": "     encounter_id  patient_nbr             race  gender      age     weight  \\\n0         2278392      8222157        Caucasian  Female   [0-10)        NaN   \n1           64410     86047875  AfricanAmerican  Female  [20-30)        NaN   \n2          500364     82442376        Caucasian    Male  [30-40)        NaN   \n3           35754     82637451        Caucasian    Male  [50-60)        NaN   \n4           55842     84259809        Caucasian    Male  [60-70)        NaN   \n..            ...          ...              ...     ...      ...        ...   \n995       8860284     94419315         Hispanic    Male  [50-60)        NaN   \n996       8860944       338247        Caucasian  Female  [60-70)        NaN   \n997       8864718       695439        Caucasian    Male  [70-80)        NaN   \n998       8866632    103586670        Caucasian    Male  [70-80)  [100-125)   \n999       8867106      4988970        Caucasian  Female  [60-70)        NaN   \n\n     admission_type_id  discharge_disposition_id  admission_source_id  \\\n0                    6                        25                    1   \n1                    1                         1                    7   \n2                    1                         1                    7   \n3                    2                         1                    2   \n4                    3                         1                    2   \n..                 ...                       ...                  ...   \n995                  6                         1                   17   \n996                  1                         1                    7   \n997                  1                         1                    7   \n998                  6                         1                   17   \n999                  1                         1                    7   \n\n     time_in_hospital  ...  glipizide-metformin glimepiride-pioglitazone  \\\n0                   1  ...                   No                       No   \n1                   2  ...                   No                       No   \n2                   2  ...                   No                       No   \n3                   3  ...                   No                       No   \n4                   4  ...                   No                       No   \n..                ...  ...                  ...                      ...   \n995                 3  ...                   No                       No   \n996                 4  ...                   No                       No   \n997                 1  ...                   No                       No   \n998                 6  ...                   No                       No   \n999                 9  ...                   No                       No   \n\n     metformin-rosiglitazone  metformin-pioglitazone  change  diabetesMed  \\\n0                         No                      No      No           No   \n1                         No                      No      No          Yes   \n2                         No                      No      Ch          Yes   \n3                         No                      No      No          Yes   \n4                         No                      No      Ch          Yes   \n..                       ...                     ...     ...          ...   \n995                       No                      No      Ch          Yes   \n996                       No                      No      No          Yes   \n997                       No                      No      No          Yes   \n998                       No                      No      No          Yes   \n999                       No                      No      Ch          Yes   \n\n     readmitted  visit_number revisit orig_index  \n0         False             1   False          0  \n1         False             1   False          1  \n2         False             1   False          2  \n3         False             1   False          3  \n4         False             1   False          4  \n..          ...           ...     ...        ...  \n995       False             1   False        995  \n996       False             2    True        996  \n997       False             1   False        997  \n998       False             1   False        998  \n999       False             1   False        999  \n\n[1000 rows x 53 columns]",
      "text/html": "<div>\n<style scoped>\n    .dataframe tbody tr th:only-of-type {\n        vertical-align: middle;\n    }\n\n    .dataframe tbody tr th {\n        vertical-align: top;\n    }\n\n    .dataframe thead th {\n        text-align: right;\n    }\n</style>\n<table border=\"1\" class=\"dataframe\">\n  <thead>\n    <tr style=\"text-align: right;\">\n      <th></th>\n      <th>encounter_id</th>\n      <th>patient_nbr</th>\n      <th>race</th>\n      <th>gender</th>\n      <th>age</th>\n      <th>weight</th>\n      <th>admission_type_id</th>\n      <th>discharge_disposition_id</th>\n      <th>admission_source_id</th>\n      <th>time_in_hospital</th>\n      <th>...</th>\n      <th>glipizide-metformin</th>\n      <th>glimepiride-pioglitazone</th>\n      <th>metformin-rosiglitazone</th>\n      <th>metformin-pioglitazone</th>\n      <th>change</th>\n      <th>diabetesMed</th>\n      <th>readmitted</th>\n      <th>visit_number</th>\n      <th>revisit</th>\n      <th>orig_index</th>\n    </tr>\n  </thead>\n  <tbody>\n    <tr>\n      <th>0</th>\n      <td>2278392</td>\n      <td>8222157</td>\n      <td>Caucasian</td>\n      <td>Female</td>\n      <td>[0-10)</td>\n      <td>NaN</td>\n      <td>6</td>\n      <td>25</td>\n      <td>1</td>\n      <td>1</td>\n      <td>...</td>\n      <td>No</td>\n      <td>No</td>\n      <td>No</td>\n      <td>No</td>\n      <td>No</td>\n      <td>No</td>\n      <td>False</td>\n      <td>1</td>\n      <td>False</td>\n      <td>0</td>\n    </tr>\n    <tr>\n      <th>1</th>\n      <td>64410</td>\n      <td>86047875</td>\n      <td>AfricanAmerican</td>\n      <td>Female</td>\n      <td>[20-30)</td>\n      <td>NaN</td>\n      <td>1</td>\n      <td>1</td>\n      <td>7</td>\n      <td>2</td>\n      <td>...</td>\n      <td>No</td>\n      <td>No</td>\n      <td>No</td>\n      <td>No</td>\n      <td>No</td>\n      <td>Yes</td>\n      <td>False</td>\n      <td>1</td>\n      <td>False</td>\n      <td>1</td>\n    </tr>\n    <tr>\n      <th>2</th>\n      <td>500364</td>\n      <td>82442376</td>\n      <td>Caucasian</td>\n      <td>Male</td>\n      <td>[30-40)</td>\n      <td>NaN</td>\n      <td>1</td>\n      <td>1</td>\n      <td>7</td>\n      <td>2</td>\n      <td>...</td>\n      <td>No</td>\n      <td>No</td>\n      <td>No</td>\n      <td>No</td>\n      <td>Ch</td>\n      <td>Yes</td>\n      <td>False</td>\n      <td>1</td>\n      <td>False</td>\n      <td>2</td>\n    </tr>\n    <tr>\n      <th>3</th>\n      <td>35754</td>\n      <td>82637451</td>\n      <td>Caucasian</td>\n      <td>Male</td>\n      <td>[50-60)</td>\n      <td>NaN</td>\n      <td>2</td>\n      <td>1</td>\n      <td>2</td>\n      <td>3</td>\n      <td>...</td>\n      <td>No</td>\n      <td>No</td>\n      <td>No</td>\n      <td>No</td>\n      <td>No</td>\n      <td>Yes</td>\n      <td>False</td>\n      <td>1</td>\n      <td>False</td>\n      <td>3</td>\n    </tr>\n    <tr>\n      <th>4</th>\n      <td>55842</td>\n      <td>84259809</td>\n      <td>Caucasian</td>\n      <td>Male</td>\n      <td>[60-70)</td>\n      <td>NaN</td>\n      <td>3</td>\n      <td>1</td>\n      <td>2</td>\n      <td>4</td>\n      <td>...</td>\n      <td>No</td>\n      <td>No</td>\n      <td>No</td>\n      <td>No</td>\n      <td>Ch</td>\n      <td>Yes</td>\n      <td>False</td>\n      <td>1</td>\n      <td>False</td>\n      <td>4</td>\n    </tr>\n    <tr>\n      <th>...</th>\n      <td>...</td>\n      <td>...</td>\n      <td>...</td>\n      <td>...</td>\n      <td>...</td>\n      <td>...</td>\n      <td>...</td>\n      <td>...</td>\n      <td>...</td>\n      <td>...</td>\n      <td>...</td>\n      <td>...</td>\n      <td>...</td>\n      <td>...</td>\n      <td>...</td>\n      <td>...</td>\n      <td>...</td>\n      <td>...</td>\n      <td>...</td>\n      <td>...</td>\n      <td>...</td>\n    </tr>\n    <tr>\n      <th>995</th>\n      <td>8860284</td>\n      <td>94419315</td>\n      <td>Hispanic</td>\n      <td>Male</td>\n      <td>[50-60)</td>\n      <td>NaN</td>\n      <td>6</td>\n      <td>1</td>\n      <td>17</td>\n      <td>3</td>\n      <td>...</td>\n      <td>No</td>\n      <td>No</td>\n      <td>No</td>\n      <td>No</td>\n      <td>Ch</td>\n      <td>Yes</td>\n      <td>False</td>\n      <td>1</td>\n      <td>False</td>\n      <td>995</td>\n    </tr>\n    <tr>\n      <th>996</th>\n      <td>8860944</td>\n      <td>338247</td>\n      <td>Caucasian</td>\n      <td>Female</td>\n      <td>[60-70)</td>\n      <td>NaN</td>\n      <td>1</td>\n      <td>1</td>\n      <td>7</td>\n      <td>4</td>\n      <td>...</td>\n      <td>No</td>\n      <td>No</td>\n      <td>No</td>\n      <td>No</td>\n      <td>No</td>\n      <td>Yes</td>\n      <td>False</td>\n      <td>2</td>\n      <td>True</td>\n      <td>996</td>\n    </tr>\n    <tr>\n      <th>997</th>\n      <td>8864718</td>\n      <td>695439</td>\n      <td>Caucasian</td>\n      <td>Male</td>\n      <td>[70-80)</td>\n      <td>NaN</td>\n      <td>1</td>\n      <td>1</td>\n      <td>7</td>\n      <td>1</td>\n      <td>...</td>\n      <td>No</td>\n      <td>No</td>\n      <td>No</td>\n      <td>No</td>\n      <td>No</td>\n      <td>Yes</td>\n      <td>False</td>\n      <td>1</td>\n      <td>False</td>\n      <td>997</td>\n    </tr>\n    <tr>\n      <th>998</th>\n      <td>8866632</td>\n      <td>103586670</td>\n      <td>Caucasian</td>\n      <td>Male</td>\n      <td>[70-80)</td>\n      <td>[100-125)</td>\n      <td>6</td>\n      <td>1</td>\n      <td>17</td>\n      <td>6</td>\n      <td>...</td>\n      <td>No</td>\n      <td>No</td>\n      <td>No</td>\n      <td>No</td>\n      <td>No</td>\n      <td>Yes</td>\n      <td>False</td>\n      <td>1</td>\n      <td>False</td>\n      <td>998</td>\n    </tr>\n    <tr>\n      <th>999</th>\n      <td>8867106</td>\n      <td>4988970</td>\n      <td>Caucasian</td>\n      <td>Female</td>\n      <td>[60-70)</td>\n      <td>NaN</td>\n      <td>1</td>\n      <td>1</td>\n      <td>7</td>\n      <td>9</td>\n      <td>...</td>\n      <td>No</td>\n      <td>No</td>\n      <td>No</td>\n      <td>No</td>\n      <td>Ch</td>\n      <td>Yes</td>\n      <td>False</td>\n      <td>1</td>\n      <td>False</td>\n      <td>999</td>\n    </tr>\n  </tbody>\n</table>\n<p>1000 rows × 53 columns</p>\n</div>"
     },
     "execution_count": 12,
     "metadata": {},
     "output_type": "execute_result"
    }
   ],
   "source": [
    "# Data from:\n",
    "# https://archive.ics.uci.edu/ml/datasets/Diabetes+130-US+hospitals+for+years+1999-2008\n",
    "\n",
    "data = pd.read_csv(\"diabetes_head.csv\")\n",
    "n = data.shape[0]\n",
    "data['orig_index'] = range(n)\n",
    "\n",
    "data\n"
   ],
   "metadata": {
    "collapsed": false,
    "pycharm": {
     "name": "#%%\n"
    }
   }
  },
  {
   "cell_type": "code",
   "execution_count": 13,
   "outputs": [
    {
     "data": {
      "text/plain": "     time_in_hospital     weight  orig_index  encounter_id  patient_nbr  \\\n0                   1        NaN           0       2278392      8222157   \n1                   2        NaN           1         64410     86047875   \n2                   2        NaN           2        500364     82442376   \n3                   3        NaN           3         35754     82637451   \n4                   4        NaN           4         55842     84259809   \n..                ...        ...         ...           ...          ...   \n995                 3        NaN         995       8860284     94419315   \n996                 4        NaN         996       8860944       338247   \n997                 1        NaN         997       8864718       695439   \n998                 6  [100-125)         998       8866632    103586670   \n999                 9        NaN         999       8867106      4988970   \n\n     readmitted  \n0         False  \n1         False  \n2         False  \n3         False  \n4         False  \n..          ...  \n995       False  \n996       False  \n997       False  \n998       False  \n999       False  \n\n[1000 rows x 6 columns]",
      "text/html": "<div>\n<style scoped>\n    .dataframe tbody tr th:only-of-type {\n        vertical-align: middle;\n    }\n\n    .dataframe tbody tr th {\n        vertical-align: top;\n    }\n\n    .dataframe thead th {\n        text-align: right;\n    }\n</style>\n<table border=\"1\" class=\"dataframe\">\n  <thead>\n    <tr style=\"text-align: right;\">\n      <th></th>\n      <th>time_in_hospital</th>\n      <th>weight</th>\n      <th>orig_index</th>\n      <th>encounter_id</th>\n      <th>patient_nbr</th>\n      <th>readmitted</th>\n    </tr>\n  </thead>\n  <tbody>\n    <tr>\n      <th>0</th>\n      <td>1</td>\n      <td>NaN</td>\n      <td>0</td>\n      <td>2278392</td>\n      <td>8222157</td>\n      <td>False</td>\n    </tr>\n    <tr>\n      <th>1</th>\n      <td>2</td>\n      <td>NaN</td>\n      <td>1</td>\n      <td>64410</td>\n      <td>86047875</td>\n      <td>False</td>\n    </tr>\n    <tr>\n      <th>2</th>\n      <td>2</td>\n      <td>NaN</td>\n      <td>2</td>\n      <td>500364</td>\n      <td>82442376</td>\n      <td>False</td>\n    </tr>\n    <tr>\n      <th>3</th>\n      <td>3</td>\n      <td>NaN</td>\n      <td>3</td>\n      <td>35754</td>\n      <td>82637451</td>\n      <td>False</td>\n    </tr>\n    <tr>\n      <th>4</th>\n      <td>4</td>\n      <td>NaN</td>\n      <td>4</td>\n      <td>55842</td>\n      <td>84259809</td>\n      <td>False</td>\n    </tr>\n    <tr>\n      <th>...</th>\n      <td>...</td>\n      <td>...</td>\n      <td>...</td>\n      <td>...</td>\n      <td>...</td>\n      <td>...</td>\n    </tr>\n    <tr>\n      <th>995</th>\n      <td>3</td>\n      <td>NaN</td>\n      <td>995</td>\n      <td>8860284</td>\n      <td>94419315</td>\n      <td>False</td>\n    </tr>\n    <tr>\n      <th>996</th>\n      <td>4</td>\n      <td>NaN</td>\n      <td>996</td>\n      <td>8860944</td>\n      <td>338247</td>\n      <td>False</td>\n    </tr>\n    <tr>\n      <th>997</th>\n      <td>1</td>\n      <td>NaN</td>\n      <td>997</td>\n      <td>8864718</td>\n      <td>695439</td>\n      <td>False</td>\n    </tr>\n    <tr>\n      <th>998</th>\n      <td>6</td>\n      <td>[100-125)</td>\n      <td>998</td>\n      <td>8866632</td>\n      <td>103586670</td>\n      <td>False</td>\n    </tr>\n    <tr>\n      <th>999</th>\n      <td>9</td>\n      <td>NaN</td>\n      <td>999</td>\n      <td>8867106</td>\n      <td>4988970</td>\n      <td>False</td>\n    </tr>\n  </tbody>\n</table>\n<p>1000 rows × 6 columns</p>\n</div>"
     },
     "execution_count": 3,
     "metadata": {},
     "output_type": "execute_result"
    },
    {
     "data": {
      "text/plain": "     time_in_hospital     weight  orig_index  encounter_id  patient_nbr  \\\n0                   1        NaN           0       2278392      8222157   \n1                   2        NaN           1         64410     86047875   \n2                   2        NaN           2        500364     82442376   \n3                   3        NaN           3         35754     82637451   \n4                   4        NaN           4         55842     84259809   \n..                ...        ...         ...           ...          ...   \n995                 3        NaN         995       8860284     94419315   \n996                 4        NaN         996       8860944       338247   \n997                 1        NaN         997       8864718       695439   \n998                 6  [100-125)         998       8866632    103586670   \n999                 9        NaN         999       8867106      4988970   \n\n     readmitted  \n0         False  \n1         False  \n2         False  \n3         False  \n4         False  \n..          ...  \n995       False  \n996       False  \n997       False  \n998       False  \n999       False  \n\n[1000 rows x 6 columns]",
      "text/html": "<div>\n<style scoped>\n    .dataframe tbody tr th:only-of-type {\n        vertical-align: middle;\n    }\n\n    .dataframe tbody tr th {\n        vertical-align: top;\n    }\n\n    .dataframe thead th {\n        text-align: right;\n    }\n</style>\n<table border=\"1\" class=\"dataframe\">\n  <thead>\n    <tr style=\"text-align: right;\">\n      <th></th>\n      <th>time_in_hospital</th>\n      <th>weight</th>\n      <th>orig_index</th>\n      <th>encounter_id</th>\n      <th>patient_nbr</th>\n      <th>readmitted</th>\n    </tr>\n  </thead>\n  <tbody>\n    <tr>\n      <th>0</th>\n      <td>1</td>\n      <td>NaN</td>\n      <td>0</td>\n      <td>2278392</td>\n      <td>8222157</td>\n      <td>False</td>\n    </tr>\n    <tr>\n      <th>1</th>\n      <td>2</td>\n      <td>NaN</td>\n      <td>1</td>\n      <td>64410</td>\n      <td>86047875</td>\n      <td>False</td>\n    </tr>\n    <tr>\n      <th>2</th>\n      <td>2</td>\n      <td>NaN</td>\n      <td>2</td>\n      <td>500364</td>\n      <td>82442376</td>\n      <td>False</td>\n    </tr>\n    <tr>\n      <th>3</th>\n      <td>3</td>\n      <td>NaN</td>\n      <td>3</td>\n      <td>35754</td>\n      <td>82637451</td>\n      <td>False</td>\n    </tr>\n    <tr>\n      <th>4</th>\n      <td>4</td>\n      <td>NaN</td>\n      <td>4</td>\n      <td>55842</td>\n      <td>84259809</td>\n      <td>False</td>\n    </tr>\n    <tr>\n      <th>...</th>\n      <td>...</td>\n      <td>...</td>\n      <td>...</td>\n      <td>...</td>\n      <td>...</td>\n      <td>...</td>\n    </tr>\n    <tr>\n      <th>995</th>\n      <td>3</td>\n      <td>NaN</td>\n      <td>995</td>\n      <td>8860284</td>\n      <td>94419315</td>\n      <td>False</td>\n    </tr>\n    <tr>\n      <th>996</th>\n      <td>4</td>\n      <td>NaN</td>\n      <td>996</td>\n      <td>8860944</td>\n      <td>338247</td>\n      <td>False</td>\n    </tr>\n    <tr>\n      <th>997</th>\n      <td>1</td>\n      <td>NaN</td>\n      <td>997</td>\n      <td>8864718</td>\n      <td>695439</td>\n      <td>False</td>\n    </tr>\n    <tr>\n      <th>998</th>\n      <td>6</td>\n      <td>[100-125)</td>\n      <td>998</td>\n      <td>8866632</td>\n      <td>103586670</td>\n      <td>False</td>\n    </tr>\n    <tr>\n      <th>999</th>\n      <td>9</td>\n      <td>NaN</td>\n      <td>999</td>\n      <td>8867106</td>\n      <td>4988970</td>\n      <td>False</td>\n    </tr>\n  </tbody>\n</table>\n<p>1000 rows × 6 columns</p>\n</div>"
     },
     "execution_count": 13,
     "metadata": {},
     "output_type": "execute_result"
    }
   ],
   "source": [
    "outcome_name = \"readmitted\"\n",
    "cols_to_copy = [\"orig_index\", \"encounter_id\", \"patient_nbr\"] + [outcome_name]\n",
    "#vars = [c for c in data.columns if c not in cols_to_copy]\n",
    "vars = ['time_in_hospital', 'weight']\n",
    "columns = vars + cols_to_copy\n",
    "\n",
    "data.loc[:, columns]\n"
   ],
   "metadata": {
    "collapsed": false,
    "pycharm": {
     "name": "#%%\n"
    }
   }
  },
  {
   "cell_type": "code",
   "execution_count": 14,
   "outputs": [
    {
     "data": {
      "text/plain": "     orig_index  encounter_id  patient_nbr  readmitted  weight_is_bad  \\\n0             0       2278392      8222157       False            1.0   \n1             1         64410     86047875       False            1.0   \n2             2        500364     82442376       False            1.0   \n3             3         35754     82637451       False            1.0   \n4             4         55842     84259809       False            1.0   \n..          ...           ...          ...         ...            ...   \n995         995       8860284     94419315       False            1.0   \n996         996       8860944       338247       False            1.0   \n997         997       8864718       695439       False            1.0   \n998         998       8866632    103586670       False            0.0   \n999         999       8867106      4988970       False            1.0   \n\n     time_in_hospital  weight_logit_code  weight_prevalence_code  \\\n0                 1.0           0.005970                   0.993   \n1                 2.0           0.007204                   0.993   \n2                 2.0           0.007204                   0.993   \n3                 3.0           0.005970                   0.993   \n4                 4.0           0.006001                   0.993   \n..                ...                ...                     ...   \n995               3.0           0.007162                   0.993   \n996               4.0           0.007204                   0.993   \n997               1.0           0.007199                   0.993   \n998               6.0           0.000000                   0.001   \n999               9.0           0.007199                   0.993   \n\n     weight_lev__NA_  \n0                1.0  \n1                1.0  \n2                1.0  \n3                1.0  \n4                1.0  \n..               ...  \n995              1.0  \n996              1.0  \n997              1.0  \n998              0.0  \n999              1.0  \n\n[1000 rows x 9 columns]",
      "text/html": "<div>\n<style scoped>\n    .dataframe tbody tr th:only-of-type {\n        vertical-align: middle;\n    }\n\n    .dataframe tbody tr th {\n        vertical-align: top;\n    }\n\n    .dataframe thead th {\n        text-align: right;\n    }\n</style>\n<table border=\"1\" class=\"dataframe\">\n  <thead>\n    <tr style=\"text-align: right;\">\n      <th></th>\n      <th>orig_index</th>\n      <th>encounter_id</th>\n      <th>patient_nbr</th>\n      <th>readmitted</th>\n      <th>weight_is_bad</th>\n      <th>time_in_hospital</th>\n      <th>weight_logit_code</th>\n      <th>weight_prevalence_code</th>\n      <th>weight_lev__NA_</th>\n    </tr>\n  </thead>\n  <tbody>\n    <tr>\n      <th>0</th>\n      <td>0</td>\n      <td>2278392</td>\n      <td>8222157</td>\n      <td>False</td>\n      <td>1.0</td>\n      <td>1.0</td>\n      <td>0.005970</td>\n      <td>0.993</td>\n      <td>1.0</td>\n    </tr>\n    <tr>\n      <th>1</th>\n      <td>1</td>\n      <td>64410</td>\n      <td>86047875</td>\n      <td>False</td>\n      <td>1.0</td>\n      <td>2.0</td>\n      <td>0.007204</td>\n      <td>0.993</td>\n      <td>1.0</td>\n    </tr>\n    <tr>\n      <th>2</th>\n      <td>2</td>\n      <td>500364</td>\n      <td>82442376</td>\n      <td>False</td>\n      <td>1.0</td>\n      <td>2.0</td>\n      <td>0.007204</td>\n      <td>0.993</td>\n      <td>1.0</td>\n    </tr>\n    <tr>\n      <th>3</th>\n      <td>3</td>\n      <td>35754</td>\n      <td>82637451</td>\n      <td>False</td>\n      <td>1.0</td>\n      <td>3.0</td>\n      <td>0.005970</td>\n      <td>0.993</td>\n      <td>1.0</td>\n    </tr>\n    <tr>\n      <th>4</th>\n      <td>4</td>\n      <td>55842</td>\n      <td>84259809</td>\n      <td>False</td>\n      <td>1.0</td>\n      <td>4.0</td>\n      <td>0.006001</td>\n      <td>0.993</td>\n      <td>1.0</td>\n    </tr>\n    <tr>\n      <th>...</th>\n      <td>...</td>\n      <td>...</td>\n      <td>...</td>\n      <td>...</td>\n      <td>...</td>\n      <td>...</td>\n      <td>...</td>\n      <td>...</td>\n      <td>...</td>\n    </tr>\n    <tr>\n      <th>995</th>\n      <td>995</td>\n      <td>8860284</td>\n      <td>94419315</td>\n      <td>False</td>\n      <td>1.0</td>\n      <td>3.0</td>\n      <td>0.007162</td>\n      <td>0.993</td>\n      <td>1.0</td>\n    </tr>\n    <tr>\n      <th>996</th>\n      <td>996</td>\n      <td>8860944</td>\n      <td>338247</td>\n      <td>False</td>\n      <td>1.0</td>\n      <td>4.0</td>\n      <td>0.007204</td>\n      <td>0.993</td>\n      <td>1.0</td>\n    </tr>\n    <tr>\n      <th>997</th>\n      <td>997</td>\n      <td>8864718</td>\n      <td>695439</td>\n      <td>False</td>\n      <td>1.0</td>\n      <td>1.0</td>\n      <td>0.007199</td>\n      <td>0.993</td>\n      <td>1.0</td>\n    </tr>\n    <tr>\n      <th>998</th>\n      <td>998</td>\n      <td>8866632</td>\n      <td>103586670</td>\n      <td>False</td>\n      <td>0.0</td>\n      <td>6.0</td>\n      <td>0.000000</td>\n      <td>0.001</td>\n      <td>0.0</td>\n    </tr>\n    <tr>\n      <th>999</th>\n      <td>999</td>\n      <td>8867106</td>\n      <td>4988970</td>\n      <td>False</td>\n      <td>1.0</td>\n      <td>9.0</td>\n      <td>0.007199</td>\n      <td>0.993</td>\n      <td>1.0</td>\n    </tr>\n  </tbody>\n</table>\n<p>1000 rows × 9 columns</p>\n</div>"
     },
     "execution_count": 4,
     "metadata": {},
     "output_type": "execute_result"
    },
    {
     "data": {
      "text/plain": "     orig_index  encounter_id  patient_nbr  readmitted  weight_is_bad  \\\n0             0       2278392      8222157       False            1.0   \n1             1         64410     86047875       False            1.0   \n2             2        500364     82442376       False            1.0   \n3             3         35754     82637451       False            1.0   \n4             4         55842     84259809       False            1.0   \n..          ...           ...          ...         ...            ...   \n995         995       8860284     94419315       False            1.0   \n996         996       8860944       338247       False            1.0   \n997         997       8864718       695439       False            1.0   \n998         998       8866632    103586670       False            0.0   \n999         999       8867106      4988970       False            1.0   \n\n     time_in_hospital  weight_logit_code  weight_prevalence_code  \\\n0                 1.0           0.004770                   0.993   \n1                 2.0           0.007164                   0.993   \n2                 2.0           0.007201                   0.993   \n3                 3.0           0.004770                   0.993   \n4                 4.0           0.007164                   0.993   \n..                ...                ...                     ...   \n995               3.0           0.007204                   0.993   \n996               4.0           0.007201                   0.993   \n997               1.0           0.007164                   0.993   \n998               6.0           0.000000                   0.001   \n999               9.0           0.007201                   0.993   \n\n     weight_lev__NA_  \n0                1.0  \n1                1.0  \n2                1.0  \n3                1.0  \n4                1.0  \n..               ...  \n995              1.0  \n996              1.0  \n997              1.0  \n998              0.0  \n999              1.0  \n\n[1000 rows x 9 columns]",
      "text/html": "<div>\n<style scoped>\n    .dataframe tbody tr th:only-of-type {\n        vertical-align: middle;\n    }\n\n    .dataframe tbody tr th {\n        vertical-align: top;\n    }\n\n    .dataframe thead th {\n        text-align: right;\n    }\n</style>\n<table border=\"1\" class=\"dataframe\">\n  <thead>\n    <tr style=\"text-align: right;\">\n      <th></th>\n      <th>orig_index</th>\n      <th>encounter_id</th>\n      <th>patient_nbr</th>\n      <th>readmitted</th>\n      <th>weight_is_bad</th>\n      <th>time_in_hospital</th>\n      <th>weight_logit_code</th>\n      <th>weight_prevalence_code</th>\n      <th>weight_lev__NA_</th>\n    </tr>\n  </thead>\n  <tbody>\n    <tr>\n      <th>0</th>\n      <td>0</td>\n      <td>2278392</td>\n      <td>8222157</td>\n      <td>False</td>\n      <td>1.0</td>\n      <td>1.0</td>\n      <td>0.004770</td>\n      <td>0.993</td>\n      <td>1.0</td>\n    </tr>\n    <tr>\n      <th>1</th>\n      <td>1</td>\n      <td>64410</td>\n      <td>86047875</td>\n      <td>False</td>\n      <td>1.0</td>\n      <td>2.0</td>\n      <td>0.007164</td>\n      <td>0.993</td>\n      <td>1.0</td>\n    </tr>\n    <tr>\n      <th>2</th>\n      <td>2</td>\n      <td>500364</td>\n      <td>82442376</td>\n      <td>False</td>\n      <td>1.0</td>\n      <td>2.0</td>\n      <td>0.007201</td>\n      <td>0.993</td>\n      <td>1.0</td>\n    </tr>\n    <tr>\n      <th>3</th>\n      <td>3</td>\n      <td>35754</td>\n      <td>82637451</td>\n      <td>False</td>\n      <td>1.0</td>\n      <td>3.0</td>\n      <td>0.004770</td>\n      <td>0.993</td>\n      <td>1.0</td>\n    </tr>\n    <tr>\n      <th>4</th>\n      <td>4</td>\n      <td>55842</td>\n      <td>84259809</td>\n      <td>False</td>\n      <td>1.0</td>\n      <td>4.0</td>\n      <td>0.007164</td>\n      <td>0.993</td>\n      <td>1.0</td>\n    </tr>\n    <tr>\n      <th>...</th>\n      <td>...</td>\n      <td>...</td>\n      <td>...</td>\n      <td>...</td>\n      <td>...</td>\n      <td>...</td>\n      <td>...</td>\n      <td>...</td>\n      <td>...</td>\n    </tr>\n    <tr>\n      <th>995</th>\n      <td>995</td>\n      <td>8860284</td>\n      <td>94419315</td>\n      <td>False</td>\n      <td>1.0</td>\n      <td>3.0</td>\n      <td>0.007204</td>\n      <td>0.993</td>\n      <td>1.0</td>\n    </tr>\n    <tr>\n      <th>996</th>\n      <td>996</td>\n      <td>8860944</td>\n      <td>338247</td>\n      <td>False</td>\n      <td>1.0</td>\n      <td>4.0</td>\n      <td>0.007201</td>\n      <td>0.993</td>\n      <td>1.0</td>\n    </tr>\n    <tr>\n      <th>997</th>\n      <td>997</td>\n      <td>8864718</td>\n      <td>695439</td>\n      <td>False</td>\n      <td>1.0</td>\n      <td>1.0</td>\n      <td>0.007164</td>\n      <td>0.993</td>\n      <td>1.0</td>\n    </tr>\n    <tr>\n      <th>998</th>\n      <td>998</td>\n      <td>8866632</td>\n      <td>103586670</td>\n      <td>False</td>\n      <td>0.0</td>\n      <td>6.0</td>\n      <td>0.000000</td>\n      <td>0.001</td>\n      <td>0.0</td>\n    </tr>\n    <tr>\n      <th>999</th>\n      <td>999</td>\n      <td>8867106</td>\n      <td>4988970</td>\n      <td>False</td>\n      <td>1.0</td>\n      <td>9.0</td>\n      <td>0.007201</td>\n      <td>0.993</td>\n      <td>1.0</td>\n    </tr>\n  </tbody>\n</table>\n<p>1000 rows × 9 columns</p>\n</div>"
     },
     "execution_count": 14,
     "metadata": {},
     "output_type": "execute_result"
    }
   ],
   "source": [
    "treatment = vtreat.BinomialOutcomeTreatment(\n",
    "    cols_to_copy=cols_to_copy,\n",
    "    outcome_name=outcome_name,\n",
    "    outcome_target=True,\n",
    "    params=vtreat.vtreat_parameters(\n",
    "        {\"sparse_indicators\": False, \"filter_to_recommended\": False,}\n",
    "    ),\n",
    ")\n",
    "data_treated = treatment.fit_transform(data.loc[:, columns])\n",
    "\n",
    "data_treated"
   ],
   "metadata": {
    "collapsed": false,
    "pycharm": {
     "name": "#%%\n"
    }
   }
  },
  {
   "cell_type": "code",
   "execution_count": 15,
   "outputs": [
    {
     "data": {
      "text/plain": "             treatment_class          treatment          orig_var  \\\n0   IndicateMissingTransform  missing_indicator            weight   \n1      CleanNumericTransform         clean_copy  time_in_hospital   \n2        MappedCodeTransform         logit_code            weight   \n3        MappedCodeTransform         logit_code            weight   \n4        MappedCodeTransform         logit_code            weight   \n5        MappedCodeTransform         logit_code            weight   \n6        MappedCodeTransform         logit_code            weight   \n7        MappedCodeTransform    prevalence_code            weight   \n8        MappedCodeTransform    prevalence_code            weight   \n9        MappedCodeTransform    prevalence_code            weight   \n10       MappedCodeTransform    prevalence_code            weight   \n11       MappedCodeTransform    prevalence_code            weight   \n12    IndicatorCodeTransform     indicator_code            weight   \n\n                  variable      value  replacement  \n0            weight_is_bad       _NA_     1.000000  \n1         time_in_hospital       _NA_     4.802000  \n2        weight_logit_code     [0-25)     0.000000  \n3        weight_logit_code  [100-125)     0.000000  \n4        weight_logit_code    [50-75)     0.000000  \n5        weight_logit_code   [75-100)    -2.129774  \n6        weight_logit_code       _NA_     0.006737  \n7   weight_prevalence_code     [0-25)     0.001000  \n8   weight_prevalence_code  [100-125)     0.001000  \n9   weight_prevalence_code    [50-75)     0.001000  \n10  weight_prevalence_code   [75-100)     0.004000  \n11  weight_prevalence_code       _NA_     0.993000  \n12         weight_lev__NA_       _NA_     1.000000  ",
      "text/html": "<div>\n<style scoped>\n    .dataframe tbody tr th:only-of-type {\n        vertical-align: middle;\n    }\n\n    .dataframe tbody tr th {\n        vertical-align: top;\n    }\n\n    .dataframe thead th {\n        text-align: right;\n    }\n</style>\n<table border=\"1\" class=\"dataframe\">\n  <thead>\n    <tr style=\"text-align: right;\">\n      <th></th>\n      <th>treatment_class</th>\n      <th>treatment</th>\n      <th>orig_var</th>\n      <th>variable</th>\n      <th>value</th>\n      <th>replacement</th>\n    </tr>\n  </thead>\n  <tbody>\n    <tr>\n      <th>0</th>\n      <td>IndicateMissingTransform</td>\n      <td>missing_indicator</td>\n      <td>weight</td>\n      <td>weight_is_bad</td>\n      <td>_NA_</td>\n      <td>1.000000</td>\n    </tr>\n    <tr>\n      <th>1</th>\n      <td>CleanNumericTransform</td>\n      <td>clean_copy</td>\n      <td>time_in_hospital</td>\n      <td>time_in_hospital</td>\n      <td>_NA_</td>\n      <td>4.802000</td>\n    </tr>\n    <tr>\n      <th>2</th>\n      <td>MappedCodeTransform</td>\n      <td>logit_code</td>\n      <td>weight</td>\n      <td>weight_logit_code</td>\n      <td>[0-25)</td>\n      <td>0.000000</td>\n    </tr>\n    <tr>\n      <th>3</th>\n      <td>MappedCodeTransform</td>\n      <td>logit_code</td>\n      <td>weight</td>\n      <td>weight_logit_code</td>\n      <td>[100-125)</td>\n      <td>0.000000</td>\n    </tr>\n    <tr>\n      <th>4</th>\n      <td>MappedCodeTransform</td>\n      <td>logit_code</td>\n      <td>weight</td>\n      <td>weight_logit_code</td>\n      <td>[50-75)</td>\n      <td>0.000000</td>\n    </tr>\n    <tr>\n      <th>5</th>\n      <td>MappedCodeTransform</td>\n      <td>logit_code</td>\n      <td>weight</td>\n      <td>weight_logit_code</td>\n      <td>[75-100)</td>\n      <td>-2.129774</td>\n    </tr>\n    <tr>\n      <th>6</th>\n      <td>MappedCodeTransform</td>\n      <td>logit_code</td>\n      <td>weight</td>\n      <td>weight_logit_code</td>\n      <td>_NA_</td>\n      <td>0.006737</td>\n    </tr>\n    <tr>\n      <th>7</th>\n      <td>MappedCodeTransform</td>\n      <td>prevalence_code</td>\n      <td>weight</td>\n      <td>weight_prevalence_code</td>\n      <td>[0-25)</td>\n      <td>0.001000</td>\n    </tr>\n    <tr>\n      <th>8</th>\n      <td>MappedCodeTransform</td>\n      <td>prevalence_code</td>\n      <td>weight</td>\n      <td>weight_prevalence_code</td>\n      <td>[100-125)</td>\n      <td>0.001000</td>\n    </tr>\n    <tr>\n      <th>9</th>\n      <td>MappedCodeTransform</td>\n      <td>prevalence_code</td>\n      <td>weight</td>\n      <td>weight_prevalence_code</td>\n      <td>[50-75)</td>\n      <td>0.001000</td>\n    </tr>\n    <tr>\n      <th>10</th>\n      <td>MappedCodeTransform</td>\n      <td>prevalence_code</td>\n      <td>weight</td>\n      <td>weight_prevalence_code</td>\n      <td>[75-100)</td>\n      <td>0.004000</td>\n    </tr>\n    <tr>\n      <th>11</th>\n      <td>MappedCodeTransform</td>\n      <td>prevalence_code</td>\n      <td>weight</td>\n      <td>weight_prevalence_code</td>\n      <td>_NA_</td>\n      <td>0.993000</td>\n    </tr>\n    <tr>\n      <th>12</th>\n      <td>IndicatorCodeTransform</td>\n      <td>indicator_code</td>\n      <td>weight</td>\n      <td>weight_lev__NA_</td>\n      <td>_NA_</td>\n      <td>1.000000</td>\n    </tr>\n  </tbody>\n</table>\n</div>"
     },
     "execution_count": 5,
     "metadata": {},
     "output_type": "execute_result"
    },
    {
     "data": {
      "text/plain": "             treatment_class          treatment          orig_var  \\\n0   IndicateMissingTransform  missing_indicator            weight   \n1      CleanNumericTransform         clean_copy  time_in_hospital   \n2        MappedCodeTransform         logit_code            weight   \n3        MappedCodeTransform         logit_code            weight   \n4        MappedCodeTransform         logit_code            weight   \n5        MappedCodeTransform         logit_code            weight   \n6        MappedCodeTransform         logit_code            weight   \n7        MappedCodeTransform    prevalence_code            weight   \n8        MappedCodeTransform    prevalence_code            weight   \n9        MappedCodeTransform    prevalence_code            weight   \n10       MappedCodeTransform    prevalence_code            weight   \n11       MappedCodeTransform    prevalence_code            weight   \n12    IndicatorCodeTransform     indicator_code            weight   \n\n                  variable      value  replacement  \n0            weight_is_bad       _NA_     1.000000  \n1         time_in_hospital       _NA_     4.802000  \n2        weight_logit_code     [0-25)     0.000000  \n3        weight_logit_code  [100-125)     0.000000  \n4        weight_logit_code    [50-75)     0.000000  \n5        weight_logit_code   [75-100)    -2.129774  \n6        weight_logit_code       _NA_     0.006737  \n7   weight_prevalence_code     [0-25)     0.001000  \n8   weight_prevalence_code  [100-125)     0.001000  \n9   weight_prevalence_code    [50-75)     0.001000  \n10  weight_prevalence_code   [75-100)     0.004000  \n11  weight_prevalence_code       _NA_     0.993000  \n12         weight_lev__NA_       _NA_     1.000000  ",
      "text/html": "<div>\n<style scoped>\n    .dataframe tbody tr th:only-of-type {\n        vertical-align: middle;\n    }\n\n    .dataframe tbody tr th {\n        vertical-align: top;\n    }\n\n    .dataframe thead th {\n        text-align: right;\n    }\n</style>\n<table border=\"1\" class=\"dataframe\">\n  <thead>\n    <tr style=\"text-align: right;\">\n      <th></th>\n      <th>treatment_class</th>\n      <th>treatment</th>\n      <th>orig_var</th>\n      <th>variable</th>\n      <th>value</th>\n      <th>replacement</th>\n    </tr>\n  </thead>\n  <tbody>\n    <tr>\n      <th>0</th>\n      <td>IndicateMissingTransform</td>\n      <td>missing_indicator</td>\n      <td>weight</td>\n      <td>weight_is_bad</td>\n      <td>_NA_</td>\n      <td>1.000000</td>\n    </tr>\n    <tr>\n      <th>1</th>\n      <td>CleanNumericTransform</td>\n      <td>clean_copy</td>\n      <td>time_in_hospital</td>\n      <td>time_in_hospital</td>\n      <td>_NA_</td>\n      <td>4.802000</td>\n    </tr>\n    <tr>\n      <th>2</th>\n      <td>MappedCodeTransform</td>\n      <td>logit_code</td>\n      <td>weight</td>\n      <td>weight_logit_code</td>\n      <td>[0-25)</td>\n      <td>0.000000</td>\n    </tr>\n    <tr>\n      <th>3</th>\n      <td>MappedCodeTransform</td>\n      <td>logit_code</td>\n      <td>weight</td>\n      <td>weight_logit_code</td>\n      <td>[100-125)</td>\n      <td>0.000000</td>\n    </tr>\n    <tr>\n      <th>4</th>\n      <td>MappedCodeTransform</td>\n      <td>logit_code</td>\n      <td>weight</td>\n      <td>weight_logit_code</td>\n      <td>[50-75)</td>\n      <td>0.000000</td>\n    </tr>\n    <tr>\n      <th>5</th>\n      <td>MappedCodeTransform</td>\n      <td>logit_code</td>\n      <td>weight</td>\n      <td>weight_logit_code</td>\n      <td>[75-100)</td>\n      <td>-2.129774</td>\n    </tr>\n    <tr>\n      <th>6</th>\n      <td>MappedCodeTransform</td>\n      <td>logit_code</td>\n      <td>weight</td>\n      <td>weight_logit_code</td>\n      <td>_NA_</td>\n      <td>0.006737</td>\n    </tr>\n    <tr>\n      <th>7</th>\n      <td>MappedCodeTransform</td>\n      <td>prevalence_code</td>\n      <td>weight</td>\n      <td>weight_prevalence_code</td>\n      <td>[0-25)</td>\n      <td>0.001000</td>\n    </tr>\n    <tr>\n      <th>8</th>\n      <td>MappedCodeTransform</td>\n      <td>prevalence_code</td>\n      <td>weight</td>\n      <td>weight_prevalence_code</td>\n      <td>[100-125)</td>\n      <td>0.001000</td>\n    </tr>\n    <tr>\n      <th>9</th>\n      <td>MappedCodeTransform</td>\n      <td>prevalence_code</td>\n      <td>weight</td>\n      <td>weight_prevalence_code</td>\n      <td>[50-75)</td>\n      <td>0.001000</td>\n    </tr>\n    <tr>\n      <th>10</th>\n      <td>MappedCodeTransform</td>\n      <td>prevalence_code</td>\n      <td>weight</td>\n      <td>weight_prevalence_code</td>\n      <td>[75-100)</td>\n      <td>0.004000</td>\n    </tr>\n    <tr>\n      <th>11</th>\n      <td>MappedCodeTransform</td>\n      <td>prevalence_code</td>\n      <td>weight</td>\n      <td>weight_prevalence_code</td>\n      <td>_NA_</td>\n      <td>0.993000</td>\n    </tr>\n    <tr>\n      <th>12</th>\n      <td>IndicatorCodeTransform</td>\n      <td>indicator_code</td>\n      <td>weight</td>\n      <td>weight_lev__NA_</td>\n      <td>_NA_</td>\n      <td>1.000000</td>\n    </tr>\n  </tbody>\n</table>\n</div>"
     },
     "execution_count": 15,
     "metadata": {},
     "output_type": "execute_result"
    }
   ],
   "source": [
    "transform_as_data = treatment.description_matrix()\n",
    "\n",
    "transform_as_data"
   ],
   "metadata": {
    "collapsed": false,
    "pycharm": {
     "name": "#%%\n"
    }
   }
  },
  {
   "cell_type": "code",
   "execution_count": 16,
   "outputs": [
    {
     "name": "stdout",
     "output_type": "stream",
     "text": [
      "(\n",
      "    TableDescription(\n",
      "        table_name=\"data\",\n",
      "        column_names=[\n",
      "            \"time_in_hospital\",\n",
      "            \"weight\",\n",
      "            \"orig_index\",\n",
      "            \"encounter_id\",\n",
      "            \"patient_nbr\",\n",
      "            \"readmitted\",\n",
      "        ],\n",
      "    )\n",
      "    .extend(\n",
      "        {\n",
      "            \"weight_is_bad\": \"(weight.is_bad()).if_else(1.0, 0.0)\",\n",
      "            \"weight_lev__NA_\": \"(weight.coalesce('_NA_') == '_NA_').if_else(1.0, 0.0)\",\n",
      "        }\n",
      "    )\n",
      "    .extend({\"weight\": \"weight.coalesce('_NA_')\"})\n",
      "    .natural_join(\n",
      "        b=TableDescription(\n",
      "            table_name=\"transform_as_data\",\n",
      "            column_names=[\n",
      "                \"treatment_class\",\n",
      "                \"treatment\",\n",
      "                \"orig_var\",\n",
      "                \"variable\",\n",
      "                \"value\",\n",
      "                \"replacement\",\n",
      "            ],\n",
      "        )\n",
      "        .select_rows(\n",
      "            \"(treatment_class == 'MappedCodeTransform') and (orig_var == 'weight') and (variable == 'weight_logit_code')\"\n",
      "        )\n",
      "        .extend({\"weight\": \"value\", \"weight_logit_code\": \"replacement\"})\n",
      "        .select_columns([\"weight\", \"weight_logit_code\"]),\n",
      "        by=[\"weight\"],\n",
      "        jointype=\"LEFT\",\n",
      "    )\n",
      "    .natural_join(\n",
      "        b=TableDescription(\n",
      "            table_name=\"transform_as_data\",\n",
      "            column_names=[\n",
      "                \"treatment_class\",\n",
      "                \"treatment\",\n",
      "                \"orig_var\",\n",
      "                \"variable\",\n",
      "                \"value\",\n",
      "                \"replacement\",\n",
      "            ],\n",
      "        )\n",
      "        .select_rows(\n",
      "            \"(treatment_class == 'MappedCodeTransform') and (orig_var == 'weight') and (variable == 'weight_prevalence_code')\"\n",
      "        )\n",
      "        .extend({\"weight\": \"value\", \"weight_prevalence_code\": \"replacement\"})\n",
      "        .select_columns([\"weight\", \"weight_prevalence_code\"]),\n",
      "        by=[\"weight\"],\n",
      "        jointype=\"LEFT\",\n",
      "    )\n",
      "    .extend({\"time_in_hospital\": \"time_in_hospital.coalesce(4.802)\"})\n",
      "    .drop_columns([\"weight\"])\n",
      ")\n",
      "\n",
      "(\n",
      "    TableDescription(\n",
      "        table_name=\"data\",\n",
      "        column_names=[\n",
      "            \"time_in_hospital\",\n",
      "            \"weight\",\n",
      "            \"orig_index\",\n",
      "            \"encounter_id\",\n",
      "            \"patient_nbr\",\n",
      "            \"readmitted\",\n",
      "        ],\n",
      "    )\n",
      "    .extend(\n",
      "        {\n",
      "            \"weight_is_bad\": \"(weight.is_bad()).if_else(1.0, 0.0)\",\n",
      "            \"weight_lev__NA_\": \"(weight.coalesce('_NA_') == '_NA_').if_else(1.0, 0.0)\",\n",
      "        }\n",
      "    )\n",
      "    .extend({\"weight\": \"weight.coalesce('_NA_')\"})\n",
      "    .natural_join(\n",
      "        b=TableDescription(\n",
      "            table_name=\"transform_as_data\",\n",
      "            column_names=[\n",
      "                \"treatment_class\",\n",
      "                \"treatment\",\n",
      "                \"orig_var\",\n",
      "                \"variable\",\n",
      "                \"value\",\n",
      "                \"replacement\",\n",
      "            ],\n",
      "        )\n",
      "        .select_rows(\n",
      "            \"(treatment_class == 'MappedCodeTransform') and (orig_var == 'weight') and (variable == 'weight_logit_code')\"\n",
      "        )\n",
      "        .extend({\"weight\": \"value\", \"weight_logit_code\": \"replacement\"})\n",
      "        .select_columns([\"weight\", \"weight_logit_code\"]),\n",
      "        by=[\"weight\"],\n",
      "        jointype=\"LEFT\",\n",
      "    )\n",
      "    .natural_join(\n",
      "        b=TableDescription(\n",
      "            table_name=\"transform_as_data\",\n",
      "            column_names=[\n",
      "                \"treatment_class\",\n",
      "                \"treatment\",\n",
      "                \"orig_var\",\n",
      "                \"variable\",\n",
      "                \"value\",\n",
      "                \"replacement\",\n",
      "            ],\n",
      "        )\n",
      "        .select_rows(\n",
      "            \"(treatment_class == 'MappedCodeTransform') and (orig_var == 'weight') and (variable == 'weight_prevalence_code')\"\n",
      "        )\n",
      "        .extend({\"weight\": \"value\", \"weight_prevalence_code\": \"replacement\"})\n",
      "        .select_columns([\"weight\", \"weight_prevalence_code\"]),\n",
      "        by=[\"weight\"],\n",
      "        jointype=\"LEFT\",\n",
      "    )\n",
      "    .extend({\"time_in_hospital\": \"time_in_hospital.coalesce(4.802)\"})\n",
      "    .drop_columns([\"weight\"])\n",
      ")\n",
      "\n"
     ]
    }
   ],
   "source": [
    "ops = as_data_algebra_pipeline(\n",
    "    source=descr(data=data.loc[:, columns]),\n",
    "    vtreat_descr=transform_as_data,\n",
    "    treatment_table_name='transform_as_data',\n",
    ")\n",
    "\n",
    "print(ops)"
   ],
   "metadata": {
    "collapsed": false,
    "pycharm": {
     "name": "#%%\n"
    }
   }
  },
  {
   "cell_type": "code",
   "execution_count": 17,
   "outputs": [
    {
     "data": {
      "text/plain": "     time_in_hospital  orig_index  encounter_id  patient_nbr  readmitted  \\\n0                   1           0       2278392      8222157       False   \n1                   2           1         64410     86047875       False   \n2                   2           2        500364     82442376       False   \n3                   3           3         35754     82637451       False   \n4                   4           4         55842     84259809       False   \n..                ...         ...           ...          ...         ...   \n995                 3         995       8860284     94419315       False   \n996                 4         996       8860944       338247       False   \n997                 1         997       8864718       695439       False   \n998                 6         998       8866632    103586670       False   \n999                 9         999       8867106      4988970       False   \n\n     weight_is_bad  weight_lev__NA_  weight_logit_code  weight_prevalence_code  \n0              1.0              1.0           0.006737                   0.993  \n1              1.0              1.0           0.006737                   0.993  \n2              1.0              1.0           0.006737                   0.993  \n3              1.0              1.0           0.006737                   0.993  \n4              1.0              1.0           0.006737                   0.993  \n..             ...              ...                ...                     ...  \n995            1.0              1.0           0.006737                   0.993  \n996            1.0              1.0           0.006737                   0.993  \n997            1.0              1.0           0.006737                   0.993  \n998            0.0              0.0           0.000000                   0.001  \n999            1.0              1.0           0.006737                   0.993  \n\n[1000 rows x 9 columns]",
      "text/html": "<div>\n<style scoped>\n    .dataframe tbody tr th:only-of-type {\n        vertical-align: middle;\n    }\n\n    .dataframe tbody tr th {\n        vertical-align: top;\n    }\n\n    .dataframe thead th {\n        text-align: right;\n    }\n</style>\n<table border=\"1\" class=\"dataframe\">\n  <thead>\n    <tr style=\"text-align: right;\">\n      <th></th>\n      <th>time_in_hospital</th>\n      <th>orig_index</th>\n      <th>encounter_id</th>\n      <th>patient_nbr</th>\n      <th>readmitted</th>\n      <th>weight_is_bad</th>\n      <th>weight_lev__NA_</th>\n      <th>weight_logit_code</th>\n      <th>weight_prevalence_code</th>\n    </tr>\n  </thead>\n  <tbody>\n    <tr>\n      <th>0</th>\n      <td>1</td>\n      <td>0</td>\n      <td>2278392</td>\n      <td>8222157</td>\n      <td>False</td>\n      <td>1.0</td>\n      <td>1.0</td>\n      <td>0.006737</td>\n      <td>0.993</td>\n    </tr>\n    <tr>\n      <th>1</th>\n      <td>2</td>\n      <td>1</td>\n      <td>64410</td>\n      <td>86047875</td>\n      <td>False</td>\n      <td>1.0</td>\n      <td>1.0</td>\n      <td>0.006737</td>\n      <td>0.993</td>\n    </tr>\n    <tr>\n      <th>2</th>\n      <td>2</td>\n      <td>2</td>\n      <td>500364</td>\n      <td>82442376</td>\n      <td>False</td>\n      <td>1.0</td>\n      <td>1.0</td>\n      <td>0.006737</td>\n      <td>0.993</td>\n    </tr>\n    <tr>\n      <th>3</th>\n      <td>3</td>\n      <td>3</td>\n      <td>35754</td>\n      <td>82637451</td>\n      <td>False</td>\n      <td>1.0</td>\n      <td>1.0</td>\n      <td>0.006737</td>\n      <td>0.993</td>\n    </tr>\n    <tr>\n      <th>4</th>\n      <td>4</td>\n      <td>4</td>\n      <td>55842</td>\n      <td>84259809</td>\n      <td>False</td>\n      <td>1.0</td>\n      <td>1.0</td>\n      <td>0.006737</td>\n      <td>0.993</td>\n    </tr>\n    <tr>\n      <th>...</th>\n      <td>...</td>\n      <td>...</td>\n      <td>...</td>\n      <td>...</td>\n      <td>...</td>\n      <td>...</td>\n      <td>...</td>\n      <td>...</td>\n      <td>...</td>\n    </tr>\n    <tr>\n      <th>995</th>\n      <td>3</td>\n      <td>995</td>\n      <td>8860284</td>\n      <td>94419315</td>\n      <td>False</td>\n      <td>1.0</td>\n      <td>1.0</td>\n      <td>0.006737</td>\n      <td>0.993</td>\n    </tr>\n    <tr>\n      <th>996</th>\n      <td>4</td>\n      <td>996</td>\n      <td>8860944</td>\n      <td>338247</td>\n      <td>False</td>\n      <td>1.0</td>\n      <td>1.0</td>\n      <td>0.006737</td>\n      <td>0.993</td>\n    </tr>\n    <tr>\n      <th>997</th>\n      <td>1</td>\n      <td>997</td>\n      <td>8864718</td>\n      <td>695439</td>\n      <td>False</td>\n      <td>1.0</td>\n      <td>1.0</td>\n      <td>0.006737</td>\n      <td>0.993</td>\n    </tr>\n    <tr>\n      <th>998</th>\n      <td>6</td>\n      <td>998</td>\n      <td>8866632</td>\n      <td>103586670</td>\n      <td>False</td>\n      <td>0.0</td>\n      <td>0.0</td>\n      <td>0.000000</td>\n      <td>0.001</td>\n    </tr>\n    <tr>\n      <th>999</th>\n      <td>9</td>\n      <td>999</td>\n      <td>8867106</td>\n      <td>4988970</td>\n      <td>False</td>\n      <td>1.0</td>\n      <td>1.0</td>\n      <td>0.006737</td>\n      <td>0.993</td>\n    </tr>\n  </tbody>\n</table>\n<p>1000 rows × 9 columns</p>\n</div>"
     },
     "execution_count": 7,
     "metadata": {},
     "output_type": "execute_result"
    },
    {
     "data": {
      "text/plain": "     time_in_hospital  orig_index  encounter_id  patient_nbr  readmitted  \\\n0                   1           0       2278392      8222157       False   \n1                   2           1         64410     86047875       False   \n2                   2           2        500364     82442376       False   \n3                   3           3         35754     82637451       False   \n4                   4           4         55842     84259809       False   \n..                ...         ...           ...          ...         ...   \n995                 3         995       8860284     94419315       False   \n996                 4         996       8860944       338247       False   \n997                 1         997       8864718       695439       False   \n998                 6         998       8866632    103586670       False   \n999                 9         999       8867106      4988970       False   \n\n     weight_is_bad  weight_lev__NA_  weight_logit_code  weight_prevalence_code  \n0              1.0              1.0           0.006737                   0.993  \n1              1.0              1.0           0.006737                   0.993  \n2              1.0              1.0           0.006737                   0.993  \n3              1.0              1.0           0.006737                   0.993  \n4              1.0              1.0           0.006737                   0.993  \n..             ...              ...                ...                     ...  \n995            1.0              1.0           0.006737                   0.993  \n996            1.0              1.0           0.006737                   0.993  \n997            1.0              1.0           0.006737                   0.993  \n998            0.0              0.0           0.000000                   0.001  \n999            1.0              1.0           0.006737                   0.993  \n\n[1000 rows x 9 columns]",
      "text/html": "<div>\n<style scoped>\n    .dataframe tbody tr th:only-of-type {\n        vertical-align: middle;\n    }\n\n    .dataframe tbody tr th {\n        vertical-align: top;\n    }\n\n    .dataframe thead th {\n        text-align: right;\n    }\n</style>\n<table border=\"1\" class=\"dataframe\">\n  <thead>\n    <tr style=\"text-align: right;\">\n      <th></th>\n      <th>time_in_hospital</th>\n      <th>orig_index</th>\n      <th>encounter_id</th>\n      <th>patient_nbr</th>\n      <th>readmitted</th>\n      <th>weight_is_bad</th>\n      <th>weight_lev__NA_</th>\n      <th>weight_logit_code</th>\n      <th>weight_prevalence_code</th>\n    </tr>\n  </thead>\n  <tbody>\n    <tr>\n      <th>0</th>\n      <td>1</td>\n      <td>0</td>\n      <td>2278392</td>\n      <td>8222157</td>\n      <td>False</td>\n      <td>1.0</td>\n      <td>1.0</td>\n      <td>0.006737</td>\n      <td>0.993</td>\n    </tr>\n    <tr>\n      <th>1</th>\n      <td>2</td>\n      <td>1</td>\n      <td>64410</td>\n      <td>86047875</td>\n      <td>False</td>\n      <td>1.0</td>\n      <td>1.0</td>\n      <td>0.006737</td>\n      <td>0.993</td>\n    </tr>\n    <tr>\n      <th>2</th>\n      <td>2</td>\n      <td>2</td>\n      <td>500364</td>\n      <td>82442376</td>\n      <td>False</td>\n      <td>1.0</td>\n      <td>1.0</td>\n      <td>0.006737</td>\n      <td>0.993</td>\n    </tr>\n    <tr>\n      <th>3</th>\n      <td>3</td>\n      <td>3</td>\n      <td>35754</td>\n      <td>82637451</td>\n      <td>False</td>\n      <td>1.0</td>\n      <td>1.0</td>\n      <td>0.006737</td>\n      <td>0.993</td>\n    </tr>\n    <tr>\n      <th>4</th>\n      <td>4</td>\n      <td>4</td>\n      <td>55842</td>\n      <td>84259809</td>\n      <td>False</td>\n      <td>1.0</td>\n      <td>1.0</td>\n      <td>0.006737</td>\n      <td>0.993</td>\n    </tr>\n    <tr>\n      <th>...</th>\n      <td>...</td>\n      <td>...</td>\n      <td>...</td>\n      <td>...</td>\n      <td>...</td>\n      <td>...</td>\n      <td>...</td>\n      <td>...</td>\n      <td>...</td>\n    </tr>\n    <tr>\n      <th>995</th>\n      <td>3</td>\n      <td>995</td>\n      <td>8860284</td>\n      <td>94419315</td>\n      <td>False</td>\n      <td>1.0</td>\n      <td>1.0</td>\n      <td>0.006737</td>\n      <td>0.993</td>\n    </tr>\n    <tr>\n      <th>996</th>\n      <td>4</td>\n      <td>996</td>\n      <td>8860944</td>\n      <td>338247</td>\n      <td>False</td>\n      <td>1.0</td>\n      <td>1.0</td>\n      <td>0.006737</td>\n      <td>0.993</td>\n    </tr>\n    <tr>\n      <th>997</th>\n      <td>1</td>\n      <td>997</td>\n      <td>8864718</td>\n      <td>695439</td>\n      <td>False</td>\n      <td>1.0</td>\n      <td>1.0</td>\n      <td>0.006737</td>\n      <td>0.993</td>\n    </tr>\n    <tr>\n      <th>998</th>\n      <td>6</td>\n      <td>998</td>\n      <td>8866632</td>\n      <td>103586670</td>\n      <td>False</td>\n      <td>0.0</td>\n      <td>0.0</td>\n      <td>0.000000</td>\n      <td>0.001</td>\n    </tr>\n    <tr>\n      <th>999</th>\n      <td>9</td>\n      <td>999</td>\n      <td>8867106</td>\n      <td>4988970</td>\n      <td>False</td>\n      <td>1.0</td>\n      <td>1.0</td>\n      <td>0.006737</td>\n      <td>0.993</td>\n    </tr>\n  </tbody>\n</table>\n<p>1000 rows × 9 columns</p>\n</div>"
     },
     "execution_count": 17,
     "metadata": {},
     "output_type": "execute_result"
    }
   ],
   "source": [
    "transformed = ops.eval({'data': data.loc[:, columns], 'transform_as_data': transform_as_data})\n",
    "\n",
    "transformed"
   ],
   "metadata": {
    "collapsed": false,
    "pycharm": {
     "name": "#%%\n"
    }
   }
  },
  {
   "cell_type": "code",
   "execution_count": 18,
   "outputs": [
    {
     "name": "stdout",
     "output_type": "stream",
     "text": [
      "-- data_algebra SQL https://github.com/WinVector/data_algebra\n",
      "--  dialect: SQLiteModel\n",
      "--       string quote: '\n",
      "--   identifier quote: \"\n",
      "WITH\n",
      " \"extend_0\" AS (\n",
      "  SELECT  -- .extend({ 'weight_is_bad': '(weight.is_bad()).if_else(1.0, 0.0)', 'weight_lev__NA_': \"(weight.coalesce('_NA_') == '_NA_').if_else(1.0, 0.0)\"})\n",
      "   \"orig_index\" ,\n",
      "   \"encounter_id\" ,\n",
      "   \"time_in_hospital\" ,\n",
      "   \"patient_nbr\" ,\n",
      "   \"readmitted\" ,\n",
      "   \"weight\" ,\n",
      "   CASE WHEN is_bad(\"weight\") THEN 1.0 WHEN NOT is_bad(\"weight\") THEN 0.0 ELSE NULL END AS \"weight_is_bad\" ,\n",
      "   CASE WHEN (COALESCE(\"weight\", '_NA_') = '_NA_') THEN 1.0 WHEN NOT (COALESCE(\"weight\", '_NA_') = '_NA_') THEN 0.0 ELSE NULL END AS \"weight_lev__NA_\"\n",
      "  FROM\n",
      "   \"data\"\n",
      " ) ,\n",
      " \"extend_1\" AS (\n",
      "  SELECT  -- .extend({ 'weight': \"weight.coalesce('_NA_')\"})\n",
      "   \"orig_index\" ,\n",
      "   \"encounter_id\" ,\n",
      "   \"time_in_hospital\" ,\n",
      "   \"weight_is_bad\" ,\n",
      "   \"patient_nbr\" ,\n",
      "   \"weight_lev__NA_\" ,\n",
      "   \"readmitted\" ,\n",
      "   COALESCE(\"weight\", '_NA_') AS \"weight\"\n",
      "  FROM\n",
      "   \"extend_0\"\n",
      " ) ,\n",
      " \"table_reference_2\" AS (\n",
      "  SELECT\n",
      "   \"value\" ,\n",
      "   \"replacement\" ,\n",
      "   \"orig_var\" ,\n",
      "   \"treatment_class\" ,\n",
      "   \"variable\"\n",
      "  FROM\n",
      "   \"transform_as_data\"\n",
      " ) ,\n",
      " \"select_rows_3\" AS (\n",
      "  SELECT  -- .select_rows(\"(treatment_class == 'MappedCodeTransform') and (orig_var == 'weight') and (variable == 'weight_logit_code')\")\n",
      "   \"value\" ,\n",
      "   \"replacement\"\n",
      "  FROM\n",
      "   \"table_reference_2\"\n",
      "  WHERE\n",
      "   (\"treatment_class\" = 'MappedCodeTransform') AND (\"orig_var\" = 'weight') AND (\"variable\" = 'weight_logit_code')\n",
      " ) ,\n",
      " \"extend_4\" AS (\n",
      "  SELECT  -- .extend({ 'weight': 'value', 'weight_logit_code': 'replacement'})\n",
      "   \"value\" AS \"weight\" ,\n",
      "   \"replacement\" AS \"weight_logit_code\"\n",
      "  FROM\n",
      "   \"select_rows_3\"\n",
      " ) ,\n",
      " \"natural_join_5\" AS (\n",
      "  SELECT  -- _0..natural_join(b= _1, by=['weight'], jointype='LEFT')\n",
      "   COALESCE(\"extend_1\".\"weight\", \"extend_4\".\"weight\") AS \"weight\" ,\n",
      "   \"orig_index\" ,\n",
      "   \"encounter_id\" ,\n",
      "   \"time_in_hospital\" ,\n",
      "   \"weight_is_bad\" ,\n",
      "   \"patient_nbr\" ,\n",
      "   \"weight_lev__NA_\" ,\n",
      "   \"readmitted\" ,\n",
      "   \"weight_logit_code\"\n",
      "  FROM\n",
      "  (\n",
      "   \"extend_1\"\n",
      "  LEFT JOIN\n",
      "   \"extend_4\"\n",
      "  ON\n",
      "   \"extend_1\".\"weight\" = \"extend_4\".\"weight\"\n",
      "  )\n",
      " ) ,\n",
      " \"table_reference_6\" AS (\n",
      "  SELECT\n",
      "   \"value\" ,\n",
      "   \"replacement\" ,\n",
      "   \"orig_var\" ,\n",
      "   \"treatment_class\" ,\n",
      "   \"variable\"\n",
      "  FROM\n",
      "   \"transform_as_data\"\n",
      " ) ,\n",
      " \"select_rows_7\" AS (\n",
      "  SELECT  -- .select_rows(\"(treatment_class == 'MappedCodeTransform') and (orig_var == 'weight') and (variable == 'weight_prevalence_code')\")\n",
      "   \"value\" ,\n",
      "   \"replacement\"\n",
      "  FROM\n",
      "   \"table_reference_6\"\n",
      "  WHERE\n",
      "   (\"treatment_class\" = 'MappedCodeTransform') AND (\"orig_var\" = 'weight') AND (\"variable\" = 'weight_prevalence_code')\n",
      " ) ,\n",
      " \"extend_8\" AS (\n",
      "  SELECT  -- .extend({ 'weight': 'value', 'weight_prevalence_code': 'replacement'})\n",
      "   \"value\" AS \"weight\" ,\n",
      "   \"replacement\" AS \"weight_prevalence_code\"\n",
      "  FROM\n",
      "   \"select_rows_7\"\n",
      " ) ,\n",
      " \"natural_join_9\" AS (\n",
      "  SELECT  -- _0..natural_join(b= _1, by=['weight'], jointype='LEFT')\n",
      "   \"orig_index\" ,\n",
      "   \"weight_logit_code\" ,\n",
      "   \"encounter_id\" ,\n",
      "   \"time_in_hospital\" ,\n",
      "   \"weight_is_bad\" ,\n",
      "   \"patient_nbr\" ,\n",
      "   \"weight_lev__NA_\" ,\n",
      "   \"readmitted\" ,\n",
      "   \"weight_prevalence_code\"\n",
      "  FROM\n",
      "  (\n",
      "   \"natural_join_5\"\n",
      "  LEFT JOIN\n",
      "   \"extend_8\"\n",
      "  ON\n",
      "   \"natural_join_5\".\"weight\" = \"extend_8\".\"weight\"\n",
      "  )\n",
      " )\n",
      "SELECT  -- .extend({ 'time_in_hospital': 'time_in_hospital.coalesce(4.802)'})\n",
      " \"orig_index\" ,\n",
      " \"weight_logit_code\" ,\n",
      " \"encounter_id\" ,\n",
      " \"weight_is_bad\" ,\n",
      " \"patient_nbr\" ,\n",
      " \"weight_prevalence_code\" ,\n",
      " \"weight_lev__NA_\" ,\n",
      " \"readmitted\" ,\n",
      " COALESCE(\"time_in_hospital\", 4.802) AS \"time_in_hospital\"\n",
      "FROM\n",
      " \"natural_join_9\"\n",
      "\n",
      "-- data_algebra SQL https://github.com/WinVector/data_algebra\n",
      "--  dialect: SQLiteModel\n",
      "--       string quote: '\n",
      "--   identifier quote: \"\n",
      "WITH\n",
      " \"extend_0\" AS (\n",
      "  SELECT  -- .extend({ 'weight_is_bad': '(weight.is_bad()).if_else(1.0, 0.0)', 'weight_lev__NA_': \"(weight.coalesce('_NA_') == '_NA_').if_else(1.0, 0.0)\"})\n",
      "   \"orig_index\" ,\n",
      "   \"encounter_id\" ,\n",
      "   \"time_in_hospital\" ,\n",
      "   \"patient_nbr\" ,\n",
      "   \"readmitted\" ,\n",
      "   \"weight\" ,\n",
      "   CASE WHEN is_bad(\"weight\") THEN 1.0 WHEN NOT is_bad(\"weight\") THEN 0.0 ELSE NULL END AS \"weight_is_bad\" ,\n",
      "   CASE WHEN (COALESCE(\"weight\", '_NA_') = '_NA_') THEN 1.0 WHEN NOT (COALESCE(\"weight\", '_NA_') = '_NA_') THEN 0.0 ELSE NULL END AS \"weight_lev__NA_\"\n",
      "  FROM\n",
      "   \"data\"\n",
      " ) ,\n",
      " \"extend_1\" AS (\n",
      "  SELECT  -- .extend({ 'weight': \"weight.coalesce('_NA_')\"})\n",
      "   \"orig_index\" ,\n",
      "   \"encounter_id\" ,\n",
      "   \"time_in_hospital\" ,\n",
      "   \"weight_is_bad\" ,\n",
      "   \"patient_nbr\" ,\n",
      "   \"weight_lev__NA_\" ,\n",
      "   \"readmitted\" ,\n",
      "   COALESCE(\"weight\", '_NA_') AS \"weight\"\n",
      "  FROM\n",
      "   \"extend_0\"\n",
      " ) ,\n",
      " \"table_reference_2\" AS (\n",
      "  SELECT\n",
      "   \"value\" ,\n",
      "   \"replacement\" ,\n",
      "   \"orig_var\" ,\n",
      "   \"treatment_class\" ,\n",
      "   \"variable\"\n",
      "  FROM\n",
      "   \"transform_as_data\"\n",
      " ) ,\n",
      " \"select_rows_3\" AS (\n",
      "  SELECT  -- .select_rows(\"(treatment_class == 'MappedCodeTransform') and (orig_var == 'weight') and (variable == 'weight_logit_code')\")\n",
      "   \"value\" ,\n",
      "   \"replacement\"\n",
      "  FROM\n",
      "   \"table_reference_2\"\n",
      "  WHERE\n",
      "   (\"treatment_class\" = 'MappedCodeTransform') AND (\"orig_var\" = 'weight') AND (\"variable\" = 'weight_logit_code')\n",
      " ) ,\n",
      " \"extend_4\" AS (\n",
      "  SELECT  -- .extend({ 'weight': 'value', 'weight_logit_code': 'replacement'})\n",
      "   \"value\" AS \"weight\" ,\n",
      "   \"replacement\" AS \"weight_logit_code\"\n",
      "  FROM\n",
      "   \"select_rows_3\"\n",
      " ) ,\n",
      " \"natural_join_5\" AS (\n",
      "  SELECT  -- _0..natural_join(b= _1, by=['weight'], jointype='LEFT')\n",
      "   COALESCE(\"extend_1\".\"weight\", \"extend_4\".\"weight\") AS \"weight\" ,\n",
      "   \"orig_index\" ,\n",
      "   \"encounter_id\" ,\n",
      "   \"time_in_hospital\" ,\n",
      "   \"weight_is_bad\" ,\n",
      "   \"patient_nbr\" ,\n",
      "   \"weight_lev__NA_\" ,\n",
      "   \"readmitted\" ,\n",
      "   \"weight_logit_code\"\n",
      "  FROM\n",
      "  (\n",
      "   \"extend_1\"\n",
      "  LEFT JOIN\n",
      "   \"extend_4\"\n",
      "  ON\n",
      "   \"extend_1\".\"weight\" = \"extend_4\".\"weight\"\n",
      "  )\n",
      " ) ,\n",
      " \"table_reference_6\" AS (\n",
      "  SELECT\n",
      "   \"value\" ,\n",
      "   \"replacement\" ,\n",
      "   \"orig_var\" ,\n",
      "   \"treatment_class\" ,\n",
      "   \"variable\"\n",
      "  FROM\n",
      "   \"transform_as_data\"\n",
      " ) ,\n",
      " \"select_rows_7\" AS (\n",
      "  SELECT  -- .select_rows(\"(treatment_class == 'MappedCodeTransform') and (orig_var == 'weight') and (variable == 'weight_prevalence_code')\")\n",
      "   \"value\" ,\n",
      "   \"replacement\"\n",
      "  FROM\n",
      "   \"table_reference_6\"\n",
      "  WHERE\n",
      "   (\"treatment_class\" = 'MappedCodeTransform') AND (\"orig_var\" = 'weight') AND (\"variable\" = 'weight_prevalence_code')\n",
      " ) ,\n",
      " \"extend_8\" AS (\n",
      "  SELECT  -- .extend({ 'weight': 'value', 'weight_prevalence_code': 'replacement'})\n",
      "   \"value\" AS \"weight\" ,\n",
      "   \"replacement\" AS \"weight_prevalence_code\"\n",
      "  FROM\n",
      "   \"select_rows_7\"\n",
      " ) ,\n",
      " \"natural_join_9\" AS (\n",
      "  SELECT  -- _0..natural_join(b= _1, by=['weight'], jointype='LEFT')\n",
      "   \"orig_index\" ,\n",
      "   \"weight_logit_code\" ,\n",
      "   \"encounter_id\" ,\n",
      "   \"time_in_hospital\" ,\n",
      "   \"weight_is_bad\" ,\n",
      "   \"patient_nbr\" ,\n",
      "   \"weight_lev__NA_\" ,\n",
      "   \"readmitted\" ,\n",
      "   \"weight_prevalence_code\"\n",
      "  FROM\n",
      "  (\n",
      "   \"natural_join_5\"\n",
      "  LEFT JOIN\n",
      "   \"extend_8\"\n",
      "  ON\n",
      "   \"natural_join_5\".\"weight\" = \"extend_8\".\"weight\"\n",
      "  )\n",
      " )\n",
      "SELECT  -- .extend({ 'time_in_hospital': 'time_in_hospital.coalesce(4.802)'})\n",
      " \"orig_index\" ,\n",
      " \"weight_logit_code\" ,\n",
      " \"encounter_id\" ,\n",
      " \"weight_is_bad\" ,\n",
      " \"patient_nbr\" ,\n",
      " \"weight_prevalence_code\" ,\n",
      " \"weight_lev__NA_\" ,\n",
      " \"readmitted\" ,\n",
      " COALESCE(\"time_in_hospital\", 4.802) AS \"time_in_hospital\"\n",
      "FROM\n",
      " \"natural_join_9\"\n",
      "\n"
     ]
    }
   ],
   "source": [
    "db_handle = data_algebra.SQLite.example_handle()\n",
    "\n",
    "sql = db_handle.to_sql(ops)\n",
    "print(sql)"
   ],
   "metadata": {
    "collapsed": false,
    "pycharm": {
     "name": "#%%\n"
    }
   }
  },
  {
   "cell_type": "code",
   "execution_count": 19,
   "outputs": [
    {
     "name": "stdout",
     "output_type": "stream",
     "text": [
      "SELECT * FROM res WHERE orig_index IN (0, 1, 2, 3, 4, 995, 996, 997, 998, 999) ORDER BY orig_index LIMIT 10\n"
     ]
    },
    {
     "data": {
      "text/plain": "   orig_index  weight_logit_code  encounter_id  weight_is_bad  patient_nbr  \\\n0           0           0.006737       2278392            1.0      8222157   \n1           1           0.006737         64410            1.0     86047875   \n2           2           0.006737        500364            1.0     82442376   \n3           3           0.006737         35754            1.0     82637451   \n4           4           0.006737         55842            1.0     84259809   \n5         995           0.006737       8860284            1.0     94419315   \n6         996           0.006737       8860944            1.0       338247   \n7         997           0.006737       8864718            1.0       695439   \n8         998           0.000000       8866632            0.0    103586670   \n9         999           0.006737       8867106            1.0      4988970   \n\n   weight_prevalence_code  weight_lev__NA_  readmitted  time_in_hospital  \n0                   0.993              1.0           0                 1  \n1                   0.993              1.0           0                 2  \n2                   0.993              1.0           0                 2  \n3                   0.993              1.0           0                 3  \n4                   0.993              1.0           0                 4  \n5                   0.993              1.0           0                 3  \n6                   0.993              1.0           0                 4  \n7                   0.993              1.0           0                 1  \n8                   0.001              0.0           0                 6  \n9                   0.993              1.0           0                 9  ",
      "text/html": "<div>\n<style scoped>\n    .dataframe tbody tr th:only-of-type {\n        vertical-align: middle;\n    }\n\n    .dataframe tbody tr th {\n        vertical-align: top;\n    }\n\n    .dataframe thead th {\n        text-align: right;\n    }\n</style>\n<table border=\"1\" class=\"dataframe\">\n  <thead>\n    <tr style=\"text-align: right;\">\n      <th></th>\n      <th>orig_index</th>\n      <th>weight_logit_code</th>\n      <th>encounter_id</th>\n      <th>weight_is_bad</th>\n      <th>patient_nbr</th>\n      <th>weight_prevalence_code</th>\n      <th>weight_lev__NA_</th>\n      <th>readmitted</th>\n      <th>time_in_hospital</th>\n    </tr>\n  </thead>\n  <tbody>\n    <tr>\n      <th>0</th>\n      <td>0</td>\n      <td>0.006737</td>\n      <td>2278392</td>\n      <td>1.0</td>\n      <td>8222157</td>\n      <td>0.993</td>\n      <td>1.0</td>\n      <td>0</td>\n      <td>1</td>\n    </tr>\n    <tr>\n      <th>1</th>\n      <td>1</td>\n      <td>0.006737</td>\n      <td>64410</td>\n      <td>1.0</td>\n      <td>86047875</td>\n      <td>0.993</td>\n      <td>1.0</td>\n      <td>0</td>\n      <td>2</td>\n    </tr>\n    <tr>\n      <th>2</th>\n      <td>2</td>\n      <td>0.006737</td>\n      <td>500364</td>\n      <td>1.0</td>\n      <td>82442376</td>\n      <td>0.993</td>\n      <td>1.0</td>\n      <td>0</td>\n      <td>2</td>\n    </tr>\n    <tr>\n      <th>3</th>\n      <td>3</td>\n      <td>0.006737</td>\n      <td>35754</td>\n      <td>1.0</td>\n      <td>82637451</td>\n      <td>0.993</td>\n      <td>1.0</td>\n      <td>0</td>\n      <td>3</td>\n    </tr>\n    <tr>\n      <th>4</th>\n      <td>4</td>\n      <td>0.006737</td>\n      <td>55842</td>\n      <td>1.0</td>\n      <td>84259809</td>\n      <td>0.993</td>\n      <td>1.0</td>\n      <td>0</td>\n      <td>4</td>\n    </tr>\n    <tr>\n      <th>5</th>\n      <td>995</td>\n      <td>0.006737</td>\n      <td>8860284</td>\n      <td>1.0</td>\n      <td>94419315</td>\n      <td>0.993</td>\n      <td>1.0</td>\n      <td>0</td>\n      <td>3</td>\n    </tr>\n    <tr>\n      <th>6</th>\n      <td>996</td>\n      <td>0.006737</td>\n      <td>8860944</td>\n      <td>1.0</td>\n      <td>338247</td>\n      <td>0.993</td>\n      <td>1.0</td>\n      <td>0</td>\n      <td>4</td>\n    </tr>\n    <tr>\n      <th>7</th>\n      <td>997</td>\n      <td>0.006737</td>\n      <td>8864718</td>\n      <td>1.0</td>\n      <td>695439</td>\n      <td>0.993</td>\n      <td>1.0</td>\n      <td>0</td>\n      <td>1</td>\n    </tr>\n    <tr>\n      <th>8</th>\n      <td>998</td>\n      <td>0.000000</td>\n      <td>8866632</td>\n      <td>0.0</td>\n      <td>103586670</td>\n      <td>0.001</td>\n      <td>0.0</td>\n      <td>0</td>\n      <td>6</td>\n    </tr>\n    <tr>\n      <th>9</th>\n      <td>999</td>\n      <td>0.006737</td>\n      <td>8867106</td>\n      <td>1.0</td>\n      <td>4988970</td>\n      <td>0.993</td>\n      <td>1.0</td>\n      <td>0</td>\n      <td>9</td>\n    </tr>\n  </tbody>\n</table>\n</div>"
     },
     "execution_count": 9,
     "metadata": {},
     "output_type": "execute_result"
    },
    {
     "name": "stdout",
     "output_type": "stream",
     "text": [
      "SELECT * FROM res WHERE orig_index IN (0, 1, 2, 3, 4, 995, 996, 997, 998, 999) ORDER BY orig_index LIMIT 10\n"
     ]
    },
    {
     "data": {
      "text/plain": "   orig_index  weight_logit_code  encounter_id  weight_is_bad  patient_nbr  \\\n0           0           0.006737       2278392            1.0      8222157   \n1           1           0.006737         64410            1.0     86047875   \n2           2           0.006737        500364            1.0     82442376   \n3           3           0.006737         35754            1.0     82637451   \n4           4           0.006737         55842            1.0     84259809   \n5         995           0.006737       8860284            1.0     94419315   \n6         996           0.006737       8860944            1.0       338247   \n7         997           0.006737       8864718            1.0       695439   \n8         998           0.000000       8866632            0.0    103586670   \n9         999           0.006737       8867106            1.0      4988970   \n\n   weight_prevalence_code  weight_lev__NA_  readmitted  time_in_hospital  \n0                   0.993              1.0           0                 1  \n1                   0.993              1.0           0                 2  \n2                   0.993              1.0           0                 2  \n3                   0.993              1.0           0                 3  \n4                   0.993              1.0           0                 4  \n5                   0.993              1.0           0                 3  \n6                   0.993              1.0           0                 4  \n7                   0.993              1.0           0                 1  \n8                   0.001              0.0           0                 6  \n9                   0.993              1.0           0                 9  ",
      "text/html": "<div>\n<style scoped>\n    .dataframe tbody tr th:only-of-type {\n        vertical-align: middle;\n    }\n\n    .dataframe tbody tr th {\n        vertical-align: top;\n    }\n\n    .dataframe thead th {\n        text-align: right;\n    }\n</style>\n<table border=\"1\" class=\"dataframe\">\n  <thead>\n    <tr style=\"text-align: right;\">\n      <th></th>\n      <th>orig_index</th>\n      <th>weight_logit_code</th>\n      <th>encounter_id</th>\n      <th>weight_is_bad</th>\n      <th>patient_nbr</th>\n      <th>weight_prevalence_code</th>\n      <th>weight_lev__NA_</th>\n      <th>readmitted</th>\n      <th>time_in_hospital</th>\n    </tr>\n  </thead>\n  <tbody>\n    <tr>\n      <th>0</th>\n      <td>0</td>\n      <td>0.006737</td>\n      <td>2278392</td>\n      <td>1.0</td>\n      <td>8222157</td>\n      <td>0.993</td>\n      <td>1.0</td>\n      <td>0</td>\n      <td>1</td>\n    </tr>\n    <tr>\n      <th>1</th>\n      <td>1</td>\n      <td>0.006737</td>\n      <td>64410</td>\n      <td>1.0</td>\n      <td>86047875</td>\n      <td>0.993</td>\n      <td>1.0</td>\n      <td>0</td>\n      <td>2</td>\n    </tr>\n    <tr>\n      <th>2</th>\n      <td>2</td>\n      <td>0.006737</td>\n      <td>500364</td>\n      <td>1.0</td>\n      <td>82442376</td>\n      <td>0.993</td>\n      <td>1.0</td>\n      <td>0</td>\n      <td>2</td>\n    </tr>\n    <tr>\n      <th>3</th>\n      <td>3</td>\n      <td>0.006737</td>\n      <td>35754</td>\n      <td>1.0</td>\n      <td>82637451</td>\n      <td>0.993</td>\n      <td>1.0</td>\n      <td>0</td>\n      <td>3</td>\n    </tr>\n    <tr>\n      <th>4</th>\n      <td>4</td>\n      <td>0.006737</td>\n      <td>55842</td>\n      <td>1.0</td>\n      <td>84259809</td>\n      <td>0.993</td>\n      <td>1.0</td>\n      <td>0</td>\n      <td>4</td>\n    </tr>\n    <tr>\n      <th>5</th>\n      <td>995</td>\n      <td>0.006737</td>\n      <td>8860284</td>\n      <td>1.0</td>\n      <td>94419315</td>\n      <td>0.993</td>\n      <td>1.0</td>\n      <td>0</td>\n      <td>3</td>\n    </tr>\n    <tr>\n      <th>6</th>\n      <td>996</td>\n      <td>0.006737</td>\n      <td>8860944</td>\n      <td>1.0</td>\n      <td>338247</td>\n      <td>0.993</td>\n      <td>1.0</td>\n      <td>0</td>\n      <td>4</td>\n    </tr>\n    <tr>\n      <th>7</th>\n      <td>997</td>\n      <td>0.006737</td>\n      <td>8864718</td>\n      <td>1.0</td>\n      <td>695439</td>\n      <td>0.993</td>\n      <td>1.0</td>\n      <td>0</td>\n      <td>1</td>\n    </tr>\n    <tr>\n      <th>8</th>\n      <td>998</td>\n      <td>0.000000</td>\n      <td>8866632</td>\n      <td>0.0</td>\n      <td>103586670</td>\n      <td>0.001</td>\n      <td>0.0</td>\n      <td>0</td>\n      <td>6</td>\n    </tr>\n    <tr>\n      <th>9</th>\n      <td>999</td>\n      <td>0.006737</td>\n      <td>8867106</td>\n      <td>1.0</td>\n      <td>4988970</td>\n      <td>0.993</td>\n      <td>1.0</td>\n      <td>0</td>\n      <td>9</td>\n    </tr>\n  </tbody>\n</table>\n</div>"
     },
     "execution_count": 19,
     "metadata": {},
     "output_type": "execute_result"
    }
   ],
   "source": [
    "db_handle.insert_table(data.loc[:, columns], table_name='data')\n",
    "db_handle.insert_table(transform_as_data, table_name='transform_as_data')\n",
    "\n",
    "db_handle.execute('CREATE TABLE res AS ' + sql)\n",
    "\n",
    "lst_ids = str(tuple(list(range(5)) + list(range(n-5, n))))\n",
    "q = f'SELECT * FROM res WHERE orig_index IN {lst_ids} ORDER BY orig_index LIMIT 10'\n",
    "print(q)\n",
    "db_handle.read_query(q)"
   ],
   "metadata": {
    "collapsed": false,
    "pycharm": {
     "name": "#%%\n"
    }
   }
  },
  {
   "cell_type": "code",
   "execution_count": 20,
   "outputs": [],
   "source": [
    "db_handle.close()"
   ],
   "metadata": {
    "collapsed": false,
    "pycharm": {
     "name": "#%%\n"
    }
   }
  }
 ],
 "metadata": {
  "kernelspec": {
   "display_name": "Python 3",
   "language": "python",
   "name": "python3"
  },
  "language_info": {
   "codemirror_mode": {
    "name": "ipython",
    "version": 2
   },
   "file_extension": ".py",
   "mimetype": "text/x-python",
   "name": "python",
   "nbconvert_exporter": "python",
   "pygments_lexer": "ipython2",
   "version": "2.7.6"
  }
 },
 "nbformat": 4,
 "nbformat_minor": 0
}