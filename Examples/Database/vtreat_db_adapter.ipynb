{
 "cells": [
  {
   "cell_type": "markdown",
   "metadata": {
    "pycharm": {
     "name": "#%% md\n"
    }
   },
   "source": [
    "Machine learning \"in the database\" (including systems such as Spark) is an increasingly popular topic. And where there is machine learning, there is a need for data preparation. Many machine learning algorithms expect all data to be numeric without missing values. [vtreat]() is a package (available for [Python](https://github.com/WinVector/pyvtreat) or for [R](https://github.com/WinVector/vtreat)) that reliably converts fairly wild data into such a format. To support machine leaning in the database we are adding the ability to both export vtreat data preparations as data (so they can be later used by stored procedures) and as [data algebra](https://github.com/WinVector/data_algebra) pipelines (so they can be immediately translated to executable SQL).\n",
    "\n",
    "This note is a demonstration of converting a [Python vtreat](https://github.com/WinVector/pyvtreat) data preparation into a [data algebra](https://github.com/WinVector/data_algebra) pipeline, which can then in turn be converted to SQL queries.\n",
    "[R vtreat](https://winvector.github.io/vtreat/) already has similar functionality with [as_rquery_plan()](https://winvector.github.io/vtreat/reference/as_rquery_plan.html).\n",
    "\n",
    "Let's work a simple problem.\n",
    "\n",
    "First we import our modules."
   ]
  },
  {
   "cell_type": "code",
   "execution_count": 1,
   "metadata": {
    "collapsed": false,
    "jupyter": {
     "outputs_hidden": false
    },
    "pycharm": {
     "name": "#%%\n"
    }
   },
   "outputs": [],
   "source": [
    "\n",
    "import pandas as pd\n",
    "\n",
    "from data_algebra.data_ops import *\n",
    "import data_algebra.SQLite\n",
    "import data_algebra.test_util\n",
    "import vtreat\n",
    "from vtreat.vtreat_db_adapter import as_data_algebra_pipeline"
   ]
  },
  {
   "cell_type": "markdown",
   "metadata": {
    "pycharm": {
     "name": "#%% md\n"
    }
   },
   "source": [
    "Now let's bring in and arrange our data."
   ]
  },
  {
   "cell_type": "code",
   "execution_count": 2,
   "metadata": {
    "collapsed": false,
    "jupyter": {
     "outputs_hidden": false
    },
    "pycharm": {
     "name": "#%%\n"
    }
   },
   "outputs": [],
   "source": [
    "# Data from:\n",
    "# https://archive.ics.uci.edu/ml/datasets/Diabetes+130-US+hospitals+for+years+1999-2008\n",
    "\n",
    "data_all = pd.read_csv(\"diabetes_head.csv\")\n",
    "n = data_all.shape[0]\n",
    "data_all['orig_index'] = range(n)\n",
    "d_train = data_all.loc[range(n-5), :].reset_index(inplace=False, drop=True)\n",
    "d_app = data_all.loc[range(n-5, n)].reset_index(inplace=False, drop=True)"
   ]
  },
  {
   "cell_type": "markdown",
   "metadata": {
    "pycharm": {
     "name": "#%% md\n"
    }
   },
   "source": [
    "We define our problem by declaring which columns is the dependent variable, which columns are potential explanitory variables, and any other columns we wish to cary around."
   ]
  },
  {
   "cell_type": "code",
   "execution_count": 3,
   "metadata": {
    "collapsed": false,
    "jupyter": {
     "outputs_hidden": false
    },
    "pycharm": {
     "name": "#%%\n"
    }
   },
   "outputs": [
    {
     "data": {
      "text/html": [
       "<div>\n",
       "<style scoped>\n",
       "    .dataframe tbody tr th:only-of-type {\n",
       "        vertical-align: middle;\n",
       "    }\n",
       "\n",
       "    .dataframe tbody tr th {\n",
       "        vertical-align: top;\n",
       "    }\n",
       "\n",
       "    .dataframe thead th {\n",
       "        text-align: right;\n",
       "    }\n",
       "</style>\n",
       "<table border=\"1\" class=\"dataframe\">\n",
       "  <thead>\n",
       "    <tr style=\"text-align: right;\">\n",
       "      <th></th>\n",
       "      <th>time_in_hospital</th>\n",
       "      <th>weight</th>\n",
       "      <th>orig_index</th>\n",
       "      <th>encounter_id</th>\n",
       "      <th>patient_nbr</th>\n",
       "      <th>readmitted</th>\n",
       "    </tr>\n",
       "  </thead>\n",
       "  <tbody>\n",
       "    <tr>\n",
       "      <th>0</th>\n",
       "      <td>1</td>\n",
       "      <td>NaN</td>\n",
       "      <td>0</td>\n",
       "      <td>2278392</td>\n",
       "      <td>8222157</td>\n",
       "      <td>False</td>\n",
       "    </tr>\n",
       "    <tr>\n",
       "      <th>1</th>\n",
       "      <td>2</td>\n",
       "      <td>NaN</td>\n",
       "      <td>1</td>\n",
       "      <td>64410</td>\n",
       "      <td>86047875</td>\n",
       "      <td>False</td>\n",
       "    </tr>\n",
       "    <tr>\n",
       "      <th>2</th>\n",
       "      <td>2</td>\n",
       "      <td>NaN</td>\n",
       "      <td>2</td>\n",
       "      <td>500364</td>\n",
       "      <td>82442376</td>\n",
       "      <td>False</td>\n",
       "    </tr>\n",
       "    <tr>\n",
       "      <th>3</th>\n",
       "      <td>3</td>\n",
       "      <td>NaN</td>\n",
       "      <td>3</td>\n",
       "      <td>35754</td>\n",
       "      <td>82637451</td>\n",
       "      <td>False</td>\n",
       "    </tr>\n",
       "    <tr>\n",
       "      <th>4</th>\n",
       "      <td>4</td>\n",
       "      <td>NaN</td>\n",
       "      <td>4</td>\n",
       "      <td>55842</td>\n",
       "      <td>84259809</td>\n",
       "      <td>False</td>\n",
       "    </tr>\n",
       "    <tr>\n",
       "      <th>...</th>\n",
       "      <td>...</td>\n",
       "      <td>...</td>\n",
       "      <td>...</td>\n",
       "      <td>...</td>\n",
       "      <td>...</td>\n",
       "      <td>...</td>\n",
       "    </tr>\n",
       "    <tr>\n",
       "      <th>990</th>\n",
       "      <td>7</td>\n",
       "      <td>NaN</td>\n",
       "      <td>990</td>\n",
       "      <td>8834994</td>\n",
       "      <td>66138012</td>\n",
       "      <td>False</td>\n",
       "    </tr>\n",
       "    <tr>\n",
       "      <th>991</th>\n",
       "      <td>6</td>\n",
       "      <td>NaN</td>\n",
       "      <td>991</td>\n",
       "      <td>8851308</td>\n",
       "      <td>71896626</td>\n",
       "      <td>False</td>\n",
       "    </tr>\n",
       "    <tr>\n",
       "      <th>992</th>\n",
       "      <td>11</td>\n",
       "      <td>NaN</td>\n",
       "      <td>992</td>\n",
       "      <td>8856594</td>\n",
       "      <td>79469091</td>\n",
       "      <td>False</td>\n",
       "    </tr>\n",
       "    <tr>\n",
       "      <th>993</th>\n",
       "      <td>12</td>\n",
       "      <td>NaN</td>\n",
       "      <td>993</td>\n",
       "      <td>8857092</td>\n",
       "      <td>92251359</td>\n",
       "      <td>True</td>\n",
       "    </tr>\n",
       "    <tr>\n",
       "      <th>994</th>\n",
       "      <td>6</td>\n",
       "      <td>NaN</td>\n",
       "      <td>994</td>\n",
       "      <td>8857164</td>\n",
       "      <td>30360042</td>\n",
       "      <td>False</td>\n",
       "    </tr>\n",
       "  </tbody>\n",
       "</table>\n",
       "<p>995 rows × 6 columns</p>\n",
       "</div>"
      ],
      "text/plain": [
       "     time_in_hospital weight  orig_index  encounter_id  patient_nbr  \\\n",
       "0                   1    NaN           0       2278392      8222157   \n",
       "1                   2    NaN           1         64410     86047875   \n",
       "2                   2    NaN           2        500364     82442376   \n",
       "3                   3    NaN           3         35754     82637451   \n",
       "4                   4    NaN           4         55842     84259809   \n",
       "..                ...    ...         ...           ...          ...   \n",
       "990                 7    NaN         990       8834994     66138012   \n",
       "991                 6    NaN         991       8851308     71896626   \n",
       "992                11    NaN         992       8856594     79469091   \n",
       "993                12    NaN         993       8857092     92251359   \n",
       "994                 6    NaN         994       8857164     30360042   \n",
       "\n",
       "     readmitted  \n",
       "0         False  \n",
       "1         False  \n",
       "2         False  \n",
       "3         False  \n",
       "4         False  \n",
       "..          ...  \n",
       "990       False  \n",
       "991       False  \n",
       "992       False  \n",
       "993        True  \n",
       "994       False  \n",
       "\n",
       "[995 rows x 6 columns]"
      ]
     },
     "execution_count": 3,
     "metadata": {},
     "output_type": "execute_result"
    }
   ],
   "source": [
    "outcome_name = \"readmitted\"\n",
    "cols_to_copy = [\"orig_index\", \"encounter_id\", \"patient_nbr\"] + [outcome_name]\n",
    "vars = ['time_in_hospital', 'weight']\n",
    "columns = vars + cols_to_copy\n",
    "\n",
    "d_train.loc[:, columns]"
   ]
  },
  {
   "cell_type": "markdown",
   "metadata": {
    "pycharm": {
     "name": "#%% md\n"
    }
   },
   "source": [
    "Now we specify our vtreat data preparation scheme. Documentation and tutorials on these concepts can be found [here](https://github.com/WinVector/pyvtreat)."
   ]
  },
  {
   "cell_type": "code",
   "execution_count": 4,
   "metadata": {
    "collapsed": false,
    "jupyter": {
     "outputs_hidden": false
    },
    "pycharm": {
     "name": "#%%\n"
    }
   },
   "outputs": [],
   "source": [
    "treatment = vtreat.BinomialOutcomeTreatment(\n",
    "    cols_to_copy=cols_to_copy,\n",
    "    outcome_name=outcome_name,\n",
    "    outcome_target=True,\n",
    "    params=vtreat.vtreat_parameters(\n",
    "        {\"sparse_indicators\": False, \"filter_to_recommended\": False,}\n",
    "    ),\n",
    ")\n",
    "\n",
    "d_train_treated = treatment.fit_transform(d_train.loc[:, columns])"
   ]
  },
  {
   "cell_type": "markdown",
   "metadata": {
    "pycharm": {
     "name": "#%% md\n"
    }
   },
   "source": [
    "We can apply this data treatment to new data."
   ]
  },
  {
   "cell_type": "code",
   "execution_count": 5,
   "metadata": {
    "collapsed": false,
    "jupyter": {
     "outputs_hidden": false
    },
    "pycharm": {
     "name": "#%%\n"
    }
   },
   "outputs": [
    {
     "data": {
      "text/html": [
       "<div>\n",
       "<style scoped>\n",
       "    .dataframe tbody tr th:only-of-type {\n",
       "        vertical-align: middle;\n",
       "    }\n",
       "\n",
       "    .dataframe tbody tr th {\n",
       "        vertical-align: top;\n",
       "    }\n",
       "\n",
       "    .dataframe thead th {\n",
       "        text-align: right;\n",
       "    }\n",
       "</style>\n",
       "<table border=\"1\" class=\"dataframe\">\n",
       "  <thead>\n",
       "    <tr style=\"text-align: right;\">\n",
       "      <th></th>\n",
       "      <th>orig_index</th>\n",
       "      <th>encounter_id</th>\n",
       "      <th>patient_nbr</th>\n",
       "      <th>readmitted</th>\n",
       "      <th>weight_is_bad</th>\n",
       "      <th>time_in_hospital</th>\n",
       "      <th>weight_logit_code</th>\n",
       "      <th>weight_prevalence_code</th>\n",
       "      <th>weight_lev__NA_</th>\n",
       "    </tr>\n",
       "  </thead>\n",
       "  <tbody>\n",
       "    <tr>\n",
       "      <th>0</th>\n",
       "      <td>995</td>\n",
       "      <td>8860284</td>\n",
       "      <td>94419315</td>\n",
       "      <td>False</td>\n",
       "      <td>1.0</td>\n",
       "      <td>3.0</td>\n",
       "      <td>0.005825</td>\n",
       "      <td>0.99397</td>\n",
       "      <td>1.0</td>\n",
       "    </tr>\n",
       "    <tr>\n",
       "      <th>1</th>\n",
       "      <td>996</td>\n",
       "      <td>8860944</td>\n",
       "      <td>338247</td>\n",
       "      <td>False</td>\n",
       "      <td>1.0</td>\n",
       "      <td>4.0</td>\n",
       "      <td>0.005825</td>\n",
       "      <td>0.99397</td>\n",
       "      <td>1.0</td>\n",
       "    </tr>\n",
       "    <tr>\n",
       "      <th>2</th>\n",
       "      <td>997</td>\n",
       "      <td>8864718</td>\n",
       "      <td>695439</td>\n",
       "      <td>False</td>\n",
       "      <td>1.0</td>\n",
       "      <td>1.0</td>\n",
       "      <td>0.005825</td>\n",
       "      <td>0.99397</td>\n",
       "      <td>1.0</td>\n",
       "    </tr>\n",
       "    <tr>\n",
       "      <th>3</th>\n",
       "      <td>998</td>\n",
       "      <td>8866632</td>\n",
       "      <td>103586670</td>\n",
       "      <td>False</td>\n",
       "      <td>0.0</td>\n",
       "      <td>6.0</td>\n",
       "      <td>0.000000</td>\n",
       "      <td>0.00000</td>\n",
       "      <td>0.0</td>\n",
       "    </tr>\n",
       "    <tr>\n",
       "      <th>4</th>\n",
       "      <td>999</td>\n",
       "      <td>8867106</td>\n",
       "      <td>4988970</td>\n",
       "      <td>False</td>\n",
       "      <td>1.0</td>\n",
       "      <td>9.0</td>\n",
       "      <td>0.005825</td>\n",
       "      <td>0.99397</td>\n",
       "      <td>1.0</td>\n",
       "    </tr>\n",
       "  </tbody>\n",
       "</table>\n",
       "</div>"
      ],
      "text/plain": [
       "   orig_index  encounter_id  patient_nbr  readmitted  weight_is_bad  \\\n",
       "0         995       8860284     94419315       False            1.0   \n",
       "1         996       8860944       338247       False            1.0   \n",
       "2         997       8864718       695439       False            1.0   \n",
       "3         998       8866632    103586670       False            0.0   \n",
       "4         999       8867106      4988970       False            1.0   \n",
       "\n",
       "   time_in_hospital  weight_logit_code  weight_prevalence_code  \\\n",
       "0               3.0           0.005825                 0.99397   \n",
       "1               4.0           0.005825                 0.99397   \n",
       "2               1.0           0.005825                 0.99397   \n",
       "3               6.0           0.000000                 0.00000   \n",
       "4               9.0           0.005825                 0.99397   \n",
       "\n",
       "   weight_lev__NA_  \n",
       "0              1.0  \n",
       "1              1.0  \n",
       "2              1.0  \n",
       "3              0.0  \n",
       "4              1.0  "
      ]
     },
     "execution_count": 5,
     "metadata": {},
     "output_type": "execute_result"
    }
   ],
   "source": [
    "d_app_treated = treatment.transform(d_app.loc[:, columns])\n",
    "\n",
    "d_app_treated"
   ]
  },
  {
   "cell_type": "markdown",
   "metadata": {
    "pycharm": {
     "name": "#%% md\n"
    }
   },
   "source": [
    "Now for the feature that is new for vtreat version 1.0.1 (not yet released to PyPi). We can export the entire fit data preparation plan as a single table."
   ]
  },
  {
   "cell_type": "code",
   "execution_count": 6,
   "metadata": {
    "collapsed": false,
    "jupyter": {
     "outputs_hidden": false
    },
    "pycharm": {
     "name": "#%%\n"
    }
   },
   "outputs": [
    {
     "data": {
      "text/html": [
       "<div>\n",
       "<style scoped>\n",
       "    .dataframe tbody tr th:only-of-type {\n",
       "        vertical-align: middle;\n",
       "    }\n",
       "\n",
       "    .dataframe tbody tr th {\n",
       "        vertical-align: top;\n",
       "    }\n",
       "\n",
       "    .dataframe thead th {\n",
       "        text-align: right;\n",
       "    }\n",
       "</style>\n",
       "<table border=\"1\" class=\"dataframe\">\n",
       "  <thead>\n",
       "    <tr style=\"text-align: right;\">\n",
       "      <th></th>\n",
       "      <th>treatment_class</th>\n",
       "      <th>treatment</th>\n",
       "      <th>orig_var</th>\n",
       "      <th>variable</th>\n",
       "      <th>value</th>\n",
       "      <th>replacement</th>\n",
       "    </tr>\n",
       "  </thead>\n",
       "  <tbody>\n",
       "    <tr>\n",
       "      <th>0</th>\n",
       "      <td>IndicateMissingTransform</td>\n",
       "      <td>missing_indicator</td>\n",
       "      <td>weight</td>\n",
       "      <td>weight_is_bad</td>\n",
       "      <td>_NA_</td>\n",
       "      <td>1.000000e+00</td>\n",
       "    </tr>\n",
       "    <tr>\n",
       "      <th>1</th>\n",
       "      <td>CleanNumericTransform</td>\n",
       "      <td>clean_copy</td>\n",
       "      <td>time_in_hospital</td>\n",
       "      <td>time_in_hospital</td>\n",
       "      <td>_NA_</td>\n",
       "      <td>4.803015e+00</td>\n",
       "    </tr>\n",
       "    <tr>\n",
       "      <th>2</th>\n",
       "      <td>MappedCodeTransform</td>\n",
       "      <td>logit_code</td>\n",
       "      <td>weight</td>\n",
       "      <td>weight_logit_code</td>\n",
       "      <td>[0-25)</td>\n",
       "      <td>-1.110223e-16</td>\n",
       "    </tr>\n",
       "    <tr>\n",
       "      <th>3</th>\n",
       "      <td>MappedCodeTransform</td>\n",
       "      <td>logit_code</td>\n",
       "      <td>weight</td>\n",
       "      <td>weight_logit_code</td>\n",
       "      <td>[50-75)</td>\n",
       "      <td>-1.110223e-16</td>\n",
       "    </tr>\n",
       "    <tr>\n",
       "      <th>4</th>\n",
       "      <td>MappedCodeTransform</td>\n",
       "      <td>logit_code</td>\n",
       "      <td>weight</td>\n",
       "      <td>weight_logit_code</td>\n",
       "      <td>[75-100)</td>\n",
       "      <td>-2.253714e+00</td>\n",
       "    </tr>\n",
       "    <tr>\n",
       "      <th>5</th>\n",
       "      <td>MappedCodeTransform</td>\n",
       "      <td>logit_code</td>\n",
       "      <td>weight</td>\n",
       "      <td>weight_logit_code</td>\n",
       "      <td>_NA_</td>\n",
       "      <td>5.825087e-03</td>\n",
       "    </tr>\n",
       "    <tr>\n",
       "      <th>6</th>\n",
       "      <td>MappedCodeTransform</td>\n",
       "      <td>prevalence_code</td>\n",
       "      <td>weight</td>\n",
       "      <td>weight_prevalence_code</td>\n",
       "      <td>[0-25)</td>\n",
       "      <td>1.005025e-03</td>\n",
       "    </tr>\n",
       "    <tr>\n",
       "      <th>7</th>\n",
       "      <td>MappedCodeTransform</td>\n",
       "      <td>prevalence_code</td>\n",
       "      <td>weight</td>\n",
       "      <td>weight_prevalence_code</td>\n",
       "      <td>[50-75)</td>\n",
       "      <td>1.005025e-03</td>\n",
       "    </tr>\n",
       "    <tr>\n",
       "      <th>8</th>\n",
       "      <td>MappedCodeTransform</td>\n",
       "      <td>prevalence_code</td>\n",
       "      <td>weight</td>\n",
       "      <td>weight_prevalence_code</td>\n",
       "      <td>[75-100)</td>\n",
       "      <td>4.020101e-03</td>\n",
       "    </tr>\n",
       "    <tr>\n",
       "      <th>9</th>\n",
       "      <td>MappedCodeTransform</td>\n",
       "      <td>prevalence_code</td>\n",
       "      <td>weight</td>\n",
       "      <td>weight_prevalence_code</td>\n",
       "      <td>_NA_</td>\n",
       "      <td>9.939698e-01</td>\n",
       "    </tr>\n",
       "    <tr>\n",
       "      <th>10</th>\n",
       "      <td>IndicatorCodeTransform</td>\n",
       "      <td>indicator_code</td>\n",
       "      <td>weight</td>\n",
       "      <td>weight_lev__NA_</td>\n",
       "      <td>_NA_</td>\n",
       "      <td>1.000000e+00</td>\n",
       "    </tr>\n",
       "  </tbody>\n",
       "</table>\n",
       "</div>"
      ],
      "text/plain": [
       "             treatment_class          treatment          orig_var  \\\n",
       "0   IndicateMissingTransform  missing_indicator            weight   \n",
       "1      CleanNumericTransform         clean_copy  time_in_hospital   \n",
       "2        MappedCodeTransform         logit_code            weight   \n",
       "3        MappedCodeTransform         logit_code            weight   \n",
       "4        MappedCodeTransform         logit_code            weight   \n",
       "5        MappedCodeTransform         logit_code            weight   \n",
       "6        MappedCodeTransform    prevalence_code            weight   \n",
       "7        MappedCodeTransform    prevalence_code            weight   \n",
       "8        MappedCodeTransform    prevalence_code            weight   \n",
       "9        MappedCodeTransform    prevalence_code            weight   \n",
       "10    IndicatorCodeTransform     indicator_code            weight   \n",
       "\n",
       "                  variable     value   replacement  \n",
       "0            weight_is_bad      _NA_  1.000000e+00  \n",
       "1         time_in_hospital      _NA_  4.803015e+00  \n",
       "2        weight_logit_code    [0-25) -1.110223e-16  \n",
       "3        weight_logit_code   [50-75) -1.110223e-16  \n",
       "4        weight_logit_code  [75-100) -2.253714e+00  \n",
       "5        weight_logit_code      _NA_  5.825087e-03  \n",
       "6   weight_prevalence_code    [0-25)  1.005025e-03  \n",
       "7   weight_prevalence_code   [50-75)  1.005025e-03  \n",
       "8   weight_prevalence_code  [75-100)  4.020101e-03  \n",
       "9   weight_prevalence_code      _NA_  9.939698e-01  \n",
       "10         weight_lev__NA_      _NA_  1.000000e+00  "
      ]
     },
     "execution_count": 6,
     "metadata": {},
     "output_type": "execute_result"
    }
   ],
   "source": [
    "transform_as_data = treatment.description_matrix()\n",
    "\n",
    "transform_as_data"
   ]
  },
  {
   "cell_type": "markdown",
   "metadata": {
    "pycharm": {
     "name": "#%% md\n"
    }
   },
   "source": [
    "It is a simple matter to write a procedure (or in the case of databases, as stored procedure) that reproduces the vtreat data preparation from this table. For example vtreat itself now (in version 1.0.1) supplies a function that translates the table into a [data algebra](https://github.com/WinVector/data_algebra) pipeline. This means we can run the data preparation in any database that we have a data algebra SQL adapter for!\n",
    "\n",
    "Let's see this translation in action."
   ]
  },
  {
   "cell_type": "code",
   "execution_count": 7,
   "metadata": {
    "collapsed": false,
    "jupyter": {
     "outputs_hidden": false
    },
    "pycharm": {
     "name": "#%%\n"
    }
   },
   "outputs": [],
   "source": [
    "ops = as_data_algebra_pipeline(\n",
    "    source=descr(d_app=d_app.loc[:, columns]),\n",
    "    vtreat_descr=transform_as_data,\n",
    "    treatment_table_name='transform_as_data',\n",
    ")\n",
    "\n",
    "# print(ops)  # could print this, but it tends to be large!"
   ]
  },
  {
   "cell_type": "code",
   "execution_count": 8,
   "metadata": {
    "collapsed": false,
    "jupyter": {
     "outputs_hidden": false
    },
    "pycharm": {
     "name": "#%%\n"
    }
   },
   "outputs": [
    {
     "data": {
      "text/html": [
       "<div>\n",
       "<style scoped>\n",
       "    .dataframe tbody tr th:only-of-type {\n",
       "        vertical-align: middle;\n",
       "    }\n",
       "\n",
       "    .dataframe tbody tr th {\n",
       "        vertical-align: top;\n",
       "    }\n",
       "\n",
       "    .dataframe thead th {\n",
       "        text-align: right;\n",
       "    }\n",
       "</style>\n",
       "<table border=\"1\" class=\"dataframe\">\n",
       "  <thead>\n",
       "    <tr style=\"text-align: right;\">\n",
       "      <th></th>\n",
       "      <th>time_in_hospital</th>\n",
       "      <th>orig_index</th>\n",
       "      <th>encounter_id</th>\n",
       "      <th>patient_nbr</th>\n",
       "      <th>readmitted</th>\n",
       "      <th>weight_is_bad</th>\n",
       "      <th>weight_lev__NA_</th>\n",
       "      <th>weight_logit_code</th>\n",
       "      <th>weight_prevalence_code</th>\n",
       "    </tr>\n",
       "  </thead>\n",
       "  <tbody>\n",
       "    <tr>\n",
       "      <th>0</th>\n",
       "      <td>3</td>\n",
       "      <td>995</td>\n",
       "      <td>8860284</td>\n",
       "      <td>94419315</td>\n",
       "      <td>False</td>\n",
       "      <td>1.0</td>\n",
       "      <td>1.0</td>\n",
       "      <td>0.005825</td>\n",
       "      <td>0.99397</td>\n",
       "    </tr>\n",
       "    <tr>\n",
       "      <th>1</th>\n",
       "      <td>4</td>\n",
       "      <td>996</td>\n",
       "      <td>8860944</td>\n",
       "      <td>338247</td>\n",
       "      <td>False</td>\n",
       "      <td>1.0</td>\n",
       "      <td>1.0</td>\n",
       "      <td>0.005825</td>\n",
       "      <td>0.99397</td>\n",
       "    </tr>\n",
       "    <tr>\n",
       "      <th>2</th>\n",
       "      <td>1</td>\n",
       "      <td>997</td>\n",
       "      <td>8864718</td>\n",
       "      <td>695439</td>\n",
       "      <td>False</td>\n",
       "      <td>1.0</td>\n",
       "      <td>1.0</td>\n",
       "      <td>0.005825</td>\n",
       "      <td>0.99397</td>\n",
       "    </tr>\n",
       "    <tr>\n",
       "      <th>3</th>\n",
       "      <td>6</td>\n",
       "      <td>998</td>\n",
       "      <td>8866632</td>\n",
       "      <td>103586670</td>\n",
       "      <td>False</td>\n",
       "      <td>0.0</td>\n",
       "      <td>0.0</td>\n",
       "      <td>0.000000</td>\n",
       "      <td>0.00000</td>\n",
       "    </tr>\n",
       "    <tr>\n",
       "      <th>4</th>\n",
       "      <td>9</td>\n",
       "      <td>999</td>\n",
       "      <td>8867106</td>\n",
       "      <td>4988970</td>\n",
       "      <td>False</td>\n",
       "      <td>1.0</td>\n",
       "      <td>1.0</td>\n",
       "      <td>0.005825</td>\n",
       "      <td>0.99397</td>\n",
       "    </tr>\n",
       "  </tbody>\n",
       "</table>\n",
       "</div>"
      ],
      "text/plain": [
       "   time_in_hospital  orig_index  encounter_id  patient_nbr  readmitted  \\\n",
       "0                 3         995       8860284     94419315       False   \n",
       "1                 4         996       8860944       338247       False   \n",
       "2                 1         997       8864718       695439       False   \n",
       "3                 6         998       8866632    103586670       False   \n",
       "4                 9         999       8867106      4988970       False   \n",
       "\n",
       "   weight_is_bad  weight_lev__NA_  weight_logit_code  weight_prevalence_code  \n",
       "0            1.0              1.0           0.005825                 0.99397  \n",
       "1            1.0              1.0           0.005825                 0.99397  \n",
       "2            1.0              1.0           0.005825                 0.99397  \n",
       "3            0.0              0.0           0.000000                 0.00000  \n",
       "4            1.0              1.0           0.005825                 0.99397  "
      ]
     },
     "execution_count": 8,
     "metadata": {},
     "output_type": "execute_result"
    }
   ],
   "source": [
    "transformed = ops.eval({\n",
    "    'd_app': d_app.loc[:, columns],\n",
    "    'transform_as_data': transform_as_data})\n",
    "\n",
    "transformed"
   ]
  },
  {
   "cell_type": "code",
   "execution_count": 9,
   "metadata": {
    "collapsed": false,
    "jupyter": {
     "outputs_hidden": false
    },
    "pycharm": {
     "name": "#%%\n"
    }
   },
   "outputs": [],
   "source": [
    "assert data_algebra.test_util.equivalent_frames(transformed, d_app_treated)"
   ]
  },
  {
   "cell_type": "markdown",
   "metadata": {
    "pycharm": {
     "name": "#%% md\n"
    }
   },
   "source": [
    "We can then run the same operations in an SQL database we have an adapter for. Currently, we have good adapters for Google Big Query, Spark, PostgreSQL, MySQL, and SQLite.  The data algebra has extension classes designed to make producing new database adapters easy.\n",
    "\n",
    "Let's simply use SQLite as a convenient example."
   ]
  },
  {
   "cell_type": "code",
   "execution_count": 10,
   "metadata": {
    "collapsed": false,
    "jupyter": {
     "outputs_hidden": false
    },
    "pycharm": {
     "name": "#%%\n"
    }
   },
   "outputs": [],
   "source": [
    "db_handle = data_algebra.SQLite.example_handle()\n",
    "\n",
    "sql = db_handle.to_sql(ops)\n",
    "\n",
    "# print(sql)  # could print this, but it tends to be large!"
   ]
  },
  {
   "cell_type": "code",
   "execution_count": 11,
   "metadata": {
    "collapsed": false,
    "jupyter": {
     "outputs_hidden": false
    },
    "pycharm": {
     "name": "#%%\n"
    }
   },
   "outputs": [
    {
     "data": {
      "text/html": [
       "<div>\n",
       "<style scoped>\n",
       "    .dataframe tbody tr th:only-of-type {\n",
       "        vertical-align: middle;\n",
       "    }\n",
       "\n",
       "    .dataframe tbody tr th {\n",
       "        vertical-align: top;\n",
       "    }\n",
       "\n",
       "    .dataframe thead th {\n",
       "        text-align: right;\n",
       "    }\n",
       "</style>\n",
       "<table border=\"1\" class=\"dataframe\">\n",
       "  <thead>\n",
       "    <tr style=\"text-align: right;\">\n",
       "      <th></th>\n",
       "      <th>patient_nbr</th>\n",
       "      <th>weight_is_bad</th>\n",
       "      <th>encounter_id</th>\n",
       "      <th>readmitted</th>\n",
       "      <th>orig_index</th>\n",
       "      <th>weight_lev__NA_</th>\n",
       "      <th>weight_logit_code</th>\n",
       "      <th>weight_prevalence_code</th>\n",
       "      <th>time_in_hospital</th>\n",
       "    </tr>\n",
       "  </thead>\n",
       "  <tbody>\n",
       "    <tr>\n",
       "      <th>0</th>\n",
       "      <td>94419315</td>\n",
       "      <td>1.0</td>\n",
       "      <td>8860284</td>\n",
       "      <td>0</td>\n",
       "      <td>995</td>\n",
       "      <td>1.0</td>\n",
       "      <td>0.005825</td>\n",
       "      <td>0.99397</td>\n",
       "      <td>3</td>\n",
       "    </tr>\n",
       "    <tr>\n",
       "      <th>1</th>\n",
       "      <td>338247</td>\n",
       "      <td>1.0</td>\n",
       "      <td>8860944</td>\n",
       "      <td>0</td>\n",
       "      <td>996</td>\n",
       "      <td>1.0</td>\n",
       "      <td>0.005825</td>\n",
       "      <td>0.99397</td>\n",
       "      <td>4</td>\n",
       "    </tr>\n",
       "    <tr>\n",
       "      <th>2</th>\n",
       "      <td>695439</td>\n",
       "      <td>1.0</td>\n",
       "      <td>8864718</td>\n",
       "      <td>0</td>\n",
       "      <td>997</td>\n",
       "      <td>1.0</td>\n",
       "      <td>0.005825</td>\n",
       "      <td>0.99397</td>\n",
       "      <td>1</td>\n",
       "    </tr>\n",
       "    <tr>\n",
       "      <th>3</th>\n",
       "      <td>103586670</td>\n",
       "      <td>0.0</td>\n",
       "      <td>8866632</td>\n",
       "      <td>0</td>\n",
       "      <td>998</td>\n",
       "      <td>0.0</td>\n",
       "      <td>0.000000</td>\n",
       "      <td>0.00000</td>\n",
       "      <td>6</td>\n",
       "    </tr>\n",
       "    <tr>\n",
       "      <th>4</th>\n",
       "      <td>4988970</td>\n",
       "      <td>1.0</td>\n",
       "      <td>8867106</td>\n",
       "      <td>0</td>\n",
       "      <td>999</td>\n",
       "      <td>1.0</td>\n",
       "      <td>0.005825</td>\n",
       "      <td>0.99397</td>\n",
       "      <td>9</td>\n",
       "    </tr>\n",
       "  </tbody>\n",
       "</table>\n",
       "</div>"
      ],
      "text/plain": [
       "   patient_nbr  weight_is_bad  encounter_id  readmitted  orig_index  \\\n",
       "0     94419315            1.0       8860284           0         995   \n",
       "1       338247            1.0       8860944           0         996   \n",
       "2       695439            1.0       8864718           0         997   \n",
       "3    103586670            0.0       8866632           0         998   \n",
       "4      4988970            1.0       8867106           0         999   \n",
       "\n",
       "   weight_lev__NA_  weight_logit_code  weight_prevalence_code  \\\n",
       "0              1.0           0.005825                 0.99397   \n",
       "1              1.0           0.005825                 0.99397   \n",
       "2              1.0           0.005825                 0.99397   \n",
       "3              0.0           0.000000                 0.00000   \n",
       "4              1.0           0.005825                 0.99397   \n",
       "\n",
       "   time_in_hospital  \n",
       "0                 3  \n",
       "1                 4  \n",
       "2                 1  \n",
       "3                 6  \n",
       "4                 9  "
      ]
     },
     "execution_count": 11,
     "metadata": {},
     "output_type": "execute_result"
    }
   ],
   "source": [
    "db_handle.insert_table(d_app.loc[:, columns], table_name='d_app')\n",
    "db_handle.insert_table(transform_as_data, table_name='transform_as_data')\n",
    "\n",
    "db_handle.execute('CREATE TABLE res AS ' + sql)\n",
    "\n",
    "res_db = db_handle.read_query('SELECT * FROM res ORDER BY orig_index LIMIT 10')\n",
    "\n",
    "res_db"
   ]
  },
  {
   "cell_type": "code",
   "execution_count": 12,
   "metadata": {
    "collapsed": false,
    "jupyter": {
     "outputs_hidden": false
    },
    "pycharm": {
     "name": "#%%\n"
    }
   },
   "outputs": [],
   "source": [
    "assert data_algebra.test_util.equivalent_frames(res_db, d_app_treated)"
   ]
  },
  {
   "cell_type": "code",
   "execution_count": 13,
   "metadata": {
    "collapsed": false,
    "jupyter": {
     "outputs_hidden": false
    },
    "pycharm": {
     "name": "#%%\n"
    }
   },
   "outputs": [],
   "source": [
    "db_handle.close()"
   ]
  },
  {
   "cell_type": "markdown",
   "metadata": {
    "pycharm": {
     "name": "#%% md\n"
    }
   },
   "source": [
    "And that is it: advanced data preparation directly in the database. We train the vtreat data preparation in-memory, but it now can be exported and used many more places at much greater scale."
   ]
  }
 ],
 "metadata": {
  "kernelspec": {
   "display_name": "Python 3 (ipykernel)",
   "language": "python",
   "name": "python3"
  },
  "language_info": {
   "codemirror_mode": {
    "name": "ipython",
    "version": 3
   },
   "file_extension": ".py",
   "mimetype": "text/x-python",
   "name": "python",
   "nbconvert_exporter": "python",
   "pygments_lexer": "ipython3",
   "version": "3.9.7"
  }
 },
 "nbformat": 4,
 "nbformat_minor": 4
}