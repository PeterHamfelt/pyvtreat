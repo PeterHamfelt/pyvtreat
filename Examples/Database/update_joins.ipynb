{
 "cells": [
  {
   "cell_type": "markdown",
   "source": [
    "Produce vtreat data transform as a sequence of SQL statements, instead\n",
    "of one large one. The idea is: it may be better to deal with a large\n",
    "number of joins by sequencing through `UPDATE` instead of composition."
   ],
   "metadata": {
    "collapsed": false,
    "pycharm": {
     "name": "#%% md\n"
    }
   }
  },
  {
   "cell_type": "code",
   "execution_count": 1,
   "metadata": {
    "collapsed": true
   },
   "outputs": [],
   "source": [
    "\n",
    "import datetime\n",
    "import os\n",
    "os.chdir('/Users/johnmount/Documents/work/pyvtreat/Examples/Database')\n",
    "import sys\n",
    "import numpy as np\n",
    "import pandas as pd\n",
    "\n",
    "from data_algebra.data_ops import *\n",
    "import data_algebra.SQLite\n",
    "import data_algebra.test_util\n",
    "import vtreat\n",
    "import vtreat.vtreat_db_adapter\n",
    "\n"
   ]
  },
  {
   "cell_type": "code",
   "execution_count": 2,
   "outputs": [],
   "source": [
    "# larger version of tests/test_db_adapter.py:test_db_adapter_monster()\n",
    "def mk_example(n_rows:int = 100, n_vars:int = 50):\n",
    "    step = 1/np.sqrt(n_vars)\n",
    "    cols = dict()\n",
    "    y = np.random.normal(size=n_rows)\n",
    "    for i in range(n_vars):\n",
    "        vname = f'v_{i}'\n",
    "        v = np.random.choice(['a', 'b'], replace=True, size=n_rows)\n",
    "        y = y + np.where(v == 'a', step, -step)\n",
    "        cols[vname] = v\n",
    "    vars = list(cols.keys())\n",
    "    vars.sort()\n",
    "    cols['y'] = y\n",
    "    d = pd.DataFrame(cols)\n",
    "    return d, vars\n",
    "\n",
    "\n",
    "\n",
    "\n",
    "n_vars = 5\n",
    "\n",
    "d, vars = mk_example(n_vars=n_vars)\n",
    "d_app, _ = mk_example(n_vars=n_vars, n_rows=5)"
   ],
   "metadata": {
    "collapsed": false,
    "pycharm": {
     "name": "#%%\n"
    }
   }
  },
  {
   "cell_type": "code",
   "execution_count": 3,
   "outputs": [
    {
     "data": {
      "text/plain": "          y  v_1_impact_code  v_1_deviation_code  v_1_prevalence_code  \\\n0  0.814750         0.422799            1.514048                 0.45   \n1  0.007853         0.422799            1.514048                 0.45   \n2  1.162144        -0.364301            1.276633                 0.55   \n3  0.960849         0.422799            1.514048                 0.45   \n4 -0.290128         0.422799            1.514048                 0.45   \n\n   v_1_lev_b  v_1_lev_a  v_2_impact_code  v_2_deviation_code  \\\n0        0.0        1.0        -0.330228            1.464325   \n1        0.0        1.0        -0.330228            1.464325   \n2        1.0        0.0         0.362330            1.329893   \n3        0.0        1.0         0.362330            1.329893   \n4        0.0        1.0         0.362330            1.329893   \n\n   v_2_prevalence_code  v_2_lev_b  ...  v_0_impact_code  v_0_deviation_code  \\\n0                 0.52        1.0  ...        -0.461147            1.413975   \n1                 0.52        1.0  ...        -0.461147            1.413975   \n2                 0.48        0.0  ...         0.483767            1.307710   \n3                 0.48        0.0  ...         0.483767            1.307710   \n4                 0.48        0.0  ...        -0.461147            1.413975   \n\n   v_0_prevalence_code  v_0_lev_b  v_0_lev_a  v_4_impact_code  \\\n0                 0.51        1.0        0.0         0.671670   \n1                 0.51        1.0        0.0        -0.719968   \n2                 0.49        0.0        1.0         0.671670   \n3                 0.49        0.0        1.0         0.671670   \n4                 0.51        1.0        0.0        -0.719968   \n\n   v_4_deviation_code  v_4_prevalence_code  v_4_lev_a  v_4_lev_b  \n0            1.179936                 0.52        1.0        0.0  \n1            1.346839                 0.48        0.0        1.0  \n2            1.179936                 0.52        1.0        0.0  \n3            1.179936                 0.52        1.0        0.0  \n4            1.346839                 0.48        0.0        1.0  \n\n[5 rows x 26 columns]",
      "text/html": "<div>\n<style scoped>\n    .dataframe tbody tr th:only-of-type {\n        vertical-align: middle;\n    }\n\n    .dataframe tbody tr th {\n        vertical-align: top;\n    }\n\n    .dataframe thead th {\n        text-align: right;\n    }\n</style>\n<table border=\"1\" class=\"dataframe\">\n  <thead>\n    <tr style=\"text-align: right;\">\n      <th></th>\n      <th>y</th>\n      <th>v_1_impact_code</th>\n      <th>v_1_deviation_code</th>\n      <th>v_1_prevalence_code</th>\n      <th>v_1_lev_b</th>\n      <th>v_1_lev_a</th>\n      <th>v_2_impact_code</th>\n      <th>v_2_deviation_code</th>\n      <th>v_2_prevalence_code</th>\n      <th>v_2_lev_b</th>\n      <th>...</th>\n      <th>v_0_impact_code</th>\n      <th>v_0_deviation_code</th>\n      <th>v_0_prevalence_code</th>\n      <th>v_0_lev_b</th>\n      <th>v_0_lev_a</th>\n      <th>v_4_impact_code</th>\n      <th>v_4_deviation_code</th>\n      <th>v_4_prevalence_code</th>\n      <th>v_4_lev_a</th>\n      <th>v_4_lev_b</th>\n    </tr>\n  </thead>\n  <tbody>\n    <tr>\n      <th>0</th>\n      <td>0.814750</td>\n      <td>0.422799</td>\n      <td>1.514048</td>\n      <td>0.45</td>\n      <td>0.0</td>\n      <td>1.0</td>\n      <td>-0.330228</td>\n      <td>1.464325</td>\n      <td>0.52</td>\n      <td>1.0</td>\n      <td>...</td>\n      <td>-0.461147</td>\n      <td>1.413975</td>\n      <td>0.51</td>\n      <td>1.0</td>\n      <td>0.0</td>\n      <td>0.671670</td>\n      <td>1.179936</td>\n      <td>0.52</td>\n      <td>1.0</td>\n      <td>0.0</td>\n    </tr>\n    <tr>\n      <th>1</th>\n      <td>0.007853</td>\n      <td>0.422799</td>\n      <td>1.514048</td>\n      <td>0.45</td>\n      <td>0.0</td>\n      <td>1.0</td>\n      <td>-0.330228</td>\n      <td>1.464325</td>\n      <td>0.52</td>\n      <td>1.0</td>\n      <td>...</td>\n      <td>-0.461147</td>\n      <td>1.413975</td>\n      <td>0.51</td>\n      <td>1.0</td>\n      <td>0.0</td>\n      <td>-0.719968</td>\n      <td>1.346839</td>\n      <td>0.48</td>\n      <td>0.0</td>\n      <td>1.0</td>\n    </tr>\n    <tr>\n      <th>2</th>\n      <td>1.162144</td>\n      <td>-0.364301</td>\n      <td>1.276633</td>\n      <td>0.55</td>\n      <td>1.0</td>\n      <td>0.0</td>\n      <td>0.362330</td>\n      <td>1.329893</td>\n      <td>0.48</td>\n      <td>0.0</td>\n      <td>...</td>\n      <td>0.483767</td>\n      <td>1.307710</td>\n      <td>0.49</td>\n      <td>0.0</td>\n      <td>1.0</td>\n      <td>0.671670</td>\n      <td>1.179936</td>\n      <td>0.52</td>\n      <td>1.0</td>\n      <td>0.0</td>\n    </tr>\n    <tr>\n      <th>3</th>\n      <td>0.960849</td>\n      <td>0.422799</td>\n      <td>1.514048</td>\n      <td>0.45</td>\n      <td>0.0</td>\n      <td>1.0</td>\n      <td>0.362330</td>\n      <td>1.329893</td>\n      <td>0.48</td>\n      <td>0.0</td>\n      <td>...</td>\n      <td>0.483767</td>\n      <td>1.307710</td>\n      <td>0.49</td>\n      <td>0.0</td>\n      <td>1.0</td>\n      <td>0.671670</td>\n      <td>1.179936</td>\n      <td>0.52</td>\n      <td>1.0</td>\n      <td>0.0</td>\n    </tr>\n    <tr>\n      <th>4</th>\n      <td>-0.290128</td>\n      <td>0.422799</td>\n      <td>1.514048</td>\n      <td>0.45</td>\n      <td>0.0</td>\n      <td>1.0</td>\n      <td>0.362330</td>\n      <td>1.329893</td>\n      <td>0.48</td>\n      <td>0.0</td>\n      <td>...</td>\n      <td>-0.461147</td>\n      <td>1.413975</td>\n      <td>0.51</td>\n      <td>1.0</td>\n      <td>0.0</td>\n      <td>-0.719968</td>\n      <td>1.346839</td>\n      <td>0.48</td>\n      <td>0.0</td>\n      <td>1.0</td>\n    </tr>\n  </tbody>\n</table>\n<p>5 rows × 26 columns</p>\n</div>"
     },
     "execution_count": 3,
     "metadata": {},
     "output_type": "execute_result"
    }
   ],
   "source": [
    "outcome_name = \"y\"\n",
    "cols_to_copy = [outcome_name]\n",
    "columns = vars + cols_to_copy\n",
    "\n",
    "treatment = vtreat.NumericOutcomeTreatment(\n",
    "    cols_to_copy=cols_to_copy,\n",
    "    outcome_name=outcome_name,\n",
    "    params=vtreat.vtreat_parameters(\n",
    "        {\"sparse_indicators\": False, \"filter_to_recommended\": False,}\n",
    "    ),\n",
    ")\n",
    "d_train_treated = treatment.fit_transform(d)\n",
    "d_app_treated = treatment.transform(d_app)\n",
    "\n",
    "d_app_treated"
   ],
   "metadata": {
    "collapsed": false,
    "pycharm": {
     "name": "#%%\n"
    }
   }
  },
  {
   "cell_type": "code",
   "execution_count": 4,
   "outputs": [],
   "source": [
    "transform_as_data = treatment.description_matrix()\n",
    "source_descr = TableDescription(\n",
    "    table_name='d_app',\n",
    "    column_names=columns,\n",
    ")\n"
   ],
   "metadata": {
    "collapsed": false,
    "pycharm": {
     "name": "#%%\n"
    }
   }
  },
  {
   "cell_type": "code",
   "execution_count": 5,
   "outputs": [],
   "source": [
    "db_model = data_algebra.SQLite.SQLiteModel()\n",
    "treatment_table_name = 'transform_as_data'\n",
    "stage_3_name = 'vtreat_stage_3_table'\n",
    "result_name = 'data_treated'\n",
    "\n",
    "ops, map_vars, mapping_steps, stage_3_ops = vtreat.vtreat_db_adapter._build_data_pipelines_stages(\n",
    "    source=source_descr,\n",
    "    vtreat_descr=transform_as_data,\n",
    "    treatment_table_name=treatment_table_name,\n",
    "    stage_3_name=stage_3_name,\n",
    ")\n",
    "\n",
    "# give variables pre-update values\n",
    "ops = ops.extend({\n",
    "    v: '1.0' for v in map_vars\n",
    "})\n",
    "\n",
    "def update_code(i):\n",
    "    step_i = mapping_steps[i]\n",
    "    ov = step_i['ov']\n",
    "    vi = step_i['vi']\n",
    "    update_stmt = (f\"\"\"\n",
    "WITH tmp_update AS (\n",
    "  SELECT\n",
    "    value AS {db_model.quote_identifier(ov)},\n",
    "    replacement AS {db_model.quote_identifier(vi)}\n",
    "  FROM\n",
    "    {db_model.quote_identifier(treatment_table_name)}\n",
    "  WHERE\n",
    "    (treatment_class = {db_model.quote_string('MappedCodeTransform')})\n",
    "    AND (orig_var = {db_model.quote_string(ov)})\n",
    "    AND (variable == {db_model.quote_string(vi)})\n",
    ")\n",
    "UPDATE\n",
    "  {db_model.quote_identifier(stage_3_name)}\n",
    "SET {db_model.quote_identifier(vi)} = tmp_update.{db_model.quote_identifier(vi)}\n",
    "FROM\n",
    "  tmp_update\n",
    "WHERE\n",
    "   {db_model.quote_identifier(stage_3_name)}.{db_model.quote_identifier(ov)} = tmp_update.{db_model.quote_identifier(ov)}\n",
    "\"\"\")\n",
    "    return update_stmt\n",
    "\n",
    "\n",
    "sql_sequence = (\n",
    "    [ f'DROP TABLE IF EXISTS {db_model.quote_identifier(stage_3_name)}']\n",
    "    + [ f'DROP TABLE IF EXISTS {db_model.quote_identifier(result_name)}']\n",
    "    + [\n",
    "        f'CREATE TABLE {db_model.quote_identifier(stage_3_name)} AS \\n'\n",
    "        + db_model.to_sql(ops)\n",
    "    ]\n",
    "    + [update_code(i) + ' ;' for i in range(len(mapping_steps))]\n",
    "    + [\n",
    "        f'CREATE TABLE {db_model.quote_identifier(result_name)} AS \\n'\n",
    "        + db_model.to_sql(stage_3_ops)\n",
    "    ]\n",
    "    + [ f'DROP TABLE {db_model.quote_identifier(stage_3_name)}']\n",
    ")"
   ],
   "metadata": {
    "collapsed": false,
    "pycharm": {
     "name": "#%%\n"
    }
   }
  },
  {
   "cell_type": "code",
   "execution_count": 6,
   "outputs": [],
   "source": [
    "db_handle = data_algebra.SQLite.example_handle()\n",
    "_ = db_handle.insert_table(d_app, table_name=source_descr.table_name)\n"
   ],
   "metadata": {
    "collapsed": false,
    "pycharm": {
     "name": "#%%\n"
    }
   }
  },
  {
   "cell_type": "code",
   "execution_count": 7,
   "outputs": [],
   "source": [
    "db_handle.insert_table(transform_as_data, table_name=treatment_table_name)\n",
    "for sql in sql_sequence:\n",
    "    db_handle.execute(sql)"
   ],
   "metadata": {
    "collapsed": false,
    "pycharm": {
     "name": "#%%\n"
    }
   }
  },
  {
   "cell_type": "code",
   "execution_count": 8,
   "outputs": [
    {
     "data": {
      "text/plain": "   v_1_lev_a  v_0_lev_b  v_3_lev_b         y  v_2_lev_a  v_0_lev_a  v_2_lev_b  \\\n0        1.0        1.0        1.0  0.814750        0.0        0.0        1.0   \n1        1.0        1.0        0.0  0.007853        0.0        0.0        1.0   \n2        0.0        0.0        0.0  1.162144        1.0        1.0        0.0   \n3        1.0        0.0        1.0  0.960849        1.0        1.0        0.0   \n4        1.0        1.0        1.0 -0.290128        1.0        0.0        0.0   \n\n   v_1_lev_b  v_3_lev_a  v_4_lev_b  ...  v_1_prevalence_code  \\\n0        0.0        0.0        0.0  ...                 0.45   \n1        0.0        1.0        1.0  ...                 0.45   \n2        1.0        1.0        0.0  ...                 0.55   \n3        0.0        0.0        0.0  ...                 0.45   \n4        0.0        0.0        1.0  ...                 0.45   \n\n   v_2_deviation_code  v_2_impact_code  v_2_prevalence_code  \\\n0            1.464325        -0.330228                 0.52   \n1            1.464325        -0.330228                 0.52   \n2            1.329893         0.362330                 0.48   \n3            1.329893         0.362330                 0.48   \n4            1.329893         0.362330                 0.48   \n\n   v_3_deviation_code  v_3_impact_code  v_3_prevalence_code  \\\n0            1.308183        -0.419330                 0.54   \n1            1.441514         0.479138                 0.46   \n2            1.441514         0.479138                 0.46   \n3            1.308183        -0.419330                 0.54   \n4            1.308183        -0.419330                 0.54   \n\n   v_4_deviation_code  v_4_impact_code  v_4_prevalence_code  \n0            1.179936         0.671670                 0.52  \n1            1.346839        -0.719968                 0.48  \n2            1.179936         0.671670                 0.52  \n3            1.179936         0.671670                 0.52  \n4            1.346839        -0.719968                 0.48  \n\n[5 rows x 26 columns]",
      "text/html": "<div>\n<style scoped>\n    .dataframe tbody tr th:only-of-type {\n        vertical-align: middle;\n    }\n\n    .dataframe tbody tr th {\n        vertical-align: top;\n    }\n\n    .dataframe thead th {\n        text-align: right;\n    }\n</style>\n<table border=\"1\" class=\"dataframe\">\n  <thead>\n    <tr style=\"text-align: right;\">\n      <th></th>\n      <th>v_1_lev_a</th>\n      <th>v_0_lev_b</th>\n      <th>v_3_lev_b</th>\n      <th>y</th>\n      <th>v_2_lev_a</th>\n      <th>v_0_lev_a</th>\n      <th>v_2_lev_b</th>\n      <th>v_1_lev_b</th>\n      <th>v_3_lev_a</th>\n      <th>v_4_lev_b</th>\n      <th>...</th>\n      <th>v_1_prevalence_code</th>\n      <th>v_2_deviation_code</th>\n      <th>v_2_impact_code</th>\n      <th>v_2_prevalence_code</th>\n      <th>v_3_deviation_code</th>\n      <th>v_3_impact_code</th>\n      <th>v_3_prevalence_code</th>\n      <th>v_4_deviation_code</th>\n      <th>v_4_impact_code</th>\n      <th>v_4_prevalence_code</th>\n    </tr>\n  </thead>\n  <tbody>\n    <tr>\n      <th>0</th>\n      <td>1.0</td>\n      <td>1.0</td>\n      <td>1.0</td>\n      <td>0.814750</td>\n      <td>0.0</td>\n      <td>0.0</td>\n      <td>1.0</td>\n      <td>0.0</td>\n      <td>0.0</td>\n      <td>0.0</td>\n      <td>...</td>\n      <td>0.45</td>\n      <td>1.464325</td>\n      <td>-0.330228</td>\n      <td>0.52</td>\n      <td>1.308183</td>\n      <td>-0.419330</td>\n      <td>0.54</td>\n      <td>1.179936</td>\n      <td>0.671670</td>\n      <td>0.52</td>\n    </tr>\n    <tr>\n      <th>1</th>\n      <td>1.0</td>\n      <td>1.0</td>\n      <td>0.0</td>\n      <td>0.007853</td>\n      <td>0.0</td>\n      <td>0.0</td>\n      <td>1.0</td>\n      <td>0.0</td>\n      <td>1.0</td>\n      <td>1.0</td>\n      <td>...</td>\n      <td>0.45</td>\n      <td>1.464325</td>\n      <td>-0.330228</td>\n      <td>0.52</td>\n      <td>1.441514</td>\n      <td>0.479138</td>\n      <td>0.46</td>\n      <td>1.346839</td>\n      <td>-0.719968</td>\n      <td>0.48</td>\n    </tr>\n    <tr>\n      <th>2</th>\n      <td>0.0</td>\n      <td>0.0</td>\n      <td>0.0</td>\n      <td>1.162144</td>\n      <td>1.0</td>\n      <td>1.0</td>\n      <td>0.0</td>\n      <td>1.0</td>\n      <td>1.0</td>\n      <td>0.0</td>\n      <td>...</td>\n      <td>0.55</td>\n      <td>1.329893</td>\n      <td>0.362330</td>\n      <td>0.48</td>\n      <td>1.441514</td>\n      <td>0.479138</td>\n      <td>0.46</td>\n      <td>1.179936</td>\n      <td>0.671670</td>\n      <td>0.52</td>\n    </tr>\n    <tr>\n      <th>3</th>\n      <td>1.0</td>\n      <td>0.0</td>\n      <td>1.0</td>\n      <td>0.960849</td>\n      <td>1.0</td>\n      <td>1.0</td>\n      <td>0.0</td>\n      <td>0.0</td>\n      <td>0.0</td>\n      <td>0.0</td>\n      <td>...</td>\n      <td>0.45</td>\n      <td>1.329893</td>\n      <td>0.362330</td>\n      <td>0.48</td>\n      <td>1.308183</td>\n      <td>-0.419330</td>\n      <td>0.54</td>\n      <td>1.179936</td>\n      <td>0.671670</td>\n      <td>0.52</td>\n    </tr>\n    <tr>\n      <th>4</th>\n      <td>1.0</td>\n      <td>1.0</td>\n      <td>1.0</td>\n      <td>-0.290128</td>\n      <td>1.0</td>\n      <td>0.0</td>\n      <td>0.0</td>\n      <td>0.0</td>\n      <td>0.0</td>\n      <td>1.0</td>\n      <td>...</td>\n      <td>0.45</td>\n      <td>1.329893</td>\n      <td>0.362330</td>\n      <td>0.48</td>\n      <td>1.308183</td>\n      <td>-0.419330</td>\n      <td>0.54</td>\n      <td>1.346839</td>\n      <td>-0.719968</td>\n      <td>0.48</td>\n    </tr>\n  </tbody>\n</table>\n<p>5 rows × 26 columns</p>\n</div>"
     },
     "execution_count": 8,
     "metadata": {},
     "output_type": "execute_result"
    }
   ],
   "source": [
    "db_res = db_handle.read_query(\n",
    "    f'SELECT * FROM {db_model.quote_identifier(result_name)}')\n",
    "db_res"
   ],
   "metadata": {
    "collapsed": false,
    "pycharm": {
     "name": "#%%\n"
    }
   }
  },
  {
   "cell_type": "code",
   "execution_count": 9,
   "outputs": [],
   "source": [
    "assert data_algebra.test_util.equivalent_frames(d_app_treated, db_res)"
   ],
   "metadata": {
    "collapsed": false,
    "pycharm": {
     "name": "#%%\n"
    }
   }
  },
  {
   "cell_type": "code",
   "execution_count": 10,
   "outputs": [
    {
     "data": {
      "text/plain": "2"
     },
     "execution_count": 10,
     "metadata": {},
     "output_type": "execute_result"
    }
   ],
   "source": [
    "1 + 1  # show we made it to here."
   ],
   "metadata": {
    "collapsed": false,
    "pycharm": {
     "name": "#%%\n"
    }
   }
  }
 ],
 "metadata": {
  "kernelspec": {
   "display_name": "Python 3",
   "language": "python",
   "name": "python3"
  },
  "language_info": {
   "codemirror_mode": {
    "name": "ipython",
    "version": 2
   },
   "file_extension": ".py",
   "mimetype": "text/x-python",
   "name": "python",
   "nbconvert_exporter": "python",
   "pygments_lexer": "ipython2",
   "version": "2.7.6"
  }
 },
 "nbformat": 4,
 "nbformat_minor": 0
}