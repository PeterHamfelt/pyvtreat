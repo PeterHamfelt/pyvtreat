{
 "cells": [
  {
   "cell_type": "markdown",
   "source": [
    "Composition by nesting can run into issues. Recursive code may need excessive stack to examine largely composed objects, and one may also run into query size limits. An alternative to nesting composition as demonstrated [here](https://github.com/WinVector/pyvtreat/blob/main/Examples/Database/vtreat_db_adapter.ipynb) is composing by sequential SQL updates. [Python vtreat](https://github.com/WinVector/pyvtreat) supplies SQL update composition, which we will demonstrate here.\n",
    "\n",
    "The idea is: it may be better to deal with a large number of joins by sequencing through `UPDATE` instead of composition into a large single query.\n",
    "\n",
    "Let's import our packages and build our example data."
   ],
   "metadata": {
    "collapsed": false,
    "pycharm": {
     "name": "#%% md\n"
    }
   }
  },
  {
   "cell_type": "code",
   "execution_count": 1,
   "metadata": {
    "collapsed": true
   },
   "outputs": [],
   "source": [
    "\n",
    "import datetime\n",
    "import os\n",
    "import sys\n",
    "import numpy as np\n",
    "import pandas as pd\n",
    "\n",
    "from data_algebra.data_ops import *\n",
    "import data_algebra.SQLite\n",
    "import data_algebra.test_util\n",
    "import vtreat\n",
    "import vtreat.vtreat_db_adapter\n",
    "\n"
   ]
  },
  {
   "cell_type": "code",
   "execution_count": 2,
   "outputs": [],
   "source": [
    "# larger version of tests/test_db_adapter.py:test_db_adapter_monster()\n",
    "def mk_example(n_rows:int = 100, n_vars:int = 50):\n",
    "    step = 1/np.sqrt(n_vars)\n",
    "    cols = dict()\n",
    "    y = np.random.normal(size=n_rows)\n",
    "    for i in range(n_vars):\n",
    "        vname = f'v_{i}'\n",
    "        v = np.random.choice(['a', 'b'], replace=True, size=n_rows)\n",
    "        y = y + np.where(v == 'a', step, -step)\n",
    "        cols[vname] = v\n",
    "    vars = list(cols.keys())\n",
    "    vars.sort()\n",
    "    cols['y'] = y\n",
    "    d = pd.DataFrame(cols)\n",
    "    return d, vars\n",
    "\n",
    "\n",
    "n_vars = 5\n",
    "\n",
    "d, vars = mk_example(n_vars=n_vars)\n",
    "d_app, _ = mk_example(n_vars=n_vars, n_rows=5)"
   ],
   "metadata": {
    "collapsed": false,
    "pycharm": {
     "name": "#%%\n"
    }
   }
  },
  {
   "cell_type": "code",
   "execution_count": 3,
   "outputs": [],
   "source": [
    "outcome_name = \"y\"\n",
    "cols_to_copy = [outcome_name]\n",
    "columns = vars + cols_to_copy"
   ],
   "metadata": {
    "collapsed": false,
    "pycharm": {
     "name": "#%%\n"
    }
   }
  },
  {
   "cell_type": "markdown",
   "source": [
    "Now let's build our vtreat data treatment plan."
   ],
   "metadata": {
    "collapsed": false,
    "pycharm": {
     "name": "#%% md\n"
    }
   }
  },
  {
   "cell_type": "code",
   "execution_count": 4,
   "outputs": [
    {
     "data": {
      "text/plain": "          y  v_2_impact_code  v_2_deviation_code  v_2_prevalence_code  \\\n0  2.725160         0.492885            1.272021                 0.52   \n1 -0.541291         0.492885            1.272021                 0.52   \n2 -0.805834         0.492885            1.272021                 0.52   \n3 -0.187880        -0.532116            1.261658                 0.48   \n4 -0.277967        -0.532116            1.261658                 0.48   \n\n   v_2_lev_a  v_2_lev_b  v_3_impact_code  v_3_deviation_code  \\\n0        1.0        0.0         0.562714            1.182533   \n1        1.0        0.0        -0.364053            1.354330   \n2        1.0        0.0        -0.364053            1.354330   \n3        0.0        1.0        -0.364053            1.354330   \n4        0.0        1.0        -0.364053            1.354330   \n\n   v_3_prevalence_code  v_3_lev_b  ...  v_1_impact_code  v_1_deviation_code  \\\n0                 0.39        0.0  ...         0.468717            1.311067   \n1                 0.61        1.0  ...        -0.489594            1.247043   \n2                 0.61        1.0  ...         0.468717            1.311067   \n3                 0.61        1.0  ...        -0.489594            1.247043   \n4                 0.61        1.0  ...        -0.489594            1.247043   \n\n   v_1_prevalence_code  v_1_lev_a  v_1_lev_b  v_4_impact_code  \\\n0                 0.51        1.0        0.0         0.232438   \n1                 0.49        0.0        1.0         0.232438   \n2                 0.51        1.0        0.0        -0.208719   \n3                 0.49        0.0        1.0         0.232438   \n4                 0.49        0.0        1.0         0.232438   \n\n   v_4_deviation_code  v_4_prevalence_code  v_4_lev_b  v_4_lev_a  \n0            1.271815                 0.48        0.0        1.0  \n1            1.271815                 0.48        0.0        1.0  \n2            1.421408                 0.52        1.0        0.0  \n3            1.271815                 0.48        0.0        1.0  \n4            1.271815                 0.48        0.0        1.0  \n\n[5 rows x 26 columns]",
      "text/html": "<div>\n<style scoped>\n    .dataframe tbody tr th:only-of-type {\n        vertical-align: middle;\n    }\n\n    .dataframe tbody tr th {\n        vertical-align: top;\n    }\n\n    .dataframe thead th {\n        text-align: right;\n    }\n</style>\n<table border=\"1\" class=\"dataframe\">\n  <thead>\n    <tr style=\"text-align: right;\">\n      <th></th>\n      <th>y</th>\n      <th>v_2_impact_code</th>\n      <th>v_2_deviation_code</th>\n      <th>v_2_prevalence_code</th>\n      <th>v_2_lev_a</th>\n      <th>v_2_lev_b</th>\n      <th>v_3_impact_code</th>\n      <th>v_3_deviation_code</th>\n      <th>v_3_prevalence_code</th>\n      <th>v_3_lev_b</th>\n      <th>...</th>\n      <th>v_1_impact_code</th>\n      <th>v_1_deviation_code</th>\n      <th>v_1_prevalence_code</th>\n      <th>v_1_lev_a</th>\n      <th>v_1_lev_b</th>\n      <th>v_4_impact_code</th>\n      <th>v_4_deviation_code</th>\n      <th>v_4_prevalence_code</th>\n      <th>v_4_lev_b</th>\n      <th>v_4_lev_a</th>\n    </tr>\n  </thead>\n  <tbody>\n    <tr>\n      <th>0</th>\n      <td>2.725160</td>\n      <td>0.492885</td>\n      <td>1.272021</td>\n      <td>0.52</td>\n      <td>1.0</td>\n      <td>0.0</td>\n      <td>0.562714</td>\n      <td>1.182533</td>\n      <td>0.39</td>\n      <td>0.0</td>\n      <td>...</td>\n      <td>0.468717</td>\n      <td>1.311067</td>\n      <td>0.51</td>\n      <td>1.0</td>\n      <td>0.0</td>\n      <td>0.232438</td>\n      <td>1.271815</td>\n      <td>0.48</td>\n      <td>0.0</td>\n      <td>1.0</td>\n    </tr>\n    <tr>\n      <th>1</th>\n      <td>-0.541291</td>\n      <td>0.492885</td>\n      <td>1.272021</td>\n      <td>0.52</td>\n      <td>1.0</td>\n      <td>0.0</td>\n      <td>-0.364053</td>\n      <td>1.354330</td>\n      <td>0.61</td>\n      <td>1.0</td>\n      <td>...</td>\n      <td>-0.489594</td>\n      <td>1.247043</td>\n      <td>0.49</td>\n      <td>0.0</td>\n      <td>1.0</td>\n      <td>0.232438</td>\n      <td>1.271815</td>\n      <td>0.48</td>\n      <td>0.0</td>\n      <td>1.0</td>\n    </tr>\n    <tr>\n      <th>2</th>\n      <td>-0.805834</td>\n      <td>0.492885</td>\n      <td>1.272021</td>\n      <td>0.52</td>\n      <td>1.0</td>\n      <td>0.0</td>\n      <td>-0.364053</td>\n      <td>1.354330</td>\n      <td>0.61</td>\n      <td>1.0</td>\n      <td>...</td>\n      <td>0.468717</td>\n      <td>1.311067</td>\n      <td>0.51</td>\n      <td>1.0</td>\n      <td>0.0</td>\n      <td>-0.208719</td>\n      <td>1.421408</td>\n      <td>0.52</td>\n      <td>1.0</td>\n      <td>0.0</td>\n    </tr>\n    <tr>\n      <th>3</th>\n      <td>-0.187880</td>\n      <td>-0.532116</td>\n      <td>1.261658</td>\n      <td>0.48</td>\n      <td>0.0</td>\n      <td>1.0</td>\n      <td>-0.364053</td>\n      <td>1.354330</td>\n      <td>0.61</td>\n      <td>1.0</td>\n      <td>...</td>\n      <td>-0.489594</td>\n      <td>1.247043</td>\n      <td>0.49</td>\n      <td>0.0</td>\n      <td>1.0</td>\n      <td>0.232438</td>\n      <td>1.271815</td>\n      <td>0.48</td>\n      <td>0.0</td>\n      <td>1.0</td>\n    </tr>\n    <tr>\n      <th>4</th>\n      <td>-0.277967</td>\n      <td>-0.532116</td>\n      <td>1.261658</td>\n      <td>0.48</td>\n      <td>0.0</td>\n      <td>1.0</td>\n      <td>-0.364053</td>\n      <td>1.354330</td>\n      <td>0.61</td>\n      <td>1.0</td>\n      <td>...</td>\n      <td>-0.489594</td>\n      <td>1.247043</td>\n      <td>0.49</td>\n      <td>0.0</td>\n      <td>1.0</td>\n      <td>0.232438</td>\n      <td>1.271815</td>\n      <td>0.48</td>\n      <td>0.0</td>\n      <td>1.0</td>\n    </tr>\n  </tbody>\n</table>\n<p>5 rows × 26 columns</p>\n</div>"
     },
     "execution_count": 4,
     "metadata": {},
     "output_type": "execute_result"
    }
   ],
   "source": [
    "treatment = vtreat.NumericOutcomeTreatment(\n",
    "    cols_to_copy=cols_to_copy,\n",
    "    outcome_name=outcome_name,\n",
    "    params=vtreat.vtreat_parameters(\n",
    "        {\"sparse_indicators\": False, \"filter_to_recommended\": False,}\n",
    "    ),\n",
    ")\n",
    "d_train_treated = treatment.fit_transform(d)\n",
    "d_app_treated = treatment.transform(d_app)\n",
    "\n",
    "d_app_treated"
   ],
   "metadata": {
    "collapsed": false,
    "pycharm": {
     "name": "#%%\n"
    }
   }
  },
  {
   "cell_type": "markdown",
   "source": [
    "We then export this data treatment as a table. This table encodes proposed data treatment. This can be used to build a SQL query (as we showed [here](https://github.com/WinVector/pyvtreat/blob/main/Examples/Database/vtreat_db_adapter.ipynb)), or be used to drive a stored procedure, or be translated into a sequence of SQL updates. We are demonstrating the SQL update method here."
   ],
   "metadata": {
    "collapsed": false,
    "pycharm": {
     "name": "#%% md\n"
    }
   }
  },
  {
   "cell_type": "code",
   "execution_count": 5,
   "outputs": [],
   "source": [
    "transform_as_data = treatment.description_matrix()"
   ],
   "metadata": {
    "collapsed": false,
    "pycharm": {
     "name": "#%%\n"
    }
   }
  },
  {
   "cell_type": "markdown",
   "source": [
    "Now we adapt the description of the data treatment into the SQL steps."
   ],
   "metadata": {
    "collapsed": false,
    "pycharm": {
     "name": "#%% md\n"
    }
   }
  },
  {
   "cell_type": "code",
   "execution_count": 6,
   "outputs": [],
   "source": [
    "db_model = data_algebra.SQLite.SQLiteModel()  # model of database syntax"
   ],
   "metadata": {
    "collapsed": false,
    "pycharm": {
     "name": "#%%\n"
    }
   }
  },
  {
   "cell_type": "code",
   "execution_count": 7,
   "outputs": [],
   "source": [
    "source_descr = TableDescription(  # description of data to be transformed\n",
    "    table_name='d_app',\n",
    "    column_names=columns,\n",
    ")\n"
   ],
   "metadata": {
    "collapsed": false,
    "pycharm": {
     "name": "#%%\n"
    }
   }
  },
  {
   "cell_type": "code",
   "execution_count": 8,
   "outputs": [],
   "source": [
    "treatment_table_name = 'transform_as_data'  # name to use for treatment description\n",
    "stage_3_name = 'vtreat_stage_3_table'  # name for a temp table\n",
    "result_name = 'data_treated'  # name for desired result"
   ],
   "metadata": {
    "collapsed": false,
    "pycharm": {
     "name": "#%%\n"
    }
   }
  },
  {
   "cell_type": "code",
   "execution_count": 9,
   "outputs": [],
   "source": [
    "# build the SQL sequence\n",
    "sql_sequence = vtreat.vtreat_db_adapter.as_sql_update_sequence(\n",
    "    db_model=db_model,\n",
    "    source=source_descr,\n",
    "    vtreat_descr=transform_as_data,\n",
    "    treatment_table_name=treatment_table_name,\n",
    "    stage_3_name=stage_3_name,\n",
    "    result_name=result_name)"
   ],
   "metadata": {
    "collapsed": false,
    "pycharm": {
     "name": "#%%\n"
    }
   }
  },
  {
   "cell_type": "markdown",
   "source": [
    "This sequence of SQL commands can then be used in our target database."
   ],
   "metadata": {
    "collapsed": false,
    "pycharm": {
     "name": "#%% md\n"
    }
   }
  },
  {
   "cell_type": "code",
   "execution_count": 10,
   "outputs": [],
   "source": [
    "db_handle = data_algebra.SQLite.example_handle()\n",
    "\n",
    "# simulate data already in database, by inserting it\n",
    "_ = db_handle.insert_table(d_app, table_name=source_descr.table_name)\n"
   ],
   "metadata": {
    "collapsed": false,
    "pycharm": {
     "name": "#%%\n"
    }
   }
  },
  {
   "cell_type": "code",
   "execution_count": 11,
   "outputs": [],
   "source": [
    "# insert the data transform specification\n",
    "db_handle.insert_table(transform_as_data, table_name=treatment_table_name)\n",
    "\n",
    "# execute all of the sql statements in order\n",
    "for sql in sql_sequence:\n",
    "    db_handle.execute(sql)"
   ],
   "metadata": {
    "collapsed": false,
    "pycharm": {
     "name": "#%%\n"
    }
   }
  },
  {
   "cell_type": "markdown",
   "source": [
    "At this point we have created the prepared data table. This is purely in the database with no required data transport, other than the copying of the transform description into the database (the insertion of the data is a step we assume would not be needed in an actual application).\n",
    "\n",
    "We can then take a look at the result as follows."
   ],
   "metadata": {
    "collapsed": false,
    "pycharm": {
     "name": "#%% md\n"
    }
   }
  },
  {
   "cell_type": "code",
   "execution_count": 12,
   "outputs": [
    {
     "data": {
      "text/plain": "   v_0_lev_b  v_4_lev_b  v_0_lev_a  v_1_lev_a  v_3_lev_a  v_3_lev_b  \\\n0        0.0        0.0        1.0        1.0        1.0        0.0   \n1        1.0        0.0        0.0        0.0        0.0        1.0   \n2        1.0        1.0        0.0        1.0        0.0        1.0   \n3        0.0        0.0        1.0        0.0        0.0        1.0   \n4        0.0        0.0        1.0        0.0        0.0        1.0   \n\n   v_1_lev_b  v_4_lev_a  v_2_lev_b         y  ...  v_1_prevalence_code  \\\n0        0.0        1.0        0.0  2.725160  ...                 0.51   \n1        1.0        1.0        0.0 -0.541291  ...                 0.49   \n2        0.0        0.0        0.0 -0.805834  ...                 0.51   \n3        1.0        1.0        1.0 -0.187880  ...                 0.49   \n4        1.0        1.0        1.0 -0.277967  ...                 0.49   \n\n   v_2_deviation_code  v_2_impact_code  v_2_prevalence_code  \\\n0            1.272021         0.492885                 0.52   \n1            1.272021         0.492885                 0.52   \n2            1.272021         0.492885                 0.52   \n3            1.261658        -0.532116                 0.48   \n4            1.261658        -0.532116                 0.48   \n\n   v_3_deviation_code  v_3_impact_code  v_3_prevalence_code  \\\n0            1.182533         0.562714                 0.39   \n1            1.354330        -0.364053                 0.61   \n2            1.354330        -0.364053                 0.61   \n3            1.354330        -0.364053                 0.61   \n4            1.354330        -0.364053                 0.61   \n\n   v_4_deviation_code  v_4_impact_code  v_4_prevalence_code  \n0            1.271815         0.232438                 0.48  \n1            1.271815         0.232438                 0.48  \n2            1.421408        -0.208719                 0.52  \n3            1.271815         0.232438                 0.48  \n4            1.271815         0.232438                 0.48  \n\n[5 rows x 26 columns]",
      "text/html": "<div>\n<style scoped>\n    .dataframe tbody tr th:only-of-type {\n        vertical-align: middle;\n    }\n\n    .dataframe tbody tr th {\n        vertical-align: top;\n    }\n\n    .dataframe thead th {\n        text-align: right;\n    }\n</style>\n<table border=\"1\" class=\"dataframe\">\n  <thead>\n    <tr style=\"text-align: right;\">\n      <th></th>\n      <th>v_0_lev_b</th>\n      <th>v_4_lev_b</th>\n      <th>v_0_lev_a</th>\n      <th>v_1_lev_a</th>\n      <th>v_3_lev_a</th>\n      <th>v_3_lev_b</th>\n      <th>v_1_lev_b</th>\n      <th>v_4_lev_a</th>\n      <th>v_2_lev_b</th>\n      <th>y</th>\n      <th>...</th>\n      <th>v_1_prevalence_code</th>\n      <th>v_2_deviation_code</th>\n      <th>v_2_impact_code</th>\n      <th>v_2_prevalence_code</th>\n      <th>v_3_deviation_code</th>\n      <th>v_3_impact_code</th>\n      <th>v_3_prevalence_code</th>\n      <th>v_4_deviation_code</th>\n      <th>v_4_impact_code</th>\n      <th>v_4_prevalence_code</th>\n    </tr>\n  </thead>\n  <tbody>\n    <tr>\n      <th>0</th>\n      <td>0.0</td>\n      <td>0.0</td>\n      <td>1.0</td>\n      <td>1.0</td>\n      <td>1.0</td>\n      <td>0.0</td>\n      <td>0.0</td>\n      <td>1.0</td>\n      <td>0.0</td>\n      <td>2.725160</td>\n      <td>...</td>\n      <td>0.51</td>\n      <td>1.272021</td>\n      <td>0.492885</td>\n      <td>0.52</td>\n      <td>1.182533</td>\n      <td>0.562714</td>\n      <td>0.39</td>\n      <td>1.271815</td>\n      <td>0.232438</td>\n      <td>0.48</td>\n    </tr>\n    <tr>\n      <th>1</th>\n      <td>1.0</td>\n      <td>0.0</td>\n      <td>0.0</td>\n      <td>0.0</td>\n      <td>0.0</td>\n      <td>1.0</td>\n      <td>1.0</td>\n      <td>1.0</td>\n      <td>0.0</td>\n      <td>-0.541291</td>\n      <td>...</td>\n      <td>0.49</td>\n      <td>1.272021</td>\n      <td>0.492885</td>\n      <td>0.52</td>\n      <td>1.354330</td>\n      <td>-0.364053</td>\n      <td>0.61</td>\n      <td>1.271815</td>\n      <td>0.232438</td>\n      <td>0.48</td>\n    </tr>\n    <tr>\n      <th>2</th>\n      <td>1.0</td>\n      <td>1.0</td>\n      <td>0.0</td>\n      <td>1.0</td>\n      <td>0.0</td>\n      <td>1.0</td>\n      <td>0.0</td>\n      <td>0.0</td>\n      <td>0.0</td>\n      <td>-0.805834</td>\n      <td>...</td>\n      <td>0.51</td>\n      <td>1.272021</td>\n      <td>0.492885</td>\n      <td>0.52</td>\n      <td>1.354330</td>\n      <td>-0.364053</td>\n      <td>0.61</td>\n      <td>1.421408</td>\n      <td>-0.208719</td>\n      <td>0.52</td>\n    </tr>\n    <tr>\n      <th>3</th>\n      <td>0.0</td>\n      <td>0.0</td>\n      <td>1.0</td>\n      <td>0.0</td>\n      <td>0.0</td>\n      <td>1.0</td>\n      <td>1.0</td>\n      <td>1.0</td>\n      <td>1.0</td>\n      <td>-0.187880</td>\n      <td>...</td>\n      <td>0.49</td>\n      <td>1.261658</td>\n      <td>-0.532116</td>\n      <td>0.48</td>\n      <td>1.354330</td>\n      <td>-0.364053</td>\n      <td>0.61</td>\n      <td>1.271815</td>\n      <td>0.232438</td>\n      <td>0.48</td>\n    </tr>\n    <tr>\n      <th>4</th>\n      <td>0.0</td>\n      <td>0.0</td>\n      <td>1.0</td>\n      <td>0.0</td>\n      <td>0.0</td>\n      <td>1.0</td>\n      <td>1.0</td>\n      <td>1.0</td>\n      <td>1.0</td>\n      <td>-0.277967</td>\n      <td>...</td>\n      <td>0.49</td>\n      <td>1.261658</td>\n      <td>-0.532116</td>\n      <td>0.48</td>\n      <td>1.354330</td>\n      <td>-0.364053</td>\n      <td>0.61</td>\n      <td>1.271815</td>\n      <td>0.232438</td>\n      <td>0.48</td>\n    </tr>\n  </tbody>\n</table>\n<p>5 rows × 26 columns</p>\n</div>"
     },
     "execution_count": 12,
     "metadata": {},
     "output_type": "execute_result"
    }
   ],
   "source": [
    "db_res = db_handle.read_query(\n",
    "    f'SELECT * FROM {db_model.quote_identifier(result_name)}')\n",
    "\n",
    "db_res"
   ],
   "metadata": {
    "collapsed": false,
    "pycharm": {
     "name": "#%%\n"
    }
   }
  },
  {
   "cell_type": "code",
   "execution_count": 13,
   "outputs": [],
   "source": [
    "# confirm database matches in memory example\n",
    "assert data_algebra.test_util.equivalent_frames(d_app_treated, db_res)"
   ],
   "metadata": {
    "collapsed": false,
    "pycharm": {
     "name": "#%%\n"
    }
   }
  },
  {
   "cell_type": "markdown",
   "source": [
    "And that is the SQL update realization of a vtreat machine learning data preparation transform."
   ],
   "metadata": {
    "collapsed": false,
    "pycharm": {
     "name": "#%% md\n"
    }
   }
  },
  {
   "cell_type": "code",
   "execution_count": 14,
   "outputs": [],
   "source": [
    "db_handle.close()"
   ],
   "metadata": {
    "collapsed": false,
    "pycharm": {
     "name": "#%%\n"
    }
   }
  },
  {
   "cell_type": "code",
   "execution_count": 15,
   "outputs": [
    {
     "name": "stdout",
     "output_type": "stream",
     "text": [
      "DROP TABLE IF EXISTS \"vtreat_stage_3_table\";\n",
      "\n",
      "\n",
      "DROP TABLE IF EXISTS \"data_treated\";\n",
      "\n",
      "\n",
      "CREATE TABLE \"vtreat_stage_3_table\" AS \n",
      "-- data_algebra SQL https://github.com/WinVector/data_algebra\n",
      "--  dialect: SQLiteModel\n",
      "--       string quote: '\n",
      "--   identifier quote: \"\n",
      "WITH\n",
      " \"extend_0\" AS (\n",
      "  SELECT  -- .extend({ 'v_2_lev_a': \"(v_2.coalesce('_NA_') == 'a').if_else(1.0, 0.0)\", 'v_2_lev_b': \"(v_2.coalesce('_NA_') == 'b').if_else(1.0, 0.0)\", 'v_3_lev_b': \"(v_3.coalesce('_NA_') == 'b').if_else(1.0, 0.0)\", 'v_3_lev_a': \"(v_3.coalesce('_NA_') == 'a').if_else(1.0, 0.0)\", 'v_0_lev_a': \"(v_0.coalesce('_NA_') == 'a').if_else(1.0, 0.0)\", 'v_0_lev_b': \"(v_0.coalesce('_NA_') == 'b').if_else(1.0, 0.0)\", 'v_1_lev_a': \"(v_1.coalesce('_NA_') == 'a').if_else(1.0, 0.0)\", 'v_1_lev_b': \"(v_1.coalesce('_NA_') == 'b').if_else(1.0, 0.0)\", 'v_4_lev_b': \"(v_4.coalesce('_NA_') == 'b').if_else(1.0, 0.0)\", 'v_4_lev_a': \"(v_4.coalesce('_NA_') == 'a').if_else(1.0, 0.0)\"})\n",
      "   \"v_0\" ,\n",
      "   \"v_1\" ,\n",
      "   \"v_2\" ,\n",
      "   \"v_3\" ,\n",
      "   \"v_4\" ,\n",
      "   \"y\" ,\n",
      "   CASE WHEN (COALESCE(\"v_2\", '_NA_') = 'a') THEN 1.0 WHEN NOT (COALESCE(\"v_2\", '_NA_') = 'a') THEN 0.0 ELSE NULL END AS \"v_2_lev_a\" ,\n",
      "   CASE WHEN (COALESCE(\"v_2\", '_NA_') = 'b') THEN 1.0 WHEN NOT (COALESCE(\"v_2\", '_NA_') = 'b') THEN 0.0 ELSE NULL END AS \"v_2_lev_b\" ,\n",
      "   CASE WHEN (COALESCE(\"v_3\", '_NA_') = 'b') THEN 1.0 WHEN NOT (COALESCE(\"v_3\", '_NA_') = 'b') THEN 0.0 ELSE NULL END AS \"v_3_lev_b\" ,\n",
      "   CASE WHEN (COALESCE(\"v_3\", '_NA_') = 'a') THEN 1.0 WHEN NOT (COALESCE(\"v_3\", '_NA_') = 'a') THEN 0.0 ELSE NULL END AS \"v_3_lev_a\" ,\n",
      "   CASE WHEN (COALESCE(\"v_0\", '_NA_') = 'a') THEN 1.0 WHEN NOT (COALESCE(\"v_0\", '_NA_') = 'a') THEN 0.0 ELSE NULL END AS \"v_0_lev_a\" ,\n",
      "   CASE WHEN (COALESCE(\"v_0\", '_NA_') = 'b') THEN 1.0 WHEN NOT (COALESCE(\"v_0\", '_NA_') = 'b') THEN 0.0 ELSE NULL END AS \"v_0_lev_b\" ,\n",
      "   CASE WHEN (COALESCE(\"v_1\", '_NA_') = 'a') THEN 1.0 WHEN NOT (COALESCE(\"v_1\", '_NA_') = 'a') THEN 0.0 ELSE NULL END AS \"v_1_lev_a\" ,\n",
      "   CASE WHEN (COALESCE(\"v_1\", '_NA_') = 'b') THEN 1.0 WHEN NOT (COALESCE(\"v_1\", '_NA_') = 'b') THEN 0.0 ELSE NULL END AS \"v_1_lev_b\" ,\n",
      "   CASE WHEN (COALESCE(\"v_4\", '_NA_') = 'b') THEN 1.0 WHEN NOT (COALESCE(\"v_4\", '_NA_') = 'b') THEN 0.0 ELSE NULL END AS \"v_4_lev_b\" ,\n",
      "   CASE WHEN (COALESCE(\"v_4\", '_NA_') = 'a') THEN 1.0 WHEN NOT (COALESCE(\"v_4\", '_NA_') = 'a') THEN 0.0 ELSE NULL END AS \"v_4_lev_a\"\n",
      "  FROM\n",
      "   \"d_app\"\n",
      " )\n",
      "SELECT  -- .extend({ 'v_0': \"v_0.coalesce('_NA_')\", 'v_1': \"v_1.coalesce('_NA_')\", 'v_2': \"v_2.coalesce('_NA_')\", 'v_3': \"v_3.coalesce('_NA_')\", 'v_4': \"v_4.coalesce('_NA_')\", 'v_0_deviation_code': '0.0', 'v_0_impact_code': '0.0', 'v_0_prevalence_code': '0.0', 'v_1_deviation_code': '0.0', 'v_1_impact_code': '0.0', 'v_1_prevalence_code': '0.0', 'v_2_deviation_code': '0.0', 'v_2_impact_code': '0.0', 'v_2_prevalence_code': '0.0', 'v_3_deviation_code': '0.0', 'v_3_impact_code': '0.0', 'v_3_prevalence_code': '0.0', 'v_4_deviation_code': '0.0', 'v_4_impact_code': '0.0', 'v_4_prevalence_code': '0.0'})\n",
      " \"y\" ,\n",
      " \"v_2_lev_a\" ,\n",
      " \"v_2_lev_b\" ,\n",
      " \"v_3_lev_b\" ,\n",
      " \"v_3_lev_a\" ,\n",
      " \"v_0_lev_a\" ,\n",
      " \"v_0_lev_b\" ,\n",
      " \"v_1_lev_a\" ,\n",
      " \"v_1_lev_b\" ,\n",
      " \"v_4_lev_b\" ,\n",
      " \"v_4_lev_a\" ,\n",
      " COALESCE(\"v_0\", '_NA_') AS \"v_0\" ,\n",
      " COALESCE(\"v_1\", '_NA_') AS \"v_1\" ,\n",
      " COALESCE(\"v_2\", '_NA_') AS \"v_2\" ,\n",
      " COALESCE(\"v_3\", '_NA_') AS \"v_3\" ,\n",
      " COALESCE(\"v_4\", '_NA_') AS \"v_4\" ,\n",
      " 0.0 AS \"v_0_deviation_code\" ,\n",
      " 0.0 AS \"v_0_impact_code\" ,\n",
      " 0.0 AS \"v_0_prevalence_code\" ,\n",
      " 0.0 AS \"v_1_deviation_code\" ,\n",
      " 0.0 AS \"v_1_impact_code\" ,\n",
      " 0.0 AS \"v_1_prevalence_code\" ,\n",
      " 0.0 AS \"v_2_deviation_code\" ,\n",
      " 0.0 AS \"v_2_impact_code\" ,\n",
      " 0.0 AS \"v_2_prevalence_code\" ,\n",
      " 0.0 AS \"v_3_deviation_code\" ,\n",
      " 0.0 AS \"v_3_impact_code\" ,\n",
      " 0.0 AS \"v_3_prevalence_code\" ,\n",
      " 0.0 AS \"v_4_deviation_code\" ,\n",
      " 0.0 AS \"v_4_impact_code\" ,\n",
      " 0.0 AS \"v_4_prevalence_code\"\n",
      "FROM\n",
      " \"extend_0\"\n",
      ";\n",
      "\n",
      "\n",
      "\n",
      "    WITH tmp_update AS (\n",
      "      SELECT\n",
      "        value AS \"v_0\",\n",
      "        replacement AS \"v_0_deviation_code\"\n",
      "      FROM\n",
      "        \"transform_as_data\"\n",
      "      WHERE\n",
      "        (treatment_class = 'MappedCodeTransform')\n",
      "        AND (orig_var = 'v_0')\n",
      "        AND (variable == 'v_0_deviation_code')\n",
      "    )\n",
      "    UPDATE\n",
      "      \"vtreat_stage_3_table\"\n",
      "    SET \"v_0_deviation_code\" = tmp_update.\"v_0_deviation_code\"\n",
      "    FROM\n",
      "      tmp_update\n",
      "    WHERE\n",
      "       \"vtreat_stage_3_table\".\"v_0\" = tmp_update.\"v_0\"\n",
      "    ;\n",
      "\n",
      "\n",
      "\n",
      "    WITH tmp_update AS (\n",
      "      SELECT\n",
      "        value AS \"v_0\",\n",
      "        replacement AS \"v_0_impact_code\"\n",
      "      FROM\n",
      "        \"transform_as_data\"\n",
      "      WHERE\n",
      "        (treatment_class = 'MappedCodeTransform')\n",
      "        AND (orig_var = 'v_0')\n",
      "        AND (variable == 'v_0_impact_code')\n",
      "    )\n",
      "    UPDATE\n",
      "      \"vtreat_stage_3_table\"\n",
      "    SET \"v_0_impact_code\" = tmp_update.\"v_0_impact_code\"\n",
      "    FROM\n",
      "      tmp_update\n",
      "    WHERE\n",
      "       \"vtreat_stage_3_table\".\"v_0\" = tmp_update.\"v_0\"\n",
      "    ;\n",
      "\n",
      "\n",
      "\n",
      "    WITH tmp_update AS (\n",
      "      SELECT\n",
      "        value AS \"v_0\",\n",
      "        replacement AS \"v_0_prevalence_code\"\n",
      "      FROM\n",
      "        \"transform_as_data\"\n",
      "      WHERE\n",
      "        (treatment_class = 'MappedCodeTransform')\n",
      "        AND (orig_var = 'v_0')\n",
      "        AND (variable == 'v_0_prevalence_code')\n",
      "    )\n",
      "    UPDATE\n",
      "      \"vtreat_stage_3_table\"\n",
      "    SET \"v_0_prevalence_code\" = tmp_update.\"v_0_prevalence_code\"\n",
      "    FROM\n",
      "      tmp_update\n",
      "    WHERE\n",
      "       \"vtreat_stage_3_table\".\"v_0\" = tmp_update.\"v_0\"\n",
      "    ;\n",
      "\n",
      "\n",
      "\n",
      "    WITH tmp_update AS (\n",
      "      SELECT\n",
      "        value AS \"v_1\",\n",
      "        replacement AS \"v_1_deviation_code\"\n",
      "      FROM\n",
      "        \"transform_as_data\"\n",
      "      WHERE\n",
      "        (treatment_class = 'MappedCodeTransform')\n",
      "        AND (orig_var = 'v_1')\n",
      "        AND (variable == 'v_1_deviation_code')\n",
      "    )\n",
      "    UPDATE\n",
      "      \"vtreat_stage_3_table\"\n",
      "    SET \"v_1_deviation_code\" = tmp_update.\"v_1_deviation_code\"\n",
      "    FROM\n",
      "      tmp_update\n",
      "    WHERE\n",
      "       \"vtreat_stage_3_table\".\"v_1\" = tmp_update.\"v_1\"\n",
      "    ;\n",
      "\n",
      "\n",
      "\n",
      "    WITH tmp_update AS (\n",
      "      SELECT\n",
      "        value AS \"v_1\",\n",
      "        replacement AS \"v_1_impact_code\"\n",
      "      FROM\n",
      "        \"transform_as_data\"\n",
      "      WHERE\n",
      "        (treatment_class = 'MappedCodeTransform')\n",
      "        AND (orig_var = 'v_1')\n",
      "        AND (variable == 'v_1_impact_code')\n",
      "    )\n",
      "    UPDATE\n",
      "      \"vtreat_stage_3_table\"\n",
      "    SET \"v_1_impact_code\" = tmp_update.\"v_1_impact_code\"\n",
      "    FROM\n",
      "      tmp_update\n",
      "    WHERE\n",
      "       \"vtreat_stage_3_table\".\"v_1\" = tmp_update.\"v_1\"\n",
      "    ;\n",
      "\n",
      "\n",
      "\n",
      "    WITH tmp_update AS (\n",
      "      SELECT\n",
      "        value AS \"v_1\",\n",
      "        replacement AS \"v_1_prevalence_code\"\n",
      "      FROM\n",
      "        \"transform_as_data\"\n",
      "      WHERE\n",
      "        (treatment_class = 'MappedCodeTransform')\n",
      "        AND (orig_var = 'v_1')\n",
      "        AND (variable == 'v_1_prevalence_code')\n",
      "    )\n",
      "    UPDATE\n",
      "      \"vtreat_stage_3_table\"\n",
      "    SET \"v_1_prevalence_code\" = tmp_update.\"v_1_prevalence_code\"\n",
      "    FROM\n",
      "      tmp_update\n",
      "    WHERE\n",
      "       \"vtreat_stage_3_table\".\"v_1\" = tmp_update.\"v_1\"\n",
      "    ;\n",
      "\n",
      "\n",
      "\n",
      "    WITH tmp_update AS (\n",
      "      SELECT\n",
      "        value AS \"v_2\",\n",
      "        replacement AS \"v_2_deviation_code\"\n",
      "      FROM\n",
      "        \"transform_as_data\"\n",
      "      WHERE\n",
      "        (treatment_class = 'MappedCodeTransform')\n",
      "        AND (orig_var = 'v_2')\n",
      "        AND (variable == 'v_2_deviation_code')\n",
      "    )\n",
      "    UPDATE\n",
      "      \"vtreat_stage_3_table\"\n",
      "    SET \"v_2_deviation_code\" = tmp_update.\"v_2_deviation_code\"\n",
      "    FROM\n",
      "      tmp_update\n",
      "    WHERE\n",
      "       \"vtreat_stage_3_table\".\"v_2\" = tmp_update.\"v_2\"\n",
      "    ;\n",
      "\n",
      "\n",
      "\n",
      "    WITH tmp_update AS (\n",
      "      SELECT\n",
      "        value AS \"v_2\",\n",
      "        replacement AS \"v_2_impact_code\"\n",
      "      FROM\n",
      "        \"transform_as_data\"\n",
      "      WHERE\n",
      "        (treatment_class = 'MappedCodeTransform')\n",
      "        AND (orig_var = 'v_2')\n",
      "        AND (variable == 'v_2_impact_code')\n",
      "    )\n",
      "    UPDATE\n",
      "      \"vtreat_stage_3_table\"\n",
      "    SET \"v_2_impact_code\" = tmp_update.\"v_2_impact_code\"\n",
      "    FROM\n",
      "      tmp_update\n",
      "    WHERE\n",
      "       \"vtreat_stage_3_table\".\"v_2\" = tmp_update.\"v_2\"\n",
      "    ;\n",
      "\n",
      "\n",
      "\n",
      "    WITH tmp_update AS (\n",
      "      SELECT\n",
      "        value AS \"v_2\",\n",
      "        replacement AS \"v_2_prevalence_code\"\n",
      "      FROM\n",
      "        \"transform_as_data\"\n",
      "      WHERE\n",
      "        (treatment_class = 'MappedCodeTransform')\n",
      "        AND (orig_var = 'v_2')\n",
      "        AND (variable == 'v_2_prevalence_code')\n",
      "    )\n",
      "    UPDATE\n",
      "      \"vtreat_stage_3_table\"\n",
      "    SET \"v_2_prevalence_code\" = tmp_update.\"v_2_prevalence_code\"\n",
      "    FROM\n",
      "      tmp_update\n",
      "    WHERE\n",
      "       \"vtreat_stage_3_table\".\"v_2\" = tmp_update.\"v_2\"\n",
      "    ;\n",
      "\n",
      "\n",
      "\n",
      "    WITH tmp_update AS (\n",
      "      SELECT\n",
      "        value AS \"v_3\",\n",
      "        replacement AS \"v_3_deviation_code\"\n",
      "      FROM\n",
      "        \"transform_as_data\"\n",
      "      WHERE\n",
      "        (treatment_class = 'MappedCodeTransform')\n",
      "        AND (orig_var = 'v_3')\n",
      "        AND (variable == 'v_3_deviation_code')\n",
      "    )\n",
      "    UPDATE\n",
      "      \"vtreat_stage_3_table\"\n",
      "    SET \"v_3_deviation_code\" = tmp_update.\"v_3_deviation_code\"\n",
      "    FROM\n",
      "      tmp_update\n",
      "    WHERE\n",
      "       \"vtreat_stage_3_table\".\"v_3\" = tmp_update.\"v_3\"\n",
      "    ;\n",
      "\n",
      "\n",
      "\n",
      "    WITH tmp_update AS (\n",
      "      SELECT\n",
      "        value AS \"v_3\",\n",
      "        replacement AS \"v_3_impact_code\"\n",
      "      FROM\n",
      "        \"transform_as_data\"\n",
      "      WHERE\n",
      "        (treatment_class = 'MappedCodeTransform')\n",
      "        AND (orig_var = 'v_3')\n",
      "        AND (variable == 'v_3_impact_code')\n",
      "    )\n",
      "    UPDATE\n",
      "      \"vtreat_stage_3_table\"\n",
      "    SET \"v_3_impact_code\" = tmp_update.\"v_3_impact_code\"\n",
      "    FROM\n",
      "      tmp_update\n",
      "    WHERE\n",
      "       \"vtreat_stage_3_table\".\"v_3\" = tmp_update.\"v_3\"\n",
      "    ;\n",
      "\n",
      "\n",
      "\n",
      "    WITH tmp_update AS (\n",
      "      SELECT\n",
      "        value AS \"v_3\",\n",
      "        replacement AS \"v_3_prevalence_code\"\n",
      "      FROM\n",
      "        \"transform_as_data\"\n",
      "      WHERE\n",
      "        (treatment_class = 'MappedCodeTransform')\n",
      "        AND (orig_var = 'v_3')\n",
      "        AND (variable == 'v_3_prevalence_code')\n",
      "    )\n",
      "    UPDATE\n",
      "      \"vtreat_stage_3_table\"\n",
      "    SET \"v_3_prevalence_code\" = tmp_update.\"v_3_prevalence_code\"\n",
      "    FROM\n",
      "      tmp_update\n",
      "    WHERE\n",
      "       \"vtreat_stage_3_table\".\"v_3\" = tmp_update.\"v_3\"\n",
      "    ;\n",
      "\n",
      "\n",
      "\n",
      "    WITH tmp_update AS (\n",
      "      SELECT\n",
      "        value AS \"v_4\",\n",
      "        replacement AS \"v_4_deviation_code\"\n",
      "      FROM\n",
      "        \"transform_as_data\"\n",
      "      WHERE\n",
      "        (treatment_class = 'MappedCodeTransform')\n",
      "        AND (orig_var = 'v_4')\n",
      "        AND (variable == 'v_4_deviation_code')\n",
      "    )\n",
      "    UPDATE\n",
      "      \"vtreat_stage_3_table\"\n",
      "    SET \"v_4_deviation_code\" = tmp_update.\"v_4_deviation_code\"\n",
      "    FROM\n",
      "      tmp_update\n",
      "    WHERE\n",
      "       \"vtreat_stage_3_table\".\"v_4\" = tmp_update.\"v_4\"\n",
      "    ;\n",
      "\n",
      "\n",
      "\n",
      "    WITH tmp_update AS (\n",
      "      SELECT\n",
      "        value AS \"v_4\",\n",
      "        replacement AS \"v_4_impact_code\"\n",
      "      FROM\n",
      "        \"transform_as_data\"\n",
      "      WHERE\n",
      "        (treatment_class = 'MappedCodeTransform')\n",
      "        AND (orig_var = 'v_4')\n",
      "        AND (variable == 'v_4_impact_code')\n",
      "    )\n",
      "    UPDATE\n",
      "      \"vtreat_stage_3_table\"\n",
      "    SET \"v_4_impact_code\" = tmp_update.\"v_4_impact_code\"\n",
      "    FROM\n",
      "      tmp_update\n",
      "    WHERE\n",
      "       \"vtreat_stage_3_table\".\"v_4\" = tmp_update.\"v_4\"\n",
      "    ;\n",
      "\n",
      "\n",
      "\n",
      "    WITH tmp_update AS (\n",
      "      SELECT\n",
      "        value AS \"v_4\",\n",
      "        replacement AS \"v_4_prevalence_code\"\n",
      "      FROM\n",
      "        \"transform_as_data\"\n",
      "      WHERE\n",
      "        (treatment_class = 'MappedCodeTransform')\n",
      "        AND (orig_var = 'v_4')\n",
      "        AND (variable == 'v_4_prevalence_code')\n",
      "    )\n",
      "    UPDATE\n",
      "      \"vtreat_stage_3_table\"\n",
      "    SET \"v_4_prevalence_code\" = tmp_update.\"v_4_prevalence_code\"\n",
      "    FROM\n",
      "      tmp_update\n",
      "    WHERE\n",
      "       \"vtreat_stage_3_table\".\"v_4\" = tmp_update.\"v_4\"\n",
      "    ;\n",
      "\n",
      "\n",
      "CREATE TABLE \"data_treated\" AS \n",
      "-- data_algebra SQL https://github.com/WinVector/data_algebra\n",
      "--  dialect: SQLiteModel\n",
      "--       string quote: '\n",
      "--   identifier quote: \"\n",
      "WITH\n",
      " \"table_reference_0\" AS (\n",
      "  SELECT\n",
      "   \"y\" ,\n",
      "   \"v_2_lev_a\" ,\n",
      "   \"v_2_lev_b\" ,\n",
      "   \"v_3_lev_b\" ,\n",
      "   \"v_3_lev_a\" ,\n",
      "   \"v_0_lev_a\" ,\n",
      "   \"v_0_lev_b\" ,\n",
      "   \"v_1_lev_a\" ,\n",
      "   \"v_1_lev_b\" ,\n",
      "   \"v_4_lev_b\" ,\n",
      "   \"v_4_lev_a\" ,\n",
      "   \"v_0_deviation_code\" ,\n",
      "   \"v_0_impact_code\" ,\n",
      "   \"v_0_prevalence_code\" ,\n",
      "   \"v_1_deviation_code\" ,\n",
      "   \"v_1_impact_code\" ,\n",
      "   \"v_1_prevalence_code\" ,\n",
      "   \"v_2_deviation_code\" ,\n",
      "   \"v_2_impact_code\" ,\n",
      "   \"v_2_prevalence_code\" ,\n",
      "   \"v_3_deviation_code\" ,\n",
      "   \"v_3_impact_code\" ,\n",
      "   \"v_3_prevalence_code\" ,\n",
      "   \"v_4_deviation_code\" ,\n",
      "   \"v_4_impact_code\" ,\n",
      "   \"v_4_prevalence_code\"\n",
      "  FROM\n",
      "   \"vtreat_stage_3_table\"\n",
      " )\n",
      "SELECT  -- .extend({ 'v_0_deviation_code': 'v_0_deviation_code.coalesce(0.0)', 'v_0_impact_code': 'v_0_impact_code.coalesce(0.0)', 'v_0_prevalence_code': 'v_0_prevalence_code.coalesce(0.0)', 'v_1_deviation_code': 'v_1_deviation_code.coalesce(0.0)', 'v_1_impact_code': 'v_1_impact_code.coalesce(0.0)', 'v_1_prevalence_code': 'v_1_prevalence_code.coalesce(0.0)', 'v_2_deviation_code': 'v_2_deviation_code.coalesce(0.0)', 'v_2_impact_code': 'v_2_impact_code.coalesce(0.0)', 'v_2_prevalence_code': 'v_2_prevalence_code.coalesce(0.0)', 'v_3_deviation_code': 'v_3_deviation_code.coalesce(0.0)', 'v_3_impact_code': 'v_3_impact_code.coalesce(0.0)', 'v_3_prevalence_code': 'v_3_prevalence_code.coalesce(0.0)', 'v_4_deviation_code': 'v_4_deviation_code.coalesce(0.0)', 'v_4_impact_code': 'v_4_impact_code.coalesce(0.0)', 'v_4_prevalence_code': 'v_4_prevalence_code.coalesce(0.0)'})\n",
      " \"v_0_lev_b\" ,\n",
      " \"v_4_lev_b\" ,\n",
      " \"v_0_lev_a\" ,\n",
      " \"v_1_lev_a\" ,\n",
      " \"v_3_lev_a\" ,\n",
      " \"v_3_lev_b\" ,\n",
      " \"v_1_lev_b\" ,\n",
      " \"v_4_lev_a\" ,\n",
      " \"v_2_lev_b\" ,\n",
      " \"y\" ,\n",
      " \"v_2_lev_a\" ,\n",
      " COALESCE(\"v_0_deviation_code\", 0.0) AS \"v_0_deviation_code\" ,\n",
      " COALESCE(\"v_0_impact_code\", 0.0) AS \"v_0_impact_code\" ,\n",
      " COALESCE(\"v_0_prevalence_code\", 0.0) AS \"v_0_prevalence_code\" ,\n",
      " COALESCE(\"v_1_deviation_code\", 0.0) AS \"v_1_deviation_code\" ,\n",
      " COALESCE(\"v_1_impact_code\", 0.0) AS \"v_1_impact_code\" ,\n",
      " COALESCE(\"v_1_prevalence_code\", 0.0) AS \"v_1_prevalence_code\" ,\n",
      " COALESCE(\"v_2_deviation_code\", 0.0) AS \"v_2_deviation_code\" ,\n",
      " COALESCE(\"v_2_impact_code\", 0.0) AS \"v_2_impact_code\" ,\n",
      " COALESCE(\"v_2_prevalence_code\", 0.0) AS \"v_2_prevalence_code\" ,\n",
      " COALESCE(\"v_3_deviation_code\", 0.0) AS \"v_3_deviation_code\" ,\n",
      " COALESCE(\"v_3_impact_code\", 0.0) AS \"v_3_impact_code\" ,\n",
      " COALESCE(\"v_3_prevalence_code\", 0.0) AS \"v_3_prevalence_code\" ,\n",
      " COALESCE(\"v_4_deviation_code\", 0.0) AS \"v_4_deviation_code\" ,\n",
      " COALESCE(\"v_4_impact_code\", 0.0) AS \"v_4_impact_code\" ,\n",
      " COALESCE(\"v_4_prevalence_code\", 0.0) AS \"v_4_prevalence_code\"\n",
      "FROM\n",
      " \"table_reference_0\"\n",
      ";\n",
      "\n",
      "\n",
      "DROP TABLE \"vtreat_stage_3_table\";\n",
      "\n",
      "\n"
     ]
    }
   ],
   "source": [
    "# print all the SQL steps\n",
    "for sql in sql_sequence:\n",
    "    print(sql + ';\\n\\n')"
   ],
   "metadata": {
    "collapsed": false,
    "pycharm": {
     "name": "#%%\n"
    }
   }
  }
 ],
 "metadata": {
  "kernelspec": {
   "display_name": "Python 3",
   "language": "python",
   "name": "python3"
  },
  "language_info": {
   "codemirror_mode": {
    "name": "ipython",
    "version": 2
   },
   "file_extension": ".py",
   "mimetype": "text/x-python",
   "name": "python",
   "nbconvert_exporter": "python",
   "pygments_lexer": "ipython2",
   "version": "2.7.6"
  }
 },
 "nbformat": 4,
 "nbformat_minor": 0
}