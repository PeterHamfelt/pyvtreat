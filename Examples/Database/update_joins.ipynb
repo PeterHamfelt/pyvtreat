{
 "cells": [
  {
   "cell_type": "markdown",
   "source": [
    "Produce vtreat data transform as a sequence of SQL statements, instead\n",
    "of one large one. The idea is: it may be better to deal with a large\n",
    "number of joins by sequencing through `UPDATE` instead of composition."
   ],
   "metadata": {
    "collapsed": false,
    "pycharm": {
     "name": "#%% md\n"
    }
   }
  },
  {
   "cell_type": "code",
   "execution_count": 1,
   "metadata": {
    "collapsed": true
   },
   "outputs": [],
   "source": [
    "\n",
    "import datetime\n",
    "import os\n",
    "os.chdir('/Users/johnmount/Documents/work/pyvtreat/Examples/Database')\n",
    "import sys\n",
    "import numpy as np\n",
    "import pandas as pd\n",
    "\n",
    "from data_algebra.data_ops import *\n",
    "import data_algebra.SQLite\n",
    "import data_algebra.test_util\n",
    "import vtreat\n",
    "import vtreat.vtreat_db_adapter\n",
    "\n"
   ]
  },
  {
   "cell_type": "code",
   "execution_count": 2,
   "outputs": [],
   "source": [
    "# larger version of tests/test_db_adapter.py:test_db_adapter_monster()\n",
    "def mk_example(n_rows:int = 100, n_vars:int = 50):\n",
    "    step = 1/np.sqrt(n_vars)\n",
    "    cols = dict()\n",
    "    y = np.random.normal(size=n_rows)\n",
    "    for i in range(n_vars):\n",
    "        vname = f'v_{i}'\n",
    "        v = np.random.choice(['a', 'b'], replace=True, size=n_rows)\n",
    "        y = y + np.where(v == 'a', step, -step)\n",
    "        cols[vname] = v\n",
    "    vars = list(cols.keys())\n",
    "    vars.sort()\n",
    "    cols['y'] = y\n",
    "    d = pd.DataFrame(cols)\n",
    "\n",
    "    outcome_name = \"y\"\n",
    "    cols_to_copy = [outcome_name]\n",
    "    columns = vars + cols_to_copy\n",
    "\n",
    "    treatment = vtreat.NumericOutcomeTreatment(\n",
    "        cols_to_copy=cols_to_copy,\n",
    "        outcome_name=outcome_name,\n",
    "        params=vtreat.vtreat_parameters(\n",
    "            {\"sparse_indicators\": False, \"filter_to_recommended\": False,}\n",
    "        ),\n",
    "    )\n",
    "    d_train_treated = treatment.fit_transform(d)\n",
    "    transform_as_data = treatment.description_matrix()\n",
    "    source_descr = TableDescription(\n",
    "        table_name='d_app',\n",
    "        column_names=columns,\n",
    "    )\n",
    "    return {\n",
    "        'transform_as_data': transform_as_data,\n",
    "        'source_descr': source_descr,\n",
    "    }\n",
    "\n",
    "ex = mk_example(n_vars=5)\n",
    "source_descr = ex['source_descr']\n",
    "transform_as_data = ex['transform_as_data']\n"
   ],
   "metadata": {
    "collapsed": false,
    "pycharm": {
     "name": "#%%\n"
    }
   }
  },
  {
   "cell_type": "code",
   "execution_count": 3,
   "outputs": [],
   "source": [
    "db_model = data_algebra.SQLite.SQLiteModel()\n",
    "treatment_table_name = 'transform_as_data'\n",
    "stage_3_name = 'vtreat_stage_3_table'\n",
    "result_name = 'data_treated'\n",
    "\n",
    "ops, map_vars, mapping_steps, stage_3_ops = vtreat.vtreat_db_adapter._build_data_pipelines_stages(\n",
    "    source=source_descr,\n",
    "    vtreat_descr=transform_as_data,\n",
    "    treatment_table_name=treatment_table_name,\n",
    "    stage_3_name=stage_3_name,\n",
    ")\n",
    "\n",
    "# give variables pre-update values\n",
    "ops = ops.extend({\n",
    "    v: '1.0' for v in map_vars\n",
    "})\n",
    "\n",
    "def update_code(i):\n",
    "    step_i = mapping_steps[i]\n",
    "    ov = step_i['ov']\n",
    "    vi = step_i['vi']\n",
    "    update_stmt = (f\"\"\"\n",
    "WITH tmp_update AS (\n",
    "  SELECT\n",
    "    value AS {db_model.quote_identifier(ov)},\n",
    "    replacement AS {db_model.quote_identifier(vi)},\n",
    "  WHERE\n",
    "    (treatment_class = {db_model.quote_string('MappedCodeTransform')})\n",
    "    AND (orig_var = {db_model.quote_string(ov)})\n",
    "    AND (variable == {db_model.quote_string(vi)})\n",
    "  FROM\n",
    "    {db_model.quote_identifier(treatment_table_name)}\n",
    ")\n",
    "UPDATE\n",
    "  {stage_3_name}\n",
    "SET {db_model.quote_identifier(vi)} = tmp_update.{db_model.quote_identifier(vi)}\n",
    "FROM\n",
    "  tmp_update\n",
    "WHERE\n",
    "   {db_model.quote_identifier(ov)} = tmp_update.{db_model.quote_identifier(ov)}\n",
    "\"\"\")\n",
    "    return update_stmt\n",
    "\n",
    "\n",
    "sql_sequence = (\n",
    "    [ f'DROP TABLE IF EXISTS {db_model.quote_identifier(stage_3_name)} ;']\n",
    "    + [ f'DROP TABLE IF EXISTS {db_model.quote_identifier(result_name)} ;']\n",
    "    + [\n",
    "        f'CREATE {db_model.quote_identifier(stage_3_name)} AS \\n'\n",
    "        + db_model.to_sql(ops)\n",
    "        + ' ;'\n",
    "    ]\n",
    "    + [update_code(i) + ' ;' for i in range(len(mapping_steps))]\n",
    "    + [\n",
    "        f'CREATE {db_model.quote_identifier(result_name)} AS \\n'\n",
    "        + db_model.to_sql(stage_3_ops)\n",
    "        + ' ;'\n",
    "    ]\n",
    "    + [ f'DROP TABLE {db_model.quote_identifier(stage_3_name)} ;']\n",
    ")"
   ],
   "metadata": {
    "collapsed": false,
    "pycharm": {
     "name": "#%%\n"
    }
   }
  }
 ],
 "metadata": {
  "kernelspec": {
   "display_name": "Python 3",
   "language": "python",
   "name": "python3"
  },
  "language_info": {
   "codemirror_mode": {
    "name": "ipython",
    "version": 2
   },
   "file_extension": ".py",
   "mimetype": "text/x-python",
   "name": "python",
   "nbconvert_exporter": "python",
   "pygments_lexer": "ipython2",
   "version": "2.7.6"
  }
 },
 "nbformat": 4,
 "nbformat_minor": 0
}