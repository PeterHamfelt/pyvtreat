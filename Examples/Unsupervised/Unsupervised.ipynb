{
 "cells": [
  {
   "cell_type": "markdown",
   "metadata": {},
   "source": [
    "# Using vtreat with Unsupervised Problems and Non-Y-aware data treatment"
   ]
  },
  {
   "cell_type": "markdown",
   "metadata": {},
   "source": [
    "## Preliminaries\n",
    "\n",
    "Nina Zumel and John Mount\n",
    "September 2019\n",
    "\n",
    "Note: this is a description of the [`Python` version of `vtreat`](https://github.com/WinVector/pyvtreat), the same example for the [`R` version of `vtreat`](https://github.com/WinVector/vtreat) can be found [here](https://github.com/WinVector/vtreat/blob/master/Examples/Unsupervised/Unsupervised.md)."
   ]
  },
  {
   "cell_type": "markdown",
   "metadata": {},
   "source": [
    "Load modules/packages."
   ]
  },
  {
   "cell_type": "code",
   "execution_count": 1,
   "metadata": {
    "collapsed": false,
    "jupyter": {
     "outputs_hidden": false
    },
    "pycharm": {
     "name": "#%%\n"
    }
   },
   "outputs": [],
   "source": [
    "import pkg_resources\n",
    "import pandas\n",
    "import numpy\n",
    "import numpy.random\n",
    "import seaborn\n",
    "import matplotlib.pyplot as plt\n",
    "import vtreat\n",
    "import vtreat.util\n",
    "import wvpy.util"
   ]
  },
  {
   "cell_type": "markdown",
   "metadata": {},
   "source": [
    "Generate example data. \n",
    "\n",
    "* `y` is a noisy sinusoidal plus linear function of the variable `x`\n",
    "* Input `xc` is a categorical variable that represents a discretization of `y`, along with some `NaN`s\n",
    "* Input `x2` is a pure noise variable with no relationship to the output\n",
    "* Input `x3` is a constant variable"
   ]
  },
  {
   "cell_type": "code",
   "execution_count": 2,
   "metadata": {
    "collapsed": false,
    "jupyter": {
     "outputs_hidden": false
    },
    "pycharm": {
     "name": "#%%\n"
    }
   },
   "outputs": [
    {
     "data": {
      "text/html": [
       "<div>\n",
       "<style scoped>\n",
       "    .dataframe tbody tr th:only-of-type {\n",
       "        vertical-align: middle;\n",
       "    }\n",
       "\n",
       "    .dataframe tbody tr th {\n",
       "        vertical-align: top;\n",
       "    }\n",
       "\n",
       "    .dataframe thead th {\n",
       "        text-align: right;\n",
       "    }\n",
       "</style>\n",
       "<table border=\"1\" class=\"dataframe\">\n",
       "  <thead>\n",
       "    <tr style=\"text-align: right;\">\n",
       "      <th></th>\n",
       "      <th>x</th>\n",
       "      <th>y</th>\n",
       "      <th>xc</th>\n",
       "      <th>x2</th>\n",
       "      <th>x3</th>\n",
       "    </tr>\n",
       "  </thead>\n",
       "  <tbody>\n",
       "    <tr>\n",
       "      <th>0</th>\n",
       "      <td>0.0</td>\n",
       "      <td>0.060564</td>\n",
       "      <td>level_0.0</td>\n",
       "      <td>-0.205234</td>\n",
       "      <td>1</td>\n",
       "    </tr>\n",
       "    <tr>\n",
       "      <th>1</th>\n",
       "      <td>0.1</td>\n",
       "      <td>0.215233</td>\n",
       "      <td>level_0.0</td>\n",
       "      <td>2.599714</td>\n",
       "      <td>1</td>\n",
       "    </tr>\n",
       "    <tr>\n",
       "      <th>2</th>\n",
       "      <td>0.2</td>\n",
       "      <td>0.372437</td>\n",
       "      <td>level_0.5</td>\n",
       "      <td>1.108041</td>\n",
       "      <td>1</td>\n",
       "    </tr>\n",
       "    <tr>\n",
       "      <th>3</th>\n",
       "      <td>0.3</td>\n",
       "      <td>0.331111</td>\n",
       "      <td>level_0.5</td>\n",
       "      <td>-1.246586</td>\n",
       "      <td>1</td>\n",
       "    </tr>\n",
       "    <tr>\n",
       "      <th>4</th>\n",
       "      <td>0.4</td>\n",
       "      <td>0.232665</td>\n",
       "      <td>level_0.0</td>\n",
       "      <td>-0.215604</td>\n",
       "      <td>1</td>\n",
       "    </tr>\n",
       "  </tbody>\n",
       "</table>\n",
       "</div>"
      ],
      "text/plain": [
       "     x         y         xc        x2  x3\n",
       "0  0.0  0.060564  level_0.0 -0.205234   1\n",
       "1  0.1  0.215233  level_0.0  2.599714   1\n",
       "2  0.2  0.372437  level_0.5  1.108041   1\n",
       "3  0.3  0.331111  level_0.5 -1.246586   1\n",
       "4  0.4  0.232665  level_0.0 -0.215604   1"
      ]
     },
     "execution_count": 2,
     "metadata": {},
     "output_type": "execute_result"
    }
   ],
   "source": [
    "def make_data(nrows):\n",
    "    d = pandas.DataFrame({'x':[0.1*i for i in range(500)]})\n",
    "    d['y'] = numpy.sin(d['x']) + 0.01*d['x'] +  0.1*numpy.random.normal(size=d.shape[0])\n",
    "    d['xc'] = ['level_' + str(5*numpy.round(yi/5, 1)) for yi in d['y']]\n",
    "    d['x2'] = numpy.random.normal(size=d.shape[0])\n",
    "    d['x3'] = 1\n",
    "    d.loc[d['xc']=='level_-1.0', 'xc'] = numpy.nan # introduce a nan level\n",
    "    return d\n",
    "\n",
    "d = make_data(500)\n",
    "\n",
    "d.head()"
   ]
  },
  {
   "cell_type": "markdown",
   "metadata": {},
   "source": [
    "### Some quick data exploration\n",
    "\n",
    "Check how many levels `xc` has, and their distribution (including `NaN`)"
   ]
  },
  {
   "cell_type": "code",
   "execution_count": 3,
   "metadata": {
    "collapsed": false,
    "jupyter": {
     "outputs_hidden": false
    },
    "pycharm": {
     "name": "#%%\n"
    }
   },
   "outputs": [
    {
     "data": {
      "text/plain": [
       "array(['level_0.0', 'level_0.5', 'level_1.0', 'level_-0.0', 'level_-0.5',\n",
       "       nan, 'level_1.5'], dtype=object)"
      ]
     },
     "execution_count": 3,
     "metadata": {},
     "output_type": "execute_result"
    }
   ],
   "source": [
    "d['xc'].unique()"
   ]
  },
  {
   "cell_type": "code",
   "execution_count": 4,
   "metadata": {
    "collapsed": false,
    "jupyter": {
     "outputs_hidden": false
    },
    "pycharm": {
     "name": "#%%\n"
    }
   },
   "outputs": [
    {
     "data": {
      "text/plain": [
       "level_1.0     129\n",
       "level_-0.5    126\n",
       "level_0.5      87\n",
       "level_-0.0     46\n",
       "level_0.0      42\n",
       "NaN            38\n",
       "level_1.5      32\n",
       "Name: xc, dtype: int64"
      ]
     },
     "execution_count": 4,
     "metadata": {},
     "output_type": "execute_result"
    }
   ],
   "source": [
    "d['xc'].value_counts(dropna=False)"
   ]
  },
  {
   "cell_type": "markdown",
   "metadata": {},
   "source": [
    "## Build a transform appropriate for unsupervised (or non-y-aware) problems.\n",
    "\n",
    "The `vtreat` package is primarily intended for data treatment prior to supervised learning, as detailed in the [Classification](https://github.com/WinVector/pyvtreat/blob/master/Examples/Classification/Classification.ipynb) and [Regression](https://github.com/WinVector/pyvtreat/blob/master/Examples/Regression/Regression.ipynb) examples. In these situations, `vtreat` specifically uses the relationship between the inputs and the outcomes in the training data to create certain types of synthetic variables. We call these more complex synthetic variables *y-aware variables*. \n",
    "\n",
    "However, you may also want to use `vtreat` for basic data treatment for unsupervised problems, when there is no outcome variable. Or, you may not want to create any y-aware variables when preparing the data for supervised modeling. For these applications, `vtreat` is a convenient alternative to: `pandas.get_dummies()` or `sklearn.preprocessing.OneHotEncoder()`.\n",
    "\n",
    "In any case, we still want training data where all the input variables are numeric and have no missing values or `NaN`s.\n",
    "\n",
    "First create the data treatment transform object, in this case a treatment for an unsupervised problem."
   ]
  },
  {
   "cell_type": "code",
   "execution_count": 5,
   "metadata": {
    "collapsed": false,
    "jupyter": {
     "outputs_hidden": false
    },
    "pycharm": {
     "name": "#%%\n"
    }
   },
   "outputs": [],
   "source": [
    "transform = vtreat.UnsupervisedTreatment(\n",
    "     cols_to_copy = ['y'],          # columns to \"carry along\" but not treat as input variables\n",
    ")  "
   ]
  },
  {
   "cell_type": "markdown",
   "metadata": {},
   "source": [
    "Use the training data `d` to fit the transform and the return a treated training set: completely numeric, with no missing values."
   ]
  },
  {
   "cell_type": "code",
   "execution_count": 6,
   "metadata": {
    "collapsed": false,
    "jupyter": {
     "outputs_hidden": false
    },
    "pycharm": {
     "name": "#%%\n"
    }
   },
   "outputs": [],
   "source": [
    "d_prepared = transform.fit_transform(d)"
   ]
  },
  {
   "cell_type": "markdown",
   "metadata": {},
   "source": [
    "Now examine the score frame, which gives information about each new variable, including its type and which original variable it is  derived from. Some of the columns of the score frame (`y_aware`, `PearsonR`, `significance` and `recommended`) are not relevant to the unsupervised case; those columns are used by the Regression and Classification transforms."
   ]
  },
  {
   "cell_type": "code",
   "execution_count": 7,
   "metadata": {
    "collapsed": false,
    "jupyter": {
     "outputs_hidden": false
    },
    "pycharm": {
     "name": "#%%\n"
    }
   },
   "outputs": [
    {
     "data": {
      "text/html": [
       "<div>\n",
       "<style scoped>\n",
       "    .dataframe tbody tr th:only-of-type {\n",
       "        vertical-align: middle;\n",
       "    }\n",
       "\n",
       "    .dataframe tbody tr th {\n",
       "        vertical-align: top;\n",
       "    }\n",
       "\n",
       "    .dataframe thead th {\n",
       "        text-align: right;\n",
       "    }\n",
       "</style>\n",
       "<table border=\"1\" class=\"dataframe\">\n",
       "  <thead>\n",
       "    <tr style=\"text-align: right;\">\n",
       "      <th></th>\n",
       "      <th>variable</th>\n",
       "      <th>orig_variable</th>\n",
       "      <th>treatment</th>\n",
       "      <th>y_aware</th>\n",
       "      <th>has_range</th>\n",
       "      <th>PearsonR</th>\n",
       "      <th>significance</th>\n",
       "      <th>recommended</th>\n",
       "      <th>vcount</th>\n",
       "    </tr>\n",
       "  </thead>\n",
       "  <tbody>\n",
       "    <tr>\n",
       "      <th>0</th>\n",
       "      <td>xc_is_bad</td>\n",
       "      <td>xc</td>\n",
       "      <td>missing_indicator</td>\n",
       "      <td>False</td>\n",
       "      <td>True</td>\n",
       "      <td>NaN</td>\n",
       "      <td>NaN</td>\n",
       "      <td>True</td>\n",
       "      <td>1.0</td>\n",
       "    </tr>\n",
       "    <tr>\n",
       "      <th>1</th>\n",
       "      <td>x</td>\n",
       "      <td>x</td>\n",
       "      <td>clean_copy</td>\n",
       "      <td>False</td>\n",
       "      <td>True</td>\n",
       "      <td>NaN</td>\n",
       "      <td>NaN</td>\n",
       "      <td>True</td>\n",
       "      <td>2.0</td>\n",
       "    </tr>\n",
       "    <tr>\n",
       "      <th>2</th>\n",
       "      <td>x2</td>\n",
       "      <td>x2</td>\n",
       "      <td>clean_copy</td>\n",
       "      <td>False</td>\n",
       "      <td>True</td>\n",
       "      <td>NaN</td>\n",
       "      <td>NaN</td>\n",
       "      <td>True</td>\n",
       "      <td>2.0</td>\n",
       "    </tr>\n",
       "    <tr>\n",
       "      <th>3</th>\n",
       "      <td>xc_prevalence_code</td>\n",
       "      <td>xc</td>\n",
       "      <td>prevalence_code</td>\n",
       "      <td>False</td>\n",
       "      <td>True</td>\n",
       "      <td>NaN</td>\n",
       "      <td>NaN</td>\n",
       "      <td>True</td>\n",
       "      <td>1.0</td>\n",
       "    </tr>\n",
       "    <tr>\n",
       "      <th>4</th>\n",
       "      <td>xc_lev_level_1.0</td>\n",
       "      <td>xc</td>\n",
       "      <td>indicator_code</td>\n",
       "      <td>False</td>\n",
       "      <td>True</td>\n",
       "      <td>NaN</td>\n",
       "      <td>NaN</td>\n",
       "      <td>True</td>\n",
       "      <td>7.0</td>\n",
       "    </tr>\n",
       "    <tr>\n",
       "      <th>5</th>\n",
       "      <td>xc_lev_level_-0.5</td>\n",
       "      <td>xc</td>\n",
       "      <td>indicator_code</td>\n",
       "      <td>False</td>\n",
       "      <td>True</td>\n",
       "      <td>NaN</td>\n",
       "      <td>NaN</td>\n",
       "      <td>True</td>\n",
       "      <td>7.0</td>\n",
       "    </tr>\n",
       "    <tr>\n",
       "      <th>6</th>\n",
       "      <td>xc_lev_level_0.5</td>\n",
       "      <td>xc</td>\n",
       "      <td>indicator_code</td>\n",
       "      <td>False</td>\n",
       "      <td>True</td>\n",
       "      <td>NaN</td>\n",
       "      <td>NaN</td>\n",
       "      <td>True</td>\n",
       "      <td>7.0</td>\n",
       "    </tr>\n",
       "    <tr>\n",
       "      <th>7</th>\n",
       "      <td>xc_lev_level_-0.0</td>\n",
       "      <td>xc</td>\n",
       "      <td>indicator_code</td>\n",
       "      <td>False</td>\n",
       "      <td>True</td>\n",
       "      <td>NaN</td>\n",
       "      <td>NaN</td>\n",
       "      <td>True</td>\n",
       "      <td>7.0</td>\n",
       "    </tr>\n",
       "    <tr>\n",
       "      <th>8</th>\n",
       "      <td>xc_lev_level_0.0</td>\n",
       "      <td>xc</td>\n",
       "      <td>indicator_code</td>\n",
       "      <td>False</td>\n",
       "      <td>True</td>\n",
       "      <td>NaN</td>\n",
       "      <td>NaN</td>\n",
       "      <td>True</td>\n",
       "      <td>7.0</td>\n",
       "    </tr>\n",
       "    <tr>\n",
       "      <th>9</th>\n",
       "      <td>xc_lev__NA_</td>\n",
       "      <td>xc</td>\n",
       "      <td>indicator_code</td>\n",
       "      <td>False</td>\n",
       "      <td>True</td>\n",
       "      <td>NaN</td>\n",
       "      <td>NaN</td>\n",
       "      <td>True</td>\n",
       "      <td>7.0</td>\n",
       "    </tr>\n",
       "    <tr>\n",
       "      <th>10</th>\n",
       "      <td>xc_lev_level_1.5</td>\n",
       "      <td>xc</td>\n",
       "      <td>indicator_code</td>\n",
       "      <td>False</td>\n",
       "      <td>True</td>\n",
       "      <td>NaN</td>\n",
       "      <td>NaN</td>\n",
       "      <td>True</td>\n",
       "      <td>7.0</td>\n",
       "    </tr>\n",
       "  </tbody>\n",
       "</table>\n",
       "</div>"
      ],
      "text/plain": [
       "              variable orig_variable          treatment  y_aware  has_range  \\\n",
       "0            xc_is_bad            xc  missing_indicator    False       True   \n",
       "1                    x             x         clean_copy    False       True   \n",
       "2                   x2            x2         clean_copy    False       True   \n",
       "3   xc_prevalence_code            xc    prevalence_code    False       True   \n",
       "4     xc_lev_level_1.0            xc     indicator_code    False       True   \n",
       "5    xc_lev_level_-0.5            xc     indicator_code    False       True   \n",
       "6     xc_lev_level_0.5            xc     indicator_code    False       True   \n",
       "7    xc_lev_level_-0.0            xc     indicator_code    False       True   \n",
       "8     xc_lev_level_0.0            xc     indicator_code    False       True   \n",
       "9          xc_lev__NA_            xc     indicator_code    False       True   \n",
       "10    xc_lev_level_1.5            xc     indicator_code    False       True   \n",
       "\n",
       "    PearsonR  significance  recommended  vcount  \n",
       "0        NaN           NaN         True     1.0  \n",
       "1        NaN           NaN         True     2.0  \n",
       "2        NaN           NaN         True     2.0  \n",
       "3        NaN           NaN         True     1.0  \n",
       "4        NaN           NaN         True     7.0  \n",
       "5        NaN           NaN         True     7.0  \n",
       "6        NaN           NaN         True     7.0  \n",
       "7        NaN           NaN         True     7.0  \n",
       "8        NaN           NaN         True     7.0  \n",
       "9        NaN           NaN         True     7.0  \n",
       "10       NaN           NaN         True     7.0  "
      ]
     },
     "execution_count": 7,
     "metadata": {},
     "output_type": "execute_result"
    }
   ],
   "source": [
    "transform.score_frame_"
   ]
  },
  {
   "cell_type": "markdown",
   "metadata": {},
   "source": [
    "Notice that the variable `xc` has been converted to multiple variables: \n",
    "\n",
    "* an indicator variable for each possible level, including `NA` or missing (`xc_lev_level_*`)\n",
    "* a variable indicating when `xc` was `NaN` in the original data (`xc_is_bad`)\n",
    "* a variable that returns how prevalent this particular value of `xc` is in the training data (`xc_prevalence_code`)\n",
    "\n",
    "Any or all of these new variables are available for downstream modeling.\n",
    "\n",
    "Also note that the variable `x3` did not show up in the score frame, as it had no range (didn't vary), so the unsupervised treatment dropped it."
   ]
  },
  {
   "cell_type": "markdown",
   "metadata": {},
   "source": [
    "Let's look at the top of `d_prepared`, which includes all the new variables, plus `y` (and excluding `x3`)."
   ]
  },
  {
   "cell_type": "code",
   "execution_count": 8,
   "metadata": {
    "collapsed": false,
    "jupyter": {
     "outputs_hidden": false
    },
    "pycharm": {
     "name": "#%%\n"
    }
   },
   "outputs": [
    {
     "data": {
      "text/html": [
       "<div>\n",
       "<style scoped>\n",
       "    .dataframe tbody tr th:only-of-type {\n",
       "        vertical-align: middle;\n",
       "    }\n",
       "\n",
       "    .dataframe tbody tr th {\n",
       "        vertical-align: top;\n",
       "    }\n",
       "\n",
       "    .dataframe thead th {\n",
       "        text-align: right;\n",
       "    }\n",
       "</style>\n",
       "<table border=\"1\" class=\"dataframe\">\n",
       "  <thead>\n",
       "    <tr style=\"text-align: right;\">\n",
       "      <th></th>\n",
       "      <th>y</th>\n",
       "      <th>xc_is_bad</th>\n",
       "      <th>x</th>\n",
       "      <th>x2</th>\n",
       "      <th>xc_prevalence_code</th>\n",
       "      <th>xc_lev_level_1.0</th>\n",
       "      <th>xc_lev_level_-0.5</th>\n",
       "      <th>xc_lev_level_0.5</th>\n",
       "      <th>xc_lev_level_-0.0</th>\n",
       "      <th>xc_lev_level_0.0</th>\n",
       "      <th>xc_lev__NA_</th>\n",
       "      <th>xc_lev_level_1.5</th>\n",
       "    </tr>\n",
       "  </thead>\n",
       "  <tbody>\n",
       "    <tr>\n",
       "      <th>0</th>\n",
       "      <td>0.060564</td>\n",
       "      <td>0.0</td>\n",
       "      <td>0.0</td>\n",
       "      <td>-0.205234</td>\n",
       "      <td>0.084</td>\n",
       "      <td>0.0</td>\n",
       "      <td>0.0</td>\n",
       "      <td>0.0</td>\n",
       "      <td>0.0</td>\n",
       "      <td>1.0</td>\n",
       "      <td>0.0</td>\n",
       "      <td>0.0</td>\n",
       "    </tr>\n",
       "    <tr>\n",
       "      <th>1</th>\n",
       "      <td>0.215233</td>\n",
       "      <td>0.0</td>\n",
       "      <td>0.1</td>\n",
       "      <td>2.599714</td>\n",
       "      <td>0.084</td>\n",
       "      <td>0.0</td>\n",
       "      <td>0.0</td>\n",
       "      <td>0.0</td>\n",
       "      <td>0.0</td>\n",
       "      <td>1.0</td>\n",
       "      <td>0.0</td>\n",
       "      <td>0.0</td>\n",
       "    </tr>\n",
       "    <tr>\n",
       "      <th>2</th>\n",
       "      <td>0.372437</td>\n",
       "      <td>0.0</td>\n",
       "      <td>0.2</td>\n",
       "      <td>1.108041</td>\n",
       "      <td>0.174</td>\n",
       "      <td>0.0</td>\n",
       "      <td>0.0</td>\n",
       "      <td>1.0</td>\n",
       "      <td>0.0</td>\n",
       "      <td>0.0</td>\n",
       "      <td>0.0</td>\n",
       "      <td>0.0</td>\n",
       "    </tr>\n",
       "    <tr>\n",
       "      <th>3</th>\n",
       "      <td>0.331111</td>\n",
       "      <td>0.0</td>\n",
       "      <td>0.3</td>\n",
       "      <td>-1.246586</td>\n",
       "      <td>0.174</td>\n",
       "      <td>0.0</td>\n",
       "      <td>0.0</td>\n",
       "      <td>1.0</td>\n",
       "      <td>0.0</td>\n",
       "      <td>0.0</td>\n",
       "      <td>0.0</td>\n",
       "      <td>0.0</td>\n",
       "    </tr>\n",
       "    <tr>\n",
       "      <th>4</th>\n",
       "      <td>0.232665</td>\n",
       "      <td>0.0</td>\n",
       "      <td>0.4</td>\n",
       "      <td>-0.215604</td>\n",
       "      <td>0.084</td>\n",
       "      <td>0.0</td>\n",
       "      <td>0.0</td>\n",
       "      <td>0.0</td>\n",
       "      <td>0.0</td>\n",
       "      <td>1.0</td>\n",
       "      <td>0.0</td>\n",
       "      <td>0.0</td>\n",
       "    </tr>\n",
       "  </tbody>\n",
       "</table>\n",
       "</div>"
      ],
      "text/plain": [
       "          y  xc_is_bad    x        x2  xc_prevalence_code  xc_lev_level_1.0  \\\n",
       "0  0.060564        0.0  0.0 -0.205234               0.084               0.0   \n",
       "1  0.215233        0.0  0.1  2.599714               0.084               0.0   \n",
       "2  0.372437        0.0  0.2  1.108041               0.174               0.0   \n",
       "3  0.331111        0.0  0.3 -1.246586               0.174               0.0   \n",
       "4  0.232665        0.0  0.4 -0.215604               0.084               0.0   \n",
       "\n",
       "   xc_lev_level_-0.5  xc_lev_level_0.5  xc_lev_level_-0.0  xc_lev_level_0.0  \\\n",
       "0                0.0               0.0                0.0               1.0   \n",
       "1                0.0               0.0                0.0               1.0   \n",
       "2                0.0               1.0                0.0               0.0   \n",
       "3                0.0               1.0                0.0               0.0   \n",
       "4                0.0               0.0                0.0               1.0   \n",
       "\n",
       "   xc_lev__NA_  xc_lev_level_1.5  \n",
       "0          0.0               0.0  \n",
       "1          0.0               0.0  \n",
       "2          0.0               0.0  \n",
       "3          0.0               0.0  \n",
       "4          0.0               0.0  "
      ]
     },
     "execution_count": 8,
     "metadata": {},
     "output_type": "execute_result"
    }
   ],
   "source": [
    "d_prepared.head()"
   ]
  },
  {
   "cell_type": "markdown",
   "metadata": {},
   "source": [
    "## Using the Prepared Data to Model\n",
    "\n",
    "Of course, what we really want to do with the prepared training data is to model. \n",
    "\n",
    "### K-means clustering\n",
    "\n",
    "Let's start with an unsupervised analysis: clustering."
   ]
  },
  {
   "cell_type": "code",
   "execution_count": 9,
   "metadata": {
    "collapsed": false,
    "jupyter": {
     "outputs_hidden": false
    },
    "pycharm": {
     "name": "#%%\n"
    }
   },
   "outputs": [
    {
     "data": {
      "image/png": "[encoded data removed]",
      "text/plain": [
       "<Figure size 432x288 with 1 Axes>"
      ]
     },
     "metadata": {
      "needs_background": "light"
     },
     "output_type": "display_data"
    }
   ],
   "source": [
    "# don't use y to cluster\n",
    "not_variables = ['y']\n",
    "model_vars = [v for v in d_prepared.columns if v not in set(not_variables)]\n",
    "\n",
    "import sklearn.cluster\n",
    "\n",
    "d_prepared['clusterID'] = sklearn.cluster.KMeans(n_clusters = 5).fit_predict(d_prepared[model_vars])\n",
    "d_prepared.clusterID\n",
    "\n",
    "# colorbrewer Dark2 palette\n",
    "mypalette = ['#1b9e77', '#d95f02', '#7570b3', '#e7298a', '#66a61e']\n",
    "ax = seaborn.scatterplot(x = \"x\", y = \"y\", hue=\"clusterID\", \n",
    "                    data = d_prepared, \n",
    "                    palette=mypalette, \n",
    "                    legend=False)\n",
    "ax.set_title(\"y as a function of x, points colored by (unsupervised) clusterID\")\n",
    "plt.show()"
   ]
  },
  {
   "cell_type": "markdown",
   "metadata": {},
   "source": [
    "### Supervised modeling with non-y-aware variables\n",
    "\n",
    "Since in this case we have an outcome variable, `y`, we can try fitting a linear regression model to `d_prepared`."
   ]
  },
  {
   "cell_type": "code",
   "execution_count": 10,
   "metadata": {
    "collapsed": false,
    "jupyter": {
     "outputs_hidden": false
    },
    "pycharm": {
     "name": "#%%\n"
    }
   },
   "outputs": [
    {
     "name": "stdout",
     "output_type": "stream",
     "text": [
      "0.29040556604883383\n"
     ]
    },
    {
     "data": {
      "text/plain": [
       "{'xc_is_bad': -0.5771178463344282,\n",
       " 'x': 0.0007503159659536863,\n",
       " 'x2': 0.001676171039984554,\n",
       " 'xc_prevalence_code': -0.012185711180345503,\n",
       " 'xc_lev_level_1.0': 0.7268696324100539,\n",
       " 'xc_lev_level_-0.5': -0.8246877961902035,\n",
       " 'xc_lev_level_0.5': 0.22104279445031283,\n",
       " 'xc_lev_level_-0.0': -0.43046498445124187,\n",
       " 'xc_lev_level_0.0': -0.17466939265122033,\n",
       " 'xc_lev__NA_': -0.5771178463344276,\n",
       " 'xc_lev_level_1.5': 1.0590275927667263}"
      ]
     },
     "execution_count": 10,
     "metadata": {},
     "output_type": "execute_result"
    }
   ],
   "source": [
    "import sklearn.linear_model\n",
    "import seaborn\n",
    "import sklearn.metrics\n",
    "import matplotlib.pyplot\n",
    "\n",
    "not_variables = ['y', 'prediction', 'clusterID']\n",
    "model_vars = [v for v in d_prepared.columns if v not in set(not_variables)]\n",
    "fitter = sklearn.linear_model.LinearRegression()\n",
    "fitter.fit(d_prepared[model_vars], d_prepared['y'])\n",
    "print(fitter.intercept_)\n",
    "{model_vars[i]: fitter.coef_[i] for i in range(len(model_vars))}"
   ]
  },
  {
   "cell_type": "code",
   "execution_count": 11,
   "metadata": {
    "collapsed": false,
    "jupyter": {
     "outputs_hidden": false
    },
    "pycharm": {
     "name": "#%%\n"
    }
   },
   "outputs": [
    {
     "data": {
      "image/png": "[encoded data removed]",
      "text/plain": [
       "<Figure size 432x288 with 1 Axes>"
      ]
     },
     "metadata": {
      "needs_background": "light"
     },
     "output_type": "display_data"
    }
   ],
   "source": [
    "# now predict\n",
    "d_prepared['prediction'] = fitter.predict(d_prepared[model_vars])\n",
    "\n",
    "# get R-squared\n",
    "r2 = sklearn.metrics.r2_score(y_true=d_prepared.y, y_pred=d_prepared.prediction)\n",
    "\n",
    "title = 'Prediction vs. outcome (training data); R-sqr = {:04.2f}'.format(r2)\n",
    "\n",
    "# compare the predictions to the outcome (on the training data)\n",
    "ax = seaborn.scatterplot(x='prediction', y='y', data=d_prepared)\n",
    "matplotlib.pyplot.plot(d_prepared.prediction, d_prepared.prediction, color=\"darkgray\")\n",
    "ax.set_title(title)\n",
    "plt.show()"
   ]
  },
  {
   "cell_type": "markdown",
   "metadata": {},
   "source": [
    "Now apply the model to new data."
   ]
  },
  {
   "cell_type": "code",
   "execution_count": 12,
   "metadata": {
    "collapsed": false,
    "jupyter": {
     "outputs_hidden": false
    },
    "pycharm": {
     "name": "#%%\n"
    }
   },
   "outputs": [
    {
     "data": {
      "image/png": "[encoded data removed]",
      "text/plain": [
       "<Figure size 432x288 with 1 Axes>"
      ]
     },
     "metadata": {
      "needs_background": "light"
     },
     "output_type": "display_data"
    }
   ],
   "source": [
    "# create the new data\n",
    "dtest = make_data(450)\n",
    "\n",
    "# prepare the new data with vtreat\n",
    "dtest_prepared = transform.transform(dtest)\n",
    "\n",
    "# apply the model to the prepared data\n",
    "dtest_prepared['prediction'] = fitter.predict(dtest_prepared[model_vars])\n",
    "\n",
    "# get R-squared\n",
    "r2 = sklearn.metrics.r2_score(y_true=dtest_prepared.y, y_pred=dtest_prepared.prediction)\n",
    "\n",
    "title = 'Prediction vs. outcome (test data); R-sqr = {:04.2f}'.format(r2)\n",
    "\n",
    "# compare the predictions to the outcome (on the training data)\n",
    "ax = seaborn.scatterplot(x='prediction', y='y', data=dtest_prepared)\n",
    "matplotlib.pyplot.plot(dtest_prepared.prediction, dtest_prepared.prediction, color=\"darkgray\")\n",
    "ax.set_title(title)\n",
    "plt.show()"
   ]
  },
  {
   "cell_type": "markdown",
   "metadata": {},
   "source": [
    "## Parameters for `UnsupervisedTreatment`\n",
    "\n",
    "We've tried to set the defaults for all parameters so that `vtreat` is usable out of the box for most applications. Notice that the parameter object for unsupervised treatment defines a different set of parameters than the parameter object for supervised treatments (`vtreat.vtreat_parameters`).\n"
   ]
  },
  {
   "cell_type": "code",
   "execution_count": 13,
   "metadata": {
    "collapsed": false,
    "jupyter": {
     "outputs_hidden": false
    },
    "pycharm": {
     "name": "#%%\n"
    }
   },
   "outputs": [
    {
     "data": {
      "text/plain": [
       "{'coders': {'clean_copy',\n",
       "  'indicator_code',\n",
       "  'missing_indicator',\n",
       "  'prevalence_code'},\n",
       " 'indicator_min_fraction': 0.0,\n",
       " 'user_transforms': [],\n",
       " 'sparse_indicators': True}"
      ]
     },
     "execution_count": 13,
     "metadata": {},
     "output_type": "execute_result"
    }
   ],
   "source": [
    "vtreat.unsupervised_parameters()"
   ]
  },
  {
   "cell_type": "markdown",
   "metadata": {},
   "source": [
    "**coders**: The types of synthetic variables that `vtreat` will (potentially) produce. See *Types of prepared variables* below.\n",
    "\n",
    "**indicator_min_fraction**: By default, `UnsupervisedTreatment` creates indicators for all possible levels (`indicator_min_fraction=0`). If `indicator_min_fraction` > 0, then indicator variables (type `indicator_code`) are only produced for levels that are present at least `indicator_min_fraction` of the time. A consequence of this is that 1/`indicator_min_fraction` is the maximum number of indicators that will be produced for a given categorical variable. See the Example below.\n",
    "\n",
    "**user_transforms**: For passing in user-defined transforms for custom data preparation. Won't be needed in most situations, but see [here](https://github.com/WinVector/pyvtreat/blob/master/Examples/UserCoders/UserCoders.ipynb) for an example of applying a GAM transform to input variables.\n",
    "\n",
    "**sparse_indicators**: When True, use a (Pandas) sparse representation for indicator variables. This representation is compatible with `sklearn`; however, it may not be compatible with other modeling packages. When False, use a dense representation.\n",
    "\n",
    "### Example: Restrict the number of indicator variables"
   ]
  },
  {
   "cell_type": "code",
   "execution_count": 14,
   "metadata": {
    "collapsed": false,
    "jupyter": {
     "outputs_hidden": false
    },
    "pycharm": {
     "name": "#%%\n"
    }
   },
   "outputs": [
    {
     "data": {
      "text/plain": [
       "level_1.0     0.258\n",
       "level_-0.5    0.252\n",
       "level_0.5     0.174\n",
       "level_-0.0    0.092\n",
       "level_0.0     0.084\n",
       "NaN           0.076\n",
       "level_1.5     0.064\n",
       "Name: xc, dtype: float64"
      ]
     },
     "execution_count": 14,
     "metadata": {},
     "output_type": "execute_result"
    }
   ],
   "source": [
    "# calculate the prevalence of each level by hand\n",
    "d['xc'].value_counts(dropna=False)/d.shape[0]"
   ]
  },
  {
   "cell_type": "code",
   "execution_count": 15,
   "metadata": {
    "collapsed": false,
    "jupyter": {
     "outputs_hidden": false
    },
    "pycharm": {
     "name": "#%%\n"
    }
   },
   "outputs": [
    {
     "data": {
      "text/html": [
       "<div>\n",
       "<style scoped>\n",
       "    .dataframe tbody tr th:only-of-type {\n",
       "        vertical-align: middle;\n",
       "    }\n",
       "\n",
       "    .dataframe tbody tr th {\n",
       "        vertical-align: top;\n",
       "    }\n",
       "\n",
       "    .dataframe thead th {\n",
       "        text-align: right;\n",
       "    }\n",
       "</style>\n",
       "<table border=\"1\" class=\"dataframe\">\n",
       "  <thead>\n",
       "    <tr style=\"text-align: right;\">\n",
       "      <th></th>\n",
       "      <th>variable</th>\n",
       "      <th>orig_variable</th>\n",
       "      <th>treatment</th>\n",
       "      <th>y_aware</th>\n",
       "      <th>has_range</th>\n",
       "      <th>PearsonR</th>\n",
       "      <th>significance</th>\n",
       "      <th>recommended</th>\n",
       "      <th>vcount</th>\n",
       "    </tr>\n",
       "  </thead>\n",
       "  <tbody>\n",
       "    <tr>\n",
       "      <th>0</th>\n",
       "      <td>xc_is_bad</td>\n",
       "      <td>xc</td>\n",
       "      <td>missing_indicator</td>\n",
       "      <td>False</td>\n",
       "      <td>True</td>\n",
       "      <td>NaN</td>\n",
       "      <td>NaN</td>\n",
       "      <td>True</td>\n",
       "      <td>1.0</td>\n",
       "    </tr>\n",
       "    <tr>\n",
       "      <th>1</th>\n",
       "      <td>x</td>\n",
       "      <td>x</td>\n",
       "      <td>clean_copy</td>\n",
       "      <td>False</td>\n",
       "      <td>True</td>\n",
       "      <td>NaN</td>\n",
       "      <td>NaN</td>\n",
       "      <td>True</td>\n",
       "      <td>2.0</td>\n",
       "    </tr>\n",
       "    <tr>\n",
       "      <th>2</th>\n",
       "      <td>x2</td>\n",
       "      <td>x2</td>\n",
       "      <td>clean_copy</td>\n",
       "      <td>False</td>\n",
       "      <td>True</td>\n",
       "      <td>NaN</td>\n",
       "      <td>NaN</td>\n",
       "      <td>True</td>\n",
       "      <td>2.0</td>\n",
       "    </tr>\n",
       "    <tr>\n",
       "      <th>3</th>\n",
       "      <td>xc_prevalence_code</td>\n",
       "      <td>xc</td>\n",
       "      <td>prevalence_code</td>\n",
       "      <td>False</td>\n",
       "      <td>True</td>\n",
       "      <td>NaN</td>\n",
       "      <td>NaN</td>\n",
       "      <td>True</td>\n",
       "      <td>1.0</td>\n",
       "    </tr>\n",
       "    <tr>\n",
       "      <th>4</th>\n",
       "      <td>xc_lev_level_1.0</td>\n",
       "      <td>xc</td>\n",
       "      <td>indicator_code</td>\n",
       "      <td>False</td>\n",
       "      <td>True</td>\n",
       "      <td>NaN</td>\n",
       "      <td>NaN</td>\n",
       "      <td>True</td>\n",
       "      <td>2.0</td>\n",
       "    </tr>\n",
       "    <tr>\n",
       "      <th>5</th>\n",
       "      <td>xc_lev_level_-0.5</td>\n",
       "      <td>xc</td>\n",
       "      <td>indicator_code</td>\n",
       "      <td>False</td>\n",
       "      <td>True</td>\n",
       "      <td>NaN</td>\n",
       "      <td>NaN</td>\n",
       "      <td>True</td>\n",
       "      <td>2.0</td>\n",
       "    </tr>\n",
       "  </tbody>\n",
       "</table>\n",
       "</div>"
      ],
      "text/plain": [
       "             variable orig_variable          treatment  y_aware  has_range  \\\n",
       "0           xc_is_bad            xc  missing_indicator    False       True   \n",
       "1                   x             x         clean_copy    False       True   \n",
       "2                  x2            x2         clean_copy    False       True   \n",
       "3  xc_prevalence_code            xc    prevalence_code    False       True   \n",
       "4    xc_lev_level_1.0            xc     indicator_code    False       True   \n",
       "5   xc_lev_level_-0.5            xc     indicator_code    False       True   \n",
       "\n",
       "   PearsonR  significance  recommended  vcount  \n",
       "0       NaN           NaN         True     1.0  \n",
       "1       NaN           NaN         True     2.0  \n",
       "2       NaN           NaN         True     2.0  \n",
       "3       NaN           NaN         True     1.0  \n",
       "4       NaN           NaN         True     2.0  \n",
       "5       NaN           NaN         True     2.0  "
      ]
     },
     "execution_count": 15,
     "metadata": {},
     "output_type": "execute_result"
    }
   ],
   "source": [
    "transform_common = vtreat.UnsupervisedTreatment(\n",
    "    cols_to_copy = ['y'],          # columns to \"carry along\" but not treat as input variables\n",
    "    params = vtreat.unsupervised_parameters({\n",
    "        'indicator_min_fraction': 0.2 # only make indicators for levels that show up more than 20% of the time\n",
    "    })\n",
    ")  \n",
    "\n",
    "transform_common.fit_transform(d) # fit the transform\n",
    "transform_common.score_frame_     # examine the score frame"
   ]
  },
  {
   "cell_type": "markdown",
   "metadata": {},
   "source": [
    "In this case, the unsupervised treatment only created levels for the two most common levels, which are both present more than 20% of the time. \n",
    "\n",
    "In unsupervised situations, this may only be desirable when there are an unworkably large number of possible levels (for example, when using ZIP code as a variable). It is more useful in conjunction with the y-aware variables produced by `NumericOutputTreatment`, `BinomialOutcomeTreatment`, or `MultinomialOutcomeTreatment`.\n",
    "\n",
    "## Types of prepared variables\n",
    "\n",
    "**clean_copy**: Produced from numerical variables: a clean numerical variable with no `NaNs` or missing values\n",
    "\n",
    "**indicator_code**: Produced from categorical variables, one for each level: for each level of the variable, indicates if that level was \"on\"\n",
    "\n",
    "**prevalence_code**: Produced from categorical variables: indicates how often each level of the variable was \"on\"\n",
    "\n",
    "**missing_indicator**: Produced for both numerical and categorical variables: an indicator variable that marks when the original variable was missing or  `NaN`\n",
    "\n",
    "### Example: Produce only a subset of variable types\n",
    "\n",
    "In this example, suppose you only want to use indicators and continuous variables in your model; \n",
    "in other words, you only want to use variables of types (`clean_copy`, `missing_indicator`, and `indicator_code`), and no `prevalence_code` variables."
   ]
  },
  {
   "cell_type": "code",
   "execution_count": 16,
   "metadata": {
    "collapsed": false,
    "jupyter": {
     "outputs_hidden": false
    },
    "pycharm": {
     "name": "#%%\n"
    }
   },
   "outputs": [
    {
     "data": {
      "text/html": [
       "<div>\n",
       "<style scoped>\n",
       "    .dataframe tbody tr th:only-of-type {\n",
       "        vertical-align: middle;\n",
       "    }\n",
       "\n",
       "    .dataframe tbody tr th {\n",
       "        vertical-align: top;\n",
       "    }\n",
       "\n",
       "    .dataframe thead th {\n",
       "        text-align: right;\n",
       "    }\n",
       "</style>\n",
       "<table border=\"1\" class=\"dataframe\">\n",
       "  <thead>\n",
       "    <tr style=\"text-align: right;\">\n",
       "      <th></th>\n",
       "      <th>variable</th>\n",
       "      <th>orig_variable</th>\n",
       "      <th>treatment</th>\n",
       "      <th>y_aware</th>\n",
       "      <th>has_range</th>\n",
       "      <th>PearsonR</th>\n",
       "      <th>significance</th>\n",
       "      <th>recommended</th>\n",
       "      <th>vcount</th>\n",
       "    </tr>\n",
       "  </thead>\n",
       "  <tbody>\n",
       "    <tr>\n",
       "      <th>0</th>\n",
       "      <td>xc_is_bad</td>\n",
       "      <td>xc</td>\n",
       "      <td>missing_indicator</td>\n",
       "      <td>False</td>\n",
       "      <td>True</td>\n",
       "      <td>NaN</td>\n",
       "      <td>NaN</td>\n",
       "      <td>True</td>\n",
       "      <td>1.0</td>\n",
       "    </tr>\n",
       "    <tr>\n",
       "      <th>1</th>\n",
       "      <td>x</td>\n",
       "      <td>x</td>\n",
       "      <td>clean_copy</td>\n",
       "      <td>False</td>\n",
       "      <td>True</td>\n",
       "      <td>NaN</td>\n",
       "      <td>NaN</td>\n",
       "      <td>True</td>\n",
       "      <td>2.0</td>\n",
       "    </tr>\n",
       "    <tr>\n",
       "      <th>2</th>\n",
       "      <td>x2</td>\n",
       "      <td>x2</td>\n",
       "      <td>clean_copy</td>\n",
       "      <td>False</td>\n",
       "      <td>True</td>\n",
       "      <td>NaN</td>\n",
       "      <td>NaN</td>\n",
       "      <td>True</td>\n",
       "      <td>2.0</td>\n",
       "    </tr>\n",
       "    <tr>\n",
       "      <th>3</th>\n",
       "      <td>xc_lev_level_1.0</td>\n",
       "      <td>xc</td>\n",
       "      <td>indicator_code</td>\n",
       "      <td>False</td>\n",
       "      <td>True</td>\n",
       "      <td>NaN</td>\n",
       "      <td>NaN</td>\n",
       "      <td>True</td>\n",
       "      <td>7.0</td>\n",
       "    </tr>\n",
       "    <tr>\n",
       "      <th>4</th>\n",
       "      <td>xc_lev_level_-0.5</td>\n",
       "      <td>xc</td>\n",
       "      <td>indicator_code</td>\n",
       "      <td>False</td>\n",
       "      <td>True</td>\n",
       "      <td>NaN</td>\n",
       "      <td>NaN</td>\n",
       "      <td>True</td>\n",
       "      <td>7.0</td>\n",
       "    </tr>\n",
       "    <tr>\n",
       "      <th>5</th>\n",
       "      <td>xc_lev_level_0.5</td>\n",
       "      <td>xc</td>\n",
       "      <td>indicator_code</td>\n",
       "      <td>False</td>\n",
       "      <td>True</td>\n",
       "      <td>NaN</td>\n",
       "      <td>NaN</td>\n",
       "      <td>True</td>\n",
       "      <td>7.0</td>\n",
       "    </tr>\n",
       "    <tr>\n",
       "      <th>6</th>\n",
       "      <td>xc_lev_level_-0.0</td>\n",
       "      <td>xc</td>\n",
       "      <td>indicator_code</td>\n",
       "      <td>False</td>\n",
       "      <td>True</td>\n",
       "      <td>NaN</td>\n",
       "      <td>NaN</td>\n",
       "      <td>True</td>\n",
       "      <td>7.0</td>\n",
       "    </tr>\n",
       "    <tr>\n",
       "      <th>7</th>\n",
       "      <td>xc_lev_level_0.0</td>\n",
       "      <td>xc</td>\n",
       "      <td>indicator_code</td>\n",
       "      <td>False</td>\n",
       "      <td>True</td>\n",
       "      <td>NaN</td>\n",
       "      <td>NaN</td>\n",
       "      <td>True</td>\n",
       "      <td>7.0</td>\n",
       "    </tr>\n",
       "    <tr>\n",
       "      <th>8</th>\n",
       "      <td>xc_lev__NA_</td>\n",
       "      <td>xc</td>\n",
       "      <td>indicator_code</td>\n",
       "      <td>False</td>\n",
       "      <td>True</td>\n",
       "      <td>NaN</td>\n",
       "      <td>NaN</td>\n",
       "      <td>True</td>\n",
       "      <td>7.0</td>\n",
       "    </tr>\n",
       "    <tr>\n",
       "      <th>9</th>\n",
       "      <td>xc_lev_level_1.5</td>\n",
       "      <td>xc</td>\n",
       "      <td>indicator_code</td>\n",
       "      <td>False</td>\n",
       "      <td>True</td>\n",
       "      <td>NaN</td>\n",
       "      <td>NaN</td>\n",
       "      <td>True</td>\n",
       "      <td>7.0</td>\n",
       "    </tr>\n",
       "  </tbody>\n",
       "</table>\n",
       "</div>"
      ],
      "text/plain": [
       "            variable orig_variable          treatment  y_aware  has_range  \\\n",
       "0          xc_is_bad            xc  missing_indicator    False       True   \n",
       "1                  x             x         clean_copy    False       True   \n",
       "2                 x2            x2         clean_copy    False       True   \n",
       "3   xc_lev_level_1.0            xc     indicator_code    False       True   \n",
       "4  xc_lev_level_-0.5            xc     indicator_code    False       True   \n",
       "5   xc_lev_level_0.5            xc     indicator_code    False       True   \n",
       "6  xc_lev_level_-0.0            xc     indicator_code    False       True   \n",
       "7   xc_lev_level_0.0            xc     indicator_code    False       True   \n",
       "8        xc_lev__NA_            xc     indicator_code    False       True   \n",
       "9   xc_lev_level_1.5            xc     indicator_code    False       True   \n",
       "\n",
       "   PearsonR  significance  recommended  vcount  \n",
       "0       NaN           NaN         True     1.0  \n",
       "1       NaN           NaN         True     2.0  \n",
       "2       NaN           NaN         True     2.0  \n",
       "3       NaN           NaN         True     7.0  \n",
       "4       NaN           NaN         True     7.0  \n",
       "5       NaN           NaN         True     7.0  \n",
       "6       NaN           NaN         True     7.0  \n",
       "7       NaN           NaN         True     7.0  \n",
       "8       NaN           NaN         True     7.0  \n",
       "9       NaN           NaN         True     7.0  "
      ]
     },
     "execution_count": 16,
     "metadata": {},
     "output_type": "execute_result"
    }
   ],
   "source": [
    "transform_thin = vtreat.UnsupervisedTreatment(\n",
    "    cols_to_copy = ['y'],          # columns to \"carry along\" but not treat as input variables\n",
    "    params = vtreat.unsupervised_parameters({\n",
    "         'coders': {'clean_copy',\n",
    "                    'missing_indicator',\n",
    "                    'indicator_code',\n",
    "                   }\n",
    "    })\n",
    ")  \n",
    "\n",
    "transform_thin.fit_transform(d) # fit the transform\n",
    "transform_thin.score_frame_\n"
   ]
  },
  {
   "cell_type": "markdown",
   "metadata": {},
   "source": [
    "## Conclusion\n",
    "\n",
    "In all cases (classification, regression, unsupervised, and multinomial classification) the intent is that `vtreat` transforms are essentially one liners.\n",
    "\n",
    "The preparation commands are organized as follows:\n",
    "\n",
    " * **Regression**: [`R` regression example](https://github.com/WinVector/vtreat/blob/master/Examples/Regression/Regression.md), [`Python` regression example](https://github.com/WinVector/pyvtreat/blob/master/Examples/Regression/Regression.md).\n",
    " * **Classification**: [`R` classification example](https://github.com/WinVector/vtreat/blob/master/Examples/Classification/Classification.md), [`Python` classification  example](https://github.com/WinVector/pyvtreat/blob/master/Examples/Classification/Classification.md).\n",
    " * **Unsupervised tasks**: [`R` unsupervised example](https://github.com/WinVector/vtreat/blob/master/Examples/Unsupervised/Unsupervised.md), [`Python` unsupervised example](https://github.com/WinVector/pyvtreat/blob/master/Examples/Unsupervised/Unsupervised.md).\n",
    " * **Multinomial classification**: [`R` multinomial classification example](https://winvector.github.io/vtreat/articles/MultiClassVtreat.html), [`Python` multinomial classification example](https://github.com/WinVector/pyvtreat/blob/master/Examples/Multinomial/MultinomialExample.ipynb).\n",
    "\n",
    "These current revisions of the examples are designed to be small, yet complete.  So as a set they have some overlap, but the user can rely mostly on a single example for a single task type.\n",
    "\n"
   ]
  }
 ],
 "metadata": {
  "kernelspec": {
   "display_name": "Python 3",
   "language": "python",
   "name": "python3"
  },
  "language_info": {
   "codemirror_mode": {
    "name": "ipython",
    "version": 3
   },
   "file_extension": ".py",
   "mimetype": "text/x-python",
   "name": "python",
   "nbconvert_exporter": "python",
   "pygments_lexer": "ipython3",
   "version": "3.6.9"
  },
  "pycharm": {
   "stem_cell": {
    "cell_type": "raw",
    "metadata": {
     "collapsed": false
    },
    "source": []
   }
  }
 },
 "nbformat": 4,
 "nbformat_minor": 4
}
