{
 "cells": [
  {
   "cell_type": "markdown",
   "metadata": {},
   "source": [
    "Translating the R sequences from https://arxiv.org/abs/1611.09477 into Python vtreat https://github.com/WinVector/pyvtreat"
   ]
  },
  {
   "cell_type": "code",
   "execution_count": null,
   "metadata": {
    "pycharm": {
     "is_executing": false
    }
   },
   "outputs": [],
   "source": []
  },
  {
   "cell_type": "markdown",
   "metadata": {},
   "source": [
    "R original"
   ]
  },
  {
   "cell_type": "raw",
   "metadata": {},
   "source": [
    "## ----msleep, tidy=TRUE---------------------------------------------------\n",
    "library(\"ggplot2\")\n",
    "data(\"msleep\")\n",
    "str(msleep, width=70, strict.width='cut')\n",
    "\n",
    "\n",
    "## ----isbad---------------------------------------------------------------\n",
    "msleep$sleep_rem_isBAD <- is.na(msleep$sleep_rem)\n",
    "msleep$sleep_rem <- ifelse(msleep$sleep_rem_isBAD, \n",
    "                           mean(msleep$sleep_rem, na.rm=TRUE), \n",
    "\t\t           msleep$sleep_rem)"
   ]
  },
  {
   "cell_type": "markdown",
   "metadata": {},
   "source": [
    "Python translation"
   ]
  },
  {
   "cell_type": "code",
   "execution_count": 1,
   "metadata": {
    "pycharm": {
     "is_executing": false
    }
   },
   "outputs": [],
   "source": [
    "## ----msleep, tidy=TRUE---------------------------------------------------"
   ]
  },
  {
   "cell_type": "code",
   "execution_count": 2,
   "metadata": {
    "pycharm": {
     "is_executing": false
    }
   },
   "outputs": [
    {
     "data": {
      "text/html": [
       "<div>\n",
       "<style scoped>\n",
       "    .dataframe tbody tr th:only-of-type {\n",
       "        vertical-align: middle;\n",
       "    }\n",
       "\n",
       "    .dataframe tbody tr th {\n",
       "        vertical-align: top;\n",
       "    }\n",
       "\n",
       "    .dataframe thead th {\n",
       "        text-align: right;\n",
       "    }\n",
       "</style>\n",
       "<table border=\"1\" class=\"dataframe\">\n",
       "  <thead>\n",
       "    <tr style=\"text-align: right;\">\n",
       "      <th></th>\n",
       "      <th>name</th>\n",
       "      <th>genus</th>\n",
       "      <th>vore</th>\n",
       "      <th>order</th>\n",
       "      <th>conservation</th>\n",
       "      <th>sleep_total</th>\n",
       "      <th>sleep_rem</th>\n",
       "      <th>sleep_cycle</th>\n",
       "      <th>awake</th>\n",
       "      <th>brainwt</th>\n",
       "      <th>bodywt</th>\n",
       "    </tr>\n",
       "  </thead>\n",
       "  <tbody>\n",
       "    <tr>\n",
       "      <th>0</th>\n",
       "      <td>Cheetah</td>\n",
       "      <td>Acinonyx</td>\n",
       "      <td>carni</td>\n",
       "      <td>Carnivora</td>\n",
       "      <td>lc</td>\n",
       "      <td>12.1</td>\n",
       "      <td>NaN</td>\n",
       "      <td>NaN</td>\n",
       "      <td>11.9</td>\n",
       "      <td>NaN</td>\n",
       "      <td>50.000</td>\n",
       "    </tr>\n",
       "    <tr>\n",
       "      <th>1</th>\n",
       "      <td>Owl monkey</td>\n",
       "      <td>Aotus</td>\n",
       "      <td>omni</td>\n",
       "      <td>Primates</td>\n",
       "      <td>NaN</td>\n",
       "      <td>17.0</td>\n",
       "      <td>1.8</td>\n",
       "      <td>NaN</td>\n",
       "      <td>7.0</td>\n",
       "      <td>0.01550</td>\n",
       "      <td>0.480</td>\n",
       "    </tr>\n",
       "    <tr>\n",
       "      <th>2</th>\n",
       "      <td>Mountain beaver</td>\n",
       "      <td>Aplodontia</td>\n",
       "      <td>herbi</td>\n",
       "      <td>Rodentia</td>\n",
       "      <td>nt</td>\n",
       "      <td>14.4</td>\n",
       "      <td>2.4</td>\n",
       "      <td>NaN</td>\n",
       "      <td>9.6</td>\n",
       "      <td>NaN</td>\n",
       "      <td>1.350</td>\n",
       "    </tr>\n",
       "    <tr>\n",
       "      <th>3</th>\n",
       "      <td>Greater short-tailed shrew</td>\n",
       "      <td>Blarina</td>\n",
       "      <td>omni</td>\n",
       "      <td>Soricomorpha</td>\n",
       "      <td>lc</td>\n",
       "      <td>14.9</td>\n",
       "      <td>2.3</td>\n",
       "      <td>0.133333</td>\n",
       "      <td>9.1</td>\n",
       "      <td>0.00029</td>\n",
       "      <td>0.019</td>\n",
       "    </tr>\n",
       "    <tr>\n",
       "      <th>4</th>\n",
       "      <td>Cow</td>\n",
       "      <td>Bos</td>\n",
       "      <td>herbi</td>\n",
       "      <td>Artiodactyla</td>\n",
       "      <td>domesticated</td>\n",
       "      <td>4.0</td>\n",
       "      <td>0.7</td>\n",
       "      <td>0.666667</td>\n",
       "      <td>20.0</td>\n",
       "      <td>0.42300</td>\n",
       "      <td>600.000</td>\n",
       "    </tr>\n",
       "  </tbody>\n",
       "</table>\n",
       "</div>"
      ],
      "text/plain": [
       "                         name       genus   vore         order  conservation  \\\n",
       "0                     Cheetah    Acinonyx  carni     Carnivora            lc   \n",
       "1                  Owl monkey       Aotus   omni      Primates           NaN   \n",
       "2             Mountain beaver  Aplodontia  herbi      Rodentia            nt   \n",
       "3  Greater short-tailed shrew     Blarina   omni  Soricomorpha            lc   \n",
       "4                         Cow         Bos  herbi  Artiodactyla  domesticated   \n",
       "\n",
       "   sleep_total  sleep_rem  sleep_cycle  awake  brainwt   bodywt  \n",
       "0         12.1        NaN          NaN   11.9      NaN   50.000  \n",
       "1         17.0        1.8          NaN    7.0  0.01550    0.480  \n",
       "2         14.4        2.4          NaN    9.6      NaN    1.350  \n",
       "3         14.9        2.3     0.133333    9.1  0.00029    0.019  \n",
       "4          4.0        0.7     0.666667   20.0  0.42300  600.000  "
      ]
     },
     "execution_count": 2,
     "metadata": {},
     "output_type": "execute_result"
    }
   ],
   "source": [
    "import pandas\n",
    "import vtreat # https://github.com/WinVector/pyvtreat\n",
    "\n",
    "\n",
    "msleep = pandas.read_csv('msleep.csv')\n",
    "msleep.head()"
   ]
  },
  {
   "cell_type": "code",
   "execution_count": 3,
   "metadata": {
    "pycharm": {
     "is_executing": false
    }
   },
   "outputs": [
    {
     "data": {
      "text/plain": [
       "name             object\n",
       "genus            object\n",
       "vore             object\n",
       "order            object\n",
       "conservation     object\n",
       "sleep_total     float64\n",
       "sleep_rem       float64\n",
       "sleep_cycle     float64\n",
       "awake           float64\n",
       "brainwt         float64\n",
       "bodywt          float64\n",
       "dtype: object"
      ]
     },
     "execution_count": 3,
     "metadata": {},
     "output_type": "execute_result"
    }
   ],
   "source": [
    "msleep.dtypes"
   ]
  },
  {
   "cell_type": "code",
   "execution_count": 4,
   "metadata": {
    "pycharm": {
     "is_executing": false
    }
   },
   "outputs": [],
   "source": [
    "## ----isbad---------------------------------------------------------------"
   ]
  },
  {
   "cell_type": "code",
   "execution_count": 5,
   "metadata": {
    "pycharm": {
     "is_executing": false
    }
   },
   "outputs": [
    {
     "data": {
      "text/html": [
       "<div>\n",
       "<style scoped>\n",
       "    .dataframe tbody tr th:only-of-type {\n",
       "        vertical-align: middle;\n",
       "    }\n",
       "\n",
       "    .dataframe tbody tr th {\n",
       "        vertical-align: top;\n",
       "    }\n",
       "\n",
       "    .dataframe thead th {\n",
       "        text-align: right;\n",
       "    }\n",
       "</style>\n",
       "<table border=\"1\" class=\"dataframe\">\n",
       "  <thead>\n",
       "    <tr style=\"text-align: right;\">\n",
       "      <th></th>\n",
       "      <th>vore_is_bad</th>\n",
       "      <th>conservation_is_bad</th>\n",
       "      <th>sleep_rem_is_bad</th>\n",
       "      <th>sleep_cycle_is_bad</th>\n",
       "      <th>brainwt_is_bad</th>\n",
       "      <th>sleep_total</th>\n",
       "      <th>sleep_rem</th>\n",
       "      <th>sleep_cycle</th>\n",
       "      <th>awake</th>\n",
       "      <th>brainwt</th>\n",
       "      <th>...</th>\n",
       "      <th>order_lev_Lagomorpha</th>\n",
       "      <th>order_lev_Scandentia</th>\n",
       "      <th>conservation_prevalence_code</th>\n",
       "      <th>conservation_lev__NA_</th>\n",
       "      <th>conservation_lev_lc</th>\n",
       "      <th>conservation_lev_domesticated</th>\n",
       "      <th>conservation_lev_vu</th>\n",
       "      <th>conservation_lev_nt</th>\n",
       "      <th>conservation_lev_en</th>\n",
       "      <th>conservation_lev_cd</th>\n",
       "    </tr>\n",
       "  </thead>\n",
       "  <tbody>\n",
       "    <tr>\n",
       "      <th>0</th>\n",
       "      <td>0.0</td>\n",
       "      <td>0.0</td>\n",
       "      <td>1.0</td>\n",
       "      <td>1.0</td>\n",
       "      <td>1.0</td>\n",
       "      <td>12.1</td>\n",
       "      <td>1.87541</td>\n",
       "      <td>0.439583</td>\n",
       "      <td>11.9</td>\n",
       "      <td>0.281581</td>\n",
       "      <td>...</td>\n",
       "      <td>0.0</td>\n",
       "      <td>0.0</td>\n",
       "      <td>0.325301</td>\n",
       "      <td>0.0</td>\n",
       "      <td>1.0</td>\n",
       "      <td>0.0</td>\n",
       "      <td>0.0</td>\n",
       "      <td>0.0</td>\n",
       "      <td>0.0</td>\n",
       "      <td>0.0</td>\n",
       "    </tr>\n",
       "    <tr>\n",
       "      <th>1</th>\n",
       "      <td>0.0</td>\n",
       "      <td>1.0</td>\n",
       "      <td>0.0</td>\n",
       "      <td>1.0</td>\n",
       "      <td>0.0</td>\n",
       "      <td>17.0</td>\n",
       "      <td>1.80000</td>\n",
       "      <td>0.439583</td>\n",
       "      <td>7.0</td>\n",
       "      <td>0.015500</td>\n",
       "      <td>...</td>\n",
       "      <td>0.0</td>\n",
       "      <td>0.0</td>\n",
       "      <td>0.349398</td>\n",
       "      <td>1.0</td>\n",
       "      <td>0.0</td>\n",
       "      <td>0.0</td>\n",
       "      <td>0.0</td>\n",
       "      <td>0.0</td>\n",
       "      <td>0.0</td>\n",
       "      <td>0.0</td>\n",
       "    </tr>\n",
       "    <tr>\n",
       "      <th>2</th>\n",
       "      <td>0.0</td>\n",
       "      <td>0.0</td>\n",
       "      <td>0.0</td>\n",
       "      <td>1.0</td>\n",
       "      <td>1.0</td>\n",
       "      <td>14.4</td>\n",
       "      <td>2.40000</td>\n",
       "      <td>0.439583</td>\n",
       "      <td>9.6</td>\n",
       "      <td>0.281581</td>\n",
       "      <td>...</td>\n",
       "      <td>0.0</td>\n",
       "      <td>0.0</td>\n",
       "      <td>0.048193</td>\n",
       "      <td>0.0</td>\n",
       "      <td>0.0</td>\n",
       "      <td>0.0</td>\n",
       "      <td>0.0</td>\n",
       "      <td>1.0</td>\n",
       "      <td>0.0</td>\n",
       "      <td>0.0</td>\n",
       "    </tr>\n",
       "    <tr>\n",
       "      <th>3</th>\n",
       "      <td>0.0</td>\n",
       "      <td>0.0</td>\n",
       "      <td>0.0</td>\n",
       "      <td>0.0</td>\n",
       "      <td>0.0</td>\n",
       "      <td>14.9</td>\n",
       "      <td>2.30000</td>\n",
       "      <td>0.133333</td>\n",
       "      <td>9.1</td>\n",
       "      <td>0.000290</td>\n",
       "      <td>...</td>\n",
       "      <td>0.0</td>\n",
       "      <td>0.0</td>\n",
       "      <td>0.325301</td>\n",
       "      <td>0.0</td>\n",
       "      <td>1.0</td>\n",
       "      <td>0.0</td>\n",
       "      <td>0.0</td>\n",
       "      <td>0.0</td>\n",
       "      <td>0.0</td>\n",
       "      <td>0.0</td>\n",
       "    </tr>\n",
       "    <tr>\n",
       "      <th>4</th>\n",
       "      <td>0.0</td>\n",
       "      <td>0.0</td>\n",
       "      <td>0.0</td>\n",
       "      <td>0.0</td>\n",
       "      <td>0.0</td>\n",
       "      <td>4.0</td>\n",
       "      <td>0.70000</td>\n",
       "      <td>0.666667</td>\n",
       "      <td>20.0</td>\n",
       "      <td>0.423000</td>\n",
       "      <td>...</td>\n",
       "      <td>0.0</td>\n",
       "      <td>0.0</td>\n",
       "      <td>0.120482</td>\n",
       "      <td>0.0</td>\n",
       "      <td>0.0</td>\n",
       "      <td>1.0</td>\n",
       "      <td>0.0</td>\n",
       "      <td>0.0</td>\n",
       "      <td>0.0</td>\n",
       "      <td>0.0</td>\n",
       "    </tr>\n",
       "  </tbody>\n",
       "</table>\n",
       "<p>5 rows × 206 columns</p>\n",
       "</div>"
      ],
      "text/plain": [
       "   vore_is_bad  conservation_is_bad  sleep_rem_is_bad  sleep_cycle_is_bad  \\\n",
       "0          0.0                  0.0               1.0                 1.0   \n",
       "1          0.0                  1.0               0.0                 1.0   \n",
       "2          0.0                  0.0               0.0                 1.0   \n",
       "3          0.0                  0.0               0.0                 0.0   \n",
       "4          0.0                  0.0               0.0                 0.0   \n",
       "\n",
       "   brainwt_is_bad  sleep_total  sleep_rem  sleep_cycle  awake   brainwt  ...  \\\n",
       "0             1.0         12.1    1.87541     0.439583   11.9  0.281581  ...   \n",
       "1             0.0         17.0    1.80000     0.439583    7.0  0.015500  ...   \n",
       "2             1.0         14.4    2.40000     0.439583    9.6  0.281581  ...   \n",
       "3             0.0         14.9    2.30000     0.133333    9.1  0.000290  ...   \n",
       "4             0.0          4.0    0.70000     0.666667   20.0  0.423000  ...   \n",
       "\n",
       "   order_lev_Lagomorpha  order_lev_Scandentia  conservation_prevalence_code  \\\n",
       "0                   0.0                   0.0                      0.325301   \n",
       "1                   0.0                   0.0                      0.349398   \n",
       "2                   0.0                   0.0                      0.048193   \n",
       "3                   0.0                   0.0                      0.325301   \n",
       "4                   0.0                   0.0                      0.120482   \n",
       "\n",
       "   conservation_lev__NA_  conservation_lev_lc  conservation_lev_domesticated  \\\n",
       "0                    0.0                  1.0                            0.0   \n",
       "1                    1.0                  0.0                            0.0   \n",
       "2                    0.0                  0.0                            0.0   \n",
       "3                    0.0                  1.0                            0.0   \n",
       "4                    0.0                  0.0                            1.0   \n",
       "\n",
       "   conservation_lev_vu  conservation_lev_nt  conservation_lev_en  \\\n",
       "0                  0.0                  0.0                  0.0   \n",
       "1                  0.0                  0.0                  0.0   \n",
       "2                  0.0                  1.0                  0.0   \n",
       "3                  0.0                  0.0                  0.0   \n",
       "4                  0.0                  0.0                  0.0   \n",
       "\n",
       "   conservation_lev_cd  \n",
       "0                  0.0  \n",
       "1                  0.0  \n",
       "2                  0.0  \n",
       "3                  0.0  \n",
       "4                  0.0  \n",
       "\n",
       "[5 rows x 206 columns]"
      ]
     },
     "execution_count": 5,
     "metadata": {},
     "output_type": "execute_result"
    }
   ],
   "source": [
    "unsupervised_transform = vtreat.UnsupervisedTreatment()\n",
    "msleep_prepared = unsupervised_transform.fit_transform(msleep)\n",
    "msleep_prepared.head()"
   ]
  },
  {
   "cell_type": "code",
   "execution_count": 6,
   "metadata": {
    "pycharm": {
     "is_executing": false
    }
   },
   "outputs": [
    {
     "data": {
      "text/plain": [
       "Index(['vore_is_bad', 'conservation_is_bad', 'sleep_rem_is_bad',\n",
       "       'sleep_cycle_is_bad', 'brainwt_is_bad', 'sleep_total', 'sleep_rem',\n",
       "       'sleep_cycle', 'awake', 'brainwt',\n",
       "       ...\n",
       "       'order_lev_Lagomorpha', 'order_lev_Scandentia',\n",
       "       'conservation_prevalence_code', 'conservation_lev__NA_',\n",
       "       'conservation_lev_lc', 'conservation_lev_domesticated',\n",
       "       'conservation_lev_vu', 'conservation_lev_nt', 'conservation_lev_en',\n",
       "       'conservation_lev_cd'],\n",
       "      dtype='object', length=206)"
      ]
     },
     "execution_count": 6,
     "metadata": {},
     "output_type": "execute_result"
    }
   ],
   "source": [
    "msleep_prepared.columns"
   ]
  },
  {
   "cell_type": "code",
   "execution_count": null,
   "metadata": {
    "pycharm": {
     "is_executing": false
    }
   },
   "outputs": [],
   "source": []
  },
  {
   "cell_type": "markdown",
   "metadata": {},
   "source": [
    "R original"
   ]
  },
  {
   "cell_type": "raw",
   "metadata": {},
   "source": [
    "## ----novel, error=TRUE---------------------------------------------------\n",
    "df <- data.frame(x=c('a', 'a', 'b', 'b', 'c', 'c'), \n",
    "                 y=1:6, \n",
    "                 stringsAsFactors=FALSE)\n",
    "model <- lm(y~x, data=df)\n",
    "newdata <- data.frame(x=c('a', 'b', 'c', 'd'), \n",
    "                      stringsAsFactors=FALSE)\n",
    "tryCatch(\n",
    "   predict(model, newdata=newdata), \n",
    "   error = function(e) print(strwrap(e)))\n",
    "\n",
    "\n",
    "## ----vtreat, results='hide'----------------------------------------------\n",
    "library(\"vtreat\")\n",
    "treatplan <- designTreatmentsN(df, 'x', 'y')\n",
    "varnames <- treatplan$scoreFrame$varName[treatplan$scoreFrame$cod==\"lev\"]\n",
    "newdata_treat <- prepare(treatplan, newdata, \n",
    "                         pruneSig=NULL, varRestriction=varnames)\n",
    "\n",
    "\n",
    "## ----indicators1---------------------------------------------------------\n",
    "print(newdata)\n",
    "\n",
    "\n",
    "## ----indicators2---------------------------------------------------------\n",
    "print(newdata_treat)"
   ]
  },
  {
   "cell_type": "markdown",
   "metadata": {},
   "source": [
    "Python translation"
   ]
  },
  {
   "cell_type": "code",
   "execution_count": 7,
   "metadata": {
    "pycharm": {
     "is_executing": false
    }
   },
   "outputs": [],
   "source": [
    "## ----novel, error=TRUE---------------------------------------------------"
   ]
  },
  {
   "cell_type": "code",
   "execution_count": 8,
   "metadata": {
    "pycharm": {
     "is_executing": false
    }
   },
   "outputs": [
    {
     "data": {
      "text/html": [
       "<div>\n",
       "<style scoped>\n",
       "    .dataframe tbody tr th:only-of-type {\n",
       "        vertical-align: middle;\n",
       "    }\n",
       "\n",
       "    .dataframe tbody tr th {\n",
       "        vertical-align: top;\n",
       "    }\n",
       "\n",
       "    .dataframe thead th {\n",
       "        text-align: right;\n",
       "    }\n",
       "</style>\n",
       "<table border=\"1\" class=\"dataframe\">\n",
       "  <thead>\n",
       "    <tr style=\"text-align: right;\">\n",
       "      <th></th>\n",
       "      <th>x</th>\n",
       "      <th>y</th>\n",
       "    </tr>\n",
       "  </thead>\n",
       "  <tbody>\n",
       "    <tr>\n",
       "      <th>0</th>\n",
       "      <td>a</td>\n",
       "      <td>1</td>\n",
       "    </tr>\n",
       "    <tr>\n",
       "      <th>1</th>\n",
       "      <td>a</td>\n",
       "      <td>2</td>\n",
       "    </tr>\n",
       "    <tr>\n",
       "      <th>2</th>\n",
       "      <td>b</td>\n",
       "      <td>3</td>\n",
       "    </tr>\n",
       "    <tr>\n",
       "      <th>3</th>\n",
       "      <td>b</td>\n",
       "      <td>4</td>\n",
       "    </tr>\n",
       "    <tr>\n",
       "      <th>4</th>\n",
       "      <td>c</td>\n",
       "      <td>5</td>\n",
       "    </tr>\n",
       "    <tr>\n",
       "      <th>5</th>\n",
       "      <td>c</td>\n",
       "      <td>6</td>\n",
       "    </tr>\n",
       "  </tbody>\n",
       "</table>\n",
       "</div>"
      ],
      "text/plain": [
       "   x  y\n",
       "0  a  1\n",
       "1  a  2\n",
       "2  b  3\n",
       "3  b  4\n",
       "4  c  5\n",
       "5  c  6"
      ]
     },
     "execution_count": 8,
     "metadata": {},
     "output_type": "execute_result"
    }
   ],
   "source": [
    "import pandas\n",
    "import sklearn.linear_model\n",
    "import vtreat # https://github.com/WinVector/pyvtreat\n",
    "\n",
    "\n",
    "df = pandas.DataFrame({'x':['a', 'a', 'b', 'b', 'c', 'c'], \n",
    "                       'y':[i+1 for i in range(6)]})\n",
    "df"
   ]
  },
  {
   "cell_type": "code",
   "execution_count": 9,
   "metadata": {
    "pycharm": {
     "is_executing": false
    }
   },
   "outputs": [
    {
     "name": "stdout",
     "output_type": "stream",
     "text": [
      "could not convert string to float: 'a'\n"
     ]
    }
   ],
   "source": [
    "try:\n",
    "    model = sklearn.linear_model.LinearRegression(fit_intercept = True).fit(df[['x']], df['y'])\n",
    "except Exception as ex:\n",
    "    print(ex)"
   ]
  },
  {
   "cell_type": "code",
   "execution_count": 10,
   "metadata": {
    "pycharm": {
     "is_executing": false
    }
   },
   "outputs": [],
   "source": [
    "## ----vtreat, results='hide'----------------------------------------------"
   ]
  },
  {
   "cell_type": "code",
   "execution_count": 11,
   "metadata": {
    "pycharm": {
     "is_executing": false
    }
   },
   "outputs": [
    {
     "data": {
      "text/html": [
       "<div>\n",
       "<style scoped>\n",
       "    .dataframe tbody tr th:only-of-type {\n",
       "        vertical-align: middle;\n",
       "    }\n",
       "\n",
       "    .dataframe tbody tr th {\n",
       "        vertical-align: top;\n",
       "    }\n",
       "\n",
       "    .dataframe thead th {\n",
       "        text-align: right;\n",
       "    }\n",
       "</style>\n",
       "<table border=\"1\" class=\"dataframe\">\n",
       "  <thead>\n",
       "    <tr style=\"text-align: right;\">\n",
       "      <th></th>\n",
       "      <th>y</th>\n",
       "      <th>x_lev_c</th>\n",
       "      <th>x_lev_a</th>\n",
       "    </tr>\n",
       "  </thead>\n",
       "  <tbody>\n",
       "    <tr>\n",
       "      <th>0</th>\n",
       "      <td>1</td>\n",
       "      <td>0.0</td>\n",
       "      <td>1.0</td>\n",
       "    </tr>\n",
       "    <tr>\n",
       "      <th>1</th>\n",
       "      <td>2</td>\n",
       "      <td>0.0</td>\n",
       "      <td>1.0</td>\n",
       "    </tr>\n",
       "    <tr>\n",
       "      <th>2</th>\n",
       "      <td>3</td>\n",
       "      <td>0.0</td>\n",
       "      <td>0.0</td>\n",
       "    </tr>\n",
       "    <tr>\n",
       "      <th>3</th>\n",
       "      <td>4</td>\n",
       "      <td>0.0</td>\n",
       "      <td>0.0</td>\n",
       "    </tr>\n",
       "    <tr>\n",
       "      <th>4</th>\n",
       "      <td>5</td>\n",
       "      <td>1.0</td>\n",
       "      <td>0.0</td>\n",
       "    </tr>\n",
       "    <tr>\n",
       "      <th>5</th>\n",
       "      <td>6</td>\n",
       "      <td>1.0</td>\n",
       "      <td>0.0</td>\n",
       "    </tr>\n",
       "  </tbody>\n",
       "</table>\n",
       "</div>"
      ],
      "text/plain": [
       "   y  x_lev_c  x_lev_a\n",
       "0  1      0.0      1.0\n",
       "1  2      0.0      1.0\n",
       "2  3      0.0      0.0\n",
       "3  4      0.0      0.0\n",
       "4  5      1.0      0.0\n",
       "5  6      1.0      0.0"
      ]
     },
     "execution_count": 11,
     "metadata": {},
     "output_type": "execute_result"
    }
   ],
   "source": [
    "treatplan = vtreat.NumericOutcomeTreatment(outcome_name='y')\n",
    "df_treated = treatplan.fit_transform(df, y = df['y'])\n",
    "df_treated"
   ]
  },
  {
   "cell_type": "code",
   "execution_count": 12,
   "metadata": {
    "pycharm": {
     "is_executing": false
    }
   },
   "outputs": [],
   "source": [
    "vars = [c for c in df_treated.columns if not c == 'y']\n",
    "model = sklearn.linear_model.LinearRegression(fit_intercept = True).fit(df_treated[vars], df_treated['y'])"
   ]
  },
  {
   "cell_type": "code",
   "execution_count": 13,
   "metadata": {
    "pycharm": {
     "is_executing": false
    }
   },
   "outputs": [],
   "source": [
    "## ----indicators1---------------------------------------------------------"
   ]
  },
  {
   "cell_type": "code",
   "execution_count": 14,
   "metadata": {
    "pycharm": {
     "is_executing": false
    }
   },
   "outputs": [
    {
     "data": {
      "text/html": [
       "<div>\n",
       "<style scoped>\n",
       "    .dataframe tbody tr th:only-of-type {\n",
       "        vertical-align: middle;\n",
       "    }\n",
       "\n",
       "    .dataframe tbody tr th {\n",
       "        vertical-align: top;\n",
       "    }\n",
       "\n",
       "    .dataframe thead th {\n",
       "        text-align: right;\n",
       "    }\n",
       "</style>\n",
       "<table border=\"1\" class=\"dataframe\">\n",
       "  <thead>\n",
       "    <tr style=\"text-align: right;\">\n",
       "      <th></th>\n",
       "      <th>x</th>\n",
       "    </tr>\n",
       "  </thead>\n",
       "  <tbody>\n",
       "    <tr>\n",
       "      <th>0</th>\n",
       "      <td>a</td>\n",
       "    </tr>\n",
       "    <tr>\n",
       "      <th>1</th>\n",
       "      <td>b</td>\n",
       "    </tr>\n",
       "    <tr>\n",
       "      <th>2</th>\n",
       "      <td>c</td>\n",
       "    </tr>\n",
       "    <tr>\n",
       "      <th>3</th>\n",
       "      <td>d</td>\n",
       "    </tr>\n",
       "  </tbody>\n",
       "</table>\n",
       "</div>"
      ],
      "text/plain": [
       "   x\n",
       "0  a\n",
       "1  b\n",
       "2  c\n",
       "3  d"
      ]
     },
     "execution_count": 14,
     "metadata": {},
     "output_type": "execute_result"
    }
   ],
   "source": [
    "newdata = pandas.DataFrame({'x':['a', 'b', 'c', 'd']})\n",
    "newdata"
   ]
  },
  {
   "cell_type": "code",
   "execution_count": 15,
   "metadata": {
    "pycharm": {
     "is_executing": false
    }
   },
   "outputs": [],
   "source": [
    "## ----indicators2---------------------------------------------------------"
   ]
  },
  {
   "cell_type": "code",
   "execution_count": 16,
   "metadata": {
    "pycharm": {
     "is_executing": false
    }
   },
   "outputs": [
    {
     "data": {
      "text/html": [
       "<div>\n",
       "<style scoped>\n",
       "    .dataframe tbody tr th:only-of-type {\n",
       "        vertical-align: middle;\n",
       "    }\n",
       "\n",
       "    .dataframe tbody tr th {\n",
       "        vertical-align: top;\n",
       "    }\n",
       "\n",
       "    .dataframe thead th {\n",
       "        text-align: right;\n",
       "    }\n",
       "</style>\n",
       "<table border=\"1\" class=\"dataframe\">\n",
       "  <thead>\n",
       "    <tr style=\"text-align: right;\">\n",
       "      <th></th>\n",
       "      <th>x_lev_c</th>\n",
       "      <th>x_lev_a</th>\n",
       "    </tr>\n",
       "  </thead>\n",
       "  <tbody>\n",
       "    <tr>\n",
       "      <th>0</th>\n",
       "      <td>0.0</td>\n",
       "      <td>1.0</td>\n",
       "    </tr>\n",
       "    <tr>\n",
       "      <th>1</th>\n",
       "      <td>0.0</td>\n",
       "      <td>0.0</td>\n",
       "    </tr>\n",
       "    <tr>\n",
       "      <th>2</th>\n",
       "      <td>1.0</td>\n",
       "      <td>0.0</td>\n",
       "    </tr>\n",
       "    <tr>\n",
       "      <th>3</th>\n",
       "      <td>0.0</td>\n",
       "      <td>0.0</td>\n",
       "    </tr>\n",
       "  </tbody>\n",
       "</table>\n",
       "</div>"
      ],
      "text/plain": [
       "   x_lev_c  x_lev_a\n",
       "0      0.0      1.0\n",
       "1      0.0      0.0\n",
       "2      1.0      0.0\n",
       "3      0.0      0.0"
      ]
     },
     "execution_count": 16,
     "metadata": {},
     "output_type": "execute_result"
    }
   ],
   "source": [
    "newdata_treated = treatplan.transform(newdata)\n",
    "newdata_treated"
   ]
  },
  {
   "cell_type": "code",
   "execution_count": 17,
   "metadata": {
    "pycharm": {
     "is_executing": false
    }
   },
   "outputs": [
    {
     "data": {
      "text/plain": [
       "array([1.5, 3.5, 5.5, 3.5])"
      ]
     },
     "execution_count": 17,
     "metadata": {},
     "output_type": "execute_result"
    }
   ],
   "source": [
    "model.predict(newdata_treated)"
   ]
  },
  {
   "cell_type": "code",
   "execution_count": null,
   "metadata": {
    "pycharm": {
     "is_executing": false
    }
   },
   "outputs": [],
   "source": []
  },
  {
   "cell_type": "markdown",
   "metadata": {},
   "source": [
    "R original"
   ]
  },
  {
   "cell_type": "raw",
   "metadata": {},
   "source": [
    "## ----zipcode-------------------------------------------------------------\n",
    "set.seed(235)\n",
    "Nz <- 25\n",
    "zip <- paste0('z', format(1:Nz, justify=\"right\"))\n",
    "zip <- gsub(' ', '0', zip, fixed=TRUE)\n",
    "zipval <- 1:Nz; names(zipval) <- zip\n",
    "n <- 3; m <- Nz - n\n",
    "p <- c(numeric(n) + (0.8/n), numeric(m) + 0.2/m)\n",
    "N <- 1000\n",
    "zipvar <- sample(zip, N, replace=TRUE, prob=p)\n",
    "signal <-  zipval[zipvar] + rnorm(N)\n",
    "d <- data.frame(zip=zipvar, \n",
    "                y=signal + rnorm(N))\n",
    "\n",
    "\n",
    "## ----vzip, results=\"hide\", warning=FALSE, message=FALSE------------------\n",
    "library(\"vtreat\")\n",
    "treatplan <- designTreatmentsN(d, varlist=\"zip\", outcome=\"y\", verbose=FALSE)\n",
    "\n",
    "\n",
    "## ----ziptreatplan--------------------------------------------------------\n",
    "treatplan$meanY\n",
    "scoreFrame <- treatplan$scoreFrame\n",
    "scoreFrame[, c('varName', 'sig', 'extraModelDegrees', 'origName', 'code')]\n",
    "\n",
    "\n",
    "## ----preparezip----------------------------------------------------------\n",
    "vars <- scoreFrame$varName[!(scoreFrame$code %in% c(\"catP\", \"catD\"))]\n",
    "dtreated <- prepare(treatplan, d, pruneSig=NULL, \n",
    "                    varRestriction=vars)\n",
    "\n",
    "\n",
    "## ----zipfig, echo=FALSE, message=FALSE, warning=FALSE, fig.width=6, fig.height=4----\n",
    "# compare the impact coding (zip_catN) with the conditional outcome means\n",
    "# to show that the impact model is the conditional outcome - global outcome\n",
    "compf <- merge(data.frame(zip=zip), \n",
    "                data.frame(zip= d$zip, impact=dtreated$zip_catN, y=d$y), \n",
    "                by=\"zip\", all.x=TRUE)\n",
    "compf$meany <- treatplan$meanY\n",
    "library(\"ggplot2\")\n",
    "ggplot(compf, aes(x=zip)) +\n",
    "geom_point(aes(y=impact+meany), shape=23, fill=\"blue\", size=3, alpha=0.7) +\n",
    "geom_point(aes(y=y), alpha=0.3) +\n",
    "coord_flip()"
   ]
  },
  {
   "cell_type": "markdown",
   "metadata": {},
   "source": [
    "Python translation"
   ]
  },
  {
   "cell_type": "code",
   "execution_count": 18,
   "metadata": {
    "pycharm": {
     "is_executing": false
    }
   },
   "outputs": [],
   "source": [
    "## ----zipcode-------------------------------------------------------------"
   ]
  },
  {
   "cell_type": "code",
   "execution_count": 19,
   "metadata": {
    "pycharm": {
     "is_executing": false
    }
   },
   "outputs": [
    {
     "data": {
      "text/html": [
       "<div>\n",
       "<style scoped>\n",
       "    .dataframe tbody tr th:only-of-type {\n",
       "        vertical-align: middle;\n",
       "    }\n",
       "\n",
       "    .dataframe tbody tr th {\n",
       "        vertical-align: top;\n",
       "    }\n",
       "\n",
       "    .dataframe thead th {\n",
       "        text-align: right;\n",
       "    }\n",
       "</style>\n",
       "<table border=\"1\" class=\"dataframe\">\n",
       "  <thead>\n",
       "    <tr style=\"text-align: right;\">\n",
       "      <th></th>\n",
       "      <th>zip</th>\n",
       "      <th>y</th>\n",
       "    </tr>\n",
       "  </thead>\n",
       "  <tbody>\n",
       "    <tr>\n",
       "      <th>0</th>\n",
       "      <td>z00018</td>\n",
       "      <td>18.522012</td>\n",
       "    </tr>\n",
       "    <tr>\n",
       "      <th>1</th>\n",
       "      <td>z00002</td>\n",
       "      <td>1.193435</td>\n",
       "    </tr>\n",
       "    <tr>\n",
       "      <th>2</th>\n",
       "      <td>z00001</td>\n",
       "      <td>0.739880</td>\n",
       "    </tr>\n",
       "    <tr>\n",
       "      <th>3</th>\n",
       "      <td>z00018</td>\n",
       "      <td>17.157941</td>\n",
       "    </tr>\n",
       "    <tr>\n",
       "      <th>4</th>\n",
       "      <td>z00002</td>\n",
       "      <td>2.243728</td>\n",
       "    </tr>\n",
       "  </tbody>\n",
       "</table>\n",
       "</div>"
      ],
      "text/plain": [
       "      zip          y\n",
       "0  z00018  18.522012\n",
       "1  z00002   1.193435\n",
       "2  z00001   0.739880\n",
       "3  z00018  17.157941\n",
       "4  z00002   2.243728"
      ]
     },
     "execution_count": 19,
     "metadata": {},
     "output_type": "execute_result"
    }
   ],
   "source": [
    "import numpy.random\n",
    "import pandas\n",
    "import seaborn\n",
    "import matplotlib.pyplot\n",
    "import vtreat # https://github.com/WinVector/pyvtreat\n",
    "\n",
    "\n",
    "numpy.random.seed(235)\n",
    "Nz = 25\n",
    "zip = ['z' + str(i+1).zfill(5) for i in range(Nz)]\n",
    "zipval = { zip[i]:(i+1) for i in range(Nz) }\n",
    "n = 3\n",
    "m = Nz - n\n",
    "p = [(0.8/n) for i in range(n)] + [0.2/m for i in range(m)]\n",
    "N = 1000\n",
    "zipvar = numpy.random.choice(zip, size=N, p=p)\n",
    "zipvar\n",
    "signal = [zipval[zv] for zv in zipvar]\n",
    "d = pandas.DataFrame({'zip':zipvar, \n",
    "                      'y':signal + numpy.random.normal(size=N)})\n",
    "d.head()"
   ]
  },
  {
   "cell_type": "code",
   "execution_count": 20,
   "metadata": {
    "pycharm": {
     "is_executing": false
    }
   },
   "outputs": [],
   "source": [
    "## ----vzip, results=\"hide\", warning=FALSE, message=FALSE------------------"
   ]
  },
  {
   "cell_type": "code",
   "execution_count": 21,
   "metadata": {
    "pycharm": {
     "is_executing": false
    }
   },
   "outputs": [
    {
     "data": {
      "text/html": [
       "<div>\n",
       "<style scoped>\n",
       "    .dataframe tbody tr th:only-of-type {\n",
       "        vertical-align: middle;\n",
       "    }\n",
       "\n",
       "    .dataframe tbody tr th {\n",
       "        vertical-align: top;\n",
       "    }\n",
       "\n",
       "    .dataframe thead th {\n",
       "        text-align: right;\n",
       "    }\n",
       "</style>\n",
       "<table border=\"1\" class=\"dataframe\">\n",
       "  <thead>\n",
       "    <tr style=\"text-align: right;\">\n",
       "      <th></th>\n",
       "      <th>y</th>\n",
       "      <th>zip_impact_code</th>\n",
       "      <th>zip_prevalence_code</th>\n",
       "      <th>zip_lev_z00002</th>\n",
       "      <th>zip_lev_z00003</th>\n",
       "      <th>zip_lev_z00001</th>\n",
       "    </tr>\n",
       "  </thead>\n",
       "  <tbody>\n",
       "    <tr>\n",
       "      <th>0</th>\n",
       "      <td>18.522012</td>\n",
       "      <td>12.660483</td>\n",
       "      <td>0.014</td>\n",
       "      <td>0.0</td>\n",
       "      <td>0.0</td>\n",
       "      <td>0.0</td>\n",
       "    </tr>\n",
       "    <tr>\n",
       "      <th>1</th>\n",
       "      <td>1.193435</td>\n",
       "      <td>-2.851277</td>\n",
       "      <td>0.277</td>\n",
       "      <td>1.0</td>\n",
       "      <td>0.0</td>\n",
       "      <td>0.0</td>\n",
       "    </tr>\n",
       "    <tr>\n",
       "      <th>2</th>\n",
       "      <td>0.739880</td>\n",
       "      <td>-3.928832</td>\n",
       "      <td>0.235</td>\n",
       "      <td>0.0</td>\n",
       "      <td>0.0</td>\n",
       "      <td>1.0</td>\n",
       "    </tr>\n",
       "    <tr>\n",
       "      <th>3</th>\n",
       "      <td>17.157941</td>\n",
       "      <td>12.776066</td>\n",
       "      <td>0.014</td>\n",
       "      <td>0.0</td>\n",
       "      <td>0.0</td>\n",
       "      <td>0.0</td>\n",
       "    </tr>\n",
       "    <tr>\n",
       "      <th>4</th>\n",
       "      <td>2.243728</td>\n",
       "      <td>-2.851277</td>\n",
       "      <td>0.277</td>\n",
       "      <td>1.0</td>\n",
       "      <td>0.0</td>\n",
       "      <td>0.0</td>\n",
       "    </tr>\n",
       "  </tbody>\n",
       "</table>\n",
       "</div>"
      ],
      "text/plain": [
       "           y  zip_impact_code  zip_prevalence_code  zip_lev_z00002  \\\n",
       "0  18.522012        12.660483                0.014             0.0   \n",
       "1   1.193435        -2.851277                0.277             1.0   \n",
       "2   0.739880        -3.928832                0.235             0.0   \n",
       "3  17.157941        12.776066                0.014             0.0   \n",
       "4   2.243728        -2.851277                0.277             1.0   \n",
       "\n",
       "   zip_lev_z00003  zip_lev_z00001  \n",
       "0             0.0             0.0  \n",
       "1             0.0             0.0  \n",
       "2             0.0             1.0  \n",
       "3             0.0             0.0  \n",
       "4             0.0             0.0  "
      ]
     },
     "execution_count": 21,
     "metadata": {},
     "output_type": "execute_result"
    }
   ],
   "source": [
    "treatplan = vtreat.NumericOutcomeTreatment(outcome_name='y')\n",
    "d_treated = treatplan.fit_transform(d, d[\"y\"])\n",
    "d_treated.head()"
   ]
  },
  {
   "cell_type": "code",
   "execution_count": 22,
   "metadata": {
    "pycharm": {
     "is_executing": false
    }
   },
   "outputs": [],
   "source": [
    "## ----ziptreatplan--------------------------------------------------------"
   ]
  },
  {
   "cell_type": "code",
   "execution_count": 23,
   "metadata": {
    "pycharm": {
     "is_executing": false
    }
   },
   "outputs": [
    {
     "data": {
      "text/html": [
       "<div>\n",
       "<style scoped>\n",
       "    .dataframe tbody tr th:only-of-type {\n",
       "        vertical-align: middle;\n",
       "    }\n",
       "\n",
       "    .dataframe tbody tr th {\n",
       "        vertical-align: top;\n",
       "    }\n",
       "\n",
       "    .dataframe thead th {\n",
       "        text-align: right;\n",
       "    }\n",
       "</style>\n",
       "<table border=\"1\" class=\"dataframe\">\n",
       "  <thead>\n",
       "    <tr style=\"text-align: right;\">\n",
       "      <th></th>\n",
       "      <th>variable</th>\n",
       "      <th>orig_variable</th>\n",
       "      <th>treatment</th>\n",
       "      <th>y_aware</th>\n",
       "      <th>has_range</th>\n",
       "      <th>PearsonR</th>\n",
       "      <th>significance</th>\n",
       "      <th>vcount</th>\n",
       "      <th>default_threshold</th>\n",
       "      <th>recommended</th>\n",
       "    </tr>\n",
       "  </thead>\n",
       "  <tbody>\n",
       "    <tr>\n",
       "      <th>0</th>\n",
       "      <td>zip_impact_code</td>\n",
       "      <td>zip</td>\n",
       "      <td>impact_code</td>\n",
       "      <td>True</td>\n",
       "      <td>True</td>\n",
       "      <td>0.987907</td>\n",
       "      <td>0.000000e+00</td>\n",
       "      <td>1.0</td>\n",
       "      <td>0.250000</td>\n",
       "      <td>True</td>\n",
       "    </tr>\n",
       "    <tr>\n",
       "      <th>1</th>\n",
       "      <td>zip_deviation_code</td>\n",
       "      <td>zip</td>\n",
       "      <td>deviation_code</td>\n",
       "      <td>True</td>\n",
       "      <td>True</td>\n",
       "      <td>-0.049652</td>\n",
       "      <td>1.166190e-01</td>\n",
       "      <td>1.0</td>\n",
       "      <td>0.250000</td>\n",
       "      <td>False</td>\n",
       "    </tr>\n",
       "    <tr>\n",
       "      <th>2</th>\n",
       "      <td>zip_prevalence_code</td>\n",
       "      <td>zip</td>\n",
       "      <td>prevalence_code</td>\n",
       "      <td>False</td>\n",
       "      <td>True</td>\n",
       "      <td>-0.833001</td>\n",
       "      <td>8.590593e-259</td>\n",
       "      <td>1.0</td>\n",
       "      <td>0.250000</td>\n",
       "      <td>True</td>\n",
       "    </tr>\n",
       "    <tr>\n",
       "      <th>3</th>\n",
       "      <td>zip_lev_z00002</td>\n",
       "      <td>zip</td>\n",
       "      <td>indicator_code</td>\n",
       "      <td>False</td>\n",
       "      <td>True</td>\n",
       "      <td>-0.283480</td>\n",
       "      <td>6.165256e-20</td>\n",
       "      <td>3.0</td>\n",
       "      <td>0.083333</td>\n",
       "      <td>True</td>\n",
       "    </tr>\n",
       "    <tr>\n",
       "      <th>4</th>\n",
       "      <td>zip_lev_z00003</td>\n",
       "      <td>zip</td>\n",
       "      <td>indicator_code</td>\n",
       "      <td>False</td>\n",
       "      <td>True</td>\n",
       "      <td>-0.179725</td>\n",
       "      <td>1.046927e-08</td>\n",
       "      <td>3.0</td>\n",
       "      <td>0.083333</td>\n",
       "      <td>True</td>\n",
       "    </tr>\n",
       "    <tr>\n",
       "      <th>5</th>\n",
       "      <td>zip_lev_z00001</td>\n",
       "      <td>zip</td>\n",
       "      <td>indicator_code</td>\n",
       "      <td>False</td>\n",
       "      <td>True</td>\n",
       "      <td>-0.348631</td>\n",
       "      <td>5.932392e-30</td>\n",
       "      <td>3.0</td>\n",
       "      <td>0.083333</td>\n",
       "      <td>True</td>\n",
       "    </tr>\n",
       "  </tbody>\n",
       "</table>\n",
       "</div>"
      ],
      "text/plain": [
       "              variable orig_variable        treatment  y_aware  has_range  \\\n",
       "0      zip_impact_code           zip      impact_code     True       True   \n",
       "1   zip_deviation_code           zip   deviation_code     True       True   \n",
       "2  zip_prevalence_code           zip  prevalence_code    False       True   \n",
       "3       zip_lev_z00002           zip   indicator_code    False       True   \n",
       "4       zip_lev_z00003           zip   indicator_code    False       True   \n",
       "5       zip_lev_z00001           zip   indicator_code    False       True   \n",
       "\n",
       "   PearsonR   significance  vcount  default_threshold  recommended  \n",
       "0  0.987907   0.000000e+00     1.0           0.250000         True  \n",
       "1 -0.049652   1.166190e-01     1.0           0.250000        False  \n",
       "2 -0.833001  8.590593e-259     1.0           0.250000         True  \n",
       "3 -0.283480   6.165256e-20     3.0           0.083333         True  \n",
       "4 -0.179725   1.046927e-08     3.0           0.083333         True  \n",
       "5 -0.348631   5.932392e-30     3.0           0.083333         True  "
      ]
     },
     "execution_count": 23,
     "metadata": {},
     "output_type": "execute_result"
    }
   ],
   "source": [
    "treatplan.score_frame_"
   ]
  },
  {
   "cell_type": "code",
   "execution_count": 24,
   "metadata": {
    "pycharm": {
     "is_executing": false
    }
   },
   "outputs": [],
   "source": [
    "## ----zipfig, echo=FALSE, message=FALSE, warning=FALSE, fig.width=6, fig.height=4----"
   ]
  },
  {
   "cell_type": "code",
   "execution_count": 25,
   "metadata": {
    "pycharm": {
     "is_executing": false
    }
   },
   "outputs": [
    {
     "data": {
      "text/plain": [
       "[<matplotlib.lines.Line2D at 0x1a216e6ba8>]"
      ]
     },
     "execution_count": 25,
     "metadata": {},
     "output_type": "execute_result"
    },
    {
     "data": {
      "image/png": "[encoded data removed]",
      "text/plain": [
       "<Figure size 432x288 with 1 Axes>"
      ]
     },
     "metadata": {
      "needs_background": "light"
     },
     "output_type": "display_data"
    }
   ],
   "source": [
    "# show, subject to mean shift impact estimates track un-observed (pre-noise) ideal values\n",
    "d_new = pandas.DataFrame({'zip':zip})\n",
    "d_new_treated = treatplan.transform(d_new)[['zip_impact_code']]\n",
    "d_new_treated[\"zip\"] = d_new[\"zip\"]\n",
    "d_new_treated[\"ideal_value\"] = [zipval[k] for k in d_new_treated[\"zip\"]]\n",
    "d_new_treated[\"zip_impact_code plus mean\"] = d_new_treated[\"zip_impact_code\"] + numpy.mean(d[\"y\"])\n",
    "seaborn.scatterplot(x=\"zip_impact_code plus mean\", y='ideal_value', data = d_new_treated)\n",
    "min = numpy.min(d_new_treated[\"ideal_value\"])\n",
    "max = numpy.max(d_new_treated[\"ideal_value\"])\n",
    "matplotlib.pyplot.plot([min, max], [min, max], color = 'red', alpha=0.5)"
   ]
  },
  {
   "cell_type": "code",
   "execution_count": null,
   "metadata": {
    "pycharm": {
     "is_executing": false
    }
   },
   "outputs": [],
   "source": []
  },
  {
   "cell_type": "markdown",
   "metadata": {},
   "source": [
    "R original"
   ]
  },
  {
   "cell_type": "raw",
   "metadata": {},
   "source": [
    "## ----zipmissing, warning=FALSE, message=FALSE----------------------------\n",
    "N <- 100\n",
    "zipvar <- sample(zip, N, replace=TRUE, prob=p)\n",
    "signal <- zipval[zipvar] + rnorm(N)\n",
    "d <- data.frame(zip=zipvar, \n",
    "                y=signal+rnorm(N))\n",
    "length(unique(d$zip))\n",
    "omitted <- setdiff(zip, unique(d$zip))\n",
    "print(omitted)\n",
    "\n",
    "\n",
    "## ----zipmissing2, warning=FALSE, message=FALSE---------------------------\n",
    "treatplan <- designTreatmentsN(d, varlist=\"zip\", outcome=\"y\", verbose=FALSE)\n",
    "dnew <- data.frame(zip = zip)\n",
    "dtreated <- prepare(treatplan, dnew, pruneSig=NULL, \n",
    "                   varRestriction=vars)\n",
    "\n",
    "\n",
    "## ----zipmissingprint-----------------------------------------------------\n",
    "dtreated[dnew$zip %in% omitted, \"zip_catN\"]"
   ]
  },
  {
   "cell_type": "markdown",
   "metadata": {},
   "source": [
    "Python translation"
   ]
  },
  {
   "cell_type": "code",
   "execution_count": 26,
   "metadata": {
    "pycharm": {
     "is_executing": false
    }
   },
   "outputs": [],
   "source": [
    "## ----zipmissing, warning=FALSE, message=FALSE----------------------------"
   ]
  },
  {
   "cell_type": "code",
   "execution_count": 27,
   "metadata": {
    "pycharm": {
     "is_executing": false
    }
   },
   "outputs": [
    {
     "data": {
      "text/plain": [
       "16"
      ]
     },
     "execution_count": 27,
     "metadata": {},
     "output_type": "execute_result"
    }
   ],
   "source": [
    "N = 100\n",
    "zipvar = numpy.random.choice(zip, size=N, p=p)\n",
    "d = pandas.DataFrame({'zip':zipvar, \n",
    "                      'y':[zipval[zv] for zv in zipvar] + numpy.random.normal(size=N)})\n",
    "len(numpy.unique(d['zip']))"
   ]
  },
  {
   "cell_type": "code",
   "execution_count": 28,
   "metadata": {
    "pycharm": {
     "is_executing": false
    }
   },
   "outputs": [
    {
     "data": {
      "text/plain": [
       "{'z00004',\n",
       " 'z00006',\n",
       " 'z00008',\n",
       " 'z00009',\n",
       " 'z00014',\n",
       " 'z00016',\n",
       " 'z00017',\n",
       " 'z00023',\n",
       " 'z00025'}"
      ]
     },
     "execution_count": 28,
     "metadata": {},
     "output_type": "execute_result"
    }
   ],
   "source": [
    "omitted = set(zip) - set(d['zip'])\n",
    "omitted"
   ]
  },
  {
   "cell_type": "code",
   "execution_count": 29,
   "metadata": {
    "pycharm": {
     "is_executing": false
    }
   },
   "outputs": [],
   "source": [
    "## ----zipmissing2, warning=FALSE, message=FALSE---------------------------"
   ]
  },
  {
   "cell_type": "code",
   "execution_count": 30,
   "metadata": {
    "pycharm": {
     "is_executing": false
    }
   },
   "outputs": [
    {
     "data": {
      "text/html": [
       "<div>\n",
       "<style scoped>\n",
       "    .dataframe tbody tr th:only-of-type {\n",
       "        vertical-align: middle;\n",
       "    }\n",
       "\n",
       "    .dataframe tbody tr th {\n",
       "        vertical-align: top;\n",
       "    }\n",
       "\n",
       "    .dataframe thead th {\n",
       "        text-align: right;\n",
       "    }\n",
       "</style>\n",
       "<table border=\"1\" class=\"dataframe\">\n",
       "  <thead>\n",
       "    <tr style=\"text-align: right;\">\n",
       "      <th></th>\n",
       "      <th>zip_impact_code</th>\n",
       "      <th>zip_prevalence_code</th>\n",
       "      <th>zip_lev_z00003</th>\n",
       "      <th>zip_lev_z00001</th>\n",
       "      <th>zip_lev_z00002</th>\n",
       "      <th>zip</th>\n",
       "    </tr>\n",
       "  </thead>\n",
       "  <tbody>\n",
       "    <tr>\n",
       "      <th>0</th>\n",
       "      <td>-4.152427</td>\n",
       "      <td>0.26</td>\n",
       "      <td>0.0</td>\n",
       "      <td>1.0</td>\n",
       "      <td>0.0</td>\n",
       "      <td>z00001</td>\n",
       "    </tr>\n",
       "    <tr>\n",
       "      <th>1</th>\n",
       "      <td>-3.061531</td>\n",
       "      <td>0.21</td>\n",
       "      <td>0.0</td>\n",
       "      <td>0.0</td>\n",
       "      <td>1.0</td>\n",
       "      <td>z00002</td>\n",
       "    </tr>\n",
       "    <tr>\n",
       "      <th>2</th>\n",
       "      <td>-1.925327</td>\n",
       "      <td>0.27</td>\n",
       "      <td>1.0</td>\n",
       "      <td>0.0</td>\n",
       "      <td>0.0</td>\n",
       "      <td>z00003</td>\n",
       "    </tr>\n",
       "    <tr>\n",
       "      <th>3</th>\n",
       "      <td>0.000000</td>\n",
       "      <td>0.00</td>\n",
       "      <td>0.0</td>\n",
       "      <td>0.0</td>\n",
       "      <td>0.0</td>\n",
       "      <td>z00004</td>\n",
       "    </tr>\n",
       "    <tr>\n",
       "      <th>4</th>\n",
       "      <td>0.517125</td>\n",
       "      <td>0.05</td>\n",
       "      <td>0.0</td>\n",
       "      <td>0.0</td>\n",
       "      <td>0.0</td>\n",
       "      <td>z00005</td>\n",
       "    </tr>\n",
       "  </tbody>\n",
       "</table>\n",
       "</div>"
      ],
      "text/plain": [
       "   zip_impact_code  zip_prevalence_code  zip_lev_z00003  zip_lev_z00001  \\\n",
       "0        -4.152427                 0.26             0.0             1.0   \n",
       "1        -3.061531                 0.21             0.0             0.0   \n",
       "2        -1.925327                 0.27             1.0             0.0   \n",
       "3         0.000000                 0.00             0.0             0.0   \n",
       "4         0.517125                 0.05             0.0             0.0   \n",
       "\n",
       "   zip_lev_z00002     zip  \n",
       "0             0.0  z00001  \n",
       "1             1.0  z00002  \n",
       "2             0.0  z00003  \n",
       "3             0.0  z00004  \n",
       "4             0.0  z00005  "
      ]
     },
     "execution_count": 30,
     "metadata": {},
     "output_type": "execute_result"
    }
   ],
   "source": [
    "treatplan = vtreat.NumericOutcomeTreatment(outcome_name='y')\n",
    "d_treated = treatplan.fit_transform(d, d[\"y\"])\n",
    "dnew = pandas.DataFrame({'zip':zip})\n",
    "dtreated = treatplan.transform(dnew)\n",
    "dtreated[\"zip\"] = dnew[\"zip\"]\n",
    "dtreated.head()"
   ]
  },
  {
   "cell_type": "code",
   "execution_count": 31,
   "metadata": {
    "pycharm": {
     "is_executing": false
    }
   },
   "outputs": [],
   "source": [
    "## ----zipmissingprint-----------------------------------------------------"
   ]
  },
  {
   "cell_type": "code",
   "execution_count": 32,
   "metadata": {
    "pycharm": {
     "is_executing": false
    }
   },
   "outputs": [
    {
     "data": {
      "text/html": [
       "<div>\n",
       "<style scoped>\n",
       "    .dataframe tbody tr th:only-of-type {\n",
       "        vertical-align: middle;\n",
       "    }\n",
       "\n",
       "    .dataframe tbody tr th {\n",
       "        vertical-align: top;\n",
       "    }\n",
       "\n",
       "    .dataframe thead th {\n",
       "        text-align: right;\n",
       "    }\n",
       "</style>\n",
       "<table border=\"1\" class=\"dataframe\">\n",
       "  <thead>\n",
       "    <tr style=\"text-align: right;\">\n",
       "      <th></th>\n",
       "      <th>zip_impact_code</th>\n",
       "      <th>zip_prevalence_code</th>\n",
       "      <th>zip_lev_z00003</th>\n",
       "      <th>zip_lev_z00001</th>\n",
       "      <th>zip_lev_z00002</th>\n",
       "      <th>zip</th>\n",
       "    </tr>\n",
       "  </thead>\n",
       "  <tbody>\n",
       "    <tr>\n",
       "      <th>3</th>\n",
       "      <td>0.0</td>\n",
       "      <td>0.0</td>\n",
       "      <td>0.0</td>\n",
       "      <td>0.0</td>\n",
       "      <td>0.0</td>\n",
       "      <td>z00004</td>\n",
       "    </tr>\n",
       "    <tr>\n",
       "      <th>5</th>\n",
       "      <td>0.0</td>\n",
       "      <td>0.0</td>\n",
       "      <td>0.0</td>\n",
       "      <td>0.0</td>\n",
       "      <td>0.0</td>\n",
       "      <td>z00006</td>\n",
       "    </tr>\n",
       "    <tr>\n",
       "      <th>7</th>\n",
       "      <td>0.0</td>\n",
       "      <td>0.0</td>\n",
       "      <td>0.0</td>\n",
       "      <td>0.0</td>\n",
       "      <td>0.0</td>\n",
       "      <td>z00008</td>\n",
       "    </tr>\n",
       "    <tr>\n",
       "      <th>8</th>\n",
       "      <td>0.0</td>\n",
       "      <td>0.0</td>\n",
       "      <td>0.0</td>\n",
       "      <td>0.0</td>\n",
       "      <td>0.0</td>\n",
       "      <td>z00009</td>\n",
       "    </tr>\n",
       "    <tr>\n",
       "      <th>13</th>\n",
       "      <td>0.0</td>\n",
       "      <td>0.0</td>\n",
       "      <td>0.0</td>\n",
       "      <td>0.0</td>\n",
       "      <td>0.0</td>\n",
       "      <td>z00014</td>\n",
       "    </tr>\n",
       "  </tbody>\n",
       "</table>\n",
       "</div>"
      ],
      "text/plain": [
       "    zip_impact_code  zip_prevalence_code  zip_lev_z00003  zip_lev_z00001  \\\n",
       "3               0.0                  0.0             0.0             0.0   \n",
       "5               0.0                  0.0             0.0             0.0   \n",
       "7               0.0                  0.0             0.0             0.0   \n",
       "8               0.0                  0.0             0.0             0.0   \n",
       "13              0.0                  0.0             0.0             0.0   \n",
       "\n",
       "    zip_lev_z00002     zip  \n",
       "3              0.0  z00004  \n",
       "5              0.0  z00006  \n",
       "7              0.0  z00008  \n",
       "8              0.0  z00009  \n",
       "13             0.0  z00014  "
      ]
     },
     "execution_count": 32,
     "metadata": {},
     "output_type": "execute_result"
    }
   ],
   "source": [
    "dtreated.loc[[zi in omitted for zi in dnew[\"zip\"]], :].head()"
   ]
  },
  {
   "cell_type": "code",
   "execution_count": null,
   "metadata": {
    "pycharm": {
     "is_executing": false
    }
   },
   "outputs": [],
   "source": []
  },
  {
   "cell_type": "markdown",
   "metadata": {},
   "source": [
    "R original"
   ]
  },
  {
   "cell_type": "raw",
   "metadata": {},
   "source": [
    "## ----nested--------------------------------------------------------------\n",
    "set.seed(2262)\n",
    "nLev <- 500\n",
    "n <- 3000\n",
    "d <- data.frame(xBad1=sample(paste('level', 1:nLev, sep=''), n, replace=TRUE), \n",
    "                xBad2=sample(paste('level', 1:nLev, sep=''), n, replace=TRUE), \n",
    "                xGood1=sample(paste('level', 1:nLev, sep=''), n, replace=TRUE), \n",
    "                xGood2=sample(paste('level', 1:nLev, sep=''), n, replace=TRUE))\n",
    "d$y <- (0.2*rnorm(nrow(d)) + 0.5*ifelse(as.numeric(d$xGood1)>nLev/2, 1, -1) +\n",
    "        0.3*ifelse(as.numeric(d$xGood2)>nLev/2, 1, -1))>0\n",
    "d$rgroup <- sample(c(\"cal\", \"train\", \"test\"), nrow(d), replace=TRUE, \n",
    "                   prob=c(0.6, 0.2, 0.2))\n",
    "\n",
    "plotRes <- function(d, predName, yName, title) {\n",
    "  print(title)\n",
    "  tab <- table(truth=d[[yName]], pred=d[[predName]]>0.5)\n",
    "  print(tab)\n",
    "  diag <- sum(vapply(seq_len(min(dim(tab))), \n",
    "                     function(i) tab[i, i], numeric(1)))\n",
    "  acc <- diag/sum(tab)\n",
    "  # depends on both truth and target being logicals\n",
    "  # and FALSE ordered before TRUE\n",
    "  sens <- tab[2, 2]/sum(tab[2, ])\n",
    "  spec <- tab[1, 1]/sum(tab[1, ])\n",
    "  print(paste('accuracy', format(acc, scientific=FALSE, digits=3)))\n",
    "  print(paste('sensitivity', format(sens, scientific=FALSE, digits=3)))\n",
    "  print(paste('specificity', format(spec, scientific=FALSE, digits=3)))\n",
    "}"
   ]
  },
  {
   "cell_type": "markdown",
   "metadata": {},
   "source": [
    "Python translation"
   ]
  },
  {
   "cell_type": "code",
   "execution_count": 33,
   "metadata": {
    "pycharm": {
     "is_executing": false
    }
   },
   "outputs": [],
   "source": [
    "## ----nested--------------------------------------------------------------"
   ]
  },
  {
   "cell_type": "code",
   "execution_count": 34,
   "metadata": {
    "pycharm": {
     "is_executing": false
    }
   },
   "outputs": [
    {
     "data": {
      "text/html": [
       "<div>\n",
       "<style scoped>\n",
       "    .dataframe tbody tr th:only-of-type {\n",
       "        vertical-align: middle;\n",
       "    }\n",
       "\n",
       "    .dataframe tbody tr th {\n",
       "        vertical-align: top;\n",
       "    }\n",
       "\n",
       "    .dataframe thead th {\n",
       "        text-align: right;\n",
       "    }\n",
       "</style>\n",
       "<table border=\"1\" class=\"dataframe\">\n",
       "  <thead>\n",
       "    <tr style=\"text-align: right;\">\n",
       "      <th></th>\n",
       "      <th>xBad1</th>\n",
       "      <th>xBad2</th>\n",
       "      <th>xGood1</th>\n",
       "      <th>xGood2</th>\n",
       "      <th>y</th>\n",
       "      <th>rgroup</th>\n",
       "    </tr>\n",
       "  </thead>\n",
       "  <tbody>\n",
       "    <tr>\n",
       "      <th>0</th>\n",
       "      <td>level246</td>\n",
       "      <td>level135</td>\n",
       "      <td>level316</td>\n",
       "      <td>level324</td>\n",
       "      <td>False</td>\n",
       "      <td>train</td>\n",
       "    </tr>\n",
       "    <tr>\n",
       "      <th>1</th>\n",
       "      <td>level462</td>\n",
       "      <td>level92</td>\n",
       "      <td>level165</td>\n",
       "      <td>level95</td>\n",
       "      <td>True</td>\n",
       "      <td>test</td>\n",
       "    </tr>\n",
       "    <tr>\n",
       "      <th>2</th>\n",
       "      <td>level93</td>\n",
       "      <td>level163</td>\n",
       "      <td>level57</td>\n",
       "      <td>level426</td>\n",
       "      <td>False</td>\n",
       "      <td>train</td>\n",
       "    </tr>\n",
       "    <tr>\n",
       "      <th>3</th>\n",
       "      <td>level96</td>\n",
       "      <td>level291</td>\n",
       "      <td>level14</td>\n",
       "      <td>level104</td>\n",
       "      <td>True</td>\n",
       "      <td>test</td>\n",
       "    </tr>\n",
       "    <tr>\n",
       "      <th>4</th>\n",
       "      <td>level21</td>\n",
       "      <td>level422</td>\n",
       "      <td>level111</td>\n",
       "      <td>level179</td>\n",
       "      <td>True</td>\n",
       "      <td>train</td>\n",
       "    </tr>\n",
       "  </tbody>\n",
       "</table>\n",
       "</div>"
      ],
      "text/plain": [
       "      xBad1     xBad2    xGood1    xGood2      y rgroup\n",
       "0  level246  level135  level316  level324  False  train\n",
       "1  level462   level92  level165   level95   True   test\n",
       "2   level93  level163   level57  level426  False  train\n",
       "3   level96  level291   level14  level104   True   test\n",
       "4   level21  level422  level111  level179   True  train"
      ]
     },
     "execution_count": 34,
     "metadata": {},
     "output_type": "execute_result"
    }
   ],
   "source": [
    "numpy.random.seed(2262)\n",
    "nLev = 500\n",
    "n = 3000\n",
    "d = pandas.DataFrame({'xBad1':numpy.random.choice(['level' + str(i+1) for i in range(nLev)], size=n), \n",
    "                      'xBad2':numpy.random.choice(['level' + str(i+1) for i in range(nLev)], size=n), \n",
    "                      'xGood1':numpy.random.choice(['level' + str(i+1) for i in range(nLev)], size=n), \n",
    "                      'xGood2':numpy.random.choice(['level' + str(i+1) for i in range(nLev)], size=n)})\n",
    "target = set(['level' + str(i+1) for i in range(int(numpy.floor(nLev/2)))])\n",
    "d['y'] = (0.2*numpy.random.normal(size=n) + \n",
    "          0.5*numpy.asarray([1 if (v in target) else -1 for v in d['xGood1']]) +\n",
    "          0.3*numpy.asarray([1 if (v in target) else -1 for v in d['xGood2']]))>0\n",
    "d['rgroup'] = numpy.random.choice([\"cal\", \"train\", \"test\"], size=n,\n",
    "                   p=[0.6, 0.2, 0.2])\n",
    "d.head()"
   ]
  },
  {
   "cell_type": "code",
   "execution_count": 35,
   "metadata": {
    "pycharm": {
     "is_executing": false
    }
   },
   "outputs": [],
   "source": [
    "import sklearn.metrics \n",
    "\n",
    "def plotRes(d, predName, yName, title, threshold=0.5):\n",
    "    print(title)\n",
    "    decision = d[predName]>threshold\n",
    "    tab = sklearn.metrics.confusion_matrix(y_true=d[yName], y_pred=decision)\n",
    "    print('confusion matrix:\\n', tab)\n",
    "    acc = sklearn.metrics.accuracy_score(y_true=d[yName], y_pred=decision)\n",
    "    prec = sklearn.metrics.precision_score(y_true=d[yName], y_pred=decision)\n",
    "    recall = sklearn.metrics.recall_score(y_true=d[yName], y_pred=decision)\n",
    "    fpr, tpr, thresholds = sklearn.metrics.roc_curve(d[yName], d[predName], pos_label=True)\n",
    "    auc = sklearn.metrics.auc(fpr, tpr)\n",
    "    print('auc:', format(\"{:.2f}\".format(auc)))\n",
    "    print('accuracy:', format(\"{:.2f}\".format(acc)))\n",
    "    print('precision:', format(\"{:.2f}\".format(prec)))\n",
    "    print('recall:', format(\"{:.2f}\".format(recall)))"
   ]
  },
  {
   "cell_type": "code",
   "execution_count": null,
   "metadata": {
    "pycharm": {
     "is_executing": false
    }
   },
   "outputs": [],
   "source": []
  },
  {
   "cell_type": "markdown",
   "metadata": {},
   "source": [
    "R original"
   ]
  },
  {
   "cell_type": "raw",
   "metadata": {},
   "source": [
    "## ----naivesplit----------------------------------------------------------\n",
    "dTrain <- d[d$rgroup!='test', , drop=FALSE]\n",
    "dTest <- d[d$rgroup=='test', , drop=FALSE]\n",
    "treatments <- vtreat::designTreatmentsC(dTrain, \n",
    "                     varlist = c('xBad1', 'xBad2', 'xGood1', 'xGood2'), \n",
    "                     outcomename='y', outcometarget=TRUE, \n",
    "                     verbose=FALSE)\n",
    "dTrainTreated <- vtreat::prepare(treatments, dTrain, pruneSig=NULL)\n",
    "\n",
    "\n",
    "## ----naivefit, warning=FALSE---------------------------------------------\n",
    "m1 <- glm(y~xBad1_catB + xBad2_catB + xGood1_catB + xGood2_catB, \n",
    "          data=dTrainTreated, family=binomial(link='logit'))\n",
    "print(summary(m1))\n",
    "\n",
    "\n",
    "## ----nf2-----------------------------------------------------------------\n",
    "dTrain$predM1 <- predict(m1, newdata=dTrainTreated, type='response')\n",
    "plotRes(dTrain, 'predM1', 'y', 'model1 on train')\n"
   ]
  },
  {
   "cell_type": "markdown",
   "metadata": {},
   "source": [
    "Python translation"
   ]
  },
  {
   "cell_type": "code",
   "execution_count": 36,
   "metadata": {
    "pycharm": {
     "is_executing": false
    }
   },
   "outputs": [],
   "source": [
    "## ----naivesplit----------------------------------------------------------"
   ]
  },
  {
   "cell_type": "code",
   "execution_count": 37,
   "metadata": {
    "pycharm": {
     "is_executing": false
    }
   },
   "outputs": [
    {
     "data": {
      "text/html": [
       "<div>\n",
       "<style scoped>\n",
       "    .dataframe tbody tr th:only-of-type {\n",
       "        vertical-align: middle;\n",
       "    }\n",
       "\n",
       "    .dataframe tbody tr th {\n",
       "        vertical-align: top;\n",
       "    }\n",
       "\n",
       "    .dataframe thead th {\n",
       "        text-align: right;\n",
       "    }\n",
       "</style>\n",
       "<table border=\"1\" class=\"dataframe\">\n",
       "  <thead>\n",
       "    <tr style=\"text-align: right;\">\n",
       "      <th></th>\n",
       "      <th>y</th>\n",
       "      <th>rgroup</th>\n",
       "      <th>xBad1_logit_code</th>\n",
       "      <th>xBad2_logit_code</th>\n",
       "      <th>xGood1_logit_code</th>\n",
       "      <th>xGood2_logit_code</th>\n",
       "    </tr>\n",
       "  </thead>\n",
       "  <tbody>\n",
       "    <tr>\n",
       "      <th>0</th>\n",
       "      <td>False</td>\n",
       "      <td>train</td>\n",
       "      <td>-0.421149</td>\n",
       "      <td>-0.107432</td>\n",
       "      <td>-5.400537</td>\n",
       "      <td>-0.307786</td>\n",
       "    </tr>\n",
       "    <tr>\n",
       "      <th>1</th>\n",
       "      <td>False</td>\n",
       "      <td>train</td>\n",
       "      <td>-4.960027</td>\n",
       "      <td>-0.213524</td>\n",
       "      <td>0.150727</td>\n",
       "      <td>-5.210274</td>\n",
       "    </tr>\n",
       "    <tr>\n",
       "      <th>2</th>\n",
       "      <td>True</td>\n",
       "      <td>train</td>\n",
       "      <td>0.276332</td>\n",
       "      <td>0.186973</td>\n",
       "      <td>0.668995</td>\n",
       "      <td>-0.220700</td>\n",
       "    </tr>\n",
       "    <tr>\n",
       "      <th>3</th>\n",
       "      <td>True</td>\n",
       "      <td>cal</td>\n",
       "      <td>-0.098178</td>\n",
       "      <td>0.186973</td>\n",
       "      <td>0.668160</td>\n",
       "      <td>0.086281</td>\n",
       "    </tr>\n",
       "    <tr>\n",
       "      <th>4</th>\n",
       "      <td>True</td>\n",
       "      <td>train</td>\n",
       "      <td>-0.183694</td>\n",
       "      <td>0.277668</td>\n",
       "      <td>0.666911</td>\n",
       "      <td>0.665988</td>\n",
       "    </tr>\n",
       "  </tbody>\n",
       "</table>\n",
       "</div>"
      ],
      "text/plain": [
       "       y rgroup  xBad1_logit_code  xBad2_logit_code  xGood1_logit_code  \\\n",
       "0  False  train         -0.421149         -0.107432          -5.400537   \n",
       "1  False  train         -4.960027         -0.213524           0.150727   \n",
       "2   True  train          0.276332          0.186973           0.668995   \n",
       "3   True    cal         -0.098178          0.186973           0.668160   \n",
       "4   True  train         -0.183694          0.277668           0.666911   \n",
       "\n",
       "   xGood2_logit_code  \n",
       "0          -0.307786  \n",
       "1          -5.210274  \n",
       "2          -0.220700  \n",
       "3           0.086281  \n",
       "4           0.665988  "
      ]
     },
     "execution_count": 37,
     "metadata": {},
     "output_type": "execute_result"
    }
   ],
   "source": [
    "dTrain = d.loc[d['rgroup']!='test', :].copy()\n",
    "dTest = d.loc[d['rgroup']=='test', :].copy()\n",
    "treatments = vtreat.BinomialOutcomeTreatment(outcome_name='y',\n",
    "                                             cols_to_copy=['rgroup'],\n",
    "                                             outcome_target=True,\n",
    "                                             params = vtreat.vtreat_parameters({\n",
    "                                                 'filter_to_recommended':False,\n",
    "                                                 'coders':['logit_code']\n",
    "                                             }))\n",
    "treatments.fit(dTrain, dTrain['y'])\n",
    "dTrainTreated = treatments.transform(dTrain)\n",
    "dTrainTreated.head()"
   ]
  },
  {
   "cell_type": "code",
   "execution_count": 38,
   "metadata": {
    "pycharm": {
     "is_executing": false
    }
   },
   "outputs": [
    {
     "data": {
      "text/plain": [
       "['xBad1_logit_code',\n",
       " 'xBad2_logit_code',\n",
       " 'xGood1_logit_code',\n",
       " 'xGood2_logit_code']"
      ]
     },
     "execution_count": 38,
     "metadata": {},
     "output_type": "execute_result"
    }
   ],
   "source": [
    "vars = [v for v in treatments.score_frame_['variable']]\n",
    "vars"
   ]
  },
  {
   "cell_type": "code",
   "execution_count": 39,
   "metadata": {
    "pycharm": {
     "is_executing": false
    }
   },
   "outputs": [],
   "source": [
    "## ----naivefit, warning=FALSE---------------------------------------------"
   ]
  },
  {
   "cell_type": "code",
   "execution_count": 40,
   "metadata": {
    "pycharm": {
     "is_executing": false
    }
   },
   "outputs": [
    {
     "name": "stdout",
     "output_type": "stream",
     "text": [
      "[1.02558567]\n",
      "[[3.06219465 2.87873139 3.28130417 4.09167914]]\n"
     ]
    }
   ],
   "source": [
    "import sklearn.linear_model\n",
    "\n",
    "m1 = sklearn.linear_model.LogisticRegression().fit(\n",
    "    dTrainTreated[vars], dTrainTreated['y'])\n",
    "print(m1.intercept_)\n",
    "print(m1.coef_)"
   ]
  },
  {
   "cell_type": "code",
   "execution_count": 41,
   "metadata": {
    "pycharm": {
     "is_executing": false
    }
   },
   "outputs": [],
   "source": [
    "## ----nf2-----------------------------------------------------------------"
   ]
  },
  {
   "cell_type": "code",
   "execution_count": 42,
   "metadata": {
    "pycharm": {
     "is_executing": false
    }
   },
   "outputs": [],
   "source": [
    "dTrain['predM1'] = m1.predict_proba(dTrainTreated[vars])[:, 1]"
   ]
  },
  {
   "cell_type": "code",
   "execution_count": 43,
   "metadata": {
    "pycharm": {
     "is_executing": false
    }
   },
   "outputs": [
    {
     "data": {
      "text/html": [
       "<div>\n",
       "<style scoped>\n",
       "    .dataframe tbody tr th:only-of-type {\n",
       "        vertical-align: middle;\n",
       "    }\n",
       "\n",
       "    .dataframe tbody tr th {\n",
       "        vertical-align: top;\n",
       "    }\n",
       "\n",
       "    .dataframe thead th {\n",
       "        text-align: right;\n",
       "    }\n",
       "</style>\n",
       "<table border=\"1\" class=\"dataframe\">\n",
       "  <thead>\n",
       "    <tr style=\"text-align: right;\">\n",
       "      <th></th>\n",
       "      <th>xBad1</th>\n",
       "      <th>xBad2</th>\n",
       "      <th>xGood1</th>\n",
       "      <th>xGood2</th>\n",
       "      <th>y</th>\n",
       "      <th>rgroup</th>\n",
       "      <th>predM1</th>\n",
       "    </tr>\n",
       "  </thead>\n",
       "  <tbody>\n",
       "    <tr>\n",
       "      <th>0</th>\n",
       "      <td>level246</td>\n",
       "      <td>level135</td>\n",
       "      <td>level316</td>\n",
       "      <td>level324</td>\n",
       "      <td>False</td>\n",
       "      <td>train</td>\n",
       "      <td>3.221282e-09</td>\n",
       "    </tr>\n",
       "    <tr>\n",
       "      <th>2</th>\n",
       "      <td>level93</td>\n",
       "      <td>level163</td>\n",
       "      <td>level57</td>\n",
       "      <td>level426</td>\n",
       "      <td>False</td>\n",
       "      <td>train</td>\n",
       "      <td>3.453925e-16</td>\n",
       "    </tr>\n",
       "    <tr>\n",
       "      <th>4</th>\n",
       "      <td>level21</td>\n",
       "      <td>level422</td>\n",
       "      <td>level111</td>\n",
       "      <td>level179</td>\n",
       "      <td>True</td>\n",
       "      <td>train</td>\n",
       "      <td>9.759237e-01</td>\n",
       "    </tr>\n",
       "    <tr>\n",
       "      <th>5</th>\n",
       "      <td>level447</td>\n",
       "      <td>level378</td>\n",
       "      <td>level228</td>\n",
       "      <td>level224</td>\n",
       "      <td>True</td>\n",
       "      <td>cal</td>\n",
       "      <td>9.783033e-01</td>\n",
       "    </tr>\n",
       "    <tr>\n",
       "      <th>8</th>\n",
       "      <td>level472</td>\n",
       "      <td>level376</td>\n",
       "      <td>level245</td>\n",
       "      <td>level206</td>\n",
       "      <td>True</td>\n",
       "      <td>train</td>\n",
       "      <td>9.979251e-01</td>\n",
       "    </tr>\n",
       "  </tbody>\n",
       "</table>\n",
       "</div>"
      ],
      "text/plain": [
       "      xBad1     xBad2    xGood1    xGood2      y rgroup        predM1\n",
       "0  level246  level135  level316  level324  False  train  3.221282e-09\n",
       "2   level93  level163   level57  level426  False  train  3.453925e-16\n",
       "4   level21  level422  level111  level179   True  train  9.759237e-01\n",
       "5  level447  level378  level228  level224   True    cal  9.783033e-01\n",
       "8  level472  level376  level245  level206   True  train  9.979251e-01"
      ]
     },
     "execution_count": 43,
     "metadata": {},
     "output_type": "execute_result"
    }
   ],
   "source": [
    "dTrain.head()"
   ]
  },
  {
   "cell_type": "code",
   "execution_count": 44,
   "metadata": {
    "pycharm": {
     "is_executing": false
    }
   },
   "outputs": [
    {
     "name": "stdout",
     "output_type": "stream",
     "text": [
      "model1 on train\n",
      "confusion matrix:\n",
      " [[1084   82]\n",
      " [  50 1171]]\n",
      "auc: 0.99\n",
      "accuracy: 0.94\n",
      "precision: 0.93\n",
      "recall: 0.96\n"
     ]
    }
   ],
   "source": [
    "plotRes(dTrain, 'predM1', 'y', 'model1 on train')"
   ]
  },
  {
   "cell_type": "code",
   "execution_count": null,
   "metadata": {
    "pycharm": {
     "is_executing": false
    }
   },
   "outputs": [],
   "source": []
  },
  {
   "cell_type": "markdown",
   "metadata": {},
   "source": [
    "R original"
   ]
  },
  {
   "cell_type": "raw",
   "metadata": {},
   "source": [
    "## ----nftest, message=FALSE, warning=FALSE--------------------------------\n",
    "dTestTreated <- vtreat::prepare(treatments, dTest, pruneSig=NULL)\n",
    "dTest$predM1 <- predict(m1, newdata=dTestTreated, type='response')\n",
    "plotRes(dTest, 'predM1', 'y', 'model1 on test')"
   ]
  },
  {
   "cell_type": "markdown",
   "metadata": {},
   "source": [
    "Python version"
   ]
  },
  {
   "cell_type": "code",
   "execution_count": 45,
   "metadata": {
    "pycharm": {
     "is_executing": false
    }
   },
   "outputs": [
    {
     "name": "stdout",
     "output_type": "stream",
     "text": [
      "model1 on test\n",
      "confusion matrix:\n",
      " [[234  47]\n",
      " [ 91 241]]\n",
      "auc: 0.83\n",
      "accuracy: 0.77\n",
      "precision: 0.84\n",
      "recall: 0.73\n"
     ]
    }
   ],
   "source": [
    "dTestTreated = treatments.transform(dTest)\n",
    "dTest['predM1'] = m1.predict_proba(dTestTreated[vars])[:,1]\n",
    "plotRes(dTest, 'predM1', 'y', 'model1 on test')"
   ]
  },
  {
   "cell_type": "code",
   "execution_count": null,
   "metadata": {
    "pycharm": {
     "is_executing": false
    }
   },
   "outputs": [],
   "source": []
  },
  {
   "cell_type": "markdown",
   "metadata": {},
   "source": [
    "R original"
   ]
  },
  {
   "cell_type": "raw",
   "metadata": {},
   "source": [
    "## ----calset1, message=FALSE, warning=FALSE-------------------------------\n",
    "dCal <- d[d$rgroup=='cal', , drop=FALSE]\n",
    "dTrain <- d[d$rgroup=='train', , drop=FALSE]\n",
    "dTest <- d[d$rgroup=='test', , drop=FALSE]\n",
    "treatments <- vtreat::designTreatmentsC(dCal, \n",
    "                varlist = c('xBad1', 'xBad2', 'xGood1', 'xGood2'), \n",
    "                outcomename='y', outcometarget=TRUE, \n",
    "                verbose=FALSE)\n",
    "dTrainTreated <- vtreat::prepare(treatments, dTrain, \n",
    "                        pruneSig=NULL)\n",
    "newvars <- setdiff(colnames(dTrainTreated), 'y')\n",
    "m1 <- glm(y~xBad1_catB + xBad2_catB + xGood1_catB + xGood2_catB, \n",
    "          data=dTrainTreated, family=binomial(link='logit'))\n",
    "dTrain$predM1 <- predict(m1, newdata=dTrainTreated, type='response')\n",
    "print(summary(m1))\n",
    "\n",
    "\n",
    "## ----calset2-------------------------------------------------------------\n",
    "plotRes(dTrain, 'predM1', 'y', 'model1 on train')\n",
    "\n",
    "\n",
    "## ----calset3-------------------------------------------------------------\n",
    "dTestTreated <- vtreat::prepare(treatments, dTest, \n",
    "                                pruneSig=NULL)\n",
    "dTest$predM1 <- predict(m1, newdata=dTestTreated, type='response')\n",
    "plotRes(dTest, 'predM1', 'y', 'model1 on test')"
   ]
  },
  {
   "cell_type": "code",
   "execution_count": 46,
   "metadata": {
    "pycharm": {
     "is_executing": false
    }
   },
   "outputs": [],
   "source": [
    "## ----calset1, message=FALSE, warning=FALSE-------------------------------"
   ]
  },
  {
   "cell_type": "code",
   "execution_count": 47,
   "metadata": {
    "pycharm": {
     "is_executing": false
    }
   },
   "outputs": [],
   "source": [
    "dCal = d.loc[d['rgroup']=='cal', :].copy()\n",
    "dTrain = d.loc[d['rgroup']=='train', :].copy()\n",
    "dTest = d.loc[d['rgroup']=='test', :].copy()\n",
    "\n",
    "treatments = vtreat.BinomialOutcomeTreatment(outcome_name='y',\n",
    "                                             cols_to_copy=['rgroup'],\n",
    "                                             outcome_target=True,\n",
    "                                             params = vtreat.vtreat_parameters({\n",
    "                                                 'filter_to_recommended':False,\n",
    "                                                 'coders':['logit_code']\n",
    "                                             }))\n",
    "treatments.fit(dCal, dCal['y'])\n",
    "dTrainTreated = treatments.transform(dTrain)\n",
    "newvars = [v for v in treatments.score_frame_['variable']]\n",
    "m1 = sklearn.linear_model.LogisticRegression().fit(\n",
    "    dTrainTreated[newvars], dTrainTreated['y'])\n",
    "dTrain['predM1'] = m1.predict_proba(dTrainTreated[vars])[:,1]"
   ]
  },
  {
   "cell_type": "code",
   "execution_count": 48,
   "metadata": {
    "pycharm": {
     "is_executing": false
    }
   },
   "outputs": [],
   "source": [
    "## ----calset2-------------------------------------------------------------"
   ]
  },
  {
   "cell_type": "code",
   "execution_count": 49,
   "metadata": {
    "pycharm": {
     "is_executing": false
    }
   },
   "outputs": [
    {
     "name": "stdout",
     "output_type": "stream",
     "text": [
      "model1 on train\n",
      "confusion matrix:\n",
      " [[180 116]\n",
      " [ 17 299]]\n",
      "auc: 0.91\n",
      "accuracy: 0.78\n",
      "precision: 0.72\n",
      "recall: 0.95\n"
     ]
    }
   ],
   "source": [
    "plotRes(dTrain, 'predM1', 'y', 'model1 on train')"
   ]
  },
  {
   "cell_type": "code",
   "execution_count": 50,
   "metadata": {
    "pycharm": {
     "is_executing": false
    }
   },
   "outputs": [],
   "source": [
    "## ----calset3-------------------------------------------------------------"
   ]
  },
  {
   "cell_type": "code",
   "execution_count": 51,
   "metadata": {
    "pycharm": {
     "is_executing": false
    }
   },
   "outputs": [
    {
     "name": "stdout",
     "output_type": "stream",
     "text": [
      "model1 on test\n",
      "confusion matrix:\n",
      " [[172 109]\n",
      " [ 25 307]]\n",
      "auc: 0.90\n",
      "accuracy: 0.78\n",
      "precision: 0.74\n",
      "recall: 0.92\n"
     ]
    }
   ],
   "source": [
    "dTest['predM1'] = m1.predict_proba(dTestTreated[vars])[:,1]\n",
    "plotRes(dTest, 'predM1', 'y', 'model1 on test')"
   ]
  },
  {
   "cell_type": "code",
   "execution_count": null,
   "metadata": {
    "pycharm": {
     "is_executing": false
    }
   },
   "outputs": [],
   "source": []
  },
  {
   "cell_type": "markdown",
   "metadata": {},
   "source": [
    "R original"
   ]
  },
  {
   "cell_type": "raw",
   "metadata": {},
   "source": [
    "## ----sigprune_data-------------------------------------------------------\n",
    "set.seed(22451)\n",
    "N <- 500\n",
    "sigN <- rnorm(N)\n",
    "noiseN <- rnorm(N)\n",
    "Nlevels <- 100\n",
    "zip <- paste0('z', format(1:Nlevels, justify=\"right\"))\n",
    "zip <- gsub(' ', '0', zip, fixed=TRUE)\n",
    "\n",
    "zipval <- runif(Nlevels); names(zipval)=zip\n",
    "sigC <- sample(zip, size=N, replace=TRUE)\n",
    "noiseC <- sample(zip, size=N, replace=TRUE)\n",
    "\n",
    "y <- sigN + zipval[sigC] + rnorm(N)\n",
    "df <- data.frame(sN = sigN, nN=noiseN, \n",
    "                sC = sigC, nC=noiseC, y=y)\n",
    "\n",
    "\n"
   ]
  },
  {
   "cell_type": "markdown",
   "metadata": {},
   "source": [
    "Python version"
   ]
  },
  {
   "cell_type": "code",
   "execution_count": 52,
   "metadata": {
    "pycharm": {
     "is_executing": false
    }
   },
   "outputs": [],
   "source": [
    "## ----sigprune_data-------------------------------------------------------"
   ]
  },
  {
   "cell_type": "code",
   "execution_count": 53,
   "metadata": {
    "pycharm": {
     "is_executing": false
    }
   },
   "outputs": [
    {
     "data": {
      "text/html": [
       "<div>\n",
       "<style scoped>\n",
       "    .dataframe tbody tr th:only-of-type {\n",
       "        vertical-align: middle;\n",
       "    }\n",
       "\n",
       "    .dataframe tbody tr th {\n",
       "        vertical-align: top;\n",
       "    }\n",
       "\n",
       "    .dataframe thead th {\n",
       "        text-align: right;\n",
       "    }\n",
       "</style>\n",
       "<table border=\"1\" class=\"dataframe\">\n",
       "  <thead>\n",
       "    <tr style=\"text-align: right;\">\n",
       "      <th></th>\n",
       "      <th>sN</th>\n",
       "      <th>nN</th>\n",
       "      <th>sC</th>\n",
       "      <th>nC</th>\n",
       "      <th>y</th>\n",
       "    </tr>\n",
       "  </thead>\n",
       "  <tbody>\n",
       "    <tr>\n",
       "      <th>0</th>\n",
       "      <td>-0.134210</td>\n",
       "      <td>497.590133</td>\n",
       "      <td>z00042</td>\n",
       "      <td>z00027</td>\n",
       "      <td>-0.196731</td>\n",
       "    </tr>\n",
       "    <tr>\n",
       "      <th>1</th>\n",
       "      <td>0.260726</td>\n",
       "      <td>497.590133</td>\n",
       "      <td>z00060</td>\n",
       "      <td>z00005</td>\n",
       "      <td>0.766681</td>\n",
       "    </tr>\n",
       "    <tr>\n",
       "      <th>2</th>\n",
       "      <td>0.133719</td>\n",
       "      <td>497.590133</td>\n",
       "      <td>z00054</td>\n",
       "      <td>z00091</td>\n",
       "      <td>-0.938968</td>\n",
       "    </tr>\n",
       "    <tr>\n",
       "      <th>3</th>\n",
       "      <td>-0.438525</td>\n",
       "      <td>497.590133</td>\n",
       "      <td>z00032</td>\n",
       "      <td>z00084</td>\n",
       "      <td>-0.840667</td>\n",
       "    </tr>\n",
       "    <tr>\n",
       "      <th>4</th>\n",
       "      <td>0.532758</td>\n",
       "      <td>497.590133</td>\n",
       "      <td>z00078</td>\n",
       "      <td>z00069</td>\n",
       "      <td>1.033514</td>\n",
       "    </tr>\n",
       "  </tbody>\n",
       "</table>\n",
       "</div>"
      ],
      "text/plain": [
       "         sN          nN      sC      nC         y\n",
       "0 -0.134210  497.590133  z00042  z00027 -0.196731\n",
       "1  0.260726  497.590133  z00060  z00005  0.766681\n",
       "2  0.133719  497.590133  z00054  z00091 -0.938968\n",
       "3 -0.438525  497.590133  z00032  z00084 -0.840667\n",
       "4  0.532758  497.590133  z00078  z00069  1.033514"
      ]
     },
     "execution_count": 53,
     "metadata": {},
     "output_type": "execute_result"
    }
   ],
   "source": [
    "numpy.random.seed(22451)\n",
    "N = 500\n",
    "sigN = numpy.random.normal(size=N)\n",
    "noiseN = numpy.random.normal(N)\n",
    "Nlevels = 100\n",
    "zip = ['z' + str(i+1).zfill(5) for i in range(Nlevels)]\n",
    "zipval = { z:numpy.random.uniform(size=1)[0] for z in zip }\n",
    "sigC = numpy.random.choice(zip, size=N)\n",
    "noiseC = numpy.random.choice(zip, size=N)\n",
    "y = (numpy.asarray(sigN) + \n",
    "     numpy.asarray([zipval[v] for v in sigC]) + \n",
    "     numpy.random.normal(size=N))\n",
    "df = pandas.DataFrame({'sN':sigN, \n",
    "                       'nN':noiseN, \n",
    "                       'sC':sigC, \n",
    "                       'nC':noiseC,\n",
    "                       'y':y})\n",
    "df.head()"
   ]
  },
  {
   "cell_type": "code",
   "execution_count": null,
   "metadata": {
    "pycharm": {
     "is_executing": false
    }
   },
   "outputs": [],
   "source": []
  },
  {
   "cell_type": "markdown",
   "metadata": {},
   "source": [
    "R original"
   ]
  },
  {
   "cell_type": "raw",
   "metadata": {},
   "source": [
    "## ----sigprune_treat------------------------------------------------------\n",
    "library(\"vtreat\")\n",
    "treatplan <- designTreatmentsN(df, \n",
    "                             varlist=setdiff(colnames(df), \"y\"), \n",
    "                             outcomename=\"y\", \n",
    "                             verbose=FALSE)\n",
    "sframe <- treatplan$scoreFrame\n",
    "vars <- sframe$varName[!(sframe$code %in% c(\"catP\", \"catD\"))]\n",
    "sframe[sframe$varName %in% vars, \n",
    "       c(\"varName\", \"sig\", \"extraModelDegrees\")]\n"
   ]
  },
  {
   "cell_type": "markdown",
   "metadata": {},
   "source": [
    "Python version"
   ]
  },
  {
   "cell_type": "code",
   "execution_count": 54,
   "metadata": {
    "pycharm": {
     "is_executing": false
    }
   },
   "outputs": [],
   "source": [
    "## ----sigprune_treat------------------------------------------------------"
   ]
  },
  {
   "cell_type": "code",
   "execution_count": 55,
   "metadata": {
    "pycharm": {
     "is_executing": false
    }
   },
   "outputs": [
    {
     "data": {
      "text/html": [
       "<div>\n",
       "<style scoped>\n",
       "    .dataframe tbody tr th:only-of-type {\n",
       "        vertical-align: middle;\n",
       "    }\n",
       "\n",
       "    .dataframe tbody tr th {\n",
       "        vertical-align: top;\n",
       "    }\n",
       "\n",
       "    .dataframe thead th {\n",
       "        text-align: right;\n",
       "    }\n",
       "</style>\n",
       "<table border=\"1\" class=\"dataframe\">\n",
       "  <thead>\n",
       "    <tr style=\"text-align: right;\">\n",
       "      <th></th>\n",
       "      <th>variable</th>\n",
       "      <th>orig_variable</th>\n",
       "      <th>treatment</th>\n",
       "      <th>y_aware</th>\n",
       "      <th>has_range</th>\n",
       "      <th>PearsonR</th>\n",
       "      <th>significance</th>\n",
       "      <th>vcount</th>\n",
       "      <th>default_threshold</th>\n",
       "      <th>recommended</th>\n",
       "    </tr>\n",
       "  </thead>\n",
       "  <tbody>\n",
       "    <tr>\n",
       "      <th>0</th>\n",
       "      <td>sN</td>\n",
       "      <td>sN</td>\n",
       "      <td>clean_copy</td>\n",
       "      <td>False</td>\n",
       "      <td>True</td>\n",
       "      <td>0.716235</td>\n",
       "      <td>7.825971e-80</td>\n",
       "      <td>1.0</td>\n",
       "      <td>0.250</td>\n",
       "      <td>True</td>\n",
       "    </tr>\n",
       "    <tr>\n",
       "      <th>1</th>\n",
       "      <td>sC_impact_code</td>\n",
       "      <td>sC</td>\n",
       "      <td>impact_code</td>\n",
       "      <td>True</td>\n",
       "      <td>True</td>\n",
       "      <td>0.097654</td>\n",
       "      <td>2.900827e-02</td>\n",
       "      <td>2.0</td>\n",
       "      <td>0.125</td>\n",
       "      <td>True</td>\n",
       "    </tr>\n",
       "    <tr>\n",
       "      <th>2</th>\n",
       "      <td>sC_deviation_code</td>\n",
       "      <td>sC</td>\n",
       "      <td>deviation_code</td>\n",
       "      <td>True</td>\n",
       "      <td>True</td>\n",
       "      <td>-0.008458</td>\n",
       "      <td>8.503599e-01</td>\n",
       "      <td>2.0</td>\n",
       "      <td>0.125</td>\n",
       "      <td>False</td>\n",
       "    </tr>\n",
       "    <tr>\n",
       "      <th>3</th>\n",
       "      <td>sC_prevalence_code</td>\n",
       "      <td>sC</td>\n",
       "      <td>prevalence_code</td>\n",
       "      <td>False</td>\n",
       "      <td>True</td>\n",
       "      <td>0.010933</td>\n",
       "      <td>8.073285e-01</td>\n",
       "      <td>2.0</td>\n",
       "      <td>0.125</td>\n",
       "      <td>False</td>\n",
       "    </tr>\n",
       "    <tr>\n",
       "      <th>4</th>\n",
       "      <td>nC_impact_code</td>\n",
       "      <td>nC</td>\n",
       "      <td>impact_code</td>\n",
       "      <td>True</td>\n",
       "      <td>True</td>\n",
       "      <td>-0.007808</td>\n",
       "      <td>8.617447e-01</td>\n",
       "      <td>2.0</td>\n",
       "      <td>0.125</td>\n",
       "      <td>False</td>\n",
       "    </tr>\n",
       "    <tr>\n",
       "      <th>5</th>\n",
       "      <td>nC_deviation_code</td>\n",
       "      <td>nC</td>\n",
       "      <td>deviation_code</td>\n",
       "      <td>True</td>\n",
       "      <td>True</td>\n",
       "      <td>0.008380</td>\n",
       "      <td>8.517242e-01</td>\n",
       "      <td>2.0</td>\n",
       "      <td>0.125</td>\n",
       "      <td>False</td>\n",
       "    </tr>\n",
       "    <tr>\n",
       "      <th>6</th>\n",
       "      <td>nC_prevalence_code</td>\n",
       "      <td>nC</td>\n",
       "      <td>prevalence_code</td>\n",
       "      <td>False</td>\n",
       "      <td>True</td>\n",
       "      <td>0.021464</td>\n",
       "      <td>6.320796e-01</td>\n",
       "      <td>2.0</td>\n",
       "      <td>0.125</td>\n",
       "      <td>False</td>\n",
       "    </tr>\n",
       "  </tbody>\n",
       "</table>\n",
       "</div>"
      ],
      "text/plain": [
       "             variable orig_variable        treatment  y_aware  has_range  \\\n",
       "0                  sN            sN       clean_copy    False       True   \n",
       "1      sC_impact_code            sC      impact_code     True       True   \n",
       "2   sC_deviation_code            sC   deviation_code     True       True   \n",
       "3  sC_prevalence_code            sC  prevalence_code    False       True   \n",
       "4      nC_impact_code            nC      impact_code     True       True   \n",
       "5   nC_deviation_code            nC   deviation_code     True       True   \n",
       "6  nC_prevalence_code            nC  prevalence_code    False       True   \n",
       "\n",
       "   PearsonR  significance  vcount  default_threshold  recommended  \n",
       "0  0.716235  7.825971e-80     1.0              0.250         True  \n",
       "1  0.097654  2.900827e-02     2.0              0.125         True  \n",
       "2 -0.008458  8.503599e-01     2.0              0.125        False  \n",
       "3  0.010933  8.073285e-01     2.0              0.125        False  \n",
       "4 -0.007808  8.617447e-01     2.0              0.125        False  \n",
       "5  0.008380  8.517242e-01     2.0              0.125        False  \n",
       "6  0.021464  6.320796e-01     2.0              0.125        False  "
      ]
     },
     "execution_count": 55,
     "metadata": {},
     "output_type": "execute_result"
    }
   ],
   "source": [
    "treatplan = vtreat.NumericOutcomeTreatment(outcome_name='y') \n",
    "treatplan.fit(df, df['y'])\n",
    "treatplan.score_frame_\n",
    "sframe = treatplan.score_frame_.copy()\n",
    "sframe = sframe.loc[sframe['treatment']!='indicator_code', :]\n",
    "sframe.reset_index(inplace=True, drop=True)\n",
    "sframe"
   ]
  },
  {
   "cell_type": "code",
   "execution_count": null,
   "metadata": {
    "pycharm": {
     "is_executing": false
    }
   },
   "outputs": [],
   "source": []
  },
  {
   "cell_type": "markdown",
   "metadata": {},
   "source": [
    "R original"
   ]
  },
  {
   "cell_type": "raw",
   "metadata": {},
   "source": [
    "## ----sigprune_plot, echo=FALSE, fig.width=6, fig.height=4----------------\n",
    "sframe <- sframe[sframe$varName %in% vars, \n",
    "       c(\"varName\", \"sig\", \"extraModelDegrees\", \"origName\")]\n",
    "sframe$varType <- ifelse(sframe$origName %in% c(\"sN\", \"sC\"), \n",
    "                        \"signal\", \"noise\")\n",
    "library(\"ggplot2\")\n",
    "ggplot(sframe, aes(x=reorder(varName, sig), \n",
    "                   y=sig, color=varType, shape=varType)) +\n",
    "  geom_pointrange(aes(ymin=0, ymax=sig)) +\n",
    "  geom_hline(yintercept=1/length(vars), linetype=2, color=\"darkgray\") +\n",
    "  scale_color_manual(values=c(\"signal\" = \"#1b9e77\", \"noise\" = \"#d95f02\")) +\n",
    "  coord_flip()"
   ]
  },
  {
   "cell_type": "markdown",
   "metadata": {},
   "source": [
    "Python version"
   ]
  },
  {
   "cell_type": "code",
   "execution_count": 56,
   "metadata": {
    "pycharm": {
     "is_executing": false
    }
   },
   "outputs": [],
   "source": [
    "## ----sigprune_plot, echo=FALSE, fig.width=6, fig.height=4----------------"
   ]
  },
  {
   "cell_type": "code",
   "execution_count": 57,
   "metadata": {
    "pycharm": {
     "is_executing": false
    }
   },
   "outputs": [
    {
     "data": {
      "text/html": [
       "<div>\n",
       "<style scoped>\n",
       "    .dataframe tbody tr th:only-of-type {\n",
       "        vertical-align: middle;\n",
       "    }\n",
       "\n",
       "    .dataframe tbody tr th {\n",
       "        vertical-align: top;\n",
       "    }\n",
       "\n",
       "    .dataframe thead th {\n",
       "        text-align: right;\n",
       "    }\n",
       "</style>\n",
       "<table border=\"1\" class=\"dataframe\">\n",
       "  <thead>\n",
       "    <tr style=\"text-align: right;\">\n",
       "      <th></th>\n",
       "      <th>variable</th>\n",
       "      <th>orig_variable</th>\n",
       "      <th>treatment</th>\n",
       "      <th>y_aware</th>\n",
       "      <th>has_range</th>\n",
       "      <th>PearsonR</th>\n",
       "      <th>significance</th>\n",
       "      <th>vcount</th>\n",
       "      <th>default_threshold</th>\n",
       "      <th>recommended</th>\n",
       "      <th>varType</th>\n",
       "    </tr>\n",
       "  </thead>\n",
       "  <tbody>\n",
       "    <tr>\n",
       "      <th>0</th>\n",
       "      <td>sN</td>\n",
       "      <td>sN</td>\n",
       "      <td>clean_copy</td>\n",
       "      <td>False</td>\n",
       "      <td>True</td>\n",
       "      <td>0.716235</td>\n",
       "      <td>7.825971e-80</td>\n",
       "      <td>1.0</td>\n",
       "      <td>0.250</td>\n",
       "      <td>True</td>\n",
       "      <td>signal</td>\n",
       "    </tr>\n",
       "    <tr>\n",
       "      <th>1</th>\n",
       "      <td>sC_impact_code</td>\n",
       "      <td>sC</td>\n",
       "      <td>impact_code</td>\n",
       "      <td>True</td>\n",
       "      <td>True</td>\n",
       "      <td>0.097654</td>\n",
       "      <td>2.900827e-02</td>\n",
       "      <td>2.0</td>\n",
       "      <td>0.125</td>\n",
       "      <td>True</td>\n",
       "      <td>signal</td>\n",
       "    </tr>\n",
       "    <tr>\n",
       "      <th>2</th>\n",
       "      <td>sC_deviation_code</td>\n",
       "      <td>sC</td>\n",
       "      <td>deviation_code</td>\n",
       "      <td>True</td>\n",
       "      <td>True</td>\n",
       "      <td>-0.008458</td>\n",
       "      <td>8.503599e-01</td>\n",
       "      <td>2.0</td>\n",
       "      <td>0.125</td>\n",
       "      <td>False</td>\n",
       "      <td>signal</td>\n",
       "    </tr>\n",
       "    <tr>\n",
       "      <th>3</th>\n",
       "      <td>sC_prevalence_code</td>\n",
       "      <td>sC</td>\n",
       "      <td>prevalence_code</td>\n",
       "      <td>False</td>\n",
       "      <td>True</td>\n",
       "      <td>0.010933</td>\n",
       "      <td>8.073285e-01</td>\n",
       "      <td>2.0</td>\n",
       "      <td>0.125</td>\n",
       "      <td>False</td>\n",
       "      <td>signal</td>\n",
       "    </tr>\n",
       "    <tr>\n",
       "      <th>4</th>\n",
       "      <td>nC_impact_code</td>\n",
       "      <td>nC</td>\n",
       "      <td>impact_code</td>\n",
       "      <td>True</td>\n",
       "      <td>True</td>\n",
       "      <td>-0.007808</td>\n",
       "      <td>8.617447e-01</td>\n",
       "      <td>2.0</td>\n",
       "      <td>0.125</td>\n",
       "      <td>False</td>\n",
       "      <td>noise</td>\n",
       "    </tr>\n",
       "    <tr>\n",
       "      <th>5</th>\n",
       "      <td>nC_deviation_code</td>\n",
       "      <td>nC</td>\n",
       "      <td>deviation_code</td>\n",
       "      <td>True</td>\n",
       "      <td>True</td>\n",
       "      <td>0.008380</td>\n",
       "      <td>8.517242e-01</td>\n",
       "      <td>2.0</td>\n",
       "      <td>0.125</td>\n",
       "      <td>False</td>\n",
       "      <td>noise</td>\n",
       "    </tr>\n",
       "    <tr>\n",
       "      <th>6</th>\n",
       "      <td>nC_prevalence_code</td>\n",
       "      <td>nC</td>\n",
       "      <td>prevalence_code</td>\n",
       "      <td>False</td>\n",
       "      <td>True</td>\n",
       "      <td>0.021464</td>\n",
       "      <td>6.320796e-01</td>\n",
       "      <td>2.0</td>\n",
       "      <td>0.125</td>\n",
       "      <td>False</td>\n",
       "      <td>noise</td>\n",
       "    </tr>\n",
       "  </tbody>\n",
       "</table>\n",
       "</div>"
      ],
      "text/plain": [
       "             variable orig_variable        treatment  y_aware  has_range  \\\n",
       "0                  sN            sN       clean_copy    False       True   \n",
       "1      sC_impact_code            sC      impact_code     True       True   \n",
       "2   sC_deviation_code            sC   deviation_code     True       True   \n",
       "3  sC_prevalence_code            sC  prevalence_code    False       True   \n",
       "4      nC_impact_code            nC      impact_code     True       True   \n",
       "5   nC_deviation_code            nC   deviation_code     True       True   \n",
       "6  nC_prevalence_code            nC  prevalence_code    False       True   \n",
       "\n",
       "   PearsonR  significance  vcount  default_threshold  recommended varType  \n",
       "0  0.716235  7.825971e-80     1.0              0.250         True  signal  \n",
       "1  0.097654  2.900827e-02     2.0              0.125         True  signal  \n",
       "2 -0.008458  8.503599e-01     2.0              0.125        False  signal  \n",
       "3  0.010933  8.073285e-01     2.0              0.125        False  signal  \n",
       "4 -0.007808  8.617447e-01     2.0              0.125        False   noise  \n",
       "5  0.008380  8.517242e-01     2.0              0.125        False   noise  \n",
       "6  0.021464  6.320796e-01     2.0              0.125        False   noise  "
      ]
     },
     "execution_count": 57,
     "metadata": {},
     "output_type": "execute_result"
    }
   ],
   "source": [
    "sframe[\"varType\"] = [ \"signal\" if v in set(['sN', 'sC']) else \"noise\" for v in sframe[\"orig_variable\"]]\n",
    "sframe"
   ]
  },
  {
   "cell_type": "code",
   "execution_count": 58,
   "metadata": {
    "pycharm": {
     "is_executing": false
    }
   },
   "outputs": [
    {
     "data": {
      "text/plain": [
       "<matplotlib.axes._subplots.AxesSubplot at 0x1a2198def0>"
      ]
     },
     "execution_count": 58,
     "metadata": {},
     "output_type": "execute_result"
    },
    {
     "data": {
      "image/png": "[encoded data removed]",
      "text/plain": [
       "<Figure size 432x288 with 1 Axes>"
      ]
     },
     "metadata": {
      "needs_background": "light"
     },
     "output_type": "display_data"
    }
   ],
   "source": [
    "import seaborn\n",
    "\n",
    "seaborn.scatterplot(x='significance', y='variable', hue = 'varType', data=sframe)"
   ]
  },
  {
   "cell_type": "code",
   "execution_count": null,
   "metadata": {
    "pycharm": {
     "is_executing": false
    }
   },
   "outputs": [],
   "source": []
  },
  {
   "cell_type": "markdown",
   "metadata": {},
   "source": [
    "R original"
   ]
  },
  {
   "cell_type": "raw",
   "metadata": {},
   "source": [
    "## ----sigprune_prune------------------------------------------------------\n",
    "pruneSig <- 1/length(vars)\n",
    "dfTreat <- prepare(treatplan, df, pruneSig=pruneSig, \n",
    "                  varRestriction=vars)\n",
    "head(dfTreat)"
   ]
  },
  {
   "cell_type": "markdown",
   "metadata": {},
   "source": [
    "Python version"
   ]
  },
  {
   "cell_type": "code",
   "execution_count": 59,
   "metadata": {
    "pycharm": {
     "is_executing": false
    }
   },
   "outputs": [],
   "source": [
    "## ----sigprune_prune------------------------------------------------------"
   ]
  },
  {
   "cell_type": "code",
   "execution_count": 60,
   "metadata": {
    "pycharm": {
     "is_executing": false
    }
   },
   "outputs": [
    {
     "data": {
      "text/html": [
       "<div>\n",
       "<style scoped>\n",
       "    .dataframe tbody tr th:only-of-type {\n",
       "        vertical-align: middle;\n",
       "    }\n",
       "\n",
       "    .dataframe tbody tr th {\n",
       "        vertical-align: top;\n",
       "    }\n",
       "\n",
       "    .dataframe thead th {\n",
       "        text-align: right;\n",
       "    }\n",
       "</style>\n",
       "<table border=\"1\" class=\"dataframe\">\n",
       "  <thead>\n",
       "    <tr style=\"text-align: right;\">\n",
       "      <th></th>\n",
       "      <th>variable</th>\n",
       "      <th>orig_variable</th>\n",
       "      <th>treatment</th>\n",
       "      <th>y_aware</th>\n",
       "      <th>has_range</th>\n",
       "      <th>PearsonR</th>\n",
       "      <th>significance</th>\n",
       "      <th>vcount</th>\n",
       "      <th>default_threshold</th>\n",
       "      <th>recommended</th>\n",
       "      <th>varType</th>\n",
       "    </tr>\n",
       "  </thead>\n",
       "  <tbody>\n",
       "    <tr>\n",
       "      <th>0</th>\n",
       "      <td>sN</td>\n",
       "      <td>sN</td>\n",
       "      <td>clean_copy</td>\n",
       "      <td>False</td>\n",
       "      <td>True</td>\n",
       "      <td>0.716235</td>\n",
       "      <td>7.825971e-80</td>\n",
       "      <td>1.0</td>\n",
       "      <td>0.250</td>\n",
       "      <td>True</td>\n",
       "      <td>signal</td>\n",
       "    </tr>\n",
       "    <tr>\n",
       "      <th>1</th>\n",
       "      <td>sC_impact_code</td>\n",
       "      <td>sC</td>\n",
       "      <td>impact_code</td>\n",
       "      <td>True</td>\n",
       "      <td>True</td>\n",
       "      <td>0.097654</td>\n",
       "      <td>2.900827e-02</td>\n",
       "      <td>2.0</td>\n",
       "      <td>0.125</td>\n",
       "      <td>True</td>\n",
       "      <td>signal</td>\n",
       "    </tr>\n",
       "    <tr>\n",
       "      <th>2</th>\n",
       "      <td>sC_deviation_code</td>\n",
       "      <td>sC</td>\n",
       "      <td>deviation_code</td>\n",
       "      <td>True</td>\n",
       "      <td>True</td>\n",
       "      <td>-0.008458</td>\n",
       "      <td>8.503599e-01</td>\n",
       "      <td>2.0</td>\n",
       "      <td>0.125</td>\n",
       "      <td>False</td>\n",
       "      <td>signal</td>\n",
       "    </tr>\n",
       "    <tr>\n",
       "      <th>3</th>\n",
       "      <td>sC_prevalence_code</td>\n",
       "      <td>sC</td>\n",
       "      <td>prevalence_code</td>\n",
       "      <td>False</td>\n",
       "      <td>True</td>\n",
       "      <td>0.010933</td>\n",
       "      <td>8.073285e-01</td>\n",
       "      <td>2.0</td>\n",
       "      <td>0.125</td>\n",
       "      <td>False</td>\n",
       "      <td>signal</td>\n",
       "    </tr>\n",
       "    <tr>\n",
       "      <th>4</th>\n",
       "      <td>nC_impact_code</td>\n",
       "      <td>nC</td>\n",
       "      <td>impact_code</td>\n",
       "      <td>True</td>\n",
       "      <td>True</td>\n",
       "      <td>-0.007808</td>\n",
       "      <td>8.617447e-01</td>\n",
       "      <td>2.0</td>\n",
       "      <td>0.125</td>\n",
       "      <td>False</td>\n",
       "      <td>noise</td>\n",
       "    </tr>\n",
       "    <tr>\n",
       "      <th>5</th>\n",
       "      <td>nC_deviation_code</td>\n",
       "      <td>nC</td>\n",
       "      <td>deviation_code</td>\n",
       "      <td>True</td>\n",
       "      <td>True</td>\n",
       "      <td>0.008380</td>\n",
       "      <td>8.517242e-01</td>\n",
       "      <td>2.0</td>\n",
       "      <td>0.125</td>\n",
       "      <td>False</td>\n",
       "      <td>noise</td>\n",
       "    </tr>\n",
       "    <tr>\n",
       "      <th>6</th>\n",
       "      <td>nC_prevalence_code</td>\n",
       "      <td>nC</td>\n",
       "      <td>prevalence_code</td>\n",
       "      <td>False</td>\n",
       "      <td>True</td>\n",
       "      <td>0.021464</td>\n",
       "      <td>6.320796e-01</td>\n",
       "      <td>2.0</td>\n",
       "      <td>0.125</td>\n",
       "      <td>False</td>\n",
       "      <td>noise</td>\n",
       "    </tr>\n",
       "  </tbody>\n",
       "</table>\n",
       "</div>"
      ],
      "text/plain": [
       "             variable orig_variable        treatment  y_aware  has_range  \\\n",
       "0                  sN            sN       clean_copy    False       True   \n",
       "1      sC_impact_code            sC      impact_code     True       True   \n",
       "2   sC_deviation_code            sC   deviation_code     True       True   \n",
       "3  sC_prevalence_code            sC  prevalence_code    False       True   \n",
       "4      nC_impact_code            nC      impact_code     True       True   \n",
       "5   nC_deviation_code            nC   deviation_code     True       True   \n",
       "6  nC_prevalence_code            nC  prevalence_code    False       True   \n",
       "\n",
       "   PearsonR  significance  vcount  default_threshold  recommended varType  \n",
       "0  0.716235  7.825971e-80     1.0              0.250         True  signal  \n",
       "1  0.097654  2.900827e-02     2.0              0.125         True  signal  \n",
       "2 -0.008458  8.503599e-01     2.0              0.125        False  signal  \n",
       "3  0.010933  8.073285e-01     2.0              0.125        False  signal  \n",
       "4 -0.007808  8.617447e-01     2.0              0.125        False   noise  \n",
       "5  0.008380  8.517242e-01     2.0              0.125        False   noise  \n",
       "6  0.021464  6.320796e-01     2.0              0.125        False   noise  "
      ]
     },
     "execution_count": 60,
     "metadata": {},
     "output_type": "execute_result"
    }
   ],
   "source": [
    "sframe"
   ]
  },
  {
   "cell_type": "code",
   "execution_count": null,
   "metadata": {
    "pycharm": {
     "is_executing": false
    }
   },
   "outputs": [],
   "source": []
  }
 ],
 "metadata": {
  "kernelspec": {
   "display_name": "Python 3",
   "language": "python",
   "name": "python3"
  },
  "language_info": {
   "codemirror_mode": {
    "name": "ipython",
    "version": 3
   },
   "file_extension": ".py",
   "mimetype": "text/x-python",
   "name": "python",
   "nbconvert_exporter": "python",
   "pygments_lexer": "ipython3",
   "version": "3.6.9"
  }
 },
 "nbformat": 4,
 "nbformat_minor": 4
}
