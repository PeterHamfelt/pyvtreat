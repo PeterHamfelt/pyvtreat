{
 "cells": [
  {
   "cell_type": "markdown",
   "metadata": {},
   "source": [
    "Translating the R sequences from https://arxiv.org/abs/1611.09477 into Python vtreat https://github.com/WinVector/pyvtreat"
   ]
  },
  {
   "cell_type": "code",
   "execution_count": null,
   "metadata": {},
   "outputs": [],
   "source": []
  },
  {
   "cell_type": "markdown",
   "metadata": {},
   "source": [
    "R original"
   ]
  },
  {
   "cell_type": "raw",
   "metadata": {},
   "source": [
    "## ----msleep, tidy=TRUE---------------------------------------------------\n",
    "library(\"ggplot2\")\n",
    "data(\"msleep\")\n",
    "str(msleep, width=70, strict.width='cut')\n",
    "\n",
    "\n",
    "## ----isbad---------------------------------------------------------------\n",
    "msleep$sleep_rem_isBAD <- is.na(msleep$sleep_rem)\n",
    "msleep$sleep_rem <- ifelse(msleep$sleep_rem_isBAD, \n",
    "                           mean(msleep$sleep_rem, na.rm=TRUE), \n",
    "\t\t           msleep$sleep_rem)"
   ]
  },
  {
   "cell_type": "markdown",
   "metadata": {},
   "source": [
    "Python translation"
   ]
  },
  {
   "cell_type": "code",
   "execution_count": 22,
   "metadata": {},
   "outputs": [],
   "source": [
    "## ----msleep, tidy=TRUE---------------------------------------------------"
   ]
  },
  {
   "cell_type": "code",
   "execution_count": null,
   "metadata": {},
   "outputs": [],
   "source": [
    "import pandas\n",
    "import vtreat # https://github.com/WinVector/pyvtreat\n",
    "\n",
    "\n",
    "msleep = pandas.read_csv('msleep.csv')\n",
    "msleep.head()"
   ]
  },
  {
   "cell_type": "code",
   "execution_count": null,
   "metadata": {},
   "outputs": [],
   "source": [
    "## ----isbad---------------------------------------------------------------"
   ]
  },
  {
   "cell_type": "code",
   "execution_count": null,
   "metadata": {},
   "outputs": [],
   "source": [
    "unsupervised_transform = vtreat.UnsupervisedTreatment()\n",
    "msleep_prepared = unsupervised_transform.fit_transform(msleep)\n",
    "msleep_prepared.head()"
   ]
  },
  {
   "cell_type": "code",
   "execution_count": null,
   "metadata": {},
   "outputs": [],
   "source": [
    "msleep_prepared.columns"
   ]
  },
  {
   "cell_type": "code",
   "execution_count": null,
   "metadata": {},
   "outputs": [],
   "source": []
  },
  {
   "cell_type": "markdown",
   "metadata": {},
   "source": [
    "R original"
   ]
  },
  {
   "cell_type": "raw",
   "metadata": {},
   "source": [
    "## ----novel, error=TRUE---------------------------------------------------\n",
    "df <- data.frame(x=c('a', 'a', 'b', 'b', 'c', 'c'), \n",
    "                 y=1:6, \n",
    "                 stringsAsFactors=FALSE)\n",
    "model <- lm(y~x, data=df)\n",
    "newdata <- data.frame(x=c('a', 'b', 'c', 'd'), \n",
    "                      stringsAsFactors=FALSE)\n",
    "tryCatch(\n",
    "   predict(model, newdata=newdata), \n",
    "   error = function(e) print(strwrap(e)))\n",
    "\n",
    "\n",
    "## ----vtreat, results='hide'----------------------------------------------\n",
    "library(\"vtreat\")\n",
    "treatplan <- designTreatmentsN(df, 'x', 'y')\n",
    "varnames <- treatplan$scoreFrame$varName[treatplan$scoreFrame$cod==\"lev\"]\n",
    "newdata_treat <- prepare(treatplan, newdata, \n",
    "                         pruneSig=NULL, varRestriction=varnames)\n",
    "\n",
    "\n",
    "## ----indicators1---------------------------------------------------------\n",
    "print(newdata)\n",
    "\n",
    "\n",
    "## ----indicators2---------------------------------------------------------\n",
    "print(newdata_treat)"
   ]
  },
  {
   "cell_type": "markdown",
   "metadata": {},
   "source": [
    "Python translation"
   ]
  },
  {
   "cell_type": "code",
   "execution_count": null,
   "metadata": {},
   "outputs": [],
   "source": [
    "## ----novel, error=TRUE---------------------------------------------------"
   ]
  },
  {
   "cell_type": "code",
   "execution_count": 4,
   "metadata": {},
   "outputs": [
    {
     "data": {
      "text/html": [
       "<div>\n",
       "<style scoped>\n",
       "    .dataframe tbody tr th:only-of-type {\n",
       "        vertical-align: middle;\n",
       "    }\n",
       "\n",
       "    .dataframe tbody tr th {\n",
       "        vertical-align: top;\n",
       "    }\n",
       "\n",
       "    .dataframe thead th {\n",
       "        text-align: right;\n",
       "    }\n",
       "</style>\n",
       "<table border=\"1\" class=\"dataframe\">\n",
       "  <thead>\n",
       "    <tr style=\"text-align: right;\">\n",
       "      <th></th>\n",
       "      <th>x</th>\n",
       "      <th>y</th>\n",
       "    </tr>\n",
       "  </thead>\n",
       "  <tbody>\n",
       "    <tr>\n",
       "      <th>0</th>\n",
       "      <td>a</td>\n",
       "      <td>1</td>\n",
       "    </tr>\n",
       "    <tr>\n",
       "      <th>1</th>\n",
       "      <td>a</td>\n",
       "      <td>2</td>\n",
       "    </tr>\n",
       "    <tr>\n",
       "      <th>2</th>\n",
       "      <td>b</td>\n",
       "      <td>3</td>\n",
       "    </tr>\n",
       "    <tr>\n",
       "      <th>3</th>\n",
       "      <td>b</td>\n",
       "      <td>4</td>\n",
       "    </tr>\n",
       "    <tr>\n",
       "      <th>4</th>\n",
       "      <td>c</td>\n",
       "      <td>5</td>\n",
       "    </tr>\n",
       "    <tr>\n",
       "      <th>5</th>\n",
       "      <td>c</td>\n",
       "      <td>6</td>\n",
       "    </tr>\n",
       "  </tbody>\n",
       "</table>\n",
       "</div>"
      ],
      "text/plain": [
       "   x  y\n",
       "0  a  1\n",
       "1  a  2\n",
       "2  b  3\n",
       "3  b  4\n",
       "4  c  5\n",
       "5  c  6"
      ]
     },
     "execution_count": 4,
     "metadata": {},
     "output_type": "execute_result"
    }
   ],
   "source": [
    "import pandas\n",
    "import sklearn.linear_model\n",
    "import vtreat # https://github.com/WinVector/pyvtreat\n",
    "\n",
    "\n",
    "df = pandas.DataFrame({'x':['a', 'a', 'b', 'b', 'c', 'c'], \n",
    "                       'y':[i+1 for i in range(6)]})\n",
    "df"
   ]
  },
  {
   "cell_type": "code",
   "execution_count": 6,
   "metadata": {},
   "outputs": [
    {
     "name": "stdout",
     "output_type": "stream",
     "text": [
      "could not convert string to float: 'a'\n"
     ]
    }
   ],
   "source": [
    "try:\n",
    "    model = sklearn.linear_model.LinearRegression(fit_intercept = True).fit(df[['x']], df['y'])\n",
    "except Exception as ex:\n",
    "    print(ex)"
   ]
  },
  {
   "cell_type": "code",
   "execution_count": null,
   "metadata": {},
   "outputs": [],
   "source": [
    "## ----vtreat, results='hide'----------------------------------------------"
   ]
  },
  {
   "cell_type": "code",
   "execution_count": 9,
   "metadata": {},
   "outputs": [
    {
     "data": {
      "text/html": [
       "<div>\n",
       "<style scoped>\n",
       "    .dataframe tbody tr th:only-of-type {\n",
       "        vertical-align: middle;\n",
       "    }\n",
       "\n",
       "    .dataframe tbody tr th {\n",
       "        vertical-align: top;\n",
       "    }\n",
       "\n",
       "    .dataframe thead th {\n",
       "        text-align: right;\n",
       "    }\n",
       "</style>\n",
       "<table border=\"1\" class=\"dataframe\">\n",
       "  <thead>\n",
       "    <tr style=\"text-align: right;\">\n",
       "      <th></th>\n",
       "      <th>y</th>\n",
       "      <th>x_lev_c</th>\n",
       "      <th>x_lev_a</th>\n",
       "    </tr>\n",
       "  </thead>\n",
       "  <tbody>\n",
       "    <tr>\n",
       "      <th>0</th>\n",
       "      <td>1</td>\n",
       "      <td>0</td>\n",
       "      <td>1</td>\n",
       "    </tr>\n",
       "    <tr>\n",
       "      <th>1</th>\n",
       "      <td>2</td>\n",
       "      <td>0</td>\n",
       "      <td>1</td>\n",
       "    </tr>\n",
       "    <tr>\n",
       "      <th>2</th>\n",
       "      <td>3</td>\n",
       "      <td>0</td>\n",
       "      <td>0</td>\n",
       "    </tr>\n",
       "    <tr>\n",
       "      <th>3</th>\n",
       "      <td>4</td>\n",
       "      <td>0</td>\n",
       "      <td>0</td>\n",
       "    </tr>\n",
       "    <tr>\n",
       "      <th>4</th>\n",
       "      <td>5</td>\n",
       "      <td>1</td>\n",
       "      <td>0</td>\n",
       "    </tr>\n",
       "    <tr>\n",
       "      <th>5</th>\n",
       "      <td>6</td>\n",
       "      <td>1</td>\n",
       "      <td>0</td>\n",
       "    </tr>\n",
       "  </tbody>\n",
       "</table>\n",
       "</div>"
      ],
      "text/plain": [
       "   y  x_lev_c  x_lev_a\n",
       "0  1        0        1\n",
       "1  2        0        1\n",
       "2  3        0        0\n",
       "3  4        0        0\n",
       "4  5        1        0\n",
       "5  6        1        0"
      ]
     },
     "execution_count": 9,
     "metadata": {},
     "output_type": "execute_result"
    }
   ],
   "source": [
    "treatplan = vtreat.NumericOutcomeTreatment(outcome_name='y')\n",
    "df_treated = treatplan.fit_transform(df, y = df['y'])\n",
    "df_treated"
   ]
  },
  {
   "cell_type": "code",
   "execution_count": 14,
   "metadata": {},
   "outputs": [],
   "source": [
    "vars = [c for c in df_treated.columns if not c == 'y']\n",
    "model = sklearn.linear_model.LinearRegression(fit_intercept = True).fit(df_treated[vars], df_treated['y'])"
   ]
  },
  {
   "cell_type": "code",
   "execution_count": null,
   "metadata": {},
   "outputs": [],
   "source": [
    "## ----indicators1---------------------------------------------------------"
   ]
  },
  {
   "cell_type": "code",
   "execution_count": 15,
   "metadata": {},
   "outputs": [
    {
     "data": {
      "text/html": [
       "<div>\n",
       "<style scoped>\n",
       "    .dataframe tbody tr th:only-of-type {\n",
       "        vertical-align: middle;\n",
       "    }\n",
       "\n",
       "    .dataframe tbody tr th {\n",
       "        vertical-align: top;\n",
       "    }\n",
       "\n",
       "    .dataframe thead th {\n",
       "        text-align: right;\n",
       "    }\n",
       "</style>\n",
       "<table border=\"1\" class=\"dataframe\">\n",
       "  <thead>\n",
       "    <tr style=\"text-align: right;\">\n",
       "      <th></th>\n",
       "      <th>x</th>\n",
       "    </tr>\n",
       "  </thead>\n",
       "  <tbody>\n",
       "    <tr>\n",
       "      <th>0</th>\n",
       "      <td>a</td>\n",
       "    </tr>\n",
       "    <tr>\n",
       "      <th>1</th>\n",
       "      <td>b</td>\n",
       "    </tr>\n",
       "    <tr>\n",
       "      <th>2</th>\n",
       "      <td>c</td>\n",
       "    </tr>\n",
       "    <tr>\n",
       "      <th>3</th>\n",
       "      <td>d</td>\n",
       "    </tr>\n",
       "  </tbody>\n",
       "</table>\n",
       "</div>"
      ],
      "text/plain": [
       "   x\n",
       "0  a\n",
       "1  b\n",
       "2  c\n",
       "3  d"
      ]
     },
     "execution_count": 15,
     "metadata": {},
     "output_type": "execute_result"
    }
   ],
   "source": [
    "newdata = pandas.DataFrame({'x':['a', 'b', 'c', 'd']})\n",
    "newdata"
   ]
  },
  {
   "cell_type": "code",
   "execution_count": null,
   "metadata": {},
   "outputs": [],
   "source": [
    "## ----indicators2---------------------------------------------------------"
   ]
  },
  {
   "cell_type": "code",
   "execution_count": 16,
   "metadata": {},
   "outputs": [
    {
     "data": {
      "text/html": [
       "<div>\n",
       "<style scoped>\n",
       "    .dataframe tbody tr th:only-of-type {\n",
       "        vertical-align: middle;\n",
       "    }\n",
       "\n",
       "    .dataframe tbody tr th {\n",
       "        vertical-align: top;\n",
       "    }\n",
       "\n",
       "    .dataframe thead th {\n",
       "        text-align: right;\n",
       "    }\n",
       "</style>\n",
       "<table border=\"1\" class=\"dataframe\">\n",
       "  <thead>\n",
       "    <tr style=\"text-align: right;\">\n",
       "      <th></th>\n",
       "      <th>x_lev_c</th>\n",
       "      <th>x_lev_a</th>\n",
       "    </tr>\n",
       "  </thead>\n",
       "  <tbody>\n",
       "    <tr>\n",
       "      <th>0</th>\n",
       "      <td>0</td>\n",
       "      <td>1</td>\n",
       "    </tr>\n",
       "    <tr>\n",
       "      <th>1</th>\n",
       "      <td>0</td>\n",
       "      <td>0</td>\n",
       "    </tr>\n",
       "    <tr>\n",
       "      <th>2</th>\n",
       "      <td>1</td>\n",
       "      <td>0</td>\n",
       "    </tr>\n",
       "    <tr>\n",
       "      <th>3</th>\n",
       "      <td>0</td>\n",
       "      <td>0</td>\n",
       "    </tr>\n",
       "  </tbody>\n",
       "</table>\n",
       "</div>"
      ],
      "text/plain": [
       "   x_lev_c  x_lev_a\n",
       "0        0        1\n",
       "1        0        0\n",
       "2        1        0\n",
       "3        0        0"
      ]
     },
     "execution_count": 16,
     "metadata": {},
     "output_type": "execute_result"
    }
   ],
   "source": [
    "newdata_treated = treatplan.transform(newdata)\n",
    "newdata_treated"
   ]
  },
  {
   "cell_type": "code",
   "execution_count": 17,
   "metadata": {},
   "outputs": [
    {
     "data": {
      "text/plain": [
       "array([1.5, 3.5, 5.5, 3.5])"
      ]
     },
     "execution_count": 17,
     "metadata": {},
     "output_type": "execute_result"
    }
   ],
   "source": [
    "model.predict(newdata_treated)"
   ]
  },
  {
   "cell_type": "code",
   "execution_count": null,
   "metadata": {},
   "outputs": [],
   "source": []
  },
  {
   "cell_type": "markdown",
   "metadata": {},
   "source": [
    "R original"
   ]
  },
  {
   "cell_type": "raw",
   "metadata": {},
   "source": [
    "## ----zipcode-------------------------------------------------------------\n",
    "set.seed(235)\n",
    "Nz <- 25\n",
    "zip <- paste0('z', format(1:Nz, justify=\"right\"))\n",
    "zip <- gsub(' ', '0', zip, fixed=TRUE)\n",
    "zipval <- 1:Nz; names(zipval) <- zip\n",
    "n <- 3; m <- Nz - n\n",
    "p <- c(numeric(n) + (0.8/n), numeric(m) + 0.2/m)\n",
    "N <- 1000\n",
    "zipvar <- sample(zip, N, replace=TRUE, prob=p)\n",
    "signal <-  zipval[zipvar] + rnorm(N)\n",
    "d <- data.frame(zip=zipvar, \n",
    "                y=signal + rnorm(N))\n",
    "\n",
    "\n",
    "## ----vzip, results=\"hide\", warning=FALSE, message=FALSE------------------\n",
    "library(\"vtreat\")\n",
    "treatplan <- designTreatmentsN(d, varlist=\"zip\", outcome=\"y\", verbose=FALSE)\n",
    "\n",
    "\n",
    "## ----ziptreatplan--------------------------------------------------------\n",
    "treatplan$meanY\n",
    "scoreFrame <- treatplan$scoreFrame\n",
    "scoreFrame[, c('varName', 'sig', 'extraModelDegrees', 'origName', 'code')]\n",
    "\n",
    "\n",
    "## ----preparezip----------------------------------------------------------\n",
    "vars <- scoreFrame$varName[!(scoreFrame$code %in% c(\"catP\", \"catD\"))]\n",
    "dtreated <- prepare(treatplan, d, pruneSig=NULL, \n",
    "                    varRestriction=vars)\n",
    "\n",
    "\n",
    "## ----zipfig, echo=FALSE, message=FALSE, warning=FALSE, fig.width=6, fig.height=4----\n",
    "# compare the impact coding (zip_catN) with the conditional outcome means\n",
    "# to show that the impact model is the conditional outcome - global outcome\n",
    "compf <- merge(data.frame(zip=zip), \n",
    "                data.frame(zip= d$zip, impact=dtreated$zip_catN, y=d$y), \n",
    "                by=\"zip\", all.x=TRUE)\n",
    "compf$meany <- treatplan$meanY\n",
    "library(\"ggplot2\")\n",
    "ggplot(compf, aes(x=zip)) +\n",
    "geom_point(aes(y=impact+meany), shape=23, fill=\"blue\", size=3, alpha=0.7) +\n",
    "geom_point(aes(y=y), alpha=0.3) +\n",
    "coord_flip()"
   ]
  },
  {
   "cell_type": "markdown",
   "metadata": {},
   "source": [
    "Python translation"
   ]
  },
  {
   "cell_type": "code",
   "execution_count": 43,
   "metadata": {},
   "outputs": [],
   "source": [
    "## ----zipcode-------------------------------------------------------------"
   ]
  },
  {
   "cell_type": "code",
   "execution_count": 46,
   "metadata": {},
   "outputs": [
    {
     "data": {
      "text/html": [
       "<div>\n",
       "<style scoped>\n",
       "    .dataframe tbody tr th:only-of-type {\n",
       "        vertical-align: middle;\n",
       "    }\n",
       "\n",
       "    .dataframe tbody tr th {\n",
       "        vertical-align: top;\n",
       "    }\n",
       "\n",
       "    .dataframe thead th {\n",
       "        text-align: right;\n",
       "    }\n",
       "</style>\n",
       "<table border=\"1\" class=\"dataframe\">\n",
       "  <thead>\n",
       "    <tr style=\"text-align: right;\">\n",
       "      <th></th>\n",
       "      <th>zip</th>\n",
       "      <th>y</th>\n",
       "    </tr>\n",
       "  </thead>\n",
       "  <tbody>\n",
       "    <tr>\n",
       "      <th>0</th>\n",
       "      <td>z00018</td>\n",
       "      <td>18.522012</td>\n",
       "    </tr>\n",
       "    <tr>\n",
       "      <th>1</th>\n",
       "      <td>z00002</td>\n",
       "      <td>1.193435</td>\n",
       "    </tr>\n",
       "    <tr>\n",
       "      <th>2</th>\n",
       "      <td>z00001</td>\n",
       "      <td>0.739880</td>\n",
       "    </tr>\n",
       "    <tr>\n",
       "      <th>3</th>\n",
       "      <td>z00018</td>\n",
       "      <td>17.157941</td>\n",
       "    </tr>\n",
       "    <tr>\n",
       "      <th>4</th>\n",
       "      <td>z00002</td>\n",
       "      <td>2.243728</td>\n",
       "    </tr>\n",
       "  </tbody>\n",
       "</table>\n",
       "</div>"
      ],
      "text/plain": [
       "      zip          y\n",
       "0  z00018  18.522012\n",
       "1  z00002   1.193435\n",
       "2  z00001   0.739880\n",
       "3  z00018  17.157941\n",
       "4  z00002   2.243728"
      ]
     },
     "execution_count": 46,
     "metadata": {},
     "output_type": "execute_result"
    }
   ],
   "source": [
    "import numpy.random\n",
    "import pandas\n",
    "import seaborn\n",
    "import vtreat # https://github.com/WinVector/pyvtreat\n",
    "\n",
    "\n",
    "numpy.random.seed(235)\n",
    "Nz = 25\n",
    "zip = ['z' + str(i+1).zfill(5) for i in range(Nz)]\n",
    "zipval = { zip[i]:(i+1) for i in range(Nz) }\n",
    "n = 3\n",
    "m = Nz - n\n",
    "p = [(0.8/n) for i in range(n)] + [0.2/m for i in range(m)]\n",
    "N = 1000\n",
    "zipvar = numpy.random.choice(zip, size=N, p=p)\n",
    "zipvar\n",
    "signal = [zipval[zv] for zv in zipvar]\n",
    "d = pandas.DataFrame({'zip':zipvar, \n",
    "                      'y':signal + numpy.random.normal(size=N)})\n",
    "d.head()"
   ]
  },
  {
   "cell_type": "code",
   "execution_count": null,
   "metadata": {},
   "outputs": [],
   "source": [
    "## ----vzip, results=\"hide\", warning=FALSE, message=FALSE------------------"
   ]
  },
  {
   "cell_type": "code",
   "execution_count": 47,
   "metadata": {},
   "outputs": [
    {
     "data": {
      "text/html": [
       "<div>\n",
       "<style scoped>\n",
       "    .dataframe tbody tr th:only-of-type {\n",
       "        vertical-align: middle;\n",
       "    }\n",
       "\n",
       "    .dataframe tbody tr th {\n",
       "        vertical-align: top;\n",
       "    }\n",
       "\n",
       "    .dataframe thead th {\n",
       "        text-align: right;\n",
       "    }\n",
       "</style>\n",
       "<table border=\"1\" class=\"dataframe\">\n",
       "  <thead>\n",
       "    <tr style=\"text-align: right;\">\n",
       "      <th></th>\n",
       "      <th>y</th>\n",
       "      <th>zip_impact_code</th>\n",
       "      <th>zip_prevalence_code</th>\n",
       "      <th>zip_lev_z00002</th>\n",
       "      <th>zip_lev_z00003</th>\n",
       "      <th>zip_lev_z00001</th>\n",
       "    </tr>\n",
       "  </thead>\n",
       "  <tbody>\n",
       "    <tr>\n",
       "      <th>0</th>\n",
       "      <td>18.522012</td>\n",
       "      <td>12.660483</td>\n",
       "      <td>0.013</td>\n",
       "      <td>0</td>\n",
       "      <td>0</td>\n",
       "      <td>0</td>\n",
       "    </tr>\n",
       "    <tr>\n",
       "      <th>1</th>\n",
       "      <td>1.193435</td>\n",
       "      <td>-2.851277</td>\n",
       "      <td>0.276</td>\n",
       "      <td>1</td>\n",
       "      <td>0</td>\n",
       "      <td>0</td>\n",
       "    </tr>\n",
       "    <tr>\n",
       "      <th>2</th>\n",
       "      <td>0.739880</td>\n",
       "      <td>-3.928832</td>\n",
       "      <td>0.234</td>\n",
       "      <td>0</td>\n",
       "      <td>0</td>\n",
       "      <td>1</td>\n",
       "    </tr>\n",
       "    <tr>\n",
       "      <th>3</th>\n",
       "      <td>17.157941</td>\n",
       "      <td>12.776066</td>\n",
       "      <td>0.013</td>\n",
       "      <td>0</td>\n",
       "      <td>0</td>\n",
       "      <td>0</td>\n",
       "    </tr>\n",
       "    <tr>\n",
       "      <th>4</th>\n",
       "      <td>2.243728</td>\n",
       "      <td>-2.851277</td>\n",
       "      <td>0.276</td>\n",
       "      <td>1</td>\n",
       "      <td>0</td>\n",
       "      <td>0</td>\n",
       "    </tr>\n",
       "  </tbody>\n",
       "</table>\n",
       "</div>"
      ],
      "text/plain": [
       "           y  zip_impact_code  zip_prevalence_code  zip_lev_z00002  \\\n",
       "0  18.522012        12.660483                0.013               0   \n",
       "1   1.193435        -2.851277                0.276               1   \n",
       "2   0.739880        -3.928832                0.234               0   \n",
       "3  17.157941        12.776066                0.013               0   \n",
       "4   2.243728        -2.851277                0.276               1   \n",
       "\n",
       "   zip_lev_z00003  zip_lev_z00001  \n",
       "0               0               0  \n",
       "1               0               0  \n",
       "2               0               1  \n",
       "3               0               0  \n",
       "4               0               0  "
      ]
     },
     "execution_count": 47,
     "metadata": {},
     "output_type": "execute_result"
    }
   ],
   "source": [
    "treatplan = vtreat.NumericOutcomeTreatment(outcome_name='y')\n",
    "d_treated = treatplan.fit_transform(d, d[\"y\"])\n",
    "d_treated.head()"
   ]
  },
  {
   "cell_type": "code",
   "execution_count": null,
   "metadata": {},
   "outputs": [],
   "source": [
    "## ----ziptreatplan--------------------------------------------------------"
   ]
  },
  {
   "cell_type": "code",
   "execution_count": 48,
   "metadata": {},
   "outputs": [
    {
     "data": {
      "text/html": [
       "<div>\n",
       "<style scoped>\n",
       "    .dataframe tbody tr th:only-of-type {\n",
       "        vertical-align: middle;\n",
       "    }\n",
       "\n",
       "    .dataframe tbody tr th {\n",
       "        vertical-align: top;\n",
       "    }\n",
       "\n",
       "    .dataframe thead th {\n",
       "        text-align: right;\n",
       "    }\n",
       "</style>\n",
       "<table border=\"1\" class=\"dataframe\">\n",
       "  <thead>\n",
       "    <tr style=\"text-align: right;\">\n",
       "      <th></th>\n",
       "      <th>variable</th>\n",
       "      <th>treatment</th>\n",
       "      <th>y_aware</th>\n",
       "      <th>has_range</th>\n",
       "      <th>PearsonR</th>\n",
       "      <th>significance</th>\n",
       "      <th>vcount</th>\n",
       "      <th>recommended</th>\n",
       "    </tr>\n",
       "  </thead>\n",
       "  <tbody>\n",
       "    <tr>\n",
       "      <th>0</th>\n",
       "      <td>zip_impact_code</td>\n",
       "      <td>impact_code</td>\n",
       "      <td>True</td>\n",
       "      <td>True</td>\n",
       "      <td>0.987907</td>\n",
       "      <td>0.000000e+00</td>\n",
       "      <td>1.0</td>\n",
       "      <td>True</td>\n",
       "    </tr>\n",
       "    <tr>\n",
       "      <th>1</th>\n",
       "      <td>zip_deviance_code</td>\n",
       "      <td>deviance_code</td>\n",
       "      <td>True</td>\n",
       "      <td>True</td>\n",
       "      <td>-0.049652</td>\n",
       "      <td>1.166190e-01</td>\n",
       "      <td>1.0</td>\n",
       "      <td>False</td>\n",
       "    </tr>\n",
       "    <tr>\n",
       "      <th>2</th>\n",
       "      <td>zip_prevalence_code</td>\n",
       "      <td>prevalence_code</td>\n",
       "      <td>False</td>\n",
       "      <td>True</td>\n",
       "      <td>-0.833001</td>\n",
       "      <td>8.590593e-259</td>\n",
       "      <td>1.0</td>\n",
       "      <td>True</td>\n",
       "    </tr>\n",
       "    <tr>\n",
       "      <th>3</th>\n",
       "      <td>zip_lev_z00002</td>\n",
       "      <td>indicator_code</td>\n",
       "      <td>False</td>\n",
       "      <td>True</td>\n",
       "      <td>-0.283480</td>\n",
       "      <td>6.165256e-20</td>\n",
       "      <td>3.0</td>\n",
       "      <td>True</td>\n",
       "    </tr>\n",
       "    <tr>\n",
       "      <th>4</th>\n",
       "      <td>zip_lev_z00003</td>\n",
       "      <td>indicator_code</td>\n",
       "      <td>False</td>\n",
       "      <td>True</td>\n",
       "      <td>-0.179725</td>\n",
       "      <td>1.046927e-08</td>\n",
       "      <td>3.0</td>\n",
       "      <td>True</td>\n",
       "    </tr>\n",
       "    <tr>\n",
       "      <th>5</th>\n",
       "      <td>zip_lev_z00001</td>\n",
       "      <td>indicator_code</td>\n",
       "      <td>False</td>\n",
       "      <td>True</td>\n",
       "      <td>-0.348631</td>\n",
       "      <td>5.932392e-30</td>\n",
       "      <td>3.0</td>\n",
       "      <td>True</td>\n",
       "    </tr>\n",
       "  </tbody>\n",
       "</table>\n",
       "</div>"
      ],
      "text/plain": [
       "              variable        treatment  y_aware  has_range  PearsonR  \\\n",
       "0      zip_impact_code      impact_code     True       True  0.987907   \n",
       "1    zip_deviance_code    deviance_code     True       True -0.049652   \n",
       "2  zip_prevalence_code  prevalence_code    False       True -0.833001   \n",
       "3       zip_lev_z00002   indicator_code    False       True -0.283480   \n",
       "4       zip_lev_z00003   indicator_code    False       True -0.179725   \n",
       "5       zip_lev_z00001   indicator_code    False       True -0.348631   \n",
       "\n",
       "    significance  vcount  recommended  \n",
       "0   0.000000e+00     1.0         True  \n",
       "1   1.166190e-01     1.0        False  \n",
       "2  8.590593e-259     1.0         True  \n",
       "3   6.165256e-20     3.0         True  \n",
       "4   1.046927e-08     3.0         True  \n",
       "5   5.932392e-30     3.0         True  "
      ]
     },
     "execution_count": 48,
     "metadata": {},
     "output_type": "execute_result"
    }
   ],
   "source": [
    "treatplan.score_frame_"
   ]
  },
  {
   "cell_type": "code",
   "execution_count": null,
   "metadata": {},
   "outputs": [],
   "source": [
    "## ----zipfig, echo=FALSE, message=FALSE, warning=FALSE, fig.width=6, fig.height=4----"
   ]
  },
  {
   "cell_type": "code",
   "execution_count": 57,
   "metadata": {},
   "outputs": [
    {
     "data": {
      "text/plain": [
       "<matplotlib.axes._subplots.AxesSubplot at 0x1a19ccbe10>"
      ]
     },
     "execution_count": 57,
     "metadata": {},
     "output_type": "execute_result"
    },
    {
     "data": {
      "image/png": "[encoded data removed]",
      "text/plain": [
       "<Figure size 432x288 with 1 Axes>"
      ]
     },
     "metadata": {
      "needs_background": "light"
     },
     "output_type": "display_data"
    }
   ],
   "source": [
    "# show, subject to mean shift impact estimates track un-observed (pre-noise) ideal values\n",
    "d_new = pandas.DataFrame({'zip':zip})\n",
    "d_new_treated = treatplan.transform(d_new)[['zip_impact_code']]\n",
    "d_new_treated[\"zip\"] = d_new[\"zip\"]\n",
    "d_new_treated[\"ideal_value\"] = [zipval[k] for k in d_new_treated[\"zip\"]]\n",
    "seaborn.scatterplot(x='zip_impact_code', y='ideal_value', data = d_new_treated)"
   ]
  },
  {
   "cell_type": "code",
   "execution_count": null,
   "metadata": {},
   "outputs": [],
   "source": []
  },
  {
   "cell_type": "markdown",
   "metadata": {},
   "source": [
    "R original"
   ]
  },
  {
   "cell_type": "raw",
   "metadata": {},
   "source": [
    "## ----zipmissing, warning=FALSE, message=FALSE----------------------------\n",
    "N <- 100\n",
    "zipvar <- sample(zip, N, replace=TRUE, prob=p)\n",
    "signal <- zipval[zipvar] + rnorm(N)\n",
    "d <- data.frame(zip=zipvar, \n",
    "                y=signal+rnorm(N))\n",
    "length(unique(d$zip))\n",
    "omitted <- setdiff(zip, unique(d$zip))\n",
    "print(omitted)\n",
    "\n",
    "\n",
    "## ----zipmissing2, warning=FALSE, message=FALSE---------------------------\n",
    "treatplan <- designTreatmentsN(d, varlist=\"zip\", outcome=\"y\", verbose=FALSE)\n",
    "dnew <- data.frame(zip = zip)\n",
    "dtreated <- prepare(treatplan, dnew, pruneSig=NULL, \n",
    "                   varRestriction=vars)\n",
    "\n",
    "\n",
    "## ----zipmissingprint-----------------------------------------------------\n",
    "dtreated[dnew$zip %in% omitted, \"zip_catN\"]"
   ]
  },
  {
   "cell_type": "markdown",
   "metadata": {},
   "source": [
    "Python translation"
   ]
  },
  {
   "cell_type": "code",
   "execution_count": null,
   "metadata": {},
   "outputs": [],
   "source": []
  },
  {
   "cell_type": "code",
   "execution_count": null,
   "metadata": {},
   "outputs": [],
   "source": []
  },
  {
   "cell_type": "code",
   "execution_count": null,
   "metadata": {},
   "outputs": [],
   "source": []
  },
  {
   "cell_type": "markdown",
   "metadata": {},
   "source": [
    "R original"
   ]
  },
  {
   "cell_type": "raw",
   "metadata": {},
   "source": [
    "## ----nested--------------------------------------------------------------\n",
    "set.seed(2262)\n",
    "nLev <- 500\n",
    "n <- 3000\n",
    "d <- data.frame(xBad1=sample(paste('level', 1:nLev, sep=''), n, replace=TRUE), \n",
    "                xBad2=sample(paste('level', 1:nLev, sep=''), n, replace=TRUE), \n",
    "                xGood1=sample(paste('level', 1:nLev, sep=''), n, replace=TRUE), \n",
    "                xGood2=sample(paste('level', 1:nLev, sep=''), n, replace=TRUE))\n",
    "d$y <- (0.2*rnorm(nrow(d)) + 0.5*ifelse(as.numeric(d$xGood1)>nLev/2, 1, -1) +\n",
    "        0.3*ifelse(as.numeric(d$xGood2)>nLev/2, 1, -1))>0\n",
    "d$rgroup <- sample(c(\"cal\", \"train\", \"test\"), nrow(d), replace=TRUE, \n",
    "                   prob=c(0.6, 0.2, 0.2))\n",
    "\n",
    "plotRes <- function(d, predName, yName, title) {\n",
    "  print(title)\n",
    "  tab <- table(truth=d[[yName]], pred=d[[predName]]>0.5)\n",
    "  print(tab)\n",
    "  diag <- sum(vapply(seq_len(min(dim(tab))), \n",
    "                     function(i) tab[i, i], numeric(1)))\n",
    "  acc <- diag/sum(tab)\n",
    "  # depends on both truth and target being logicals\n",
    "  # and FALSE ordered before TRUE\n",
    "  sens <- tab[2, 2]/sum(tab[2, ])\n",
    "  spec <- tab[1, 1]/sum(tab[1, ])\n",
    "  print(paste('accuracy', format(acc, scientific=FALSE, digits=3)))\n",
    "  print(paste('sensitivity', format(sens, scientific=FALSE, digits=3)))\n",
    "  print(paste('specificity', format(spec, scientific=FALSE, digits=3)))\n",
    "}\n",
    "\n",
    "\n",
    "## ----naivesplit----------------------------------------------------------\n",
    "dTrain <- d[d$rgroup!='test', , drop=FALSE]\n",
    "dTest <- d[d$rgroup=='test', , drop=FALSE]\n",
    "treatments <- vtreat::designTreatmentsC(dTrain, \n",
    "                     varlist = c('xBad1', 'xBad2', 'xGood1', 'xGood2'), \n",
    "                     outcomename='y', outcometarget=TRUE, \n",
    "                     verbose=FALSE)\n",
    "dTrainTreated <- vtreat::prepare(treatments, dTrain, pruneSig=NULL)\n",
    "\n",
    "\n",
    "## ----naivefit, warning=FALSE---------------------------------------------\n",
    "m1 <- glm(y~xBad1_catB + xBad2_catB + xGood1_catB + xGood2_catB, \n",
    "          data=dTrainTreated, family=binomial(link='logit'))\n",
    "print(summary(m1))\n",
    "\n",
    "\n",
    "## ----nf2-----------------------------------------------------------------\n",
    "dTrain$predM1 <- predict(m1, newdata=dTrainTreated, type='response')\n",
    "plotRes(dTrain, 'predM1', 'y', 'model1 on train')\n",
    "\n",
    "\n",
    "## ----nftest, message=FALSE, warning=FALSE--------------------------------\n",
    "dTestTreated <- vtreat::prepare(treatments, dTest, pruneSig=NULL)\n",
    "dTest$predM1 <- predict(m1, newdata=dTestTreated, type='response')\n",
    "plotRes(dTest, 'predM1', 'y', 'model1 on test')\n",
    "\n",
    "\n",
    "## ----calset1, message=FALSE, warning=FALSE-------------------------------\n",
    "dCal <- d[d$rgroup=='cal', , drop=FALSE]\n",
    "dTrain <- d[d$rgroup=='train', , drop=FALSE]\n",
    "dTest <- d[d$rgroup=='test', , drop=FALSE]\n",
    "treatments <- vtreat::designTreatmentsC(dCal, \n",
    "                varlist = c('xBad1', 'xBad2', 'xGood1', 'xGood2'), \n",
    "                outcomename='y', outcometarget=TRUE, \n",
    "                verbose=FALSE)\n",
    "dTrainTreated <- vtreat::prepare(treatments, dTrain, \n",
    "                        pruneSig=NULL)\n",
    "newvars <- setdiff(colnames(dTrainTreated), 'y')\n",
    "m1 <- glm(y~xBad1_catB + xBad2_catB + xGood1_catB + xGood2_catB, \n",
    "          data=dTrainTreated, family=binomial(link='logit'))\n",
    "dTrain$predM1 <- predict(m1, newdata=dTrainTreated, type='response')\n",
    "print(summary(m1))\n",
    "\n",
    "\n",
    "## ----calset2-------------------------------------------------------------\n",
    "plotRes(dTrain, 'predM1', 'y', 'model1 on train')\n",
    "\n",
    "\n",
    "## ----calset3-------------------------------------------------------------\n",
    "dTestTreated <- vtreat::prepare(treatments, dTest, \n",
    "                                pruneSig=NULL)\n",
    "dTest$predM1 <- predict(m1, newdata=dTestTreated, type='response')\n",
    "plotRes(dTest, 'predM1', 'y', 'model1 on test')\n",
    "\n",
    "\n",
    "## ----sigprune_data-------------------------------------------------------\n",
    "set.seed(22451)\n",
    "N <- 500\n",
    "sigN <- rnorm(N)\n",
    "noiseN <- rnorm(N)\n",
    "Nlevels <- 100\n",
    "zip <- paste0('z', format(1:Nlevels, justify=\"right\"))\n",
    "zip <- gsub(' ', '0', zip, fixed=TRUE)\n",
    "\n",
    "zipval <- runif(Nlevels); names(zipval)=zip\n",
    "sigC <- sample(zip, size=N, replace=TRUE)\n",
    "noiseC <- sample(zip, size=N, replace=TRUE)\n",
    "\n",
    "y <- sigN + zipval[sigC] + rnorm(N)\n",
    "df <- data.frame(sN = sigN, nN=noiseN, \n",
    "                sC = sigC, nC=noiseC, y=y)\n",
    "\n",
    "\n",
    "## ----sigprune_treat------------------------------------------------------\n",
    "library(\"vtreat\")\n",
    "treatplan <- designTreatmentsN(df, \n",
    "                             varlist=setdiff(colnames(df), \"y\"), \n",
    "                             outcomename=\"y\", \n",
    "                             verbose=FALSE)\n",
    "sframe <- treatplan$scoreFrame\n",
    "vars <- sframe$varName[!(sframe$code %in% c(\"catP\", \"catD\"))]\n",
    "sframe[sframe$varName %in% vars, \n",
    "       c(\"varName\", \"sig\", \"extraModelDegrees\")]\n",
    "\n",
    "\n",
    "## ----sigprune_plot, echo=FALSE, fig.width=6, fig.height=4----------------\n",
    "sframe <- sframe[sframe$varName %in% vars, \n",
    "       c(\"varName\", \"sig\", \"extraModelDegrees\", \"origName\")]\n",
    "sframe$varType <- ifelse(sframe$origName %in% c(\"sN\", \"sC\"), \n",
    "                        \"signal\", \"noise\")\n",
    "library(\"ggplot2\")\n",
    "ggplot(sframe, aes(x=reorder(varName, sig), \n",
    "                   y=sig, color=varType, shape=varType)) +\n",
    "  geom_pointrange(aes(ymin=0, ymax=sig)) +\n",
    "  geom_hline(yintercept=1/length(vars), linetype=2, color=\"darkgray\") +\n",
    "  scale_color_manual(values=c(\"signal\" = \"#1b9e77\", \"noise\" = \"#d95f02\")) +\n",
    "  coord_flip()\n",
    "\n",
    "\n",
    "## ----sigprune_prune------------------------------------------------------\n",
    "pruneSig <- 1/length(vars)\n",
    "dfTreat <- prepare(treatplan, df, pruneSig=pruneSig, \n",
    "                  varRestriction=vars)\n",
    "head(dfTreat)"
   ]
  },
  {
   "cell_type": "markdown",
   "metadata": {},
   "source": [
    "Python translation"
   ]
  },
  {
   "cell_type": "code",
   "execution_count": null,
   "metadata": {},
   "outputs": [],
   "source": []
  }
 ],
 "metadata": {
  "kernelspec": {
   "display_name": "Python 3",
   "language": "python",
   "name": "python3"
  },
  "language_info": {
   "codemirror_mode": {
    "name": "ipython",
    "version": 3
   },
   "file_extension": ".py",
   "mimetype": "text/x-python",
   "name": "python",
   "nbconvert_exporter": "python",
   "pygments_lexer": "ipython3",
   "version": "3.7.3"
  }
 },
 "nbformat": 4,
 "nbformat_minor": 4
}
