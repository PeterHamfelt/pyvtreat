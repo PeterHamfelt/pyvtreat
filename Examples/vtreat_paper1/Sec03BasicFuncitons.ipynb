{
 "cells": [
  {
   "cell_type": "markdown",
   "metadata": {},
   "source": [
    "Translating the R sequences from https://arxiv.org/abs/1611.09477 into Python vtreat https://github.com/WinVector/pyvtreat"
   ]
  },
  {
   "cell_type": "code",
   "execution_count": 27,
   "metadata": {
    "pycharm": {
     "is_executing": false
    }
   },
   "outputs": [],
   "source": []
  },
  {
   "cell_type": "markdown",
   "metadata": {},
   "source": [
    "Note: for these small examples it is not-determined if the impact/logit codes show up, as they can often have an unlucky cross-validation split."
   ]
  },
  {
   "cell_type": "code",
   "execution_count": 27,
   "metadata": {
    "pycharm": {
     "is_executing": false
    }
   },
   "outputs": [],
   "source": []
  },
  {
   "cell_type": "markdown",
   "metadata": {},
   "source": [
    "R original"
   ]
  },
  {
   "cell_type": "raw",
   "metadata": {},
   "source": [
    "## ----VOpsSimpleDataFrameD------------------------------------------------\n",
    "d <- data.frame(\n",
    "   x=c('a', 'a', 'b', 'b', NA), \n",
    "   z=c(0, 1, 2, NA, 4), \n",
    "   y=c(TRUE, TRUE, FALSE, TRUE, TRUE), \n",
    "   stringsAsFactors = FALSE)\n",
    "d$yN <- as.numeric(d$y)\n",
    "print(d)\n",
    "\n",
    "\n",
    "## ----VTypesN1, results='hide'--------------------------------------------\n",
    "library(\"vtreat\")\n",
    "treatments <- designTreatmentsN(d, c('x', 'z'), 'yN')\n",
    "\n",
    "## ----VTypesN1s-----------------------------------------------------------\n",
    "scols <- c('varName', 'sig', 'extraModelDegrees', 'origName', 'code')\n",
    "print(treatments$scoreFrame[, scols])\n",
    "\n",
    "\n",
    "## ----VTypesN1p-----------------------------------------------------------\n",
    "dTreated <- prepare(treatments, d, pruneSig=NULL)\n",
    "print(dTreated)"
   ]
  },
  {
   "cell_type": "markdown",
   "metadata": {},
   "source": [
    "Python translation"
   ]
  },
  {
   "cell_type": "code",
   "execution_count": 28,
   "metadata": {
    "pycharm": {
     "is_executing": false
    }
   },
   "outputs": [],
   "source": [
    "## ----VOpsSimpleDataFrameD------------------------------------------------"
   ]
  },
  {
   "cell_type": "code",
   "execution_count": 29,
   "metadata": {
    "pycharm": {
     "is_executing": false
    }
   },
   "outputs": [
    {
     "data": {
      "text/plain": "     x    z      y   yN\n0    a  0.0   True  1.0\n1    a  1.0   True  1.0\n2    b  2.0  False  0.0\n3    b  NaN   True  1.0\n4  NaN  4.0   True  1.0",
      "text/html": "<div>\n<style scoped>\n    .dataframe tbody tr th:only-of-type {\n        vertical-align: middle;\n    }\n\n    .dataframe tbody tr th {\n        vertical-align: top;\n    }\n\n    .dataframe thead th {\n        text-align: right;\n    }\n</style>\n<table border=\"1\" class=\"dataframe\">\n  <thead>\n    <tr style=\"text-align: right;\">\n      <th></th>\n      <th>x</th>\n      <th>z</th>\n      <th>y</th>\n      <th>yN</th>\n    </tr>\n  </thead>\n  <tbody>\n    <tr>\n      <th>0</th>\n      <td>a</td>\n      <td>0.0</td>\n      <td>True</td>\n      <td>1.0</td>\n    </tr>\n    <tr>\n      <th>1</th>\n      <td>a</td>\n      <td>1.0</td>\n      <td>True</td>\n      <td>1.0</td>\n    </tr>\n    <tr>\n      <th>2</th>\n      <td>b</td>\n      <td>2.0</td>\n      <td>False</td>\n      <td>0.0</td>\n    </tr>\n    <tr>\n      <th>3</th>\n      <td>b</td>\n      <td>NaN</td>\n      <td>True</td>\n      <td>1.0</td>\n    </tr>\n    <tr>\n      <th>4</th>\n      <td>NaN</td>\n      <td>4.0</td>\n      <td>True</td>\n      <td>1.0</td>\n    </tr>\n  </tbody>\n</table>\n</div>"
     },
     "metadata": {},
     "output_type": "execute_result",
     "execution_count": 29
    }
   ],
   "source": [
    "import pandas\n",
    "import numpy\n",
    "import vtreat # https://github.com/WinVector/pyvtreat\n",
    "\n",
    "d = pandas.DataFrame({\n",
    "   'x':['a', 'a', 'b', 'b', numpy.NaN], \n",
    "   'z':[0, 1, 2, numpy.NaN, 4], \n",
    "   'y':[True, True, False, True, True]\n",
    "    })\n",
    "d['yN'] = numpy.asarray(d[\"y\"], dtype=float)\n",
    "d"
   ]
  },
  {
   "cell_type": "code",
   "execution_count": 30,
   "metadata": {
    "pycharm": {
     "is_executing": false
    }
   },
   "outputs": [
    {
     "data": {
      "text/plain": "x      object\nz     float64\ny        bool\nyN    float64\ndtype: object"
     },
     "metadata": {},
     "output_type": "execute_result",
     "execution_count": 30
    }
   ],
   "source": [
    "d.dtypes"
   ]
  },
  {
   "cell_type": "code",
   "execution_count": 31,
   "metadata": {
    "pycharm": {
     "is_executing": false
    }
   },
   "outputs": [],
   "source": [
    "## ----VTypesN1, results='hide'--------------------------------------------"
   ]
  },
  {
   "cell_type": "code",
   "execution_count": 32,
   "metadata": {
    "pycharm": {
     "is_executing": false
    }
   },
   "outputs": [
    {
     "data": {
      "text/plain": "<vtreat.NumericOutcomeTreatment at 0x1a197e4630>"
     },
     "metadata": {},
     "output_type": "execute_result",
     "execution_count": 32
    }
   ],
   "source": [
    "treatments = vtreat.NumericOutcomeTreatment(outcome_name='yN',\n",
    "                                            params = vtreat.vtreat_parameters({\n",
    "                                               'filter_to_recommended':False\n",
    "                                            }))\n",
    "treatments.fit(d[['x', 'z']], d['yN'])"
   ]
  },
  {
   "cell_type": "code",
   "execution_count": 33,
   "metadata": {
    "pycharm": {
     "is_executing": false
    }
   },
   "outputs": [],
   "source": [
    "## ----VTypesN1s-----------------------------------------------------------"
   ]
  },
  {
   "cell_type": "code",
   "execution_count": 34,
   "metadata": {
    "pycharm": {
     "is_executing": false
    }
   },
   "outputs": [
    {
     "data": {
      "text/plain": "            variable orig_variable          treatment  y_aware  has_range  \\\n0           x_is_bad             x  missing_indicator    False       True   \n1           z_is_bad             z  missing_indicator    False       True   \n2                  z             z         clean_copy    False       True   \n3      x_impact_code             x        impact_code     True      False   \n4    x_deviance_code             x      deviance_code     True      False   \n5  x_prevalence_code             x    prevalence_code    False       True   \n6            x_lev_a             x     indicator_code    False       True   \n7            x_lev_b             x     indicator_code    False       True   \n8         x_lev__NA_             x     indicator_code    False       True   \n\n   PearsonR  significance  vcount  recommended  \n0  0.250000      0.685038     2.0        False  \n1  0.250000      0.685038     2.0        False  \n2 -0.094491      0.879869     1.0         True  \n3       NaN      1.000000     1.0        False  \n4       NaN      1.000000     1.0        False  \n5 -0.250000      0.685038     1.0         True  \n6  0.408248      0.495025     3.0        False  \n7 -0.612372      0.272228     3.0         True  \n8  0.250000      0.685038     3.0        False  ",
      "text/html": "<div>\n<style scoped>\n    .dataframe tbody tr th:only-of-type {\n        vertical-align: middle;\n    }\n\n    .dataframe tbody tr th {\n        vertical-align: top;\n    }\n\n    .dataframe thead th {\n        text-align: right;\n    }\n</style>\n<table border=\"1\" class=\"dataframe\">\n  <thead>\n    <tr style=\"text-align: right;\">\n      <th></th>\n      <th>variable</th>\n      <th>orig_variable</th>\n      <th>treatment</th>\n      <th>y_aware</th>\n      <th>has_range</th>\n      <th>PearsonR</th>\n      <th>significance</th>\n      <th>vcount</th>\n      <th>recommended</th>\n    </tr>\n  </thead>\n  <tbody>\n    <tr>\n      <th>0</th>\n      <td>x_is_bad</td>\n      <td>x</td>\n      <td>missing_indicator</td>\n      <td>False</td>\n      <td>True</td>\n      <td>0.250000</td>\n      <td>0.685038</td>\n      <td>2.0</td>\n      <td>False</td>\n    </tr>\n    <tr>\n      <th>1</th>\n      <td>z_is_bad</td>\n      <td>z</td>\n      <td>missing_indicator</td>\n      <td>False</td>\n      <td>True</td>\n      <td>0.250000</td>\n      <td>0.685038</td>\n      <td>2.0</td>\n      <td>False</td>\n    </tr>\n    <tr>\n      <th>2</th>\n      <td>z</td>\n      <td>z</td>\n      <td>clean_copy</td>\n      <td>False</td>\n      <td>True</td>\n      <td>-0.094491</td>\n      <td>0.879869</td>\n      <td>1.0</td>\n      <td>True</td>\n    </tr>\n    <tr>\n      <th>3</th>\n      <td>x_impact_code</td>\n      <td>x</td>\n      <td>impact_code</td>\n      <td>True</td>\n      <td>False</td>\n      <td>NaN</td>\n      <td>1.000000</td>\n      <td>1.0</td>\n      <td>False</td>\n    </tr>\n    <tr>\n      <th>4</th>\n      <td>x_deviance_code</td>\n      <td>x</td>\n      <td>deviance_code</td>\n      <td>True</td>\n      <td>False</td>\n      <td>NaN</td>\n      <td>1.000000</td>\n      <td>1.0</td>\n      <td>False</td>\n    </tr>\n    <tr>\n      <th>5</th>\n      <td>x_prevalence_code</td>\n      <td>x</td>\n      <td>prevalence_code</td>\n      <td>False</td>\n      <td>True</td>\n      <td>-0.250000</td>\n      <td>0.685038</td>\n      <td>1.0</td>\n      <td>True</td>\n    </tr>\n    <tr>\n      <th>6</th>\n      <td>x_lev_a</td>\n      <td>x</td>\n      <td>indicator_code</td>\n      <td>False</td>\n      <td>True</td>\n      <td>0.408248</td>\n      <td>0.495025</td>\n      <td>3.0</td>\n      <td>False</td>\n    </tr>\n    <tr>\n      <th>7</th>\n      <td>x_lev_b</td>\n      <td>x</td>\n      <td>indicator_code</td>\n      <td>False</td>\n      <td>True</td>\n      <td>-0.612372</td>\n      <td>0.272228</td>\n      <td>3.0</td>\n      <td>True</td>\n    </tr>\n    <tr>\n      <th>8</th>\n      <td>x_lev__NA_</td>\n      <td>x</td>\n      <td>indicator_code</td>\n      <td>False</td>\n      <td>True</td>\n      <td>0.250000</td>\n      <td>0.685038</td>\n      <td>3.0</td>\n      <td>False</td>\n    </tr>\n  </tbody>\n</table>\n</div>"
     },
     "metadata": {},
     "output_type": "execute_result",
     "execution_count": 34
    }
   ],
   "source": [
    "treatments.score_frame_"
   ]
  },
  {
   "cell_type": "code",
   "execution_count": 35,
   "metadata": {
    "pycharm": {
     "is_executing": false
    }
   },
   "outputs": [],
   "source": [
    "## ----VTypesN1p-----------------------------------------------------------"
   ]
  },
  {
   "cell_type": "code",
   "execution_count": 36,
   "metadata": {
    "pycharm": {
     "is_executing": false
    }
   },
   "outputs": [
    {
     "data": {
      "text/plain": "    yN  x_is_bad  z_is_bad     z  x_prevalence_code  x_lev_a  x_lev_b  \\\n0  1.0       0.0       0.0  0.00                0.2        1        0   \n1  1.0       0.0       0.0  1.00                0.2        1        0   \n2  0.0       0.0       0.0  2.00                0.2        0        1   \n3  1.0       0.0       1.0  1.75                0.2        0        1   \n4  1.0       1.0       0.0  4.00                0.0        0        0   \n\n   x_lev__NA_  \n0           0  \n1           0  \n2           0  \n3           0  \n4           1  ",
      "text/html": "<div>\n<style scoped>\n    .dataframe tbody tr th:only-of-type {\n        vertical-align: middle;\n    }\n\n    .dataframe tbody tr th {\n        vertical-align: top;\n    }\n\n    .dataframe thead th {\n        text-align: right;\n    }\n</style>\n<table border=\"1\" class=\"dataframe\">\n  <thead>\n    <tr style=\"text-align: right;\">\n      <th></th>\n      <th>yN</th>\n      <th>x_is_bad</th>\n      <th>z_is_bad</th>\n      <th>z</th>\n      <th>x_prevalence_code</th>\n      <th>x_lev_a</th>\n      <th>x_lev_b</th>\n      <th>x_lev__NA_</th>\n    </tr>\n  </thead>\n  <tbody>\n    <tr>\n      <th>0</th>\n      <td>1.0</td>\n      <td>0.0</td>\n      <td>0.0</td>\n      <td>0.00</td>\n      <td>0.2</td>\n      <td>1</td>\n      <td>0</td>\n      <td>0</td>\n    </tr>\n    <tr>\n      <th>1</th>\n      <td>1.0</td>\n      <td>0.0</td>\n      <td>0.0</td>\n      <td>1.00</td>\n      <td>0.2</td>\n      <td>1</td>\n      <td>0</td>\n      <td>0</td>\n    </tr>\n    <tr>\n      <th>2</th>\n      <td>0.0</td>\n      <td>0.0</td>\n      <td>0.0</td>\n      <td>2.00</td>\n      <td>0.2</td>\n      <td>0</td>\n      <td>1</td>\n      <td>0</td>\n    </tr>\n    <tr>\n      <th>3</th>\n      <td>1.0</td>\n      <td>0.0</td>\n      <td>1.0</td>\n      <td>1.75</td>\n      <td>0.2</td>\n      <td>0</td>\n      <td>1</td>\n      <td>0</td>\n    </tr>\n    <tr>\n      <th>4</th>\n      <td>1.0</td>\n      <td>1.0</td>\n      <td>0.0</td>\n      <td>4.00</td>\n      <td>0.0</td>\n      <td>0</td>\n      <td>0</td>\n      <td>1</td>\n    </tr>\n  </tbody>\n</table>\n</div>"
     },
     "metadata": {},
     "output_type": "execute_result",
     "execution_count": 36
    }
   ],
   "source": [
    "dTreated = treatments.transform(d)\n",
    "dTreated"
   ]
  },
  {
   "cell_type": "code",
   "execution_count": 36,
   "metadata": {
    "pycharm": {
     "is_executing": false
    }
   },
   "outputs": [],
   "source": []
  },
  {
   "cell_type": "markdown",
   "metadata": {},
   "source": [
    "R original"
   ]
  },
  {
   "cell_type": "raw",
   "metadata": {},
   "source": [
    "## ----VTypesC1, results='hide'--------------------------------------------\n",
    "treatments <- designTreatmentsC(d, c('x', 'z'), 'y', TRUE)\n",
    "\n",
    "## ----VTypesC1s-----------------------------------------------------------\n",
    "print(treatments$scoreFrame[, scols])\n",
    "\n",
    "\n",
    "## ----VTypesC1p-----------------------------------------------------------\n",
    "dTreated <- prepare(treatments, d, pruneSig=NULL)\n",
    "print(dTreated)"
   ]
  },
  {
   "cell_type": "markdown",
   "metadata": {},
   "source": [
    "Python translation"
   ]
  },
  {
   "cell_type": "code",
   "execution_count": 37,
   "metadata": {
    "pycharm": {
     "is_executing": false
    }
   },
   "outputs": [],
   "source": [
    "## ----VTypesC1, results='hide'--------------------------------------------"
   ]
  },
  {
   "cell_type": "code",
   "execution_count": 38,
   "metadata": {
    "pycharm": {
     "is_executing": false
    }
   },
   "outputs": [
    {
     "data": {
      "text/plain": "<vtreat.BinomialOutcomeTreatment at 0x1a197fd048>"
     },
     "metadata": {},
     "output_type": "execute_result",
     "execution_count": 38
    }
   ],
   "source": [
    "treatments = vtreat.BinomialOutcomeTreatment(outcome_name='y',\n",
    "                                             outcome_target=True,\n",
    "                                             params = vtreat.vtreat_parameters({\n",
    "                                               'filter_to_recommended':False\n",
    "                                             }))\n",
    "treatments.fit(d[['x', 'z']], d['y'])"
   ]
  },
  {
   "cell_type": "code",
   "execution_count": 39,
   "metadata": {
    "pycharm": {
     "is_executing": false
    }
   },
   "outputs": [],
   "source": [
    "## ----VTypesC1s-----------------------------------------------------------"
   ]
  },
  {
   "cell_type": "code",
   "execution_count": 40,
   "metadata": {
    "pycharm": {
     "is_executing": false
    }
   },
   "outputs": [
    {
     "data": {
      "text/plain": "            variable orig_variable          treatment  y_aware  has_range  \\\n0           x_is_bad             x  missing_indicator    False       True   \n1           z_is_bad             z  missing_indicator    False       True   \n2                  z             z         clean_copy    False       True   \n3       x_logit_code             x         logit_code     True      False   \n4  x_prevalence_code             x    prevalence_code    False       True   \n5            x_lev_a             x     indicator_code    False       True   \n6            x_lev_b             x     indicator_code    False       True   \n7         x_lev__NA_             x     indicator_code    False       True   \n\n   PearsonR  significance  vcount  recommended  \n0  0.250000      0.685038     2.0        False  \n1  0.250000      0.685038     2.0        False  \n2 -0.094491      0.879869     1.0         True  \n3       NaN      1.000000     1.0        False  \n4 -0.250000      0.685038     1.0         True  \n5  0.408248      0.495025     3.0        False  \n6 -0.612372      0.272228     3.0         True  \n7  0.250000      0.685038     3.0        False  ",
      "text/html": "<div>\n<style scoped>\n    .dataframe tbody tr th:only-of-type {\n        vertical-align: middle;\n    }\n\n    .dataframe tbody tr th {\n        vertical-align: top;\n    }\n\n    .dataframe thead th {\n        text-align: right;\n    }\n</style>\n<table border=\"1\" class=\"dataframe\">\n  <thead>\n    <tr style=\"text-align: right;\">\n      <th></th>\n      <th>variable</th>\n      <th>orig_variable</th>\n      <th>treatment</th>\n      <th>y_aware</th>\n      <th>has_range</th>\n      <th>PearsonR</th>\n      <th>significance</th>\n      <th>vcount</th>\n      <th>recommended</th>\n    </tr>\n  </thead>\n  <tbody>\n    <tr>\n      <th>0</th>\n      <td>x_is_bad</td>\n      <td>x</td>\n      <td>missing_indicator</td>\n      <td>False</td>\n      <td>True</td>\n      <td>0.250000</td>\n      <td>0.685038</td>\n      <td>2.0</td>\n      <td>False</td>\n    </tr>\n    <tr>\n      <th>1</th>\n      <td>z_is_bad</td>\n      <td>z</td>\n      <td>missing_indicator</td>\n      <td>False</td>\n      <td>True</td>\n      <td>0.250000</td>\n      <td>0.685038</td>\n      <td>2.0</td>\n      <td>False</td>\n    </tr>\n    <tr>\n      <th>2</th>\n      <td>z</td>\n      <td>z</td>\n      <td>clean_copy</td>\n      <td>False</td>\n      <td>True</td>\n      <td>-0.094491</td>\n      <td>0.879869</td>\n      <td>1.0</td>\n      <td>True</td>\n    </tr>\n    <tr>\n      <th>3</th>\n      <td>x_logit_code</td>\n      <td>x</td>\n      <td>logit_code</td>\n      <td>True</td>\n      <td>False</td>\n      <td>NaN</td>\n      <td>1.000000</td>\n      <td>1.0</td>\n      <td>False</td>\n    </tr>\n    <tr>\n      <th>4</th>\n      <td>x_prevalence_code</td>\n      <td>x</td>\n      <td>prevalence_code</td>\n      <td>False</td>\n      <td>True</td>\n      <td>-0.250000</td>\n      <td>0.685038</td>\n      <td>1.0</td>\n      <td>True</td>\n    </tr>\n    <tr>\n      <th>5</th>\n      <td>x_lev_a</td>\n      <td>x</td>\n      <td>indicator_code</td>\n      <td>False</td>\n      <td>True</td>\n      <td>0.408248</td>\n      <td>0.495025</td>\n      <td>3.0</td>\n      <td>False</td>\n    </tr>\n    <tr>\n      <th>6</th>\n      <td>x_lev_b</td>\n      <td>x</td>\n      <td>indicator_code</td>\n      <td>False</td>\n      <td>True</td>\n      <td>-0.612372</td>\n      <td>0.272228</td>\n      <td>3.0</td>\n      <td>True</td>\n    </tr>\n    <tr>\n      <th>7</th>\n      <td>x_lev__NA_</td>\n      <td>x</td>\n      <td>indicator_code</td>\n      <td>False</td>\n      <td>True</td>\n      <td>0.250000</td>\n      <td>0.685038</td>\n      <td>3.0</td>\n      <td>False</td>\n    </tr>\n  </tbody>\n</table>\n</div>"
     },
     "metadata": {},
     "output_type": "execute_result",
     "execution_count": 40
    }
   ],
   "source": [
    "treatments.score_frame_"
   ]
  },
  {
   "cell_type": "code",
   "execution_count": 41,
   "metadata": {
    "pycharm": {
     "is_executing": false
    }
   },
   "outputs": [],
   "source": [
    "## ----VTypesC1p-----------------------------------------------------------"
   ]
  },
  {
   "cell_type": "code",
   "execution_count": 42,
   "metadata": {
    "pycharm": {
     "is_executing": false
    }
   },
   "outputs": [
    {
     "data": {
      "text/plain": "       y  x_is_bad  z_is_bad     z  x_prevalence_code  x_lev_a  x_lev_b  \\\n0   True       0.0       0.0  0.00                0.2        1        0   \n1   True       0.0       0.0  1.00                0.2        1        0   \n2  False       0.0       0.0  2.00                0.2        0        1   \n3   True       0.0       1.0  1.75                0.2        0        1   \n4   True       1.0       0.0  4.00                0.0        0        0   \n\n   x_lev__NA_  \n0           0  \n1           0  \n2           0  \n3           0  \n4           1  ",
      "text/html": "<div>\n<style scoped>\n    .dataframe tbody tr th:only-of-type {\n        vertical-align: middle;\n    }\n\n    .dataframe tbody tr th {\n        vertical-align: top;\n    }\n\n    .dataframe thead th {\n        text-align: right;\n    }\n</style>\n<table border=\"1\" class=\"dataframe\">\n  <thead>\n    <tr style=\"text-align: right;\">\n      <th></th>\n      <th>y</th>\n      <th>x_is_bad</th>\n      <th>z_is_bad</th>\n      <th>z</th>\n      <th>x_prevalence_code</th>\n      <th>x_lev_a</th>\n      <th>x_lev_b</th>\n      <th>x_lev__NA_</th>\n    </tr>\n  </thead>\n  <tbody>\n    <tr>\n      <th>0</th>\n      <td>True</td>\n      <td>0.0</td>\n      <td>0.0</td>\n      <td>0.00</td>\n      <td>0.2</td>\n      <td>1</td>\n      <td>0</td>\n      <td>0</td>\n    </tr>\n    <tr>\n      <th>1</th>\n      <td>True</td>\n      <td>0.0</td>\n      <td>0.0</td>\n      <td>1.00</td>\n      <td>0.2</td>\n      <td>1</td>\n      <td>0</td>\n      <td>0</td>\n    </tr>\n    <tr>\n      <th>2</th>\n      <td>False</td>\n      <td>0.0</td>\n      <td>0.0</td>\n      <td>2.00</td>\n      <td>0.2</td>\n      <td>0</td>\n      <td>1</td>\n      <td>0</td>\n    </tr>\n    <tr>\n      <th>3</th>\n      <td>True</td>\n      <td>0.0</td>\n      <td>1.0</td>\n      <td>1.75</td>\n      <td>0.2</td>\n      <td>0</td>\n      <td>1</td>\n      <td>0</td>\n    </tr>\n    <tr>\n      <th>4</th>\n      <td>True</td>\n      <td>1.0</td>\n      <td>0.0</td>\n      <td>4.00</td>\n      <td>0.0</td>\n      <td>0</td>\n      <td>0</td>\n      <td>1</td>\n    </tr>\n  </tbody>\n</table>\n</div>"
     },
     "metadata": {},
     "output_type": "execute_result",
     "execution_count": 42
    }
   ],
   "source": [
    "dTreated = treatments.transform(d)\n",
    "dTreated"
   ]
  },
  {
   "cell_type": "code",
   "execution_count": 42,
   "metadata": {
    "pycharm": {
     "is_executing": false
    }
   },
   "outputs": [],
   "source": []
  },
  {
   "cell_type": "markdown",
   "metadata": {},
   "source": [
    "R original"
   ]
  },
  {
   "cell_type": "raw",
   "metadata": {},
   "source": [
    "## ----VTypesZ1, results='hide'--------------------------------------------\n",
    "treatments <- designTreatmentsZ(d, c('x', 'z'))\n",
    "\n",
    "## ----VTypesZ1s-----------------------------------------------------------\n",
    "print(treatments$scoreFrame[, scols])\n",
    "\n",
    "\n",
    "## ----VTypesZ1p-----------------------------------------------------------\n",
    "dTreated <- prepare(treatments, d, pruneSig=NULL)\n",
    "print(dTreated)"
   ]
  },
  {
   "cell_type": "markdown",
   "metadata": {},
   "source": [
    "Python translation"
   ]
  },
  {
   "cell_type": "code",
   "execution_count": 43,
   "metadata": {
    "pycharm": {
     "is_executing": false
    }
   },
   "outputs": [],
   "source": [
    "## ----VTypesZ1, results='hide'--------------------------------------------"
   ]
  },
  {
   "cell_type": "code",
   "execution_count": 44,
   "metadata": {
    "pycharm": {
     "is_executing": false
    }
   },
   "outputs": [
    {
     "data": {
      "text/plain": "<vtreat.UnsupervisedTreatment at 0x1a19806c18>"
     },
     "metadata": {},
     "output_type": "execute_result",
     "execution_count": 44
    }
   ],
   "source": [
    "treatments = vtreat.UnsupervisedTreatment()\n",
    "treatments.fit(d[['x', 'z']])"
   ]
  },
  {
   "cell_type": "code",
   "execution_count": 45,
   "metadata": {
    "pycharm": {
     "is_executing": false
    }
   },
   "outputs": [],
   "source": [
    "## ----VTypesZ1p-----------------------------------------------------------"
   ]
  },
  {
   "cell_type": "code",
   "execution_count": 46,
   "metadata": {
    "pycharm": {
     "is_executing": false
    }
   },
   "outputs": [
    {
     "data": {
      "text/plain": "   x_is_bad  z_is_bad     z  x_prevalence_code  x_lev_a  x_lev_b  x_lev__NA_\n0       0.0       0.0  0.00                0.2        1        0           0\n1       0.0       0.0  1.00                0.2        1        0           0\n2       0.0       0.0  2.00                0.2        0        1           0\n3       0.0       1.0  1.75                0.2        0        1           0\n4       1.0       0.0  4.00                0.0        0        0           1",
      "text/html": "<div>\n<style scoped>\n    .dataframe tbody tr th:only-of-type {\n        vertical-align: middle;\n    }\n\n    .dataframe tbody tr th {\n        vertical-align: top;\n    }\n\n    .dataframe thead th {\n        text-align: right;\n    }\n</style>\n<table border=\"1\" class=\"dataframe\">\n  <thead>\n    <tr style=\"text-align: right;\">\n      <th></th>\n      <th>x_is_bad</th>\n      <th>z_is_bad</th>\n      <th>z</th>\n      <th>x_prevalence_code</th>\n      <th>x_lev_a</th>\n      <th>x_lev_b</th>\n      <th>x_lev__NA_</th>\n    </tr>\n  </thead>\n  <tbody>\n    <tr>\n      <th>0</th>\n      <td>0.0</td>\n      <td>0.0</td>\n      <td>0.00</td>\n      <td>0.2</td>\n      <td>1</td>\n      <td>0</td>\n      <td>0</td>\n    </tr>\n    <tr>\n      <th>1</th>\n      <td>0.0</td>\n      <td>0.0</td>\n      <td>1.00</td>\n      <td>0.2</td>\n      <td>1</td>\n      <td>0</td>\n      <td>0</td>\n    </tr>\n    <tr>\n      <th>2</th>\n      <td>0.0</td>\n      <td>0.0</td>\n      <td>2.00</td>\n      <td>0.2</td>\n      <td>0</td>\n      <td>1</td>\n      <td>0</td>\n    </tr>\n    <tr>\n      <th>3</th>\n      <td>0.0</td>\n      <td>1.0</td>\n      <td>1.75</td>\n      <td>0.2</td>\n      <td>0</td>\n      <td>1</td>\n      <td>0</td>\n    </tr>\n    <tr>\n      <th>4</th>\n      <td>1.0</td>\n      <td>0.0</td>\n      <td>4.00</td>\n      <td>0.0</td>\n      <td>0</td>\n      <td>0</td>\n      <td>1</td>\n    </tr>\n  </tbody>\n</table>\n</div>"
     },
     "metadata": {},
     "output_type": "execute_result",
     "execution_count": 46
    }
   ],
   "source": [
    "dTreated = treatments.transform(d)\n",
    "dTreated"
   ]
  },
  {
   "cell_type": "code",
   "execution_count": 46,
   "metadata": {
    "pycharm": {
     "is_executing": false
    }
   },
   "outputs": [],
   "source": []
  },
  {
   "cell_type": "markdown",
   "metadata": {},
   "source": [
    "R original"
   ]
  },
  {
   "cell_type": "raw",
   "metadata": {},
   "source": [
    "## ----VTypesCFN1, results='hide'------------------------------------------\n",
    "cfe <- mkCrossFrameNExperiment(d, c('x', 'z'), 'yN')\n",
    "treatments <- cfe$treatments\n",
    "dTreated <- cfe$crossFrame"
   ]
  },
  {
   "cell_type": "markdown",
   "metadata": {},
   "source": [
    "Python translation"
   ]
  },
  {
   "cell_type": "code",
   "execution_count": 47,
   "metadata": {
    "pycharm": {
     "is_executing": false
    }
   },
   "outputs": [
    {
     "data": {
      "text/plain": "   x_is_bad  z_is_bad     z  x_prevalence_code  x_lev_a  x_lev_b  x_lev__NA_\n0       0.0       0.0  0.00                0.2        1        0           0\n1       0.0       0.0  1.00                0.2        1        0           0\n2       0.0       0.0  2.00                0.2        0        1           0\n3       0.0       1.0  1.75                0.2        0        1           0\n4       1.0       0.0  4.00                0.0        0        0           1",
      "text/html": "<div>\n<style scoped>\n    .dataframe tbody tr th:only-of-type {\n        vertical-align: middle;\n    }\n\n    .dataframe tbody tr th {\n        vertical-align: top;\n    }\n\n    .dataframe thead th {\n        text-align: right;\n    }\n</style>\n<table border=\"1\" class=\"dataframe\">\n  <thead>\n    <tr style=\"text-align: right;\">\n      <th></th>\n      <th>x_is_bad</th>\n      <th>z_is_bad</th>\n      <th>z</th>\n      <th>x_prevalence_code</th>\n      <th>x_lev_a</th>\n      <th>x_lev_b</th>\n      <th>x_lev__NA_</th>\n    </tr>\n  </thead>\n  <tbody>\n    <tr>\n      <th>0</th>\n      <td>0.0</td>\n      <td>0.0</td>\n      <td>0.00</td>\n      <td>0.2</td>\n      <td>1</td>\n      <td>0</td>\n      <td>0</td>\n    </tr>\n    <tr>\n      <th>1</th>\n      <td>0.0</td>\n      <td>0.0</td>\n      <td>1.00</td>\n      <td>0.2</td>\n      <td>1</td>\n      <td>0</td>\n      <td>0</td>\n    </tr>\n    <tr>\n      <th>2</th>\n      <td>0.0</td>\n      <td>0.0</td>\n      <td>2.00</td>\n      <td>0.2</td>\n      <td>0</td>\n      <td>1</td>\n      <td>0</td>\n    </tr>\n    <tr>\n      <th>3</th>\n      <td>0.0</td>\n      <td>1.0</td>\n      <td>1.75</td>\n      <td>0.2</td>\n      <td>0</td>\n      <td>1</td>\n      <td>0</td>\n    </tr>\n    <tr>\n      <th>4</th>\n      <td>1.0</td>\n      <td>0.0</td>\n      <td>4.00</td>\n      <td>0.0</td>\n      <td>0</td>\n      <td>0</td>\n      <td>1</td>\n    </tr>\n  </tbody>\n</table>\n</div>"
     },
     "metadata": {},
     "output_type": "execute_result",
     "execution_count": 47
    }
   ],
   "source": [
    "treatments = vtreat.NumericOutcomeTreatment(outcome_name='yN',\n",
    "                                            params = vtreat.vtreat_parameters({\n",
    "                                               'filter_to_recommended':False\n",
    "                                            }))\n",
    "treatments.fit_transform(d[['x', 'z']], d['yN'])"
   ]
  },
  {
   "cell_type": "code",
   "execution_count": 48,
   "metadata": {
    "pycharm": {
     "is_executing": false
    }
   },
   "outputs": [
    {
     "data": {
      "text/plain": "            variable orig_variable          treatment  y_aware  has_range  \\\n0           x_is_bad             x  missing_indicator    False       True   \n1           z_is_bad             z  missing_indicator    False       True   \n2                  z             z         clean_copy    False       True   \n3      x_impact_code             x        impact_code     True      False   \n4    x_deviance_code             x      deviance_code     True      False   \n5  x_prevalence_code             x    prevalence_code    False       True   \n6            x_lev_a             x     indicator_code    False       True   \n7            x_lev_b             x     indicator_code    False       True   \n8         x_lev__NA_             x     indicator_code    False       True   \n\n   PearsonR  significance  vcount  recommended  \n0  0.250000      0.685038     2.0        False  \n1  0.250000      0.685038     2.0        False  \n2 -0.094491      0.879869     1.0         True  \n3       NaN      1.000000     1.0        False  \n4       NaN      1.000000     1.0        False  \n5 -0.250000      0.685038     1.0         True  \n6  0.408248      0.495025     3.0        False  \n7 -0.612372      0.272228     3.0         True  \n8  0.250000      0.685038     3.0        False  ",
      "text/html": "<div>\n<style scoped>\n    .dataframe tbody tr th:only-of-type {\n        vertical-align: middle;\n    }\n\n    .dataframe tbody tr th {\n        vertical-align: top;\n    }\n\n    .dataframe thead th {\n        text-align: right;\n    }\n</style>\n<table border=\"1\" class=\"dataframe\">\n  <thead>\n    <tr style=\"text-align: right;\">\n      <th></th>\n      <th>variable</th>\n      <th>orig_variable</th>\n      <th>treatment</th>\n      <th>y_aware</th>\n      <th>has_range</th>\n      <th>PearsonR</th>\n      <th>significance</th>\n      <th>vcount</th>\n      <th>recommended</th>\n    </tr>\n  </thead>\n  <tbody>\n    <tr>\n      <th>0</th>\n      <td>x_is_bad</td>\n      <td>x</td>\n      <td>missing_indicator</td>\n      <td>False</td>\n      <td>True</td>\n      <td>0.250000</td>\n      <td>0.685038</td>\n      <td>2.0</td>\n      <td>False</td>\n    </tr>\n    <tr>\n      <th>1</th>\n      <td>z_is_bad</td>\n      <td>z</td>\n      <td>missing_indicator</td>\n      <td>False</td>\n      <td>True</td>\n      <td>0.250000</td>\n      <td>0.685038</td>\n      <td>2.0</td>\n      <td>False</td>\n    </tr>\n    <tr>\n      <th>2</th>\n      <td>z</td>\n      <td>z</td>\n      <td>clean_copy</td>\n      <td>False</td>\n      <td>True</td>\n      <td>-0.094491</td>\n      <td>0.879869</td>\n      <td>1.0</td>\n      <td>True</td>\n    </tr>\n    <tr>\n      <th>3</th>\n      <td>x_impact_code</td>\n      <td>x</td>\n      <td>impact_code</td>\n      <td>True</td>\n      <td>False</td>\n      <td>NaN</td>\n      <td>1.000000</td>\n      <td>1.0</td>\n      <td>False</td>\n    </tr>\n    <tr>\n      <th>4</th>\n      <td>x_deviance_code</td>\n      <td>x</td>\n      <td>deviance_code</td>\n      <td>True</td>\n      <td>False</td>\n      <td>NaN</td>\n      <td>1.000000</td>\n      <td>1.0</td>\n      <td>False</td>\n    </tr>\n    <tr>\n      <th>5</th>\n      <td>x_prevalence_code</td>\n      <td>x</td>\n      <td>prevalence_code</td>\n      <td>False</td>\n      <td>True</td>\n      <td>-0.250000</td>\n      <td>0.685038</td>\n      <td>1.0</td>\n      <td>True</td>\n    </tr>\n    <tr>\n      <th>6</th>\n      <td>x_lev_a</td>\n      <td>x</td>\n      <td>indicator_code</td>\n      <td>False</td>\n      <td>True</td>\n      <td>0.408248</td>\n      <td>0.495025</td>\n      <td>3.0</td>\n      <td>False</td>\n    </tr>\n    <tr>\n      <th>7</th>\n      <td>x_lev_b</td>\n      <td>x</td>\n      <td>indicator_code</td>\n      <td>False</td>\n      <td>True</td>\n      <td>-0.612372</td>\n      <td>0.272228</td>\n      <td>3.0</td>\n      <td>True</td>\n    </tr>\n    <tr>\n      <th>8</th>\n      <td>x_lev__NA_</td>\n      <td>x</td>\n      <td>indicator_code</td>\n      <td>False</td>\n      <td>True</td>\n      <td>0.250000</td>\n      <td>0.685038</td>\n      <td>3.0</td>\n      <td>False</td>\n    </tr>\n  </tbody>\n</table>\n</div>"
     },
     "metadata": {},
     "output_type": "execute_result",
     "execution_count": 48
    }
   ],
   "source": [
    "treatments.score_frame_"
   ]
  },
  {
   "cell_type": "code",
   "execution_count": 48,
   "metadata": {
    "pycharm": {
     "is_executing": false
    }
   },
   "outputs": [],
   "source": []
  },
  {
   "cell_type": "markdown",
   "metadata": {},
   "source": [
    "R original"
   ]
  },
  {
   "cell_type": "raw",
   "metadata": {},
   "source": [
    "## ----VTypesCFN2, results='hide'------------------------------------------\n",
    "cfe <- mkCrossFrameCExperiment(d, c('x', 'z'), 'y', TRUE)\n",
    "treatments <- cfe$treatments\n",
    "dTreated <- cfe$crossFrame"
   ]
  },
  {
   "cell_type": "markdown",
   "metadata": {},
   "source": [
    "Python translation"
   ]
  },
  {
   "cell_type": "code",
   "execution_count": 49,
   "metadata": {
    "pycharm": {
     "is_executing": false
    }
   },
   "outputs": [],
   "source": [
    "## ----VTypesCFN2, results='hide'------------------------------------------"
   ]
  },
  {
   "cell_type": "code",
   "execution_count": 50,
   "metadata": {
    "pycharm": {
     "is_executing": false
    }
   },
   "outputs": [
    {
     "data": {
      "text/plain": "   x_is_bad  z_is_bad     z  x_prevalence_code  x_lev_a  x_lev_b  x_lev__NA_\n0       0.0       0.0  0.00                0.2        1        0           0\n1       0.0       0.0  1.00                0.2        1        0           0\n2       0.0       0.0  2.00                0.2        0        1           0\n3       0.0       1.0  1.75                0.2        0        1           0\n4       1.0       0.0  4.00                0.0        0        0           1",
      "text/html": "<div>\n<style scoped>\n    .dataframe tbody tr th:only-of-type {\n        vertical-align: middle;\n    }\n\n    .dataframe tbody tr th {\n        vertical-align: top;\n    }\n\n    .dataframe thead th {\n        text-align: right;\n    }\n</style>\n<table border=\"1\" class=\"dataframe\">\n  <thead>\n    <tr style=\"text-align: right;\">\n      <th></th>\n      <th>x_is_bad</th>\n      <th>z_is_bad</th>\n      <th>z</th>\n      <th>x_prevalence_code</th>\n      <th>x_lev_a</th>\n      <th>x_lev_b</th>\n      <th>x_lev__NA_</th>\n    </tr>\n  </thead>\n  <tbody>\n    <tr>\n      <th>0</th>\n      <td>0.0</td>\n      <td>0.0</td>\n      <td>0.00</td>\n      <td>0.2</td>\n      <td>1</td>\n      <td>0</td>\n      <td>0</td>\n    </tr>\n    <tr>\n      <th>1</th>\n      <td>0.0</td>\n      <td>0.0</td>\n      <td>1.00</td>\n      <td>0.2</td>\n      <td>1</td>\n      <td>0</td>\n      <td>0</td>\n    </tr>\n    <tr>\n      <th>2</th>\n      <td>0.0</td>\n      <td>0.0</td>\n      <td>2.00</td>\n      <td>0.2</td>\n      <td>0</td>\n      <td>1</td>\n      <td>0</td>\n    </tr>\n    <tr>\n      <th>3</th>\n      <td>0.0</td>\n      <td>1.0</td>\n      <td>1.75</td>\n      <td>0.2</td>\n      <td>0</td>\n      <td>1</td>\n      <td>0</td>\n    </tr>\n    <tr>\n      <th>4</th>\n      <td>1.0</td>\n      <td>0.0</td>\n      <td>4.00</td>\n      <td>0.0</td>\n      <td>0</td>\n      <td>0</td>\n      <td>1</td>\n    </tr>\n  </tbody>\n</table>\n</div>"
     },
     "metadata": {},
     "output_type": "execute_result",
     "execution_count": 50
    }
   ],
   "source": [
    "treatments = vtreat.BinomialOutcomeTreatment(outcome_name='y',\n",
    "                                             outcome_target=True,\n",
    "                                             params = vtreat.vtreat_parameters({\n",
    "                                               'filter_to_recommended':False\n",
    "                                             }))\n",
    "treatments.fit_transform(d[['x', 'z']], d['y'])"
   ]
  },
  {
   "cell_type": "code",
   "execution_count": 51,
   "metadata": {
    "pycharm": {
     "is_executing": false
    }
   },
   "outputs": [
    {
     "data": {
      "text/plain": "            variable orig_variable          treatment  y_aware  has_range  \\\n0           x_is_bad             x  missing_indicator    False       True   \n1           z_is_bad             z  missing_indicator    False       True   \n2                  z             z         clean_copy    False       True   \n3       x_logit_code             x         logit_code     True      False   \n4  x_prevalence_code             x    prevalence_code    False       True   \n5            x_lev_a             x     indicator_code    False       True   \n6            x_lev_b             x     indicator_code    False       True   \n7         x_lev__NA_             x     indicator_code    False       True   \n\n   PearsonR  significance  vcount  recommended  \n0  0.250000      0.685038     2.0        False  \n1  0.250000      0.685038     2.0        False  \n2 -0.094491      0.879869     1.0         True  \n3       NaN      1.000000     1.0        False  \n4 -0.250000      0.685038     1.0         True  \n5  0.408248      0.495025     3.0        False  \n6 -0.612372      0.272228     3.0         True  \n7  0.250000      0.685038     3.0        False  ",
      "text/html": "<div>\n<style scoped>\n    .dataframe tbody tr th:only-of-type {\n        vertical-align: middle;\n    }\n\n    .dataframe tbody tr th {\n        vertical-align: top;\n    }\n\n    .dataframe thead th {\n        text-align: right;\n    }\n</style>\n<table border=\"1\" class=\"dataframe\">\n  <thead>\n    <tr style=\"text-align: right;\">\n      <th></th>\n      <th>variable</th>\n      <th>orig_variable</th>\n      <th>treatment</th>\n      <th>y_aware</th>\n      <th>has_range</th>\n      <th>PearsonR</th>\n      <th>significance</th>\n      <th>vcount</th>\n      <th>recommended</th>\n    </tr>\n  </thead>\n  <tbody>\n    <tr>\n      <th>0</th>\n      <td>x_is_bad</td>\n      <td>x</td>\n      <td>missing_indicator</td>\n      <td>False</td>\n      <td>True</td>\n      <td>0.250000</td>\n      <td>0.685038</td>\n      <td>2.0</td>\n      <td>False</td>\n    </tr>\n    <tr>\n      <th>1</th>\n      <td>z_is_bad</td>\n      <td>z</td>\n      <td>missing_indicator</td>\n      <td>False</td>\n      <td>True</td>\n      <td>0.250000</td>\n      <td>0.685038</td>\n      <td>2.0</td>\n      <td>False</td>\n    </tr>\n    <tr>\n      <th>2</th>\n      <td>z</td>\n      <td>z</td>\n      <td>clean_copy</td>\n      <td>False</td>\n      <td>True</td>\n      <td>-0.094491</td>\n      <td>0.879869</td>\n      <td>1.0</td>\n      <td>True</td>\n    </tr>\n    <tr>\n      <th>3</th>\n      <td>x_logit_code</td>\n      <td>x</td>\n      <td>logit_code</td>\n      <td>True</td>\n      <td>False</td>\n      <td>NaN</td>\n      <td>1.000000</td>\n      <td>1.0</td>\n      <td>False</td>\n    </tr>\n    <tr>\n      <th>4</th>\n      <td>x_prevalence_code</td>\n      <td>x</td>\n      <td>prevalence_code</td>\n      <td>False</td>\n      <td>True</td>\n      <td>-0.250000</td>\n      <td>0.685038</td>\n      <td>1.0</td>\n      <td>True</td>\n    </tr>\n    <tr>\n      <th>5</th>\n      <td>x_lev_a</td>\n      <td>x</td>\n      <td>indicator_code</td>\n      <td>False</td>\n      <td>True</td>\n      <td>0.408248</td>\n      <td>0.495025</td>\n      <td>3.0</td>\n      <td>False</td>\n    </tr>\n    <tr>\n      <th>6</th>\n      <td>x_lev_b</td>\n      <td>x</td>\n      <td>indicator_code</td>\n      <td>False</td>\n      <td>True</td>\n      <td>-0.612372</td>\n      <td>0.272228</td>\n      <td>3.0</td>\n      <td>True</td>\n    </tr>\n    <tr>\n      <th>7</th>\n      <td>x_lev__NA_</td>\n      <td>x</td>\n      <td>indicator_code</td>\n      <td>False</td>\n      <td>True</td>\n      <td>0.250000</td>\n      <td>0.685038</td>\n      <td>3.0</td>\n      <td>False</td>\n    </tr>\n  </tbody>\n</table>\n</div>"
     },
     "metadata": {},
     "output_type": "execute_result",
     "execution_count": 51
    }
   ],
   "source": [
    "treatments.score_frame_"
   ]
  },
  {
   "cell_type": "code",
   "execution_count": 51,
   "metadata": {
    "pycharm": {
     "is_executing": false
    }
   },
   "outputs": [],
   "source": []
  },
  {
   "cell_type": "markdown",
   "metadata": {},
   "source": [
    "R original"
   ]
  },
  {
   "cell_type": "raw",
   "metadata": {},
   "source": [
    "## ----VTypesfsplitexample-------------------------------------------------\n",
    "str(vtreat::oneWayHoldout(3, NULL, NULL, NULL))"
   ]
  },
  {
   "cell_type": "markdown",
   "metadata": {},
   "source": [
    "Python translation"
   ]
  },
  {
   "cell_type": "code",
   "execution_count": 52,
   "metadata": {
    "pycharm": {
     "is_executing": false
    }
   },
   "outputs": [
    {
     "data": {
      "text/plain": "[{'train': [0, 1, 3, 7, 8, 9], 'app': [2, 4, 5, 6]},\n {'train': [2, 3, 4, 5, 6, 8, 9], 'app': [0, 1, 7]},\n {'train': [0, 1, 2, 4, 5, 6, 7], 'app': [3, 8, 9]}]"
     },
     "metadata": {},
     "output_type": "execute_result",
     "execution_count": 52
    }
   ],
   "source": [
    "import vtreat.cross_plan\n",
    "\n",
    "vtreat.cross_plan.k_way_cross_plan(10, 3)"
   ]
  },
  {
   "cell_type": "code",
   "execution_count": 53,
   "metadata": {
    "pycharm": {
     "is_executing": false
    }
   },
   "outputs": [
    {
     "data": {
      "text/plain": "[{'train': [0, 1], 'app': [0, 1]}]"
     },
     "metadata": {},
     "output_type": "execute_result",
     "execution_count": 53
    }
   ],
   "source": [
    "vtreat.cross_plan.k_way_cross_plan(2, 1)"
   ]
  },
  {
   "cell_type": "code",
   "execution_count": 54,
   "metadata": {
    "pycharm": {
     "is_executing": false
    }
   },
   "outputs": [
    {
     "data": {
      "text/plain": "[{'train': [0], 'app': [0]}]"
     },
     "metadata": {},
     "output_type": "execute_result",
     "execution_count": 54
    }
   ],
   "source": [
    "vtreat.cross_plan.k_way_cross_plan(1, 0)"
   ]
  },
  {
   "cell_type": "code",
   "execution_count": 55,
   "metadata": {
    "pycharm": {
     "is_executing": false
    }
   },
   "outputs": [
    {
     "data": {
      "text/plain": "[{'train': [], 'app': []}]"
     },
     "metadata": {},
     "output_type": "execute_result",
     "execution_count": 55
    }
   ],
   "source": [
    "vtreat.cross_plan.k_way_cross_plan(0, 0)"
   ]
  },
  {
   "cell_type": "code",
   "execution_count": 55,
   "metadata": {
    "pycharm": {
     "is_executing": false
    }
   },
   "outputs": [],
   "source": []
  },
  {
   "cell_type": "code",
   "execution_count": 55,
   "metadata": {
    "pycharm": {
     "is_executing": false
    }
   },
   "outputs": [],
   "source": []
  },
  {
   "cell_type": "markdown",
   "metadata": {},
   "source": [
    "R original"
   ]
  },
  {
   "cell_type": "raw",
   "metadata": {},
   "source": [
    "## ----VTypesParellel, results='hide'--------------------------------------\n",
    "ncore <- 2\n",
    "parallelCluster <- parallel::makeCluster(ncore)\n",
    "cfe <- mkCrossFrameNExperiment(d, c('x', 'z'), 'yN', \n",
    "   parallelCluster=parallelCluster)\n",
    "parallel::stopCluster(parallelCluster)"
   ]
  },
  {
   "cell_type": "markdown",
   "metadata": {},
   "source": [
    "Python translation"
   ]
  },
  {
   "cell_type": "code",
   "execution_count": 56,
   "metadata": {
    "pycharm": {
     "is_executing": false
    }
   },
   "outputs": [],
   "source": [
    "# We currently do not have a parallel option for the Python version of vtreat."
   ]
  }
 ],
 "metadata": {
  "kernelspec": {
   "display_name": "Python 3",
   "language": "python",
   "name": "python3"
  },
  "language_info": {
   "codemirror_mode": {
    "name": "ipython",
    "version": 3
   },
   "file_extension": ".py",
   "mimetype": "text/x-python",
   "name": "python",
   "nbconvert_exporter": "python",
   "pygments_lexer": "ipython3",
   "version": "3.7.3"
  },
  "pycharm": {
   "stem_cell": {
    "cell_type": "raw",
    "source": [],
    "metadata": {
     "collapsed": false
    }
   }
  }
 },
 "nbformat": 4,
 "nbformat_minor": 4
}