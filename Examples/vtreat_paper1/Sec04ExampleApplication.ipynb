{
 "cells": [
  {
   "cell_type": "markdown",
   "metadata": {},
   "source": [
    "Translating the R sequences from https://arxiv.org/abs/1611.09477 into Python vtreat https://github.com/WinVector/pyvtreat"
   ]
  },
  {
   "cell_type": "code",
   "execution_count": null,
   "metadata": {},
   "outputs": [],
   "source": []
  },
  {
   "cell_type": "markdown",
   "metadata": {},
   "source": [
    "R original"
   ]
  },
  {
   "cell_type": "raw",
   "metadata": {},
   "source": [
    "## ----LookFTData, echo=TRUE, warning=FALSE, message=FALSE-----------------\n",
    "library(\"Amelia\")\n",
    "data(\"freetrade\")\n",
    "str(freetrade)"
   ]
  },
  {
   "cell_type": "markdown",
   "metadata": {},
   "source": [
    "Python translation"
   ]
  },
  {
   "cell_type": "code",
   "execution_count": 1,
   "metadata": {},
   "outputs": [
    {
     "data": {
      "text/html": [
       "<div>\n",
       "<style scoped>\n",
       "    .dataframe tbody tr th:only-of-type {\n",
       "        vertical-align: middle;\n",
       "    }\n",
       "\n",
       "    .dataframe tbody tr th {\n",
       "        vertical-align: top;\n",
       "    }\n",
       "\n",
       "    .dataframe thead th {\n",
       "        text-align: right;\n",
       "    }\n",
       "</style>\n",
       "<table border=\"1\" class=\"dataframe\">\n",
       "  <thead>\n",
       "    <tr style=\"text-align: right;\">\n",
       "      <th></th>\n",
       "      <th>year</th>\n",
       "      <th>country</th>\n",
       "      <th>tariff</th>\n",
       "      <th>polity</th>\n",
       "      <th>pop</th>\n",
       "      <th>gdp.pc</th>\n",
       "      <th>intresmi</th>\n",
       "      <th>signed</th>\n",
       "      <th>fiveop</th>\n",
       "      <th>usheg</th>\n",
       "    </tr>\n",
       "  </thead>\n",
       "  <tbody>\n",
       "    <tr>\n",
       "      <th>0</th>\n",
       "      <td>1981</td>\n",
       "      <td>SriLanka</td>\n",
       "      <td>NaN</td>\n",
       "      <td>6.0</td>\n",
       "      <td>14988000</td>\n",
       "      <td>461.023590</td>\n",
       "      <td>1.937347</td>\n",
       "      <td>0.0</td>\n",
       "      <td>12.4</td>\n",
       "      <td>0.259311</td>\n",
       "    </tr>\n",
       "    <tr>\n",
       "      <th>1</th>\n",
       "      <td>1982</td>\n",
       "      <td>SriLanka</td>\n",
       "      <td>NaN</td>\n",
       "      <td>5.0</td>\n",
       "      <td>15189000</td>\n",
       "      <td>473.763397</td>\n",
       "      <td>1.964430</td>\n",
       "      <td>0.0</td>\n",
       "      <td>12.5</td>\n",
       "      <td>0.255801</td>\n",
       "    </tr>\n",
       "    <tr>\n",
       "      <th>2</th>\n",
       "      <td>1983</td>\n",
       "      <td>SriLanka</td>\n",
       "      <td>41.299999</td>\n",
       "      <td>5.0</td>\n",
       "      <td>15417000</td>\n",
       "      <td>489.226562</td>\n",
       "      <td>1.663936</td>\n",
       "      <td>1.0</td>\n",
       "      <td>12.3</td>\n",
       "      <td>0.265502</td>\n",
       "    </tr>\n",
       "    <tr>\n",
       "      <th>3</th>\n",
       "      <td>1984</td>\n",
       "      <td>SriLanka</td>\n",
       "      <td>NaN</td>\n",
       "      <td>5.0</td>\n",
       "      <td>15599000</td>\n",
       "      <td>508.173920</td>\n",
       "      <td>2.797462</td>\n",
       "      <td>0.0</td>\n",
       "      <td>12.3</td>\n",
       "      <td>0.298801</td>\n",
       "    </tr>\n",
       "    <tr>\n",
       "      <th>4</th>\n",
       "      <td>1985</td>\n",
       "      <td>SriLanka</td>\n",
       "      <td>31.000000</td>\n",
       "      <td>5.0</td>\n",
       "      <td>15837000</td>\n",
       "      <td>525.560852</td>\n",
       "      <td>2.259116</td>\n",
       "      <td>0.0</td>\n",
       "      <td>12.3</td>\n",
       "      <td>0.295243</td>\n",
       "    </tr>\n",
       "  </tbody>\n",
       "</table>\n",
       "</div>"
      ],
      "text/plain": [
       "   year   country     tariff  polity       pop      gdp.pc  intresmi  signed  \\\n",
       "0  1981  SriLanka        NaN     6.0  14988000  461.023590  1.937347     0.0   \n",
       "1  1982  SriLanka        NaN     5.0  15189000  473.763397  1.964430     0.0   \n",
       "2  1983  SriLanka  41.299999     5.0  15417000  489.226562  1.663936     1.0   \n",
       "3  1984  SriLanka        NaN     5.0  15599000  508.173920  2.797462     0.0   \n",
       "4  1985  SriLanka  31.000000     5.0  15837000  525.560852  2.259116     0.0   \n",
       "\n",
       "   fiveop     usheg  \n",
       "0    12.4  0.259311  \n",
       "1    12.5  0.255801  \n",
       "2    12.3  0.265502  \n",
       "3    12.3  0.298801  \n",
       "4    12.3  0.295243  "
      ]
     },
     "execution_count": 1,
     "metadata": {},
     "output_type": "execute_result"
    }
   ],
   "source": [
    "import pandas\n",
    "import numpy\n",
    "import numpy.random\n",
    "import vtreat # https://github.com/WinVector/pyvtreat\n",
    "\n",
    "\n",
    "freetrade = pandas.read_csv('freetrade.csv')\n",
    "freetrade.head()"
   ]
  },
  {
   "cell_type": "code",
   "execution_count": 2,
   "metadata": {},
   "outputs": [
    {
     "data": {
      "text/plain": [
       "year          int64\n",
       "country      object\n",
       "tariff      float64\n",
       "polity      float64\n",
       "pop           int64\n",
       "gdp.pc      float64\n",
       "intresmi    float64\n",
       "signed      float64\n",
       "fiveop      float64\n",
       "usheg       float64\n",
       "dtype: object"
      ]
     },
     "execution_count": 2,
     "metadata": {},
     "output_type": "execute_result"
    }
   ],
   "source": [
    "freetrade.dtypes"
   ]
  },
  {
   "cell_type": "code",
   "execution_count": null,
   "metadata": {},
   "outputs": [],
   "source": []
  },
  {
   "cell_type": "markdown",
   "metadata": {},
   "source": [
    "R original"
   ]
  },
  {
   "cell_type": "raw",
   "metadata": {},
   "source": [
    "## ----LookFTData2, echo=FALSE, warning=FALSE, message=FALSE, fig.width=6, fig.height=3----\n",
    "library(\"ggplot2\")\n",
    "compRsq <- function(d, x, y) {\n",
    "  meany <- mean(d[[y]])\n",
    "  rsq <- 1-sum((d[[y]]-d[[x]])^2)/sum((d[[y]]-meany)^2)\n",
    "  rsq\n",
    "}\n",
    "plotFit <- function(d, x, y, title) {\n",
    "  rsq <- compRsq(d, x, y)\n",
    "  ggplot(data=d, aes_string(x=x, y=y)) +\n",
    "    geom_abline(color='blue') +\n",
    "    geom_point() +\n",
    "    ggtitle(paste(title, '\\n', 'R-squared:', \n",
    "                  format(rsq, scientific=FALSE, digits=3)))\n",
    "}\n",
    "plotFrame <- freetrade\n",
    "sortFrame <- plotFrame[plotFrame$year==1989, c('country', 'gdp.pc')]\n",
    "orderedLevels <- sortFrame$country[order(-sortFrame$gdp.pc)]\n",
    "plotFrame$country <- factor(plotFrame$country, orderedLevels)\n",
    "ggplot(data=plotFrame, aes(x=year, y=gdp.pc, color=country, linetype=country)) +\n",
    "     geom_point() + geom_line()"
   ]
  },
  {
   "cell_type": "markdown",
   "metadata": {},
   "source": [
    "Python version"
   ]
  },
  {
   "cell_type": "code",
   "execution_count": 9,
   "metadata": {},
   "outputs": [],
   "source": [
    "import seaborn\n",
    "\n",
    "def compRsq(d, x, y):\n",
    "    meany = numpy.mean(d[y])\n",
    "    rsq = 1-numpy.sum((d[y]-d[x])**2)/numpy.sum((d[y]-meany)**2)\n",
    "    return rsq\n",
    "\n",
    "\n",
    "def plotFit(d, x, y, title):\n",
    "    rsq = compRsq(d, x, y)\n",
    "    title = title + \"\\nR-squared: \" + '{:.3f}'.format(rsq)\n",
    "    seaborn.scatterplot(x=x, y=y, data=d).set_title(title)"
   ]
  },
  {
   "cell_type": "code",
   "execution_count": 4,
   "metadata": {},
   "outputs": [
    {
     "data": {
      "text/plain": [
       "<matplotlib.axes._subplots.AxesSubplot at 0x109ef0b70>"
      ]
     },
     "execution_count": 4,
     "metadata": {},
     "output_type": "execute_result"
    },
    {
     "data": {
      "image/png": "[encoded data removed]",
      "text/plain": [
       "<Figure size 432x288 with 1 Axes>"
      ]
     },
     "metadata": {
      "needs_background": "light"
     },
     "output_type": "display_data"
    }
   ],
   "source": [
    "plotFrame =freetrade\n",
    "sortFrame = plotFrame.loc[plotFrame['year']==1989, ]\n",
    "seaborn.lineplot(x='year', y='gdp.pc', data=plotFrame, hue='country')"
   ]
  },
  {
   "cell_type": "code",
   "execution_count": null,
   "metadata": {},
   "outputs": [],
   "source": []
  },
  {
   "cell_type": "markdown",
   "metadata": {},
   "source": [
    "R origninal"
   ]
  },
  {
   "cell_type": "raw",
   "metadata": {},
   "source": [
    "## ----LookFTDefGoal1------------------------------------------------------\n",
    "trainData <- freetrade[freetrade$year<1990, ]\n",
    "testData <- freetrade[freetrade$year>=1990, ]\n",
    "origVars <- c('tariff', 'polity', 'pop', 'year', 'country')\n",
    "\n",
    "\n",
    "## ----ModelPast2, echo=FALSE, warning=FALSE, message=FALSE, fig.width=6, fig.height=3----\n",
    "paired <- merge(freetrade[freetrade$year==1989, c('country', 'year', 'gdp.pc')], \n",
    "               freetrade[freetrade$year>=1990, c('country', 'year', 'gdp.pc')], \n",
    "               by='country', suffixes=c('.1989', '.1990.and.after'))\n",
    "plotFit(paired, 'gdp.pc.1989', 'gdp.pc.1990.and.after', \n",
    "                     '1990 and later gdp as a function of 1989 gdp, grouped by country')"
   ]
  },
  {
   "cell_type": "markdown",
   "metadata": {},
   "source": [
    "Python version"
   ]
  },
  {
   "cell_type": "code",
   "execution_count": 5,
   "metadata": {},
   "outputs": [],
   "source": [
    "## ----LookFTDefGoal1------------------------------------------------------"
   ]
  },
  {
   "cell_type": "code",
   "execution_count": 6,
   "metadata": {},
   "outputs": [],
   "source": [
    "trainData = freetrade.loc[freetrade['year']<1990, :].copy()\n",
    "testData = freetrade.loc[freetrade['year']>=1990, :].copy()\n",
    "origVars = ['tariff', 'polity', 'pop', 'year', 'country']"
   ]
  },
  {
   "cell_type": "code",
   "execution_count": 7,
   "metadata": {},
   "outputs": [],
   "source": [
    "## ----ModelPast2, echo=FALSE, warning=FALSE, message=FALSE, fig.width=6, fig.height=3----"
   ]
  },
  {
   "cell_type": "code",
   "execution_count": 10,
   "metadata": {},
   "outputs": [
    {
     "data": {
      "image/png": "[encoded data removed]",
      "text/plain": [
       "<Figure size 432x288 with 1 Axes>"
      ]
     },
     "metadata": {
      "needs_background": "light"
     },
     "output_type": "display_data"
    }
   ],
   "source": [
    "paired = freetrade.loc[freetrade['year']==1989, ['country', 'year', 'gdp.pc']].merge(\n",
    "               freetrade.loc[freetrade['year']>=1990, ['country', 'year', 'gdp.pc']], \n",
    "               on='country', \n",
    "               suffixes=['.1989', '.1990.and.after'])\n",
    "plotFit(paired, 'gdp.pc.1989', 'gdp.pc.1990.and.after', \n",
    "                     '1990 and later gdp as a function of 1989 gdp, grouped by country')"
   ]
  },
  {
   "cell_type": "code",
   "execution_count": null,
   "metadata": {},
   "outputs": [],
   "source": []
  },
  {
   "cell_type": "markdown",
   "metadata": {},
   "source": [
    "R original"
   ]
  },
  {
   "cell_type": "raw",
   "metadata": {},
   "source": [
    "## ----ClearForSec03Try1, results='hide', echo=FALSE-----------------------\n",
    "rm(list=setdiff(ls(), \n",
    "                c('origVars', 'trainData', 'testData', 'compRsq', \n",
    "                  'plotFit', 'addInteractions')))\n",
    "\n",
    "\n",
    "## ----ModelFTTry1, warning=FALSE, message=FALSE, results='hide'-----------\n",
    "library(\"vtreat\")\n",
    "treatments <- designTreatmentsN(trainData, origVars, 'gdp.pc')\n",
    "scoreFrame <- treatments$scoreFrame\n",
    "\n",
    "\n",
    "## ----ModelFTTry1p2, warning=FALSE, message=FALSE-------------------------\n",
    "modelingVars <- unique(c('year', \n",
    "   scoreFrame$varName[(scoreFrame$sig < 1 / nrow(scoreFrame)) &\n",
    "    !(scoreFrame$code %in% c('lev'))]))\n",
    "print(modelingVars)\n",
    "trainTreated <- prepare(treatments, trainData, \n",
    "                       pruneSig=NULL, varRestriction=modelingVars)\n",
    "testTreated <- prepare(treatments, testData, \n",
    "                       pruneSig=NULL, varRestriction=modelingVars)\n",
    "formula <- paste('gdp.pc', paste(modelingVars, collapse=' + '), sep=' ~ ')\n",
    "print(strwrap(formula))\n",
    "model <- lm(as.formula(formula), data=trainTreated)\n",
    "testTreated$pred <- predict(model, newdata=testTreated)\n",
    "\n",
    "\n",
    "## ----ModelFTTry1plot, echo=FALSE, warning=FALSE, message=FALSE, fig.width=6, fig.height=3----\n",
    "plotFit(testTreated, 'pred', 'gdp.pc', \n",
    "        'test gdp naively reusing training data')\n",
    "\n",
    "\n",
    "## ----ClearForSec03Try2, results='hide', echo=FALSE-----------------------\n",
    "rm(list=setdiff(ls(), \n",
    "                c('origVars', 'trainData', 'testData', 'compRsq', \n",
    "                  'plotFit', 'addInteractions')))\n",
    "\n",
    "\n",
    "## ----ModelFTTry3, warning=FALSE, message=FALSE---------------------------\n",
    "timeOrderedSplitter <- function(nRows, nSplits, dframe, y) {\n",
    "  years <- sort(unique(dframe$year))\n",
    "  splits <- lapply(years, function(y) {\n",
    "    list(train=which(dframe$year<y), \n",
    "         app=which(dframe$year>=y))\n",
    "  })\n",
    "  Filter(function(si) {\n",
    "          (length(si$train)>0) && (length(si$app)>0)\n",
    "         }, \n",
    "         splits)\n",
    "}\n",
    "\n",
    "\n",
    "## ----ModelFTTry3b, warning=FALSE, message=FALSE--------------------------\n",
    "cfe <- mkCrossFrameNExperiment(trainData, origVars, 'gdp.pc', \n",
    "                               splitFunction=timeOrderedSplitter)\n",
    "print(cfe$method)\n",
    "treatments <- cfe$treatments\n",
    "scoreFrame <- treatments$scoreFrame\n",
    "modelingVars <- unique(c('year', \n",
    "   scoreFrame$varName[(scoreFrame$sig < 1 / nrow(scoreFrame)) &\n",
    "    !(scoreFrame$code %in% c('lev'))]))\n",
    "print(modelingVars)\n",
    "trainTreated <- cfe$crossFrame\n",
    "testTreated <- prepare(treatments, testData, \n",
    "                       pruneSig=NULL, varRestriction=modelingVars)\n",
    "formula <- paste('gdp.pc', paste(modelingVars, collapse=' + '), sep=' ~ ')\n",
    "print(strwrap(formula))\n",
    "model <- lm(as.formula(formula), data=trainTreated)\n",
    "testTreated$pred <- predict(model, newdata=testTreated)\n",
    "\n",
    "\n",
    "## ----ModelFTTry3bplot, echo=FALSE, warning=FALSE, message=FALSE, fig.width=6, fig.height=3----\n",
    "plotFit(testTreated, 'pred', 'gdp.pc', \n",
    "        'test gdp using time ordered training split')\n",
    "\n",
    "\n",
    "\n",
    "\n"
   ]
  }
 ],
 "metadata": {
  "kernelspec": {
   "display_name": "Python 3",
   "language": "python",
   "name": "python3"
  },
  "language_info": {
   "codemirror_mode": {
    "name": "ipython",
    "version": 3
   },
   "file_extension": ".py",
   "mimetype": "text/x-python",
   "name": "python",
   "nbconvert_exporter": "python",
   "pygments_lexer": "ipython3",
   "version": "3.7.3"
  }
 },
 "nbformat": 4,
 "nbformat_minor": 4
}
