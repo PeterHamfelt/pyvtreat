{
 "cells": [
  {
   "cell_type": "markdown",
   "metadata": {},
   "source": [
    "Note: this example is inferior and has been removed from the paper and replace by a much better demonstration found\n",
    "here: https://github.com/WinVector/pyvtreat/blob/master/Examples/OrderedCrossPlan/OrderedExample.ipynb\n",
    "\n",
    "\n",
    "Translating the R sequences from https://arxiv.org/abs/1611.09477 into Python vtreat https://github.com/WinVector/pyvtreat"
   ]
  },
  {
   "cell_type": "code",
   "execution_count": null,
   "metadata": {
    "pycharm": {
     "is_executing": false
    }
   },
   "outputs": [],
   "source": []
  },
  {
   "cell_type": "markdown",
   "metadata": {},
   "source": [
    "R original"
   ]
  },
  {
   "cell_type": "raw",
   "metadata": {},
   "source": [
    "## ----LookFTData, echo=TRUE, warning=FALSE, message=FALSE-----------------\n",
    "library(\"Amelia\")\n",
    "data(\"freetrade\")\n",
    "str(freetrade)"
   ]
  },
  {
   "cell_type": "markdown",
   "metadata": {},
   "source": [
    "Python translation"
   ]
  },
  {
   "cell_type": "code",
   "execution_count": 1,
   "metadata": {
    "pycharm": {
     "is_executing": false
    }
   },
   "outputs": [],
   "source": [
    "import pandas\n",
    "import numpy\n",
    "import numpy.random\n",
    "import sklearn.linear_model\n",
    "import vtreat # https://github.com/WinVector/pyvtreat\n",
    "import vtreat.cross_plan\n",
    "import vtreat.util"
   ]
  },
  {
   "cell_type": "code",
   "execution_count": 2,
   "metadata": {
    "pycharm": {
     "is_executing": false
    }
   },
   "outputs": [
    {
     "data": {
      "text/html": [
       "<div>\n",
       "<style scoped>\n",
       "    .dataframe tbody tr th:only-of-type {\n",
       "        vertical-align: middle;\n",
       "    }\n",
       "\n",
       "    .dataframe tbody tr th {\n",
       "        vertical-align: top;\n",
       "    }\n",
       "\n",
       "    .dataframe thead th {\n",
       "        text-align: right;\n",
       "    }\n",
       "</style>\n",
       "<table border=\"1\" class=\"dataframe\">\n",
       "  <thead>\n",
       "    <tr style=\"text-align: right;\">\n",
       "      <th></th>\n",
       "      <th>year</th>\n",
       "      <th>country</th>\n",
       "      <th>tariff</th>\n",
       "      <th>polity</th>\n",
       "      <th>pop</th>\n",
       "      <th>gdp.pc</th>\n",
       "      <th>intresmi</th>\n",
       "      <th>signed</th>\n",
       "      <th>fiveop</th>\n",
       "      <th>usheg</th>\n",
       "    </tr>\n",
       "  </thead>\n",
       "  <tbody>\n",
       "    <tr>\n",
       "      <th>0</th>\n",
       "      <td>1981</td>\n",
       "      <td>SriLanka</td>\n",
       "      <td>NaN</td>\n",
       "      <td>6.0</td>\n",
       "      <td>14988000</td>\n",
       "      <td>461.023590</td>\n",
       "      <td>1.937347</td>\n",
       "      <td>0.0</td>\n",
       "      <td>12.4</td>\n",
       "      <td>0.259311</td>\n",
       "    </tr>\n",
       "    <tr>\n",
       "      <th>1</th>\n",
       "      <td>1982</td>\n",
       "      <td>SriLanka</td>\n",
       "      <td>NaN</td>\n",
       "      <td>5.0</td>\n",
       "      <td>15189000</td>\n",
       "      <td>473.763397</td>\n",
       "      <td>1.964430</td>\n",
       "      <td>0.0</td>\n",
       "      <td>12.5</td>\n",
       "      <td>0.255801</td>\n",
       "    </tr>\n",
       "    <tr>\n",
       "      <th>2</th>\n",
       "      <td>1983</td>\n",
       "      <td>SriLanka</td>\n",
       "      <td>41.299999</td>\n",
       "      <td>5.0</td>\n",
       "      <td>15417000</td>\n",
       "      <td>489.226562</td>\n",
       "      <td>1.663936</td>\n",
       "      <td>1.0</td>\n",
       "      <td>12.3</td>\n",
       "      <td>0.265502</td>\n",
       "    </tr>\n",
       "    <tr>\n",
       "      <th>3</th>\n",
       "      <td>1984</td>\n",
       "      <td>SriLanka</td>\n",
       "      <td>NaN</td>\n",
       "      <td>5.0</td>\n",
       "      <td>15599000</td>\n",
       "      <td>508.173920</td>\n",
       "      <td>2.797462</td>\n",
       "      <td>0.0</td>\n",
       "      <td>12.3</td>\n",
       "      <td>0.298801</td>\n",
       "    </tr>\n",
       "    <tr>\n",
       "      <th>4</th>\n",
       "      <td>1985</td>\n",
       "      <td>SriLanka</td>\n",
       "      <td>31.000000</td>\n",
       "      <td>5.0</td>\n",
       "      <td>15837000</td>\n",
       "      <td>525.560852</td>\n",
       "      <td>2.259116</td>\n",
       "      <td>0.0</td>\n",
       "      <td>12.3</td>\n",
       "      <td>0.295243</td>\n",
       "    </tr>\n",
       "  </tbody>\n",
       "</table>\n",
       "</div>"
      ],
      "text/plain": [
       "   year   country     tariff  polity       pop      gdp.pc  intresmi  signed  \\\n",
       "0  1981  SriLanka        NaN     6.0  14988000  461.023590  1.937347     0.0   \n",
       "1  1982  SriLanka        NaN     5.0  15189000  473.763397  1.964430     0.0   \n",
       "2  1983  SriLanka  41.299999     5.0  15417000  489.226562  1.663936     1.0   \n",
       "3  1984  SriLanka        NaN     5.0  15599000  508.173920  2.797462     0.0   \n",
       "4  1985  SriLanka  31.000000     5.0  15837000  525.560852  2.259116     0.0   \n",
       "\n",
       "   fiveop     usheg  \n",
       "0    12.4  0.259311  \n",
       "1    12.5  0.255801  \n",
       "2    12.3  0.265502  \n",
       "3    12.3  0.298801  \n",
       "4    12.3  0.295243  "
      ]
     },
     "execution_count": 2,
     "metadata": {},
     "output_type": "execute_result"
    }
   ],
   "source": [
    "freetrade = pandas.read_csv('freetrade.csv')\n",
    "freetrade.head()"
   ]
  },
  {
   "cell_type": "code",
   "execution_count": 3,
   "metadata": {
    "pycharm": {
     "is_executing": false
    }
   },
   "outputs": [
    {
     "data": {
      "text/plain": [
       "year          int64\n",
       "country      object\n",
       "tariff      float64\n",
       "polity      float64\n",
       "pop           int64\n",
       "gdp.pc      float64\n",
       "intresmi    float64\n",
       "signed      float64\n",
       "fiveop      float64\n",
       "usheg       float64\n",
       "dtype: object"
      ]
     },
     "execution_count": 3,
     "metadata": {},
     "output_type": "execute_result"
    }
   ],
   "source": [
    "freetrade.dtypes"
   ]
  },
  {
   "cell_type": "code",
   "execution_count": null,
   "metadata": {
    "pycharm": {
     "is_executing": false
    }
   },
   "outputs": [],
   "source": []
  },
  {
   "cell_type": "markdown",
   "metadata": {},
   "source": [
    "R original"
   ]
  },
  {
   "cell_type": "raw",
   "metadata": {},
   "source": [
    "## ----LookFTData2, echo=FALSE, warning=FALSE, message=FALSE, fig.width=6, fig.height=3----\n",
    "library(\"ggplot2\")\n",
    "compRsq <- function(d, x, y) {\n",
    "  meany <- mean(d[[y]])\n",
    "  rsq <- 1-sum((d[[y]]-d[[x]])^2)/sum((d[[y]]-meany)^2)\n",
    "  rsq\n",
    "}\n",
    "plotFit <- function(d, x, y, title) {\n",
    "  rsq <- compRsq(d, x, y)\n",
    "  ggplot(data=d, aes_string(x=x, y=y)) +\n",
    "    geom_abline(color='blue') +\n",
    "    geom_point() +\n",
    "    ggtitle(paste(title, '\\n', 'R-squared:', \n",
    "                  format(rsq, scientific=FALSE, digits=3)))\n",
    "}\n",
    "plotFrame <- freetrade\n",
    "sortFrame <- plotFrame[plotFrame$year==1989, c('country', 'gdp.pc')]\n",
    "orderedLevels <- sortFrame$country[order(-sortFrame$gdp.pc)]\n",
    "plotFrame$country <- factor(plotFrame$country, orderedLevels)\n",
    "ggplot(data=plotFrame, aes(x=year, y=gdp.pc, color=country, linetype=country)) +\n",
    "     geom_point() + geom_line()"
   ]
  },
  {
   "cell_type": "markdown",
   "metadata": {},
   "source": [
    "Python version"
   ]
  },
  {
   "cell_type": "code",
   "execution_count": 4,
   "metadata": {
    "pycharm": {
     "is_executing": false
    }
   },
   "outputs": [],
   "source": [
    "import seaborn\n",
    "\n",
    "def compRsq(d, x, y):\n",
    "    meany = numpy.mean(d[y])\n",
    "    rsq = 1-numpy.sum((d[y]-d[x])**2)/numpy.sum((d[y]-meany)**2)\n",
    "    return rsq\n",
    "\n",
    "\n",
    "def plotFit(d, x, y, title):\n",
    "    rsq = compRsq(d, x, y)\n",
    "    title = title + \"\\nR-squared: \" + '{:.3f}'.format(rsq)\n",
    "    seaborn.scatterplot(x=x, y=y, data=d).set_title(title)"
   ]
  },
  {
   "cell_type": "code",
   "execution_count": 5,
   "metadata": {
    "pycharm": {
     "is_executing": false
    }
   },
   "outputs": [
    {
     "data": {
      "text/plain": [
       "<matplotlib.axes._subplots.AxesSubplot at 0x1a20d047b8>"
      ]
     },
     "execution_count": 5,
     "metadata": {},
     "output_type": "execute_result"
    },
    {
     "data": {
      "image/png": "[encoded data removed]",
      "text/plain": [
       "<Figure size 432x288 with 1 Axes>"
      ]
     },
     "metadata": {
      "needs_background": "light"
     },
     "output_type": "display_data"
    }
   ],
   "source": [
    "plotFrame = freetrade\n",
    "sortFrame = plotFrame.loc[plotFrame['year']==1989, ]\n",
    "country_order = [c for c in sortFrame.groupby('country')[['gdp.pc']].mean().sort_values(by=['gdp.pc']).index]\n",
    "country_order.reverse()\n",
    "seaborn.lineplot(x='year', y='gdp.pc', data=plotFrame, hue='country',\n",
    "                hue_order=country_order)"
   ]
  },
  {
   "cell_type": "code",
   "execution_count": 6,
   "metadata": {
    "pycharm": {
     "is_executing": false
    }
   },
   "outputs": [
    {
     "data": {
      "text/plain": [
       "Index(['Nepal', 'India', 'Pakistan', 'SriLanka', 'Indonesia', 'Philippines',\n",
       "       'Thailand', 'Malaysia', 'Korea'],\n",
       "      dtype='object', name='country')"
      ]
     },
     "execution_count": 6,
     "metadata": {},
     "output_type": "execute_result"
    }
   ],
   "source": [
    "plotFrame.groupby('country')[['gdp.pc']].mean().sort_values(by=['gdp.pc']).index"
   ]
  },
  {
   "cell_type": "code",
   "execution_count": null,
   "metadata": {
    "pycharm": {
     "is_executing": false
    }
   },
   "outputs": [],
   "source": []
  },
  {
   "cell_type": "markdown",
   "metadata": {},
   "source": [
    "R original"
   ]
  },
  {
   "cell_type": "raw",
   "metadata": {},
   "source": [
    "## ----LookFTDefGoal1------------------------------------------------------\n",
    "trainData <- freetrade[freetrade$year<1990, ]\n",
    "testData <- freetrade[freetrade$year>=1990, ]\n",
    "origVars <- c('tariff', 'polity', 'pop', 'year', 'country')\n",
    "\n",
    "\n",
    "## ----ModelPast2, echo=FALSE, warning=FALSE, message=FALSE, fig.width=6, fig.height=3----\n",
    "paired <- merge(freetrade[freetrade$year==1989, c('country', 'year', 'gdp.pc')], \n",
    "               freetrade[freetrade$year>=1990, c('country', 'year', 'gdp.pc')], \n",
    "               by='country', suffixes=c('.1989', '.1990.and.after'))\n",
    "plotFit(paired, 'gdp.pc.1989', 'gdp.pc.1990.and.after', \n",
    "                     '1990 and later gdp as a function of 1989 gdp, grouped by country')"
   ]
  },
  {
   "cell_type": "markdown",
   "metadata": {},
   "source": [
    "Python version"
   ]
  },
  {
   "cell_type": "code",
   "execution_count": 7,
   "metadata": {
    "pycharm": {
     "is_executing": false
    }
   },
   "outputs": [],
   "source": [
    "## ----LookFTDefGoal1------------------------------------------------------"
   ]
  },
  {
   "cell_type": "code",
   "execution_count": 8,
   "metadata": {
    "pycharm": {
     "is_executing": false
    }
   },
   "outputs": [],
   "source": [
    "trainData = freetrade.loc[freetrade['year']<1990, :].copy()\n",
    "trainData.reset_index(inplace=True, drop=True)\n",
    "testData = freetrade.loc[freetrade['year']>=1990, :].copy()\n",
    "testData.reset_index(inplace=True, drop=True)\n",
    "origVars = ['tariff', 'polity', 'pop', 'year', 'country']"
   ]
  },
  {
   "cell_type": "code",
   "execution_count": 9,
   "metadata": {
    "pycharm": {
     "is_executing": false
    }
   },
   "outputs": [],
   "source": [
    "## ----ModelPast2, echo=FALSE, warning=FALSE, message=FALSE, fig.width=6, fig.height=3----"
   ]
  },
  {
   "cell_type": "code",
   "execution_count": 10,
   "metadata": {
    "pycharm": {
     "is_executing": false
    }
   },
   "outputs": [
    {
     "data": {
      "image/png": "[encoded data removed]",
      "text/plain": [
       "<Figure size 432x288 with 1 Axes>"
      ]
     },
     "metadata": {
      "needs_background": "light"
     },
     "output_type": "display_data"
    }
   ],
   "source": [
    "paired = freetrade.loc[freetrade['year']==1989, ['country', 'year', 'gdp.pc']].merge(\n",
    "               freetrade.loc[freetrade['year']>=1990, ['country', 'year', 'gdp.pc']], \n",
    "               on='country', \n",
    "               suffixes=['.1989', '.1990.and.after'])\n",
    "plotFit(paired, 'gdp.pc.1989', 'gdp.pc.1990.and.after', \n",
    "                     '1990 and later gdp as a function of 1989 gdp, grouped by country')"
   ]
  },
  {
   "cell_type": "code",
   "execution_count": null,
   "metadata": {
    "pycharm": {
     "is_executing": false
    }
   },
   "outputs": [],
   "source": []
  },
  {
   "cell_type": "markdown",
   "metadata": {},
   "source": [
    "R original"
   ]
  },
  {
   "cell_type": "raw",
   "metadata": {},
   "source": [
    "## ----ModelFTTry1, warning=FALSE, message=FALSE, results='hide'-----------\n",
    "library(\"vtreat\")\n",
    "treatments <- designTreatmentsN(trainData, origVars, 'gdp.pc')\n",
    "scoreFrame <- treatments$scoreFrame\n",
    "\n",
    "\n",
    "## ----ModelFTTry1p2, warning=FALSE, message=FALSE-------------------------\n",
    "modelingVars <- unique(c('year', \n",
    "   scoreFrame$varName[(scoreFrame$sig < 1 / nrow(scoreFrame)) &\n",
    "    !(scoreFrame$code %in% c('lev'))]))\n",
    "print(modelingVars)\n",
    "trainTreated <- prepare(treatments, trainData, \n",
    "                       pruneSig=NULL, varRestriction=modelingVars)\n",
    "testTreated <- prepare(treatments, testData, \n",
    "                       pruneSig=NULL, varRestriction=modelingVars)\n",
    "formula <- paste('gdp.pc', paste(modelingVars, collapse=' + '), sep=' ~ ')\n",
    "print(strwrap(formula))\n",
    "model <- lm(as.formula(formula), data=trainTreated)\n",
    "testTreated$pred <- predict(model, newdata=testTreated)\n",
    "\n",
    "\n",
    "## ----ModelFTTry1plot, echo=FALSE, warning=FALSE, message=FALSE, fig.width=6, fig.height=3----\n",
    "plotFit(testTreated, 'pred', 'gdp.pc', \n",
    "        'test gdp naively reusing training data')"
   ]
  },
  {
   "cell_type": "markdown",
   "metadata": {},
   "source": [
    "Python version"
   ]
  },
  {
   "cell_type": "code",
   "execution_count": 11,
   "metadata": {
    "pycharm": {
     "is_executing": false
    }
   },
   "outputs": [],
   "source": [
    "## ----ModelFTTry1, warning=FALSE, message=FALSE, results='hide'-----------"
   ]
  },
  {
   "cell_type": "code",
   "execution_count": 12,
   "metadata": {
    "pycharm": {
     "is_executing": false
    }
   },
   "outputs": [
    {
     "data": {
      "text/html": [
       "<div>\n",
       "<style scoped>\n",
       "    .dataframe tbody tr th:only-of-type {\n",
       "        vertical-align: middle;\n",
       "    }\n",
       "\n",
       "    .dataframe tbody tr th {\n",
       "        vertical-align: top;\n",
       "    }\n",
       "\n",
       "    .dataframe thead th {\n",
       "        text-align: right;\n",
       "    }\n",
       "</style>\n",
       "<table border=\"1\" class=\"dataframe\">\n",
       "  <thead>\n",
       "    <tr style=\"text-align: right;\">\n",
       "      <th></th>\n",
       "      <th>variable</th>\n",
       "      <th>orig_variable</th>\n",
       "      <th>treatment</th>\n",
       "      <th>y_aware</th>\n",
       "      <th>has_range</th>\n",
       "      <th>PearsonR</th>\n",
       "      <th>significance</th>\n",
       "      <th>vcount</th>\n",
       "      <th>recommended</th>\n",
       "    </tr>\n",
       "  </thead>\n",
       "  <tbody>\n",
       "    <tr>\n",
       "      <th>0</th>\n",
       "      <td>tariff_is_bad</td>\n",
       "      <td>tariff</td>\n",
       "      <td>missing_indicator</td>\n",
       "      <td>False</td>\n",
       "      <td>True</td>\n",
       "      <td>-0.121769</td>\n",
       "      <td>2.788414e-01</td>\n",
       "      <td>2.0</td>\n",
       "      <td>True</td>\n",
       "    </tr>\n",
       "    <tr>\n",
       "      <th>1</th>\n",
       "      <td>polity_is_bad</td>\n",
       "      <td>polity</td>\n",
       "      <td>missing_indicator</td>\n",
       "      <td>False</td>\n",
       "      <td>True</td>\n",
       "      <td>0.217462</td>\n",
       "      <td>5.115870e-02</td>\n",
       "      <td>2.0</td>\n",
       "      <td>True</td>\n",
       "    </tr>\n",
       "    <tr>\n",
       "      <th>2</th>\n",
       "      <td>tariff</td>\n",
       "      <td>tariff</td>\n",
       "      <td>clean_copy</td>\n",
       "      <td>False</td>\n",
       "      <td>True</td>\n",
       "      <td>-0.394763</td>\n",
       "      <td>2.653752e-04</td>\n",
       "      <td>4.0</td>\n",
       "      <td>True</td>\n",
       "    </tr>\n",
       "    <tr>\n",
       "      <th>3</th>\n",
       "      <td>polity</td>\n",
       "      <td>polity</td>\n",
       "      <td>clean_copy</td>\n",
       "      <td>False</td>\n",
       "      <td>True</td>\n",
       "      <td>-0.010388</td>\n",
       "      <td>9.266652e-01</td>\n",
       "      <td>4.0</td>\n",
       "      <td>False</td>\n",
       "    </tr>\n",
       "    <tr>\n",
       "      <th>4</th>\n",
       "      <td>pop</td>\n",
       "      <td>pop</td>\n",
       "      <td>clean_copy</td>\n",
       "      <td>False</td>\n",
       "      <td>True</td>\n",
       "      <td>-0.277180</td>\n",
       "      <td>1.224046e-02</td>\n",
       "      <td>4.0</td>\n",
       "      <td>True</td>\n",
       "    </tr>\n",
       "    <tr>\n",
       "      <th>5</th>\n",
       "      <td>year</td>\n",
       "      <td>year</td>\n",
       "      <td>clean_copy</td>\n",
       "      <td>False</td>\n",
       "      <td>True</td>\n",
       "      <td>0.105330</td>\n",
       "      <td>3.493548e-01</td>\n",
       "      <td>4.0</td>\n",
       "      <td>False</td>\n",
       "    </tr>\n",
       "    <tr>\n",
       "      <th>6</th>\n",
       "      <td>country_impact_code</td>\n",
       "      <td>country</td>\n",
       "      <td>impact_code</td>\n",
       "      <td>True</td>\n",
       "      <td>True</td>\n",
       "      <td>0.959901</td>\n",
       "      <td>2.167183e-45</td>\n",
       "      <td>1.0</td>\n",
       "      <td>True</td>\n",
       "    </tr>\n",
       "    <tr>\n",
       "      <th>7</th>\n",
       "      <td>country_deviance_code</td>\n",
       "      <td>country</td>\n",
       "      <td>deviance_code</td>\n",
       "      <td>True</td>\n",
       "      <td>True</td>\n",
       "      <td>0.907562</td>\n",
       "      <td>1.669961e-31</td>\n",
       "      <td>1.0</td>\n",
       "      <td>True</td>\n",
       "    </tr>\n",
       "    <tr>\n",
       "      <th>8</th>\n",
       "      <td>country_prevalence_code</td>\n",
       "      <td>country</td>\n",
       "      <td>prevalence_code</td>\n",
       "      <td>False</td>\n",
       "      <td>False</td>\n",
       "      <td>NaN</td>\n",
       "      <td>1.000000e+00</td>\n",
       "      <td>1.0</td>\n",
       "      <td>False</td>\n",
       "    </tr>\n",
       "    <tr>\n",
       "      <th>9</th>\n",
       "      <td>country_lev_Nepal</td>\n",
       "      <td>country</td>\n",
       "      <td>indicator_code</td>\n",
       "      <td>False</td>\n",
       "      <td>True</td>\n",
       "      <td>-0.261041</td>\n",
       "      <td>1.858159e-02</td>\n",
       "      <td>9.0</td>\n",
       "      <td>True</td>\n",
       "    </tr>\n",
       "    <tr>\n",
       "      <th>10</th>\n",
       "      <td>country_lev_Philippines</td>\n",
       "      <td>country</td>\n",
       "      <td>indicator_code</td>\n",
       "      <td>False</td>\n",
       "      <td>True</td>\n",
       "      <td>-0.066973</td>\n",
       "      <td>5.524737e-01</td>\n",
       "      <td>9.0</td>\n",
       "      <td>False</td>\n",
       "    </tr>\n",
       "    <tr>\n",
       "      <th>11</th>\n",
       "      <td>country_lev_Malaysia</td>\n",
       "      <td>country</td>\n",
       "      <td>indicator_code</td>\n",
       "      <td>False</td>\n",
       "      <td>True</td>\n",
       "      <td>0.261598</td>\n",
       "      <td>1.832314e-02</td>\n",
       "      <td>9.0</td>\n",
       "      <td>True</td>\n",
       "    </tr>\n",
       "    <tr>\n",
       "      <th>12</th>\n",
       "      <td>country_lev_Pakistan</td>\n",
       "      <td>country</td>\n",
       "      <td>indicator_code</td>\n",
       "      <td>False</td>\n",
       "      <td>True</td>\n",
       "      <td>-0.213975</td>\n",
       "      <td>5.509552e-02</td>\n",
       "      <td>9.0</td>\n",
       "      <td>True</td>\n",
       "    </tr>\n",
       "    <tr>\n",
       "      <th>13</th>\n",
       "      <td>country_lev_SriLanka</td>\n",
       "      <td>country</td>\n",
       "      <td>indicator_code</td>\n",
       "      <td>False</td>\n",
       "      <td>True</td>\n",
       "      <td>-0.186324</td>\n",
       "      <td>9.581950e-02</td>\n",
       "      <td>9.0</td>\n",
       "      <td>True</td>\n",
       "    </tr>\n",
       "    <tr>\n",
       "      <th>14</th>\n",
       "      <td>country_lev_Thailand</td>\n",
       "      <td>country</td>\n",
       "      <td>indicator_code</td>\n",
       "      <td>False</td>\n",
       "      <td>True</td>\n",
       "      <td>0.002355</td>\n",
       "      <td>9.833534e-01</td>\n",
       "      <td>9.0</td>\n",
       "      <td>False</td>\n",
       "    </tr>\n",
       "    <tr>\n",
       "      <th>15</th>\n",
       "      <td>country_lev_Indonesia</td>\n",
       "      <td>country</td>\n",
       "      <td>indicator_code</td>\n",
       "      <td>False</td>\n",
       "      <td>True</td>\n",
       "      <td>-0.165715</td>\n",
       "      <td>1.392740e-01</td>\n",
       "      <td>9.0</td>\n",
       "      <td>False</td>\n",
       "    </tr>\n",
       "    <tr>\n",
       "      <th>16</th>\n",
       "      <td>country_lev_India</td>\n",
       "      <td>country</td>\n",
       "      <td>indicator_code</td>\n",
       "      <td>False</td>\n",
       "      <td>True</td>\n",
       "      <td>-0.238962</td>\n",
       "      <td>3.167718e-02</td>\n",
       "      <td>9.0</td>\n",
       "      <td>True</td>\n",
       "    </tr>\n",
       "    <tr>\n",
       "      <th>17</th>\n",
       "      <td>country_lev_Korea</td>\n",
       "      <td>country</td>\n",
       "      <td>indicator_code</td>\n",
       "      <td>False</td>\n",
       "      <td>True</td>\n",
       "      <td>0.869037</td>\n",
       "      <td>7.365921e-26</td>\n",
       "      <td>9.0</td>\n",
       "      <td>True</td>\n",
       "    </tr>\n",
       "  </tbody>\n",
       "</table>\n",
       "</div>"
      ],
      "text/plain": [
       "                   variable orig_variable          treatment  y_aware  \\\n",
       "0             tariff_is_bad        tariff  missing_indicator    False   \n",
       "1             polity_is_bad        polity  missing_indicator    False   \n",
       "2                    tariff        tariff         clean_copy    False   \n",
       "3                    polity        polity         clean_copy    False   \n",
       "4                       pop           pop         clean_copy    False   \n",
       "5                      year          year         clean_copy    False   \n",
       "6       country_impact_code       country        impact_code     True   \n",
       "7     country_deviance_code       country      deviance_code     True   \n",
       "8   country_prevalence_code       country    prevalence_code    False   \n",
       "9         country_lev_Nepal       country     indicator_code    False   \n",
       "10  country_lev_Philippines       country     indicator_code    False   \n",
       "11     country_lev_Malaysia       country     indicator_code    False   \n",
       "12     country_lev_Pakistan       country     indicator_code    False   \n",
       "13     country_lev_SriLanka       country     indicator_code    False   \n",
       "14     country_lev_Thailand       country     indicator_code    False   \n",
       "15    country_lev_Indonesia       country     indicator_code    False   \n",
       "16        country_lev_India       country     indicator_code    False   \n",
       "17        country_lev_Korea       country     indicator_code    False   \n",
       "\n",
       "    has_range  PearsonR  significance  vcount  recommended  \n",
       "0        True -0.121769  2.788414e-01     2.0         True  \n",
       "1        True  0.217462  5.115870e-02     2.0         True  \n",
       "2        True -0.394763  2.653752e-04     4.0         True  \n",
       "3        True -0.010388  9.266652e-01     4.0        False  \n",
       "4        True -0.277180  1.224046e-02     4.0         True  \n",
       "5        True  0.105330  3.493548e-01     4.0        False  \n",
       "6        True  0.959901  2.167183e-45     1.0         True  \n",
       "7        True  0.907562  1.669961e-31     1.0         True  \n",
       "8       False       NaN  1.000000e+00     1.0        False  \n",
       "9        True -0.261041  1.858159e-02     9.0         True  \n",
       "10       True -0.066973  5.524737e-01     9.0        False  \n",
       "11       True  0.261598  1.832314e-02     9.0         True  \n",
       "12       True -0.213975  5.509552e-02     9.0         True  \n",
       "13       True -0.186324  9.581950e-02     9.0         True  \n",
       "14       True  0.002355  9.833534e-01     9.0        False  \n",
       "15       True -0.165715  1.392740e-01     9.0        False  \n",
       "16       True -0.238962  3.167718e-02     9.0         True  \n",
       "17       True  0.869037  7.365921e-26     9.0         True  "
      ]
     },
     "execution_count": 12,
     "metadata": {},
     "output_type": "execute_result"
    }
   ],
   "source": [
    "treatments = vtreat.NumericOutcomeTreatment(\n",
    "    outcome_name='gdp.pc',\n",
    "    params=vtreat.vtreat_parameters({'filter_to_recommended': False}))\n",
    "trainTreated = treatments.fit_transform(trainData[origVars + ['gdp.pc']], trainData['gdp.pc'])\n",
    "scoreFrame = treatments.score_frame_\n",
    "scoreFrame"
   ]
  },
  {
   "cell_type": "code",
   "execution_count": 13,
   "metadata": {
    "pycharm": {
     "is_executing": false
    }
   },
   "outputs": [
    {
     "data": {
      "text/html": [
       "<div>\n",
       "<style scoped>\n",
       "    .dataframe tbody tr th:only-of-type {\n",
       "        vertical-align: middle;\n",
       "    }\n",
       "\n",
       "    .dataframe tbody tr th {\n",
       "        vertical-align: top;\n",
       "    }\n",
       "\n",
       "    .dataframe thead th {\n",
       "        text-align: right;\n",
       "    }\n",
       "</style>\n",
       "<table border=\"1\" class=\"dataframe\">\n",
       "  <thead>\n",
       "    <tr style=\"text-align: right;\">\n",
       "      <th></th>\n",
       "      <th>gdp.pc</th>\n",
       "      <th>tariff_is_bad</th>\n",
       "      <th>polity_is_bad</th>\n",
       "      <th>tariff</th>\n",
       "      <th>polity</th>\n",
       "      <th>pop</th>\n",
       "      <th>year</th>\n",
       "      <th>country_impact_code</th>\n",
       "      <th>country_deviance_code</th>\n",
       "      <th>country_lev_Nepal</th>\n",
       "      <th>country_lev_Philippines</th>\n",
       "      <th>country_lev_Malaysia</th>\n",
       "      <th>country_lev_Pakistan</th>\n",
       "      <th>country_lev_SriLanka</th>\n",
       "      <th>country_lev_Thailand</th>\n",
       "      <th>country_lev_Indonesia</th>\n",
       "      <th>country_lev_India</th>\n",
       "      <th>country_lev_Korea</th>\n",
       "    </tr>\n",
       "  </thead>\n",
       "  <tbody>\n",
       "    <tr>\n",
       "      <th>0</th>\n",
       "      <td>461.023590</td>\n",
       "      <td>1.0</td>\n",
       "      <td>0.0</td>\n",
       "      <td>38.608889</td>\n",
       "      <td>6.0</td>\n",
       "      <td>14988000.0</td>\n",
       "      <td>1981.0</td>\n",
       "      <td>-879.653391</td>\n",
       "      <td>28.752552</td>\n",
       "      <td>0</td>\n",
       "      <td>0</td>\n",
       "      <td>0</td>\n",
       "      <td>0</td>\n",
       "      <td>1</td>\n",
       "      <td>0</td>\n",
       "      <td>0</td>\n",
       "      <td>0</td>\n",
       "      <td>0</td>\n",
       "    </tr>\n",
       "    <tr>\n",
       "      <th>1</th>\n",
       "      <td>473.763397</td>\n",
       "      <td>1.0</td>\n",
       "      <td>0.0</td>\n",
       "      <td>38.608889</td>\n",
       "      <td>5.0</td>\n",
       "      <td>15189000.0</td>\n",
       "      <td>1982.0</td>\n",
       "      <td>-835.771785</td>\n",
       "      <td>33.483056</td>\n",
       "      <td>0</td>\n",
       "      <td>0</td>\n",
       "      <td>0</td>\n",
       "      <td>0</td>\n",
       "      <td>1</td>\n",
       "      <td>0</td>\n",
       "      <td>0</td>\n",
       "      <td>0</td>\n",
       "      <td>0</td>\n",
       "    </tr>\n",
       "    <tr>\n",
       "      <th>2</th>\n",
       "      <td>489.226562</td>\n",
       "      <td>0.0</td>\n",
       "      <td>0.0</td>\n",
       "      <td>41.299999</td>\n",
       "      <td>5.0</td>\n",
       "      <td>15417000.0</td>\n",
       "      <td>1983.0</td>\n",
       "      <td>-835.771785</td>\n",
       "      <td>33.483056</td>\n",
       "      <td>0</td>\n",
       "      <td>0</td>\n",
       "      <td>0</td>\n",
       "      <td>0</td>\n",
       "      <td>1</td>\n",
       "      <td>0</td>\n",
       "      <td>0</td>\n",
       "      <td>0</td>\n",
       "      <td>0</td>\n",
       "    </tr>\n",
       "    <tr>\n",
       "      <th>3</th>\n",
       "      <td>508.173920</td>\n",
       "      <td>1.0</td>\n",
       "      <td>0.0</td>\n",
       "      <td>38.608889</td>\n",
       "      <td>5.0</td>\n",
       "      <td>15599000.0</td>\n",
       "      <td>1984.0</td>\n",
       "      <td>-835.771785</td>\n",
       "      <td>33.483056</td>\n",
       "      <td>0</td>\n",
       "      <td>0</td>\n",
       "      <td>0</td>\n",
       "      <td>0</td>\n",
       "      <td>1</td>\n",
       "      <td>0</td>\n",
       "      <td>0</td>\n",
       "      <td>0</td>\n",
       "      <td>0</td>\n",
       "    </tr>\n",
       "    <tr>\n",
       "      <th>4</th>\n",
       "      <td>525.560852</td>\n",
       "      <td>0.0</td>\n",
       "      <td>0.0</td>\n",
       "      <td>31.000000</td>\n",
       "      <td>5.0</td>\n",
       "      <td>15837000.0</td>\n",
       "      <td>1985.0</td>\n",
       "      <td>-896.956716</td>\n",
       "      <td>34.764528</td>\n",
       "      <td>0</td>\n",
       "      <td>0</td>\n",
       "      <td>0</td>\n",
       "      <td>0</td>\n",
       "      <td>1</td>\n",
       "      <td>0</td>\n",
       "      <td>0</td>\n",
       "      <td>0</td>\n",
       "      <td>0</td>\n",
       "    </tr>\n",
       "  </tbody>\n",
       "</table>\n",
       "</div>"
      ],
      "text/plain": [
       "       gdp.pc  tariff_is_bad  polity_is_bad     tariff  polity         pop  \\\n",
       "0  461.023590            1.0            0.0  38.608889     6.0  14988000.0   \n",
       "1  473.763397            1.0            0.0  38.608889     5.0  15189000.0   \n",
       "2  489.226562            0.0            0.0  41.299999     5.0  15417000.0   \n",
       "3  508.173920            1.0            0.0  38.608889     5.0  15599000.0   \n",
       "4  525.560852            0.0            0.0  31.000000     5.0  15837000.0   \n",
       "\n",
       "     year  country_impact_code  country_deviance_code  country_lev_Nepal  \\\n",
       "0  1981.0          -879.653391              28.752552                  0   \n",
       "1  1982.0          -835.771785              33.483056                  0   \n",
       "2  1983.0          -835.771785              33.483056                  0   \n",
       "3  1984.0          -835.771785              33.483056                  0   \n",
       "4  1985.0          -896.956716              34.764528                  0   \n",
       "\n",
       "   country_lev_Philippines  country_lev_Malaysia  country_lev_Pakistan  \\\n",
       "0                        0                     0                     0   \n",
       "1                        0                     0                     0   \n",
       "2                        0                     0                     0   \n",
       "3                        0                     0                     0   \n",
       "4                        0                     0                     0   \n",
       "\n",
       "   country_lev_SriLanka  country_lev_Thailand  country_lev_Indonesia  \\\n",
       "0                     1                     0                      0   \n",
       "1                     1                     0                      0   \n",
       "2                     1                     0                      0   \n",
       "3                     1                     0                      0   \n",
       "4                     1                     0                      0   \n",
       "\n",
       "   country_lev_India  country_lev_Korea  \n",
       "0                  0                  0  \n",
       "1                  0                  0  \n",
       "2                  0                  0  \n",
       "3                  0                  0  \n",
       "4                  0                  0  "
      ]
     },
     "execution_count": 13,
     "metadata": {},
     "output_type": "execute_result"
    }
   ],
   "source": [
    "trainTreated.head()"
   ]
  },
  {
   "cell_type": "code",
   "execution_count": 14,
   "metadata": {
    "pycharm": {
     "is_executing": false
    }
   },
   "outputs": [],
   "source": [
    "## ----ModelFTTry1p2, warning=FALSE, message=FALSE-------------------------"
   ]
  },
  {
   "cell_type": "code",
   "execution_count": 15,
   "metadata": {
    "pycharm": {
     "is_executing": false
    }
   },
   "outputs": [
    {
     "name": "stdout",
     "output_type": "stream",
     "text": [
      "['tariff_is_bad', 'polity_is_bad', 'tariff', 'pop', 'country_impact_code', 'country_deviance_code', 'year']\n"
     ]
    },
    {
     "data": {
      "text/html": [
       "<div>\n",
       "<style scoped>\n",
       "    .dataframe tbody tr th:only-of-type {\n",
       "        vertical-align: middle;\n",
       "    }\n",
       "\n",
       "    .dataframe tbody tr th {\n",
       "        vertical-align: top;\n",
       "    }\n",
       "\n",
       "    .dataframe thead th {\n",
       "        text-align: right;\n",
       "    }\n",
       "</style>\n",
       "<table border=\"1\" class=\"dataframe\">\n",
       "  <thead>\n",
       "    <tr style=\"text-align: right;\">\n",
       "      <th></th>\n",
       "      <th>tariff_is_bad</th>\n",
       "      <th>polity_is_bad</th>\n",
       "      <th>tariff</th>\n",
       "      <th>pop</th>\n",
       "      <th>country_impact_code</th>\n",
       "      <th>country_deviance_code</th>\n",
       "      <th>year</th>\n",
       "      <th>gdp.pc</th>\n",
       "      <th>pred</th>\n",
       "    </tr>\n",
       "  </thead>\n",
       "  <tbody>\n",
       "    <tr>\n",
       "      <th>0</th>\n",
       "      <td>0.0</td>\n",
       "      <td>0.0</td>\n",
       "      <td>28.299999</td>\n",
       "      <td>16993000.0</td>\n",
       "      <td>-874.596804</td>\n",
       "      <td>33.342945</td>\n",
       "      <td>1990.0</td>\n",
       "      <td>579.954834</td>\n",
       "      <td>929.315951</td>\n",
       "    </tr>\n",
       "    <tr>\n",
       "      <th>1</th>\n",
       "      <td>0.0</td>\n",
       "      <td>0.0</td>\n",
       "      <td>26.900000</td>\n",
       "      <td>17247000.0</td>\n",
       "      <td>-874.596804</td>\n",
       "      <td>33.342945</td>\n",
       "      <td>1991.0</td>\n",
       "      <td>597.698730</td>\n",
       "      <td>1004.568227</td>\n",
       "    </tr>\n",
       "    <tr>\n",
       "      <th>2</th>\n",
       "      <td>0.0</td>\n",
       "      <td>0.0</td>\n",
       "      <td>25.000000</td>\n",
       "      <td>17405000.0</td>\n",
       "      <td>-874.596804</td>\n",
       "      <td>33.342945</td>\n",
       "      <td>1992.0</td>\n",
       "      <td>618.332947</td>\n",
       "      <td>1081.066204</td>\n",
       "    </tr>\n",
       "    <tr>\n",
       "      <th>3</th>\n",
       "      <td>0.0</td>\n",
       "      <td>0.0</td>\n",
       "      <td>24.200001</td>\n",
       "      <td>17628420.0</td>\n",
       "      <td>-874.596804</td>\n",
       "      <td>33.342945</td>\n",
       "      <td>1993.0</td>\n",
       "      <td>652.620483</td>\n",
       "      <td>1154.823549</td>\n",
       "    </tr>\n",
       "    <tr>\n",
       "      <th>4</th>\n",
       "      <td>0.0</td>\n",
       "      <td>0.0</td>\n",
       "      <td>26.000000</td>\n",
       "      <td>17865000.0</td>\n",
       "      <td>-874.596804</td>\n",
       "      <td>33.342945</td>\n",
       "      <td>1994.0</td>\n",
       "      <td>680.040833</td>\n",
       "      <td>1222.102953</td>\n",
       "    </tr>\n",
       "  </tbody>\n",
       "</table>\n",
       "</div>"
      ],
      "text/plain": [
       "   tariff_is_bad  polity_is_bad     tariff         pop  country_impact_code  \\\n",
       "0            0.0            0.0  28.299999  16993000.0          -874.596804   \n",
       "1            0.0            0.0  26.900000  17247000.0          -874.596804   \n",
       "2            0.0            0.0  25.000000  17405000.0          -874.596804   \n",
       "3            0.0            0.0  24.200001  17628420.0          -874.596804   \n",
       "4            0.0            0.0  26.000000  17865000.0          -874.596804   \n",
       "\n",
       "   country_deviance_code    year      gdp.pc         pred  \n",
       "0              33.342945  1990.0  579.954834   929.315951  \n",
       "1              33.342945  1991.0  597.698730  1004.568227  \n",
       "2              33.342945  1992.0  618.332947  1081.066204  \n",
       "3              33.342945  1993.0  652.620483  1154.823549  \n",
       "4              33.342945  1994.0  680.040833  1222.102953  "
      ]
     },
     "execution_count": 15,
     "metadata": {},
     "output_type": "execute_result"
    }
   ],
   "source": [
    "modelingVars = [ scoreFrame['variable'][i] for i in range(scoreFrame.shape[0]) if \n",
    "                (scoreFrame['recommended'][i] and (not scoreFrame['treatment'][i]=='indicator_code'))]\n",
    "if not 'year' in set(modelingVars):\n",
    "    modelingVars = modelingVars + ['year']\n",
    "print(modelingVars)\n",
    "trainTreated = trainTreated[modelingVars + ['gdp.pc']].copy()\n",
    "trainTreated.reset_index(inplace=True, drop=True)\n",
    "testTreated = treatments.transform(testData)[modelingVars + ['gdp.pc']].copy()\n",
    "model = sklearn.linear_model.LinearRegression()\n",
    "testTreated.reset_index(inplace=True, drop=True)\n",
    "model.fit(trainTreated[modelingVars], trainTreated['gdp.pc'])\n",
    "testTreated['pred'] = model.predict(testTreated[modelingVars])\n",
    "testTreated.head()"
   ]
  },
  {
   "cell_type": "code",
   "execution_count": 16,
   "metadata": {
    "pycharm": {
     "is_executing": false
    }
   },
   "outputs": [],
   "source": [
    "## ----ModelFTTry1plot, echo=FALSE, warning=FALSE, message=FALSE, fig.width=6, fig.height=3----"
   ]
  },
  {
   "cell_type": "code",
   "execution_count": 17,
   "metadata": {
    "pycharm": {
     "is_executing": false
    }
   },
   "outputs": [
    {
     "data": {
      "image/png": "[encoded data removed]",
      "text/plain": [
       "<Figure size 432x288 with 1 Axes>"
      ]
     },
     "metadata": {
      "needs_background": "light"
     },
     "output_type": "display_data"
    }
   ],
   "source": [
    "plotFit(testTreated, 'pred', 'gdp.pc', \n",
    "        'test gdp naively reusing training data (on test)')"
   ]
  },
  {
   "cell_type": "code",
   "execution_count": null,
   "metadata": {
    "pycharm": {
     "is_executing": false
    }
   },
   "outputs": [],
   "source": []
  },
  {
   "cell_type": "markdown",
   "metadata": {},
   "source": [
    "R original"
   ]
  },
  {
   "cell_type": "raw",
   "metadata": {},
   "source": [
    "## ----ModelFTTry3, warning=FALSE, message=FALSE---------------------------\n",
    "timeOrderedSplitter <- function(nRows, nSplits, dframe, y) {\n",
    "  years <- sort(unique(dframe$year))\n",
    "  splits <- lapply(years, function(y) {\n",
    "    list(train=which(dframe$year<y), \n",
    "         app=which(dframe$year>=y))\n",
    "  })\n",
    "  Filter(function(si) {\n",
    "          (length(si$train)>0) && (length(si$app)>0)\n",
    "         }, \n",
    "         splits)\n",
    "}\n",
    "\n",
    "\n",
    "## ----ModelFTTry3b, warning=FALSE, message=FALSE--------------------------\n",
    "cfe <- mkCrossFrameNExperiment(trainData, origVars, 'gdp.pc', \n",
    "                               splitFunction=timeOrderedSplitter)\n",
    "print(cfe$method)\n",
    "treatments <- cfe$treatments\n",
    "scoreFrame <- treatments$scoreFrame\n",
    "modelingVars <- unique(c('year', \n",
    "   scoreFrame$varName[(scoreFrame$sig < 1 / nrow(scoreFrame)) &\n",
    "    !(scoreFrame$code %in% c('lev'))]))\n",
    "print(modelingVars)\n",
    "trainTreated <- cfe$crossFrame\n",
    "testTreated <- prepare(treatments, testData, \n",
    "                       pruneSig=NULL, varRestriction=modelingVars)\n",
    "formula <- paste('gdp.pc', paste(modelingVars, collapse=' + '), sep=' ~ ')\n",
    "print(strwrap(formula))\n",
    "model <- lm(as.formula(formula), data=trainTreated)\n",
    "testTreated$pred <- predict(model, newdata=testTreated)\n",
    "\n",
    "\n",
    "## ----ModelFTTry3bplot, echo=FALSE, warning=FALSE, message=FALSE, fig.width=6, fig.height=3----\n",
    "plotFit(testTreated, 'pred', 'gdp.pc', \n",
    "        'test gdp using time ordered training split')"
   ]
  },
  {
   "cell_type": "markdown",
   "metadata": {},
   "source": [
    "Python version"
   ]
  },
  {
   "cell_type": "code",
   "execution_count": 18,
   "metadata": {
    "pycharm": {
     "is_executing": false
    }
   },
   "outputs": [],
   "source": [
    "## ----ModelFTTry3, warning=FALSE, message=FALSE---------------------------"
   ]
  },
  {
   "cell_type": "code",
   "execution_count": 19,
   "metadata": {
    "pycharm": {
     "is_executing": false
    }
   },
   "outputs": [],
   "source": [
    "# a deliberately incomplete cross-plan (no app group for first year)\n",
    "# need to drop those rows before working with them\n",
    "class TimeOrderedSplitter(vtreat.cross_plan.CrossValidationPlan):\n",
    "    \"\"\"time oriented cross validation plan\"\"\"\n",
    "\n",
    "    def __init__(self):\n",
    "        vtreat.cross_plan.CrossValidationPlan.__init__(self)\n",
    "\n",
    "    def split_plan(self, *, n_rows=None, k_folds=None, data=None, y=None):\n",
    "       years = [y for y in set(data['year'])]\n",
    "       years.sort()\n",
    "       y0 = years[0]\n",
    "       splits = [{'train':[i for i in range(data.shape[0]) if (data['year'][i]<yr)],\n",
    "                  'app':[i for i in range(data.shape[0]) if data['year'][i]==yr]} for yr in years if yr>y0] \n",
    "       return splits"
   ]
  },
  {
   "cell_type": "code",
   "execution_count": 20,
   "metadata": {
    "pycharm": {
     "is_executing": false
    }
   },
   "outputs": [],
   "source": [
    "## ----ModelFTTry3b, warning=FALSE, message=FALSE--------------------------"
   ]
  },
  {
   "cell_type": "code",
   "execution_count": 21,
   "metadata": {
    "pycharm": {
     "is_executing": false
    }
   },
   "outputs": [
    {
     "name": "stdout",
     "output_type": "stream",
     "text": [
      "['tariff_is_bad', 'polity_is_bad', 'tariff', 'pop', 'country_impact_code', 'country_deviance_code', 'year']\n",
      "0.8888888888888888\n"
     ]
    },
    {
     "data": {
      "text/html": [
       "<div>\n",
       "<style scoped>\n",
       "    .dataframe tbody tr th:only-of-type {\n",
       "        vertical-align: middle;\n",
       "    }\n",
       "\n",
       "    .dataframe tbody tr th {\n",
       "        vertical-align: top;\n",
       "    }\n",
       "\n",
       "    .dataframe thead th {\n",
       "        text-align: right;\n",
       "    }\n",
       "</style>\n",
       "<table border=\"1\" class=\"dataframe\">\n",
       "  <thead>\n",
       "    <tr style=\"text-align: right;\">\n",
       "      <th></th>\n",
       "      <th>tariff_is_bad</th>\n",
       "      <th>polity_is_bad</th>\n",
       "      <th>tariff</th>\n",
       "      <th>pop</th>\n",
       "      <th>country_impact_code</th>\n",
       "      <th>country_deviance_code</th>\n",
       "      <th>year</th>\n",
       "      <th>gdp.pc</th>\n",
       "      <th>pred</th>\n",
       "    </tr>\n",
       "  </thead>\n",
       "  <tbody>\n",
       "    <tr>\n",
       "      <th>0</th>\n",
       "      <td>0.0</td>\n",
       "      <td>0.0</td>\n",
       "      <td>28.299999</td>\n",
       "      <td>16993000.0</td>\n",
       "      <td>-874.596804</td>\n",
       "      <td>33.342945</td>\n",
       "      <td>1990.0</td>\n",
       "      <td>579.954834</td>\n",
       "      <td>570.744498</td>\n",
       "    </tr>\n",
       "    <tr>\n",
       "      <th>1</th>\n",
       "      <td>0.0</td>\n",
       "      <td>0.0</td>\n",
       "      <td>26.900000</td>\n",
       "      <td>17247000.0</td>\n",
       "      <td>-874.596804</td>\n",
       "      <td>33.342945</td>\n",
       "      <td>1991.0</td>\n",
       "      <td>597.698730</td>\n",
       "      <td>582.787866</td>\n",
       "    </tr>\n",
       "    <tr>\n",
       "      <th>2</th>\n",
       "      <td>0.0</td>\n",
       "      <td>0.0</td>\n",
       "      <td>25.000000</td>\n",
       "      <td>17405000.0</td>\n",
       "      <td>-874.596804</td>\n",
       "      <td>33.342945</td>\n",
       "      <td>1992.0</td>\n",
       "      <td>618.332947</td>\n",
       "      <td>596.374141</td>\n",
       "    </tr>\n",
       "    <tr>\n",
       "      <th>3</th>\n",
       "      <td>0.0</td>\n",
       "      <td>0.0</td>\n",
       "      <td>24.200001</td>\n",
       "      <td>17628420.0</td>\n",
       "      <td>-874.596804</td>\n",
       "      <td>33.342945</td>\n",
       "      <td>1993.0</td>\n",
       "      <td>652.620483</td>\n",
       "      <td>606.575585</td>\n",
       "    </tr>\n",
       "    <tr>\n",
       "      <th>4</th>\n",
       "      <td>0.0</td>\n",
       "      <td>0.0</td>\n",
       "      <td>26.000000</td>\n",
       "      <td>17865000.0</td>\n",
       "      <td>-874.596804</td>\n",
       "      <td>33.342945</td>\n",
       "      <td>1994.0</td>\n",
       "      <td>680.040833</td>\n",
       "      <td>608.785808</td>\n",
       "    </tr>\n",
       "  </tbody>\n",
       "</table>\n",
       "</div>"
      ],
      "text/plain": [
       "   tariff_is_bad  polity_is_bad     tariff         pop  country_impact_code  \\\n",
       "0            0.0            0.0  28.299999  16993000.0          -874.596804   \n",
       "1            0.0            0.0  26.900000  17247000.0          -874.596804   \n",
       "2            0.0            0.0  25.000000  17405000.0          -874.596804   \n",
       "3            0.0            0.0  24.200001  17628420.0          -874.596804   \n",
       "4            0.0            0.0  26.000000  17865000.0          -874.596804   \n",
       "\n",
       "   country_deviance_code    year      gdp.pc        pred  \n",
       "0              33.342945  1990.0  579.954834  570.744498  \n",
       "1              33.342945  1991.0  597.698730  582.787866  \n",
       "2              33.342945  1992.0  618.332947  596.374141  \n",
       "3              33.342945  1993.0  652.620483  606.575585  \n",
       "4              33.342945  1994.0  680.040833  608.785808  "
      ]
     },
     "execution_count": 21,
     "metadata": {},
     "output_type": "execute_result"
    }
   ],
   "source": [
    "treatments = vtreat.NumericOutcomeTreatment(\n",
    "    outcome_name='gdp.pc',\n",
    "    params=vtreat.vtreat_parameters({'filter_to_recommended': False,\n",
    "                                     'cross_validation_plan': TimeOrderedSplitter()}))\n",
    "trainTreated = treatments.fit_transform(trainData[origVars + ['gdp.pc']], trainData['gdp.pc'])\n",
    "scoreFrame = treatments.score_frame_\n",
    "modelingVars = [ scoreFrame['variable'][i] for i in range(scoreFrame.shape[0]) if \n",
    "                (scoreFrame['recommended'][i] and (not scoreFrame['treatment'][i]=='indicator_code'))]\n",
    "if not 'year' in set(modelingVars):\n",
    "    modelingVars = modelingVars + ['year']\n",
    "print(modelingVars)\n",
    "\n",
    "trainTreated = trainTreated[modelingVars + ['gdp.pc']].copy()\n",
    "supported_rows = vtreat.cross_plan.support_indicator(trainTreated.shape[0], \n",
    "                                               treatments.cross_plan_)\n",
    "print(numpy.mean(supported_rows))\n",
    "trainTreated = trainTreated.loc[supported_rows, :].copy()\n",
    "trainTreated.reset_index(inplace=True, drop=True)\n",
    "\n",
    "testTreated = treatments.transform(testData)[modelingVars + ['gdp.pc']].copy()\n",
    "model = sklearn.linear_model.LinearRegression()\n",
    "model.fit(trainTreated[modelingVars], trainTreated['gdp.pc'])\n",
    "testTreated['pred'] = model.predict(testTreated[modelingVars])\n",
    "testTreated.head()"
   ]
  },
  {
   "cell_type": "code",
   "execution_count": 22,
   "metadata": {
    "pycharm": {
     "is_executing": false
    }
   },
   "outputs": [],
   "source": [
    "## ----ModelFTTry3bplot, echo=FALSE, warning=FALSE, message=FALSE, fig.width=6, fig.height=3----"
   ]
  },
  {
   "cell_type": "code",
   "execution_count": 23,
   "metadata": {
    "pycharm": {
     "is_executing": false
    }
   },
   "outputs": [
    {
     "data": {
      "image/png": "[encoded data removed]",
      "text/plain": [
       "<Figure size 432x288 with 1 Axes>"
      ]
     },
     "metadata": {
      "needs_background": "light"
     },
     "output_type": "display_data"
    }
   ],
   "source": [
    "plotFit(testTreated, 'pred', 'gdp.pc', \n",
    "        'test gdp using time ordered training split')"
   ]
  },
  {
   "cell_type": "code",
   "execution_count": 24,
   "metadata": {
    "pycharm": {
     "is_executing": false
    }
   },
   "outputs": [
    {
     "data": {
      "text/html": [
       "<div>\n",
       "<style scoped>\n",
       "    .dataframe tbody tr th:only-of-type {\n",
       "        vertical-align: middle;\n",
       "    }\n",
       "\n",
       "    .dataframe tbody tr th {\n",
       "        vertical-align: top;\n",
       "    }\n",
       "\n",
       "    .dataframe thead th {\n",
       "        text-align: right;\n",
       "    }\n",
       "</style>\n",
       "<table border=\"1\" class=\"dataframe\">\n",
       "  <thead>\n",
       "    <tr style=\"text-align: right;\">\n",
       "      <th></th>\n",
       "      <th>variable</th>\n",
       "      <th>orig_variable</th>\n",
       "      <th>treatment</th>\n",
       "      <th>y_aware</th>\n",
       "      <th>has_range</th>\n",
       "      <th>PearsonR</th>\n",
       "      <th>significance</th>\n",
       "      <th>vcount</th>\n",
       "      <th>recommended</th>\n",
       "    </tr>\n",
       "  </thead>\n",
       "  <tbody>\n",
       "    <tr>\n",
       "      <th>0</th>\n",
       "      <td>tariff_is_bad</td>\n",
       "      <td>tariff</td>\n",
       "      <td>missing_indicator</td>\n",
       "      <td>False</td>\n",
       "      <td>True</td>\n",
       "      <td>-0.121769</td>\n",
       "      <td>2.788414e-01</td>\n",
       "      <td>2.0</td>\n",
       "      <td>True</td>\n",
       "    </tr>\n",
       "    <tr>\n",
       "      <th>1</th>\n",
       "      <td>polity_is_bad</td>\n",
       "      <td>polity</td>\n",
       "      <td>missing_indicator</td>\n",
       "      <td>False</td>\n",
       "      <td>True</td>\n",
       "      <td>0.217462</td>\n",
       "      <td>5.115870e-02</td>\n",
       "      <td>2.0</td>\n",
       "      <td>True</td>\n",
       "    </tr>\n",
       "    <tr>\n",
       "      <th>2</th>\n",
       "      <td>tariff</td>\n",
       "      <td>tariff</td>\n",
       "      <td>clean_copy</td>\n",
       "      <td>False</td>\n",
       "      <td>True</td>\n",
       "      <td>-0.394763</td>\n",
       "      <td>2.653752e-04</td>\n",
       "      <td>4.0</td>\n",
       "      <td>True</td>\n",
       "    </tr>\n",
       "    <tr>\n",
       "      <th>3</th>\n",
       "      <td>polity</td>\n",
       "      <td>polity</td>\n",
       "      <td>clean_copy</td>\n",
       "      <td>False</td>\n",
       "      <td>True</td>\n",
       "      <td>-0.010388</td>\n",
       "      <td>9.266652e-01</td>\n",
       "      <td>4.0</td>\n",
       "      <td>False</td>\n",
       "    </tr>\n",
       "    <tr>\n",
       "      <th>4</th>\n",
       "      <td>pop</td>\n",
       "      <td>pop</td>\n",
       "      <td>clean_copy</td>\n",
       "      <td>False</td>\n",
       "      <td>True</td>\n",
       "      <td>-0.277180</td>\n",
       "      <td>1.224046e-02</td>\n",
       "      <td>4.0</td>\n",
       "      <td>True</td>\n",
       "    </tr>\n",
       "    <tr>\n",
       "      <th>5</th>\n",
       "      <td>year</td>\n",
       "      <td>year</td>\n",
       "      <td>clean_copy</td>\n",
       "      <td>False</td>\n",
       "      <td>True</td>\n",
       "      <td>0.105330</td>\n",
       "      <td>3.493548e-01</td>\n",
       "      <td>4.0</td>\n",
       "      <td>False</td>\n",
       "    </tr>\n",
       "    <tr>\n",
       "      <th>6</th>\n",
       "      <td>country_impact_code</td>\n",
       "      <td>country</td>\n",
       "      <td>impact_code</td>\n",
       "      <td>True</td>\n",
       "      <td>True</td>\n",
       "      <td>0.920863</td>\n",
       "      <td>4.685294e-34</td>\n",
       "      <td>1.0</td>\n",
       "      <td>True</td>\n",
       "    </tr>\n",
       "    <tr>\n",
       "      <th>7</th>\n",
       "      <td>country_deviance_code</td>\n",
       "      <td>country</td>\n",
       "      <td>deviance_code</td>\n",
       "      <td>True</td>\n",
       "      <td>True</td>\n",
       "      <td>0.846665</td>\n",
       "      <td>2.382886e-23</td>\n",
       "      <td>1.0</td>\n",
       "      <td>True</td>\n",
       "    </tr>\n",
       "    <tr>\n",
       "      <th>8</th>\n",
       "      <td>country_prevalence_code</td>\n",
       "      <td>country</td>\n",
       "      <td>prevalence_code</td>\n",
       "      <td>False</td>\n",
       "      <td>False</td>\n",
       "      <td>NaN</td>\n",
       "      <td>1.000000e+00</td>\n",
       "      <td>1.0</td>\n",
       "      <td>False</td>\n",
       "    </tr>\n",
       "    <tr>\n",
       "      <th>9</th>\n",
       "      <td>country_lev_Nepal</td>\n",
       "      <td>country</td>\n",
       "      <td>indicator_code</td>\n",
       "      <td>False</td>\n",
       "      <td>True</td>\n",
       "      <td>-0.261041</td>\n",
       "      <td>1.858159e-02</td>\n",
       "      <td>9.0</td>\n",
       "      <td>True</td>\n",
       "    </tr>\n",
       "    <tr>\n",
       "      <th>10</th>\n",
       "      <td>country_lev_Philippines</td>\n",
       "      <td>country</td>\n",
       "      <td>indicator_code</td>\n",
       "      <td>False</td>\n",
       "      <td>True</td>\n",
       "      <td>-0.066973</td>\n",
       "      <td>5.524737e-01</td>\n",
       "      <td>9.0</td>\n",
       "      <td>False</td>\n",
       "    </tr>\n",
       "    <tr>\n",
       "      <th>11</th>\n",
       "      <td>country_lev_Malaysia</td>\n",
       "      <td>country</td>\n",
       "      <td>indicator_code</td>\n",
       "      <td>False</td>\n",
       "      <td>True</td>\n",
       "      <td>0.261598</td>\n",
       "      <td>1.832314e-02</td>\n",
       "      <td>9.0</td>\n",
       "      <td>True</td>\n",
       "    </tr>\n",
       "    <tr>\n",
       "      <th>12</th>\n",
       "      <td>country_lev_Pakistan</td>\n",
       "      <td>country</td>\n",
       "      <td>indicator_code</td>\n",
       "      <td>False</td>\n",
       "      <td>True</td>\n",
       "      <td>-0.213975</td>\n",
       "      <td>5.509552e-02</td>\n",
       "      <td>9.0</td>\n",
       "      <td>True</td>\n",
       "    </tr>\n",
       "    <tr>\n",
       "      <th>13</th>\n",
       "      <td>country_lev_SriLanka</td>\n",
       "      <td>country</td>\n",
       "      <td>indicator_code</td>\n",
       "      <td>False</td>\n",
       "      <td>True</td>\n",
       "      <td>-0.186324</td>\n",
       "      <td>9.581950e-02</td>\n",
       "      <td>9.0</td>\n",
       "      <td>True</td>\n",
       "    </tr>\n",
       "    <tr>\n",
       "      <th>14</th>\n",
       "      <td>country_lev_Thailand</td>\n",
       "      <td>country</td>\n",
       "      <td>indicator_code</td>\n",
       "      <td>False</td>\n",
       "      <td>True</td>\n",
       "      <td>0.002355</td>\n",
       "      <td>9.833534e-01</td>\n",
       "      <td>9.0</td>\n",
       "      <td>False</td>\n",
       "    </tr>\n",
       "    <tr>\n",
       "      <th>15</th>\n",
       "      <td>country_lev_Indonesia</td>\n",
       "      <td>country</td>\n",
       "      <td>indicator_code</td>\n",
       "      <td>False</td>\n",
       "      <td>True</td>\n",
       "      <td>-0.165715</td>\n",
       "      <td>1.392740e-01</td>\n",
       "      <td>9.0</td>\n",
       "      <td>False</td>\n",
       "    </tr>\n",
       "    <tr>\n",
       "      <th>16</th>\n",
       "      <td>country_lev_India</td>\n",
       "      <td>country</td>\n",
       "      <td>indicator_code</td>\n",
       "      <td>False</td>\n",
       "      <td>True</td>\n",
       "      <td>-0.238962</td>\n",
       "      <td>3.167718e-02</td>\n",
       "      <td>9.0</td>\n",
       "      <td>True</td>\n",
       "    </tr>\n",
       "    <tr>\n",
       "      <th>17</th>\n",
       "      <td>country_lev_Korea</td>\n",
       "      <td>country</td>\n",
       "      <td>indicator_code</td>\n",
       "      <td>False</td>\n",
       "      <td>True</td>\n",
       "      <td>0.869037</td>\n",
       "      <td>7.365921e-26</td>\n",
       "      <td>9.0</td>\n",
       "      <td>True</td>\n",
       "    </tr>\n",
       "  </tbody>\n",
       "</table>\n",
       "</div>"
      ],
      "text/plain": [
       "                   variable orig_variable          treatment  y_aware  \\\n",
       "0             tariff_is_bad        tariff  missing_indicator    False   \n",
       "1             polity_is_bad        polity  missing_indicator    False   \n",
       "2                    tariff        tariff         clean_copy    False   \n",
       "3                    polity        polity         clean_copy    False   \n",
       "4                       pop           pop         clean_copy    False   \n",
       "5                      year          year         clean_copy    False   \n",
       "6       country_impact_code       country        impact_code     True   \n",
       "7     country_deviance_code       country      deviance_code     True   \n",
       "8   country_prevalence_code       country    prevalence_code    False   \n",
       "9         country_lev_Nepal       country     indicator_code    False   \n",
       "10  country_lev_Philippines       country     indicator_code    False   \n",
       "11     country_lev_Malaysia       country     indicator_code    False   \n",
       "12     country_lev_Pakistan       country     indicator_code    False   \n",
       "13     country_lev_SriLanka       country     indicator_code    False   \n",
       "14     country_lev_Thailand       country     indicator_code    False   \n",
       "15    country_lev_Indonesia       country     indicator_code    False   \n",
       "16        country_lev_India       country     indicator_code    False   \n",
       "17        country_lev_Korea       country     indicator_code    False   \n",
       "\n",
       "    has_range  PearsonR  significance  vcount  recommended  \n",
       "0        True -0.121769  2.788414e-01     2.0         True  \n",
       "1        True  0.217462  5.115870e-02     2.0         True  \n",
       "2        True -0.394763  2.653752e-04     4.0         True  \n",
       "3        True -0.010388  9.266652e-01     4.0        False  \n",
       "4        True -0.277180  1.224046e-02     4.0         True  \n",
       "5        True  0.105330  3.493548e-01     4.0        False  \n",
       "6        True  0.920863  4.685294e-34     1.0         True  \n",
       "7        True  0.846665  2.382886e-23     1.0         True  \n",
       "8       False       NaN  1.000000e+00     1.0        False  \n",
       "9        True -0.261041  1.858159e-02     9.0         True  \n",
       "10       True -0.066973  5.524737e-01     9.0        False  \n",
       "11       True  0.261598  1.832314e-02     9.0         True  \n",
       "12       True -0.213975  5.509552e-02     9.0         True  \n",
       "13       True -0.186324  9.581950e-02     9.0         True  \n",
       "14       True  0.002355  9.833534e-01     9.0        False  \n",
       "15       True -0.165715  1.392740e-01     9.0        False  \n",
       "16       True -0.238962  3.167718e-02     9.0         True  \n",
       "17       True  0.869037  7.365921e-26     9.0         True  "
      ]
     },
     "execution_count": 24,
     "metadata": {},
     "output_type": "execute_result"
    }
   ],
   "source": [
    "scoreFrame"
   ]
  },
  {
   "cell_type": "code",
   "execution_count": null,
   "metadata": {
    "pycharm": {
     "is_executing": false
    }
   },
   "outputs": [],
   "source": []
  },
  {
   "cell_type": "code",
   "execution_count": null,
   "metadata": {
    "pycharm": {
     "is_executing": false
    }
   },
   "outputs": [],
   "source": []
  }
 ],
 "metadata": {
  "kernelspec": {
   "display_name": "Python 3",
   "language": "python",
   "name": "python3"
  },
  "language_info": {
   "codemirror_mode": {
    "name": "ipython",
    "version": 3
   },
   "file_extension": ".py",
   "mimetype": "text/x-python",
   "name": "python",
   "nbconvert_exporter": "python",
   "pygments_lexer": "ipython3",
   "version": "3.6.9"
  },
  "pycharm": {
   "stem_cell": {
    "cell_type": "raw",
    "metadata": {
     "collapsed": false
    },
    "source": []
   }
  }
 },
 "nbformat": 4,
 "nbformat_minor": 4
}
