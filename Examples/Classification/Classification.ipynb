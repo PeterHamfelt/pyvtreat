{
 "cells": [
  {
   "cell_type": "code",
   "execution_count": null,
   "metadata": {},
   "outputs": [],
   "source": []
  },
  {
   "cell_type": "raw",
   "metadata": {},
   "source": [
    "# to install\n",
    "!pip install /Users/johnmount/Documents/work/pyvtreat/pkg/dist/vtreat-0.2.1.tar.gz\n",
    "#!pip install https://github.com/WinVector/pyvtreat/raw/master/pkg/dist/vtreat-0.2.1.tar.gz"
   ]
  },
  {
   "cell_type": "raw",
   "metadata": {},
   "source": [
    "!pip install /Users/johnmount/Documents/work/wvpy/pkg/dist/wvpy-0.1.tar.gz\n",
    "#!pip install https://github.com/WinVector/wvpy/raw/master/pkg/dist/wvpy-0.1.tar.gz"
   ]
  },
  {
   "cell_type": "markdown",
   "metadata": {},
   "source": [
    "Load modules/packages."
   ]
  },
  {
   "cell_type": "code",
   "execution_count": 1,
   "metadata": {},
   "outputs": [],
   "source": [
    "import pygam\n",
    "import pandas\n",
    "import numpy\n",
    "import numpy.random\n",
    "import seaborn\n",
    "import matplotlib.pyplot \n",
    "import vtreat\n",
    "import vtreat.util\n",
    "import wvpy.util"
   ]
  },
  {
   "cell_type": "markdown",
   "metadata": {},
   "source": [
    "Generate example data."
   ]
  },
  {
   "cell_type": "code",
   "execution_count": 2,
   "metadata": {},
   "outputs": [
    {
     "data": {
      "text/html": [
       "<div>\n",
       "<style scoped>\n",
       "    .dataframe tbody tr th:only-of-type {\n",
       "        vertical-align: middle;\n",
       "    }\n",
       "\n",
       "    .dataframe tbody tr th {\n",
       "        vertical-align: top;\n",
       "    }\n",
       "\n",
       "    .dataframe thead th {\n",
       "        text-align: right;\n",
       "    }\n",
       "</style>\n",
       "<table border=\"1\" class=\"dataframe\">\n",
       "  <thead>\n",
       "    <tr style=\"text-align: right;\">\n",
       "      <th></th>\n",
       "      <th>x</th>\n",
       "      <th>y</th>\n",
       "      <th>xc</th>\n",
       "      <th>yc</th>\n",
       "    </tr>\n",
       "  </thead>\n",
       "  <tbody>\n",
       "    <tr>\n",
       "      <th>0</th>\n",
       "      <td>0.0</td>\n",
       "      <td>0.109716</td>\n",
       "      <td>level_0.0</td>\n",
       "      <td>False</td>\n",
       "    </tr>\n",
       "    <tr>\n",
       "      <th>1</th>\n",
       "      <td>0.1</td>\n",
       "      <td>-0.025586</td>\n",
       "      <td>level_-0.0</td>\n",
       "      <td>False</td>\n",
       "    </tr>\n",
       "    <tr>\n",
       "      <th>2</th>\n",
       "      <td>0.2</td>\n",
       "      <td>0.160324</td>\n",
       "      <td>level_0.0</td>\n",
       "      <td>False</td>\n",
       "    </tr>\n",
       "    <tr>\n",
       "      <th>3</th>\n",
       "      <td>0.3</td>\n",
       "      <td>0.483917</td>\n",
       "      <td>level_0.5</td>\n",
       "      <td>False</td>\n",
       "    </tr>\n",
       "    <tr>\n",
       "      <th>4</th>\n",
       "      <td>0.4</td>\n",
       "      <td>0.412295</td>\n",
       "      <td>level_0.5</td>\n",
       "      <td>False</td>\n",
       "    </tr>\n",
       "  </tbody>\n",
       "</table>\n",
       "</div>"
      ],
      "text/plain": [
       "     x         y          xc     yc\n",
       "0  0.0  0.109716   level_0.0  False\n",
       "1  0.1 -0.025586  level_-0.0  False\n",
       "2  0.2  0.160324   level_0.0  False\n",
       "3  0.3  0.483917   level_0.5  False\n",
       "4  0.4  0.412295   level_0.5  False"
      ]
     },
     "execution_count": 2,
     "metadata": {},
     "output_type": "execute_result"
    }
   ],
   "source": [
    "d = pandas.DataFrame({'x':[0.1*i for i in range(200)]})\n",
    "d['y'] = numpy.sin(d['x']) + 0.1*numpy.random.normal(size=d.shape[0])\n",
    "d['xc'] = ['level_' + str(5*numpy.round(yi/5, 1)) for yi in d['y']]\n",
    "d['yc']= d['y']>0.5\n",
    "d.head()"
   ]
  },
  {
   "cell_type": "code",
   "execution_count": 3,
   "metadata": {},
   "outputs": [
    {
     "data": {
      "text/plain": [
       "0.32"
      ]
     },
     "execution_count": 3,
     "metadata": {},
     "output_type": "execute_result"
    }
   ],
   "source": [
    "numpy.mean(d['yc'])"
   ]
  },
  {
   "cell_type": "markdown",
   "metadata": {},
   "source": [
    "Build a classification model."
   ]
  },
  {
   "cell_type": "code",
   "execution_count": 4,
   "metadata": {},
   "outputs": [],
   "source": [
    "transform = vtreat.BinomialOutcomeTreatment(\n",
    "    outcome_name='yc', \n",
    "    outcome_target=True,\n",
    "    cols_to_copy=['y'])"
   ]
  },
  {
   "cell_type": "code",
   "execution_count": 5,
   "metadata": {},
   "outputs": [
    {
     "data": {
      "text/html": [
       "<div>\n",
       "<style scoped>\n",
       "    .dataframe tbody tr th:only-of-type {\n",
       "        vertical-align: middle;\n",
       "    }\n",
       "\n",
       "    .dataframe tbody tr th {\n",
       "        vertical-align: top;\n",
       "    }\n",
       "\n",
       "    .dataframe thead th {\n",
       "        text-align: right;\n",
       "    }\n",
       "</style>\n",
       "<table border=\"1\" class=\"dataframe\">\n",
       "  <thead>\n",
       "    <tr style=\"text-align: right;\">\n",
       "      <th></th>\n",
       "      <th>y</th>\n",
       "      <th>yc</th>\n",
       "      <th>x</th>\n",
       "      <th>xc_logit_code</th>\n",
       "      <th>xc_prevalence_code</th>\n",
       "      <th>xc_lev_level_0.5</th>\n",
       "      <th>xc_lev_level_-1.0</th>\n",
       "      <th>xc_lev_level_1.0</th>\n",
       "      <th>xc_lev_level_-0.5</th>\n",
       "    </tr>\n",
       "  </thead>\n",
       "  <tbody>\n",
       "    <tr>\n",
       "      <th>0</th>\n",
       "      <td>0.109716</td>\n",
       "      <td>False</td>\n",
       "      <td>0.0</td>\n",
       "      <td>-5.579391</td>\n",
       "      <td>0.075</td>\n",
       "      <td>0</td>\n",
       "      <td>0</td>\n",
       "      <td>0</td>\n",
       "      <td>0</td>\n",
       "    </tr>\n",
       "    <tr>\n",
       "      <th>1</th>\n",
       "      <td>-0.025586</td>\n",
       "      <td>False</td>\n",
       "      <td>0.1</td>\n",
       "      <td>-5.630339</td>\n",
       "      <td>0.065</td>\n",
       "      <td>0</td>\n",
       "      <td>0</td>\n",
       "      <td>0</td>\n",
       "      <td>0</td>\n",
       "    </tr>\n",
       "    <tr>\n",
       "      <th>2</th>\n",
       "      <td>0.160324</td>\n",
       "      <td>False</td>\n",
       "      <td>0.2</td>\n",
       "      <td>-5.579391</td>\n",
       "      <td>0.075</td>\n",
       "      <td>0</td>\n",
       "      <td>0</td>\n",
       "      <td>0</td>\n",
       "      <td>0</td>\n",
       "    </tr>\n",
       "    <tr>\n",
       "      <th>3</th>\n",
       "      <td>0.483917</td>\n",
       "      <td>False</td>\n",
       "      <td>0.3</td>\n",
       "      <td>0.425959</td>\n",
       "      <td>0.250</td>\n",
       "      <td>1</td>\n",
       "      <td>0</td>\n",
       "      <td>0</td>\n",
       "      <td>0</td>\n",
       "    </tr>\n",
       "    <tr>\n",
       "      <th>4</th>\n",
       "      <td>0.412295</td>\n",
       "      <td>False</td>\n",
       "      <td>0.4</td>\n",
       "      <td>0.358128</td>\n",
       "      <td>0.250</td>\n",
       "      <td>1</td>\n",
       "      <td>0</td>\n",
       "      <td>0</td>\n",
       "      <td>0</td>\n",
       "    </tr>\n",
       "  </tbody>\n",
       "</table>\n",
       "</div>"
      ],
      "text/plain": [
       "          y     yc    x  xc_logit_code  xc_prevalence_code  xc_lev_level_0.5  \\\n",
       "0  0.109716  False  0.0      -5.579391               0.075                 0   \n",
       "1 -0.025586  False  0.1      -5.630339               0.065                 0   \n",
       "2  0.160324  False  0.2      -5.579391               0.075                 0   \n",
       "3  0.483917  False  0.3       0.425959               0.250                 1   \n",
       "4  0.412295  False  0.4       0.358128               0.250                 1   \n",
       "\n",
       "   xc_lev_level_-1.0  xc_lev_level_1.0  xc_lev_level_-0.5  \n",
       "0                  0                 0                  0  \n",
       "1                  0                 0                  0  \n",
       "2                  0                 0                  0  \n",
       "3                  0                 0                  0  \n",
       "4                  0                 0                  0  "
      ]
     },
     "execution_count": 5,
     "metadata": {},
     "output_type": "execute_result"
    }
   ],
   "source": [
    "d_prepared = transform.fit_transform(d, d['yc'])\n",
    "d_prepared.head()"
   ]
  },
  {
   "cell_type": "code",
   "execution_count": 6,
   "metadata": {},
   "outputs": [
    {
     "data": {
      "image/png": "[encoded data removed]",
      "text/plain": [
       "<Figure size 432x288 with 1 Axes>"
      ]
     },
     "metadata": {
      "needs_background": "light"
     },
     "output_type": "display_data"
    },
    {
     "data": {
      "text/plain": [
       "0.9610523897058824"
      ]
     },
     "execution_count": 6,
     "metadata": {},
     "output_type": "execute_result"
    }
   ],
   "source": [
    "wvpy.util.plot_roc(prediction=d_prepared['xc_logit_code'], \n",
    "                   istrue=d_prepared['yc'],\n",
    "                   title = 'performance of xc_logit_code variable')"
   ]
  },
  {
   "cell_type": "code",
   "execution_count": null,
   "metadata": {},
   "outputs": [],
   "source": []
  }
 ],
 "metadata": {
  "kernelspec": {
   "display_name": "Python 3",
   "language": "python",
   "name": "python3"
  },
  "language_info": {
   "codemirror_mode": {
    "name": "ipython",
    "version": 3
   },
   "file_extension": ".py",
   "mimetype": "text/x-python",
   "name": "python",
   "nbconvert_exporter": "python",
   "pygments_lexer": "ipython3",
   "version": "3.7.3"
  }
 },
 "nbformat": 4,
 "nbformat_minor": 4
}
