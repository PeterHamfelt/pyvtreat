{
 "cells": [
  {
   "cell_type": "code",
   "execution_count": null,
   "metadata": {
    "pycharm": {
     "is_executing": false
    }
   },
   "outputs": [],
   "source": []
  },
  {
   "cell_type": "code",
   "execution_count": 1,
   "metadata": {
    "pycharm": {
     "is_executing": false,
     "name": "#%%\n"
    }
   },
   "outputs": [
    {
     "name": "stdout",
     "output_type": "stream",
     "text": [
      "Requirement already satisfied: vtreat in /Users/ninazumel/anaconda3/envs/aiAcademy/lib/python3.6/site-packages (0.2.2)\n",
      "Requirement already satisfied: numpy in /Users/ninazumel/anaconda3/envs/aiAcademy/lib/python3.6/site-packages (from vtreat) (1.16.4)\n",
      "Requirement already satisfied: scipy in /Users/ninazumel/anaconda3/envs/aiAcademy/lib/python3.6/site-packages (from vtreat) (1.3.0)\n",
      "Requirement already satisfied: statistics in /Users/ninazumel/anaconda3/envs/aiAcademy/lib/python3.6/site-packages (from vtreat) (1.0.3.5)\n",
      "Requirement already satisfied: pandas in /Users/ninazumel/anaconda3/envs/aiAcademy/lib/python3.6/site-packages (from vtreat) (0.25.0)\n",
      "Requirement already satisfied: docutils>=0.3 in /Users/ninazumel/anaconda3/envs/aiAcademy/lib/python3.6/site-packages (from statistics->vtreat) (0.14)\n",
      "Requirement already satisfied: python-dateutil>=2.6.1 in /Users/ninazumel/anaconda3/envs/aiAcademy/lib/python3.6/site-packages (from pandas->vtreat) (2.8.0)\n",
      "Requirement already satisfied: pytz>=2017.2 in /Users/ninazumel/anaconda3/envs/aiAcademy/lib/python3.6/site-packages (from pandas->vtreat) (2019.1)\n",
      "Requirement already satisfied: six>=1.5 in /Users/ninazumel/anaconda3/envs/aiAcademy/lib/python3.6/site-packages (from python-dateutil>=2.6.1->pandas->vtreat) (1.12.0)\n"
     ]
    }
   ],
   "source": [
    "# to install\n",
    "!pip install vtreat\n",
    "# https://github.com/WinVector/pyvtreat/"
   ]
  },
  {
   "cell_type": "code",
   "execution_count": 2,
   "metadata": {
    "pycharm": {
     "is_executing": false,
     "name": "#%%\n"
    }
   },
   "outputs": [
    {
     "name": "stdout",
     "output_type": "stream",
     "text": [
      "Requirement already satisfied: wvpy in /Users/ninazumel/anaconda3/envs/aiAcademy/lib/python3.6/site-packages (0.1.1)\n",
      "Requirement already satisfied: statistics in /Users/ninazumel/anaconda3/envs/aiAcademy/lib/python3.6/site-packages (from wvpy) (1.0.3.5)\n",
      "Requirement already satisfied: matplotlib in /Users/ninazumel/anaconda3/envs/aiAcademy/lib/python3.6/site-packages (from wvpy) (3.1.0)\n",
      "Requirement already satisfied: pandas in /Users/ninazumel/anaconda3/envs/aiAcademy/lib/python3.6/site-packages (from wvpy) (0.25.0)\n",
      "Requirement already satisfied: sklearn in /Users/ninazumel/anaconda3/envs/aiAcademy/lib/python3.6/site-packages (from wvpy) (0.0)\n",
      "Requirement already satisfied: numpy in /Users/ninazumel/anaconda3/envs/aiAcademy/lib/python3.6/site-packages (from wvpy) (1.16.4)\n",
      "Requirement already satisfied: docutils>=0.3 in /Users/ninazumel/anaconda3/envs/aiAcademy/lib/python3.6/site-packages (from statistics->wvpy) (0.14)\n",
      "Requirement already satisfied: cycler>=0.10 in /Users/ninazumel/anaconda3/envs/aiAcademy/lib/python3.6/site-packages (from matplotlib->wvpy) (0.10.0)\n",
      "Requirement already satisfied: kiwisolver>=1.0.1 in /Users/ninazumel/anaconda3/envs/aiAcademy/lib/python3.6/site-packages (from matplotlib->wvpy) (1.1.0)\n",
      "Requirement already satisfied: pyparsing!=2.0.4,!=2.1.2,!=2.1.6,>=2.0.1 in /Users/ninazumel/anaconda3/envs/aiAcademy/lib/python3.6/site-packages (from matplotlib->wvpy) (2.4.0)\n",
      "Requirement already satisfied: python-dateutil>=2.1 in /Users/ninazumel/anaconda3/envs/aiAcademy/lib/python3.6/site-packages (from matplotlib->wvpy) (2.8.0)\n",
      "Requirement already satisfied: pytz>=2017.2 in /Users/ninazumel/anaconda3/envs/aiAcademy/lib/python3.6/site-packages (from pandas->wvpy) (2019.1)\n",
      "Requirement already satisfied: scikit-learn in /Users/ninazumel/anaconda3/envs/aiAcademy/lib/python3.6/site-packages (from sklearn->wvpy) (0.21.2)\n",
      "Requirement already satisfied: six in /Users/ninazumel/anaconda3/envs/aiAcademy/lib/python3.6/site-packages (from cycler>=0.10->matplotlib->wvpy) (1.12.0)\n",
      "Requirement already satisfied: setuptools in /Users/ninazumel/anaconda3/envs/aiAcademy/lib/python3.6/site-packages (from kiwisolver>=1.0.1->matplotlib->wvpy) (41.0.1)\n",
      "Requirement already satisfied: joblib>=0.11 in /Users/ninazumel/anaconda3/envs/aiAcademy/lib/python3.6/site-packages (from scikit-learn->sklearn->wvpy) (0.13.2)\n",
      "Requirement already satisfied: scipy>=0.17.0 in /Users/ninazumel/anaconda3/envs/aiAcademy/lib/python3.6/site-packages (from scikit-learn->sklearn->wvpy) (1.3.0)\n"
     ]
    }
   ],
   "source": [
    "!pip install wvpy\n",
    "# https://github.com/WinVector/wvpy/"
   ]
  },
  {
   "cell_type": "markdown",
   "metadata": {},
   "source": [
    "Load modules/packages."
   ]
  },
  {
   "cell_type": "code",
   "execution_count": 3,
   "metadata": {
    "pycharm": {
     "is_executing": false
    }
   },
   "outputs": [],
   "source": [
    "import pygam\n",
    "import pandas\n",
    "import numpy\n",
    "import numpy.random\n",
    "import seaborn\n",
    "import matplotlib.pyplot as plt\n",
    "import vtreat\n",
    "import vtreat.util\n",
    "import wvpy.util"
   ]
  },
  {
   "cell_type": "markdown",
   "metadata": {},
   "source": [
    "Generate example data. `y` is a noisy sin function. Input `xc` is a categorical variable that represents a discretization of `y`. The output to be predicted is `yc`: whether `y` is > 0.5. "
   ]
  },
  {
   "cell_type": "code",
   "execution_count": 4,
   "metadata": {
    "pycharm": {
     "is_executing": false
    }
   },
   "outputs": [
    {
     "data": {
      "text/html": [
       "<div>\n",
       "<style scoped>\n",
       "    .dataframe tbody tr th:only-of-type {\n",
       "        vertical-align: middle;\n",
       "    }\n",
       "\n",
       "    .dataframe tbody tr th {\n",
       "        vertical-align: top;\n",
       "    }\n",
       "\n",
       "    .dataframe thead th {\n",
       "        text-align: right;\n",
       "    }\n",
       "</style>\n",
       "<table border=\"1\" class=\"dataframe\">\n",
       "  <thead>\n",
       "    <tr style=\"text-align: right;\">\n",
       "      <th></th>\n",
       "      <th>x</th>\n",
       "      <th>y</th>\n",
       "      <th>xc</th>\n",
       "      <th>yc</th>\n",
       "    </tr>\n",
       "  </thead>\n",
       "  <tbody>\n",
       "    <tr>\n",
       "      <th>0</th>\n",
       "      <td>0.0</td>\n",
       "      <td>-0.054872</td>\n",
       "      <td>level_-0.0</td>\n",
       "      <td>False</td>\n",
       "    </tr>\n",
       "    <tr>\n",
       "      <th>1</th>\n",
       "      <td>0.1</td>\n",
       "      <td>-0.139312</td>\n",
       "      <td>level_-0.0</td>\n",
       "      <td>False</td>\n",
       "    </tr>\n",
       "    <tr>\n",
       "      <th>2</th>\n",
       "      <td>0.2</td>\n",
       "      <td>0.018583</td>\n",
       "      <td>level_0.0</td>\n",
       "      <td>False</td>\n",
       "    </tr>\n",
       "    <tr>\n",
       "      <th>3</th>\n",
       "      <td>0.3</td>\n",
       "      <td>0.166808</td>\n",
       "      <td>level_0.0</td>\n",
       "      <td>False</td>\n",
       "    </tr>\n",
       "    <tr>\n",
       "      <th>4</th>\n",
       "      <td>0.4</td>\n",
       "      <td>0.383466</td>\n",
       "      <td>level_0.5</td>\n",
       "      <td>False</td>\n",
       "    </tr>\n",
       "  </tbody>\n",
       "</table>\n",
       "</div>"
      ],
      "text/plain": [
       "     x         y          xc     yc\n",
       "0  0.0 -0.054872  level_-0.0  False\n",
       "1  0.1 -0.139312  level_-0.0  False\n",
       "2  0.2  0.018583   level_0.0  False\n",
       "3  0.3  0.166808   level_0.0  False\n",
       "4  0.4  0.383466   level_0.5  False"
      ]
     },
     "execution_count": 4,
     "metadata": {},
     "output_type": "execute_result"
    }
   ],
   "source": [
    "d = pandas.DataFrame({'x':[0.1*i for i in range(500)]})\n",
    "d['y'] = numpy.sin(d['x']) + 0.1*numpy.random.normal(size=d.shape[0])\n",
    "d['xc'] = ['level_' + str(5*numpy.round(yi/5, 1)) for yi in d['y']]\n",
    "d['yc'] = d['y']>0.5\n",
    "d.head()"
   ]
  },
  {
   "cell_type": "code",
   "execution_count": 5,
   "metadata": {},
   "outputs": [
    {
     "data": {
      "text/plain": [
       "array(['level_-0.0', 'level_0.0', 'level_0.5', 'level_1.0', 'level_-0.5',\n",
       "       'level_-1.0', 'level_1.5'], dtype=object)"
      ]
     },
     "execution_count": 5,
     "metadata": {},
     "output_type": "execute_result"
    }
   ],
   "source": [
    "d['xc'].unique()"
   ]
  },
  {
   "cell_type": "code",
   "execution_count": 6,
   "metadata": {},
   "outputs": [
    {
     "data": {
      "text/plain": [
       "level_-1.0    116\n",
       "level_1.0     107\n",
       "level_0.5     104\n",
       "level_-0.5     94\n",
       "level_-0.0     43\n",
       "level_0.0      35\n",
       "level_1.5       1\n",
       "Name: xc, dtype: int64"
      ]
     },
     "execution_count": 6,
     "metadata": {},
     "output_type": "execute_result"
    }
   ],
   "source": [
    "d['xc'].value_counts()"
   ]
  },
  {
   "cell_type": "code",
   "execution_count": 7,
   "metadata": {
    "pycharm": {
     "is_executing": false
    }
   },
   "outputs": [
    {
     "data": {
      "text/plain": [
       "0.33"
      ]
     },
     "execution_count": 7,
     "metadata": {},
     "output_type": "execute_result"
    }
   ],
   "source": [
    "numpy.mean(d['yc'])"
   ]
  },
  {
   "cell_type": "markdown",
   "metadata": {},
   "source": [
    "Plot of `yc` versus `x`."
   ]
  },
  {
   "cell_type": "code",
   "execution_count": 8,
   "metadata": {
    "pycharm": {
     "is_executing": false
    }
   },
   "outputs": [
    {
     "data": {
      "text/plain": [
       "<matplotlib.axes._subplots.AxesSubplot at 0x10841b470>"
      ]
     },
     "execution_count": 8,
     "metadata": {},
     "output_type": "execute_result"
    },
    {
     "data": {
      "image/png": "[encoded data removed]",
      "text/plain": [
       "<Figure size 432x288 with 1 Axes>"
      ]
     },
     "metadata": {
      "needs_background": "light"
     },
     "output_type": "display_data"
    }
   ],
   "source": [
    "seaborn.lineplot(x='x', y='yc', data=d)"
   ]
  },
  {
   "cell_type": "markdown",
   "metadata": {},
   "source": [
    "## Build a classification model.\n",
    "\n",
    "First create the data treatment transform object, in this case a treatment for a binomial classification problem."
   ]
  },
  {
   "cell_type": "code",
   "execution_count": 9,
   "metadata": {
    "pycharm": {
     "is_executing": false
    }
   },
   "outputs": [],
   "source": [
    "transform = vtreat.BinomialOutcomeTreatment(\n",
    "    outcome_name='yc',    # outcome variable\n",
    "    outcome_target=True,  # outcome of interest\n",
    "    cols_to_copy=['y'])   # columns to \"carry along\" but not treat as input variables"
   ]
  },
  {
   "cell_type": "markdown",
   "metadata": {},
   "source": [
    "Use the training data 'd' to fit the transform and the return a treated training set: completely numeric, with no missing values.\n",
    "Note that `transform.fit_transform()` is **not** the same as `transform.fit().transform()`; the second call can lead to nested model bias in some situations, and is **not** recommended."
   ]
  },
  {
   "cell_type": "code",
   "execution_count": 10,
   "metadata": {
    "pycharm": {
     "is_executing": false
    }
   },
   "outputs": [
    {
     "data": {
      "text/html": [
       "<div>\n",
       "<style scoped>\n",
       "    .dataframe tbody tr th:only-of-type {\n",
       "        vertical-align: middle;\n",
       "    }\n",
       "\n",
       "    .dataframe tbody tr th {\n",
       "        vertical-align: top;\n",
       "    }\n",
       "\n",
       "    .dataframe thead th {\n",
       "        text-align: right;\n",
       "    }\n",
       "</style>\n",
       "<table border=\"1\" class=\"dataframe\">\n",
       "  <thead>\n",
       "    <tr style=\"text-align: right;\">\n",
       "      <th></th>\n",
       "      <th>y</th>\n",
       "      <th>yc</th>\n",
       "      <th>x</th>\n",
       "      <th>xc_logit_code</th>\n",
       "      <th>xc_prevalence_code</th>\n",
       "      <th>xc_lev_level_-1.0</th>\n",
       "      <th>xc_lev_level_1.0</th>\n",
       "      <th>xc_lev_level_0.5</th>\n",
       "      <th>xc_lev_level_-0.5</th>\n",
       "    </tr>\n",
       "  </thead>\n",
       "  <tbody>\n",
       "    <tr>\n",
       "      <th>0</th>\n",
       "      <td>-0.054872</td>\n",
       "      <td>False</td>\n",
       "      <td>0.0</td>\n",
       "      <td>-5.761980</td>\n",
       "      <td>0.084</td>\n",
       "      <td>0</td>\n",
       "      <td>0</td>\n",
       "      <td>0</td>\n",
       "      <td>0</td>\n",
       "    </tr>\n",
       "    <tr>\n",
       "      <th>1</th>\n",
       "      <td>-0.139312</td>\n",
       "      <td>False</td>\n",
       "      <td>0.1</td>\n",
       "      <td>-5.746077</td>\n",
       "      <td>0.084</td>\n",
       "      <td>0</td>\n",
       "      <td>0</td>\n",
       "      <td>0</td>\n",
       "      <td>0</td>\n",
       "    </tr>\n",
       "    <tr>\n",
       "      <th>2</th>\n",
       "      <td>0.018583</td>\n",
       "      <td>False</td>\n",
       "      <td>0.2</td>\n",
       "      <td>-5.703638</td>\n",
       "      <td>0.068</td>\n",
       "      <td>0</td>\n",
       "      <td>0</td>\n",
       "      <td>0</td>\n",
       "      <td>0</td>\n",
       "    </tr>\n",
       "    <tr>\n",
       "      <th>3</th>\n",
       "      <td>0.166808</td>\n",
       "      <td>False</td>\n",
       "      <td>0.3</td>\n",
       "      <td>-5.753482</td>\n",
       "      <td>0.068</td>\n",
       "      <td>0</td>\n",
       "      <td>0</td>\n",
       "      <td>0</td>\n",
       "      <td>0</td>\n",
       "    </tr>\n",
       "    <tr>\n",
       "      <th>4</th>\n",
       "      <td>0.383466</td>\n",
       "      <td>False</td>\n",
       "      <td>0.4</td>\n",
       "      <td>0.547895</td>\n",
       "      <td>0.206</td>\n",
       "      <td>0</td>\n",
       "      <td>0</td>\n",
       "      <td>1</td>\n",
       "      <td>0</td>\n",
       "    </tr>\n",
       "  </tbody>\n",
       "</table>\n",
       "</div>"
      ],
      "text/plain": [
       "          y     yc    x  xc_logit_code  xc_prevalence_code  xc_lev_level_-1.0  \\\n",
       "0 -0.054872  False  0.0      -5.761980               0.084                  0   \n",
       "1 -0.139312  False  0.1      -5.746077               0.084                  0   \n",
       "2  0.018583  False  0.2      -5.703638               0.068                  0   \n",
       "3  0.166808  False  0.3      -5.753482               0.068                  0   \n",
       "4  0.383466  False  0.4       0.547895               0.206                  0   \n",
       "\n",
       "   xc_lev_level_1.0  xc_lev_level_0.5  xc_lev_level_-0.5  \n",
       "0                 0                 0                  0  \n",
       "1                 0                 0                  0  \n",
       "2                 0                 0                  0  \n",
       "3                 0                 0                  0  \n",
       "4                 0                 1                  0  "
      ]
     },
     "execution_count": 10,
     "metadata": {},
     "output_type": "execute_result"
    }
   ],
   "source": [
    "d_prepared = transform.fit_transform(d, d['yc'])\n",
    "d_prepared.head()"
   ]
  },
  {
   "cell_type": "markdown",
   "metadata": {},
   "source": [
    "Note that the variable `xc` has been converted to multiple variables: an indicator variable for each possible level (`xc_lev_level_*`); the value of a (cross-validated) one-variable model for `yc` as a function of `xc` (`xc_logit_code`); and a variable indicating how prevalent this particular value of `xc` is in the training data. Any or all of these new variables are available for downstream modeling.\n",
    "\n",
    "Now examine the score frame, which gives information about each new variable, including its type, which original variable it is  derived from, its (cross-validated) correlation with the outcome, and its (cross-validated) significance as a one-variable model for the outcome. Variables that are significant to **what level??** are marked as \"recommended\" for use in downstream modeling. In this case, all the variables appear significant. ***Note for John: why is x recommended? It's not significant, and shouldn't be. For that matter, why is prevalence significant here?***"
   ]
  },
  {
   "cell_type": "code",
   "execution_count": 11,
   "metadata": {
    "pycharm": {
     "is_executing": false
    }
   },
   "outputs": [
    {
     "data": {
      "text/html": [
       "<div>\n",
       "<style scoped>\n",
       "    .dataframe tbody tr th:only-of-type {\n",
       "        vertical-align: middle;\n",
       "    }\n",
       "\n",
       "    .dataframe tbody tr th {\n",
       "        vertical-align: top;\n",
       "    }\n",
       "\n",
       "    .dataframe thead th {\n",
       "        text-align: right;\n",
       "    }\n",
       "</style>\n",
       "<table border=\"1\" class=\"dataframe\">\n",
       "  <thead>\n",
       "    <tr style=\"text-align: right;\">\n",
       "      <th></th>\n",
       "      <th>variable</th>\n",
       "      <th>orig_variable</th>\n",
       "      <th>treatment</th>\n",
       "      <th>y_aware</th>\n",
       "      <th>has_range</th>\n",
       "      <th>PearsonR</th>\n",
       "      <th>significance</th>\n",
       "      <th>vcount</th>\n",
       "      <th>recommended</th>\n",
       "    </tr>\n",
       "  </thead>\n",
       "  <tbody>\n",
       "    <tr>\n",
       "      <th>0</th>\n",
       "      <td>x</td>\n",
       "      <td>x</td>\n",
       "      <td>clean_copy</td>\n",
       "      <td>False</td>\n",
       "      <td>True</td>\n",
       "      <td>-0.074835</td>\n",
       "      <td>9.461903e-02</td>\n",
       "      <td>1.0</td>\n",
       "      <td>True</td>\n",
       "    </tr>\n",
       "    <tr>\n",
       "      <th>1</th>\n",
       "      <td>xc_logit_code</td>\n",
       "      <td>xc</td>\n",
       "      <td>logit_code</td>\n",
       "      <td>True</td>\n",
       "      <td>True</td>\n",
       "      <td>0.834753</td>\n",
       "      <td>3.776156e-131</td>\n",
       "      <td>1.0</td>\n",
       "      <td>True</td>\n",
       "    </tr>\n",
       "    <tr>\n",
       "      <th>2</th>\n",
       "      <td>xc_prevalence_code</td>\n",
       "      <td>xc</td>\n",
       "      <td>prevalence_code</td>\n",
       "      <td>False</td>\n",
       "      <td>True</td>\n",
       "      <td>0.276357</td>\n",
       "      <td>3.238573e-10</td>\n",
       "      <td>1.0</td>\n",
       "      <td>True</td>\n",
       "    </tr>\n",
       "    <tr>\n",
       "      <th>3</th>\n",
       "      <td>xc_lev_level_-1.0</td>\n",
       "      <td>xc</td>\n",
       "      <td>indicator_code</td>\n",
       "      <td>False</td>\n",
       "      <td>True</td>\n",
       "      <td>-0.385730</td>\n",
       "      <td>3.479150e-19</td>\n",
       "      <td>4.0</td>\n",
       "      <td>True</td>\n",
       "    </tr>\n",
       "    <tr>\n",
       "      <th>4</th>\n",
       "      <td>xc_lev_level_1.0</td>\n",
       "      <td>xc</td>\n",
       "      <td>indicator_code</td>\n",
       "      <td>False</td>\n",
       "      <td>True</td>\n",
       "      <td>0.743492</td>\n",
       "      <td>4.581268e-89</td>\n",
       "      <td>4.0</td>\n",
       "      <td>True</td>\n",
       "    </tr>\n",
       "    <tr>\n",
       "      <th>5</th>\n",
       "      <td>xc_lev_level_0.5</td>\n",
       "      <td>xc</td>\n",
       "      <td>indicator_code</td>\n",
       "      <td>False</td>\n",
       "      <td>True</td>\n",
       "      <td>0.237676</td>\n",
       "      <td>7.508990e-08</td>\n",
       "      <td>4.0</td>\n",
       "      <td>True</td>\n",
       "    </tr>\n",
       "    <tr>\n",
       "      <th>6</th>\n",
       "      <td>xc_lev_level_-0.5</td>\n",
       "      <td>xc</td>\n",
       "      <td>indicator_code</td>\n",
       "      <td>False</td>\n",
       "      <td>True</td>\n",
       "      <td>-0.337692</td>\n",
       "      <td>8.408471e-15</td>\n",
       "      <td>4.0</td>\n",
       "      <td>True</td>\n",
       "    </tr>\n",
       "  </tbody>\n",
       "</table>\n",
       "</div>"
      ],
      "text/plain": [
       "             variable orig_variable        treatment  y_aware  has_range  \\\n",
       "0                   x             x       clean_copy    False       True   \n",
       "1       xc_logit_code            xc       logit_code     True       True   \n",
       "2  xc_prevalence_code            xc  prevalence_code    False       True   \n",
       "3   xc_lev_level_-1.0            xc   indicator_code    False       True   \n",
       "4    xc_lev_level_1.0            xc   indicator_code    False       True   \n",
       "5    xc_lev_level_0.5            xc   indicator_code    False       True   \n",
       "6   xc_lev_level_-0.5            xc   indicator_code    False       True   \n",
       "\n",
       "   PearsonR   significance  vcount  recommended  \n",
       "0 -0.074835   9.461903e-02     1.0         True  \n",
       "1  0.834753  3.776156e-131     1.0         True  \n",
       "2  0.276357   3.238573e-10     1.0         True  \n",
       "3 -0.385730   3.479150e-19     4.0         True  \n",
       "4  0.743492   4.581268e-89     4.0         True  \n",
       "5  0.237676   7.508990e-08     4.0         True  \n",
       "6 -0.337692   8.408471e-15     4.0         True  "
      ]
     },
     "execution_count": 11,
     "metadata": {},
     "output_type": "execute_result"
    }
   ],
   "source": [
    "transform.score_frame_"
   ]
  },
  {
   "cell_type": "markdown",
   "metadata": {},
   "source": [
    "Let's see if `xc_logit_code` makes a good one-variable model. It has a large AUC:"
   ]
  },
  {
   "cell_type": "code",
   "execution_count": 12,
   "metadata": {
    "pycharm": {
     "is_executing": false
    }
   },
   "outputs": [
    {
     "data": {
      "image/png": "[encoded data removed]",
      "text/plain": [
       "<Figure size 432x288 with 1 Axes>"
      ]
     },
     "metadata": {
      "needs_background": "light"
     },
     "output_type": "display_data"
    },
    {
     "data": {
      "text/plain": [
       "0.9730257801899592"
      ]
     },
     "execution_count": 12,
     "metadata": {},
     "output_type": "execute_result"
    }
   ],
   "source": [
    "wvpy.util.plot_roc(prediction=d_prepared['xc_logit_code'], \n",
    "                   istrue=d_prepared['yc'],\n",
    "                   title = 'performance of xc_logit_code variable')"
   ]
  },
  {
   "cell_type": "markdown",
   "metadata": {},
   "source": [
    "Negative values of `xc_logit_code` correspond strongly to negative outcomes, and positive values correspond strongly to postive outcomes."
   ]
  },
  {
   "cell_type": "code",
   "execution_count": 13,
   "metadata": {
    "pycharm": {
     "is_executing": false
    }
   },
   "outputs": [
    {
     "data": {
      "image/png": "[encoded data removed]",
      "text/plain": [
       "<Figure size 432x288 with 1 Axes>"
      ]
     },
     "metadata": {
      "needs_background": "light"
     },
     "output_type": "display_data"
    }
   ],
   "source": [
    "wvpy.util.dual_density_plot(probs=d_prepared['xc_logit_code'], \n",
    "                            istrue=d_prepared['yc'])"
   ]
  },
  {
   "cell_type": "markdown",
   "metadata": {},
   "source": [
    "Try converting the logistic score to a probability."
   ]
  },
  {
   "cell_type": "code",
   "execution_count": 14,
   "metadata": {},
   "outputs": [
    {
     "data": {
      "image/png": "[encoded data removed]",
      "text/plain": [
       "<Figure size 432x288 with 1 Axes>"
      ]
     },
     "metadata": {
      "needs_background": "light"
     },
     "output_type": "display_data"
    }
   ],
   "source": [
    "from scipy.special import expit  # sigmoid - remarkably, it works on Pandas data frame columns\n",
    "wvpy.util.dual_density_plot(probs=expit(d_prepared['xc_logit_code']),\n",
    "                            istrue=d_prepared['yc'])                                   "
   ]
  },
  {
   "cell_type": "markdown",
   "metadata": {},
   "source": [
    "Look at `xc_prevalence_code`. It's also somewhat predictive (surprisingly).\n",
    "\n",
    "First, get the contingency table of prevalence code value versus outcome value. The two variables are clearly not independent."
   ]
  },
  {
   "cell_type": "code",
   "execution_count": 44,
   "metadata": {},
   "outputs": [
    {
     "data": {
      "text/html": [
       "<div>\n",
       "<style scoped>\n",
       "    .dataframe tbody tr th:only-of-type {\n",
       "        vertical-align: middle;\n",
       "    }\n",
       "\n",
       "    .dataframe tbody tr th {\n",
       "        vertical-align: top;\n",
       "    }\n",
       "\n",
       "    .dataframe thead th {\n",
       "        text-align: right;\n",
       "    }\n",
       "</style>\n",
       "<table border=\"1\" class=\"dataframe\">\n",
       "  <thead>\n",
       "    <tr style=\"text-align: right;\">\n",
       "      <th>yc</th>\n",
       "      <th>0</th>\n",
       "      <th>1</th>\n",
       "    </tr>\n",
       "    <tr>\n",
       "      <th>xc_prevalence_code</th>\n",
       "      <th></th>\n",
       "      <th></th>\n",
       "    </tr>\n",
       "  </thead>\n",
       "  <tbody>\n",
       "    <tr>\n",
       "      <th>0.000</th>\n",
       "      <td>0</td>\n",
       "      <td>1</td>\n",
       "    </tr>\n",
       "    <tr>\n",
       "      <th>0.068</th>\n",
       "      <td>35</td>\n",
       "      <td>0</td>\n",
       "    </tr>\n",
       "    <tr>\n",
       "      <th>0.084</th>\n",
       "      <td>43</td>\n",
       "      <td>0</td>\n",
       "    </tr>\n",
       "    <tr>\n",
       "      <th>0.186</th>\n",
       "      <td>94</td>\n",
       "      <td>0</td>\n",
       "    </tr>\n",
       "    <tr>\n",
       "      <th>0.206</th>\n",
       "      <td>47</td>\n",
       "      <td>57</td>\n",
       "    </tr>\n",
       "    <tr>\n",
       "      <th>0.212</th>\n",
       "      <td>0</td>\n",
       "      <td>107</td>\n",
       "    </tr>\n",
       "    <tr>\n",
       "      <th>0.230</th>\n",
       "      <td>116</td>\n",
       "      <td>0</td>\n",
       "    </tr>\n",
       "  </tbody>\n",
       "</table>\n",
       "</div>"
      ],
      "text/plain": [
       "yc                    0    1\n",
       "xc_prevalence_code          \n",
       "0.000                 0    1\n",
       "0.068                35    0\n",
       "0.084                43    0\n",
       "0.186                94    0\n",
       "0.206                47   57\n",
       "0.212                 0  107\n",
       "0.230               116    0"
      ]
     },
     "execution_count": 44,
     "metadata": {},
     "output_type": "execute_result"
    }
   ],
   "source": [
    "pandas.crosstab(d_prepared.xc_prevalence_code, d_prepared.yc)"
   ]
  },
  {
   "cell_type": "markdown",
   "metadata": {},
   "source": [
    "Next, look at the AUC and the distribution of scores graphically."
   ]
  },
  {
   "cell_type": "code",
   "execution_count": 60,
   "metadata": {
    "pycharm": {
     "is_executing": false
    }
   },
   "outputs": [
    {
     "data": {
      "image/png": "[encoded data removed]",
      "text/plain": [
       "<Figure size 432x288 with 1 Axes>"
      ]
     },
     "metadata": {
      "needs_background": "light"
     },
     "output_type": "display_data"
    },
    {
     "data": {
      "text/plain": [
       "0.6255359565807326"
      ]
     },
     "execution_count": 60,
     "metadata": {},
     "output_type": "execute_result"
    }
   ],
   "source": [
    "wvpy.util.plot_roc(prediction=d_prepared['xc_prevalence_code'], \n",
    "                   istrue=d_prepared['yc'],\n",
    "                   title = 'performance of xc_prevalence_code variable')"
   ]
  },
  {
   "cell_type": "code",
   "execution_count": 61,
   "metadata": {
    "pycharm": {
     "is_executing": false
    }
   },
   "outputs": [
    {
     "data": {
      "image/png": "[encoded data removed]",
      "text/plain": [
       "<Figure size 432x288 with 1 Axes>"
      ]
     },
     "metadata": {
      "needs_background": "light"
     },
     "output_type": "display_data"
    }
   ],
   "source": [
    "wvpy.util.dual_density_plot(probs=d_prepared['xc_prevalence_code'], \n",
    "                            istrue=d_prepared['yc'])"
   ]
  },
  {
   "cell_type": "code",
   "execution_count": null,
   "metadata": {},
   "outputs": [],
   "source": []
  }
 ],
 "metadata": {
  "kernelspec": {
   "display_name": "Python 3",
   "language": "python",
   "name": "python3"
  },
  "language_info": {
   "codemirror_mode": {
    "name": "ipython",
    "version": 3
   },
   "file_extension": ".py",
   "mimetype": "text/x-python",
   "name": "python",
   "nbconvert_exporter": "python",
   "pygments_lexer": "ipython3",
   "version": "3.6.9"
  },
  "pycharm": {
   "stem_cell": {
    "cell_type": "raw",
    "metadata": {
     "collapsed": false
    },
    "source": []
   }
  }
 },
 "nbformat": 4,
 "nbformat_minor": 4
}
