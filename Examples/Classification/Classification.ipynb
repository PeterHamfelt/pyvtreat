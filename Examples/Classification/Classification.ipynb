{
 "cells": [
  {
   "cell_type": "code",
   "execution_count": null,
   "metadata": {},
   "outputs": [],
   "source": []
  },
  {
   "cell_type": "raw",
   "metadata": {},
   "source": [
    "# to install\n",
    "!pip install /Users/johnmount/Documents/work/pyvtreat/pkg/dist/vtreat-0.2.1.tar.gz\n",
    "#!pip install https://github.com/WinVector/pyvtreat/raw/master/pkg/dist/vtreat-0.2.1.tar.gz"
   ]
  },
  {
   "cell_type": "raw",
   "metadata": {},
   "source": [
    "!pip install /Users/johnmount/Documents/work/wvpy/pkg/dist/wvpy-0.1.tar.gz\n",
    "#!pip install https://github.com/WinVector/wvpy/raw/master/pkg/dist/wvpy-0.1.tar.gz"
   ]
  },
  {
   "cell_type": "markdown",
   "metadata": {},
   "source": [
    "Load modules/packages."
   ]
  },
  {
   "cell_type": "code",
   "execution_count": 1,
   "metadata": {},
   "outputs": [],
   "source": [
    "import pygam\n",
    "import pandas\n",
    "import numpy\n",
    "import numpy.random\n",
    "import seaborn\n",
    "import matplotlib.pyplot \n",
    "import vtreat\n",
    "import vtreat.util\n",
    "import wvpy.util"
   ]
  },
  {
   "cell_type": "markdown",
   "metadata": {},
   "source": [
    "Generate example data."
   ]
  },
  {
   "cell_type": "code",
   "execution_count": 2,
   "metadata": {},
   "outputs": [
    {
     "data": {
      "text/html": [
       "<div>\n",
       "<style scoped>\n",
       "    .dataframe tbody tr th:only-of-type {\n",
       "        vertical-align: middle;\n",
       "    }\n",
       "\n",
       "    .dataframe tbody tr th {\n",
       "        vertical-align: top;\n",
       "    }\n",
       "\n",
       "    .dataframe thead th {\n",
       "        text-align: right;\n",
       "    }\n",
       "</style>\n",
       "<table border=\"1\" class=\"dataframe\">\n",
       "  <thead>\n",
       "    <tr style=\"text-align: right;\">\n",
       "      <th></th>\n",
       "      <th>x</th>\n",
       "      <th>y</th>\n",
       "      <th>xc</th>\n",
       "      <th>yc</th>\n",
       "    </tr>\n",
       "  </thead>\n",
       "  <tbody>\n",
       "    <tr>\n",
       "      <th>0</th>\n",
       "      <td>0.0</td>\n",
       "      <td>-0.067146</td>\n",
       "      <td>level_-0.0</td>\n",
       "      <td>False</td>\n",
       "    </tr>\n",
       "    <tr>\n",
       "      <th>1</th>\n",
       "      <td>0.1</td>\n",
       "      <td>0.077737</td>\n",
       "      <td>level_0.0</td>\n",
       "      <td>False</td>\n",
       "    </tr>\n",
       "    <tr>\n",
       "      <th>2</th>\n",
       "      <td>0.2</td>\n",
       "      <td>0.212240</td>\n",
       "      <td>level_0.0</td>\n",
       "      <td>False</td>\n",
       "    </tr>\n",
       "    <tr>\n",
       "      <th>3</th>\n",
       "      <td>0.3</td>\n",
       "      <td>0.381226</td>\n",
       "      <td>level_0.5</td>\n",
       "      <td>False</td>\n",
       "    </tr>\n",
       "    <tr>\n",
       "      <th>4</th>\n",
       "      <td>0.4</td>\n",
       "      <td>0.176271</td>\n",
       "      <td>level_0.0</td>\n",
       "      <td>False</td>\n",
       "    </tr>\n",
       "  </tbody>\n",
       "</table>\n",
       "</div>"
      ],
      "text/plain": [
       "     x         y          xc     yc\n",
       "0  0.0 -0.067146  level_-0.0  False\n",
       "1  0.1  0.077737   level_0.0  False\n",
       "2  0.2  0.212240   level_0.0  False\n",
       "3  0.3  0.381226   level_0.5  False\n",
       "4  0.4  0.176271   level_0.0  False"
      ]
     },
     "execution_count": 2,
     "metadata": {},
     "output_type": "execute_result"
    }
   ],
   "source": [
    "d = pandas.DataFrame({'x':[0.1*i for i in range(200)]})\n",
    "d['y'] = numpy.sin(d['x']) + 0.1*numpy.random.normal(size=d.shape[0])\n",
    "d['xc'] = ['level_' + str(5*numpy.round(yi/5, 1)) for yi in d['y']]\n",
    "d['yc']= d['y']>0.5\n",
    "d.head()"
   ]
  },
  {
   "cell_type": "code",
   "execution_count": 3,
   "metadata": {},
   "outputs": [
    {
     "data": {
      "text/plain": [
       "0.35"
      ]
     },
     "execution_count": 3,
     "metadata": {},
     "output_type": "execute_result"
    }
   ],
   "source": [
    "numpy.mean(d['yc']==True)"
   ]
  },
  {
   "cell_type": "markdown",
   "metadata": {},
   "source": [
    "Build a classification model."
   ]
  },
  {
   "cell_type": "code",
   "execution_count": 4,
   "metadata": {},
   "outputs": [],
   "source": [
    "transform = vtreat.BinomialOutcomeTreatment(\n",
    "    outcome_name='yc', \n",
    "    outcome_target=True,\n",
    "    cols_to_copy=['y'])"
   ]
  },
  {
   "cell_type": "code",
   "execution_count": 5,
   "metadata": {},
   "outputs": [
    {
     "data": {
      "text/html": [
       "<div>\n",
       "<style scoped>\n",
       "    .dataframe tbody tr th:only-of-type {\n",
       "        vertical-align: middle;\n",
       "    }\n",
       "\n",
       "    .dataframe tbody tr th {\n",
       "        vertical-align: top;\n",
       "    }\n",
       "\n",
       "    .dataframe thead th {\n",
       "        text-align: right;\n",
       "    }\n",
       "</style>\n",
       "<table border=\"1\" class=\"dataframe\">\n",
       "  <thead>\n",
       "    <tr style=\"text-align: right;\">\n",
       "      <th></th>\n",
       "      <th>y</th>\n",
       "      <th>yc</th>\n",
       "      <th>x</th>\n",
       "      <th>xc_logit_code</th>\n",
       "      <th>xc_prevalence_code</th>\n",
       "      <th>xc_lev_level_0.5</th>\n",
       "      <th>xc_lev_level_1.0</th>\n",
       "      <th>xc_lev_level_-1.0</th>\n",
       "      <th>xc_lev_level_-0.5</th>\n",
       "      <th>xc_lev_level_0.0</th>\n",
       "    </tr>\n",
       "  </thead>\n",
       "  <tbody>\n",
       "    <tr>\n",
       "      <th>0</th>\n",
       "      <td>-0.067146</td>\n",
       "      <td>False</td>\n",
       "      <td>0.0</td>\n",
       "      <td>-5.750218</td>\n",
       "      <td>0.065</td>\n",
       "      <td>0</td>\n",
       "      <td>0</td>\n",
       "      <td>0</td>\n",
       "      <td>0</td>\n",
       "      <td>0</td>\n",
       "    </tr>\n",
       "    <tr>\n",
       "      <th>1</th>\n",
       "      <td>0.077737</td>\n",
       "      <td>False</td>\n",
       "      <td>0.1</td>\n",
       "      <td>-5.716612</td>\n",
       "      <td>0.095</td>\n",
       "      <td>0</td>\n",
       "      <td>0</td>\n",
       "      <td>0</td>\n",
       "      <td>0</td>\n",
       "      <td>1</td>\n",
       "    </tr>\n",
       "    <tr>\n",
       "      <th>2</th>\n",
       "      <td>0.212240</td>\n",
       "      <td>False</td>\n",
       "      <td>0.2</td>\n",
       "      <td>-5.711329</td>\n",
       "      <td>0.095</td>\n",
       "      <td>0</td>\n",
       "      <td>0</td>\n",
       "      <td>0</td>\n",
       "      <td>0</td>\n",
       "      <td>1</td>\n",
       "    </tr>\n",
       "    <tr>\n",
       "      <th>3</th>\n",
       "      <td>0.381226</td>\n",
       "      <td>False</td>\n",
       "      <td>0.3</td>\n",
       "      <td>0.471503</td>\n",
       "      <td>0.215</td>\n",
       "      <td>1</td>\n",
       "      <td>0</td>\n",
       "      <td>0</td>\n",
       "      <td>0</td>\n",
       "      <td>0</td>\n",
       "    </tr>\n",
       "    <tr>\n",
       "      <th>4</th>\n",
       "      <td>0.176271</td>\n",
       "      <td>False</td>\n",
       "      <td>0.4</td>\n",
       "      <td>-5.716612</td>\n",
       "      <td>0.095</td>\n",
       "      <td>0</td>\n",
       "      <td>0</td>\n",
       "      <td>0</td>\n",
       "      <td>0</td>\n",
       "      <td>1</td>\n",
       "    </tr>\n",
       "  </tbody>\n",
       "</table>\n",
       "</div>"
      ],
      "text/plain": [
       "          y     yc    x  xc_logit_code  xc_prevalence_code  xc_lev_level_0.5  \\\n",
       "0 -0.067146  False  0.0      -5.750218               0.065                 0   \n",
       "1  0.077737  False  0.1      -5.716612               0.095                 0   \n",
       "2  0.212240  False  0.2      -5.711329               0.095                 0   \n",
       "3  0.381226  False  0.3       0.471503               0.215                 1   \n",
       "4  0.176271  False  0.4      -5.716612               0.095                 0   \n",
       "\n",
       "   xc_lev_level_1.0  xc_lev_level_-1.0  xc_lev_level_-0.5  xc_lev_level_0.0  \n",
       "0                 0                  0                  0                 0  \n",
       "1                 0                  0                  0                 1  \n",
       "2                 0                  0                  0                 1  \n",
       "3                 0                  0                  0                 0  \n",
       "4                 0                  0                  0                 1  "
      ]
     },
     "execution_count": 5,
     "metadata": {},
     "output_type": "execute_result"
    }
   ],
   "source": [
    "d_prepared = transform.fit_transform(d, d['yc'])\n",
    "d_prepared.head()"
   ]
  },
  {
   "cell_type": "code",
   "execution_count": 6,
   "metadata": {},
   "outputs": [
    {
     "data": {
      "text/html": [
       "<div>\n",
       "<style scoped>\n",
       "    .dataframe tbody tr th:only-of-type {\n",
       "        vertical-align: middle;\n",
       "    }\n",
       "\n",
       "    .dataframe tbody tr th {\n",
       "        vertical-align: top;\n",
       "    }\n",
       "\n",
       "    .dataframe thead th {\n",
       "        text-align: right;\n",
       "    }\n",
       "</style>\n",
       "<table border=\"1\" class=\"dataframe\">\n",
       "  <thead>\n",
       "    <tr style=\"text-align: right;\">\n",
       "      <th></th>\n",
       "      <th>variable</th>\n",
       "      <th>orig_variable</th>\n",
       "      <th>treatment</th>\n",
       "      <th>y_aware</th>\n",
       "      <th>has_range</th>\n",
       "      <th>PearsonR</th>\n",
       "      <th>significance</th>\n",
       "      <th>vcount</th>\n",
       "      <th>recommended</th>\n",
       "    </tr>\n",
       "  </thead>\n",
       "  <tbody>\n",
       "    <tr>\n",
       "      <th>0</th>\n",
       "      <td>x</td>\n",
       "      <td>x</td>\n",
       "      <td>clean_copy</td>\n",
       "      <td>False</td>\n",
       "      <td>True</td>\n",
       "      <td>-0.112029</td>\n",
       "      <td>1.142501e-01</td>\n",
       "      <td>1.0</td>\n",
       "      <td>True</td>\n",
       "    </tr>\n",
       "    <tr>\n",
       "      <th>1</th>\n",
       "      <td>xc_logit_code</td>\n",
       "      <td>xc</td>\n",
       "      <td>logit_code</td>\n",
       "      <td>True</td>\n",
       "      <td>True</td>\n",
       "      <td>0.842078</td>\n",
       "      <td>5.473033e-55</td>\n",
       "      <td>1.0</td>\n",
       "      <td>True</td>\n",
       "    </tr>\n",
       "    <tr>\n",
       "      <th>2</th>\n",
       "      <td>xc_prevalence_code</td>\n",
       "      <td>xc</td>\n",
       "      <td>prevalence_code</td>\n",
       "      <td>False</td>\n",
       "      <td>True</td>\n",
       "      <td>0.502411</td>\n",
       "      <td>3.452165e-14</td>\n",
       "      <td>1.0</td>\n",
       "      <td>True</td>\n",
       "    </tr>\n",
       "    <tr>\n",
       "      <th>3</th>\n",
       "      <td>xc_lev_level_0.5</td>\n",
       "      <td>xc</td>\n",
       "      <td>indicator_code</td>\n",
       "      <td>False</td>\n",
       "      <td>True</td>\n",
       "      <td>0.268242</td>\n",
       "      <td>1.228567e-04</td>\n",
       "      <td>5.0</td>\n",
       "      <td>True</td>\n",
       "    </tr>\n",
       "    <tr>\n",
       "      <th>4</th>\n",
       "      <td>xc_lev_level_1.0</td>\n",
       "      <td>xc</td>\n",
       "      <td>indicator_code</td>\n",
       "      <td>False</td>\n",
       "      <td>True</td>\n",
       "      <td>0.723747</td>\n",
       "      <td>9.813182e-34</td>\n",
       "      <td>5.0</td>\n",
       "      <td>True</td>\n",
       "    </tr>\n",
       "    <tr>\n",
       "      <th>5</th>\n",
       "      <td>xc_lev_level_-1.0</td>\n",
       "      <td>xc</td>\n",
       "      <td>indicator_code</td>\n",
       "      <td>False</td>\n",
       "      <td>True</td>\n",
       "      <td>-0.361158</td>\n",
       "      <td>1.488794e-07</td>\n",
       "      <td>5.0</td>\n",
       "      <td>True</td>\n",
       "    </tr>\n",
       "    <tr>\n",
       "      <th>6</th>\n",
       "      <td>xc_lev_level_-0.5</td>\n",
       "      <td>xc</td>\n",
       "      <td>indicator_code</td>\n",
       "      <td>False</td>\n",
       "      <td>True</td>\n",
       "      <td>-0.361158</td>\n",
       "      <td>1.488794e-07</td>\n",
       "      <td>5.0</td>\n",
       "      <td>True</td>\n",
       "    </tr>\n",
       "    <tr>\n",
       "      <th>7</th>\n",
       "      <td>xc_lev_level_0.0</td>\n",
       "      <td>xc</td>\n",
       "      <td>indicator_code</td>\n",
       "      <td>False</td>\n",
       "      <td>True</td>\n",
       "      <td>-0.244600</td>\n",
       "      <td>4.818367e-04</td>\n",
       "      <td>5.0</td>\n",
       "      <td>True</td>\n",
       "    </tr>\n",
       "  </tbody>\n",
       "</table>\n",
       "</div>"
      ],
      "text/plain": [
       "             variable orig_variable        treatment  y_aware  has_range  \\\n",
       "0                   x             x       clean_copy    False       True   \n",
       "1       xc_logit_code            xc       logit_code     True       True   \n",
       "2  xc_prevalence_code            xc  prevalence_code    False       True   \n",
       "3    xc_lev_level_0.5            xc   indicator_code    False       True   \n",
       "4    xc_lev_level_1.0            xc   indicator_code    False       True   \n",
       "5   xc_lev_level_-1.0            xc   indicator_code    False       True   \n",
       "6   xc_lev_level_-0.5            xc   indicator_code    False       True   \n",
       "7    xc_lev_level_0.0            xc   indicator_code    False       True   \n",
       "\n",
       "   PearsonR  significance  vcount  recommended  \n",
       "0 -0.112029  1.142501e-01     1.0         True  \n",
       "1  0.842078  5.473033e-55     1.0         True  \n",
       "2  0.502411  3.452165e-14     1.0         True  \n",
       "3  0.268242  1.228567e-04     5.0         True  \n",
       "4  0.723747  9.813182e-34     5.0         True  \n",
       "5 -0.361158  1.488794e-07     5.0         True  \n",
       "6 -0.361158  1.488794e-07     5.0         True  \n",
       "7 -0.244600  4.818367e-04     5.0         True  "
      ]
     },
     "execution_count": 6,
     "metadata": {},
     "output_type": "execute_result"
    }
   ],
   "source": [
    "transform.score_frame_"
   ]
  },
  {
   "cell_type": "code",
   "execution_count": 7,
   "metadata": {},
   "outputs": [
    {
     "data": {
      "image/png": "[encoded data removed]",
      "text/plain": [
       "<Figure size 432x288 with 1 Axes>"
      ]
     },
     "metadata": {
      "needs_background": "light"
     },
     "output_type": "display_data"
    },
    {
     "data": {
      "text/plain": [
       "0.9693956043956043"
      ]
     },
     "execution_count": 7,
     "metadata": {},
     "output_type": "execute_result"
    }
   ],
   "source": [
    "wvpy.util.plot_roc(prediction=d_prepared['xc_logit_code'], \n",
    "                   istrue=d_prepared['yc'],\n",
    "                   title = 'performance of xc_logit_code variable')"
   ]
  },
  {
   "cell_type": "code",
   "execution_count": 8,
   "metadata": {},
   "outputs": [
    {
     "data": {
      "image/png": "[encoded data removed]",
      "text/plain": [
       "<Figure size 432x288 with 1 Axes>"
      ]
     },
     "metadata": {
      "needs_background": "light"
     },
     "output_type": "display_data"
    },
    {
     "data": {
      "text/plain": [
       "0.9307692307692308"
      ]
     },
     "execution_count": 8,
     "metadata": {},
     "output_type": "execute_result"
    }
   ],
   "source": [
    "wvpy.util.plot_roc(prediction=d_prepared['xc_prevalence_code'], \n",
    "                   istrue=d_prepared['yc'],\n",
    "                   title = 'performance of xc_prevalence_code variable')"
   ]
  },
  {
   "cell_type": "code",
   "execution_count": null,
   "metadata": {},
   "outputs": [],
   "source": []
  }
 ],
 "metadata": {
  "kernelspec": {
   "display_name": "Python 3",
   "language": "python",
   "name": "python3"
  },
  "language_info": {
   "codemirror_mode": {
    "name": "ipython",
    "version": 3
   },
   "file_extension": ".py",
   "mimetype": "text/x-python",
   "name": "python",
   "nbconvert_exporter": "python",
   "pygments_lexer": "ipython3",
   "version": "3.7.3"
  }
 },
 "nbformat": 4,
 "nbformat_minor": 4
}
