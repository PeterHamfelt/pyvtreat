{
 "cells": [
  {
   "cell_type": "code",
   "execution_count": null,
   "metadata": {},
   "outputs": [],
   "source": []
  },
  {
   "cell_type": "raw",
   "metadata": {},
   "source": [
    "# to install\n",
    "!pip install /Users/johnmount/Documents/work/pyvtreat/pkg/dist/vtreat-0.2.tar.gz\n",
    "#!pip install https://github.com/WinVector/pyvtreat/raw/master/pkg/dist/vtreat-0.2.tar.gz"
   ]
  },
  {
   "cell_type": "markdown",
   "metadata": {},
   "source": [
    "Load modules/packages."
   ]
  },
  {
   "cell_type": "code",
   "execution_count": 1,
   "metadata": {},
   "outputs": [],
   "source": [
    "import pygam\n",
    "import pandas\n",
    "import numpy\n",
    "import numpy.random\n",
    "import seaborn\n",
    "import matplotlib.pyplot \n",
    "import vtreat\n",
    "import vtreat.util"
   ]
  },
  {
   "cell_type": "markdown",
   "metadata": {},
   "source": [
    "Generate example data."
   ]
  },
  {
   "cell_type": "code",
   "execution_count": 2,
   "metadata": {},
   "outputs": [
    {
     "data": {
      "text/html": [
       "<div>\n",
       "<style scoped>\n",
       "    .dataframe tbody tr th:only-of-type {\n",
       "        vertical-align: middle;\n",
       "    }\n",
       "\n",
       "    .dataframe tbody tr th {\n",
       "        vertical-align: top;\n",
       "    }\n",
       "\n",
       "    .dataframe thead th {\n",
       "        text-align: right;\n",
       "    }\n",
       "</style>\n",
       "<table border=\"1\" class=\"dataframe\">\n",
       "  <thead>\n",
       "    <tr style=\"text-align: right;\">\n",
       "      <th></th>\n",
       "      <th>x</th>\n",
       "      <th>y</th>\n",
       "      <th>xc</th>\n",
       "    </tr>\n",
       "  </thead>\n",
       "  <tbody>\n",
       "    <tr>\n",
       "      <th>0</th>\n",
       "      <td>0.0</td>\n",
       "      <td>0.064092</td>\n",
       "      <td>level_0.0</td>\n",
       "    </tr>\n",
       "    <tr>\n",
       "      <th>1</th>\n",
       "      <td>0.1</td>\n",
       "      <td>-0.039855</td>\n",
       "      <td>level_-0.0</td>\n",
       "    </tr>\n",
       "    <tr>\n",
       "      <th>2</th>\n",
       "      <td>0.2</td>\n",
       "      <td>0.152032</td>\n",
       "      <td>level_0.0</td>\n",
       "    </tr>\n",
       "    <tr>\n",
       "      <th>3</th>\n",
       "      <td>0.3</td>\n",
       "      <td>0.273204</td>\n",
       "      <td>level_0.5</td>\n",
       "    </tr>\n",
       "    <tr>\n",
       "      <th>4</th>\n",
       "      <td>0.4</td>\n",
       "      <td>0.307196</td>\n",
       "      <td>level_0.5</td>\n",
       "    </tr>\n",
       "  </tbody>\n",
       "</table>\n",
       "</div>"
      ],
      "text/plain": [
       "     x         y          xc\n",
       "0  0.0  0.064092   level_0.0\n",
       "1  0.1 -0.039855  level_-0.0\n",
       "2  0.2  0.152032   level_0.0\n",
       "3  0.3  0.273204   level_0.5\n",
       "4  0.4  0.307196   level_0.5"
      ]
     },
     "execution_count": 2,
     "metadata": {},
     "output_type": "execute_result"
    }
   ],
   "source": [
    "d = pandas.DataFrame({'x':[0.1*i for i in range(200)]})\n",
    "d['y'] = numpy.sin(d['x']) + 0.1*numpy.random.normal(size=d.shape[0])\n",
    "d['xc'] = ['level_' + str(5*numpy.round(yi/5, 1)) for yi in d['y']]\n",
    "d.head()"
   ]
  },
  {
   "cell_type": "code",
   "execution_count": 3,
   "metadata": {},
   "outputs": [
    {
     "data": {
      "text/html": [
       "<div>\n",
       "<style scoped>\n",
       "    .dataframe tbody tr th:only-of-type {\n",
       "        vertical-align: middle;\n",
       "    }\n",
       "\n",
       "    .dataframe tbody tr th {\n",
       "        vertical-align: top;\n",
       "    }\n",
       "\n",
       "    .dataframe thead th {\n",
       "        text-align: right;\n",
       "    }\n",
       "</style>\n",
       "<table border=\"1\" class=\"dataframe\">\n",
       "  <thead>\n",
       "    <tr style=\"text-align: right;\">\n",
       "      <th></th>\n",
       "      <th>x</th>\n",
       "      <th>y</th>\n",
       "      <th>xc</th>\n",
       "    </tr>\n",
       "  </thead>\n",
       "  <tbody>\n",
       "    <tr>\n",
       "      <th>195</th>\n",
       "      <td>19.5</td>\n",
       "      <td>0.607070</td>\n",
       "      <td>level_0.5</td>\n",
       "    </tr>\n",
       "    <tr>\n",
       "      <th>196</th>\n",
       "      <td>19.6</td>\n",
       "      <td>0.590396</td>\n",
       "      <td>level_0.5</td>\n",
       "    </tr>\n",
       "    <tr>\n",
       "      <th>197</th>\n",
       "      <td>19.7</td>\n",
       "      <td>0.808032</td>\n",
       "      <td>level_1.0</td>\n",
       "    </tr>\n",
       "    <tr>\n",
       "      <th>198</th>\n",
       "      <td>19.8</td>\n",
       "      <td>0.759041</td>\n",
       "      <td>level_1.0</td>\n",
       "    </tr>\n",
       "    <tr>\n",
       "      <th>199</th>\n",
       "      <td>19.9</td>\n",
       "      <td>1.004625</td>\n",
       "      <td>level_1.0</td>\n",
       "    </tr>\n",
       "  </tbody>\n",
       "</table>\n",
       "</div>"
      ],
      "text/plain": [
       "        x         y         xc\n",
       "195  19.5  0.607070  level_0.5\n",
       "196  19.6  0.590396  level_0.5\n",
       "197  19.7  0.808032  level_1.0\n",
       "198  19.8  0.759041  level_1.0\n",
       "199  19.9  1.004625  level_1.0"
      ]
     },
     "execution_count": 3,
     "metadata": {},
     "output_type": "execute_result"
    }
   ],
   "source": [
    "d.tail()"
   ]
  },
  {
   "cell_type": "code",
   "execution_count": 4,
   "metadata": {},
   "outputs": [
    {
     "data": {
      "text/plain": [
       "<matplotlib.axes._subplots.AxesSubplot at 0x1a1ebe11d0>"
      ]
     },
     "execution_count": 4,
     "metadata": {},
     "output_type": "execute_result"
    },
    {
     "data": {
      "image/png": "[encoded data removed]",
      "text/plain": [
       "<Figure size 432x288 with 1 Axes>"
      ]
     },
     "metadata": {
      "needs_background": "light"
     },
     "output_type": "display_data"
    }
   ],
   "source": [
    "seaborn.scatterplot(x='x', y='y', data=d)"
   ]
  },
  {
   "cell_type": "markdown",
   "metadata": {},
   "source": [
    "Fit a regression transform (numeric)."
   ]
  },
  {
   "cell_type": "code",
   "execution_count": 5,
   "metadata": {},
   "outputs": [],
   "source": [
    "transform = vtreat.NumericOutcomeTreatment(\n",
    "    outcome_name='y')"
   ]
  },
  {
   "cell_type": "code",
   "execution_count": 6,
   "metadata": {},
   "outputs": [
    {
     "data": {
      "text/html": [
       "<div>\n",
       "<style scoped>\n",
       "    .dataframe tbody tr th:only-of-type {\n",
       "        vertical-align: middle;\n",
       "    }\n",
       "\n",
       "    .dataframe tbody tr th {\n",
       "        vertical-align: top;\n",
       "    }\n",
       "\n",
       "    .dataframe thead th {\n",
       "        text-align: right;\n",
       "    }\n",
       "</style>\n",
       "<table border=\"1\" class=\"dataframe\">\n",
       "  <thead>\n",
       "    <tr style=\"text-align: right;\">\n",
       "      <th></th>\n",
       "      <th>y</th>\n",
       "      <th>x</th>\n",
       "      <th>xc_impact_code</th>\n",
       "      <th>xc_deviance_code</th>\n",
       "      <th>xc_prevalence_code</th>\n",
       "      <th>xc_lev_level_0.5</th>\n",
       "      <th>xc_lev_level_1.0</th>\n",
       "      <th>xc_lev_level_-1.0</th>\n",
       "      <th>xc_lev_level_-0.5</th>\n",
       "    </tr>\n",
       "  </thead>\n",
       "  <tbody>\n",
       "    <tr>\n",
       "      <th>0</th>\n",
       "      <td>0.064092</td>\n",
       "      <td>0.0</td>\n",
       "      <td>0.121845</td>\n",
       "      <td>0.068368</td>\n",
       "      <td>0.090</td>\n",
       "      <td>0</td>\n",
       "      <td>0</td>\n",
       "      <td>0</td>\n",
       "      <td>0</td>\n",
       "    </tr>\n",
       "    <tr>\n",
       "      <th>1</th>\n",
       "      <td>-0.039855</td>\n",
       "      <td>0.1</td>\n",
       "      <td>-0.152631</td>\n",
       "      <td>0.088856</td>\n",
       "      <td>0.070</td>\n",
       "      <td>0</td>\n",
       "      <td>0</td>\n",
       "      <td>0</td>\n",
       "      <td>0</td>\n",
       "    </tr>\n",
       "    <tr>\n",
       "      <th>2</th>\n",
       "      <td>0.152032</td>\n",
       "      <td>0.2</td>\n",
       "      <td>0.151199</td>\n",
       "      <td>0.074763</td>\n",
       "      <td>0.090</td>\n",
       "      <td>0</td>\n",
       "      <td>0</td>\n",
       "      <td>0</td>\n",
       "      <td>0</td>\n",
       "    </tr>\n",
       "    <tr>\n",
       "      <th>3</th>\n",
       "      <td>0.273204</td>\n",
       "      <td>0.3</td>\n",
       "      <td>0.487871</td>\n",
       "      <td>0.149677</td>\n",
       "      <td>0.215</td>\n",
       "      <td>1</td>\n",
       "      <td>0</td>\n",
       "      <td>0</td>\n",
       "      <td>0</td>\n",
       "    </tr>\n",
       "    <tr>\n",
       "      <th>4</th>\n",
       "      <td>0.307196</td>\n",
       "      <td>0.4</td>\n",
       "      <td>0.477962</td>\n",
       "      <td>0.161974</td>\n",
       "      <td>0.215</td>\n",
       "      <td>1</td>\n",
       "      <td>0</td>\n",
       "      <td>0</td>\n",
       "      <td>0</td>\n",
       "    </tr>\n",
       "  </tbody>\n",
       "</table>\n",
       "</div>"
      ],
      "text/plain": [
       "          y    x  xc_impact_code  xc_deviance_code  xc_prevalence_code  \\\n",
       "0  0.064092  0.0        0.121845          0.068368               0.090   \n",
       "1 -0.039855  0.1       -0.152631          0.088856               0.070   \n",
       "2  0.152032  0.2        0.151199          0.074763               0.090   \n",
       "3  0.273204  0.3        0.487871          0.149677               0.215   \n",
       "4  0.307196  0.4        0.477962          0.161974               0.215   \n",
       "\n",
       "   xc_lev_level_0.5  xc_lev_level_1.0  xc_lev_level_-1.0  xc_lev_level_-0.5  \n",
       "0                 0                 0                  0                  0  \n",
       "1                 0                 0                  0                  0  \n",
       "2                 0                 0                  0                  0  \n",
       "3                 1                 0                  0                  0  \n",
       "4                 1                 0                  0                  0  "
      ]
     },
     "execution_count": 6,
     "metadata": {},
     "output_type": "execute_result"
    }
   ],
   "source": [
    "d_prepared = transform.fit_transform(d, d['y'])\n",
    "d_prepared.head()"
   ]
  },
  {
   "cell_type": "markdown",
   "metadata": {},
   "source": [
    "Plot cross-validated version."
   ]
  },
  {
   "cell_type": "code",
   "execution_count": 7,
   "metadata": {},
   "outputs": [
    {
     "data": {
      "image/png": "[encoded data removed]",
      "text/plain": [
       "<Figure size 432x288 with 1 Axes>"
      ]
     },
     "metadata": {
      "needs_background": "light"
     },
     "output_type": "display_data"
    }
   ],
   "source": [
    "seaborn.scatterplot(x='x', y='y', data=d_prepared) \n",
    "ax = seaborn.scatterplot(x='x', y='xc_impact_code', data=d_prepared,\n",
    "                    marker=\"x\", color='red', alpha=0.75)\n",
    "ax.set(ylabel='y')\n",
    "txt = matplotlib.pyplot.title(\"x_impact_code\")"
   ]
  },
  {
   "cell_type": "markdown",
   "metadata": {},
   "source": [
    "Build a non cross-validated version."
   ]
  },
  {
   "cell_type": "code",
   "execution_count": 8,
   "metadata": {},
   "outputs": [
    {
     "data": {
      "text/html": [
       "<div>\n",
       "<style scoped>\n",
       "    .dataframe tbody tr th:only-of-type {\n",
       "        vertical-align: middle;\n",
       "    }\n",
       "\n",
       "    .dataframe tbody tr th {\n",
       "        vertical-align: top;\n",
       "    }\n",
       "\n",
       "    .dataframe thead th {\n",
       "        text-align: right;\n",
       "    }\n",
       "</style>\n",
       "<table border=\"1\" class=\"dataframe\">\n",
       "  <thead>\n",
       "    <tr style=\"text-align: right;\">\n",
       "      <th></th>\n",
       "      <th>y</th>\n",
       "      <th>x</th>\n",
       "      <th>xc_impact_code</th>\n",
       "      <th>xc_deviance_code</th>\n",
       "      <th>xc_prevalence_code</th>\n",
       "      <th>xc_lev_level_0.5</th>\n",
       "      <th>xc_lev_level_1.0</th>\n",
       "      <th>xc_lev_level_-1.0</th>\n",
       "      <th>xc_lev_level_-0.5</th>\n",
       "      <th>xc</th>\n",
       "    </tr>\n",
       "  </thead>\n",
       "  <tbody>\n",
       "    <tr>\n",
       "      <th>0</th>\n",
       "      <td>0.064092</td>\n",
       "      <td>0.0</td>\n",
       "      <td>0.115070</td>\n",
       "      <td>0.073076</td>\n",
       "      <td>0.090</td>\n",
       "      <td>0</td>\n",
       "      <td>0</td>\n",
       "      <td>0</td>\n",
       "      <td>0</td>\n",
       "      <td>level_0.0</td>\n",
       "    </tr>\n",
       "    <tr>\n",
       "      <th>1</th>\n",
       "      <td>-0.039855</td>\n",
       "      <td>0.1</td>\n",
       "      <td>-0.138551</td>\n",
       "      <td>0.082946</td>\n",
       "      <td>0.070</td>\n",
       "      <td>0</td>\n",
       "      <td>0</td>\n",
       "      <td>0</td>\n",
       "      <td>0</td>\n",
       "      <td>level_-0.0</td>\n",
       "    </tr>\n",
       "    <tr>\n",
       "      <th>2</th>\n",
       "      <td>0.152032</td>\n",
       "      <td>0.2</td>\n",
       "      <td>0.115070</td>\n",
       "      <td>0.073076</td>\n",
       "      <td>0.090</td>\n",
       "      <td>0</td>\n",
       "      <td>0</td>\n",
       "      <td>0</td>\n",
       "      <td>0</td>\n",
       "      <td>level_0.0</td>\n",
       "    </tr>\n",
       "    <tr>\n",
       "      <th>3</th>\n",
       "      <td>0.273204</td>\n",
       "      <td>0.3</td>\n",
       "      <td>0.488306</td>\n",
       "      <td>0.156112</td>\n",
       "      <td>0.215</td>\n",
       "      <td>1</td>\n",
       "      <td>0</td>\n",
       "      <td>0</td>\n",
       "      <td>0</td>\n",
       "      <td>level_0.5</td>\n",
       "    </tr>\n",
       "    <tr>\n",
       "      <th>4</th>\n",
       "      <td>0.307196</td>\n",
       "      <td>0.4</td>\n",
       "      <td>0.488306</td>\n",
       "      <td>0.156112</td>\n",
       "      <td>0.215</td>\n",
       "      <td>1</td>\n",
       "      <td>0</td>\n",
       "      <td>0</td>\n",
       "      <td>0</td>\n",
       "      <td>level_0.5</td>\n",
       "    </tr>\n",
       "  </tbody>\n",
       "</table>\n",
       "</div>"
      ],
      "text/plain": [
       "          y    x  xc_impact_code  xc_deviance_code  xc_prevalence_code  \\\n",
       "0  0.064092  0.0        0.115070          0.073076               0.090   \n",
       "1 -0.039855  0.1       -0.138551          0.082946               0.070   \n",
       "2  0.152032  0.2        0.115070          0.073076               0.090   \n",
       "3  0.273204  0.3        0.488306          0.156112               0.215   \n",
       "4  0.307196  0.4        0.488306          0.156112               0.215   \n",
       "\n",
       "   xc_lev_level_0.5  xc_lev_level_1.0  xc_lev_level_-1.0  xc_lev_level_-0.5  \\\n",
       "0                 0                 0                  0                  0   \n",
       "1                 0                 0                  0                  0   \n",
       "2                 0                 0                  0                  0   \n",
       "3                 1                 0                  0                  0   \n",
       "4                 1                 0                  0                  0   \n",
       "\n",
       "           xc  \n",
       "0   level_0.0  \n",
       "1  level_-0.0  \n",
       "2   level_0.0  \n",
       "3   level_0.5  \n",
       "4   level_0.5  "
      ]
     },
     "execution_count": 8,
     "metadata": {},
     "output_type": "execute_result"
    }
   ],
   "source": [
    "d_xform = transform.transform(d)\n",
    "d_xform['xc'] = d['xc']\n",
    "d_xform.head()"
   ]
  },
  {
   "cell_type": "code",
   "execution_count": 9,
   "metadata": {},
   "outputs": [
    {
     "data": {
      "text/html": [
       "<div>\n",
       "<style scoped>\n",
       "    .dataframe tbody tr th:only-of-type {\n",
       "        vertical-align: middle;\n",
       "    }\n",
       "\n",
       "    .dataframe tbody tr th {\n",
       "        vertical-align: top;\n",
       "    }\n",
       "\n",
       "    .dataframe thead th {\n",
       "        text-align: right;\n",
       "    }\n",
       "</style>\n",
       "<table border=\"1\" class=\"dataframe\">\n",
       "  <thead>\n",
       "    <tr style=\"text-align: right;\">\n",
       "      <th></th>\n",
       "      <th>y</th>\n",
       "      <th>x</th>\n",
       "      <th>xc_impact_code</th>\n",
       "      <th>xc_deviance_code</th>\n",
       "      <th>xc_prevalence_code</th>\n",
       "      <th>xc_lev_level_0.5</th>\n",
       "      <th>xc_lev_level_1.0</th>\n",
       "      <th>xc_lev_level_-1.0</th>\n",
       "      <th>xc_lev_level_-0.5</th>\n",
       "      <th>xc</th>\n",
       "    </tr>\n",
       "  </thead>\n",
       "  <tbody>\n",
       "    <tr>\n",
       "      <th>0</th>\n",
       "      <td>0.064092</td>\n",
       "      <td>0.0</td>\n",
       "      <td>0.121845</td>\n",
       "      <td>0.068368</td>\n",
       "      <td>0.090</td>\n",
       "      <td>0</td>\n",
       "      <td>0</td>\n",
       "      <td>0</td>\n",
       "      <td>0</td>\n",
       "      <td>level_0.0</td>\n",
       "    </tr>\n",
       "    <tr>\n",
       "      <th>1</th>\n",
       "      <td>-0.039855</td>\n",
       "      <td>0.1</td>\n",
       "      <td>-0.152631</td>\n",
       "      <td>0.088856</td>\n",
       "      <td>0.070</td>\n",
       "      <td>0</td>\n",
       "      <td>0</td>\n",
       "      <td>0</td>\n",
       "      <td>0</td>\n",
       "      <td>level_-0.0</td>\n",
       "    </tr>\n",
       "    <tr>\n",
       "      <th>2</th>\n",
       "      <td>0.152032</td>\n",
       "      <td>0.2</td>\n",
       "      <td>0.151199</td>\n",
       "      <td>0.074763</td>\n",
       "      <td>0.090</td>\n",
       "      <td>0</td>\n",
       "      <td>0</td>\n",
       "      <td>0</td>\n",
       "      <td>0</td>\n",
       "      <td>level_0.0</td>\n",
       "    </tr>\n",
       "    <tr>\n",
       "      <th>3</th>\n",
       "      <td>0.273204</td>\n",
       "      <td>0.3</td>\n",
       "      <td>0.487871</td>\n",
       "      <td>0.149677</td>\n",
       "      <td>0.215</td>\n",
       "      <td>1</td>\n",
       "      <td>0</td>\n",
       "      <td>0</td>\n",
       "      <td>0</td>\n",
       "      <td>level_0.5</td>\n",
       "    </tr>\n",
       "    <tr>\n",
       "      <th>4</th>\n",
       "      <td>0.307196</td>\n",
       "      <td>0.4</td>\n",
       "      <td>0.477962</td>\n",
       "      <td>0.161974</td>\n",
       "      <td>0.215</td>\n",
       "      <td>1</td>\n",
       "      <td>0</td>\n",
       "      <td>0</td>\n",
       "      <td>0</td>\n",
       "      <td>level_0.5</td>\n",
       "    </tr>\n",
       "  </tbody>\n",
       "</table>\n",
       "</div>"
      ],
      "text/plain": [
       "          y    x  xc_impact_code  xc_deviance_code  xc_prevalence_code  \\\n",
       "0  0.064092  0.0        0.121845          0.068368               0.090   \n",
       "1 -0.039855  0.1       -0.152631          0.088856               0.070   \n",
       "2  0.152032  0.2        0.151199          0.074763               0.090   \n",
       "3  0.273204  0.3        0.487871          0.149677               0.215   \n",
       "4  0.307196  0.4        0.477962          0.161974               0.215   \n",
       "\n",
       "   xc_lev_level_0.5  xc_lev_level_1.0  xc_lev_level_-1.0  xc_lev_level_-0.5  \\\n",
       "0                 0                 0                  0                  0   \n",
       "1                 0                 0                  0                  0   \n",
       "2                 0                 0                  0                  0   \n",
       "3                 1                 0                  0                  0   \n",
       "4                 1                 0                  0                  0   \n",
       "\n",
       "           xc  \n",
       "0   level_0.0  \n",
       "1  level_-0.0  \n",
       "2   level_0.0  \n",
       "3   level_0.5  \n",
       "4   level_0.5  "
      ]
     },
     "execution_count": 9,
     "metadata": {},
     "output_type": "execute_result"
    }
   ],
   "source": [
    "d_prepared['xc'] = d['xc']\n",
    "d_prepared.head()"
   ]
  },
  {
   "cell_type": "markdown",
   "metadata": {},
   "source": [
    "For cross-frames (built via `.fit_transform()`) the impact codes are functios of both the level being encoded and the cross-validation group used in construction.  So the impact codes are *not* a function of just the level during training. This is part of what helps fight nested model bias driven over-fit during model training."
   ]
  },
  {
   "cell_type": "code",
   "execution_count": 10,
   "metadata": {},
   "outputs": [
    {
     "data": {
      "text/plain": [
       "<seaborn.axisgrid.FacetGrid at 0x1a1f0a1748>"
      ]
     },
     "execution_count": 10,
     "metadata": {},
     "output_type": "execute_result"
    },
    {
     "data": {
      "image/png": "[encoded data removed]",
      "text/plain": [
       "<Figure size 360x360 with 1 Axes>"
      ]
     },
     "metadata": {
      "needs_background": "light"
     },
     "output_type": "display_data"
    }
   ],
   "source": [
    "seaborn.catplot(x='xc_impact_code', y='xc', data=d_prepared,\n",
    "                jitter=False)"
   ]
  },
  {
   "cell_type": "markdown",
   "metadata": {},
   "source": [
    "Through the normal `.transform()` path the impact value *is* a function of the level."
   ]
  },
  {
   "cell_type": "code",
   "execution_count": 11,
   "metadata": {},
   "outputs": [
    {
     "data": {
      "text/plain": [
       "<seaborn.axisgrid.FacetGrid at 0x1a1f17ecc0>"
      ]
     },
     "execution_count": 11,
     "metadata": {},
     "output_type": "execute_result"
    },
    {
     "data": {
      "image/png": "[encoded data removed]",
      "text/plain": [
       "<Figure size 360x360 with 1 Axes>"
      ]
     },
     "metadata": {
      "needs_background": "light"
     },
     "output_type": "display_data"
    }
   ],
   "source": [
    "seaborn.catplot(x='xc_impact_code', y='xc', data=d_xform,\n",
    "                jitter=False)"
   ]
  },
  {
   "cell_type": "code",
   "execution_count": null,
   "metadata": {},
   "outputs": [],
   "source": []
  }
 ],
 "metadata": {
  "kernelspec": {
   "display_name": "Python 3",
   "language": "python",
   "name": "python3"
  },
  "language_info": {
   "codemirror_mode": {
    "name": "ipython",
    "version": 3
   },
   "file_extension": ".py",
   "mimetype": "text/x-python",
   "name": "python",
   "nbconvert_exporter": "python",
   "pygments_lexer": "ipython3",
   "version": "3.7.3"
  }
 },
 "nbformat": 4,
 "nbformat_minor": 4
}
