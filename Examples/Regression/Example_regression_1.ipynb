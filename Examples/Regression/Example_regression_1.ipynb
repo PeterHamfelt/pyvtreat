{
 "cells": [
  {
   "cell_type": "raw",
   "metadata": {},
   "source": [
    "# to install\n",
    "!pip install /Users/johnmount/Documents/work/pyvtreat/pkg/dist/vtreat-0.2.1.tar.gz\n",
    "#!pip install https://github.com/WinVector/pyvtreat/raw/master/pkg/dist/vtreat-0.2.1.tar.gz"
   ]
  },
  {
   "cell_type": "raw",
   "metadata": {},
   "source": [
    "!pip install /Users/johnmount/Documents/work/wvpy/pkg/dist/wvpy-0.1.tar.gz\n",
    "#!pip install https://github.com/WinVector/wvpy/raw/master/pkg/dist/wvpy-0.1.tar.gz"
   ]
  },
  {
   "cell_type": "code",
   "execution_count": 1,
   "metadata": {
    "pycharm": {
     "is_executing": false
    }
   },
   "outputs": [],
   "source": [
    "import vtreat.cross_plan\n"
   ]
  },
  {
   "cell_type": "code",
   "execution_count": 2,
   "metadata": {
    "pycharm": {
     "is_executing": false
    }
   },
   "outputs": [
    {
     "data": {
      "text/plain": "[{'train': [0, 1, 2, 3, 5, 6, 7], 'app': [4, 8, 9]},\n {'train': [0, 3, 4, 5, 7, 8, 9], 'app': [1, 2, 6]},\n {'train': [1, 2, 4, 5, 6, 7, 8, 9], 'app': [0, 3]},\n {'train': [0, 1, 2, 3, 4, 6, 8, 9], 'app': [5, 7]}]"
     },
     "metadata": {},
     "output_type": "execute_result",
     "execution_count": 2
    }
   ],
   "source": [
    "cp = vtreat.cross_plan.k_way_cross_plan(10,4)\n",
    "cp"
   ]
  },
  {
   "cell_type": "code",
   "execution_count": 3,
   "outputs": [
    {
     "data": {
      "text/plain": "array([ True,  True,  True,  True,  True,  True,  True,  True,  True,\n        True])"
     },
     "metadata": {},
     "output_type": "execute_result",
     "execution_count": 3
    }
   ],
   "source": [
    "vtreat.cross_plan.support_indicator(10, cp)"
   ],
   "metadata": {
    "collapsed": false,
    "pycharm": {
     "name": "#%%\n",
     "is_executing": false
    }
   }
  },
  {
   "cell_type": "code",
   "execution_count": 4,
   "metadata": {
    "pycharm": {
     "is_executing": false
    }
   },
   "outputs": [],
   "source": [
    "import vtreat\n"
   ]
  },
  {
   "cell_type": "code",
   "execution_count": 5,
   "metadata": {
    "pycharm": {
     "is_executing": false
    }
   },
   "outputs": [],
   "source": [
    "plan = vtreat.NumericOutcomeTreatment(outcome_name=\"y\",\n",
    "                                      params=vtreat.vtreat_parameters({'filter_to_recommended':False}))"
   ]
  },
  {
   "cell_type": "code",
   "execution_count": 6,
   "metadata": {
    "pycharm": {
     "is_executing": false
    }
   },
   "outputs": [],
   "source": [
    "import pandas\n",
    "import numpy"
   ]
  },
  {
   "cell_type": "code",
   "execution_count": 7,
   "metadata": {
    "pycharm": {
     "is_executing": false
    }
   },
   "outputs": [],
   "source": [
    "# from https://pandas.pydata.org/pandas-docs/stable/user_guide/missing_data.html\n",
    "df = pandas.DataFrame(numpy.random.randn(5, 3), index=['a', 'c', 'e', 'f', 'h'],\n",
    "                      columns=['one', 'two', 'three'])\n",
    "df['four'] = 'foo'\n",
    "df['five'] = df['one'] > 0\n",
    "df2 = df.reindex(['a', 'b', 'c', 'd', 'e', 'f', 'g', 'h'])\n",
    "df2.reset_index(inplace=True, drop=True)\n",
    "df2[\"y\"] = range(df2.shape[0])\n",
    "df2.loc[3, \"four\"] = \"blog\"\n",
    "df2[\"const\"] = 1"
   ]
  },
  {
   "cell_type": "code",
   "execution_count": 8,
   "metadata": {
    "pycharm": {
     "is_executing": false
    }
   },
   "outputs": [
    {
     "data": {
      "text/plain": "        one       two     three  four   five  y  const\n0  0.988994  0.202114 -0.079877   foo   True  0      1\n1       NaN       NaN       NaN   NaN    NaN  1      1\n2  0.503749  0.315861  0.331037   foo   True  2      1\n3       NaN       NaN       NaN  blog    NaN  3      1\n4  0.003485  1.195060  0.017969   foo   True  4      1\n5  1.138877  0.085074  0.961026   foo   True  5      1\n6       NaN       NaN       NaN   NaN    NaN  6      1\n7 -0.130601 -2.349137 -0.010699   foo  False  7      1",
      "text/html": "<div>\n<style scoped>\n    .dataframe tbody tr th:only-of-type {\n        vertical-align: middle;\n    }\n\n    .dataframe tbody tr th {\n        vertical-align: top;\n    }\n\n    .dataframe thead th {\n        text-align: right;\n    }\n</style>\n<table border=\"1\" class=\"dataframe\">\n  <thead>\n    <tr style=\"text-align: right;\">\n      <th></th>\n      <th>one</th>\n      <th>two</th>\n      <th>three</th>\n      <th>four</th>\n      <th>five</th>\n      <th>y</th>\n      <th>const</th>\n    </tr>\n  </thead>\n  <tbody>\n    <tr>\n      <th>0</th>\n      <td>0.988994</td>\n      <td>0.202114</td>\n      <td>-0.079877</td>\n      <td>foo</td>\n      <td>True</td>\n      <td>0</td>\n      <td>1</td>\n    </tr>\n    <tr>\n      <th>1</th>\n      <td>NaN</td>\n      <td>NaN</td>\n      <td>NaN</td>\n      <td>NaN</td>\n      <td>NaN</td>\n      <td>1</td>\n      <td>1</td>\n    </tr>\n    <tr>\n      <th>2</th>\n      <td>0.503749</td>\n      <td>0.315861</td>\n      <td>0.331037</td>\n      <td>foo</td>\n      <td>True</td>\n      <td>2</td>\n      <td>1</td>\n    </tr>\n    <tr>\n      <th>3</th>\n      <td>NaN</td>\n      <td>NaN</td>\n      <td>NaN</td>\n      <td>blog</td>\n      <td>NaN</td>\n      <td>3</td>\n      <td>1</td>\n    </tr>\n    <tr>\n      <th>4</th>\n      <td>0.003485</td>\n      <td>1.195060</td>\n      <td>0.017969</td>\n      <td>foo</td>\n      <td>True</td>\n      <td>4</td>\n      <td>1</td>\n    </tr>\n    <tr>\n      <th>5</th>\n      <td>1.138877</td>\n      <td>0.085074</td>\n      <td>0.961026</td>\n      <td>foo</td>\n      <td>True</td>\n      <td>5</td>\n      <td>1</td>\n    </tr>\n    <tr>\n      <th>6</th>\n      <td>NaN</td>\n      <td>NaN</td>\n      <td>NaN</td>\n      <td>NaN</td>\n      <td>NaN</td>\n      <td>6</td>\n      <td>1</td>\n    </tr>\n    <tr>\n      <th>7</th>\n      <td>-0.130601</td>\n      <td>-2.349137</td>\n      <td>-0.010699</td>\n      <td>foo</td>\n      <td>False</td>\n      <td>7</td>\n      <td>1</td>\n    </tr>\n  </tbody>\n</table>\n</div>"
     },
     "metadata": {},
     "output_type": "execute_result",
     "execution_count": 8
    }
   ],
   "source": [
    "df2"
   ]
  },
  {
   "cell_type": "code",
   "execution_count": 9,
   "metadata": {
    "pycharm": {
     "is_executing": false
    }
   },
   "outputs": [
    {
     "data": {
      "text/plain": "<vtreat.NumericOutcomeTreatment at 0x1a16d7b978>"
     },
     "metadata": {},
     "output_type": "execute_result",
     "execution_count": 9
    }
   ],
   "source": [
    "plan.fit(df2, df2[\"y\"])"
   ]
  },
  {
   "cell_type": "code",
   "execution_count": 10,
   "metadata": {
    "pycharm": {
     "is_executing": false
    }
   },
   "outputs": [
    {
     "data": {
      "text/plain": "                variable orig_variable          treatment  y_aware  has_range  \\\n0             one_is_bad           one  missing_indicator    False       True   \n1             two_is_bad           two  missing_indicator    False       True   \n2           three_is_bad         three  missing_indicator    False       True   \n3            four_is_bad          four  missing_indicator    False       True   \n4            five_is_bad          five  missing_indicator    False       True   \n5                    one           one         clean_copy    False       True   \n6                    two           two         clean_copy    False       True   \n7                  three         three         clean_copy    False       True   \n8                   five          five         clean_copy    False       True   \n9       four_impact_code          four        impact_code     True       True   \n10    four_deviance_code          four      deviance_code     True       True   \n11  four_prevalence_code          four    prevalence_code    False       True   \n12          four_lev_foo          four     indicator_code    False       True   \n13         four_lev__NA_          four     indicator_code    False       True   \n14         four_lev_blog          four     indicator_code    False       True   \n\n    PearsonR  significance  vcount  recommended  \n0  -0.056344      0.894579     5.0        False  \n1  -0.056344      0.894579     5.0        False  \n2  -0.056344      0.894579     5.0        False  \n3   0.000000      1.000000     5.0        False  \n4  -0.056344      0.894579     5.0        False  \n5  -0.436475      0.279610     4.0        False  \n6  -0.501692      0.205251     4.0         True  \n7   0.192342      0.648155     4.0        False  \n8  -0.586556      0.126426     4.0         True  \n9  -0.185524      0.660041     1.0        False  \n10  0.046334      0.913247     1.0         True  \n11  0.066556      0.875576     1.0         True  \n12  0.056344      0.894579     3.0        False  \n13  0.000000      1.000000     3.0        False  \n14 -0.082479      0.846053     3.0        False  ",
      "text/html": "<div>\n<style scoped>\n    .dataframe tbody tr th:only-of-type {\n        vertical-align: middle;\n    }\n\n    .dataframe tbody tr th {\n        vertical-align: top;\n    }\n\n    .dataframe thead th {\n        text-align: right;\n    }\n</style>\n<table border=\"1\" class=\"dataframe\">\n  <thead>\n    <tr style=\"text-align: right;\">\n      <th></th>\n      <th>variable</th>\n      <th>orig_variable</th>\n      <th>treatment</th>\n      <th>y_aware</th>\n      <th>has_range</th>\n      <th>PearsonR</th>\n      <th>significance</th>\n      <th>vcount</th>\n      <th>recommended</th>\n    </tr>\n  </thead>\n  <tbody>\n    <tr>\n      <th>0</th>\n      <td>one_is_bad</td>\n      <td>one</td>\n      <td>missing_indicator</td>\n      <td>False</td>\n      <td>True</td>\n      <td>-0.056344</td>\n      <td>0.894579</td>\n      <td>5.0</td>\n      <td>False</td>\n    </tr>\n    <tr>\n      <th>1</th>\n      <td>two_is_bad</td>\n      <td>two</td>\n      <td>missing_indicator</td>\n      <td>False</td>\n      <td>True</td>\n      <td>-0.056344</td>\n      <td>0.894579</td>\n      <td>5.0</td>\n      <td>False</td>\n    </tr>\n    <tr>\n      <th>2</th>\n      <td>three_is_bad</td>\n      <td>three</td>\n      <td>missing_indicator</td>\n      <td>False</td>\n      <td>True</td>\n      <td>-0.056344</td>\n      <td>0.894579</td>\n      <td>5.0</td>\n      <td>False</td>\n    </tr>\n    <tr>\n      <th>3</th>\n      <td>four_is_bad</td>\n      <td>four</td>\n      <td>missing_indicator</td>\n      <td>False</td>\n      <td>True</td>\n      <td>0.000000</td>\n      <td>1.000000</td>\n      <td>5.0</td>\n      <td>False</td>\n    </tr>\n    <tr>\n      <th>4</th>\n      <td>five_is_bad</td>\n      <td>five</td>\n      <td>missing_indicator</td>\n      <td>False</td>\n      <td>True</td>\n      <td>-0.056344</td>\n      <td>0.894579</td>\n      <td>5.0</td>\n      <td>False</td>\n    </tr>\n    <tr>\n      <th>5</th>\n      <td>one</td>\n      <td>one</td>\n      <td>clean_copy</td>\n      <td>False</td>\n      <td>True</td>\n      <td>-0.436475</td>\n      <td>0.279610</td>\n      <td>4.0</td>\n      <td>False</td>\n    </tr>\n    <tr>\n      <th>6</th>\n      <td>two</td>\n      <td>two</td>\n      <td>clean_copy</td>\n      <td>False</td>\n      <td>True</td>\n      <td>-0.501692</td>\n      <td>0.205251</td>\n      <td>4.0</td>\n      <td>True</td>\n    </tr>\n    <tr>\n      <th>7</th>\n      <td>three</td>\n      <td>three</td>\n      <td>clean_copy</td>\n      <td>False</td>\n      <td>True</td>\n      <td>0.192342</td>\n      <td>0.648155</td>\n      <td>4.0</td>\n      <td>False</td>\n    </tr>\n    <tr>\n      <th>8</th>\n      <td>five</td>\n      <td>five</td>\n      <td>clean_copy</td>\n      <td>False</td>\n      <td>True</td>\n      <td>-0.586556</td>\n      <td>0.126426</td>\n      <td>4.0</td>\n      <td>True</td>\n    </tr>\n    <tr>\n      <th>9</th>\n      <td>four_impact_code</td>\n      <td>four</td>\n      <td>impact_code</td>\n      <td>True</td>\n      <td>True</td>\n      <td>-0.185524</td>\n      <td>0.660041</td>\n      <td>1.0</td>\n      <td>False</td>\n    </tr>\n    <tr>\n      <th>10</th>\n      <td>four_deviance_code</td>\n      <td>four</td>\n      <td>deviance_code</td>\n      <td>True</td>\n      <td>True</td>\n      <td>0.046334</td>\n      <td>0.913247</td>\n      <td>1.0</td>\n      <td>True</td>\n    </tr>\n    <tr>\n      <th>11</th>\n      <td>four_prevalence_code</td>\n      <td>four</td>\n      <td>prevalence_code</td>\n      <td>False</td>\n      <td>True</td>\n      <td>0.066556</td>\n      <td>0.875576</td>\n      <td>1.0</td>\n      <td>True</td>\n    </tr>\n    <tr>\n      <th>12</th>\n      <td>four_lev_foo</td>\n      <td>four</td>\n      <td>indicator_code</td>\n      <td>False</td>\n      <td>True</td>\n      <td>0.056344</td>\n      <td>0.894579</td>\n      <td>3.0</td>\n      <td>False</td>\n    </tr>\n    <tr>\n      <th>13</th>\n      <td>four_lev__NA_</td>\n      <td>four</td>\n      <td>indicator_code</td>\n      <td>False</td>\n      <td>True</td>\n      <td>0.000000</td>\n      <td>1.000000</td>\n      <td>3.0</td>\n      <td>False</td>\n    </tr>\n    <tr>\n      <th>14</th>\n      <td>four_lev_blog</td>\n      <td>four</td>\n      <td>indicator_code</td>\n      <td>False</td>\n      <td>True</td>\n      <td>-0.082479</td>\n      <td>0.846053</td>\n      <td>3.0</td>\n      <td>False</td>\n    </tr>\n  </tbody>\n</table>\n</div>"
     },
     "metadata": {},
     "output_type": "execute_result",
     "execution_count": 10
    }
   ],
   "source": [
    "plan.score_frame_"
   ]
  },
  {
   "cell_type": "code",
   "execution_count": 11,
   "metadata": {
    "pycharm": {
     "is_executing": false
    }
   },
   "outputs": [
    {
     "data": {
      "text/plain": "   y  one_is_bad  two_is_bad  three_is_bad  four_is_bad  five_is_bad  \\\n0  0         0.0         0.0           0.0          0.0          0.0   \n1  1         1.0         1.0           1.0          1.0          1.0   \n2  2         0.0         0.0           0.0          0.0          0.0   \n3  3         1.0         1.0           1.0          0.0          1.0   \n4  4         0.0         0.0           0.0          0.0          0.0   \n5  5         0.0         0.0           0.0          0.0          0.0   \n6  6         1.0         1.0           1.0          1.0          1.0   \n7  7         0.0         0.0           0.0          0.0          0.0   \n\n        one       two     three  five  four_impact_code  four_deviance_code  \\\n0  0.988994  0.202114 -0.079877   1.0          0.005407            2.702036   \n1  0.500901 -0.110206  0.243891   0.8          0.000000            3.535675   \n2  0.503749  0.315861  0.331037   1.0          0.005407            2.702036   \n3  0.500901 -0.110206  0.243891   0.8          0.000000            3.146585   \n4  0.003485  1.195060  0.017969   1.0          0.005407            2.702036   \n5  1.138877  0.085074  0.961026   1.0          0.005407            2.702036   \n6  0.500901 -0.110206  0.243891   0.8          0.000000            3.535675   \n7 -0.130601 -2.349137 -0.010699   0.0          0.005407            2.702036   \n\n   four_prevalence_code  four_lev_foo  four_lev__NA_  four_lev_blog  \n0                 0.500             1              0              0  \n1                 0.125             0              1              0  \n2                 0.500             1              0              0  \n3                 0.000             0              0              1  \n4                 0.500             1              0              0  \n5                 0.500             1              0              0  \n6                 0.125             0              1              0  \n7                 0.500             1              0              0  ",
      "text/html": "<div>\n<style scoped>\n    .dataframe tbody tr th:only-of-type {\n        vertical-align: middle;\n    }\n\n    .dataframe tbody tr th {\n        vertical-align: top;\n    }\n\n    .dataframe thead th {\n        text-align: right;\n    }\n</style>\n<table border=\"1\" class=\"dataframe\">\n  <thead>\n    <tr style=\"text-align: right;\">\n      <th></th>\n      <th>y</th>\n      <th>one_is_bad</th>\n      <th>two_is_bad</th>\n      <th>three_is_bad</th>\n      <th>four_is_bad</th>\n      <th>five_is_bad</th>\n      <th>one</th>\n      <th>two</th>\n      <th>three</th>\n      <th>five</th>\n      <th>four_impact_code</th>\n      <th>four_deviance_code</th>\n      <th>four_prevalence_code</th>\n      <th>four_lev_foo</th>\n      <th>four_lev__NA_</th>\n      <th>four_lev_blog</th>\n    </tr>\n  </thead>\n  <tbody>\n    <tr>\n      <th>0</th>\n      <td>0</td>\n      <td>0.0</td>\n      <td>0.0</td>\n      <td>0.0</td>\n      <td>0.0</td>\n      <td>0.0</td>\n      <td>0.988994</td>\n      <td>0.202114</td>\n      <td>-0.079877</td>\n      <td>1.0</td>\n      <td>0.005407</td>\n      <td>2.702036</td>\n      <td>0.500</td>\n      <td>1</td>\n      <td>0</td>\n      <td>0</td>\n    </tr>\n    <tr>\n      <th>1</th>\n      <td>1</td>\n      <td>1.0</td>\n      <td>1.0</td>\n      <td>1.0</td>\n      <td>1.0</td>\n      <td>1.0</td>\n      <td>0.500901</td>\n      <td>-0.110206</td>\n      <td>0.243891</td>\n      <td>0.8</td>\n      <td>0.000000</td>\n      <td>3.535675</td>\n      <td>0.125</td>\n      <td>0</td>\n      <td>1</td>\n      <td>0</td>\n    </tr>\n    <tr>\n      <th>2</th>\n      <td>2</td>\n      <td>0.0</td>\n      <td>0.0</td>\n      <td>0.0</td>\n      <td>0.0</td>\n      <td>0.0</td>\n      <td>0.503749</td>\n      <td>0.315861</td>\n      <td>0.331037</td>\n      <td>1.0</td>\n      <td>0.005407</td>\n      <td>2.702036</td>\n      <td>0.500</td>\n      <td>1</td>\n      <td>0</td>\n      <td>0</td>\n    </tr>\n    <tr>\n      <th>3</th>\n      <td>3</td>\n      <td>1.0</td>\n      <td>1.0</td>\n      <td>1.0</td>\n      <td>0.0</td>\n      <td>1.0</td>\n      <td>0.500901</td>\n      <td>-0.110206</td>\n      <td>0.243891</td>\n      <td>0.8</td>\n      <td>0.000000</td>\n      <td>3.146585</td>\n      <td>0.000</td>\n      <td>0</td>\n      <td>0</td>\n      <td>1</td>\n    </tr>\n    <tr>\n      <th>4</th>\n      <td>4</td>\n      <td>0.0</td>\n      <td>0.0</td>\n      <td>0.0</td>\n      <td>0.0</td>\n      <td>0.0</td>\n      <td>0.003485</td>\n      <td>1.195060</td>\n      <td>0.017969</td>\n      <td>1.0</td>\n      <td>0.005407</td>\n      <td>2.702036</td>\n      <td>0.500</td>\n      <td>1</td>\n      <td>0</td>\n      <td>0</td>\n    </tr>\n    <tr>\n      <th>5</th>\n      <td>5</td>\n      <td>0.0</td>\n      <td>0.0</td>\n      <td>0.0</td>\n      <td>0.0</td>\n      <td>0.0</td>\n      <td>1.138877</td>\n      <td>0.085074</td>\n      <td>0.961026</td>\n      <td>1.0</td>\n      <td>0.005407</td>\n      <td>2.702036</td>\n      <td>0.500</td>\n      <td>1</td>\n      <td>0</td>\n      <td>0</td>\n    </tr>\n    <tr>\n      <th>6</th>\n      <td>6</td>\n      <td>1.0</td>\n      <td>1.0</td>\n      <td>1.0</td>\n      <td>1.0</td>\n      <td>1.0</td>\n      <td>0.500901</td>\n      <td>-0.110206</td>\n      <td>0.243891</td>\n      <td>0.8</td>\n      <td>0.000000</td>\n      <td>3.535675</td>\n      <td>0.125</td>\n      <td>0</td>\n      <td>1</td>\n      <td>0</td>\n    </tr>\n    <tr>\n      <th>7</th>\n      <td>7</td>\n      <td>0.0</td>\n      <td>0.0</td>\n      <td>0.0</td>\n      <td>0.0</td>\n      <td>0.0</td>\n      <td>-0.130601</td>\n      <td>-2.349137</td>\n      <td>-0.010699</td>\n      <td>0.0</td>\n      <td>0.005407</td>\n      <td>2.702036</td>\n      <td>0.500</td>\n      <td>1</td>\n      <td>0</td>\n      <td>0</td>\n    </tr>\n  </tbody>\n</table>\n</div>"
     },
     "metadata": {},
     "output_type": "execute_result",
     "execution_count": 11
    }
   ],
   "source": [
    "res = plan.transform(df2)\n",
    "res"
   ]
  },
  {
   "cell_type": "code",
   "execution_count": 12,
   "metadata": {
    "pycharm": {
     "is_executing": false
    }
   },
   "outputs": [
    {
     "data": {
      "text/plain": "   y  one_is_bad  two_is_bad  three_is_bad  four_is_bad  five_is_bad  \\\n0  0         0.0         0.0           0.0          0.0          0.0   \n1  1         1.0         1.0           1.0          1.0          1.0   \n2  2         0.0         0.0           0.0          0.0          0.0   \n3  3         1.0         1.0           1.0          0.0          1.0   \n4  4         0.0         0.0           0.0          0.0          0.0   \n5  5         0.0         0.0           0.0          0.0          0.0   \n6  6         1.0         1.0           1.0          1.0          1.0   \n7  7         0.0         0.0           0.0          0.0          0.0   \n\n        one       two     three  five  four_impact_code  four_deviance_code  \\\n0  0.988994  0.202114 -0.079877   1.0          0.085827            2.081906   \n1  0.500901 -0.110206  0.243891   0.8          0.000000            2.986246   \n2  0.503749  0.315861  0.331037   1.0          0.297924            2.944090   \n3  0.500901 -0.110206  0.243891   0.8          0.000000            0.000000   \n4  0.003485  1.195060  0.017969   1.0         -0.048934            2.516810   \n5  1.138877  0.085074  0.961026   1.0         -0.201054            2.986246   \n6  0.500901 -0.110206  0.243891   0.8          0.000000            2.944090   \n7 -0.130601 -2.349137 -0.010699   0.0         -0.048934            2.516810   \n\n   four_prevalence_code  four_lev_foo  four_lev__NA_  four_lev_blog  \n0                 0.500             1              0              0  \n1                 0.125             0              1              0  \n2                 0.500             1              0              0  \n3                 0.000             0              0              1  \n4                 0.500             1              0              0  \n5                 0.500             1              0              0  \n6                 0.125             0              1              0  \n7                 0.500             1              0              0  ",
      "text/html": "<div>\n<style scoped>\n    .dataframe tbody tr th:only-of-type {\n        vertical-align: middle;\n    }\n\n    .dataframe tbody tr th {\n        vertical-align: top;\n    }\n\n    .dataframe thead th {\n        text-align: right;\n    }\n</style>\n<table border=\"1\" class=\"dataframe\">\n  <thead>\n    <tr style=\"text-align: right;\">\n      <th></th>\n      <th>y</th>\n      <th>one_is_bad</th>\n      <th>two_is_bad</th>\n      <th>three_is_bad</th>\n      <th>four_is_bad</th>\n      <th>five_is_bad</th>\n      <th>one</th>\n      <th>two</th>\n      <th>three</th>\n      <th>five</th>\n      <th>four_impact_code</th>\n      <th>four_deviance_code</th>\n      <th>four_prevalence_code</th>\n      <th>four_lev_foo</th>\n      <th>four_lev__NA_</th>\n      <th>four_lev_blog</th>\n    </tr>\n  </thead>\n  <tbody>\n    <tr>\n      <th>0</th>\n      <td>0</td>\n      <td>0.0</td>\n      <td>0.0</td>\n      <td>0.0</td>\n      <td>0.0</td>\n      <td>0.0</td>\n      <td>0.988994</td>\n      <td>0.202114</td>\n      <td>-0.079877</td>\n      <td>1.0</td>\n      <td>0.085827</td>\n      <td>2.081906</td>\n      <td>0.500</td>\n      <td>1</td>\n      <td>0</td>\n      <td>0</td>\n    </tr>\n    <tr>\n      <th>1</th>\n      <td>1</td>\n      <td>1.0</td>\n      <td>1.0</td>\n      <td>1.0</td>\n      <td>1.0</td>\n      <td>1.0</td>\n      <td>0.500901</td>\n      <td>-0.110206</td>\n      <td>0.243891</td>\n      <td>0.8</td>\n      <td>0.000000</td>\n      <td>2.986246</td>\n      <td>0.125</td>\n      <td>0</td>\n      <td>1</td>\n      <td>0</td>\n    </tr>\n    <tr>\n      <th>2</th>\n      <td>2</td>\n      <td>0.0</td>\n      <td>0.0</td>\n      <td>0.0</td>\n      <td>0.0</td>\n      <td>0.0</td>\n      <td>0.503749</td>\n      <td>0.315861</td>\n      <td>0.331037</td>\n      <td>1.0</td>\n      <td>0.297924</td>\n      <td>2.944090</td>\n      <td>0.500</td>\n      <td>1</td>\n      <td>0</td>\n      <td>0</td>\n    </tr>\n    <tr>\n      <th>3</th>\n      <td>3</td>\n      <td>1.0</td>\n      <td>1.0</td>\n      <td>1.0</td>\n      <td>0.0</td>\n      <td>1.0</td>\n      <td>0.500901</td>\n      <td>-0.110206</td>\n      <td>0.243891</td>\n      <td>0.8</td>\n      <td>0.000000</td>\n      <td>0.000000</td>\n      <td>0.000</td>\n      <td>0</td>\n      <td>0</td>\n      <td>1</td>\n    </tr>\n    <tr>\n      <th>4</th>\n      <td>4</td>\n      <td>0.0</td>\n      <td>0.0</td>\n      <td>0.0</td>\n      <td>0.0</td>\n      <td>0.0</td>\n      <td>0.003485</td>\n      <td>1.195060</td>\n      <td>0.017969</td>\n      <td>1.0</td>\n      <td>-0.048934</td>\n      <td>2.516810</td>\n      <td>0.500</td>\n      <td>1</td>\n      <td>0</td>\n      <td>0</td>\n    </tr>\n    <tr>\n      <th>5</th>\n      <td>5</td>\n      <td>0.0</td>\n      <td>0.0</td>\n      <td>0.0</td>\n      <td>0.0</td>\n      <td>0.0</td>\n      <td>1.138877</td>\n      <td>0.085074</td>\n      <td>0.961026</td>\n      <td>1.0</td>\n      <td>-0.201054</td>\n      <td>2.986246</td>\n      <td>0.500</td>\n      <td>1</td>\n      <td>0</td>\n      <td>0</td>\n    </tr>\n    <tr>\n      <th>6</th>\n      <td>6</td>\n      <td>1.0</td>\n      <td>1.0</td>\n      <td>1.0</td>\n      <td>1.0</td>\n      <td>1.0</td>\n      <td>0.500901</td>\n      <td>-0.110206</td>\n      <td>0.243891</td>\n      <td>0.8</td>\n      <td>0.000000</td>\n      <td>2.944090</td>\n      <td>0.125</td>\n      <td>0</td>\n      <td>1</td>\n      <td>0</td>\n    </tr>\n    <tr>\n      <th>7</th>\n      <td>7</td>\n      <td>0.0</td>\n      <td>0.0</td>\n      <td>0.0</td>\n      <td>0.0</td>\n      <td>0.0</td>\n      <td>-0.130601</td>\n      <td>-2.349137</td>\n      <td>-0.010699</td>\n      <td>0.0</td>\n      <td>-0.048934</td>\n      <td>2.516810</td>\n      <td>0.500</td>\n      <td>1</td>\n      <td>0</td>\n      <td>0</td>\n    </tr>\n  </tbody>\n</table>\n</div>"
     },
     "metadata": {},
     "output_type": "execute_result",
     "execution_count": 12
    }
   ],
   "source": [
    "res2 = plan.fit_transform(df2, df2[\"y\"])\n",
    "res2"
   ]
  },
  {
   "cell_type": "code",
   "execution_count": 13,
   "metadata": {
    "pycharm": {
     "is_executing": false
    }
   },
   "outputs": [
    {
     "data": {
      "text/plain": "   y  one_is_bad  two_is_bad  three_is_bad  four_is_bad  five_is_bad  \\\n0  0         0.0         0.0           0.0          0.0          0.0   \n1  1         1.0         1.0           1.0          1.0          1.0   \n2  2         0.0         0.0           0.0          0.0          0.0   \n3  3         1.0         1.0           1.0          0.0          1.0   \n4  4         0.0         0.0           0.0          0.0          0.0   \n5  5         0.0         0.0           0.0          0.0          0.0   \n6  6         1.0         1.0           1.0          1.0          1.0   \n7  7         0.0         0.0           0.0          0.0          0.0   \n\n        one       two     three  five  four_impact_code  four_deviance_code  \\\n0  0.988994  0.202114 -0.079877   1.0          0.005407            2.702036   \n1  0.500901 -0.110206  0.243891   0.8          0.000000            3.535675   \n2  0.503749  0.315861  0.331037   1.0          0.005407            2.702036   \n3  0.500901 -0.110206  0.243891   0.8          0.000000            3.146585   \n4  0.003485  1.195060  0.017969   1.0          0.005407            2.702036   \n5  1.138877  0.085074  0.961026   1.0          0.005407            2.702036   \n6  0.500901 -0.110206  0.243891   0.8          0.000000            3.535675   \n7 -0.130601 -2.349137 -0.010699   0.0          0.005407            2.702036   \n\n   four_prevalence_code  four_lev_foo  four_lev__NA_  four_lev_blog  \n0                 0.500             1              0              0  \n1                 0.125             0              1              0  \n2                 0.500             1              0              0  \n3                 0.000             0              0              1  \n4                 0.500             1              0              0  \n5                 0.500             1              0              0  \n6                 0.125             0              1              0  \n7                 0.500             1              0              0  ",
      "text/html": "<div>\n<style scoped>\n    .dataframe tbody tr th:only-of-type {\n        vertical-align: middle;\n    }\n\n    .dataframe tbody tr th {\n        vertical-align: top;\n    }\n\n    .dataframe thead th {\n        text-align: right;\n    }\n</style>\n<table border=\"1\" class=\"dataframe\">\n  <thead>\n    <tr style=\"text-align: right;\">\n      <th></th>\n      <th>y</th>\n      <th>one_is_bad</th>\n      <th>two_is_bad</th>\n      <th>three_is_bad</th>\n      <th>four_is_bad</th>\n      <th>five_is_bad</th>\n      <th>one</th>\n      <th>two</th>\n      <th>three</th>\n      <th>five</th>\n      <th>four_impact_code</th>\n      <th>four_deviance_code</th>\n      <th>four_prevalence_code</th>\n      <th>four_lev_foo</th>\n      <th>four_lev__NA_</th>\n      <th>four_lev_blog</th>\n    </tr>\n  </thead>\n  <tbody>\n    <tr>\n      <th>0</th>\n      <td>0</td>\n      <td>0.0</td>\n      <td>0.0</td>\n      <td>0.0</td>\n      <td>0.0</td>\n      <td>0.0</td>\n      <td>0.988994</td>\n      <td>0.202114</td>\n      <td>-0.079877</td>\n      <td>1.0</td>\n      <td>0.005407</td>\n      <td>2.702036</td>\n      <td>0.500</td>\n      <td>1</td>\n      <td>0</td>\n      <td>0</td>\n    </tr>\n    <tr>\n      <th>1</th>\n      <td>1</td>\n      <td>1.0</td>\n      <td>1.0</td>\n      <td>1.0</td>\n      <td>1.0</td>\n      <td>1.0</td>\n      <td>0.500901</td>\n      <td>-0.110206</td>\n      <td>0.243891</td>\n      <td>0.8</td>\n      <td>0.000000</td>\n      <td>3.535675</td>\n      <td>0.125</td>\n      <td>0</td>\n      <td>1</td>\n      <td>0</td>\n    </tr>\n    <tr>\n      <th>2</th>\n      <td>2</td>\n      <td>0.0</td>\n      <td>0.0</td>\n      <td>0.0</td>\n      <td>0.0</td>\n      <td>0.0</td>\n      <td>0.503749</td>\n      <td>0.315861</td>\n      <td>0.331037</td>\n      <td>1.0</td>\n      <td>0.005407</td>\n      <td>2.702036</td>\n      <td>0.500</td>\n      <td>1</td>\n      <td>0</td>\n      <td>0</td>\n    </tr>\n    <tr>\n      <th>3</th>\n      <td>3</td>\n      <td>1.0</td>\n      <td>1.0</td>\n      <td>1.0</td>\n      <td>0.0</td>\n      <td>1.0</td>\n      <td>0.500901</td>\n      <td>-0.110206</td>\n      <td>0.243891</td>\n      <td>0.8</td>\n      <td>0.000000</td>\n      <td>3.146585</td>\n      <td>0.000</td>\n      <td>0</td>\n      <td>0</td>\n      <td>1</td>\n    </tr>\n    <tr>\n      <th>4</th>\n      <td>4</td>\n      <td>0.0</td>\n      <td>0.0</td>\n      <td>0.0</td>\n      <td>0.0</td>\n      <td>0.0</td>\n      <td>0.003485</td>\n      <td>1.195060</td>\n      <td>0.017969</td>\n      <td>1.0</td>\n      <td>0.005407</td>\n      <td>2.702036</td>\n      <td>0.500</td>\n      <td>1</td>\n      <td>0</td>\n      <td>0</td>\n    </tr>\n    <tr>\n      <th>5</th>\n      <td>5</td>\n      <td>0.0</td>\n      <td>0.0</td>\n      <td>0.0</td>\n      <td>0.0</td>\n      <td>0.0</td>\n      <td>1.138877</td>\n      <td>0.085074</td>\n      <td>0.961026</td>\n      <td>1.0</td>\n      <td>0.005407</td>\n      <td>2.702036</td>\n      <td>0.500</td>\n      <td>1</td>\n      <td>0</td>\n      <td>0</td>\n    </tr>\n    <tr>\n      <th>6</th>\n      <td>6</td>\n      <td>1.0</td>\n      <td>1.0</td>\n      <td>1.0</td>\n      <td>1.0</td>\n      <td>1.0</td>\n      <td>0.500901</td>\n      <td>-0.110206</td>\n      <td>0.243891</td>\n      <td>0.8</td>\n      <td>0.000000</td>\n      <td>3.535675</td>\n      <td>0.125</td>\n      <td>0</td>\n      <td>1</td>\n      <td>0</td>\n    </tr>\n    <tr>\n      <th>7</th>\n      <td>7</td>\n      <td>0.0</td>\n      <td>0.0</td>\n      <td>0.0</td>\n      <td>0.0</td>\n      <td>0.0</td>\n      <td>-0.130601</td>\n      <td>-2.349137</td>\n      <td>-0.010699</td>\n      <td>0.0</td>\n      <td>0.005407</td>\n      <td>2.702036</td>\n      <td>0.500</td>\n      <td>1</td>\n      <td>0</td>\n      <td>0</td>\n    </tr>\n  </tbody>\n</table>\n</div>"
     },
     "metadata": {},
     "output_type": "execute_result",
     "execution_count": 13
    }
   ],
   "source": [
    "plan.transform(df2)"
   ]
  },
  {
   "cell_type": "code",
   "execution_count": 14,
   "metadata": {
    "pycharm": {
     "is_executing": false
    }
   },
   "outputs": [
    {
     "data": {
      "text/plain": "                variable orig_variable          treatment  y_aware  has_range  \\\n0             one_is_bad           one  missing_indicator    False       True   \n1             two_is_bad           two  missing_indicator    False       True   \n2           three_is_bad         three  missing_indicator    False       True   \n3            four_is_bad          four  missing_indicator    False       True   \n4            five_is_bad          five  missing_indicator    False       True   \n5                    one           one         clean_copy    False       True   \n6                    two           two         clean_copy    False       True   \n7                  three         three         clean_copy    False       True   \n8                   five          five         clean_copy    False       True   \n9       four_impact_code          four        impact_code     True       True   \n10    four_deviance_code          four      deviance_code     True       True   \n11  four_prevalence_code          four    prevalence_code    False       True   \n12          four_lev_foo          four     indicator_code    False       True   \n13         four_lev__NA_          four     indicator_code    False       True   \n14         four_lev_blog          four     indicator_code    False       True   \n\n    PearsonR  significance  vcount  recommended  \n0  -0.056344      0.894579     5.0        False  \n1  -0.056344      0.894579     5.0        False  \n2  -0.056344      0.894579     5.0        False  \n3   0.000000      1.000000     5.0        False  \n4  -0.056344      0.894579     5.0        False  \n5  -0.436475      0.279610     4.0        False  \n6  -0.501692      0.205251     4.0         True  \n7   0.192342      0.648155     4.0        False  \n8  -0.586556      0.126426     4.0         True  \n9  -0.512464      0.194105     1.0        False  \n10  0.157895      0.708831     1.0         True  \n11  0.066556      0.875576     1.0         True  \n12  0.056344      0.894579     3.0        False  \n13  0.000000      1.000000     3.0        False  \n14 -0.082479      0.846053     3.0        False  ",
      "text/html": "<div>\n<style scoped>\n    .dataframe tbody tr th:only-of-type {\n        vertical-align: middle;\n    }\n\n    .dataframe tbody tr th {\n        vertical-align: top;\n    }\n\n    .dataframe thead th {\n        text-align: right;\n    }\n</style>\n<table border=\"1\" class=\"dataframe\">\n  <thead>\n    <tr style=\"text-align: right;\">\n      <th></th>\n      <th>variable</th>\n      <th>orig_variable</th>\n      <th>treatment</th>\n      <th>y_aware</th>\n      <th>has_range</th>\n      <th>PearsonR</th>\n      <th>significance</th>\n      <th>vcount</th>\n      <th>recommended</th>\n    </tr>\n  </thead>\n  <tbody>\n    <tr>\n      <th>0</th>\n      <td>one_is_bad</td>\n      <td>one</td>\n      <td>missing_indicator</td>\n      <td>False</td>\n      <td>True</td>\n      <td>-0.056344</td>\n      <td>0.894579</td>\n      <td>5.0</td>\n      <td>False</td>\n    </tr>\n    <tr>\n      <th>1</th>\n      <td>two_is_bad</td>\n      <td>two</td>\n      <td>missing_indicator</td>\n      <td>False</td>\n      <td>True</td>\n      <td>-0.056344</td>\n      <td>0.894579</td>\n      <td>5.0</td>\n      <td>False</td>\n    </tr>\n    <tr>\n      <th>2</th>\n      <td>three_is_bad</td>\n      <td>three</td>\n      <td>missing_indicator</td>\n      <td>False</td>\n      <td>True</td>\n      <td>-0.056344</td>\n      <td>0.894579</td>\n      <td>5.0</td>\n      <td>False</td>\n    </tr>\n    <tr>\n      <th>3</th>\n      <td>four_is_bad</td>\n      <td>four</td>\n      <td>missing_indicator</td>\n      <td>False</td>\n      <td>True</td>\n      <td>0.000000</td>\n      <td>1.000000</td>\n      <td>5.0</td>\n      <td>False</td>\n    </tr>\n    <tr>\n      <th>4</th>\n      <td>five_is_bad</td>\n      <td>five</td>\n      <td>missing_indicator</td>\n      <td>False</td>\n      <td>True</td>\n      <td>-0.056344</td>\n      <td>0.894579</td>\n      <td>5.0</td>\n      <td>False</td>\n    </tr>\n    <tr>\n      <th>5</th>\n      <td>one</td>\n      <td>one</td>\n      <td>clean_copy</td>\n      <td>False</td>\n      <td>True</td>\n      <td>-0.436475</td>\n      <td>0.279610</td>\n      <td>4.0</td>\n      <td>False</td>\n    </tr>\n    <tr>\n      <th>6</th>\n      <td>two</td>\n      <td>two</td>\n      <td>clean_copy</td>\n      <td>False</td>\n      <td>True</td>\n      <td>-0.501692</td>\n      <td>0.205251</td>\n      <td>4.0</td>\n      <td>True</td>\n    </tr>\n    <tr>\n      <th>7</th>\n      <td>three</td>\n      <td>three</td>\n      <td>clean_copy</td>\n      <td>False</td>\n      <td>True</td>\n      <td>0.192342</td>\n      <td>0.648155</td>\n      <td>4.0</td>\n      <td>False</td>\n    </tr>\n    <tr>\n      <th>8</th>\n      <td>five</td>\n      <td>five</td>\n      <td>clean_copy</td>\n      <td>False</td>\n      <td>True</td>\n      <td>-0.586556</td>\n      <td>0.126426</td>\n      <td>4.0</td>\n      <td>True</td>\n    </tr>\n    <tr>\n      <th>9</th>\n      <td>four_impact_code</td>\n      <td>four</td>\n      <td>impact_code</td>\n      <td>True</td>\n      <td>True</td>\n      <td>-0.512464</td>\n      <td>0.194105</td>\n      <td>1.0</td>\n      <td>False</td>\n    </tr>\n    <tr>\n      <th>10</th>\n      <td>four_deviance_code</td>\n      <td>four</td>\n      <td>deviance_code</td>\n      <td>True</td>\n      <td>True</td>\n      <td>0.157895</td>\n      <td>0.708831</td>\n      <td>1.0</td>\n      <td>True</td>\n    </tr>\n    <tr>\n      <th>11</th>\n      <td>four_prevalence_code</td>\n      <td>four</td>\n      <td>prevalence_code</td>\n      <td>False</td>\n      <td>True</td>\n      <td>0.066556</td>\n      <td>0.875576</td>\n      <td>1.0</td>\n      <td>True</td>\n    </tr>\n    <tr>\n      <th>12</th>\n      <td>four_lev_foo</td>\n      <td>four</td>\n      <td>indicator_code</td>\n      <td>False</td>\n      <td>True</td>\n      <td>0.056344</td>\n      <td>0.894579</td>\n      <td>3.0</td>\n      <td>False</td>\n    </tr>\n    <tr>\n      <th>13</th>\n      <td>four_lev__NA_</td>\n      <td>four</td>\n      <td>indicator_code</td>\n      <td>False</td>\n      <td>True</td>\n      <td>0.000000</td>\n      <td>1.000000</td>\n      <td>3.0</td>\n      <td>False</td>\n    </tr>\n    <tr>\n      <th>14</th>\n      <td>four_lev_blog</td>\n      <td>four</td>\n      <td>indicator_code</td>\n      <td>False</td>\n      <td>True</td>\n      <td>-0.082479</td>\n      <td>0.846053</td>\n      <td>3.0</td>\n      <td>False</td>\n    </tr>\n  </tbody>\n</table>\n</div>"
     },
     "metadata": {},
     "output_type": "execute_result",
     "execution_count": 14
    }
   ],
   "source": [
    "plan.score_frame_"
   ]
  },
  {
   "cell_type": "code",
   "execution_count": 14,
   "metadata": {
    "pycharm": {
     "is_executing": false
    }
   },
   "outputs": [],
   "source": []
  }
 ],
 "metadata": {
  "kernelspec": {
   "display_name": "Python 3",
   "language": "python",
   "name": "python3"
  },
  "language_info": {
   "codemirror_mode": {
    "name": "ipython",
    "version": 3
   },
   "file_extension": ".py",
   "mimetype": "text/x-python",
   "name": "python",
   "nbconvert_exporter": "python",
   "pygments_lexer": "ipython3",
   "version": "3.7.3"
  },
  "pycharm": {
   "stem_cell": {
    "cell_type": "raw",
    "source": [],
    "metadata": {
     "collapsed": false
    }
   }
  }
 },
 "nbformat": 4,
 "nbformat_minor": 4
}