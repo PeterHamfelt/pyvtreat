{
 "cells": [
  {
   "cell_type": "markdown",
   "metadata": {},
   "source": [
    "# Using vtreat with Regression Problems\n",
    "\n",
    "Nina Zumel and John Mount\n",
    "September 2019\n",
    "\n",
    "Note: this is a description of the [`Python` version of `vtreat`](https://github.com/WinVector/pyvtreat), the same example for the [`R` version of `vtreat`](https://github.com/WinVector/vtreat) can be found [here](https://github.com/WinVector/vtreat/blob/master/Examples/Regression/Regression.md).\n",
    "\n"
   ]
  },
  {
   "cell_type": "markdown",
   "metadata": {},
   "source": [
    "## Preliminaries"
   ]
  },
  {
   "cell_type": "markdown",
   "metadata": {},
   "source": [
    "Load modules/packages."
   ]
  },
  {
   "cell_type": "code",
   "execution_count": 1,
   "metadata": {
    "collapsed": false,
    "jupyter": {
     "outputs_hidden": false
    },
    "pycharm": {
     "name": "#%%\n"
    }
   },
   "outputs": [],
   "source": [
    "import pkg_resources\n",
    "import pandas\n",
    "import numpy\n",
    "import numpy.random\n",
    "import seaborn\n",
    "import matplotlib.pyplot as plt\n",
    "import vtreat\n",
    "import vtreat.util\n",
    "import wvpy.util"
   ]
  },
  {
   "cell_type": "markdown",
   "metadata": {},
   "source": [
    "Generate example data. \n",
    "\n",
    "* `y` is a noisy sinusoidal plus linear function of the variable `x`, and is the output to be predicted\n",
    "* Input `xc` is a categorical variable that represents a discretization of `y`, along with some `NaN`s\n",
    "* Input `x2` is a pure noise variable with no relationship to the output"
   ]
  },
  {
   "cell_type": "code",
   "execution_count": 2,
   "metadata": {
    "collapsed": false,
    "jupyter": {
     "outputs_hidden": false
    },
    "pycharm": {
     "name": "#%%\n"
    }
   },
   "outputs": [
    {
     "data": {
      "text/html": [
       "<div>\n",
       "<style scoped>\n",
       "    .dataframe tbody tr th:only-of-type {\n",
       "        vertical-align: middle;\n",
       "    }\n",
       "\n",
       "    .dataframe tbody tr th {\n",
       "        vertical-align: top;\n",
       "    }\n",
       "\n",
       "    .dataframe thead th {\n",
       "        text-align: right;\n",
       "    }\n",
       "</style>\n",
       "<table border=\"1\" class=\"dataframe\">\n",
       "  <thead>\n",
       "    <tr style=\"text-align: right;\">\n",
       "      <th></th>\n",
       "      <th>x</th>\n",
       "      <th>y</th>\n",
       "      <th>xc</th>\n",
       "      <th>x2</th>\n",
       "    </tr>\n",
       "  </thead>\n",
       "  <tbody>\n",
       "    <tr>\n",
       "      <th>0</th>\n",
       "      <td>5.139080</td>\n",
       "      <td>-0.934724</td>\n",
       "      <td>NaN</td>\n",
       "      <td>-0.998570</td>\n",
       "    </tr>\n",
       "    <tr>\n",
       "      <th>1</th>\n",
       "      <td>3.860052</td>\n",
       "      <td>-0.612031</td>\n",
       "      <td>level_-0.5</td>\n",
       "      <td>2.113708</td>\n",
       "    </tr>\n",
       "    <tr>\n",
       "      <th>2</th>\n",
       "      <td>-1.590820</td>\n",
       "      <td>-1.025274</td>\n",
       "      <td>NaN</td>\n",
       "      <td>-1.378519</td>\n",
       "    </tr>\n",
       "    <tr>\n",
       "      <th>3</th>\n",
       "      <td>NaN</td>\n",
       "      <td>0.128607</td>\n",
       "      <td>level_0.0</td>\n",
       "      <td>-0.016317</td>\n",
       "    </tr>\n",
       "    <tr>\n",
       "      <th>4</th>\n",
       "      <td>NaN</td>\n",
       "      <td>0.984484</td>\n",
       "      <td>level_1.0</td>\n",
       "      <td>0.145847</td>\n",
       "    </tr>\n",
       "  </tbody>\n",
       "</table>\n",
       "</div>"
      ],
      "text/plain": [
       "          x         y          xc        x2\n",
       "0  5.139080 -0.934724         NaN -0.998570\n",
       "1  3.860052 -0.612031  level_-0.5  2.113708\n",
       "2 -1.590820 -1.025274         NaN -1.378519\n",
       "3       NaN  0.128607   level_0.0 -0.016317\n",
       "4       NaN  0.984484   level_1.0  0.145847"
      ]
     },
     "execution_count": 2,
     "metadata": {},
     "output_type": "execute_result"
    }
   ],
   "source": [
    "def make_data(nrows):\n",
    "    d = pandas.DataFrame({'x': 5*numpy.random.normal(size=nrows)})\n",
    "    d['y'] = numpy.sin(d['x']) + 0.01*d['x'] + 0.1*numpy.random.normal(size=nrows)\n",
    "    d.loc[numpy.arange(3, 10), 'x'] = numpy.nan                           # introduce a nan level\n",
    "    d['xc'] = ['level_' + str(5*numpy.round(yi/5, 1)) for yi in d['y']]\n",
    "    d['x2'] = numpy.random.normal(size=nrows)\n",
    "    d.loc[d['xc']=='level_-1.0', 'xc'] = numpy.nan  # introduce a nan level\n",
    "    return d\n",
    "\n",
    "d = make_data(500)\n",
    "\n",
    "d.head()"
   ]
  },
  {
   "cell_type": "markdown",
   "metadata": {},
   "source": [
    "### Some quick data exploration"
   ]
  },
  {
   "cell_type": "markdown",
   "metadata": {},
   "source": [
    "Check how many levels `xc` has, and their distribution (including `NaN`)"
   ]
  },
  {
   "cell_type": "code",
   "execution_count": 3,
   "metadata": {
    "collapsed": false,
    "jupyter": {
     "outputs_hidden": false
    },
    "pycharm": {
     "name": "#%%\n"
    }
   },
   "outputs": [
    {
     "data": {
      "text/plain": [
       "array([nan, 'level_-0.5', 'level_0.0', 'level_1.0', 'level_0.5',\n",
       "       'level_-0.0', 'level_1.5'], dtype=object)"
      ]
     },
     "execution_count": 3,
     "metadata": {},
     "output_type": "execute_result"
    }
   ],
   "source": [
    "d['xc'].unique()"
   ]
  },
  {
   "cell_type": "code",
   "execution_count": 4,
   "metadata": {
    "collapsed": false,
    "jupyter": {
     "outputs_hidden": false
    },
    "pycharm": {
     "name": "#%%\n"
    }
   },
   "outputs": [
    {
     "data": {
      "text/plain": [
       "level_1.0     119\n",
       "NaN           114\n",
       "level_0.5      98\n",
       "level_-0.5     94\n",
       "level_-0.0     37\n",
       "level_0.0      37\n",
       "level_1.5       1\n",
       "Name: xc, dtype: int64"
      ]
     },
     "execution_count": 4,
     "metadata": {},
     "output_type": "execute_result"
    }
   ],
   "source": [
    "d['xc'].value_counts(dropna=False)"
   ]
  },
  {
   "cell_type": "markdown",
   "metadata": {},
   "source": [
    "Find the mean value of `y`"
   ]
  },
  {
   "cell_type": "code",
   "execution_count": 5,
   "metadata": {
    "collapsed": false,
    "jupyter": {
     "outputs_hidden": false
    },
    "pycharm": {
     "name": "#%%\n"
    }
   },
   "outputs": [
    {
     "data": {
      "text/plain": [
       "0.017804308030735513"
      ]
     },
     "execution_count": 5,
     "metadata": {},
     "output_type": "execute_result"
    }
   ],
   "source": [
    "numpy.mean(d['y'])"
   ]
  },
  {
   "cell_type": "markdown",
   "metadata": {},
   "source": [
    "Plot of `y` versus `x`."
   ]
  },
  {
   "cell_type": "code",
   "execution_count": 6,
   "metadata": {
    "collapsed": false,
    "jupyter": {
     "outputs_hidden": false
    },
    "pycharm": {
     "name": "#%%\n"
    }
   },
   "outputs": [
    {
     "data": {
      "text/plain": [
       "<matplotlib.axes._subplots.AxesSubplot at 0x1a200c4240>"
      ]
     },
     "execution_count": 6,
     "metadata": {},
     "output_type": "execute_result"
    },
    {
     "data": {
      "image/png": "[encoded data removed]",
      "text/plain": [
       "<Figure size 432x288 with 1 Axes>"
      ]
     },
     "metadata": {
      "needs_background": "light"
     },
     "output_type": "display_data"
    }
   ],
   "source": [
    "seaborn.lineplot(x='x', y='y', data=d)"
   ]
  },
  {
   "cell_type": "markdown",
   "metadata": {},
   "source": [
    "## Build a transform appropriate for regression problems.\n",
    "\n",
    "Now that we have the data, we want to treat it prior to modeling: we want training data where all the input variables are numeric and have no missing values or `NaN`s.\n",
    "\n",
    "First create the data treatment transform object, in this case a treatment for a regression problem."
   ]
  },
  {
   "cell_type": "code",
   "execution_count": 7,
   "metadata": {
    "collapsed": false,
    "jupyter": {
     "outputs_hidden": false
    },
    "pycharm": {
     "name": "#%%\n"
    }
   },
   "outputs": [],
   "source": [
    "transform = vtreat.NumericOutcomeTreatment(\n",
    "    outcome_name='y',    # outcome variable\n",
    ")  "
   ]
  },
  {
   "cell_type": "markdown",
   "metadata": {},
   "source": [
    "Notice that for the training data `d`: `transform_design$crossFrame` is **not** the same as `transform.prepare(d)`; the second call can lead to nested model bias in some situations, and is **not** recommended.\n",
    "For other, later data, not seen during transform design `transform.preprare(o)` is an appropriate step.\n",
    "\n",
    "Use the training data `d` to fit the transform and the return a treated training set: completely numeric, with no missing values."
   ]
  },
  {
   "cell_type": "code",
   "execution_count": 8,
   "metadata": {
    "collapsed": false,
    "jupyter": {
     "outputs_hidden": false
    },
    "pycharm": {
     "name": "#%%\n"
    }
   },
   "outputs": [],
   "source": [
    "d_prepared = transform.fit_transform(d, d['y'])"
   ]
  },
  {
   "cell_type": "markdown",
   "metadata": {},
   "source": [
    "Now examine the score frame, which gives information about each new variable, including its type, which original variable it is  derived from, its (cross-validated) correlation with the outcome, and its (cross-validated) significance as a one-variable linear model for the outcome. "
   ]
  },
  {
   "cell_type": "code",
   "execution_count": 9,
   "metadata": {
    "collapsed": false,
    "jupyter": {
     "outputs_hidden": false
    },
    "pycharm": {
     "name": "#%%\n"
    }
   },
   "outputs": [
    {
     "data": {
      "text/html": [
       "<div>\n",
       "<style scoped>\n",
       "    .dataframe tbody tr th:only-of-type {\n",
       "        vertical-align: middle;\n",
       "    }\n",
       "\n",
       "    .dataframe tbody tr th {\n",
       "        vertical-align: top;\n",
       "    }\n",
       "\n",
       "    .dataframe thead th {\n",
       "        text-align: right;\n",
       "    }\n",
       "</style>\n",
       "<table border=\"1\" class=\"dataframe\">\n",
       "  <thead>\n",
       "    <tr style=\"text-align: right;\">\n",
       "      <th></th>\n",
       "      <th>variable</th>\n",
       "      <th>orig_variable</th>\n",
       "      <th>treatment</th>\n",
       "      <th>y_aware</th>\n",
       "      <th>has_range</th>\n",
       "      <th>PearsonR</th>\n",
       "      <th>significance</th>\n",
       "      <th>vcount</th>\n",
       "      <th>default_threshold</th>\n",
       "      <th>recommended</th>\n",
       "    </tr>\n",
       "  </thead>\n",
       "  <tbody>\n",
       "    <tr>\n",
       "      <th>0</th>\n",
       "      <td>x_is_bad</td>\n",
       "      <td>x</td>\n",
       "      <td>missing_indicator</td>\n",
       "      <td>False</td>\n",
       "      <td>True</td>\n",
       "      <td>0.036861</td>\n",
       "      <td>4.108233e-01</td>\n",
       "      <td>2.0</td>\n",
       "      <td>0.083333</td>\n",
       "      <td>False</td>\n",
       "    </tr>\n",
       "    <tr>\n",
       "      <th>1</th>\n",
       "      <td>xc_is_bad</td>\n",
       "      <td>xc</td>\n",
       "      <td>missing_indicator</td>\n",
       "      <td>False</td>\n",
       "      <td>True</td>\n",
       "      <td>-0.713074</td>\n",
       "      <td>7.835335e-79</td>\n",
       "      <td>2.0</td>\n",
       "      <td>0.083333</td>\n",
       "      <td>True</td>\n",
       "    </tr>\n",
       "    <tr>\n",
       "      <th>2</th>\n",
       "      <td>x</td>\n",
       "      <td>x</td>\n",
       "      <td>clean_copy</td>\n",
       "      <td>False</td>\n",
       "      <td>True</td>\n",
       "      <td>0.021037</td>\n",
       "      <td>6.388756e-01</td>\n",
       "      <td>2.0</td>\n",
       "      <td>0.083333</td>\n",
       "      <td>False</td>\n",
       "    </tr>\n",
       "    <tr>\n",
       "      <th>3</th>\n",
       "      <td>x2</td>\n",
       "      <td>x2</td>\n",
       "      <td>clean_copy</td>\n",
       "      <td>False</td>\n",
       "      <td>True</td>\n",
       "      <td>0.011382</td>\n",
       "      <td>7.995866e-01</td>\n",
       "      <td>2.0</td>\n",
       "      <td>0.083333</td>\n",
       "      <td>False</td>\n",
       "    </tr>\n",
       "    <tr>\n",
       "      <th>4</th>\n",
       "      <td>xc_impact_code</td>\n",
       "      <td>xc</td>\n",
       "      <td>impact_code</td>\n",
       "      <td>True</td>\n",
       "      <td>True</td>\n",
       "      <td>0.983590</td>\n",
       "      <td>0.000000e+00</td>\n",
       "      <td>1.0</td>\n",
       "      <td>0.166667</td>\n",
       "      <td>True</td>\n",
       "    </tr>\n",
       "    <tr>\n",
       "      <th>5</th>\n",
       "      <td>xc_deviation_code</td>\n",
       "      <td>xc</td>\n",
       "      <td>deviation_code</td>\n",
       "      <td>True</td>\n",
       "      <td>True</td>\n",
       "      <td>0.015809</td>\n",
       "      <td>7.243663e-01</td>\n",
       "      <td>1.0</td>\n",
       "      <td>0.166667</td>\n",
       "      <td>False</td>\n",
       "    </tr>\n",
       "    <tr>\n",
       "      <th>6</th>\n",
       "      <td>xc_prevalence_code</td>\n",
       "      <td>xc</td>\n",
       "      <td>prevalence_code</td>\n",
       "      <td>False</td>\n",
       "      <td>True</td>\n",
       "      <td>0.069187</td>\n",
       "      <td>1.223356e-01</td>\n",
       "      <td>1.0</td>\n",
       "      <td>0.166667</td>\n",
       "      <td>True</td>\n",
       "    </tr>\n",
       "    <tr>\n",
       "      <th>7</th>\n",
       "      <td>xc_lev_level_1.0</td>\n",
       "      <td>xc</td>\n",
       "      <td>indicator_code</td>\n",
       "      <td>False</td>\n",
       "      <td>True</td>\n",
       "      <td>0.701207</td>\n",
       "      <td>3.404919e-75</td>\n",
       "      <td>4.0</td>\n",
       "      <td>0.041667</td>\n",
       "      <td>True</td>\n",
       "    </tr>\n",
       "    <tr>\n",
       "      <th>8</th>\n",
       "      <td>xc_lev__NA_</td>\n",
       "      <td>xc</td>\n",
       "      <td>indicator_code</td>\n",
       "      <td>False</td>\n",
       "      <td>True</td>\n",
       "      <td>-0.713074</td>\n",
       "      <td>7.835335e-79</td>\n",
       "      <td>4.0</td>\n",
       "      <td>0.041667</td>\n",
       "      <td>True</td>\n",
       "    </tr>\n",
       "    <tr>\n",
       "      <th>9</th>\n",
       "      <td>xc_lev_level_0.5</td>\n",
       "      <td>xc</td>\n",
       "      <td>indicator_code</td>\n",
       "      <td>False</td>\n",
       "      <td>True</td>\n",
       "      <td>0.345410</td>\n",
       "      <td>1.860988e-15</td>\n",
       "      <td>4.0</td>\n",
       "      <td>0.041667</td>\n",
       "      <td>True</td>\n",
       "    </tr>\n",
       "    <tr>\n",
       "      <th>10</th>\n",
       "      <td>xc_lev_level_-0.5</td>\n",
       "      <td>xc</td>\n",
       "      <td>indicator_code</td>\n",
       "      <td>False</td>\n",
       "      <td>True</td>\n",
       "      <td>-0.351053</td>\n",
       "      <td>6.015372e-16</td>\n",
       "      <td>4.0</td>\n",
       "      <td>0.041667</td>\n",
       "      <td>True</td>\n",
       "    </tr>\n",
       "  </tbody>\n",
       "</table>\n",
       "</div>"
      ],
      "text/plain": [
       "              variable orig_variable          treatment  y_aware  has_range  \\\n",
       "0             x_is_bad             x  missing_indicator    False       True   \n",
       "1            xc_is_bad            xc  missing_indicator    False       True   \n",
       "2                    x             x         clean_copy    False       True   \n",
       "3                   x2            x2         clean_copy    False       True   \n",
       "4       xc_impact_code            xc        impact_code     True       True   \n",
       "5    xc_deviation_code            xc     deviation_code     True       True   \n",
       "6   xc_prevalence_code            xc    prevalence_code    False       True   \n",
       "7     xc_lev_level_1.0            xc     indicator_code    False       True   \n",
       "8          xc_lev__NA_            xc     indicator_code    False       True   \n",
       "9     xc_lev_level_0.5            xc     indicator_code    False       True   \n",
       "10   xc_lev_level_-0.5            xc     indicator_code    False       True   \n",
       "\n",
       "    PearsonR  significance  vcount  default_threshold  recommended  \n",
       "0   0.036861  4.108233e-01     2.0           0.083333        False  \n",
       "1  -0.713074  7.835335e-79     2.0           0.083333         True  \n",
       "2   0.021037  6.388756e-01     2.0           0.083333        False  \n",
       "3   0.011382  7.995866e-01     2.0           0.083333        False  \n",
       "4   0.983590  0.000000e+00     1.0           0.166667         True  \n",
       "5   0.015809  7.243663e-01     1.0           0.166667        False  \n",
       "6   0.069187  1.223356e-01     1.0           0.166667         True  \n",
       "7   0.701207  3.404919e-75     4.0           0.041667         True  \n",
       "8  -0.713074  7.835335e-79     4.0           0.041667         True  \n",
       "9   0.345410  1.860988e-15     4.0           0.041667         True  \n",
       "10 -0.351053  6.015372e-16     4.0           0.041667         True  "
      ]
     },
     "execution_count": 9,
     "metadata": {},
     "output_type": "execute_result"
    }
   ],
   "source": [
    "transform.score_frame_"
   ]
  },
  {
   "cell_type": "markdown",
   "metadata": {},
   "source": [
    "Note that the variable `xc` has been converted to multiple variables: \n",
    "\n",
    "* an indicator variable for each common possible level (`xc_lev_level_*`)\n",
    "* the value of a (cross-validated) one-variable model for `y` as a function of `xc` (`xc_impact_code`)\n",
    "* a variable indicating when `xc` was `NaN` in the original data (`xc_is_bad`)\n",
    "* a variable that returns how prevalent this particular value of `xc` is in the training data (`xc_prevalence_code`)\n",
    "* a variable that returns standard deviation of `y` conditioned on `xc` (`xc_deviation_code`)\n",
    "\n",
    "Any or all of these new variables are available for downstream modeling.\n",
    "\n",
    "The `recommended` column indicates which variables are non constant (`has_range` == True) and have a significance value smaller than `default_threshold`. See the section *Deriving the Default Thresholds* below for the reasoning behind the default thresholds. Recommended columns are intended as advice about which variables appear to be most likely to be useful in a downstream model. This advice attempts to be conservative, to reduce the possibility of mistakenly eliminating variables that may in fact be useful (although, obviously, it can still mistakenly eliminate variables that have a real but non-linear relationship to the output).\n",
    "\n",
    "Let's look at the recommended and not recommended variables:"
   ]
  },
  {
   "cell_type": "code",
   "execution_count": 10,
   "metadata": {
    "collapsed": false,
    "jupyter": {
     "outputs_hidden": false
    },
    "pycharm": {
     "name": "#%%\n"
    }
   },
   "outputs": [
    {
     "data": {
      "text/plain": [
       "1              xc_is_bad\n",
       "4         xc_impact_code\n",
       "6     xc_prevalence_code\n",
       "7       xc_lev_level_1.0\n",
       "8            xc_lev__NA_\n",
       "9       xc_lev_level_0.5\n",
       "10     xc_lev_level_-0.5\n",
       "Name: variable, dtype: object"
      ]
     },
     "execution_count": 10,
     "metadata": {},
     "output_type": "execute_result"
    }
   ],
   "source": [
    "# recommended variables\n",
    "transform.score_frame_['variable'][transform.score_frame_['recommended']]"
   ]
  },
  {
   "cell_type": "code",
   "execution_count": 11,
   "metadata": {
    "collapsed": false,
    "jupyter": {
     "outputs_hidden": false
    },
    "pycharm": {
     "name": "#%%\n"
    }
   },
   "outputs": [
    {
     "data": {
      "text/plain": [
       "0             x_is_bad\n",
       "2                    x\n",
       "3                   x2\n",
       "5    xc_deviation_code\n",
       "Name: variable, dtype: object"
      ]
     },
     "execution_count": 11,
     "metadata": {},
     "output_type": "execute_result"
    }
   ],
   "source": [
    "# not recommended variables\n",
    "transform.score_frame_['variable'][transform.score_frame_['recommended']==False]"
   ]
  },
  {
   "cell_type": "markdown",
   "metadata": {},
   "source": [
    "Let's look at the top of `d_prepared`. Notice that the new treated data frame included only recommended variables (along with `y`)."
   ]
  },
  {
   "cell_type": "code",
   "execution_count": 12,
   "metadata": {
    "collapsed": false,
    "jupyter": {
     "outputs_hidden": false
    },
    "pycharm": {
     "name": "#%%\n"
    }
   },
   "outputs": [
    {
     "data": {
      "text/html": [
       "<div>\n",
       "<style scoped>\n",
       "    .dataframe tbody tr th:only-of-type {\n",
       "        vertical-align: middle;\n",
       "    }\n",
       "\n",
       "    .dataframe tbody tr th {\n",
       "        vertical-align: top;\n",
       "    }\n",
       "\n",
       "    .dataframe thead th {\n",
       "        text-align: right;\n",
       "    }\n",
       "</style>\n",
       "<table border=\"1\" class=\"dataframe\">\n",
       "  <thead>\n",
       "    <tr style=\"text-align: right;\">\n",
       "      <th></th>\n",
       "      <th>y</th>\n",
       "      <th>xc_is_bad</th>\n",
       "      <th>xc_impact_code</th>\n",
       "      <th>xc_prevalence_code</th>\n",
       "      <th>xc_lev_level_1.0</th>\n",
       "      <th>xc_lev__NA_</th>\n",
       "      <th>xc_lev_level_0.5</th>\n",
       "      <th>xc_lev_level_-0.5</th>\n",
       "    </tr>\n",
       "  </thead>\n",
       "  <tbody>\n",
       "    <tr>\n",
       "      <th>0</th>\n",
       "      <td>-0.934724</td>\n",
       "      <td>1.0</td>\n",
       "      <td>-0.953743</td>\n",
       "      <td>0.228</td>\n",
       "      <td>0.0</td>\n",
       "      <td>1.0</td>\n",
       "      <td>0.0</td>\n",
       "      <td>0.0</td>\n",
       "    </tr>\n",
       "    <tr>\n",
       "      <th>1</th>\n",
       "      <td>-0.612031</td>\n",
       "      <td>0.0</td>\n",
       "      <td>-0.525378</td>\n",
       "      <td>0.188</td>\n",
       "      <td>0.0</td>\n",
       "      <td>0.0</td>\n",
       "      <td>0.0</td>\n",
       "      <td>1.0</td>\n",
       "    </tr>\n",
       "    <tr>\n",
       "      <th>2</th>\n",
       "      <td>-1.025274</td>\n",
       "      <td>1.0</td>\n",
       "      <td>-0.970591</td>\n",
       "      <td>0.228</td>\n",
       "      <td>0.0</td>\n",
       "      <td>1.0</td>\n",
       "      <td>0.0</td>\n",
       "      <td>0.0</td>\n",
       "    </tr>\n",
       "    <tr>\n",
       "      <th>3</th>\n",
       "      <td>0.128607</td>\n",
       "      <td>0.0</td>\n",
       "      <td>0.104686</td>\n",
       "      <td>0.074</td>\n",
       "      <td>0.0</td>\n",
       "      <td>0.0</td>\n",
       "      <td>0.0</td>\n",
       "      <td>0.0</td>\n",
       "    </tr>\n",
       "    <tr>\n",
       "      <th>4</th>\n",
       "      <td>0.984484</td>\n",
       "      <td>0.0</td>\n",
       "      <td>0.917764</td>\n",
       "      <td>0.238</td>\n",
       "      <td>1.0</td>\n",
       "      <td>0.0</td>\n",
       "      <td>0.0</td>\n",
       "      <td>0.0</td>\n",
       "    </tr>\n",
       "  </tbody>\n",
       "</table>\n",
       "</div>"
      ],
      "text/plain": [
       "          y  xc_is_bad  xc_impact_code  xc_prevalence_code  xc_lev_level_1.0  \\\n",
       "0 -0.934724        1.0       -0.953743               0.228               0.0   \n",
       "1 -0.612031        0.0       -0.525378               0.188               0.0   \n",
       "2 -1.025274        1.0       -0.970591               0.228               0.0   \n",
       "3  0.128607        0.0        0.104686               0.074               0.0   \n",
       "4  0.984484        0.0        0.917764               0.238               1.0   \n",
       "\n",
       "   xc_lev__NA_  xc_lev_level_0.5  xc_lev_level_-0.5  \n",
       "0          1.0               0.0                0.0  \n",
       "1          0.0               0.0                1.0  \n",
       "2          1.0               0.0                0.0  \n",
       "3          0.0               0.0                0.0  \n",
       "4          0.0               0.0                0.0  "
      ]
     },
     "execution_count": 12,
     "metadata": {},
     "output_type": "execute_result"
    }
   ],
   "source": [
    "d_prepared.head()"
   ]
  },
  {
   "cell_type": "markdown",
   "metadata": {},
   "source": [
    "This is `vtreat`'s default behavior; to include all variables in the prepared data, set the parameter `filter_to_recommended` to False, as we show later, in the *Parameters for `NumericOutcomeTreatment`* section below."
   ]
  },
  {
   "cell_type": "markdown",
   "metadata": {},
   "source": [
    "## A Closer Look at the `impact_code` variables\n",
    "\n",
    "Variables of type `impact_code` are the outputs of a one-variable hierarchical linear regression of a categorical variable (in our example, `xc`) against the centered output on the (cross-validated) treated training data. \n",
    "\n",
    "Let's look at the relationship between `xc_impact_code` and `y` (actually `y_centered`, a centered version of `y`). "
   ]
  },
  {
   "cell_type": "code",
   "execution_count": 13,
   "metadata": {
    "collapsed": false,
    "jupyter": {
     "outputs_hidden": false
    },
    "pycharm": {
     "name": "#%%\n"
    }
   },
   "outputs": [
    {
     "data": {
      "image/png": "[encoded data removed]",
      "text/plain": [
       "<Figure size 432x288 with 1 Axes>"
      ]
     },
     "metadata": {
      "needs_background": "light"
     },
     "output_type": "display_data"
    }
   ],
   "source": [
    "import matplotlib.pyplot\n",
    "\n",
    "d_prepared['y_centered'] = d_prepared.y - d_prepared.y.mean()\n",
    "\n",
    "ax = seaborn.scatterplot(x = 'xc_impact_code', y = 'y_centered', data = d_prepared)\n",
    "# add the line \"x = y\"\n",
    "matplotlib.pyplot.plot(d_prepared.xc_impact_code, d_prepared.xc_impact_code, color=\"darkgray\")\n",
    "ax.set_title('Relationship between xc_impact_code and y')\n",
    "plt.show()"
   ]
  },
  {
   "cell_type": "markdown",
   "metadata": {},
   "source": [
    "This indicates that `xc_impact_code` is strongly predictive of the outcome. Note that the score frame also reported the Pearson correlation between `xc_impact_code` and `y`, which is fairly large."
   ]
  },
  {
   "cell_type": "code",
   "execution_count": 14,
   "metadata": {
    "collapsed": false,
    "jupyter": {
     "outputs_hidden": false
    },
    "pycharm": {
     "name": "#%%\n"
    }
   },
   "outputs": [
    {
     "data": {
      "text/plain": [
       "4    0.98359\n",
       "Name: PearsonR, dtype: float64"
      ]
     },
     "execution_count": 14,
     "metadata": {},
     "output_type": "execute_result"
    }
   ],
   "source": [
    "transform.score_frame_.PearsonR[transform.score_frame_.variable=='xc_impact_code']"
   ]
  },
  {
   "cell_type": "markdown",
   "metadata": {},
   "source": [
    "Note also that the impact code values are jittered; this is because `d_prepared` is a \"cross-frame\": that is, the result of a cross-validated estimation process. Hence, the impact coding of `xc` is a function of both the value of `xc` and the cross-validation fold of the datum's row. When `transform` is applied to new data, there will be only one value of impact code for each (common) level of `xc`. We can see this by applying the transform to the data frame `d` as if it were new data.\n"
   ]
  },
  {
   "cell_type": "code",
   "execution_count": 15,
   "metadata": {
    "collapsed": false,
    "jupyter": {
     "outputs_hidden": false
    },
    "pycharm": {
     "name": "#%%\n"
    }
   },
   "outputs": [
    {
     "data": {
      "image/png": "[encoded data removed]",
      "text/plain": [
       "<Figure size 432x288 with 1 Axes>"
      ]
     },
     "metadata": {
      "needs_background": "light"
     },
     "output_type": "display_data"
    }
   ],
   "source": [
    "dtmp = transform.transform(d)\n",
    "dtmp['y_centered'] = dtmp.y - dtmp.y.mean()\n",
    "ax = seaborn.scatterplot(x = 'xc_impact_code', y = 'y_centered', data = dtmp)\n",
    "# add the line \"x = y\"\n",
    "matplotlib.pyplot.plot(d_prepared.xc_impact_code, dtmp.xc_impact_code, color=\"darkgray\")\n",
    "ax.set_title('Relationship between xc_impact_code and y, on improperly prepared training data')\n",
    "plt.show()"
   ]
  },
  {
   "cell_type": "markdown",
   "metadata": {},
   "source": [
    "Variables of type `impact_code` are useful when dealing with categorical variables with a very large number of possible levels. For example, a categorical variable with 10,000 possible values potentially converts to 10,000 indicator variables, which may be unwieldy for some modeling methods. Using a single numerical variable of type `impact_code` may be a preferable alternative."
   ]
  },
  {
   "cell_type": "markdown",
   "metadata": {},
   "source": [
    "## Using the Prepared Data in a Model\n",
    "\n",
    "Of course, what we really want to do with the prepared training data is to fit a model jointly with all the (recommended) variables. \n",
    "Let's try fitting a linear regression model to `d_prepared`."
   ]
  },
  {
   "cell_type": "code",
   "execution_count": 16,
   "metadata": {
    "collapsed": false,
    "jupyter": {
     "outputs_hidden": false
    },
    "pycharm": {
     "name": "#%%\n"
    }
   },
   "outputs": [
    {
     "data": {
      "image/png": "[encoded data removed]",
      "text/plain": [
       "<Figure size 432x288 with 1 Axes>"
      ]
     },
     "metadata": {
      "needs_background": "light"
     },
     "output_type": "display_data"
    }
   ],
   "source": [
    "import sklearn.linear_model\n",
    "import seaborn\n",
    "import sklearn.metrics\n",
    "\n",
    "not_variables = ['y', 'y_centered', 'prediction']\n",
    "model_vars = [v for v in d_prepared.columns if v not in set(not_variables)]\n",
    "\n",
    "fitter = sklearn.linear_model.LinearRegression()\n",
    "fitter.fit(d_prepared[model_vars], d_prepared['y'])\n",
    "\n",
    "# now predict\n",
    "d_prepared['prediction'] = fitter.predict(d_prepared[model_vars])\n",
    "\n",
    "# get R-squared\n",
    "r2 = sklearn.metrics.r2_score(y_true=d_prepared.y, y_pred=d_prepared.prediction)\n",
    "\n",
    "title = 'Prediction vs. outcome (training data); R-sqr = {:04.2f}'.format(r2)\n",
    "\n",
    "# compare the predictions to the outcome (on the training data)\n",
    "ax = seaborn.scatterplot(x='prediction', y='y', data=d_prepared)\n",
    "matplotlib.pyplot.plot(d_prepared.prediction, d_prepared.prediction, color=\"darkgray\")\n",
    "ax.set_title(title)\n",
    "plt.show()"
   ]
  },
  {
   "cell_type": "markdown",
   "metadata": {},
   "source": [
    "Now apply the model to new data."
   ]
  },
  {
   "cell_type": "code",
   "execution_count": 17,
   "metadata": {
    "collapsed": false,
    "jupyter": {
     "outputs_hidden": false
    },
    "pycharm": {
     "name": "#%%\n"
    }
   },
   "outputs": [
    {
     "data": {
      "image/png": "[encoded data removed]",
      "text/plain": [
       "<Figure size 432x288 with 1 Axes>"
      ]
     },
     "metadata": {
      "needs_background": "light"
     },
     "output_type": "display_data"
    }
   ],
   "source": [
    "# create the new data\n",
    "dtest = make_data(450)\n",
    "\n",
    "# prepare the new data with vtreat\n",
    "dtest_prepared = transform.transform(dtest)\n",
    "\n",
    "# apply the model to the prepared data\n",
    "dtest_prepared['prediction'] = fitter.predict(dtest_prepared[model_vars])\n",
    "\n",
    "# get R-squared\n",
    "r2 = sklearn.metrics.r2_score(y_true=dtest_prepared.y, y_pred=dtest_prepared.prediction)\n",
    "\n",
    "title = 'Prediction vs. outcome (test data); R-sqr = {:04.2f}'.format(r2)\n",
    "\n",
    "# compare the predictions to the outcome (on the test data)\n",
    "ax = seaborn.scatterplot(x='prediction', y='y', data=dtest_prepared)\n",
    "matplotlib.pyplot.plot(dtest_prepared.prediction, dtest_prepared.prediction, color=\"darkgray\")\n",
    "ax.set_title(title)\n",
    "plt.show()"
   ]
  },
  {
   "cell_type": "markdown",
   "metadata": {},
   "source": [
    "## Parameters for `NumericOutcomeTreatment`\n",
    "\n",
    "We've tried to set the defaults for all parameters so that `vtreat` is usable out of the box for most applications.\n"
   ]
  },
  {
   "cell_type": "code",
   "execution_count": 18,
   "metadata": {
    "collapsed": false,
    "jupyter": {
     "outputs_hidden": false
    },
    "pycharm": {
     "name": "#%%\n"
    }
   },
   "outputs": [
    {
     "data": {
      "text/plain": [
       "{'use_hierarchical_estimate': True,\n",
       " 'coders': {'clean_copy',\n",
       "  'deviation_code',\n",
       "  'impact_code',\n",
       "  'indicator_code',\n",
       "  'logit_code',\n",
       "  'missing_indicator',\n",
       "  'prevalence_code'},\n",
       " 'filter_to_recommended': True,\n",
       " 'indicator_min_fraction': 0.1,\n",
       " 'cross_validation_plan': <vtreat.cross_plan.KWayCrossPlan at 0x1a2065e4a8>,\n",
       " 'cross_validation_k': 5,\n",
       " 'user_transforms': [],\n",
       " 'sparse_indicators': True}"
      ]
     },
     "execution_count": 18,
     "metadata": {},
     "output_type": "execute_result"
    }
   ],
   "source": [
    "vtreat.vtreat_parameters()"
   ]
  },
  {
   "cell_type": "markdown",
   "metadata": {},
   "source": [
    "**use_hierarchical_estimate:**: When True, uses hierarchical smoothing when estimating `impact_code` variables; when False, uses unsmoothed linear regression.\n",
    "\n",
    "**coders**: The types of synthetic variables that `vtreat` will (potentially) produce. See *Types of prepared variables* below.\n",
    "\n",
    "**filter_to_recommended**: When True, prepared data only includes variables marked as \"recommended\" in score frame. When False, prepared data includes all variables. See the Example below.\n",
    "\n",
    "**indicator_min_fraction**: For categorical variables, indicator variables (type `indicator_code`) are only produced for levels that are present at least `indicator_min_fraction` of the time. A consequence of this is that 1/`indicator_min_fraction` is the maximum number of indicators that will be produced for a given categorical variable. To make sure that *all* possible indicator variables are produced, set `indicator_min_fraction = 0`\n",
    "\n",
    "**cross_validation_plan**: The cross validation method used by `vtreat`. Most people won't have to change this.\n",
    "\n",
    "**cross_validation_k**: The number of folds to use for cross-validation\n",
    "\n",
    "**user_transforms**: For passing in user-defined transforms for custom data preparation. Won't be needed in most situations, but see [here](https://github.com/WinVector/pyvtreat/blob/master/Examples/UserCoders/UserCoders.ipynb) for an example of applying a GAM transform to input variables.\n",
    "\n",
    "**sparse_indicators**: When True, use a (Pandas) sparse representation for indicator variables. This representation is compatible with `sklearn`; however, it may not be compatible with other modeling packages. When False, use a dense representation.\n",
    "\n",
    "### Example: Use all variables to model, not just recommended"
   ]
  },
  {
   "cell_type": "code",
   "execution_count": 19,
   "metadata": {
    "collapsed": false,
    "jupyter": {
     "outputs_hidden": false
    },
    "pycharm": {
     "name": "#%%\n"
    }
   },
   "outputs": [
    {
     "data": {
      "text/plain": [
       "Index(['y', 'x_is_bad', 'xc_is_bad', 'x', 'x2', 'xc_impact_code',\n",
       "       'xc_deviation_code', 'xc_prevalence_code', 'xc_lev_level_1.0',\n",
       "       'xc_lev__NA_', 'xc_lev_level_0.5', 'xc_lev_level_-0.5'],\n",
       "      dtype='object')"
      ]
     },
     "execution_count": 19,
     "metadata": {},
     "output_type": "execute_result"
    }
   ],
   "source": [
    "transform_all = vtreat.NumericOutcomeTreatment(\n",
    "    outcome_name='y',    # outcome variable\n",
    "    params = vtreat.vtreat_parameters({\n",
    "        'filter_to_recommended': False\n",
    "    })\n",
    ")  \n",
    "\n",
    "transform_all.fit_transform(d, d['y']).columns"
   ]
  },
  {
   "cell_type": "code",
   "execution_count": 20,
   "metadata": {
    "collapsed": false,
    "jupyter": {
     "outputs_hidden": false
    },
    "pycharm": {
     "name": "#%%\n"
    }
   },
   "outputs": [
    {
     "data": {
      "text/html": [
       "<div>\n",
       "<style scoped>\n",
       "    .dataframe tbody tr th:only-of-type {\n",
       "        vertical-align: middle;\n",
       "    }\n",
       "\n",
       "    .dataframe tbody tr th {\n",
       "        vertical-align: top;\n",
       "    }\n",
       "\n",
       "    .dataframe thead th {\n",
       "        text-align: right;\n",
       "    }\n",
       "</style>\n",
       "<table border=\"1\" class=\"dataframe\">\n",
       "  <thead>\n",
       "    <tr style=\"text-align: right;\">\n",
       "      <th></th>\n",
       "      <th>variable</th>\n",
       "      <th>orig_variable</th>\n",
       "      <th>treatment</th>\n",
       "      <th>y_aware</th>\n",
       "      <th>has_range</th>\n",
       "      <th>PearsonR</th>\n",
       "      <th>significance</th>\n",
       "      <th>vcount</th>\n",
       "      <th>default_threshold</th>\n",
       "      <th>recommended</th>\n",
       "    </tr>\n",
       "  </thead>\n",
       "  <tbody>\n",
       "    <tr>\n",
       "      <th>0</th>\n",
       "      <td>x_is_bad</td>\n",
       "      <td>x</td>\n",
       "      <td>missing_indicator</td>\n",
       "      <td>False</td>\n",
       "      <td>True</td>\n",
       "      <td>0.036861</td>\n",
       "      <td>4.108233e-01</td>\n",
       "      <td>2.0</td>\n",
       "      <td>0.083333</td>\n",
       "      <td>False</td>\n",
       "    </tr>\n",
       "    <tr>\n",
       "      <th>1</th>\n",
       "      <td>xc_is_bad</td>\n",
       "      <td>xc</td>\n",
       "      <td>missing_indicator</td>\n",
       "      <td>False</td>\n",
       "      <td>True</td>\n",
       "      <td>-0.713074</td>\n",
       "      <td>7.835335e-79</td>\n",
       "      <td>2.0</td>\n",
       "      <td>0.083333</td>\n",
       "      <td>True</td>\n",
       "    </tr>\n",
       "    <tr>\n",
       "      <th>2</th>\n",
       "      <td>x</td>\n",
       "      <td>x</td>\n",
       "      <td>clean_copy</td>\n",
       "      <td>False</td>\n",
       "      <td>True</td>\n",
       "      <td>0.021037</td>\n",
       "      <td>6.388756e-01</td>\n",
       "      <td>2.0</td>\n",
       "      <td>0.083333</td>\n",
       "      <td>False</td>\n",
       "    </tr>\n",
       "    <tr>\n",
       "      <th>3</th>\n",
       "      <td>x2</td>\n",
       "      <td>x2</td>\n",
       "      <td>clean_copy</td>\n",
       "      <td>False</td>\n",
       "      <td>True</td>\n",
       "      <td>0.011382</td>\n",
       "      <td>7.995866e-01</td>\n",
       "      <td>2.0</td>\n",
       "      <td>0.083333</td>\n",
       "      <td>False</td>\n",
       "    </tr>\n",
       "    <tr>\n",
       "      <th>4</th>\n",
       "      <td>xc_impact_code</td>\n",
       "      <td>xc</td>\n",
       "      <td>impact_code</td>\n",
       "      <td>True</td>\n",
       "      <td>True</td>\n",
       "      <td>0.983489</td>\n",
       "      <td>0.000000e+00</td>\n",
       "      <td>1.0</td>\n",
       "      <td>0.166667</td>\n",
       "      <td>True</td>\n",
       "    </tr>\n",
       "    <tr>\n",
       "      <th>5</th>\n",
       "      <td>xc_deviation_code</td>\n",
       "      <td>xc</td>\n",
       "      <td>deviation_code</td>\n",
       "      <td>True</td>\n",
       "      <td>True</td>\n",
       "      <td>0.019496</td>\n",
       "      <td>6.636461e-01</td>\n",
       "      <td>1.0</td>\n",
       "      <td>0.166667</td>\n",
       "      <td>False</td>\n",
       "    </tr>\n",
       "    <tr>\n",
       "      <th>6</th>\n",
       "      <td>xc_prevalence_code</td>\n",
       "      <td>xc</td>\n",
       "      <td>prevalence_code</td>\n",
       "      <td>False</td>\n",
       "      <td>True</td>\n",
       "      <td>0.069187</td>\n",
       "      <td>1.223356e-01</td>\n",
       "      <td>1.0</td>\n",
       "      <td>0.166667</td>\n",
       "      <td>True</td>\n",
       "    </tr>\n",
       "    <tr>\n",
       "      <th>7</th>\n",
       "      <td>xc_lev_level_1.0</td>\n",
       "      <td>xc</td>\n",
       "      <td>indicator_code</td>\n",
       "      <td>False</td>\n",
       "      <td>True</td>\n",
       "      <td>0.701207</td>\n",
       "      <td>3.404919e-75</td>\n",
       "      <td>4.0</td>\n",
       "      <td>0.041667</td>\n",
       "      <td>True</td>\n",
       "    </tr>\n",
       "    <tr>\n",
       "      <th>8</th>\n",
       "      <td>xc_lev__NA_</td>\n",
       "      <td>xc</td>\n",
       "      <td>indicator_code</td>\n",
       "      <td>False</td>\n",
       "      <td>True</td>\n",
       "      <td>-0.713074</td>\n",
       "      <td>7.835335e-79</td>\n",
       "      <td>4.0</td>\n",
       "      <td>0.041667</td>\n",
       "      <td>True</td>\n",
       "    </tr>\n",
       "    <tr>\n",
       "      <th>9</th>\n",
       "      <td>xc_lev_level_0.5</td>\n",
       "      <td>xc</td>\n",
       "      <td>indicator_code</td>\n",
       "      <td>False</td>\n",
       "      <td>True</td>\n",
       "      <td>0.345410</td>\n",
       "      <td>1.860988e-15</td>\n",
       "      <td>4.0</td>\n",
       "      <td>0.041667</td>\n",
       "      <td>True</td>\n",
       "    </tr>\n",
       "    <tr>\n",
       "      <th>10</th>\n",
       "      <td>xc_lev_level_-0.5</td>\n",
       "      <td>xc</td>\n",
       "      <td>indicator_code</td>\n",
       "      <td>False</td>\n",
       "      <td>True</td>\n",
       "      <td>-0.351053</td>\n",
       "      <td>6.015372e-16</td>\n",
       "      <td>4.0</td>\n",
       "      <td>0.041667</td>\n",
       "      <td>True</td>\n",
       "    </tr>\n",
       "  </tbody>\n",
       "</table>\n",
       "</div>"
      ],
      "text/plain": [
       "              variable orig_variable          treatment  y_aware  has_range  \\\n",
       "0             x_is_bad             x  missing_indicator    False       True   \n",
       "1            xc_is_bad            xc  missing_indicator    False       True   \n",
       "2                    x             x         clean_copy    False       True   \n",
       "3                   x2            x2         clean_copy    False       True   \n",
       "4       xc_impact_code            xc        impact_code     True       True   \n",
       "5    xc_deviation_code            xc     deviation_code     True       True   \n",
       "6   xc_prevalence_code            xc    prevalence_code    False       True   \n",
       "7     xc_lev_level_1.0            xc     indicator_code    False       True   \n",
       "8          xc_lev__NA_            xc     indicator_code    False       True   \n",
       "9     xc_lev_level_0.5            xc     indicator_code    False       True   \n",
       "10   xc_lev_level_-0.5            xc     indicator_code    False       True   \n",
       "\n",
       "    PearsonR  significance  vcount  default_threshold  recommended  \n",
       "0   0.036861  4.108233e-01     2.0           0.083333        False  \n",
       "1  -0.713074  7.835335e-79     2.0           0.083333         True  \n",
       "2   0.021037  6.388756e-01     2.0           0.083333        False  \n",
       "3   0.011382  7.995866e-01     2.0           0.083333        False  \n",
       "4   0.983489  0.000000e+00     1.0           0.166667         True  \n",
       "5   0.019496  6.636461e-01     1.0           0.166667        False  \n",
       "6   0.069187  1.223356e-01     1.0           0.166667         True  \n",
       "7   0.701207  3.404919e-75     4.0           0.041667         True  \n",
       "8  -0.713074  7.835335e-79     4.0           0.041667         True  \n",
       "9   0.345410  1.860988e-15     4.0           0.041667         True  \n",
       "10 -0.351053  6.015372e-16     4.0           0.041667         True  "
      ]
     },
     "execution_count": 20,
     "metadata": {},
     "output_type": "execute_result"
    }
   ],
   "source": [
    "transform_all.score_frame_"
   ]
  },
  {
   "cell_type": "markdown",
   "metadata": {},
   "source": [
    "Note that the prepared data produced by `fit_transform()` includes all the variables, including those that were not marked as \"recommended\". \n",
    "\n",
    "## Types of prepared variables\n",
    "\n",
    "**clean_copy**: Produced from numerical variables: a clean numerical variable with no `NaNs` or missing values\n",
    "\n",
    "**indicator_code**: Produced from categorical variables, one for each (common) level: for each level of the variable, indicates if that level was \"on\"\n",
    "\n",
    "**prevalence_code**: Produced from categorical variables: indicates how often each level of the variable was \"on\"\n",
    "\n",
    "**deviation_code**: Produced from categorical variables: standard deviation of outcome conditioned on levels of the variable\n",
    "\n",
    "**impact_code**: Produced from categorical variables: score from a one-dimensional model of the output as a function of the variable\n",
    "\n",
    "**missing_indicator**: Produced for both numerical and categorical variables: an indicator variable that marks when the original variable was missing or  `NaN`\n",
    "\n",
    "**logit_code**: not used by `NumericOutcomeTreatment`\n",
    "\n",
    "### Example: Produce only a subset of variable types\n",
    "\n",
    "In this example, suppose you only want to use indicators and continuous variables in your model; \n",
    "in other words, you only want to use variables of types (`clean_copy`, `missing_indicator`, and `indicator_code`), and no `impact_code`, `deviance_code`, or `prevalence_code` variables."
   ]
  },
  {
   "cell_type": "code",
   "execution_count": 21,
   "metadata": {
    "collapsed": false,
    "jupyter": {
     "outputs_hidden": false
    },
    "pycharm": {
     "name": "#%%\n"
    }
   },
   "outputs": [
    {
     "data": {
      "text/html": [
       "<div>\n",
       "<style scoped>\n",
       "    .dataframe tbody tr th:only-of-type {\n",
       "        vertical-align: middle;\n",
       "    }\n",
       "\n",
       "    .dataframe tbody tr th {\n",
       "        vertical-align: top;\n",
       "    }\n",
       "\n",
       "    .dataframe thead th {\n",
       "        text-align: right;\n",
       "    }\n",
       "</style>\n",
       "<table border=\"1\" class=\"dataframe\">\n",
       "  <thead>\n",
       "    <tr style=\"text-align: right;\">\n",
       "      <th></th>\n",
       "      <th>y</th>\n",
       "      <th>x_is_bad</th>\n",
       "      <th>xc_is_bad</th>\n",
       "      <th>x</th>\n",
       "      <th>x2</th>\n",
       "      <th>xc_lev_level_1.0</th>\n",
       "      <th>xc_lev__NA_</th>\n",
       "      <th>xc_lev_level_0.5</th>\n",
       "      <th>xc_lev_level_-0.5</th>\n",
       "    </tr>\n",
       "  </thead>\n",
       "  <tbody>\n",
       "    <tr>\n",
       "      <th>0</th>\n",
       "      <td>-0.934724</td>\n",
       "      <td>0.0</td>\n",
       "      <td>1.0</td>\n",
       "      <td>5.139080</td>\n",
       "      <td>-0.998570</td>\n",
       "      <td>0.0</td>\n",
       "      <td>1.0</td>\n",
       "      <td>0.0</td>\n",
       "      <td>0.0</td>\n",
       "    </tr>\n",
       "    <tr>\n",
       "      <th>1</th>\n",
       "      <td>-0.612031</td>\n",
       "      <td>0.0</td>\n",
       "      <td>0.0</td>\n",
       "      <td>3.860052</td>\n",
       "      <td>2.113708</td>\n",
       "      <td>0.0</td>\n",
       "      <td>0.0</td>\n",
       "      <td>0.0</td>\n",
       "      <td>1.0</td>\n",
       "    </tr>\n",
       "    <tr>\n",
       "      <th>2</th>\n",
       "      <td>-1.025274</td>\n",
       "      <td>0.0</td>\n",
       "      <td>1.0</td>\n",
       "      <td>-1.590820</td>\n",
       "      <td>-1.378519</td>\n",
       "      <td>0.0</td>\n",
       "      <td>1.0</td>\n",
       "      <td>0.0</td>\n",
       "      <td>0.0</td>\n",
       "    </tr>\n",
       "    <tr>\n",
       "      <th>3</th>\n",
       "      <td>0.128607</td>\n",
       "      <td>1.0</td>\n",
       "      <td>0.0</td>\n",
       "      <td>0.014877</td>\n",
       "      <td>-0.016317</td>\n",
       "      <td>0.0</td>\n",
       "      <td>0.0</td>\n",
       "      <td>0.0</td>\n",
       "      <td>0.0</td>\n",
       "    </tr>\n",
       "    <tr>\n",
       "      <th>4</th>\n",
       "      <td>0.984484</td>\n",
       "      <td>1.0</td>\n",
       "      <td>0.0</td>\n",
       "      <td>0.014877</td>\n",
       "      <td>0.145847</td>\n",
       "      <td>1.0</td>\n",
       "      <td>0.0</td>\n",
       "      <td>0.0</td>\n",
       "      <td>0.0</td>\n",
       "    </tr>\n",
       "  </tbody>\n",
       "</table>\n",
       "</div>"
      ],
      "text/plain": [
       "          y  x_is_bad  xc_is_bad         x        x2  xc_lev_level_1.0  \\\n",
       "0 -0.934724       0.0        1.0  5.139080 -0.998570               0.0   \n",
       "1 -0.612031       0.0        0.0  3.860052  2.113708               0.0   \n",
       "2 -1.025274       0.0        1.0 -1.590820 -1.378519               0.0   \n",
       "3  0.128607       1.0        0.0  0.014877 -0.016317               0.0   \n",
       "4  0.984484       1.0        0.0  0.014877  0.145847               1.0   \n",
       "\n",
       "   xc_lev__NA_  xc_lev_level_0.5  xc_lev_level_-0.5  \n",
       "0          1.0               0.0                0.0  \n",
       "1          0.0               0.0                1.0  \n",
       "2          1.0               0.0                0.0  \n",
       "3          0.0               0.0                0.0  \n",
       "4          0.0               0.0                0.0  "
      ]
     },
     "execution_count": 21,
     "metadata": {},
     "output_type": "execute_result"
    }
   ],
   "source": [
    "transform_thin = vtreat.NumericOutcomeTreatment(\n",
    "    outcome_name='y',    # outcome variable\n",
    "    params = vtreat.vtreat_parameters({\n",
    "        'filter_to_recommended': False,\n",
    "        'coders': {'clean_copy',\n",
    "                   'missing_indicator',\n",
    "                   'indicator_code',\n",
    "                  }\n",
    "    })\n",
    ")\n",
    "\n",
    "transform_thin.fit_transform(d, d['y']).head()"
   ]
  },
  {
   "cell_type": "code",
   "execution_count": 22,
   "metadata": {
    "collapsed": false,
    "jupyter": {
     "outputs_hidden": false
    },
    "pycharm": {
     "name": "#%%\n"
    }
   },
   "outputs": [
    {
     "data": {
      "text/html": [
       "<div>\n",
       "<style scoped>\n",
       "    .dataframe tbody tr th:only-of-type {\n",
       "        vertical-align: middle;\n",
       "    }\n",
       "\n",
       "    .dataframe tbody tr th {\n",
       "        vertical-align: top;\n",
       "    }\n",
       "\n",
       "    .dataframe thead th {\n",
       "        text-align: right;\n",
       "    }\n",
       "</style>\n",
       "<table border=\"1\" class=\"dataframe\">\n",
       "  <thead>\n",
       "    <tr style=\"text-align: right;\">\n",
       "      <th></th>\n",
       "      <th>variable</th>\n",
       "      <th>orig_variable</th>\n",
       "      <th>treatment</th>\n",
       "      <th>y_aware</th>\n",
       "      <th>has_range</th>\n",
       "      <th>PearsonR</th>\n",
       "      <th>significance</th>\n",
       "      <th>vcount</th>\n",
       "      <th>default_threshold</th>\n",
       "      <th>recommended</th>\n",
       "    </tr>\n",
       "  </thead>\n",
       "  <tbody>\n",
       "    <tr>\n",
       "      <th>0</th>\n",
       "      <td>x_is_bad</td>\n",
       "      <td>x</td>\n",
       "      <td>missing_indicator</td>\n",
       "      <td>False</td>\n",
       "      <td>True</td>\n",
       "      <td>0.036861</td>\n",
       "      <td>4.108233e-01</td>\n",
       "      <td>2.0</td>\n",
       "      <td>0.166667</td>\n",
       "      <td>False</td>\n",
       "    </tr>\n",
       "    <tr>\n",
       "      <th>1</th>\n",
       "      <td>xc_is_bad</td>\n",
       "      <td>xc</td>\n",
       "      <td>missing_indicator</td>\n",
       "      <td>False</td>\n",
       "      <td>True</td>\n",
       "      <td>-0.713074</td>\n",
       "      <td>7.835335e-79</td>\n",
       "      <td>2.0</td>\n",
       "      <td>0.166667</td>\n",
       "      <td>True</td>\n",
       "    </tr>\n",
       "    <tr>\n",
       "      <th>2</th>\n",
       "      <td>x</td>\n",
       "      <td>x</td>\n",
       "      <td>clean_copy</td>\n",
       "      <td>False</td>\n",
       "      <td>True</td>\n",
       "      <td>0.021037</td>\n",
       "      <td>6.388756e-01</td>\n",
       "      <td>2.0</td>\n",
       "      <td>0.166667</td>\n",
       "      <td>False</td>\n",
       "    </tr>\n",
       "    <tr>\n",
       "      <th>3</th>\n",
       "      <td>x2</td>\n",
       "      <td>x2</td>\n",
       "      <td>clean_copy</td>\n",
       "      <td>False</td>\n",
       "      <td>True</td>\n",
       "      <td>0.011382</td>\n",
       "      <td>7.995866e-01</td>\n",
       "      <td>2.0</td>\n",
       "      <td>0.166667</td>\n",
       "      <td>False</td>\n",
       "    </tr>\n",
       "    <tr>\n",
       "      <th>4</th>\n",
       "      <td>xc_lev_level_1.0</td>\n",
       "      <td>xc</td>\n",
       "      <td>indicator_code</td>\n",
       "      <td>False</td>\n",
       "      <td>True</td>\n",
       "      <td>0.701207</td>\n",
       "      <td>3.404919e-75</td>\n",
       "      <td>4.0</td>\n",
       "      <td>0.083333</td>\n",
       "      <td>True</td>\n",
       "    </tr>\n",
       "    <tr>\n",
       "      <th>5</th>\n",
       "      <td>xc_lev__NA_</td>\n",
       "      <td>xc</td>\n",
       "      <td>indicator_code</td>\n",
       "      <td>False</td>\n",
       "      <td>True</td>\n",
       "      <td>-0.713074</td>\n",
       "      <td>7.835335e-79</td>\n",
       "      <td>4.0</td>\n",
       "      <td>0.083333</td>\n",
       "      <td>True</td>\n",
       "    </tr>\n",
       "    <tr>\n",
       "      <th>6</th>\n",
       "      <td>xc_lev_level_0.5</td>\n",
       "      <td>xc</td>\n",
       "      <td>indicator_code</td>\n",
       "      <td>False</td>\n",
       "      <td>True</td>\n",
       "      <td>0.345410</td>\n",
       "      <td>1.860988e-15</td>\n",
       "      <td>4.0</td>\n",
       "      <td>0.083333</td>\n",
       "      <td>True</td>\n",
       "    </tr>\n",
       "    <tr>\n",
       "      <th>7</th>\n",
       "      <td>xc_lev_level_-0.5</td>\n",
       "      <td>xc</td>\n",
       "      <td>indicator_code</td>\n",
       "      <td>False</td>\n",
       "      <td>True</td>\n",
       "      <td>-0.351053</td>\n",
       "      <td>6.015372e-16</td>\n",
       "      <td>4.0</td>\n",
       "      <td>0.083333</td>\n",
       "      <td>True</td>\n",
       "    </tr>\n",
       "  </tbody>\n",
       "</table>\n",
       "</div>"
      ],
      "text/plain": [
       "            variable orig_variable          treatment  y_aware  has_range  \\\n",
       "0           x_is_bad             x  missing_indicator    False       True   \n",
       "1          xc_is_bad            xc  missing_indicator    False       True   \n",
       "2                  x             x         clean_copy    False       True   \n",
       "3                 x2            x2         clean_copy    False       True   \n",
       "4   xc_lev_level_1.0            xc     indicator_code    False       True   \n",
       "5        xc_lev__NA_            xc     indicator_code    False       True   \n",
       "6   xc_lev_level_0.5            xc     indicator_code    False       True   \n",
       "7  xc_lev_level_-0.5            xc     indicator_code    False       True   \n",
       "\n",
       "   PearsonR  significance  vcount  default_threshold  recommended  \n",
       "0  0.036861  4.108233e-01     2.0           0.166667        False  \n",
       "1 -0.713074  7.835335e-79     2.0           0.166667         True  \n",
       "2  0.021037  6.388756e-01     2.0           0.166667        False  \n",
       "3  0.011382  7.995866e-01     2.0           0.166667        False  \n",
       "4  0.701207  3.404919e-75     4.0           0.083333         True  \n",
       "5 -0.713074  7.835335e-79     4.0           0.083333         True  \n",
       "6  0.345410  1.860988e-15     4.0           0.083333         True  \n",
       "7 -0.351053  6.015372e-16     4.0           0.083333         True  "
      ]
     },
     "execution_count": 22,
     "metadata": {},
     "output_type": "execute_result"
    }
   ],
   "source": [
    "transform_thin.score_frame_"
   ]
  },
  {
   "cell_type": "markdown",
   "metadata": {},
   "source": [
    "## Deriving the Default Thresholds\n",
    "\n",
    "While machine learning algorithms are generally tolerant to a reasonable number of irrelevant or noise variables, too many irrelevant variables can lead to serious overfit; see [this article](http://www.win-vector.com/blog/2014/02/bad-bayes-an-example-of-why-you-need-hold-out-testing/) for an extreme example, one we call \"Bad Bayes\". The default threshold is an attempt to eliminate obviously irrelevant variables early.\n",
    "\n",
    "Imagine that you have a pure noise dataset, where none of the *n* inputs are related to the output. If you treat each variable as a one-variable model for the output, and look at the significances of each model, these significance-values will be uniformly distributed in the range [0:1]. You want to pick a weakest possible significance threshold that eliminates as many noise variables as possible. A moment's thought should convince you that a threshold of *1/n* allows only one variable through, in expectation. \n",
    "\n",
    "This leads to the general-case heuristic that a significance threshold of *1/n* on your variables should allow only one irrelevant variable through, in expectation (along with all the relevant variables). Hence, *1/n* used to be our recommended threshold, when we developed the R version of `vtreat`.\n",
    "\n",
    "We noticed, however, that this biases the filtering against numerical variables, since there are at most two derived variables (of types *clean_copy* and *missing_indicator* for every numerical variable in the original data. Categorical variables, on the other hand, are expanded to many derived variables: several indicators (one for every common level), plus a *logit_code* and a *prevalence_code*. So we now reweight the thresholds. \n",
    "\n",
    "Suppose you have a (treated) data set with *ntreat* different types of `vtreat` variables (`clean_copy`, `indicator_code`, etc).\n",
    "There are *nT* variables of type *T*. Then the default threshold for all the variables of type *T* is *1/(ntreat nT)*. This reweighting  helps to reduce the bias against any particular type of variable. The heuristic is still that the set of recommended variables will allow at most one noise variable into the set of candidate variables.\n",
    "\n",
    "As noted above, because `vtreat` estimates variable significances using linear methods by default, some variables with a non-linear relationship  to the output may fail to pass the threshold. Setting the `filter_to_recommended` parameter to False will keep all derived variables in the treated frame, for the data scientist to filter (or not) as they will.\n"
   ]
  },
  {
   "cell_type": "markdown",
   "metadata": {},
   "source": [
    "## Conclusion\n",
    "\n",
    "In all cases (classification, regression, unsupervised, and multinomial classification) the intent is that `vtreat` transforms are essentially one liners.\n",
    "\n",
    "The preparation commands are organized as follows:\n",
    "\n",
    " * **Regression**: [`R` regression example](https://github.com/WinVector/vtreat/blob/master/Examples/Regression/Regression.md), [`Python` regression example](https://github.com/WinVector/pyvtreat/blob/master/Examples/Regression/Regression.md).\n",
    " * **Classification**: [`R` classification example](https://github.com/WinVector/vtreat/blob/master/Examples/Classification/Classification.md), [`Python` classification  example](https://github.com/WinVector/pyvtreat/blob/master/Examples/Classification/Classification.md).\n",
    " * **Unsupervised tasks**: [`R` unsupervised example](https://github.com/WinVector/vtreat/blob/master/Examples/Unsupervised/Unsupervised.md), [`Python` unsupervised example](https://github.com/WinVector/pyvtreat/blob/master/Examples/Unsupervised/Unsupervised.md).\n",
    " * **Multinomial classification**: [`R` multinomial classification example](https://winvector.github.io/vtreat/articles/MultiClassVtreat.html), [`Python` multinomial classification example](https://github.com/WinVector/pyvtreat/blob/master/Examples/Multinomial/MultinomialExample.ipynb).\n",
    "\n",
    "These current revisions of the examples are designed to be small, yet complete.  So as a set they have some overlap, but the user can rely mostly on a single example for a single task type.\n",
    "\n"
   ]
  }
 ],
 "metadata": {
  "kernelspec": {
   "display_name": "Python 3",
   "language": "python",
   "name": "python3"
  },
  "language_info": {
   "codemirror_mode": {
    "name": "ipython",
    "version": 3
   },
   "file_extension": ".py",
   "mimetype": "text/x-python",
   "name": "python",
   "nbconvert_exporter": "python",
   "pygments_lexer": "ipython3",
   "version": "3.6.9"
  },
  "pycharm": {
   "stem_cell": {
    "cell_type": "raw",
    "metadata": {
     "collapsed": false
    },
    "source": []
   }
  }
 },
 "nbformat": 4,
 "nbformat_minor": 4
}
