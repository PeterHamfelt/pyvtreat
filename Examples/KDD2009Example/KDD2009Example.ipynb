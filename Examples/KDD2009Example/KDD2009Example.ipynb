{
 "cells": [
  {
   "cell_type": "markdown",
   "metadata": {},
   "source": [
    "This is a supervised classification example taken from the KDD 2009 cup.  A copy of the data and details can be found here: [https://github.com/WinVector/PDSwR2/tree/master/KDD2009](https://github.com/WinVector/PDSwR2/tree/master/KDD2009).  The problem was to predict account cancellation (\"churn\") from very messy data (column names not given, numeric and categorical variables, many missing values, some categorical variables with a large number of possible levels).  In this example we show how to quickly use `vtreat` to prepare the data for modeling.  `vtreat` takes in `Pandas` `DataFrame`s and returns both a treatment plan and a clean `Pandas` `DataFrame` ready for modeling.\n"
   ]
  },
  {
   "cell_type": "markdown",
   "metadata": {},
   "source": [
    "Load our packages/modules."
   ]
  },
  {
   "cell_type": "code",
   "execution_count": 1,
   "metadata": {},
   "outputs": [],
   "source": [
    "import os\n",
    "import pandas\n",
    "import xgboost\n",
    "import vtreat\n",
    "import vtreat.cross_plan\n",
    "import numpy.random\n",
    "import wvpy.util\n",
    "import scipy.sparse"
   ]
  },
  {
   "cell_type": "code",
   "execution_count": 2,
   "metadata": {},
   "outputs": [
    {
     "data": {
      "text/plain": "'1.2.2'"
     },
     "execution_count": 2,
     "metadata": {},
     "output_type": "execute_result"
    }
   ],
   "source": [
    "vtreat.__version__"
   ]
  },
  {
   "cell_type": "markdown",
   "metadata": {},
   "source": [
    "Read in explanatory variables."
   ]
  },
  {
   "cell_type": "code",
   "execution_count": 3,
   "metadata": {},
   "outputs": [
    {
     "data": {
      "text/plain": "(50000, 230)"
     },
     "execution_count": 3,
     "metadata": {},
     "output_type": "execute_result"
    }
   ],
   "source": [
    "# data from https://github.com/WinVector/PDSwR2/tree/master/KDD2009\n",
    "data_dir = \"../../../PracticalDataScienceWithR2nd/PDSwR2/KDD2009/\"\n",
    "d = pandas.read_csv(\n",
    "    os.path.join(data_dir, 'orange_small_train.data.gz'),\n",
    "    sep='\\t',\n",
    "    header=0)\n",
    "orig_vars = list(d.columns)\n",
    "d.shape"
   ]
  },
  {
   "cell_type": "markdown",
   "metadata": {},
   "source": [
    "Read in dependent variable we are trying to predict."
   ]
  },
  {
   "cell_type": "code",
   "execution_count": 4,
   "metadata": {},
   "outputs": [
    {
     "data": {
      "text/plain": "(50000, 1)"
     },
     "execution_count": 4,
     "metadata": {},
     "output_type": "execute_result"
    }
   ],
   "source": [
    "churn = pandas.read_csv(\n",
    "    os.path.join(data_dir, 'orange_small_train_churn.labels.txt'),\n",
    "    header=None)\n",
    "churn.columns = [\"churn\"]\n",
    "churn['churn'] = churn['churn'] == 1  # replace with True / False\n",
    "churn.shape"
   ]
  },
  {
   "cell_type": "code",
   "execution_count": 5,
   "metadata": {},
   "outputs": [
    {
     "data": {
      "text/plain": "False    46328\nTrue      3672\nName: churn, dtype: int64"
     },
     "execution_count": 5,
     "metadata": {},
     "output_type": "execute_result"
    }
   ],
   "source": [
    "churn[\"churn\"].value_counts()"
   ]
  },
  {
   "cell_type": "markdown",
   "metadata": {},
   "source": [
    "Arrange test/train split."
   ]
  },
  {
   "cell_type": "code",
   "execution_count": 6,
   "metadata": {},
   "outputs": [],
   "source": [
    "numpy.random.seed(2020)\n",
    "n = d.shape[0]\n",
    "# https://github.com/WinVector/pyvtreat/blob/master/Examples/CustomizedCrossPlan/CustomizedCrossPlan.md\n",
    "split1 = vtreat.cross_plan.KWayCrossPlanYStratified().split_plan(n_rows=n, k_folds=10, y=churn.iloc[:, 0])\n",
    "train_idx = set(split1[0]['train'])\n",
    "is_train = [i in train_idx for i in range(n)]\n",
    "is_test = numpy.logical_not(is_train)"
   ]
  },
  {
   "cell_type": "markdown",
   "metadata": {},
   "source": [
    "(The reported performance runs of this example were sensitive to the prevalance of the churn variable in the test set, we are cutting down on this source of evaluation variance by using the stratified split.)"
   ]
  },
  {
   "cell_type": "code",
   "execution_count": 7,
   "metadata": {},
   "outputs": [],
   "source": [
    "d['orig_index'] = range(d.shape[0])\n",
    "d_train = d.loc[is_train, :].reset_index(drop=True, inplace=False)\n",
    "churn_train = numpy.asarray(churn.loc[is_train, :][\"churn\"])\n",
    "d_test = d.loc[is_test, :].reset_index(drop=True, inplace=False)\n",
    "churn_test = numpy.asarray(churn.loc[is_test, :][\"churn\"])"
   ]
  },
  {
   "cell_type": "markdown",
   "metadata": {},
   "source": [
    "Take a look at the dependent variables.  They are a mess, many missing values.  Categorical variables that can not be directly used without some re-encoding."
   ]
  },
  {
   "cell_type": "code",
   "execution_count": 8,
   "metadata": {},
   "outputs": [
    {
     "data": {
      "text/plain": "   Var1  Var2  Var3  Var4  Var5    Var6  Var7  Var8  Var9  Var10  ...  \\\n0   NaN   NaN   NaN   NaN   NaN  1526.0   7.0   NaN   NaN    NaN  ...   \n1   NaN   NaN   NaN   NaN   NaN   525.0   0.0   NaN   NaN    NaN  ...   \n2   NaN   NaN   NaN   NaN   NaN  5236.0   7.0   NaN   NaN    NaN  ...   \n3   NaN   NaN   NaN   NaN   NaN  1029.0   7.0   NaN   NaN    NaN  ...   \n4   NaN   NaN   NaN   NaN   NaN   658.0   7.0   NaN   NaN    NaN  ...   \n\n    Var222      Var223  Var224  Var225  Var226   Var227         Var228  \\\n0  fXVEsaq  jySVZNlOJy     NaN     NaN    xb3V     RAYp  F2FyR07IdsN7I   \n1  2Kb5FSF  LM8l689qOp     NaN     NaN    fKCe     RAYp  F2FyR07IdsN7I   \n2  NKv4yOc  jySVZNlOJy     NaN    kG3k    Qu4f  02N6s8f  ib5G6X1eUxUn6   \n3  1J2cvxe  LM8l689qOp     NaN    kG3k    FSa2     RAYp  F2FyR07IdsN7I   \n4  QqVuch3  LM8l689qOp     NaN     NaN    Qcbd  02N6s8f        Zy3gnGM   \n\n   Var229  Var230  orig_index  \n0     NaN     NaN           0  \n1     NaN     NaN           1  \n2    am7c     NaN           2  \n3    mj86     NaN           4  \n4    am7c     NaN           5  \n\n[5 rows x 231 columns]",
      "text/html": "<div>\n<style scoped>\n    .dataframe tbody tr th:only-of-type {\n        vertical-align: middle;\n    }\n\n    .dataframe tbody tr th {\n        vertical-align: top;\n    }\n\n    .dataframe thead th {\n        text-align: right;\n    }\n</style>\n<table border=\"1\" class=\"dataframe\">\n  <thead>\n    <tr style=\"text-align: right;\">\n      <th></th>\n      <th>Var1</th>\n      <th>Var2</th>\n      <th>Var3</th>\n      <th>Var4</th>\n      <th>Var5</th>\n      <th>Var6</th>\n      <th>Var7</th>\n      <th>Var8</th>\n      <th>Var9</th>\n      <th>Var10</th>\n      <th>...</th>\n      <th>Var222</th>\n      <th>Var223</th>\n      <th>Var224</th>\n      <th>Var225</th>\n      <th>Var226</th>\n      <th>Var227</th>\n      <th>Var228</th>\n      <th>Var229</th>\n      <th>Var230</th>\n      <th>orig_index</th>\n    </tr>\n  </thead>\n  <tbody>\n    <tr>\n      <th>0</th>\n      <td>NaN</td>\n      <td>NaN</td>\n      <td>NaN</td>\n      <td>NaN</td>\n      <td>NaN</td>\n      <td>1526.0</td>\n      <td>7.0</td>\n      <td>NaN</td>\n      <td>NaN</td>\n      <td>NaN</td>\n      <td>...</td>\n      <td>fXVEsaq</td>\n      <td>jySVZNlOJy</td>\n      <td>NaN</td>\n      <td>NaN</td>\n      <td>xb3V</td>\n      <td>RAYp</td>\n      <td>F2FyR07IdsN7I</td>\n      <td>NaN</td>\n      <td>NaN</td>\n      <td>0</td>\n    </tr>\n    <tr>\n      <th>1</th>\n      <td>NaN</td>\n      <td>NaN</td>\n      <td>NaN</td>\n      <td>NaN</td>\n      <td>NaN</td>\n      <td>525.0</td>\n      <td>0.0</td>\n      <td>NaN</td>\n      <td>NaN</td>\n      <td>NaN</td>\n      <td>...</td>\n      <td>2Kb5FSF</td>\n      <td>LM8l689qOp</td>\n      <td>NaN</td>\n      <td>NaN</td>\n      <td>fKCe</td>\n      <td>RAYp</td>\n      <td>F2FyR07IdsN7I</td>\n      <td>NaN</td>\n      <td>NaN</td>\n      <td>1</td>\n    </tr>\n    <tr>\n      <th>2</th>\n      <td>NaN</td>\n      <td>NaN</td>\n      <td>NaN</td>\n      <td>NaN</td>\n      <td>NaN</td>\n      <td>5236.0</td>\n      <td>7.0</td>\n      <td>NaN</td>\n      <td>NaN</td>\n      <td>NaN</td>\n      <td>...</td>\n      <td>NKv4yOc</td>\n      <td>jySVZNlOJy</td>\n      <td>NaN</td>\n      <td>kG3k</td>\n      <td>Qu4f</td>\n      <td>02N6s8f</td>\n      <td>ib5G6X1eUxUn6</td>\n      <td>am7c</td>\n      <td>NaN</td>\n      <td>2</td>\n    </tr>\n    <tr>\n      <th>3</th>\n      <td>NaN</td>\n      <td>NaN</td>\n      <td>NaN</td>\n      <td>NaN</td>\n      <td>NaN</td>\n      <td>1029.0</td>\n      <td>7.0</td>\n      <td>NaN</td>\n      <td>NaN</td>\n      <td>NaN</td>\n      <td>...</td>\n      <td>1J2cvxe</td>\n      <td>LM8l689qOp</td>\n      <td>NaN</td>\n      <td>kG3k</td>\n      <td>FSa2</td>\n      <td>RAYp</td>\n      <td>F2FyR07IdsN7I</td>\n      <td>mj86</td>\n      <td>NaN</td>\n      <td>4</td>\n    </tr>\n    <tr>\n      <th>4</th>\n      <td>NaN</td>\n      <td>NaN</td>\n      <td>NaN</td>\n      <td>NaN</td>\n      <td>NaN</td>\n      <td>658.0</td>\n      <td>7.0</td>\n      <td>NaN</td>\n      <td>NaN</td>\n      <td>NaN</td>\n      <td>...</td>\n      <td>QqVuch3</td>\n      <td>LM8l689qOp</td>\n      <td>NaN</td>\n      <td>NaN</td>\n      <td>Qcbd</td>\n      <td>02N6s8f</td>\n      <td>Zy3gnGM</td>\n      <td>am7c</td>\n      <td>NaN</td>\n      <td>5</td>\n    </tr>\n  </tbody>\n</table>\n<p>5 rows × 231 columns</p>\n</div>"
     },
     "execution_count": 8,
     "metadata": {},
     "output_type": "execute_result"
    }
   ],
   "source": [
    "d_train.head()"
   ]
  },
  {
   "cell_type": "code",
   "execution_count": 9,
   "metadata": {},
   "outputs": [
    {
     "data": {
      "text/plain": "(45000, 231)"
     },
     "execution_count": 9,
     "metadata": {},
     "output_type": "execute_result"
    }
   ],
   "source": [
    "d_train.shape"
   ]
  },
  {
   "cell_type": "markdown",
   "metadata": {},
   "source": [
    "Try building a model directly off this data (this will fail, though some systems such as xgboost can manage the categorical variables if options are set)."
   ]
  },
  {
   "cell_type": "code",
   "execution_count": 10,
   "metadata": {},
   "outputs": [
    {
     "name": "stdout",
     "output_type": "stream",
     "text": [
      "DataFrame.dtypes for data must be int, float, bool or categorical.  When\n",
      "                categorical type is supplied, DMatrix parameter\n",
      "                `enable_categorical` must be set to `True`.Var191, Var192, Var193, Var194, Var195, Var196, Var197, Var198, Var199, Var200, Var201, Var202, Var203, Var204, Var205, Var206, Var207, Var208, Var210, Var211, Var212, Var213, Var214, Var215, Var216, Var217, Var218, Var219, Var220, Var221, Var222, Var223, Var224, Var225, Var226, Var227, Var228, Var229\n"
     ]
    },
    {
     "name": "stderr",
     "output_type": "stream",
     "text": [
      "/Users/johnmount/opt/anaconda3/envs/ai_academy_3_9/lib/python3.9/site-packages/xgboost/sklearn.py:888: UserWarning: The use of label encoder in XGBClassifier is deprecated and will be removed in a future release. To remove this warning, do the following: 1) Pass option use_label_encoder=False when constructing XGBClassifier object; and 2) Encode your labels (y) as integers starting with 0, i.e. 0, 1, 2, ..., [num_class - 1].\n",
      "  warnings.warn(label_encoder_deprecation_msg, UserWarning)\n"
     ]
    }
   ],
   "source": [
    "fitter = xgboost.XGBClassifier(n_estimators=10, max_depth=3, objective='binary:logistic')\n",
    "try:\n",
    "    fitter.fit(d_train, churn_train)\n",
    "except Exception as ex:\n",
    "    print(ex)"
   ]
  },
  {
   "cell_type": "markdown",
   "metadata": {},
   "source": [
    "Let's quickly prepare a data frame with none of these issues."
   ]
  },
  {
   "cell_type": "markdown",
   "metadata": {},
   "source": [
    "We start by building our treatment plan, this has the `sklearn.pipeline.Pipeline` interfaces."
   ]
  },
  {
   "cell_type": "code",
   "execution_count": 11,
   "metadata": {},
   "outputs": [],
   "source": [
    "plan = vtreat.BinomialOutcomeTreatment(\n",
    "    outcome_target=True,\n",
    "    outcome_name='churn',\n",
    "    cols_to_copy=['orig_index'],\n",
    "    params=vtreat.vtreat_parameters({\n",
    "        'filter_to_recommended': True,\n",
    "        'sparse_indicators': True,\n",
    "    }))"
   ]
  },
  {
   "cell_type": "markdown",
   "metadata": {},
   "source": [
    "Use `.fit_transform()` to get a special copy of the treated training data that has cross-validated mitigations against nested model bias. We call this a \"cross frame.\" `.fit_transform()` is deliberately a different `DataFrame` than what would be returned by `.fit().transform()` (the `.fit().transform()` would damage the modeling effort due nested model bias, the `.fit_transform()` \"cross frame\" uses cross-validation techniques similar to \"stacking\" to mitigate these issues)."
   ]
  },
  {
   "cell_type": "code",
   "execution_count": 12,
   "metadata": {},
   "outputs": [],
   "source": [
    "cross_frame = plan.fit_transform(d_train, churn_train)"
   ]
  },
  {
   "cell_type": "markdown",
   "metadata": {},
   "source": [
    "Take a look at the new data.  This frame is guaranteed to be all numeric with no missing values, with the rows in the same order as the training data."
   ]
  },
  {
   "cell_type": "code",
   "execution_count": 13,
   "metadata": {},
   "outputs": [
    {
     "data": {
      "text/plain": "   orig_index  Var200_is_bad  Var229_is_bad  Var173_is_bad  Var126_is_bad  \\\n0           0            1.0            1.0            0.0            0.0   \n1           1            1.0            1.0            0.0            1.0   \n2           2            0.0            0.0            0.0            0.0   \n3           4            0.0            0.0            0.0            0.0   \n4           5            1.0            0.0            0.0            1.0   \n\n   Var28_is_bad  Var80_is_bad  Var103_is_bad  Var18_is_bad  Var122_is_bad  \\\n0           0.0           1.0            1.0           1.0            1.0   \n1           0.0           1.0            1.0           1.0            1.0   \n2           0.0           1.0            1.0           1.0            1.0   \n3           0.0           1.0            1.0           1.0            1.0   \n4           0.0           1.0            1.0           1.0            1.0   \n\n   ...  Var216_lev_XTbPUYD  Var216_lev_kZJyVg2  Var205_logit_code  \\\n0  ...                 1.0                 0.0          -0.089500   \n1  ...                 0.0                 1.0           0.557953   \n2  ...                 0.0                 0.0          -0.085068   \n3  ...                 0.0                 0.0           0.557953   \n4  ...                 0.0                 0.0          -0.092135   \n\n   Var205_prevalence_code  Var205_lev_VpdQ  Var205_lev_sJzTlal  \\\n0                0.638933              1.0                 0.0   \n1                0.090333              0.0                 1.0   \n2                0.638933              1.0                 0.0   \n3                0.090333              0.0                 1.0   \n4                0.638933              1.0                 0.0   \n\n   Var211_logit_code  Var211_prevalence_code  Var211_lev_L84s  Var211_lev_Mtgm  \n0           0.052341                0.806311              1.0              0.0  \n1           0.048288                0.806311              1.0              0.0  \n2           0.048288                0.806311              1.0              0.0  \n3           0.048288                0.806311              1.0              0.0  \n4           0.044866                0.806311              1.0              0.0  \n\n[5 rows x 262 columns]",
      "text/html": "<div>\n<style scoped>\n    .dataframe tbody tr th:only-of-type {\n        vertical-align: middle;\n    }\n\n    .dataframe tbody tr th {\n        vertical-align: top;\n    }\n\n    .dataframe thead th {\n        text-align: right;\n    }\n</style>\n<table border=\"1\" class=\"dataframe\">\n  <thead>\n    <tr style=\"text-align: right;\">\n      <th></th>\n      <th>orig_index</th>\n      <th>Var200_is_bad</th>\n      <th>Var229_is_bad</th>\n      <th>Var173_is_bad</th>\n      <th>Var126_is_bad</th>\n      <th>Var28_is_bad</th>\n      <th>Var80_is_bad</th>\n      <th>Var103_is_bad</th>\n      <th>Var18_is_bad</th>\n      <th>Var122_is_bad</th>\n      <th>...</th>\n      <th>Var216_lev_XTbPUYD</th>\n      <th>Var216_lev_kZJyVg2</th>\n      <th>Var205_logit_code</th>\n      <th>Var205_prevalence_code</th>\n      <th>Var205_lev_VpdQ</th>\n      <th>Var205_lev_sJzTlal</th>\n      <th>Var211_logit_code</th>\n      <th>Var211_prevalence_code</th>\n      <th>Var211_lev_L84s</th>\n      <th>Var211_lev_Mtgm</th>\n    </tr>\n  </thead>\n  <tbody>\n    <tr>\n      <th>0</th>\n      <td>0</td>\n      <td>1.0</td>\n      <td>1.0</td>\n      <td>0.0</td>\n      <td>0.0</td>\n      <td>0.0</td>\n      <td>1.0</td>\n      <td>1.0</td>\n      <td>1.0</td>\n      <td>1.0</td>\n      <td>...</td>\n      <td>1.0</td>\n      <td>0.0</td>\n      <td>-0.089500</td>\n      <td>0.638933</td>\n      <td>1.0</td>\n      <td>0.0</td>\n      <td>0.052341</td>\n      <td>0.806311</td>\n      <td>1.0</td>\n      <td>0.0</td>\n    </tr>\n    <tr>\n      <th>1</th>\n      <td>1</td>\n      <td>1.0</td>\n      <td>1.0</td>\n      <td>0.0</td>\n      <td>1.0</td>\n      <td>0.0</td>\n      <td>1.0</td>\n      <td>1.0</td>\n      <td>1.0</td>\n      <td>1.0</td>\n      <td>...</td>\n      <td>0.0</td>\n      <td>1.0</td>\n      <td>0.557953</td>\n      <td>0.090333</td>\n      <td>0.0</td>\n      <td>1.0</td>\n      <td>0.048288</td>\n      <td>0.806311</td>\n      <td>1.0</td>\n      <td>0.0</td>\n    </tr>\n    <tr>\n      <th>2</th>\n      <td>2</td>\n      <td>0.0</td>\n      <td>0.0</td>\n      <td>0.0</td>\n      <td>0.0</td>\n      <td>0.0</td>\n      <td>1.0</td>\n      <td>1.0</td>\n      <td>1.0</td>\n      <td>1.0</td>\n      <td>...</td>\n      <td>0.0</td>\n      <td>0.0</td>\n      <td>-0.085068</td>\n      <td>0.638933</td>\n      <td>1.0</td>\n      <td>0.0</td>\n      <td>0.048288</td>\n      <td>0.806311</td>\n      <td>1.0</td>\n      <td>0.0</td>\n    </tr>\n    <tr>\n      <th>3</th>\n      <td>4</td>\n      <td>0.0</td>\n      <td>0.0</td>\n      <td>0.0</td>\n      <td>0.0</td>\n      <td>0.0</td>\n      <td>1.0</td>\n      <td>1.0</td>\n      <td>1.0</td>\n      <td>1.0</td>\n      <td>...</td>\n      <td>0.0</td>\n      <td>0.0</td>\n      <td>0.557953</td>\n      <td>0.090333</td>\n      <td>0.0</td>\n      <td>1.0</td>\n      <td>0.048288</td>\n      <td>0.806311</td>\n      <td>1.0</td>\n      <td>0.0</td>\n    </tr>\n    <tr>\n      <th>4</th>\n      <td>5</td>\n      <td>1.0</td>\n      <td>0.0</td>\n      <td>0.0</td>\n      <td>1.0</td>\n      <td>0.0</td>\n      <td>1.0</td>\n      <td>1.0</td>\n      <td>1.0</td>\n      <td>1.0</td>\n      <td>...</td>\n      <td>0.0</td>\n      <td>0.0</td>\n      <td>-0.092135</td>\n      <td>0.638933</td>\n      <td>1.0</td>\n      <td>0.0</td>\n      <td>0.044866</td>\n      <td>0.806311</td>\n      <td>1.0</td>\n      <td>0.0</td>\n    </tr>\n  </tbody>\n</table>\n<p>5 rows × 262 columns</p>\n</div>"
     },
     "execution_count": 13,
     "metadata": {},
     "output_type": "execute_result"
    }
   ],
   "source": [
    "cross_frame.head()"
   ]
  },
  {
   "cell_type": "code",
   "execution_count": 14,
   "metadata": {},
   "outputs": [
    {
     "data": {
      "text/plain": "(45000, 262)"
     },
     "execution_count": 14,
     "metadata": {},
     "output_type": "execute_result"
    }
   ],
   "source": [
    "cross_frame.shape"
   ]
  },
  {
   "cell_type": "markdown",
   "metadata": {},
   "source": [
    "Pick a recommended subset of the new derived variables."
   ]
  },
  {
   "cell_type": "code",
   "execution_count": 15,
   "metadata": {},
   "outputs": [
    {
     "data": {
      "text/plain": "        variable orig_variable          treatment  y_aware  has_range  \\\n0  Var200_is_bad        Var200  missing_indicator    False       True   \n1  Var229_is_bad        Var229  missing_indicator    False       True   \n2  Var173_is_bad        Var173  missing_indicator    False       True   \n3  Var126_is_bad        Var126  missing_indicator    False       True   \n4   Var28_is_bad         Var28  missing_indicator    False       True   \n\n   PearsonR        R2  significance  vcount  default_threshold  recommended  \n0  0.053420  0.005481  0.000000e+00   193.0           0.001036         True  \n1  0.060817  0.007239  0.000000e+00   193.0           0.001036         True  \n2 -0.031791  0.002143  1.127320e-12   193.0           0.001036         True  \n3  0.087459  0.013544  0.000000e+00   193.0           0.001036         True  \n4 -0.031826  0.002148  1.061484e-12   193.0           0.001036         True  ",
      "text/html": "<div>\n<style scoped>\n    .dataframe tbody tr th:only-of-type {\n        vertical-align: middle;\n    }\n\n    .dataframe tbody tr th {\n        vertical-align: top;\n    }\n\n    .dataframe thead th {\n        text-align: right;\n    }\n</style>\n<table border=\"1\" class=\"dataframe\">\n  <thead>\n    <tr style=\"text-align: right;\">\n      <th></th>\n      <th>variable</th>\n      <th>orig_variable</th>\n      <th>treatment</th>\n      <th>y_aware</th>\n      <th>has_range</th>\n      <th>PearsonR</th>\n      <th>R2</th>\n      <th>significance</th>\n      <th>vcount</th>\n      <th>default_threshold</th>\n      <th>recommended</th>\n    </tr>\n  </thead>\n  <tbody>\n    <tr>\n      <th>0</th>\n      <td>Var200_is_bad</td>\n      <td>Var200</td>\n      <td>missing_indicator</td>\n      <td>False</td>\n      <td>True</td>\n      <td>0.053420</td>\n      <td>0.005481</td>\n      <td>0.000000e+00</td>\n      <td>193.0</td>\n      <td>0.001036</td>\n      <td>True</td>\n    </tr>\n    <tr>\n      <th>1</th>\n      <td>Var229_is_bad</td>\n      <td>Var229</td>\n      <td>missing_indicator</td>\n      <td>False</td>\n      <td>True</td>\n      <td>0.060817</td>\n      <td>0.007239</td>\n      <td>0.000000e+00</td>\n      <td>193.0</td>\n      <td>0.001036</td>\n      <td>True</td>\n    </tr>\n    <tr>\n      <th>2</th>\n      <td>Var173_is_bad</td>\n      <td>Var173</td>\n      <td>missing_indicator</td>\n      <td>False</td>\n      <td>True</td>\n      <td>-0.031791</td>\n      <td>0.002143</td>\n      <td>1.127320e-12</td>\n      <td>193.0</td>\n      <td>0.001036</td>\n      <td>True</td>\n    </tr>\n    <tr>\n      <th>3</th>\n      <td>Var126_is_bad</td>\n      <td>Var126</td>\n      <td>missing_indicator</td>\n      <td>False</td>\n      <td>True</td>\n      <td>0.087459</td>\n      <td>0.013544</td>\n      <td>0.000000e+00</td>\n      <td>193.0</td>\n      <td>0.001036</td>\n      <td>True</td>\n    </tr>\n    <tr>\n      <th>4</th>\n      <td>Var28_is_bad</td>\n      <td>Var28</td>\n      <td>missing_indicator</td>\n      <td>False</td>\n      <td>True</td>\n      <td>-0.031826</td>\n      <td>0.002148</td>\n      <td>1.061484e-12</td>\n      <td>193.0</td>\n      <td>0.001036</td>\n      <td>True</td>\n    </tr>\n  </tbody>\n</table>\n</div>"
     },
     "execution_count": 15,
     "metadata": {},
     "output_type": "execute_result"
    }
   ],
   "source": [
    "plan.score_frame_.head()"
   ]
  },
  {
   "cell_type": "code",
   "execution_count": 16,
   "outputs": [
    {
     "data": {
      "text/plain": "missing_indicator    124\nindicator_code        63\nlogit_code            31\nprevalence_code       30\nclean_copy            13\nName: treatment, dtype: int64"
     },
     "execution_count": 16,
     "metadata": {},
     "output_type": "execute_result"
    }
   ],
   "source": [
    "rec = plan.score_frame_.loc[plan.score_frame_.recommended, :]\n",
    "rec.treatment.value_counts()"
   ],
   "metadata": {
    "collapsed": false,
    "pycharm": {
     "name": "#%%\n"
    }
   }
  },
  {
   "cell_type": "code",
   "execution_count": 17,
   "metadata": {},
   "outputs": [
    {
     "data": {
      "text/plain": "261"
     },
     "execution_count": 17,
     "metadata": {},
     "output_type": "execute_result"
    }
   ],
   "source": [
    "model_vars = numpy.asarray(plan.score_frame_[\"variable\"][plan.score_frame_[\"recommended\"]])\n",
    "len(model_vars)"
   ]
  },
  {
   "cell_type": "markdown",
   "metadata": {},
   "source": [
    "Fit the model"
   ]
  },
  {
   "cell_type": "code",
   "execution_count": 18,
   "metadata": {
    "collapsed": false,
    "jupyter": {
     "outputs_hidden": false
    },
    "pycharm": {
     "name": "#%%\n"
    }
   },
   "outputs": [
    {
     "data": {
      "text/plain": "orig_index                               int64\nVar200_is_bad                          float64\nVar229_is_bad                          float64\nVar173_is_bad                          float64\nVar126_is_bad                          float64\n                                  ...         \nVar205_lev_sJzTlal        Sparse[float64, 0.0]\nVar211_logit_code                      float64\nVar211_prevalence_code                 float64\nVar211_lev_L84s           Sparse[float64, 0.0]\nVar211_lev_Mtgm           Sparse[float64, 0.0]\nLength: 262, dtype: object"
     },
     "execution_count": 18,
     "metadata": {},
     "output_type": "execute_result"
    }
   ],
   "source": [
    "cross_frame.dtypes"
   ]
  },
  {
   "cell_type": "code",
   "execution_count": 19,
   "metadata": {},
   "outputs": [],
   "source": [
    "# used to fail due to sparse columns\n",
    "# can also work around this by setting the vtreat parameter 'sparse_indicators' to False\n",
    "try:\n",
    "    cross_sparse = xgboost.DMatrix(data=cross_frame.loc[:, model_vars], label=churn_train)\n",
    "except Exception as ex:\n",
    "    print(ex)\n"
   ]
  },
  {
   "cell_type": "code",
   "execution_count": 20,
   "metadata": {},
   "outputs": [],
   "source": [
    "# works\n",
    "cross_sparse = scipy.sparse.hstack([scipy.sparse.csc_matrix(cross_frame[[vi]]) for vi in model_vars])"
   ]
  },
  {
   "cell_type": "code",
   "execution_count": 21,
   "metadata": {},
   "outputs": [],
   "source": [
    "# https://xgboost.readthedocs.io/en/latest/python/python_intro.html\n",
    "fd = xgboost.DMatrix(\n",
    "    data=cross_sparse, \n",
    "    label=churn_train)"
   ]
  },
  {
   "cell_type": "code",
   "execution_count": 22,
   "metadata": {
    "collapsed": false,
    "jupyter": {
     "outputs_hidden": false
    },
    "pycharm": {
     "name": "#%%\n"
    }
   },
   "outputs": [],
   "source": [
    "x_parameters = {\"max_depth\":3, \"objective\":'binary:logistic', \"eval_metric\": 'logloss'}\n",
    "cv = xgboost.cv(x_parameters, fd, num_boost_round=100, verbose_eval=False)"
   ]
  },
  {
   "cell_type": "code",
   "execution_count": 23,
   "metadata": {},
   "outputs": [
    {
     "data": {
      "text/plain": "   train-logloss-mean  train-logloss-std  test-logloss-mean  test-logloss-std\n0            0.504877           0.000578           0.505220          0.000470\n1            0.403280           0.000908           0.403878          0.000910\n2            0.342651           0.001112           0.343521          0.001248\n3            0.304941           0.001207           0.305873          0.001544\n4            0.280804           0.001457           0.282187          0.001664",
      "text/html": "<div>\n<style scoped>\n    .dataframe tbody tr th:only-of-type {\n        vertical-align: middle;\n    }\n\n    .dataframe tbody tr th {\n        vertical-align: top;\n    }\n\n    .dataframe thead th {\n        text-align: right;\n    }\n</style>\n<table border=\"1\" class=\"dataframe\">\n  <thead>\n    <tr style=\"text-align: right;\">\n      <th></th>\n      <th>train-logloss-mean</th>\n      <th>train-logloss-std</th>\n      <th>test-logloss-mean</th>\n      <th>test-logloss-std</th>\n    </tr>\n  </thead>\n  <tbody>\n    <tr>\n      <th>0</th>\n      <td>0.504877</td>\n      <td>0.000578</td>\n      <td>0.505220</td>\n      <td>0.000470</td>\n    </tr>\n    <tr>\n      <th>1</th>\n      <td>0.403280</td>\n      <td>0.000908</td>\n      <td>0.403878</td>\n      <td>0.000910</td>\n    </tr>\n    <tr>\n      <th>2</th>\n      <td>0.342651</td>\n      <td>0.001112</td>\n      <td>0.343521</td>\n      <td>0.001248</td>\n    </tr>\n    <tr>\n      <th>3</th>\n      <td>0.304941</td>\n      <td>0.001207</td>\n      <td>0.305873</td>\n      <td>0.001544</td>\n    </tr>\n    <tr>\n      <th>4</th>\n      <td>0.280804</td>\n      <td>0.001457</td>\n      <td>0.282187</td>\n      <td>0.001664</td>\n    </tr>\n  </tbody>\n</table>\n</div>"
     },
     "execution_count": 23,
     "metadata": {},
     "output_type": "execute_result"
    }
   ],
   "source": [
    "cv.head()"
   ]
  },
  {
   "cell_type": "code",
   "execution_count": 24,
   "metadata": {},
   "outputs": [
    {
     "data": {
      "text/plain": "    train-logloss-mean  train-logloss-std  test-logloss-mean  test-logloss-std\n37            0.219201           0.001839           0.234312          0.002437",
      "text/html": "<div>\n<style scoped>\n    .dataframe tbody tr th:only-of-type {\n        vertical-align: middle;\n    }\n\n    .dataframe tbody tr th {\n        vertical-align: top;\n    }\n\n    .dataframe thead th {\n        text-align: right;\n    }\n</style>\n<table border=\"1\" class=\"dataframe\">\n  <thead>\n    <tr style=\"text-align: right;\">\n      <th></th>\n      <th>train-logloss-mean</th>\n      <th>train-logloss-std</th>\n      <th>test-logloss-mean</th>\n      <th>test-logloss-std</th>\n    </tr>\n  </thead>\n  <tbody>\n    <tr>\n      <th>37</th>\n      <td>0.219201</td>\n      <td>0.001839</td>\n      <td>0.234312</td>\n      <td>0.002437</td>\n    </tr>\n  </tbody>\n</table>\n</div>"
     },
     "execution_count": 24,
     "metadata": {},
     "output_type": "execute_result"
    }
   ],
   "source": [
    "best = cv.loc[cv[\"test-logloss-mean\"]<= min(cv[\"test-logloss-mean\"] + 1.0e-9), :]\n",
    "best\n",
    "\n"
   ]
  },
  {
   "cell_type": "code",
   "execution_count": 25,
   "metadata": {},
   "outputs": [
    {
     "data": {
      "text/plain": "37"
     },
     "execution_count": 25,
     "metadata": {},
     "output_type": "execute_result"
    }
   ],
   "source": [
    "ntree = best.index.values[0]\n",
    "ntree"
   ]
  },
  {
   "cell_type": "code",
   "execution_count": 26,
   "metadata": {},
   "outputs": [
    {
     "data": {
      "text/plain": "XGBClassifier(base_score=None, booster=None, colsample_bylevel=None,\n              colsample_bynode=None, colsample_bytree=None, gamma=None,\n              gpu_id=None, importance_type='gain', interaction_constraints=None,\n              learning_rate=None, max_delta_step=None, max_depth=3,\n              min_child_weight=None, missing=nan, monotone_constraints=None,\n              n_estimators=37, n_jobs=None, num_parallel_tree=None,\n              random_state=None, reg_alpha=None, reg_lambda=None,\n              scale_pos_weight=None, subsample=None, tree_method=None,\n              validate_parameters=None, verbosity=None)"
     },
     "execution_count": 26,
     "metadata": {},
     "output_type": "execute_result"
    }
   ],
   "source": [
    "fitter = xgboost.XGBClassifier(n_estimators=ntree, max_depth=3, objective='binary:logistic')\n",
    "fitter"
   ]
  },
  {
   "cell_type": "code",
   "execution_count": 27,
   "metadata": {},
   "outputs": [
    {
     "name": "stderr",
     "output_type": "stream",
     "text": [
      "/Users/johnmount/opt/anaconda3/envs/ai_academy_3_9/lib/python3.9/site-packages/xgboost/sklearn.py:888: UserWarning: The use of label encoder in XGBClassifier is deprecated and will be removed in a future release. To remove this warning, do the following: 1) Pass option use_label_encoder=False when constructing XGBClassifier object; and 2) Encode your labels (y) as integers starting with 0, i.e. 0, 1, 2, ..., [num_class - 1].\n",
      "  warnings.warn(label_encoder_deprecation_msg, UserWarning)\n"
     ]
    },
    {
     "name": "stdout",
     "output_type": "stream",
     "text": [
      "[11:12:38] WARNING: /opt/concourse/worker/volumes/live/7a2b9f41-3287-451b-6691-43e9a6c0910f/volume/xgboost-split_1619728204606/work/src/learner.cc:1061: Starting in XGBoost 1.3.0, the default evaluation metric used with the objective 'binary:logistic' was changed from 'error' to 'logloss'. Explicitly set eval_metric if you'd like to restore the old behavior.\n"
     ]
    }
   ],
   "source": [
    "model = fitter.fit(cross_sparse, churn_train)"
   ]
  },
  {
   "cell_type": "markdown",
   "metadata": {},
   "source": [
    "Apply the data transform to our held-out data."
   ]
  },
  {
   "cell_type": "code",
   "execution_count": 28,
   "metadata": {},
   "outputs": [],
   "source": [
    "test_processed = plan.transform(d_test)"
   ]
  },
  {
   "cell_type": "markdown",
   "metadata": {},
   "source": [
    "Plot the quality of the model on training data (a biased measure of performance)."
   ]
  },
  {
   "cell_type": "code",
   "execution_count": 29,
   "metadata": {},
   "outputs": [
    {
     "data": {
      "text/plain": "<Figure size 432x288 with 0 Axes>"
     },
     "metadata": {},
     "output_type": "display_data"
    },
    {
     "data": {
      "text/plain": "<Figure size 432x288 with 1 Axes>",
      "image/png": "[encoded data removed]"
     },
     "metadata": {
      "needs_background": "light"
     },
     "output_type": "display_data"
    },
    {
     "data": {
      "text/plain": "0.7818122720918934"
     },
     "execution_count": 29,
     "metadata": {},
     "output_type": "execute_result"
    }
   ],
   "source": [
    "pf_train = pandas.DataFrame({\"churn\":churn_train})\n",
    "pf_train[\"pred\"] = model.predict_proba(cross_sparse)[:, 1]\n",
    "wvpy.util.plot_roc(pf_train[\"pred\"], pf_train[\"churn\"], title=\"Model on Train\")"
   ]
  },
  {
   "cell_type": "markdown",
   "metadata": {},
   "source": [
    "Plot the quality of the model score on the held-out data.  This AUC is not great, but in the ballpark of the original contest winners."
   ]
  },
  {
   "cell_type": "code",
   "execution_count": 30,
   "metadata": {},
   "outputs": [
    {
     "data": {
      "text/plain": "<Figure size 432x288 with 0 Axes>"
     },
     "metadata": {},
     "output_type": "display_data"
    },
    {
     "data": {
      "text/plain": "<Figure size 432x288 with 1 Axes>",
      "image/png": "[encoded data removed]"
     },
     "metadata": {
      "needs_background": "light"
     },
     "output_type": "display_data"
    },
    {
     "data": {
      "text/plain": "0.7311771325443766"
     },
     "execution_count": 30,
     "metadata": {},
     "output_type": "execute_result"
    }
   ],
   "source": [
    "test_sparse = scipy.sparse.hstack([scipy.sparse.csc_matrix(test_processed[[vi]]) for vi in model_vars])\n",
    "pf = pandas.DataFrame({\"churn\":churn_test})\n",
    "pf[\"pred\"] = model.predict_proba(test_sparse)[:, 1]\n",
    "wvpy.util.plot_roc(pf[\"pred\"], pf[\"churn\"], title=\"Model on Test\")"
   ]
  },
  {
   "cell_type": "markdown",
   "metadata": {},
   "source": [
    "Notice we dealt with many problem columns at once, and in a statistically sound manner. More on the `vtreat` package for Python can be found here: [https://github.com/WinVector/pyvtreat](https://github.com/WinVector/pyvtreat).  Details on the `R` version can be found here: [https://github.com/WinVector/vtreat](https://github.com/WinVector/vtreat)."
   ]
  },
  {
   "cell_type": "markdown",
   "metadata": {},
   "source": [
    "We can compare this to the [R solution (link)](https://github.com/WinVector/PDSwR2/blob/master/KDD2009/KDD2009vtreat.md)."
   ]
  },
  {
   "cell_type": "markdown",
   "metadata": {},
   "source": [
    "We can compare the above cross-frame solution to a naive \"design transform and model on the same data set\" solution as we show below.  Note we are leaveing filter to recommended on, to show the non-cross validated methodology still fails in an \"easy case.\""
   ]
  },
  {
   "cell_type": "code",
   "execution_count": 31,
   "metadata": {},
   "outputs": [
    {
     "name": "stderr",
     "output_type": "stream",
     "text": [
      "/Users/johnmount/Documents/work/pyvtreat/pkg/vtreat/vtreat_api.py:356: UserWarning: possibly called transform on same data used to fit\n",
      "(this causes over-fit, please use fit_transform() instead)\n",
      "  warnings.warn(\n"
     ]
    }
   ],
   "source": [
    "plan_naive = vtreat.BinomialOutcomeTreatment(\n",
    "    outcome_target=True,              \n",
    "    params=vtreat.vtreat_parameters({'filter_to_recommended':True}))\n",
    "plan_naive.fit(d_train, churn_train)\n",
    "naive_frame = plan_naive.transform(d_train)"
   ]
  },
  {
   "cell_type": "code",
   "execution_count": 32,
   "metadata": {},
   "outputs": [
    {
     "data": {
      "text/plain": "257"
     },
     "execution_count": 32,
     "metadata": {},
     "output_type": "execute_result"
    }
   ],
   "source": [
    "model_vars = numpy.asarray(plan_naive.score_frame_[\"variable\"][plan_naive.score_frame_[\"recommended\"]])\n",
    "len(model_vars)"
   ]
  },
  {
   "cell_type": "code",
   "execution_count": 33,
   "metadata": {},
   "outputs": [],
   "source": [
    "naive_sparse = scipy.sparse.hstack([scipy.sparse.csc_matrix(naive_frame[[vi]]) for vi in model_vars])"
   ]
  },
  {
   "cell_type": "code",
   "execution_count": 34,
   "metadata": {},
   "outputs": [
    {
     "name": "stdout",
     "output_type": "stream",
     "text": [
      "[11:13:17] WARNING: /opt/concourse/worker/volumes/live/7a2b9f41-3287-451b-6691-43e9a6c0910f/volume/xgboost-split_1619728204606/work/src/learner.cc:1061: Starting in XGBoost 1.3.0, the default evaluation metric used with the objective 'binary:logistic' was changed from 'error' to 'logloss'. Explicitly set eval_metric if you'd like to restore the old behavior.\n",
      "[11:13:17] WARNING: /opt/concourse/worker/volumes/live/7a2b9f41-3287-451b-6691-43e9a6c0910f/volume/xgboost-split_1619728204606/work/src/learner.cc:1061: Starting in XGBoost 1.3.0, the default evaluation metric used with the objective 'binary:logistic' was changed from 'error' to 'logloss'. Explicitly set eval_metric if you'd like to restore the old behavior.\n",
      "[11:13:17] WARNING: /opt/concourse/worker/volumes/live/7a2b9f41-3287-451b-6691-43e9a6c0910f/volume/xgboost-split_1619728204606/work/src/learner.cc:1061: Starting in XGBoost 1.3.0, the default evaluation metric used with the objective 'binary:logistic' was changed from 'error' to 'logloss'. Explicitly set eval_metric if you'd like to restore the old behavior.\n"
     ]
    }
   ],
   "source": [
    "fd_naive = xgboost.DMatrix(data=naive_sparse, label=churn_train)\n",
    "x_parameters = {\"max_depth\":3, \"objective\":'binary:logistic'}\n",
    "cvn = xgboost.cv(x_parameters, fd_naive, num_boost_round=100, verbose_eval=False)"
   ]
  },
  {
   "cell_type": "code",
   "execution_count": 35,
   "metadata": {},
   "outputs": [
    {
     "data": {
      "text/plain": "    train-logloss-mean  train-logloss-std  test-logloss-mean  test-logloss-std\n98            0.116698           0.001266           0.137995          0.001881",
      "text/html": "<div>\n<style scoped>\n    .dataframe tbody tr th:only-of-type {\n        vertical-align: middle;\n    }\n\n    .dataframe tbody tr th {\n        vertical-align: top;\n    }\n\n    .dataframe thead th {\n        text-align: right;\n    }\n</style>\n<table border=\"1\" class=\"dataframe\">\n  <thead>\n    <tr style=\"text-align: right;\">\n      <th></th>\n      <th>train-logloss-mean</th>\n      <th>train-logloss-std</th>\n      <th>test-logloss-mean</th>\n      <th>test-logloss-std</th>\n    </tr>\n  </thead>\n  <tbody>\n    <tr>\n      <th>98</th>\n      <td>0.116698</td>\n      <td>0.001266</td>\n      <td>0.137995</td>\n      <td>0.001881</td>\n    </tr>\n  </tbody>\n</table>\n</div>"
     },
     "execution_count": 35,
     "metadata": {},
     "output_type": "execute_result"
    }
   ],
   "source": [
    "bestn = cvn.loc[cvn[\"test-logloss-mean\"] <= min(cvn[\"test-logloss-mean\"] + 1.0e-9), :]\n",
    "bestn"
   ]
  },
  {
   "cell_type": "code",
   "execution_count": 36,
   "metadata": {},
   "outputs": [
    {
     "data": {
      "text/plain": "98"
     },
     "execution_count": 36,
     "metadata": {},
     "output_type": "execute_result"
    }
   ],
   "source": [
    "ntreen = bestn.index.values[0]\n",
    "ntreen"
   ]
  },
  {
   "cell_type": "code",
   "execution_count": 37,
   "metadata": {},
   "outputs": [
    {
     "data": {
      "text/plain": "XGBClassifier(base_score=None, booster=None, colsample_bylevel=None,\n              colsample_bynode=None, colsample_bytree=None, gamma=None,\n              gpu_id=None, importance_type='gain', interaction_constraints=None,\n              learning_rate=None, max_delta_step=None, max_depth=3,\n              min_child_weight=None, missing=nan, monotone_constraints=None,\n              n_estimators=98, n_jobs=None, num_parallel_tree=None,\n              random_state=None, reg_alpha=None, reg_lambda=None,\n              scale_pos_weight=None, subsample=None, tree_method=None,\n              validate_parameters=None, verbosity=None)"
     },
     "execution_count": 37,
     "metadata": {},
     "output_type": "execute_result"
    }
   ],
   "source": [
    "fittern = xgboost.XGBClassifier(n_estimators=ntreen, max_depth=3, objective='binary:logistic')\n",
    "fittern"
   ]
  },
  {
   "cell_type": "code",
   "execution_count": 38,
   "metadata": {},
   "outputs": [
    {
     "name": "stderr",
     "output_type": "stream",
     "text": [
      "/Users/johnmount/opt/anaconda3/envs/ai_academy_3_9/lib/python3.9/site-packages/xgboost/sklearn.py:888: UserWarning: The use of label encoder in XGBClassifier is deprecated and will be removed in a future release. To remove this warning, do the following: 1) Pass option use_label_encoder=False when constructing XGBClassifier object; and 2) Encode your labels (y) as integers starting with 0, i.e. 0, 1, 2, ..., [num_class - 1].\n",
      "  warnings.warn(label_encoder_deprecation_msg, UserWarning)\n"
     ]
    },
    {
     "name": "stdout",
     "output_type": "stream",
     "text": [
      "[11:13:26] WARNING: /opt/concourse/worker/volumes/live/7a2b9f41-3287-451b-6691-43e9a6c0910f/volume/xgboost-split_1619728204606/work/src/learner.cc:1061: Starting in XGBoost 1.3.0, the default evaluation metric used with the objective 'binary:logistic' was changed from 'error' to 'logloss'. Explicitly set eval_metric if you'd like to restore the old behavior.\n"
     ]
    }
   ],
   "source": [
    "modeln = fittern.fit(naive_sparse, churn_train)"
   ]
  },
  {
   "cell_type": "code",
   "execution_count": 39,
   "metadata": {},
   "outputs": [],
   "source": [
    "test_processedn = plan_naive.transform(d_test)\n",
    "test_processedn = scipy.sparse.hstack([scipy.sparse.csc_matrix(test_processedn[[vi]]) for vi in model_vars])"
   ]
  },
  {
   "cell_type": "code",
   "execution_count": 40,
   "metadata": {},
   "outputs": [
    {
     "data": {
      "text/plain": "<Figure size 432x288 with 0 Axes>"
     },
     "metadata": {},
     "output_type": "display_data"
    },
    {
     "data": {
      "text/plain": "<Figure size 432x288 with 1 Axes>",
      "image/png": "[encoded data removed]"
     },
     "metadata": {
      "needs_background": "light"
     },
     "output_type": "display_data"
    },
    {
     "data": {
      "text/plain": "0.9604501873589704"
     },
     "execution_count": 40,
     "metadata": {},
     "output_type": "execute_result"
    }
   ],
   "source": [
    "pfn_train = pandas.DataFrame({\"churn\":churn_train})\n",
    "pfn_train[\"pred_naive\"] = modeln.predict_proba(naive_sparse)[:, 1]\n",
    "wvpy.util.plot_roc(pfn_train[\"pred_naive\"], pfn_train[\"churn\"], title=\"Overfit Model on Train\")"
   ]
  },
  {
   "cell_type": "code",
   "execution_count": 41,
   "metadata": {},
   "outputs": [
    {
     "data": {
      "text/plain": "<Figure size 432x288 with 0 Axes>"
     },
     "metadata": {},
     "output_type": "display_data"
    },
    {
     "data": {
      "text/plain": "<Figure size 432x288 with 1 Axes>",
      "image/png": "[encoded data removed]"
     },
     "metadata": {
      "needs_background": "light"
     },
     "output_type": "display_data"
    },
    {
     "data": {
      "text/plain": "0.5998324008288668"
     },
     "execution_count": 41,
     "metadata": {},
     "output_type": "execute_result"
    }
   ],
   "source": [
    "pfn = pandas.DataFrame({\"churn\":churn_test})\n",
    "pfn[\"pred_naive\"] = modeln.predict_proba(test_processedn)[:, 1]\n",
    "wvpy.util.plot_roc(pfn[\"pred_naive\"], pfn[\"churn\"], title=\"Overfit Model on Test\")"
   ]
  },
  {
   "cell_type": "markdown",
   "metadata": {},
   "source": [
    "Note the naive test performance is worse, despite its far better training performance.  This is over-fit due to the nested model bias of using the same data to build the treatment plan and model without any cross-frame mitigations.\n"
   ]
  },
  {
   "cell_type": "markdown",
   "source": [
    "## Additional experiments\n",
    "\n",
    "### data_algebra pipeline"
   ],
   "metadata": {
    "collapsed": false,
    "pycharm": {
     "name": "#%% md\n"
    }
   }
  },
  {
   "cell_type": "code",
   "execution_count": 42,
   "outputs": [
    {
     "data": {
      "text/plain": "                 treatment_class          treatment orig_var  \\\n0       IndicateMissingTransform  missing_indicator   Var200   \n1       IndicateMissingTransform  missing_indicator   Var229   \n2       IndicateMissingTransform  missing_indicator   Var173   \n3       IndicateMissingTransform  missing_indicator   Var126   \n4       IndicateMissingTransform  missing_indicator    Var28   \n...                          ...                ...      ...   \n135865       MappedCodeTransform         logit_code   Var211   \n135866       MappedCodeTransform    prevalence_code   Var211   \n135867       MappedCodeTransform    prevalence_code   Var211   \n135868    IndicatorCodeTransform     indicator_code   Var211   \n135869    IndicatorCodeTransform     indicator_code   Var211   \n\n        orig_was_numeric                variable value  replacement  \n0                  False           Var200_is_bad  _NA_     1.000000  \n1                  False           Var229_is_bad  _NA_     1.000000  \n2                   True           Var173_is_bad  _NA_     1.000000  \n3                   True           Var126_is_bad  _NA_     1.000000  \n4                   True            Var28_is_bad  _NA_     1.000000  \n...                  ...                     ...   ...          ...  \n135865             False       Var211_logit_code  Mtgm    -0.237376  \n135866             False  Var211_prevalence_code  L84s     0.806311  \n135867             False  Var211_prevalence_code  Mtgm     0.193689  \n135868             False         Var211_lev_L84s  L84s     1.000000  \n135869             False         Var211_lev_Mtgm  Mtgm     1.000000  \n\n[135870 rows x 7 columns]",
      "text/html": "<div>\n<style scoped>\n    .dataframe tbody tr th:only-of-type {\n        vertical-align: middle;\n    }\n\n    .dataframe tbody tr th {\n        vertical-align: top;\n    }\n\n    .dataframe thead th {\n        text-align: right;\n    }\n</style>\n<table border=\"1\" class=\"dataframe\">\n  <thead>\n    <tr style=\"text-align: right;\">\n      <th></th>\n      <th>treatment_class</th>\n      <th>treatment</th>\n      <th>orig_var</th>\n      <th>orig_was_numeric</th>\n      <th>variable</th>\n      <th>value</th>\n      <th>replacement</th>\n    </tr>\n  </thead>\n  <tbody>\n    <tr>\n      <th>0</th>\n      <td>IndicateMissingTransform</td>\n      <td>missing_indicator</td>\n      <td>Var200</td>\n      <td>False</td>\n      <td>Var200_is_bad</td>\n      <td>_NA_</td>\n      <td>1.000000</td>\n    </tr>\n    <tr>\n      <th>1</th>\n      <td>IndicateMissingTransform</td>\n      <td>missing_indicator</td>\n      <td>Var229</td>\n      <td>False</td>\n      <td>Var229_is_bad</td>\n      <td>_NA_</td>\n      <td>1.000000</td>\n    </tr>\n    <tr>\n      <th>2</th>\n      <td>IndicateMissingTransform</td>\n      <td>missing_indicator</td>\n      <td>Var173</td>\n      <td>True</td>\n      <td>Var173_is_bad</td>\n      <td>_NA_</td>\n      <td>1.000000</td>\n    </tr>\n    <tr>\n      <th>3</th>\n      <td>IndicateMissingTransform</td>\n      <td>missing_indicator</td>\n      <td>Var126</td>\n      <td>True</td>\n      <td>Var126_is_bad</td>\n      <td>_NA_</td>\n      <td>1.000000</td>\n    </tr>\n    <tr>\n      <th>4</th>\n      <td>IndicateMissingTransform</td>\n      <td>missing_indicator</td>\n      <td>Var28</td>\n      <td>True</td>\n      <td>Var28_is_bad</td>\n      <td>_NA_</td>\n      <td>1.000000</td>\n    </tr>\n    <tr>\n      <th>...</th>\n      <td>...</td>\n      <td>...</td>\n      <td>...</td>\n      <td>...</td>\n      <td>...</td>\n      <td>...</td>\n      <td>...</td>\n    </tr>\n    <tr>\n      <th>135865</th>\n      <td>MappedCodeTransform</td>\n      <td>logit_code</td>\n      <td>Var211</td>\n      <td>False</td>\n      <td>Var211_logit_code</td>\n      <td>Mtgm</td>\n      <td>-0.237376</td>\n    </tr>\n    <tr>\n      <th>135866</th>\n      <td>MappedCodeTransform</td>\n      <td>prevalence_code</td>\n      <td>Var211</td>\n      <td>False</td>\n      <td>Var211_prevalence_code</td>\n      <td>L84s</td>\n      <td>0.806311</td>\n    </tr>\n    <tr>\n      <th>135867</th>\n      <td>MappedCodeTransform</td>\n      <td>prevalence_code</td>\n      <td>Var211</td>\n      <td>False</td>\n      <td>Var211_prevalence_code</td>\n      <td>Mtgm</td>\n      <td>0.193689</td>\n    </tr>\n    <tr>\n      <th>135868</th>\n      <td>IndicatorCodeTransform</td>\n      <td>indicator_code</td>\n      <td>Var211</td>\n      <td>False</td>\n      <td>Var211_lev_L84s</td>\n      <td>L84s</td>\n      <td>1.000000</td>\n    </tr>\n    <tr>\n      <th>135869</th>\n      <td>IndicatorCodeTransform</td>\n      <td>indicator_code</td>\n      <td>Var211</td>\n      <td>False</td>\n      <td>Var211_lev_Mtgm</td>\n      <td>Mtgm</td>\n      <td>1.000000</td>\n    </tr>\n  </tbody>\n</table>\n<p>135870 rows × 7 columns</p>\n</div>"
     },
     "execution_count": 42,
     "metadata": {},
     "output_type": "execute_result"
    }
   ],
   "source": [
    "from data_algebra.data_ops import descr, TableDescription\n",
    "import vtreat.vtreat_db_adapter\n",
    "\n",
    "transform_as_data = plan.description_matrix()\n",
    "\n",
    "transform_as_data"
   ],
   "metadata": {
    "collapsed": false,
    "pycharm": {
     "name": "#%%\n"
    }
   }
  },
  {
   "cell_type": "code",
   "execution_count": 43,
   "outputs": [],
   "source": [
    "incoming_vars = list(set(transform_as_data['orig_var']))\n",
    "\n",
    "ops = vtreat.vtreat_db_adapter.as_data_algebra_pipeline(\n",
    "    source=TableDescription(\n",
    "        table_name='d_test',\n",
    "        column_names=incoming_vars+ ['orig_index']),\n",
    "    vtreat_descr=transform_as_data,\n",
    "    treatment_table_name='transform_as_data',\n",
    "    row_keys=['orig_index'],\n",
    ")\n",
    "\n",
    "test_by_pipeline = ops.eval({\n",
    "    'd_test': d_test.loc[:, incoming_vars + ['orig_index']],\n",
    "    'transform_as_data': transform_as_data})"
   ],
   "metadata": {
    "collapsed": false,
    "pycharm": {
     "name": "#%%\n"
    }
   }
  },
  {
   "cell_type": "code",
   "execution_count": 44,
   "outputs": [],
   "source": [
    "assert test_by_pipeline.shape[0] == test_processed.shape[0]"
   ],
   "metadata": {
    "collapsed": false,
    "pycharm": {
     "name": "#%%\n"
    }
   }
  },
  {
   "cell_type": "code",
   "execution_count": 45,
   "outputs": [],
   "source": [
    "assert test_by_pipeline.shape[1] >= test_processed.shape[1]"
   ],
   "metadata": {
    "collapsed": false,
    "pycharm": {
     "name": "#%%\n"
    }
   }
  },
  {
   "cell_type": "code",
   "execution_count": 46,
   "outputs": [],
   "source": [
    "assert not numpy.any(numpy.isnan(test_by_pipeline))"
   ],
   "metadata": {
    "collapsed": false,
    "pycharm": {
     "name": "#%%\n"
    }
   }
  },
  {
   "cell_type": "code",
   "execution_count": 47,
   "outputs": [],
   "source": [
    "test_pipeline_cols = set(test_by_pipeline.columns)\n",
    "assert numpy.all([c in test_pipeline_cols for c in test_processed.columns])"
   ],
   "metadata": {
    "collapsed": false,
    "pycharm": {
     "name": "#%%\n"
    }
   }
  },
  {
   "cell_type": "code",
   "execution_count": 48,
   "outputs": [
    {
     "data": {
      "text/plain": "3"
     },
     "execution_count": 48,
     "metadata": {},
     "output_type": "execute_result"
    }
   ],
   "source": [
    "idx = numpy.min(test_processed['orig_index'])\n",
    "\n",
    "idx"
   ],
   "metadata": {
    "collapsed": false,
    "pycharm": {
     "name": "#%%\n"
    }
   }
  },
  {
   "cell_type": "code",
   "execution_count": 49,
   "outputs": [],
   "source": [
    "test_cols_sorted = list(test_processed.columns)\n",
    "test_cols_sorted.sort()\n",
    "assert numpy.max(numpy.max(numpy.abs(test_processed[test_cols_sorted] - test_by_pipeline[test_cols_sorted]))) < 1e-5\n"
   ],
   "metadata": {
    "collapsed": false,
    "pycharm": {
     "name": "#%%\n"
    }
   }
  },
  {
   "cell_type": "markdown",
   "source": [
    "### data algebra pipeline in database"
   ],
   "metadata": {
    "collapsed": false,
    "pycharm": {
     "name": "#%% md\n"
    }
   }
  },
  {
   "cell_type": "code",
   "execution_count": 50,
   "outputs": [],
   "source": [
    "import data_algebra.BigQuery\n"
   ],
   "metadata": {
    "collapsed": false,
    "pycharm": {
     "name": "#%%\n"
    }
   }
  },
  {
   "cell_type": "code",
   "execution_count": 51,
   "outputs": [],
   "source": [
    "db_handle = data_algebra.BigQuery.example_handle()\n",
    "\n",
    "db_handle.drop_table('d_test_processed')\n",
    "db_handle.insert_table(d_test.loc[:, incoming_vars + ['orig_index']], table_name='d_test', allow_overwrite=True)\n",
    "_ = db_handle.insert_table(transform_as_data, table_name='transform_as_data', allow_overwrite=True)"
   ],
   "metadata": {
    "collapsed": false,
    "pycharm": {
     "name": "#%%\n"
    }
   }
  },
  {
   "cell_type": "code",
   "execution_count": 52,
   "outputs": [],
   "source": [
    "db_handle.execute(\n",
    "    f\"CREATE TABLE {db_handle.db_model.table_prefix}.d_test_processed AS {db_handle.to_sql(ops)}\")"
   ],
   "metadata": {
    "collapsed": false,
    "pycharm": {
     "name": "#%%\n"
    }
   }
  },
  {
   "cell_type": "code",
   "execution_count": 53,
   "outputs": [
    {
     "data": {
      "text/plain": "      Var40_is_bad  Var200_is_bad  Var201_lev__NA_  Var211_lev_L84s  \\\n0              1.0            1.0              1.0              0.0   \n1              1.0            1.0              1.0              1.0   \n2              1.0            0.0              1.0              1.0   \n3              1.0            1.0              1.0              1.0   \n4              1.0            0.0              1.0              1.0   \n...            ...            ...              ...              ...   \n4995           1.0            1.0              1.0              0.0   \n4996           1.0            1.0              1.0              0.0   \n4997           1.0            0.0              0.0              0.0   \n4998           1.0            1.0              1.0              1.0   \n4999           1.0            1.0              1.0              1.0   \n\n      Var120_is_bad  Var220_logit_code  Var229_logit_code  \\\n0               1.0           0.479387           0.169925   \n1               1.0           0.226349           0.169925   \n2               1.0           0.000000           0.085594   \n3               1.0           0.073372           0.169925   \n4               1.0          -0.550334          -0.276811   \n...             ...                ...                ...   \n4995            1.0           0.250523           0.169925   \n4996            1.0           0.637144           0.169925   \n4997            1.0           0.000000          -0.285132   \n4998            1.0          -0.258362           0.169925   \n4999            1.0          -4.005753           0.169925   \n\n      Var221_prevalence_code  Var196_logit_code  Var133_is_bad  ...  \\\n0                   0.739733          -0.003571            0.0  ...   \n1                   0.739733          -0.003571            0.0  ...   \n2                   0.739733          -0.003571            0.0  ...   \n3                   0.739733          -0.003571            0.0  ...   \n4                   0.124333          -0.003571            0.0  ...   \n...                      ...                ...            ...  ...   \n4995                0.739733          -0.003571            0.0  ...   \n4996                0.739733          -0.003571            1.0  ...   \n4997                0.033156          -0.003571            0.0  ...   \n4998                0.739733          -0.003571            0.0  ...   \n4999                0.739733          -0.003571            0.0  ...   \n\n         Var178         Var6       Var16     Var34    Var184    Var161  \\\n0     17.161017  1317.915767  120.735677  1.126457  8.839462  3.340336   \n1     17.161017  3633.000000  120.735677  1.126457  8.839462  3.340336   \n2     17.161017   259.000000  120.735677  1.126457  8.839462  3.340336   \n3     17.161017   931.000000  120.735677  1.126457  8.839462  3.340336   \n4     17.161017   714.000000  120.735677  1.126457  8.839462  3.340336   \n...         ...          ...         ...       ...       ...       ...   \n4995  17.161017   196.000000  120.735677  1.126457  8.839462  3.340336   \n4996  17.161017  1317.915767  120.735677  1.126457  8.839462  3.340336   \n4997  17.161017   742.000000  120.735677  1.126457  8.839462  3.340336   \n4998  17.161017  1211.000000  120.735677  1.126457  8.839462  3.340336   \n4999  17.161017  1981.000000  120.735677  1.126457  8.839462  3.340336   \n\n              Var59        Var131      Var65        Var163  \n0     414060.541748  4.299539e+06   9.000000  0.000000e+00  \n1     414060.541748  4.299539e+06   9.000000  0.000000e+00  \n2     414060.541748  4.299539e+06   9.000000  0.000000e+00  \n3     414060.541748  4.299539e+06   9.000000  0.000000e+00  \n4     414060.541748  4.299539e+06   9.000000  7.674000e+03  \n...             ...           ...        ...           ...  \n4995  414060.541748  4.299539e+06  18.000000  4.752120e+05  \n4996  414060.541748  0.000000e+00  14.847268  4.844914e+05  \n4997  414060.541748  4.299539e+06  18.000000  0.000000e+00  \n4998  414060.541748  4.299539e+06  14.847268  4.765200e+04  \n4999  414060.541748  4.299539e+06   9.000000  1.036800e+06  \n\n[5000 rows x 579 columns]",
      "text/html": "<div>\n<style scoped>\n    .dataframe tbody tr th:only-of-type {\n        vertical-align: middle;\n    }\n\n    .dataframe tbody tr th {\n        vertical-align: top;\n    }\n\n    .dataframe thead th {\n        text-align: right;\n    }\n</style>\n<table border=\"1\" class=\"dataframe\">\n  <thead>\n    <tr style=\"text-align: right;\">\n      <th></th>\n      <th>Var40_is_bad</th>\n      <th>Var200_is_bad</th>\n      <th>Var201_lev__NA_</th>\n      <th>Var211_lev_L84s</th>\n      <th>Var120_is_bad</th>\n      <th>Var220_logit_code</th>\n      <th>Var229_logit_code</th>\n      <th>Var221_prevalence_code</th>\n      <th>Var196_logit_code</th>\n      <th>Var133_is_bad</th>\n      <th>...</th>\n      <th>Var178</th>\n      <th>Var6</th>\n      <th>Var16</th>\n      <th>Var34</th>\n      <th>Var184</th>\n      <th>Var161</th>\n      <th>Var59</th>\n      <th>Var131</th>\n      <th>Var65</th>\n      <th>Var163</th>\n    </tr>\n  </thead>\n  <tbody>\n    <tr>\n      <th>0</th>\n      <td>1.0</td>\n      <td>1.0</td>\n      <td>1.0</td>\n      <td>0.0</td>\n      <td>1.0</td>\n      <td>0.479387</td>\n      <td>0.169925</td>\n      <td>0.739733</td>\n      <td>-0.003571</td>\n      <td>0.0</td>\n      <td>...</td>\n      <td>17.161017</td>\n      <td>1317.915767</td>\n      <td>120.735677</td>\n      <td>1.126457</td>\n      <td>8.839462</td>\n      <td>3.340336</td>\n      <td>414060.541748</td>\n      <td>4.299539e+06</td>\n      <td>9.000000</td>\n      <td>0.000000e+00</td>\n    </tr>\n    <tr>\n      <th>1</th>\n      <td>1.0</td>\n      <td>1.0</td>\n      <td>1.0</td>\n      <td>1.0</td>\n      <td>1.0</td>\n      <td>0.226349</td>\n      <td>0.169925</td>\n      <td>0.739733</td>\n      <td>-0.003571</td>\n      <td>0.0</td>\n      <td>...</td>\n      <td>17.161017</td>\n      <td>3633.000000</td>\n      <td>120.735677</td>\n      <td>1.126457</td>\n      <td>8.839462</td>\n      <td>3.340336</td>\n      <td>414060.541748</td>\n      <td>4.299539e+06</td>\n      <td>9.000000</td>\n      <td>0.000000e+00</td>\n    </tr>\n    <tr>\n      <th>2</th>\n      <td>1.0</td>\n      <td>0.0</td>\n      <td>1.0</td>\n      <td>1.0</td>\n      <td>1.0</td>\n      <td>0.000000</td>\n      <td>0.085594</td>\n      <td>0.739733</td>\n      <td>-0.003571</td>\n      <td>0.0</td>\n      <td>...</td>\n      <td>17.161017</td>\n      <td>259.000000</td>\n      <td>120.735677</td>\n      <td>1.126457</td>\n      <td>8.839462</td>\n      <td>3.340336</td>\n      <td>414060.541748</td>\n      <td>4.299539e+06</td>\n      <td>9.000000</td>\n      <td>0.000000e+00</td>\n    </tr>\n    <tr>\n      <th>3</th>\n      <td>1.0</td>\n      <td>1.0</td>\n      <td>1.0</td>\n      <td>1.0</td>\n      <td>1.0</td>\n      <td>0.073372</td>\n      <td>0.169925</td>\n      <td>0.739733</td>\n      <td>-0.003571</td>\n      <td>0.0</td>\n      <td>...</td>\n      <td>17.161017</td>\n      <td>931.000000</td>\n      <td>120.735677</td>\n      <td>1.126457</td>\n      <td>8.839462</td>\n      <td>3.340336</td>\n      <td>414060.541748</td>\n      <td>4.299539e+06</td>\n      <td>9.000000</td>\n      <td>0.000000e+00</td>\n    </tr>\n    <tr>\n      <th>4</th>\n      <td>1.0</td>\n      <td>0.0</td>\n      <td>1.0</td>\n      <td>1.0</td>\n      <td>1.0</td>\n      <td>-0.550334</td>\n      <td>-0.276811</td>\n      <td>0.124333</td>\n      <td>-0.003571</td>\n      <td>0.0</td>\n      <td>...</td>\n      <td>17.161017</td>\n      <td>714.000000</td>\n      <td>120.735677</td>\n      <td>1.126457</td>\n      <td>8.839462</td>\n      <td>3.340336</td>\n      <td>414060.541748</td>\n      <td>4.299539e+06</td>\n      <td>9.000000</td>\n      <td>7.674000e+03</td>\n    </tr>\n    <tr>\n      <th>...</th>\n      <td>...</td>\n      <td>...</td>\n      <td>...</td>\n      <td>...</td>\n      <td>...</td>\n      <td>...</td>\n      <td>...</td>\n      <td>...</td>\n      <td>...</td>\n      <td>...</td>\n      <td>...</td>\n      <td>...</td>\n      <td>...</td>\n      <td>...</td>\n      <td>...</td>\n      <td>...</td>\n      <td>...</td>\n      <td>...</td>\n      <td>...</td>\n      <td>...</td>\n      <td>...</td>\n    </tr>\n    <tr>\n      <th>4995</th>\n      <td>1.0</td>\n      <td>1.0</td>\n      <td>1.0</td>\n      <td>0.0</td>\n      <td>1.0</td>\n      <td>0.250523</td>\n      <td>0.169925</td>\n      <td>0.739733</td>\n      <td>-0.003571</td>\n      <td>0.0</td>\n      <td>...</td>\n      <td>17.161017</td>\n      <td>196.000000</td>\n      <td>120.735677</td>\n      <td>1.126457</td>\n      <td>8.839462</td>\n      <td>3.340336</td>\n      <td>414060.541748</td>\n      <td>4.299539e+06</td>\n      <td>18.000000</td>\n      <td>4.752120e+05</td>\n    </tr>\n    <tr>\n      <th>4996</th>\n      <td>1.0</td>\n      <td>1.0</td>\n      <td>1.0</td>\n      <td>0.0</td>\n      <td>1.0</td>\n      <td>0.637144</td>\n      <td>0.169925</td>\n      <td>0.739733</td>\n      <td>-0.003571</td>\n      <td>1.0</td>\n      <td>...</td>\n      <td>17.161017</td>\n      <td>1317.915767</td>\n      <td>120.735677</td>\n      <td>1.126457</td>\n      <td>8.839462</td>\n      <td>3.340336</td>\n      <td>414060.541748</td>\n      <td>0.000000e+00</td>\n      <td>14.847268</td>\n      <td>4.844914e+05</td>\n    </tr>\n    <tr>\n      <th>4997</th>\n      <td>1.0</td>\n      <td>0.0</td>\n      <td>0.0</td>\n      <td>0.0</td>\n      <td>1.0</td>\n      <td>0.000000</td>\n      <td>-0.285132</td>\n      <td>0.033156</td>\n      <td>-0.003571</td>\n      <td>0.0</td>\n      <td>...</td>\n      <td>17.161017</td>\n      <td>742.000000</td>\n      <td>120.735677</td>\n      <td>1.126457</td>\n      <td>8.839462</td>\n      <td>3.340336</td>\n      <td>414060.541748</td>\n      <td>4.299539e+06</td>\n      <td>18.000000</td>\n      <td>0.000000e+00</td>\n    </tr>\n    <tr>\n      <th>4998</th>\n      <td>1.0</td>\n      <td>1.0</td>\n      <td>1.0</td>\n      <td>1.0</td>\n      <td>1.0</td>\n      <td>-0.258362</td>\n      <td>0.169925</td>\n      <td>0.739733</td>\n      <td>-0.003571</td>\n      <td>0.0</td>\n      <td>...</td>\n      <td>17.161017</td>\n      <td>1211.000000</td>\n      <td>120.735677</td>\n      <td>1.126457</td>\n      <td>8.839462</td>\n      <td>3.340336</td>\n      <td>414060.541748</td>\n      <td>4.299539e+06</td>\n      <td>14.847268</td>\n      <td>4.765200e+04</td>\n    </tr>\n    <tr>\n      <th>4999</th>\n      <td>1.0</td>\n      <td>1.0</td>\n      <td>1.0</td>\n      <td>1.0</td>\n      <td>1.0</td>\n      <td>-4.005753</td>\n      <td>0.169925</td>\n      <td>0.739733</td>\n      <td>-0.003571</td>\n      <td>0.0</td>\n      <td>...</td>\n      <td>17.161017</td>\n      <td>1981.000000</td>\n      <td>120.735677</td>\n      <td>1.126457</td>\n      <td>8.839462</td>\n      <td>3.340336</td>\n      <td>414060.541748</td>\n      <td>4.299539e+06</td>\n      <td>9.000000</td>\n      <td>1.036800e+06</td>\n    </tr>\n  </tbody>\n</table>\n<p>5000 rows × 579 columns</p>\n</div>"
     },
     "execution_count": 53,
     "metadata": {},
     "output_type": "execute_result"
    }
   ],
   "source": [
    "db_res = db_handle.read_query(\n",
    "    f\"SELECT * FROM {db_handle.db_model.table_prefix}.d_test_processed ORDER BY orig_index\")\n",
    "\n",
    "db_res"
   ],
   "metadata": {
    "collapsed": false,
    "pycharm": {
     "name": "#%%\n"
    }
   }
  },
  {
   "cell_type": "code",
   "execution_count": 54,
   "outputs": [],
   "source": [
    "assert db_res.shape[0] == test_processed.shape[0]"
   ],
   "metadata": {
    "collapsed": false,
    "pycharm": {
     "name": "#%%\n"
    }
   }
  },
  {
   "cell_type": "code",
   "execution_count": 55,
   "outputs": [],
   "source": [
    "assert numpy.max(numpy.max(numpy.abs(test_processed[test_cols_sorted] - db_res[test_cols_sorted]))) < 1e-5\n"
   ],
   "metadata": {
    "collapsed": false,
    "pycharm": {
     "name": "#%%\n"
    }
   }
  },
  {
   "cell_type": "code",
   "execution_count": 56,
   "outputs": [],
   "source": [
    "db_handle.drop_table('d_test')\n",
    "db_handle.drop_table('transform_as_data')\n",
    "db_handle.drop_table('d_test_processed')\n",
    "db_handle.close()\n"
   ],
   "metadata": {
    "collapsed": false,
    "pycharm": {
     "name": "#%%\n"
    }
   }
  }
 ],
 "metadata": {
  "kernelspec": {
   "display_name": "Python 3",
   "language": "python",
   "name": "python3"
  },
  "language_info": {
   "codemirror_mode": {
    "name": "ipython",
    "version": 3
   },
   "file_extension": ".py",
   "mimetype": "text/x-python",
   "name": "python",
   "nbconvert_exporter": "python",
   "pygments_lexer": "ipython3",
   "version": "3.9.4"
  }
 },
 "nbformat": 4,
 "nbformat_minor": 4
}