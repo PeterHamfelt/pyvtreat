{
 "cells": [
  {
   "cell_type": "code",
   "execution_count": null,
   "metadata": {},
   "outputs": [],
   "source": []
  },
  {
   "cell_type": "code",
   "execution_count": 1,
   "metadata": {},
   "outputs": [
    {
     "name": "stdout",
     "output_type": "stream",
     "text": [
      "Processing /Users/johnmount/Documents/work/pyvtreat/pkg/dist/vtreat-0.1.tar.gz\n",
      "Requirement already satisfied: numpy in /Users/johnmount/anaconda3/envs/aiAcademy/lib/python3.7/site-packages (from vtreat==0.1) (1.16.4)\n",
      "Requirement already satisfied: pandas in /Users/johnmount/anaconda3/envs/aiAcademy/lib/python3.7/site-packages (from vtreat==0.1) (0.24.2)\n",
      "Requirement already satisfied: statistics in /Users/johnmount/anaconda3/envs/aiAcademy/lib/python3.7/site-packages (from vtreat==0.1) (1.0.3.5)\n",
      "Requirement already satisfied: scipy in /Users/johnmount/anaconda3/envs/aiAcademy/lib/python3.7/site-packages (from vtreat==0.1) (1.2.1)\n",
      "Requirement already satisfied: pytz>=2011k in /Users/johnmount/anaconda3/envs/aiAcademy/lib/python3.7/site-packages (from pandas->vtreat==0.1) (2019.1)\n",
      "Requirement already satisfied: python-dateutil>=2.5.0 in /Users/johnmount/anaconda3/envs/aiAcademy/lib/python3.7/site-packages (from pandas->vtreat==0.1) (2.8.0)\n",
      "Requirement already satisfied: docutils>=0.3 in /Users/johnmount/anaconda3/envs/aiAcademy/lib/python3.7/site-packages (from statistics->vtreat==0.1) (0.14)\n",
      "Requirement already satisfied: six>=1.5 in /Users/johnmount/anaconda3/envs/aiAcademy/lib/python3.7/site-packages (from python-dateutil>=2.5.0->pandas->vtreat==0.1) (1.12.0)\n",
      "Building wheels for collected packages: vtreat\n",
      "  Building wheel for vtreat (setup.py) ... \u001b[?25ldone\n",
      "\u001b[?25h  Stored in directory: /Users/johnmount/Library/Caches/pip/wheels/cf/06/fc/6b2552717486fb6401f19308eec24381555e456e3bd9cfb103\n",
      "Successfully built vtreat\n",
      "Installing collected packages: vtreat\n",
      "  Found existing installation: vtreat 0.1\n",
      "    Uninstalling vtreat-0.1:\n",
      "      Successfully uninstalled vtreat-0.1\n",
      "Successfully installed vtreat-0.1\n"
     ]
    }
   ],
   "source": [
    "!pip install /Users/johnmount/Documents/work/pyvtreat/pkg/dist/vtreat-0.1.tar.gz\n",
    "#!pip install https://github.com/WinVector/pyvtreat/raw/master/pkg/dist/vtreat-0.1.tar.gz"
   ]
  },
  {
   "cell_type": "code",
   "execution_count": 2,
   "metadata": {},
   "outputs": [],
   "source": [
    "import pandas\n",
    "import numpy.random\n",
    "import vtreat\n",
    "import sklearn.linear_model\n",
    "import seaborn\n",
    "import matplotlib.pyplot\n",
    "import statsmodels.api\n",
    "import scipy.stats\n",
    "import re"
   ]
  },
  {
   "cell_type": "code",
   "execution_count": 3,
   "metadata": {},
   "outputs": [],
   "source": [
    "n_rows = 2000\n",
    "n_signal_variables = 2\n",
    "n_noise_variables = 2\n",
    "n_levels = 500"
   ]
  },
  {
   "cell_type": "code",
   "execution_count": 4,
   "metadata": {},
   "outputs": [],
   "source": [
    "d = pandas.DataFrame({\"y\":numpy.random.normal(size = n_rows)})"
   ]
  },
  {
   "cell_type": "code",
   "execution_count": 5,
   "metadata": {},
   "outputs": [],
   "source": [
    "def mk_var_values(n_levels):\n",
    "    values = {}\n",
    "    for i in range(n_levels):\n",
    "        values[\"level_\" + str(i)] = numpy.random.normal(size=1)[0]\n",
    "    return values"
   ]
  },
  {
   "cell_type": "code",
   "execution_count": 6,
   "metadata": {},
   "outputs": [],
   "source": [
    "for i in range(n_signal_variables):\n",
    "    var_name = \"var_\" + str(i)\n",
    "    levs = mk_var_values(n_levels)\n",
    "    keys = [ k for k in levs.keys() ]\n",
    "    observed = [ keys[i] for i in numpy.random.choice(len(keys), size=n_rows, replace=True)]\n",
    "    effect = numpy.asarray([ levs[k] for k in observed ])\n",
    "    d[var_name] = observed\n",
    "    d[\"y\"] = d[\"y\"] + effect"
   ]
  },
  {
   "cell_type": "code",
   "execution_count": 7,
   "metadata": {},
   "outputs": [],
   "source": [
    "for i in range(n_noise_variables):\n",
    "    var_name = \"noise_\" + str(i)\n",
    "    levs = mk_var_values(n_levels)\n",
    "    keys = [ k for k in levs.keys() ]\n",
    "    observed = [ keys[i] for i in numpy.random.choice(len(keys), size=n_rows, replace=True)]\n",
    "    d[var_name] = observed"
   ]
  },
  {
   "cell_type": "code",
   "execution_count": 8,
   "metadata": {},
   "outputs": [
    {
     "data": {
      "text/html": [
       "<div>\n",
       "<style scoped>\n",
       "    .dataframe tbody tr th:only-of-type {\n",
       "        vertical-align: middle;\n",
       "    }\n",
       "\n",
       "    .dataframe tbody tr th {\n",
       "        vertical-align: top;\n",
       "    }\n",
       "\n",
       "    .dataframe thead th {\n",
       "        text-align: right;\n",
       "    }\n",
       "</style>\n",
       "<table border=\"1\" class=\"dataframe\">\n",
       "  <thead>\n",
       "    <tr style=\"text-align: right;\">\n",
       "      <th></th>\n",
       "      <th>y</th>\n",
       "      <th>var_0</th>\n",
       "      <th>var_1</th>\n",
       "      <th>noise_0</th>\n",
       "      <th>noise_1</th>\n",
       "    </tr>\n",
       "  </thead>\n",
       "  <tbody>\n",
       "    <tr>\n",
       "      <th>0</th>\n",
       "      <td>-2.118967</td>\n",
       "      <td>level_156</td>\n",
       "      <td>level_24</td>\n",
       "      <td>level_210</td>\n",
       "      <td>level_298</td>\n",
       "    </tr>\n",
       "    <tr>\n",
       "      <th>1</th>\n",
       "      <td>-2.672423</td>\n",
       "      <td>level_425</td>\n",
       "      <td>level_422</td>\n",
       "      <td>level_479</td>\n",
       "      <td>level_124</td>\n",
       "    </tr>\n",
       "    <tr>\n",
       "      <th>2</th>\n",
       "      <td>-2.279930</td>\n",
       "      <td>level_351</td>\n",
       "      <td>level_429</td>\n",
       "      <td>level_263</td>\n",
       "      <td>level_199</td>\n",
       "    </tr>\n",
       "    <tr>\n",
       "      <th>3</th>\n",
       "      <td>-2.567556</td>\n",
       "      <td>level_230</td>\n",
       "      <td>level_148</td>\n",
       "      <td>level_74</td>\n",
       "      <td>level_129</td>\n",
       "    </tr>\n",
       "    <tr>\n",
       "      <th>4</th>\n",
       "      <td>-0.203438</td>\n",
       "      <td>level_297</td>\n",
       "      <td>level_321</td>\n",
       "      <td>level_305</td>\n",
       "      <td>level_162</td>\n",
       "    </tr>\n",
       "  </tbody>\n",
       "</table>\n",
       "</div>"
      ],
      "text/plain": [
       "          y      var_0      var_1    noise_0    noise_1\n",
       "0 -2.118967  level_156   level_24  level_210  level_298\n",
       "1 -2.672423  level_425  level_422  level_479  level_124\n",
       "2 -2.279930  level_351  level_429  level_263  level_199\n",
       "3 -2.567556  level_230  level_148   level_74  level_129\n",
       "4 -0.203438  level_297  level_321  level_305  level_162"
      ]
     },
     "execution_count": 8,
     "metadata": {},
     "output_type": "execute_result"
    }
   ],
   "source": [
    "d.head()"
   ]
  },
  {
   "cell_type": "code",
   "execution_count": 9,
   "metadata": {},
   "outputs": [],
   "source": [
    "is_train = numpy.random.uniform(size=n_rows)<=0.5"
   ]
  },
  {
   "cell_type": "code",
   "execution_count": 10,
   "metadata": {},
   "outputs": [],
   "source": [
    "d_train = d.loc[is_train,:].copy()\n",
    "d_train.reset_index(inplace=True, drop=True)\n",
    "y_train = numpy.asarray(d_train[\"y\"])\n",
    "d_train.drop([\"y\"], axis=1, inplace=True)\n",
    "d_test = d.loc[numpy.logical_not(is_train),:].copy()\n",
    "d_test.reset_index(inplace=True, drop=True)\n",
    "y_test = numpy.asarray(d_test[\"y\"])\n",
    "d_test.drop([\"y\"], axis=1, inplace=True)"
   ]
  },
  {
   "cell_type": "code",
   "execution_count": 11,
   "metadata": {},
   "outputs": [],
   "source": [
    "plan = vtreat.NumericOutcomeTreatment()"
   ]
  },
  {
   "cell_type": "code",
   "execution_count": 12,
   "metadata": {},
   "outputs": [],
   "source": [
    "cross_frame = plan.fit_transform(d_train, y_train)\n",
    "prepared_test = plan.transform(d_test)\n",
    "naive_train = plan.transform(d_train)"
   ]
  },
  {
   "cell_type": "code",
   "execution_count": 13,
   "metadata": {},
   "outputs": [
    {
     "data": {
      "text/html": [
       "<div>\n",
       "<style scoped>\n",
       "    .dataframe tbody tr th:only-of-type {\n",
       "        vertical-align: middle;\n",
       "    }\n",
       "\n",
       "    .dataframe tbody tr th {\n",
       "        vertical-align: top;\n",
       "    }\n",
       "\n",
       "    .dataframe thead th {\n",
       "        text-align: right;\n",
       "    }\n",
       "</style>\n",
       "<table border=\"1\" class=\"dataframe\">\n",
       "  <thead>\n",
       "    <tr style=\"text-align: right;\">\n",
       "      <th></th>\n",
       "      <th>var_0_impact_code</th>\n",
       "      <th>var_0_prevalence_code</th>\n",
       "      <th>var_1_impact_code</th>\n",
       "      <th>noise_1_deviance_code</th>\n",
       "    </tr>\n",
       "  </thead>\n",
       "  <tbody>\n",
       "    <tr>\n",
       "      <th>0</th>\n",
       "      <td>0.000000</td>\n",
       "      <td>0.000000</td>\n",
       "      <td>1.387779e-17</td>\n",
       "      <td>1.681304</td>\n",
       "    </tr>\n",
       "    <tr>\n",
       "      <th>1</th>\n",
       "      <td>-0.259624</td>\n",
       "      <td>0.004065</td>\n",
       "      <td>-1.001398e+00</td>\n",
       "      <td>1.584919</td>\n",
       "    </tr>\n",
       "    <tr>\n",
       "      <th>2</th>\n",
       "      <td>0.000000</td>\n",
       "      <td>0.001016</td>\n",
       "      <td>-1.981960e+00</td>\n",
       "      <td>0.663339</td>\n",
       "    </tr>\n",
       "    <tr>\n",
       "      <th>3</th>\n",
       "      <td>-0.511586</td>\n",
       "      <td>0.006098</td>\n",
       "      <td>0.000000e+00</td>\n",
       "      <td>0.859777</td>\n",
       "    </tr>\n",
       "    <tr>\n",
       "      <th>4</th>\n",
       "      <td>0.169751</td>\n",
       "      <td>0.003049</td>\n",
       "      <td>-5.824780e-01</td>\n",
       "      <td>0.000000</td>\n",
       "    </tr>\n",
       "  </tbody>\n",
       "</table>\n",
       "</div>"
      ],
      "text/plain": [
       "   var_0_impact_code  var_0_prevalence_code  var_1_impact_code  \\\n",
       "0           0.000000               0.000000       1.387779e-17   \n",
       "1          -0.259624               0.004065      -1.001398e+00   \n",
       "2           0.000000               0.001016      -1.981960e+00   \n",
       "3          -0.511586               0.006098       0.000000e+00   \n",
       "4           0.169751               0.003049      -5.824780e-01   \n",
       "\n",
       "   noise_1_deviance_code  \n",
       "0               1.681304  \n",
       "1               1.584919  \n",
       "2               0.663339  \n",
       "3               0.859777  \n",
       "4               0.000000  "
      ]
     },
     "execution_count": 13,
     "metadata": {},
     "output_type": "execute_result"
    }
   ],
   "source": [
    "cross_frame.head()"
   ]
  },
  {
   "cell_type": "code",
   "execution_count": 14,
   "metadata": {},
   "outputs": [
    {
     "data": {
      "text/html": [
       "<div>\n",
       "<style scoped>\n",
       "    .dataframe tbody tr th:only-of-type {\n",
       "        vertical-align: middle;\n",
       "    }\n",
       "\n",
       "    .dataframe tbody tr th {\n",
       "        vertical-align: top;\n",
       "    }\n",
       "\n",
       "    .dataframe thead th {\n",
       "        text-align: right;\n",
       "    }\n",
       "</style>\n",
       "<table border=\"1\" class=\"dataframe\">\n",
       "  <thead>\n",
       "    <tr style=\"text-align: right;\">\n",
       "      <th></th>\n",
       "      <th>var_0_impact_code</th>\n",
       "      <th>var_0_prevalence_code</th>\n",
       "      <th>var_1_impact_code</th>\n",
       "      <th>noise_1_deviance_code</th>\n",
       "    </tr>\n",
       "  </thead>\n",
       "  <tbody>\n",
       "    <tr>\n",
       "      <th>0</th>\n",
       "      <td>0.000000</td>\n",
       "      <td>0.000000</td>\n",
       "      <td>-2.448471</td>\n",
       "      <td>1.040710</td>\n",
       "    </tr>\n",
       "    <tr>\n",
       "      <th>1</th>\n",
       "      <td>-1.143022</td>\n",
       "      <td>0.004065</td>\n",
       "      <td>-1.134938</td>\n",
       "      <td>1.521395</td>\n",
       "    </tr>\n",
       "    <tr>\n",
       "      <th>2</th>\n",
       "      <td>-0.567791</td>\n",
       "      <td>0.001016</td>\n",
       "      <td>-1.090240</td>\n",
       "      <td>0.898805</td>\n",
       "    </tr>\n",
       "    <tr>\n",
       "      <th>3</th>\n",
       "      <td>-0.584434</td>\n",
       "      <td>0.006098</td>\n",
       "      <td>-0.660154</td>\n",
       "      <td>0.862847</td>\n",
       "    </tr>\n",
       "    <tr>\n",
       "      <th>4</th>\n",
       "      <td>-0.145631</td>\n",
       "      <td>0.003049</td>\n",
       "      <td>-1.090240</td>\n",
       "      <td>1.669760</td>\n",
       "    </tr>\n",
       "  </tbody>\n",
       "</table>\n",
       "</div>"
      ],
      "text/plain": [
       "   var_0_impact_code  var_0_prevalence_code  var_1_impact_code  \\\n",
       "0           0.000000               0.000000          -2.448471   \n",
       "1          -1.143022               0.004065          -1.134938   \n",
       "2          -0.567791               0.001016          -1.090240   \n",
       "3          -0.584434               0.006098          -0.660154   \n",
       "4          -0.145631               0.003049          -1.090240   \n",
       "\n",
       "   noise_1_deviance_code  \n",
       "0               1.040710  \n",
       "1               1.521395  \n",
       "2               0.898805  \n",
       "3               0.862847  \n",
       "4               1.669760  "
      ]
     },
     "execution_count": 14,
     "metadata": {},
     "output_type": "execute_result"
    }
   ],
   "source": [
    "naive_train.head()"
   ]
  },
  {
   "cell_type": "code",
   "execution_count": 15,
   "metadata": {},
   "outputs": [
    {
     "ename": "KeyError",
     "evalue": "'noise_0_impact_code'",
     "output_type": "error",
     "traceback": [
      "\u001b[0;31m---------------------------------------------------------------------------\u001b[0m",
      "\u001b[0;31mKeyError\u001b[0m                                  Traceback (most recent call last)",
      "\u001b[0;32m~/anaconda3/envs/aiAcademy/lib/python3.7/site-packages/pandas/core/indexes/base.py\u001b[0m in \u001b[0;36mget_loc\u001b[0;34m(self, key, method, tolerance)\u001b[0m\n\u001b[1;32m   2656\u001b[0m             \u001b[0;32mtry\u001b[0m\u001b[0;34m:\u001b[0m\u001b[0;34m\u001b[0m\u001b[0;34m\u001b[0m\u001b[0m\n\u001b[0;32m-> 2657\u001b[0;31m                 \u001b[0;32mreturn\u001b[0m \u001b[0mself\u001b[0m\u001b[0;34m.\u001b[0m\u001b[0m_engine\u001b[0m\u001b[0;34m.\u001b[0m\u001b[0mget_loc\u001b[0m\u001b[0;34m(\u001b[0m\u001b[0mkey\u001b[0m\u001b[0;34m)\u001b[0m\u001b[0;34m\u001b[0m\u001b[0;34m\u001b[0m\u001b[0m\n\u001b[0m\u001b[1;32m   2658\u001b[0m             \u001b[0;32mexcept\u001b[0m \u001b[0mKeyError\u001b[0m\u001b[0;34m:\u001b[0m\u001b[0;34m\u001b[0m\u001b[0;34m\u001b[0m\u001b[0m\n",
      "\u001b[0;32mpandas/_libs/index.pyx\u001b[0m in \u001b[0;36mpandas._libs.index.IndexEngine.get_loc\u001b[0;34m()\u001b[0m\n",
      "\u001b[0;32mpandas/_libs/index.pyx\u001b[0m in \u001b[0;36mpandas._libs.index.IndexEngine.get_loc\u001b[0;34m()\u001b[0m\n",
      "\u001b[0;32mpandas/_libs/hashtable_class_helper.pxi\u001b[0m in \u001b[0;36mpandas._libs.hashtable.PyObjectHashTable.get_item\u001b[0;34m()\u001b[0m\n",
      "\u001b[0;32mpandas/_libs/hashtable_class_helper.pxi\u001b[0m in \u001b[0;36mpandas._libs.hashtable.PyObjectHashTable.get_item\u001b[0;34m()\u001b[0m\n",
      "\u001b[0;31mKeyError\u001b[0m: 'noise_0_impact_code'",
      "\nDuring handling of the above exception, another exception occurred:\n",
      "\u001b[0;31mKeyError\u001b[0m                                  Traceback (most recent call last)",
      "\u001b[0;32m<ipython-input-15-11c1ce1660ae>\u001b[0m in \u001b[0;36m<module>\u001b[0;34m\u001b[0m\n\u001b[1;32m      2\u001b[0m \u001b[0mcorr_frame\u001b[0m \u001b[0;34m=\u001b[0m \u001b[0mpandas\u001b[0m\u001b[0;34m.\u001b[0m\u001b[0mDataFrame\u001b[0m\u001b[0;34m(\u001b[0m\u001b[0;34m{\u001b[0m\u001b[0;34m\"variable\"\u001b[0m\u001b[0;34m:\u001b[0m\u001b[0;34m[\u001b[0m\u001b[0mvi\u001b[0m \u001b[0;32mfor\u001b[0m \u001b[0mvi\u001b[0m \u001b[0;32min\u001b[0m \u001b[0mall_vars\u001b[0m \u001b[0;32mif\u001b[0m \u001b[0mre\u001b[0m\u001b[0;34m.\u001b[0m\u001b[0mmatch\u001b[0m\u001b[0;34m(\u001b[0m\u001b[0;34m\".*_impact_.*\"\u001b[0m\u001b[0;34m,\u001b[0m \u001b[0mvi\u001b[0m\u001b[0;34m)\u001b[0m\u001b[0;34m]\u001b[0m\u001b[0;34m}\u001b[0m\u001b[0;34m)\u001b[0m\u001b[0;34m\u001b[0m\u001b[0;34m\u001b[0m\u001b[0m\n\u001b[1;32m      3\u001b[0m corr_frame[\"naive_train_correlation\"] = [ \n\u001b[0;32m----> 4\u001b[0;31m     scipy.stats.pearsonr(naive_train[vi], y_train)[0] for vi in corr_frame[\"variable\"]]\n\u001b[0m\u001b[1;32m      5\u001b[0m corr_frame[\"cross_frame_correlation\"] = [ \n\u001b[1;32m      6\u001b[0m     scipy.stats.pearsonr(cross_frame[vi], y_train)[0] for vi in corr_frame[\"variable\"]]\n",
      "\u001b[0;32m<ipython-input-15-11c1ce1660ae>\u001b[0m in \u001b[0;36m<listcomp>\u001b[0;34m(.0)\u001b[0m\n\u001b[1;32m      2\u001b[0m \u001b[0mcorr_frame\u001b[0m \u001b[0;34m=\u001b[0m \u001b[0mpandas\u001b[0m\u001b[0;34m.\u001b[0m\u001b[0mDataFrame\u001b[0m\u001b[0;34m(\u001b[0m\u001b[0;34m{\u001b[0m\u001b[0;34m\"variable\"\u001b[0m\u001b[0;34m:\u001b[0m\u001b[0;34m[\u001b[0m\u001b[0mvi\u001b[0m \u001b[0;32mfor\u001b[0m \u001b[0mvi\u001b[0m \u001b[0;32min\u001b[0m \u001b[0mall_vars\u001b[0m \u001b[0;32mif\u001b[0m \u001b[0mre\u001b[0m\u001b[0;34m.\u001b[0m\u001b[0mmatch\u001b[0m\u001b[0;34m(\u001b[0m\u001b[0;34m\".*_impact_.*\"\u001b[0m\u001b[0;34m,\u001b[0m \u001b[0mvi\u001b[0m\u001b[0;34m)\u001b[0m\u001b[0;34m]\u001b[0m\u001b[0;34m}\u001b[0m\u001b[0;34m)\u001b[0m\u001b[0;34m\u001b[0m\u001b[0;34m\u001b[0m\u001b[0m\n\u001b[1;32m      3\u001b[0m corr_frame[\"naive_train_correlation\"] = [ \n\u001b[0;32m----> 4\u001b[0;31m     scipy.stats.pearsonr(naive_train[vi], y_train)[0] for vi in corr_frame[\"variable\"]]\n\u001b[0m\u001b[1;32m      5\u001b[0m corr_frame[\"cross_frame_correlation\"] = [ \n\u001b[1;32m      6\u001b[0m     scipy.stats.pearsonr(cross_frame[vi], y_train)[0] for vi in corr_frame[\"variable\"]]\n",
      "\u001b[0;32m~/anaconda3/envs/aiAcademy/lib/python3.7/site-packages/pandas/core/frame.py\u001b[0m in \u001b[0;36m__getitem__\u001b[0;34m(self, key)\u001b[0m\n\u001b[1;32m   2925\u001b[0m             \u001b[0;32mif\u001b[0m \u001b[0mself\u001b[0m\u001b[0;34m.\u001b[0m\u001b[0mcolumns\u001b[0m\u001b[0;34m.\u001b[0m\u001b[0mnlevels\u001b[0m \u001b[0;34m>\u001b[0m \u001b[0;36m1\u001b[0m\u001b[0;34m:\u001b[0m\u001b[0;34m\u001b[0m\u001b[0;34m\u001b[0m\u001b[0m\n\u001b[1;32m   2926\u001b[0m                 \u001b[0;32mreturn\u001b[0m \u001b[0mself\u001b[0m\u001b[0;34m.\u001b[0m\u001b[0m_getitem_multilevel\u001b[0m\u001b[0;34m(\u001b[0m\u001b[0mkey\u001b[0m\u001b[0;34m)\u001b[0m\u001b[0;34m\u001b[0m\u001b[0;34m\u001b[0m\u001b[0m\n\u001b[0;32m-> 2927\u001b[0;31m             \u001b[0mindexer\u001b[0m \u001b[0;34m=\u001b[0m \u001b[0mself\u001b[0m\u001b[0;34m.\u001b[0m\u001b[0mcolumns\u001b[0m\u001b[0;34m.\u001b[0m\u001b[0mget_loc\u001b[0m\u001b[0;34m(\u001b[0m\u001b[0mkey\u001b[0m\u001b[0;34m)\u001b[0m\u001b[0;34m\u001b[0m\u001b[0;34m\u001b[0m\u001b[0m\n\u001b[0m\u001b[1;32m   2928\u001b[0m             \u001b[0;32mif\u001b[0m \u001b[0mis_integer\u001b[0m\u001b[0;34m(\u001b[0m\u001b[0mindexer\u001b[0m\u001b[0;34m)\u001b[0m\u001b[0;34m:\u001b[0m\u001b[0;34m\u001b[0m\u001b[0;34m\u001b[0m\u001b[0m\n\u001b[1;32m   2929\u001b[0m                 \u001b[0mindexer\u001b[0m \u001b[0;34m=\u001b[0m \u001b[0;34m[\u001b[0m\u001b[0mindexer\u001b[0m\u001b[0;34m]\u001b[0m\u001b[0;34m\u001b[0m\u001b[0;34m\u001b[0m\u001b[0m\n",
      "\u001b[0;32m~/anaconda3/envs/aiAcademy/lib/python3.7/site-packages/pandas/core/indexes/base.py\u001b[0m in \u001b[0;36mget_loc\u001b[0;34m(self, key, method, tolerance)\u001b[0m\n\u001b[1;32m   2657\u001b[0m                 \u001b[0;32mreturn\u001b[0m \u001b[0mself\u001b[0m\u001b[0;34m.\u001b[0m\u001b[0m_engine\u001b[0m\u001b[0;34m.\u001b[0m\u001b[0mget_loc\u001b[0m\u001b[0;34m(\u001b[0m\u001b[0mkey\u001b[0m\u001b[0;34m)\u001b[0m\u001b[0;34m\u001b[0m\u001b[0;34m\u001b[0m\u001b[0m\n\u001b[1;32m   2658\u001b[0m             \u001b[0;32mexcept\u001b[0m \u001b[0mKeyError\u001b[0m\u001b[0;34m:\u001b[0m\u001b[0;34m\u001b[0m\u001b[0;34m\u001b[0m\u001b[0m\n\u001b[0;32m-> 2659\u001b[0;31m                 \u001b[0;32mreturn\u001b[0m \u001b[0mself\u001b[0m\u001b[0;34m.\u001b[0m\u001b[0m_engine\u001b[0m\u001b[0;34m.\u001b[0m\u001b[0mget_loc\u001b[0m\u001b[0;34m(\u001b[0m\u001b[0mself\u001b[0m\u001b[0;34m.\u001b[0m\u001b[0m_maybe_cast_indexer\u001b[0m\u001b[0;34m(\u001b[0m\u001b[0mkey\u001b[0m\u001b[0;34m)\u001b[0m\u001b[0;34m)\u001b[0m\u001b[0;34m\u001b[0m\u001b[0;34m\u001b[0m\u001b[0m\n\u001b[0m\u001b[1;32m   2660\u001b[0m         \u001b[0mindexer\u001b[0m \u001b[0;34m=\u001b[0m \u001b[0mself\u001b[0m\u001b[0;34m.\u001b[0m\u001b[0mget_indexer\u001b[0m\u001b[0;34m(\u001b[0m\u001b[0;34m[\u001b[0m\u001b[0mkey\u001b[0m\u001b[0;34m]\u001b[0m\u001b[0;34m,\u001b[0m \u001b[0mmethod\u001b[0m\u001b[0;34m=\u001b[0m\u001b[0mmethod\u001b[0m\u001b[0;34m,\u001b[0m \u001b[0mtolerance\u001b[0m\u001b[0;34m=\u001b[0m\u001b[0mtolerance\u001b[0m\u001b[0;34m)\u001b[0m\u001b[0;34m\u001b[0m\u001b[0;34m\u001b[0m\u001b[0m\n\u001b[1;32m   2661\u001b[0m         \u001b[0;32mif\u001b[0m \u001b[0mindexer\u001b[0m\u001b[0;34m.\u001b[0m\u001b[0mndim\u001b[0m \u001b[0;34m>\u001b[0m \u001b[0;36m1\u001b[0m \u001b[0;32mor\u001b[0m \u001b[0mindexer\u001b[0m\u001b[0;34m.\u001b[0m\u001b[0msize\u001b[0m \u001b[0;34m>\u001b[0m \u001b[0;36m1\u001b[0m\u001b[0;34m:\u001b[0m\u001b[0;34m\u001b[0m\u001b[0;34m\u001b[0m\u001b[0m\n",
      "\u001b[0;32mpandas/_libs/index.pyx\u001b[0m in \u001b[0;36mpandas._libs.index.IndexEngine.get_loc\u001b[0;34m()\u001b[0m\n",
      "\u001b[0;32mpandas/_libs/index.pyx\u001b[0m in \u001b[0;36mpandas._libs.index.IndexEngine.get_loc\u001b[0;34m()\u001b[0m\n",
      "\u001b[0;32mpandas/_libs/hashtable_class_helper.pxi\u001b[0m in \u001b[0;36mpandas._libs.hashtable.PyObjectHashTable.get_item\u001b[0;34m()\u001b[0m\n",
      "\u001b[0;32mpandas/_libs/hashtable_class_helper.pxi\u001b[0m in \u001b[0;36mpandas._libs.hashtable.PyObjectHashTable.get_item\u001b[0;34m()\u001b[0m\n",
      "\u001b[0;31mKeyError\u001b[0m: 'noise_0_impact_code'"
     ]
    }
   ],
   "source": [
    "all_vars = [vi for vi in plan.score_frame_[\"variable\"]]\n",
    "corr_frame = pandas.DataFrame({\"variable\":[vi for vi in all_vars if re.match(\".*_impact_.*\", vi)]})\n",
    "corr_frame[\"naive_train_correlation\"] = [ \n",
    "    scipy.stats.pearsonr(naive_train[vi], y_train)[0] for vi in corr_frame[\"variable\"]]\n",
    "corr_frame[\"cross_frame_correlation\"] = [ \n",
    "    scipy.stats.pearsonr(cross_frame[vi], y_train)[0] for vi in corr_frame[\"variable\"]]\n",
    "corr_frame[\"test_correlation\"] = [ \n",
    "    scipy.stats.pearsonr(prepared_test[vi], y_test)[0] for vi in corr_frame[\"variable\"]]\n",
    "corr_frame[\"is_noise\"] = [re.match(\"^noise_.*\", vi) is not None for vi in corr_frame[\"variable\"]]\n",
    "corr_frame\n"
   ]
  },
  {
   "cell_type": "code",
   "execution_count": null,
   "metadata": {},
   "outputs": [],
   "source": [
    "seaborn.scatterplot(x = \"naive_train_correlation\", y = \"test_correlation\", data = corr_frame, hue = \"is_noise\")\n",
    "matplotlib.pyplot.plot([-1, 1], [-1, 1], color=\"red\")\n",
    "matplotlib.pyplot.xlim(-.2,1)\n",
    "matplotlib.pyplot.ylim(-.2,1)\n",
    "matplotlib.pyplot.gca().set_aspect('equal', adjustable='box')"
   ]
  },
  {
   "cell_type": "code",
   "execution_count": null,
   "metadata": {},
   "outputs": [],
   "source": [
    "seaborn.scatterplot(x = \"cross_frame_correlation\", y = \"test_correlation\", data = corr_frame,  hue = \"is_noise\")\n",
    "matplotlib.pyplot.plot([-1, 1], [-1, 1], color=\"red\")\n",
    "matplotlib.pyplot.xlim(-.2,1)\n",
    "matplotlib.pyplot.ylim(-.2,1)\n",
    "matplotlib.pyplot.gca().set_aspect('equal', adjustable='box')"
   ]
  },
  {
   "cell_type": "code",
   "execution_count": null,
   "metadata": {},
   "outputs": [],
   "source": [
    "plan.score_frame_.tail()"
   ]
  },
  {
   "cell_type": "code",
   "execution_count": null,
   "metadata": {},
   "outputs": [],
   "source": [
    "recommended_vars = [vi for vi in plan.score_frame_[\"variable\"][plan.score_frame_[\"recommended\"]]]\n",
    "recommended_vars"
   ]
  },
  {
   "cell_type": "code",
   "execution_count": null,
   "metadata": {},
   "outputs": [],
   "source": []
  },
  {
   "cell_type": "code",
   "execution_count": null,
   "metadata": {},
   "outputs": [],
   "source": [
    "plot_train = pandas.DataFrame({\"y\":y_train})\n",
    "plot_test = pandas.DataFrame({\"y\":y_test})"
   ]
  },
  {
   "cell_type": "code",
   "execution_count": null,
   "metadata": {},
   "outputs": [],
   "source": [
    "fitter = sklearn.linear_model.LinearRegression(fit_intercept = True)"
   ]
  },
  {
   "cell_type": "code",
   "execution_count": null,
   "metadata": {},
   "outputs": [],
   "source": [
    "fitter.fit(cross_frame[all_vars], y_train)\n",
    "plot_train[\"predict_cross_all_vars\"] = fitter.predict(cross_frame[all_vars])\n",
    "plot_test[\"predict_cross_all_vars\"] = fitter.predict(prepared_test[all_vars])"
   ]
  },
  {
   "cell_type": "code",
   "execution_count": null,
   "metadata": {},
   "outputs": [],
   "source": [
    "fitter.fit(cross_frame[recommended_vars], y_train)\n",
    "plot_train[\"predict_cross_recommended_vars\"] = fitter.predict(cross_frame[recommended_vars])\n",
    "plot_test[\"predict_cross_recommended_vars\"] = fitter.predict(prepared_test[recommended_vars])"
   ]
  },
  {
   "cell_type": "code",
   "execution_count": null,
   "metadata": {},
   "outputs": [],
   "source": [
    "fitter.fit(naive_train[all_vars], y_train)\n",
    "plot_train[\"predict_naive_all_vars\"] = fitter.predict(naive_train[all_vars])\n",
    "plot_test[\"predict_naive_all_vars\"] = fitter.predict(prepared_test[all_vars])"
   ]
  },
  {
   "cell_type": "code",
   "execution_count": null,
   "metadata": {},
   "outputs": [],
   "source": [
    "plot_test.head()"
   ]
  },
  {
   "cell_type": "code",
   "execution_count": null,
   "metadata": {},
   "outputs": [],
   "source": [
    "def rmse(x, y):\n",
    "    return numpy.sqrt(numpy.mean((x-y)**2))"
   ]
  },
  {
   "cell_type": "code",
   "execution_count": null,
   "metadata": {},
   "outputs": [],
   "source": [
    "print(rmse(plot_train[\"predict_naive_all_vars\"], plot_train[\"y\"]))\n",
    "seaborn.scatterplot(x=\"predict_naive_all_vars\", y =\"y\", data = plot_train)\n",
    "plt = matplotlib.pyplot.title(\"Naive prediction on train\")"
   ]
  },
  {
   "cell_type": "code",
   "execution_count": null,
   "metadata": {},
   "outputs": [],
   "source": [
    "print(rmse(plot_train[\"predict_cross_all_vars\"], plot_train[\"y\"]))\n",
    "seaborn.scatterplot(x=\"predict_cross_all_vars\", y =\"y\", data = plot_train)\n",
    "plt = matplotlib.pyplot.title(\"Cross prediction on (all vars) train\")"
   ]
  },
  {
   "cell_type": "code",
   "execution_count": null,
   "metadata": {},
   "outputs": [],
   "source": [
    "print(rmse(plot_train[\"predict_cross_recommended_vars\"], plot_train[\"y\"]))\n",
    "seaborn.scatterplot(x=\"predict_cross_recommended_vars\", y =\"y\", data = plot_train)\n",
    "plt = matplotlib.pyplot.title(\"Cross prediction (recommended vars) on train\")"
   ]
  },
  {
   "cell_type": "code",
   "execution_count": null,
   "metadata": {},
   "outputs": [],
   "source": [
    "print(rmse(plot_test[\"predict_naive_all_vars\"], plot_test[\"y\"]))\n",
    "print()\n",
    "seaborn.scatterplot(x=\"predict_naive_all_vars\", y =\"y\", data = plot_test)\n",
    "plt = matplotlib.pyplot.title(\"Naive prediction on test\")"
   ]
  },
  {
   "cell_type": "code",
   "execution_count": null,
   "metadata": {},
   "outputs": [],
   "source": [
    "print(rmse(plot_test[\"predict_cross_all_vars\"], plot_test[\"y\"]))\n",
    "seaborn.scatterplot(x=\"predict_cross_all_vars\", y =\"y\", data = plot_test)\n",
    "plt = matplotlib.pyplot.title(\"Cross prediction on (all vars) test\")"
   ]
  },
  {
   "cell_type": "code",
   "execution_count": null,
   "metadata": {},
   "outputs": [],
   "source": [
    "print(rmse(plot_test[\"predict_cross_recommended_vars\"], plot_test[\"y\"]))\n",
    "seaborn.scatterplot(x=\"predict_cross_recommended_vars\", y =\"y\", data = plot_test)\n",
    "plt = matplotlib.pyplot.title(\"Cross prediction (recommended vars) on test\")"
   ]
  },
  {
   "cell_type": "code",
   "execution_count": null,
   "metadata": {},
   "outputs": [],
   "source": [
    "smf = statsmodels.api.OLS(\n",
    "    y_train, \n",
    "    statsmodels.api.add_constant(naive_train[all_vars])).fit()\n",
    "smf.summary()"
   ]
  },
  {
   "cell_type": "code",
   "execution_count": null,
   "metadata": {},
   "outputs": [],
   "source": [
    "smf = statsmodels.api.OLS(\n",
    "    y_train, \n",
    "    statsmodels.api.add_constant(cross_frame[all_vars])).fit()\n",
    "smf.summary()"
   ]
  },
  {
   "cell_type": "code",
   "execution_count": null,
   "metadata": {},
   "outputs": [],
   "source": [
    "params = {'use_hierarchical_estimate':True}\n",
    "params"
   ]
  },
  {
   "cell_type": "code",
   "execution_count": null,
   "metadata": {},
   "outputs": [],
   "source": []
  }
 ],
 "metadata": {
  "kernelspec": {
   "display_name": "Python 3",
   "language": "python",
   "name": "python3"
  },
  "language_info": {
   "codemirror_mode": {
    "name": "ipython",
    "version": 3
   },
   "file_extension": ".py",
   "mimetype": "text/x-python",
   "name": "python",
   "nbconvert_exporter": "python",
   "pygments_lexer": "ipython3",
   "version": "3.7.3"
  }
 },
 "nbformat": 4,
 "nbformat_minor": 4
}
