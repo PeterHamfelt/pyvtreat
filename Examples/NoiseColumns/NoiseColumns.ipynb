{
 "cells": [
  {
   "cell_type": "code",
   "execution_count": null,
   "metadata": {},
   "outputs": [],
   "source": []
  },
  {
   "cell_type": "code",
   "execution_count": 1,
   "metadata": {},
   "outputs": [
    {
     "name": "stdout",
     "output_type": "stream",
     "text": [
      "Processing /Users/johnmount/Documents/work/pyvtreat/pkg/dist/vtreat-0.1.tar.gz\n",
      "Requirement already satisfied: numpy in /Users/johnmount/anaconda3/envs/aiAcademy/lib/python3.7/site-packages (from vtreat==0.1) (1.16.4)\n",
      "Requirement already satisfied: pandas in /Users/johnmount/anaconda3/envs/aiAcademy/lib/python3.7/site-packages (from vtreat==0.1) (0.24.2)\n",
      "Requirement already satisfied: statistics in /Users/johnmount/anaconda3/envs/aiAcademy/lib/python3.7/site-packages (from vtreat==0.1) (1.0.3.5)\n",
      "Requirement already satisfied: scipy in /Users/johnmount/anaconda3/envs/aiAcademy/lib/python3.7/site-packages (from vtreat==0.1) (1.2.1)\n",
      "Requirement already satisfied: pytz>=2011k in /Users/johnmount/anaconda3/envs/aiAcademy/lib/python3.7/site-packages (from pandas->vtreat==0.1) (2019.1)\n",
      "Requirement already satisfied: python-dateutil>=2.5.0 in /Users/johnmount/anaconda3/envs/aiAcademy/lib/python3.7/site-packages (from pandas->vtreat==0.1) (2.8.0)\n",
      "Requirement already satisfied: docutils>=0.3 in /Users/johnmount/anaconda3/envs/aiAcademy/lib/python3.7/site-packages (from statistics->vtreat==0.1) (0.14)\n",
      "Requirement already satisfied: six>=1.5 in /Users/johnmount/anaconda3/envs/aiAcademy/lib/python3.7/site-packages (from python-dateutil>=2.5.0->pandas->vtreat==0.1) (1.12.0)\n",
      "Building wheels for collected packages: vtreat\n",
      "  Building wheel for vtreat (setup.py) ... \u001b[?25ldone\n",
      "\u001b[?25h  Stored in directory: /Users/johnmount/Library/Caches/pip/wheels/cf/06/fc/6b2552717486fb6401f19308eec24381555e456e3bd9cfb103\n",
      "Successfully built vtreat\n",
      "Installing collected packages: vtreat\n",
      "  Found existing installation: vtreat 0.1\n",
      "    Uninstalling vtreat-0.1:\n",
      "      Successfully uninstalled vtreat-0.1\n",
      "Successfully installed vtreat-0.1\n"
     ]
    }
   ],
   "source": [
    "!pip install /Users/johnmount/Documents/work/pyvtreat/pkg/dist/vtreat-0.1.tar.gz\n",
    "#!pip install https://github.com/WinVector/pyvtreat/raw/master/pkg/dist/vtreat-0.1.tar.gz"
   ]
  },
  {
   "cell_type": "code",
   "execution_count": 2,
   "metadata": {},
   "outputs": [],
   "source": [
    "import pandas\n",
    "import numpy.random\n",
    "import vtreat\n",
    "import sklearn.linear_model\n",
    "import seaborn\n",
    "import matplotlib.pyplot\n",
    "import statsmodels.api\n",
    "import scipy.stats\n",
    "import re"
   ]
  },
  {
   "cell_type": "code",
   "execution_count": 3,
   "metadata": {},
   "outputs": [],
   "source": [
    "n_rows = 2000\n",
    "n_signal_variables = 2\n",
    "n_noise_variables = 2\n",
    "n_levels = 500"
   ]
  },
  {
   "cell_type": "code",
   "execution_count": 4,
   "metadata": {},
   "outputs": [],
   "source": [
    "d = pandas.DataFrame({\"y\":numpy.random.normal(size = n_rows)})"
   ]
  },
  {
   "cell_type": "code",
   "execution_count": 5,
   "metadata": {},
   "outputs": [],
   "source": [
    "def mk_var_values(n_levels):\n",
    "    values = {}\n",
    "    for i in range(n_levels):\n",
    "        values[\"level_\" + str(i)] = numpy.random.normal(size=1)[0]\n",
    "    return values"
   ]
  },
  {
   "cell_type": "code",
   "execution_count": 6,
   "metadata": {},
   "outputs": [],
   "source": [
    "for i in range(n_signal_variables):\n",
    "    var_name = \"var_\" + str(i)\n",
    "    levs = mk_var_values(n_levels)\n",
    "    keys = [ k for k in levs.keys() ]\n",
    "    observed = [ keys[i] for i in numpy.random.choice(len(keys), size=n_rows, replace=True)]\n",
    "    effect = numpy.asarray([ levs[k] for k in observed ])\n",
    "    d[var_name] = observed\n",
    "    d[\"y\"] = d[\"y\"] + effect"
   ]
  },
  {
   "cell_type": "code",
   "execution_count": 7,
   "metadata": {},
   "outputs": [],
   "source": [
    "for i in range(n_noise_variables):\n",
    "    var_name = \"noise_\" + str(i)\n",
    "    levs = mk_var_values(n_levels)\n",
    "    keys = [ k for k in levs.keys() ]\n",
    "    observed = [ keys[i] for i in numpy.random.choice(len(keys), size=n_rows, replace=True)]\n",
    "    d[var_name] = observed"
   ]
  },
  {
   "cell_type": "code",
   "execution_count": 8,
   "metadata": {},
   "outputs": [
    {
     "data": {
      "text/html": [
       "<div>\n",
       "<style scoped>\n",
       "    .dataframe tbody tr th:only-of-type {\n",
       "        vertical-align: middle;\n",
       "    }\n",
       "\n",
       "    .dataframe tbody tr th {\n",
       "        vertical-align: top;\n",
       "    }\n",
       "\n",
       "    .dataframe thead th {\n",
       "        text-align: right;\n",
       "    }\n",
       "</style>\n",
       "<table border=\"1\" class=\"dataframe\">\n",
       "  <thead>\n",
       "    <tr style=\"text-align: right;\">\n",
       "      <th></th>\n",
       "      <th>y</th>\n",
       "      <th>var_0</th>\n",
       "      <th>var_1</th>\n",
       "      <th>noise_0</th>\n",
       "      <th>noise_1</th>\n",
       "    </tr>\n",
       "  </thead>\n",
       "  <tbody>\n",
       "    <tr>\n",
       "      <th>0</th>\n",
       "      <td>0.325557</td>\n",
       "      <td>level_275</td>\n",
       "      <td>level_137</td>\n",
       "      <td>level_80</td>\n",
       "      <td>level_368</td>\n",
       "    </tr>\n",
       "    <tr>\n",
       "      <th>1</th>\n",
       "      <td>-1.786793</td>\n",
       "      <td>level_12</td>\n",
       "      <td>level_63</td>\n",
       "      <td>level_258</td>\n",
       "      <td>level_294</td>\n",
       "    </tr>\n",
       "    <tr>\n",
       "      <th>2</th>\n",
       "      <td>-1.196302</td>\n",
       "      <td>level_340</td>\n",
       "      <td>level_181</td>\n",
       "      <td>level_235</td>\n",
       "      <td>level_88</td>\n",
       "    </tr>\n",
       "    <tr>\n",
       "      <th>3</th>\n",
       "      <td>2.135385</td>\n",
       "      <td>level_190</td>\n",
       "      <td>level_294</td>\n",
       "      <td>level_476</td>\n",
       "      <td>level_355</td>\n",
       "    </tr>\n",
       "    <tr>\n",
       "      <th>4</th>\n",
       "      <td>1.494962</td>\n",
       "      <td>level_14</td>\n",
       "      <td>level_19</td>\n",
       "      <td>level_87</td>\n",
       "      <td>level_144</td>\n",
       "    </tr>\n",
       "  </tbody>\n",
       "</table>\n",
       "</div>"
      ],
      "text/plain": [
       "          y      var_0      var_1    noise_0    noise_1\n",
       "0  0.325557  level_275  level_137   level_80  level_368\n",
       "1 -1.786793   level_12   level_63  level_258  level_294\n",
       "2 -1.196302  level_340  level_181  level_235   level_88\n",
       "3  2.135385  level_190  level_294  level_476  level_355\n",
       "4  1.494962   level_14   level_19   level_87  level_144"
      ]
     },
     "execution_count": 8,
     "metadata": {},
     "output_type": "execute_result"
    }
   ],
   "source": [
    "d.head()"
   ]
  },
  {
   "cell_type": "code",
   "execution_count": 9,
   "metadata": {},
   "outputs": [],
   "source": [
    "is_train = numpy.random.uniform(size=n_rows)<=0.5"
   ]
  },
  {
   "cell_type": "code",
   "execution_count": 10,
   "metadata": {},
   "outputs": [],
   "source": [
    "d_train = d.loc[is_train,:].copy()\n",
    "d_train.reset_index(inplace=True, drop=True)\n",
    "y_train = numpy.asarray(d_train[\"y\"])\n",
    "d_train.drop([\"y\"], axis=1, inplace=True)\n",
    "d_test = d.loc[numpy.logical_not(is_train),:].copy()\n",
    "d_test.reset_index(inplace=True, drop=True)\n",
    "y_test = numpy.asarray(d_test[\"y\"])\n",
    "d_test.drop([\"y\"], axis=1, inplace=True)"
   ]
  },
  {
   "cell_type": "code",
   "execution_count": 11,
   "metadata": {},
   "outputs": [],
   "source": [
    "plan = vtreat.NumericOutcomeTreatment()"
   ]
  },
  {
   "cell_type": "code",
   "execution_count": 12,
   "metadata": {},
   "outputs": [],
   "source": [
    "cross_frame = plan.fit_transform(d_train, y_train)\n",
    "prepared_test = plan.transform(d_test)\n",
    "naive_train = plan.transform(d_train)"
   ]
  },
  {
   "cell_type": "code",
   "execution_count": 13,
   "metadata": {},
   "outputs": [
    {
     "data": {
      "text/html": [
       "<div>\n",
       "<style scoped>\n",
       "    .dataframe tbody tr th:only-of-type {\n",
       "        vertical-align: middle;\n",
       "    }\n",
       "\n",
       "    .dataframe tbody tr th {\n",
       "        vertical-align: top;\n",
       "    }\n",
       "\n",
       "    .dataframe thead th {\n",
       "        text-align: right;\n",
       "    }\n",
       "</style>\n",
       "<table border=\"1\" class=\"dataframe\">\n",
       "  <thead>\n",
       "    <tr style=\"text-align: right;\">\n",
       "      <th></th>\n",
       "      <th>var_0_impact_code</th>\n",
       "      <th>var_0_deviance_code</th>\n",
       "      <th>var_0_prevalence_code</th>\n",
       "      <th>var_1_impact_code</th>\n",
       "      <th>var_1_deviance_code</th>\n",
       "      <th>var_1_prevalence_code</th>\n",
       "      <th>noise_0_impact_code</th>\n",
       "      <th>noise_0_deviance_code</th>\n",
       "      <th>noise_0_prevalence_code</th>\n",
       "      <th>noise_1_impact_code</th>\n",
       "      <th>noise_1_deviance_code</th>\n",
       "      <th>noise_1_prevalence_code</th>\n",
       "    </tr>\n",
       "  </thead>\n",
       "  <tbody>\n",
       "    <tr>\n",
       "      <th>0</th>\n",
       "      <td>0.000000</td>\n",
       "      <td>1.465619</td>\n",
       "      <td>0.000987</td>\n",
       "      <td>0.000000</td>\n",
       "      <td>0.000000</td>\n",
       "      <td>0.000000</td>\n",
       "      <td>-0.076087</td>\n",
       "      <td>1.485839</td>\n",
       "      <td>0.004936</td>\n",
       "      <td>0.000000e+00</td>\n",
       "      <td>1.772358</td>\n",
       "      <td>0.001974</td>\n",
       "    </tr>\n",
       "    <tr>\n",
       "      <th>1</th>\n",
       "      <td>-0.023919</td>\n",
       "      <td>3.338983</td>\n",
       "      <td>0.002962</td>\n",
       "      <td>0.000000</td>\n",
       "      <td>1.417473</td>\n",
       "      <td>0.000987</td>\n",
       "      <td>0.000000</td>\n",
       "      <td>0.000000</td>\n",
       "      <td>0.000000</td>\n",
       "      <td>0.000000e+00</td>\n",
       "      <td>0.000000</td>\n",
       "      <td>0.000000</td>\n",
       "    </tr>\n",
       "    <tr>\n",
       "      <th>2</th>\n",
       "      <td>0.417644</td>\n",
       "      <td>1.181621</td>\n",
       "      <td>0.002962</td>\n",
       "      <td>-1.693888</td>\n",
       "      <td>1.075977</td>\n",
       "      <td>0.002962</td>\n",
       "      <td>0.000000</td>\n",
       "      <td>1.760554</td>\n",
       "      <td>0.000987</td>\n",
       "      <td>0.000000e+00</td>\n",
       "      <td>1.827620</td>\n",
       "      <td>0.000987</td>\n",
       "    </tr>\n",
       "    <tr>\n",
       "      <th>3</th>\n",
       "      <td>0.000000</td>\n",
       "      <td>1.481177</td>\n",
       "      <td>0.001974</td>\n",
       "      <td>0.000000</td>\n",
       "      <td>0.000000</td>\n",
       "      <td>0.000987</td>\n",
       "      <td>-0.201414</td>\n",
       "      <td>0.803523</td>\n",
       "      <td>0.002962</td>\n",
       "      <td>-2.775558e-17</td>\n",
       "      <td>1.810779</td>\n",
       "      <td>0.000987</td>\n",
       "    </tr>\n",
       "    <tr>\n",
       "      <th>4</th>\n",
       "      <td>0.256809</td>\n",
       "      <td>3.284083</td>\n",
       "      <td>0.002962</td>\n",
       "      <td>0.000000</td>\n",
       "      <td>0.000000</td>\n",
       "      <td>0.000987</td>\n",
       "      <td>0.000000</td>\n",
       "      <td>1.760554</td>\n",
       "      <td>0.000987</td>\n",
       "      <td>0.000000e+00</td>\n",
       "      <td>1.827620</td>\n",
       "      <td>0.000987</td>\n",
       "    </tr>\n",
       "  </tbody>\n",
       "</table>\n",
       "</div>"
      ],
      "text/plain": [
       "   var_0_impact_code  var_0_deviance_code  var_0_prevalence_code  \\\n",
       "0           0.000000             1.465619               0.000987   \n",
       "1          -0.023919             3.338983               0.002962   \n",
       "2           0.417644             1.181621               0.002962   \n",
       "3           0.000000             1.481177               0.001974   \n",
       "4           0.256809             3.284083               0.002962   \n",
       "\n",
       "   var_1_impact_code  var_1_deviance_code  var_1_prevalence_code  \\\n",
       "0           0.000000             0.000000               0.000000   \n",
       "1           0.000000             1.417473               0.000987   \n",
       "2          -1.693888             1.075977               0.002962   \n",
       "3           0.000000             0.000000               0.000987   \n",
       "4           0.000000             0.000000               0.000987   \n",
       "\n",
       "   noise_0_impact_code  noise_0_deviance_code  noise_0_prevalence_code  \\\n",
       "0            -0.076087               1.485839                 0.004936   \n",
       "1             0.000000               0.000000                 0.000000   \n",
       "2             0.000000               1.760554                 0.000987   \n",
       "3            -0.201414               0.803523                 0.002962   \n",
       "4             0.000000               1.760554                 0.000987   \n",
       "\n",
       "   noise_1_impact_code  noise_1_deviance_code  noise_1_prevalence_code  \n",
       "0         0.000000e+00               1.772358                 0.001974  \n",
       "1         0.000000e+00               0.000000                 0.000000  \n",
       "2         0.000000e+00               1.827620                 0.000987  \n",
       "3        -2.775558e-17               1.810779                 0.000987  \n",
       "4         0.000000e+00               1.827620                 0.000987  "
      ]
     },
     "execution_count": 13,
     "metadata": {},
     "output_type": "execute_result"
    }
   ],
   "source": [
    "cross_frame.head()"
   ]
  },
  {
   "cell_type": "code",
   "execution_count": 14,
   "metadata": {},
   "outputs": [
    {
     "data": {
      "text/html": [
       "<div>\n",
       "<style scoped>\n",
       "    .dataframe tbody tr th:only-of-type {\n",
       "        vertical-align: middle;\n",
       "    }\n",
       "\n",
       "    .dataframe tbody tr th {\n",
       "        vertical-align: top;\n",
       "    }\n",
       "\n",
       "    .dataframe thead th {\n",
       "        text-align: right;\n",
       "    }\n",
       "</style>\n",
       "<table border=\"1\" class=\"dataframe\">\n",
       "  <thead>\n",
       "    <tr style=\"text-align: right;\">\n",
       "      <th></th>\n",
       "      <th>var_0_impact_code</th>\n",
       "      <th>var_0_deviance_code</th>\n",
       "      <th>var_0_prevalence_code</th>\n",
       "      <th>var_1_impact_code</th>\n",
       "      <th>var_1_deviance_code</th>\n",
       "      <th>var_1_prevalence_code</th>\n",
       "      <th>noise_0_impact_code</th>\n",
       "      <th>noise_0_deviance_code</th>\n",
       "      <th>noise_0_prevalence_code</th>\n",
       "      <th>noise_1_impact_code</th>\n",
       "      <th>noise_1_deviance_code</th>\n",
       "      <th>noise_1_prevalence_code</th>\n",
       "    </tr>\n",
       "  </thead>\n",
       "  <tbody>\n",
       "    <tr>\n",
       "      <th>0</th>\n",
       "      <td>-0.958795</td>\n",
       "      <td>0.138794</td>\n",
       "      <td>0.000987</td>\n",
       "      <td>0.000000</td>\n",
       "      <td>1.401808</td>\n",
       "      <td>0.000000</td>\n",
       "      <td>-2.120027e-01</td>\n",
       "      <td>1.386805</td>\n",
       "      <td>0.004936</td>\n",
       "      <td>-7.412084e-01</td>\n",
       "      <td>0.312062</td>\n",
       "      <td>0.001974</td>\n",
       "    </tr>\n",
       "    <tr>\n",
       "      <th>1</th>\n",
       "      <td>0.069240</td>\n",
       "      <td>2.468868</td>\n",
       "      <td>0.002962</td>\n",
       "      <td>2.377091</td>\n",
       "      <td>0.400930</td>\n",
       "      <td>0.000987</td>\n",
       "      <td>2.775558e-17</td>\n",
       "      <td>1.747047</td>\n",
       "      <td>0.000000</td>\n",
       "      <td>2.775558e-17</td>\n",
       "      <td>1.773680</td>\n",
       "      <td>0.000000</td>\n",
       "    </tr>\n",
       "    <tr>\n",
       "      <th>2</th>\n",
       "      <td>-0.158259</td>\n",
       "      <td>1.821664</td>\n",
       "      <td>0.002962</td>\n",
       "      <td>-2.011328</td>\n",
       "      <td>0.937180</td>\n",
       "      <td>0.002962</td>\n",
       "      <td>-1.207743e+00</td>\n",
       "      <td>1.110955</td>\n",
       "      <td>0.000987</td>\n",
       "      <td>-1.424567e-02</td>\n",
       "      <td>3.734444</td>\n",
       "      <td>0.000987</td>\n",
       "    </tr>\n",
       "    <tr>\n",
       "      <th>3</th>\n",
       "      <td>-0.206613</td>\n",
       "      <td>2.630248</td>\n",
       "      <td>0.001974</td>\n",
       "      <td>-0.410849</td>\n",
       "      <td>1.445101</td>\n",
       "      <td>0.000987</td>\n",
       "      <td>-5.533702e-01</td>\n",
       "      <td>1.019762</td>\n",
       "      <td>0.002962</td>\n",
       "      <td>-2.463077e-01</td>\n",
       "      <td>1.672574</td>\n",
       "      <td>0.000987</td>\n",
       "    </tr>\n",
       "    <tr>\n",
       "      <th>4</th>\n",
       "      <td>0.709177</td>\n",
       "      <td>2.910195</td>\n",
       "      <td>0.002962</td>\n",
       "      <td>-0.782650</td>\n",
       "      <td>2.165695</td>\n",
       "      <td>0.000987</td>\n",
       "      <td>1.806865e-01</td>\n",
       "      <td>2.222781</td>\n",
       "      <td>0.000987</td>\n",
       "      <td>-8.244202e-01</td>\n",
       "      <td>1.627819</td>\n",
       "      <td>0.000987</td>\n",
       "    </tr>\n",
       "  </tbody>\n",
       "</table>\n",
       "</div>"
      ],
      "text/plain": [
       "   var_0_impact_code  var_0_deviance_code  var_0_prevalence_code  \\\n",
       "0          -0.958795             0.138794               0.000987   \n",
       "1           0.069240             2.468868               0.002962   \n",
       "2          -0.158259             1.821664               0.002962   \n",
       "3          -0.206613             2.630248               0.001974   \n",
       "4           0.709177             2.910195               0.002962   \n",
       "\n",
       "   var_1_impact_code  var_1_deviance_code  var_1_prevalence_code  \\\n",
       "0           0.000000             1.401808               0.000000   \n",
       "1           2.377091             0.400930               0.000987   \n",
       "2          -2.011328             0.937180               0.002962   \n",
       "3          -0.410849             1.445101               0.000987   \n",
       "4          -0.782650             2.165695               0.000987   \n",
       "\n",
       "   noise_0_impact_code  noise_0_deviance_code  noise_0_prevalence_code  \\\n",
       "0        -2.120027e-01               1.386805                 0.004936   \n",
       "1         2.775558e-17               1.747047                 0.000000   \n",
       "2        -1.207743e+00               1.110955                 0.000987   \n",
       "3        -5.533702e-01               1.019762                 0.002962   \n",
       "4         1.806865e-01               2.222781                 0.000987   \n",
       "\n",
       "   noise_1_impact_code  noise_1_deviance_code  noise_1_prevalence_code  \n",
       "0        -7.412084e-01               0.312062                 0.001974  \n",
       "1         2.775558e-17               1.773680                 0.000000  \n",
       "2        -1.424567e-02               3.734444                 0.000987  \n",
       "3        -2.463077e-01               1.672574                 0.000987  \n",
       "4        -8.244202e-01               1.627819                 0.000987  "
      ]
     },
     "execution_count": 14,
     "metadata": {},
     "output_type": "execute_result"
    }
   ],
   "source": [
    "naive_train.head()"
   ]
  },
  {
   "cell_type": "code",
   "execution_count": 15,
   "metadata": {},
   "outputs": [
    {
     "data": {
      "text/html": [
       "<div>\n",
       "<style scoped>\n",
       "    .dataframe tbody tr th:only-of-type {\n",
       "        vertical-align: middle;\n",
       "    }\n",
       "\n",
       "    .dataframe tbody tr th {\n",
       "        vertical-align: top;\n",
       "    }\n",
       "\n",
       "    .dataframe thead th {\n",
       "        text-align: right;\n",
       "    }\n",
       "</style>\n",
       "<table border=\"1\" class=\"dataframe\">\n",
       "  <thead>\n",
       "    <tr style=\"text-align: right;\">\n",
       "      <th></th>\n",
       "      <th>variable</th>\n",
       "      <th>naive_train_correlation</th>\n",
       "      <th>cross_frame_correlation</th>\n",
       "      <th>test_correlation</th>\n",
       "      <th>is_noise</th>\n",
       "    </tr>\n",
       "  </thead>\n",
       "  <tbody>\n",
       "    <tr>\n",
       "      <th>0</th>\n",
       "      <td>var_0_impact_code</td>\n",
       "      <td>0.658869</td>\n",
       "      <td>0.278300</td>\n",
       "      <td>0.348616</td>\n",
       "      <td>False</td>\n",
       "    </tr>\n",
       "    <tr>\n",
       "      <th>1</th>\n",
       "      <td>var_1_impact_code</td>\n",
       "      <td>0.685949</td>\n",
       "      <td>0.323724</td>\n",
       "      <td>0.338967</td>\n",
       "      <td>False</td>\n",
       "    </tr>\n",
       "    <tr>\n",
       "      <th>2</th>\n",
       "      <td>noise_0_impact_code</td>\n",
       "      <td>0.511079</td>\n",
       "      <td>0.006651</td>\n",
       "      <td>0.034920</td>\n",
       "      <td>True</td>\n",
       "    </tr>\n",
       "    <tr>\n",
       "      <th>3</th>\n",
       "      <td>noise_1_impact_code</td>\n",
       "      <td>0.502374</td>\n",
       "      <td>-0.015379</td>\n",
       "      <td>0.038921</td>\n",
       "      <td>True</td>\n",
       "    </tr>\n",
       "  </tbody>\n",
       "</table>\n",
       "</div>"
      ],
      "text/plain": [
       "              variable  naive_train_correlation  cross_frame_correlation  \\\n",
       "0    var_0_impact_code                 0.658869                 0.278300   \n",
       "1    var_1_impact_code                 0.685949                 0.323724   \n",
       "2  noise_0_impact_code                 0.511079                 0.006651   \n",
       "3  noise_1_impact_code                 0.502374                -0.015379   \n",
       "\n",
       "   test_correlation  is_noise  \n",
       "0          0.348616     False  \n",
       "1          0.338967     False  \n",
       "2          0.034920      True  \n",
       "3          0.038921      True  "
      ]
     },
     "execution_count": 15,
     "metadata": {},
     "output_type": "execute_result"
    }
   ],
   "source": [
    "all_vars = [vi for vi in plan.score_frame_[\"variable\"]]\n",
    "corr_frame = pandas.DataFrame({\"variable\":[vi for vi in all_vars if re.match(\".*_impact_.*\", vi)]})\n",
    "corr_frame[\"naive_train_correlation\"] = [ \n",
    "    scipy.stats.pearsonr(naive_train[vi], y_train)[0] for vi in corr_frame[\"variable\"]]\n",
    "corr_frame[\"cross_frame_correlation\"] = [ \n",
    "    scipy.stats.pearsonr(cross_frame[vi], y_train)[0] for vi in corr_frame[\"variable\"]]\n",
    "corr_frame[\"test_correlation\"] = [ \n",
    "    scipy.stats.pearsonr(prepared_test[vi], y_test)[0] for vi in corr_frame[\"variable\"]]\n",
    "corr_frame[\"is_noise\"] = [re.match(\"^noise_.*\", vi) is not None for vi in corr_frame[\"variable\"]]\n",
    "corr_frame\n"
   ]
  },
  {
   "cell_type": "code",
   "execution_count": 16,
   "metadata": {},
   "outputs": [
    {
     "data": {
      "image/png": "[encoded data removed]",
      "text/plain": [
       "<Figure size 432x288 with 1 Axes>"
      ]
     },
     "metadata": {
      "needs_background": "light"
     },
     "output_type": "display_data"
    }
   ],
   "source": [
    "seaborn.scatterplot(x = \"naive_train_correlation\", y = \"test_correlation\", data = corr_frame, hue = \"is_noise\")\n",
    "matplotlib.pyplot.plot([-1, 1], [-1, 1], color=\"red\")\n",
    "matplotlib.pyplot.xlim(-.2,1)\n",
    "matplotlib.pyplot.ylim(-.2,1)\n",
    "matplotlib.pyplot.gca().set_aspect('equal', adjustable='box')"
   ]
  },
  {
   "cell_type": "code",
   "execution_count": 17,
   "metadata": {},
   "outputs": [
    {
     "data": {
      "image/png": "[encoded data removed]",
      "text/plain": [
       "<Figure size 432x288 with 1 Axes>"
      ]
     },
     "metadata": {
      "needs_background": "light"
     },
     "output_type": "display_data"
    }
   ],
   "source": [
    "seaborn.scatterplot(x = \"cross_frame_correlation\", y = \"test_correlation\", data = corr_frame,  hue = \"is_noise\")\n",
    "matplotlib.pyplot.plot([-1, 1], [-1, 1], color=\"red\")\n",
    "matplotlib.pyplot.xlim(-.2,1)\n",
    "matplotlib.pyplot.ylim(-.2,1)\n",
    "matplotlib.pyplot.gca().set_aspect('equal', adjustable='box')"
   ]
  },
  {
   "cell_type": "code",
   "execution_count": 18,
   "metadata": {},
   "outputs": [
    {
     "data": {
      "text/html": [
       "<div>\n",
       "<style scoped>\n",
       "    .dataframe tbody tr th:only-of-type {\n",
       "        vertical-align: middle;\n",
       "    }\n",
       "\n",
       "    .dataframe tbody tr th {\n",
       "        vertical-align: top;\n",
       "    }\n",
       "\n",
       "    .dataframe thead th {\n",
       "        text-align: right;\n",
       "    }\n",
       "</style>\n",
       "<table border=\"1\" class=\"dataframe\">\n",
       "  <thead>\n",
       "    <tr style=\"text-align: right;\">\n",
       "      <th></th>\n",
       "      <th>variable</th>\n",
       "      <th>treatment</th>\n",
       "      <th>y_aware</th>\n",
       "      <th>has_range</th>\n",
       "      <th>PearsonR</th>\n",
       "      <th>significance</th>\n",
       "      <th>vcount</th>\n",
       "      <th>recommended</th>\n",
       "    </tr>\n",
       "  </thead>\n",
       "  <tbody>\n",
       "    <tr>\n",
       "      <th>7</th>\n",
       "      <td>noise_0_deviance_code</td>\n",
       "      <td>deviance_code</td>\n",
       "      <td>True</td>\n",
       "      <td>True</td>\n",
       "      <td>-0.000713</td>\n",
       "      <td>0.981911</td>\n",
       "      <td>4.0</td>\n",
       "      <td>False</td>\n",
       "    </tr>\n",
       "    <tr>\n",
       "      <th>8</th>\n",
       "      <td>noise_0_prevalence_code</td>\n",
       "      <td>prevalence_code</td>\n",
       "      <td>False</td>\n",
       "      <td>True</td>\n",
       "      <td>-0.016386</td>\n",
       "      <td>0.602430</td>\n",
       "      <td>4.0</td>\n",
       "      <td>False</td>\n",
       "    </tr>\n",
       "    <tr>\n",
       "      <th>9</th>\n",
       "      <td>noise_1_impact_code</td>\n",
       "      <td>impact_code</td>\n",
       "      <td>True</td>\n",
       "      <td>True</td>\n",
       "      <td>-0.015379</td>\n",
       "      <td>0.624906</td>\n",
       "      <td>4.0</td>\n",
       "      <td>False</td>\n",
       "    </tr>\n",
       "    <tr>\n",
       "      <th>10</th>\n",
       "      <td>noise_1_deviance_code</td>\n",
       "      <td>deviance_code</td>\n",
       "      <td>True</td>\n",
       "      <td>True</td>\n",
       "      <td>-0.059509</td>\n",
       "      <td>0.058310</td>\n",
       "      <td>4.0</td>\n",
       "      <td>False</td>\n",
       "    </tr>\n",
       "    <tr>\n",
       "      <th>11</th>\n",
       "      <td>noise_1_prevalence_code</td>\n",
       "      <td>prevalence_code</td>\n",
       "      <td>False</td>\n",
       "      <td>True</td>\n",
       "      <td>-0.021954</td>\n",
       "      <td>0.485201</td>\n",
       "      <td>4.0</td>\n",
       "      <td>False</td>\n",
       "    </tr>\n",
       "  </tbody>\n",
       "</table>\n",
       "</div>"
      ],
      "text/plain": [
       "                   variable        treatment  y_aware  has_range  PearsonR  \\\n",
       "7     noise_0_deviance_code    deviance_code     True       True -0.000713   \n",
       "8   noise_0_prevalence_code  prevalence_code    False       True -0.016386   \n",
       "9       noise_1_impact_code      impact_code     True       True -0.015379   \n",
       "10    noise_1_deviance_code    deviance_code     True       True -0.059509   \n",
       "11  noise_1_prevalence_code  prevalence_code    False       True -0.021954   \n",
       "\n",
       "    significance  vcount  recommended  \n",
       "7       0.981911     4.0        False  \n",
       "8       0.602430     4.0        False  \n",
       "9       0.624906     4.0        False  \n",
       "10      0.058310     4.0        False  \n",
       "11      0.485201     4.0        False  "
      ]
     },
     "execution_count": 18,
     "metadata": {},
     "output_type": "execute_result"
    }
   ],
   "source": [
    "plan.score_frame_.tail()"
   ]
  },
  {
   "cell_type": "code",
   "execution_count": 19,
   "metadata": {},
   "outputs": [
    {
     "data": {
      "text/plain": [
       "['var_0_impact_code', 'var_0_deviance_code', 'var_1_impact_code']"
      ]
     },
     "execution_count": 19,
     "metadata": {},
     "output_type": "execute_result"
    }
   ],
   "source": [
    "recommended_vars = [vi for vi in plan.score_frame_[\"variable\"][plan.score_frame_[\"recommended\"]]]\n",
    "recommended_vars"
   ]
  },
  {
   "cell_type": "code",
   "execution_count": null,
   "metadata": {},
   "outputs": [],
   "source": []
  },
  {
   "cell_type": "code",
   "execution_count": 20,
   "metadata": {},
   "outputs": [],
   "source": [
    "plot_train = pandas.DataFrame({\"y\":y_train})\n",
    "plot_test = pandas.DataFrame({\"y\":y_test})"
   ]
  },
  {
   "cell_type": "code",
   "execution_count": 21,
   "metadata": {},
   "outputs": [],
   "source": [
    "fitter = sklearn.linear_model.LinearRegression(fit_intercept = True)"
   ]
  },
  {
   "cell_type": "code",
   "execution_count": 22,
   "metadata": {},
   "outputs": [],
   "source": [
    "fitter.fit(cross_frame[all_vars], y_train)\n",
    "plot_train[\"predict_cross_all_vars\"] = fitter.predict(cross_frame[all_vars])\n",
    "plot_test[\"predict_cross_all_vars\"] = fitter.predict(prepared_test[all_vars])"
   ]
  },
  {
   "cell_type": "code",
   "execution_count": 23,
   "metadata": {},
   "outputs": [],
   "source": [
    "fitter.fit(cross_frame[recommended_vars], y_train)\n",
    "plot_train[\"predict_cross_recommended_vars\"] = fitter.predict(cross_frame[recommended_vars])\n",
    "plot_test[\"predict_cross_recommended_vars\"] = fitter.predict(prepared_test[recommended_vars])"
   ]
  },
  {
   "cell_type": "code",
   "execution_count": 24,
   "metadata": {},
   "outputs": [],
   "source": [
    "fitter.fit(naive_train[all_vars], y_train)\n",
    "plot_train[\"predict_naive_all_vars\"] = fitter.predict(naive_train[all_vars])\n",
    "plot_test[\"predict_naive_all_vars\"] = fitter.predict(prepared_test[all_vars])"
   ]
  },
  {
   "cell_type": "code",
   "execution_count": 25,
   "metadata": {},
   "outputs": [
    {
     "data": {
      "text/html": [
       "<div>\n",
       "<style scoped>\n",
       "    .dataframe tbody tr th:only-of-type {\n",
       "        vertical-align: middle;\n",
       "    }\n",
       "\n",
       "    .dataframe tbody tr th {\n",
       "        vertical-align: top;\n",
       "    }\n",
       "\n",
       "    .dataframe thead th {\n",
       "        text-align: right;\n",
       "    }\n",
       "</style>\n",
       "<table border=\"1\" class=\"dataframe\">\n",
       "  <thead>\n",
       "    <tr style=\"text-align: right;\">\n",
       "      <th></th>\n",
       "      <th>y</th>\n",
       "      <th>predict_cross_all_vars</th>\n",
       "      <th>predict_cross_recommended_vars</th>\n",
       "      <th>predict_naive_all_vars</th>\n",
       "    </tr>\n",
       "  </thead>\n",
       "  <tbody>\n",
       "    <tr>\n",
       "      <th>0</th>\n",
       "      <td>0.325557</td>\n",
       "      <td>-1.807713</td>\n",
       "      <td>-1.690374</td>\n",
       "      <td>-1.576917</td>\n",
       "    </tr>\n",
       "    <tr>\n",
       "      <th>1</th>\n",
       "      <td>-1.786793</td>\n",
       "      <td>-0.152218</td>\n",
       "      <td>-0.272320</td>\n",
       "      <td>-0.360818</td>\n",
       "    </tr>\n",
       "    <tr>\n",
       "      <th>2</th>\n",
       "      <td>1.494962</td>\n",
       "      <td>0.273677</td>\n",
       "      <td>0.190411</td>\n",
       "      <td>0.996678</td>\n",
       "    </tr>\n",
       "    <tr>\n",
       "      <th>3</th>\n",
       "      <td>-0.674012</td>\n",
       "      <td>0.629003</td>\n",
       "      <td>0.513578</td>\n",
       "      <td>0.849149</td>\n",
       "    </tr>\n",
       "    <tr>\n",
       "      <th>4</th>\n",
       "      <td>-3.502033</td>\n",
       "      <td>-2.990283</td>\n",
       "      <td>-3.131341</td>\n",
       "      <td>-3.073413</td>\n",
       "    </tr>\n",
       "  </tbody>\n",
       "</table>\n",
       "</div>"
      ],
      "text/plain": [
       "          y  predict_cross_all_vars  predict_cross_recommended_vars  \\\n",
       "0  0.325557               -1.807713                       -1.690374   \n",
       "1 -1.786793               -0.152218                       -0.272320   \n",
       "2  1.494962                0.273677                        0.190411   \n",
       "3 -0.674012                0.629003                        0.513578   \n",
       "4 -3.502033               -2.990283                       -3.131341   \n",
       "\n",
       "   predict_naive_all_vars  \n",
       "0               -1.576917  \n",
       "1               -0.360818  \n",
       "2                0.996678  \n",
       "3                0.849149  \n",
       "4               -3.073413  "
      ]
     },
     "execution_count": 25,
     "metadata": {},
     "output_type": "execute_result"
    }
   ],
   "source": [
    "plot_test.head()"
   ]
  },
  {
   "cell_type": "code",
   "execution_count": 26,
   "metadata": {},
   "outputs": [],
   "source": [
    "def rmse(x, y):\n",
    "    return numpy.sqrt(numpy.mean((x-y)**2))"
   ]
  },
  {
   "cell_type": "code",
   "execution_count": 27,
   "metadata": {},
   "outputs": [
    {
     "name": "stdout",
     "output_type": "stream",
     "text": [
      "0.9265094741675182\n"
     ]
    },
    {
     "data": {
      "image/png": "[encoded data removed]",
      "text/plain": [
       "<Figure size 432x288 with 1 Axes>"
      ]
     },
     "metadata": {
      "needs_background": "light"
     },
     "output_type": "display_data"
    }
   ],
   "source": [
    "print(rmse(plot_train[\"predict_naive_all_vars\"], plot_train[\"y\"]))\n",
    "seaborn.scatterplot(x=\"predict_naive_all_vars\", y =\"y\", data = plot_train)\n",
    "plt = matplotlib.pyplot.title(\"Naive prediction on train\")"
   ]
  },
  {
   "cell_type": "code",
   "execution_count": 28,
   "metadata": {},
   "outputs": [
    {
     "name": "stdout",
     "output_type": "stream",
     "text": [
      "1.5987571274886379\n"
     ]
    },
    {
     "data": {
      "image/png": "[encoded data removed]",
      "text/plain": [
       "<Figure size 432x288 with 1 Axes>"
      ]
     },
     "metadata": {
      "needs_background": "light"
     },
     "output_type": "display_data"
    }
   ],
   "source": [
    "print(rmse(plot_train[\"predict_cross_all_vars\"], plot_train[\"y\"]))\n",
    "seaborn.scatterplot(x=\"predict_cross_all_vars\", y =\"y\", data = plot_train)\n",
    "plt = matplotlib.pyplot.title(\"Cross prediction on (all vars) train\")"
   ]
  },
  {
   "cell_type": "code",
   "execution_count": 29,
   "metadata": {},
   "outputs": [
    {
     "name": "stdout",
     "output_type": "stream",
     "text": [
      "1.6038337877439488\n"
     ]
    },
    {
     "data": {
      "image/png": "[encoded data removed]",
      "text/plain": [
       "<Figure size 432x288 with 1 Axes>"
      ]
     },
     "metadata": {
      "needs_background": "light"
     },
     "output_type": "display_data"
    }
   ],
   "source": [
    "print(rmse(plot_train[\"predict_cross_recommended_vars\"], plot_train[\"y\"]))\n",
    "seaborn.scatterplot(x=\"predict_cross_recommended_vars\", y =\"y\", data = plot_train)\n",
    "plt = matplotlib.pyplot.title(\"Cross prediction (recommended vars) on train\")"
   ]
  },
  {
   "cell_type": "code",
   "execution_count": 30,
   "metadata": {},
   "outputs": [
    {
     "name": "stdout",
     "output_type": "stream",
     "text": [
      "1.5229296062931856\n",
      "\n"
     ]
    },
    {
     "data": {
      "image/png": "[encoded data removed]",
      "text/plain": [
       "<Figure size 432x288 with 1 Axes>"
      ]
     },
     "metadata": {
      "needs_background": "light"
     },
     "output_type": "display_data"
    }
   ],
   "source": [
    "print(rmse(plot_test[\"predict_naive_all_vars\"], plot_test[\"y\"]))\n",
    "print()\n",
    "seaborn.scatterplot(x=\"predict_naive_all_vars\", y =\"y\", data = plot_test)\n",
    "plt = matplotlib.pyplot.title(\"Naive prediction on test\")"
   ]
  },
  {
   "cell_type": "code",
   "execution_count": 31,
   "metadata": {},
   "outputs": [
    {
     "name": "stdout",
     "output_type": "stream",
     "text": [
      "1.4897823593842137\n"
     ]
    },
    {
     "data": {
      "image/png": "[encoded data removed]",
      "text/plain": [
       "<Figure size 432x288 with 1 Axes>"
      ]
     },
     "metadata": {
      "needs_background": "light"
     },
     "output_type": "display_data"
    }
   ],
   "source": [
    "print(rmse(plot_test[\"predict_cross_all_vars\"], plot_test[\"y\"]))\n",
    "seaborn.scatterplot(x=\"predict_cross_all_vars\", y =\"y\", data = plot_test)\n",
    "plt = matplotlib.pyplot.title(\"Cross prediction on (all vars) test\")"
   ]
  },
  {
   "cell_type": "code",
   "execution_count": 32,
   "metadata": {},
   "outputs": [
    {
     "name": "stdout",
     "output_type": "stream",
     "text": [
      "1.4883058933560558\n"
     ]
    },
    {
     "data": {
      "image/png": "[encoded data removed]",
      "text/plain": [
       "<Figure size 432x288 with 1 Axes>"
      ]
     },
     "metadata": {
      "needs_background": "light"
     },
     "output_type": "display_data"
    }
   ],
   "source": [
    "print(rmse(plot_test[\"predict_cross_recommended_vars\"], plot_test[\"y\"]))\n",
    "seaborn.scatterplot(x=\"predict_cross_recommended_vars\", y =\"y\", data = plot_test)\n",
    "plt = matplotlib.pyplot.title(\"Cross prediction (recommended vars) on test\")"
   ]
  },
  {
   "cell_type": "code",
   "execution_count": 33,
   "metadata": {},
   "outputs": [
    {
     "data": {
      "text/html": [
       "<table class=\"simpletable\">\n",
       "<caption>OLS Regression Results</caption>\n",
       "<tr>\n",
       "  <th>Dep. Variable:</th>            <td>y</td>        <th>  R-squared:         </th> <td>   0.727</td> \n",
       "</tr>\n",
       "<tr>\n",
       "  <th>Model:</th>                   <td>OLS</td>       <th>  Adj. R-squared:    </th> <td>   0.724</td> \n",
       "</tr>\n",
       "<tr>\n",
       "  <th>Method:</th>             <td>Least Squares</td>  <th>  F-statistic:       </th> <td>   222.1</td> \n",
       "</tr>\n",
       "<tr>\n",
       "  <th>Date:</th>             <td>Thu, 25 Jul 2019</td> <th>  Prob (F-statistic):</th> <td>5.20e-272</td>\n",
       "</tr>\n",
       "<tr>\n",
       "  <th>Time:</th>                 <td>12:25:52</td>     <th>  Log-Likelihood:    </th> <td> -1360.1</td> \n",
       "</tr>\n",
       "<tr>\n",
       "  <th>No. Observations:</th>      <td>  1013</td>      <th>  AIC:               </th> <td>   2746.</td> \n",
       "</tr>\n",
       "<tr>\n",
       "  <th>Df Residuals:</th>          <td>  1000</td>      <th>  BIC:               </th> <td>   2810.</td> \n",
       "</tr>\n",
       "<tr>\n",
       "  <th>Df Model:</th>              <td>    12</td>      <th>                     </th>     <td> </td>    \n",
       "</tr>\n",
       "<tr>\n",
       "  <th>Covariance Type:</th>      <td>nonrobust</td>    <th>                     </th>     <td> </td>    \n",
       "</tr>\n",
       "</table>\n",
       "<table class=\"simpletable\">\n",
       "<tr>\n",
       "             <td></td>                <th>coef</th>     <th>std err</th>      <th>t</th>      <th>P>|t|</th>  <th>[0.025</th>    <th>0.975]</th>  \n",
       "</tr>\n",
       "<tr>\n",
       "  <th>const</th>                   <td>   -0.3656</td> <td>    0.131</td> <td>   -2.797</td> <td> 0.005</td> <td>   -0.622</td> <td>   -0.109</td>\n",
       "</tr>\n",
       "<tr>\n",
       "  <th>var_0_impact_code</th>       <td>    0.7547</td> <td>    0.036</td> <td>   21.036</td> <td> 0.000</td> <td>    0.684</td> <td>    0.825</td>\n",
       "</tr>\n",
       "<tr>\n",
       "  <th>var_0_deviance_code</th>     <td>    0.0644</td> <td>    0.047</td> <td>    1.380</td> <td> 0.168</td> <td>   -0.027</td> <td>    0.156</td>\n",
       "</tr>\n",
       "<tr>\n",
       "  <th>var_0_prevalence_code</th>   <td>   -2.3682</td> <td>   21.316</td> <td>   -0.111</td> <td> 0.912</td> <td>  -44.197</td> <td>   39.460</td>\n",
       "</tr>\n",
       "<tr>\n",
       "  <th>var_1_impact_code</th>       <td>    0.7468</td> <td>    0.035</td> <td>   21.319</td> <td> 0.000</td> <td>    0.678</td> <td>    0.816</td>\n",
       "</tr>\n",
       "<tr>\n",
       "  <th>var_1_deviance_code</th>     <td>    0.0340</td> <td>    0.044</td> <td>    0.765</td> <td> 0.445</td> <td>   -0.053</td> <td>    0.121</td>\n",
       "</tr>\n",
       "<tr>\n",
       "  <th>var_1_prevalence_code</th>   <td>  -19.3612</td> <td>   22.526</td> <td>   -0.860</td> <td> 0.390</td> <td>  -63.565</td> <td>   24.842</td>\n",
       "</tr>\n",
       "<tr>\n",
       "  <th>noise_0_impact_code</th>     <td>    0.4236</td> <td>    0.052</td> <td>    8.168</td> <td> 0.000</td> <td>    0.322</td> <td>    0.525</td>\n",
       "</tr>\n",
       "<tr>\n",
       "  <th>noise_0_deviance_code</th>   <td>    0.0927</td> <td>    0.039</td> <td>    2.358</td> <td> 0.019</td> <td>    0.016</td> <td>    0.170</td>\n",
       "</tr>\n",
       "<tr>\n",
       "  <th>noise_0_prevalence_code</th> <td>   -7.0142</td> <td>   21.107</td> <td>   -0.332</td> <td> 0.740</td> <td>  -48.433</td> <td>   34.405</td>\n",
       "</tr>\n",
       "<tr>\n",
       "  <th>noise_1_impact_code</th>     <td>    0.5698</td> <td>    0.050</td> <td>   11.311</td> <td> 0.000</td> <td>    0.471</td> <td>    0.669</td>\n",
       "</tr>\n",
       "<tr>\n",
       "  <th>noise_1_deviance_code</th>   <td>    0.0314</td> <td>    0.037</td> <td>    0.859</td> <td> 0.390</td> <td>   -0.040</td> <td>    0.103</td>\n",
       "</tr>\n",
       "<tr>\n",
       "  <th>noise_1_prevalence_code</th> <td>    4.5312</td> <td>   21.226</td> <td>    0.213</td> <td> 0.831</td> <td>  -37.122</td> <td>   46.184</td>\n",
       "</tr>\n",
       "</table>\n",
       "<table class=\"simpletable\">\n",
       "<tr>\n",
       "  <th>Omnibus:</th>       <td>27.863</td> <th>  Durbin-Watson:     </th> <td>   1.944</td>\n",
       "</tr>\n",
       "<tr>\n",
       "  <th>Prob(Omnibus):</th> <td> 0.000</td> <th>  Jarque-Bera (JB):  </th> <td>  61.895</td>\n",
       "</tr>\n",
       "<tr>\n",
       "  <th>Skew:</th>          <td> 0.057</td> <th>  Prob(JB):          </th> <td>3.63e-14</td>\n",
       "</tr>\n",
       "<tr>\n",
       "  <th>Kurtosis:</th>      <td> 4.206</td> <th>  Cond. No.          </th> <td>2.43e+03</td>\n",
       "</tr>\n",
       "</table><br/><br/>Warnings:<br/>[1] Standard Errors assume that the covariance matrix of the errors is correctly specified.<br/>[2] The condition number is large, 2.43e+03. This might indicate that there are<br/>strong multicollinearity or other numerical problems."
      ],
      "text/plain": [
       "<class 'statsmodels.iolib.summary.Summary'>\n",
       "\"\"\"\n",
       "                            OLS Regression Results                            \n",
       "==============================================================================\n",
       "Dep. Variable:                      y   R-squared:                       0.727\n",
       "Model:                            OLS   Adj. R-squared:                  0.724\n",
       "Method:                 Least Squares   F-statistic:                     222.1\n",
       "Date:                Thu, 25 Jul 2019   Prob (F-statistic):          5.20e-272\n",
       "Time:                        12:25:52   Log-Likelihood:                -1360.1\n",
       "No. Observations:                1013   AIC:                             2746.\n",
       "Df Residuals:                    1000   BIC:                             2810.\n",
       "Df Model:                          12                                         \n",
       "Covariance Type:            nonrobust                                         \n",
       "===========================================================================================\n",
       "                              coef    std err          t      P>|t|      [0.025      0.975]\n",
       "-------------------------------------------------------------------------------------------\n",
       "const                      -0.3656      0.131     -2.797      0.005      -0.622      -0.109\n",
       "var_0_impact_code           0.7547      0.036     21.036      0.000       0.684       0.825\n",
       "var_0_deviance_code         0.0644      0.047      1.380      0.168      -0.027       0.156\n",
       "var_0_prevalence_code      -2.3682     21.316     -0.111      0.912     -44.197      39.460\n",
       "var_1_impact_code           0.7468      0.035     21.319      0.000       0.678       0.816\n",
       "var_1_deviance_code         0.0340      0.044      0.765      0.445      -0.053       0.121\n",
       "var_1_prevalence_code     -19.3612     22.526     -0.860      0.390     -63.565      24.842\n",
       "noise_0_impact_code         0.4236      0.052      8.168      0.000       0.322       0.525\n",
       "noise_0_deviance_code       0.0927      0.039      2.358      0.019       0.016       0.170\n",
       "noise_0_prevalence_code    -7.0142     21.107     -0.332      0.740     -48.433      34.405\n",
       "noise_1_impact_code         0.5698      0.050     11.311      0.000       0.471       0.669\n",
       "noise_1_deviance_code       0.0314      0.037      0.859      0.390      -0.040       0.103\n",
       "noise_1_prevalence_code     4.5312     21.226      0.213      0.831     -37.122      46.184\n",
       "==============================================================================\n",
       "Omnibus:                       27.863   Durbin-Watson:                   1.944\n",
       "Prob(Omnibus):                  0.000   Jarque-Bera (JB):               61.895\n",
       "Skew:                           0.057   Prob(JB):                     3.63e-14\n",
       "Kurtosis:                       4.206   Cond. No.                     2.43e+03\n",
       "==============================================================================\n",
       "\n",
       "Warnings:\n",
       "[1] Standard Errors assume that the covariance matrix of the errors is correctly specified.\n",
       "[2] The condition number is large, 2.43e+03. This might indicate that there are\n",
       "strong multicollinearity or other numerical problems.\n",
       "\"\"\""
      ]
     },
     "execution_count": 33,
     "metadata": {},
     "output_type": "execute_result"
    }
   ],
   "source": [
    "smf = statsmodels.api.OLS(\n",
    "    y_train, \n",
    "    statsmodels.api.add_constant(naive_train[all_vars])).fit()\n",
    "smf.summary()"
   ]
  },
  {
   "cell_type": "code",
   "execution_count": 34,
   "metadata": {},
   "outputs": [
    {
     "data": {
      "text/html": [
       "<table class=\"simpletable\">\n",
       "<caption>OLS Regression Results</caption>\n",
       "<tr>\n",
       "  <th>Dep. Variable:</th>            <td>y</td>        <th>  R-squared:         </th> <td>   0.188</td>\n",
       "</tr>\n",
       "<tr>\n",
       "  <th>Model:</th>                   <td>OLS</td>       <th>  Adj. R-squared:    </th> <td>   0.178</td>\n",
       "</tr>\n",
       "<tr>\n",
       "  <th>Method:</th>             <td>Least Squares</td>  <th>  F-statistic:       </th> <td>   19.23</td>\n",
       "</tr>\n",
       "<tr>\n",
       "  <th>Date:</th>             <td>Thu, 25 Jul 2019</td> <th>  Prob (F-statistic):</th> <td>5.28e-38</td>\n",
       "</tr>\n",
       "<tr>\n",
       "  <th>Time:</th>                 <td>12:25:52</td>     <th>  Log-Likelihood:    </th> <td> -1912.7</td>\n",
       "</tr>\n",
       "<tr>\n",
       "  <th>No. Observations:</th>      <td>  1013</td>      <th>  AIC:               </th> <td>   3851.</td>\n",
       "</tr>\n",
       "<tr>\n",
       "  <th>Df Residuals:</th>          <td>  1000</td>      <th>  BIC:               </th> <td>   3915.</td>\n",
       "</tr>\n",
       "<tr>\n",
       "  <th>Df Model:</th>              <td>    12</td>      <th>                     </th>     <td> </td>   \n",
       "</tr>\n",
       "<tr>\n",
       "  <th>Covariance Type:</th>      <td>nonrobust</td>    <th>                     </th>     <td> </td>   \n",
       "</tr>\n",
       "</table>\n",
       "<table class=\"simpletable\">\n",
       "<tr>\n",
       "             <td></td>                <th>coef</th>     <th>std err</th>      <th>t</th>      <th>P>|t|</th>  <th>[0.025</th>    <th>0.975]</th>  \n",
       "</tr>\n",
       "<tr>\n",
       "  <th>const</th>                   <td>   -0.1733</td> <td>    0.179</td> <td>   -0.968</td> <td> 0.333</td> <td>   -0.525</td> <td>    0.178</td>\n",
       "</tr>\n",
       "<tr>\n",
       "  <th>var_0_impact_code</th>       <td>    0.7106</td> <td>    0.074</td> <td>    9.661</td> <td> 0.000</td> <td>    0.566</td> <td>    0.855</td>\n",
       "</tr>\n",
       "<tr>\n",
       "  <th>var_0_deviance_code</th>     <td>    0.0638</td> <td>    0.070</td> <td>    0.917</td> <td> 0.359</td> <td>   -0.073</td> <td>    0.200</td>\n",
       "</tr>\n",
       "<tr>\n",
       "  <th>var_0_prevalence_code</th>   <td>   21.0332</td> <td>   39.716</td> <td>    0.530</td> <td> 0.597</td> <td>  -56.903</td> <td>   98.969</td>\n",
       "</tr>\n",
       "<tr>\n",
       "  <th>var_1_impact_code</th>       <td>    0.7870</td> <td>    0.071</td> <td>   11.063</td> <td> 0.000</td> <td>    0.647</td> <td>    0.927</td>\n",
       "</tr>\n",
       "<tr>\n",
       "  <th>var_1_deviance_code</th>     <td>    0.1024</td> <td>    0.071</td> <td>    1.440</td> <td> 0.150</td> <td>   -0.037</td> <td>    0.242</td>\n",
       "</tr>\n",
       "<tr>\n",
       "  <th>var_1_prevalence_code</th>   <td>   -9.8758</td> <td>   40.858</td> <td>   -0.242</td> <td> 0.809</td> <td>  -90.053</td> <td>   70.302</td>\n",
       "</tr>\n",
       "<tr>\n",
       "  <th>noise_0_impact_code</th>     <td>   -0.0353</td> <td>    0.104</td> <td>   -0.338</td> <td> 0.735</td> <td>   -0.240</td> <td>    0.169</td>\n",
       "</tr>\n",
       "<tr>\n",
       "  <th>noise_0_deviance_code</th>   <td>    0.0144</td> <td>    0.060</td> <td>    0.242</td> <td> 0.809</td> <td>   -0.102</td> <td>    0.131</td>\n",
       "</tr>\n",
       "<tr>\n",
       "  <th>noise_0_prevalence_code</th> <td>  -26.4425</td> <td>   39.727</td> <td>   -0.666</td> <td> 0.506</td> <td> -104.401</td> <td>   51.516</td>\n",
       "</tr>\n",
       "<tr>\n",
       "  <th>noise_1_impact_code</th>     <td>    0.0795</td> <td>    0.105</td> <td>    0.760</td> <td> 0.448</td> <td>   -0.126</td> <td>    0.285</td>\n",
       "</tr>\n",
       "<tr>\n",
       "  <th>noise_1_deviance_code</th>   <td>   -0.0973</td> <td>    0.059</td> <td>   -1.655</td> <td> 0.098</td> <td>   -0.213</td> <td>    0.018</td>\n",
       "</tr>\n",
       "<tr>\n",
       "  <th>noise_1_prevalence_code</th> <td>   13.4204</td> <td>   39.578</td> <td>    0.339</td> <td> 0.735</td> <td>  -64.246</td> <td>   91.087</td>\n",
       "</tr>\n",
       "</table>\n",
       "<table class=\"simpletable\">\n",
       "<tr>\n",
       "  <th>Omnibus:</th>       <td> 0.270</td> <th>  Durbin-Watson:     </th> <td>   2.022</td>\n",
       "</tr>\n",
       "<tr>\n",
       "  <th>Prob(Omnibus):</th> <td> 0.874</td> <th>  Jarque-Bera (JB):  </th> <td>   0.311</td>\n",
       "</tr>\n",
       "<tr>\n",
       "  <th>Skew:</th>          <td> 0.038</td> <th>  Prob(JB):          </th> <td>   0.856</td>\n",
       "</tr>\n",
       "<tr>\n",
       "  <th>Kurtosis:</th>      <td> 2.959</td> <th>  Cond. No.          </th> <td>2.19e+03</td>\n",
       "</tr>\n",
       "</table><br/><br/>Warnings:<br/>[1] Standard Errors assume that the covariance matrix of the errors is correctly specified.<br/>[2] The condition number is large, 2.19e+03. This might indicate that there are<br/>strong multicollinearity or other numerical problems."
      ],
      "text/plain": [
       "<class 'statsmodels.iolib.summary.Summary'>\n",
       "\"\"\"\n",
       "                            OLS Regression Results                            \n",
       "==============================================================================\n",
       "Dep. Variable:                      y   R-squared:                       0.188\n",
       "Model:                            OLS   Adj. R-squared:                  0.178\n",
       "Method:                 Least Squares   F-statistic:                     19.23\n",
       "Date:                Thu, 25 Jul 2019   Prob (F-statistic):           5.28e-38\n",
       "Time:                        12:25:52   Log-Likelihood:                -1912.7\n",
       "No. Observations:                1013   AIC:                             3851.\n",
       "Df Residuals:                    1000   BIC:                             3915.\n",
       "Df Model:                          12                                         \n",
       "Covariance Type:            nonrobust                                         \n",
       "===========================================================================================\n",
       "                              coef    std err          t      P>|t|      [0.025      0.975]\n",
       "-------------------------------------------------------------------------------------------\n",
       "const                      -0.1733      0.179     -0.968      0.333      -0.525       0.178\n",
       "var_0_impact_code           0.7106      0.074      9.661      0.000       0.566       0.855\n",
       "var_0_deviance_code         0.0638      0.070      0.917      0.359      -0.073       0.200\n",
       "var_0_prevalence_code      21.0332     39.716      0.530      0.597     -56.903      98.969\n",
       "var_1_impact_code           0.7870      0.071     11.063      0.000       0.647       0.927\n",
       "var_1_deviance_code         0.1024      0.071      1.440      0.150      -0.037       0.242\n",
       "var_1_prevalence_code      -9.8758     40.858     -0.242      0.809     -90.053      70.302\n",
       "noise_0_impact_code        -0.0353      0.104     -0.338      0.735      -0.240       0.169\n",
       "noise_0_deviance_code       0.0144      0.060      0.242      0.809      -0.102       0.131\n",
       "noise_0_prevalence_code   -26.4425     39.727     -0.666      0.506    -104.401      51.516\n",
       "noise_1_impact_code         0.0795      0.105      0.760      0.448      -0.126       0.285\n",
       "noise_1_deviance_code      -0.0973      0.059     -1.655      0.098      -0.213       0.018\n",
       "noise_1_prevalence_code    13.4204     39.578      0.339      0.735     -64.246      91.087\n",
       "==============================================================================\n",
       "Omnibus:                        0.270   Durbin-Watson:                   2.022\n",
       "Prob(Omnibus):                  0.874   Jarque-Bera (JB):                0.311\n",
       "Skew:                           0.038   Prob(JB):                        0.856\n",
       "Kurtosis:                       2.959   Cond. No.                     2.19e+03\n",
       "==============================================================================\n",
       "\n",
       "Warnings:\n",
       "[1] Standard Errors assume that the covariance matrix of the errors is correctly specified.\n",
       "[2] The condition number is large, 2.19e+03. This might indicate that there are\n",
       "strong multicollinearity or other numerical problems.\n",
       "\"\"\""
      ]
     },
     "execution_count": 34,
     "metadata": {},
     "output_type": "execute_result"
    }
   ],
   "source": [
    "smf = statsmodels.api.OLS(\n",
    "    y_train, \n",
    "    statsmodels.api.add_constant(cross_frame[all_vars])).fit()\n",
    "smf.summary()"
   ]
  },
  {
   "cell_type": "code",
   "execution_count": 35,
   "metadata": {},
   "outputs": [
    {
     "data": {
      "text/plain": [
       "{'use_hierarchical_estimate': True}"
      ]
     },
     "execution_count": 35,
     "metadata": {},
     "output_type": "execute_result"
    }
   ],
   "source": [
    "params = {'use_hierarchical_estimate':True}\n",
    "params"
   ]
  },
  {
   "cell_type": "code",
   "execution_count": null,
   "metadata": {},
   "outputs": [],
   "source": []
  }
 ],
 "metadata": {
  "kernelspec": {
   "display_name": "Python 3",
   "language": "python",
   "name": "python3"
  },
  "language_info": {
   "codemirror_mode": {
    "name": "ipython",
    "version": 3
   },
   "file_extension": ".py",
   "mimetype": "text/x-python",
   "name": "python",
   "nbconvert_exporter": "python",
   "pygments_lexer": "ipython3",
   "version": "3.7.3"
  }
 },
 "nbformat": 4,
 "nbformat_minor": 4
}
