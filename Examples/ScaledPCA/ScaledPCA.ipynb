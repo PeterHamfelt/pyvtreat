{
 "cells": [
  {
   "cell_type": "markdown",
   "metadata": {},
   "source": [
    "Some ideas related to [Y-aware PCA](https://win-vector.com/2022/09/08/y-aware-pca/) (and L2 regression), around y-scaling."
   ]
  },
  {
   "cell_type": "code",
   "execution_count": 1,
   "metadata": {},
   "outputs": [],
   "source": [
    "import os\n",
    "\n",
    "os.chdir('/Users/johnmount/Documents/work/pyvtreat/pkg')"
   ]
  },
  {
   "cell_type": "code",
   "execution_count": 2,
   "metadata": {},
   "outputs": [],
   "source": [
    "import sklearn.linear_model\n",
    "import sklearn.metrics\n",
    "import sklearn.decomposition\n",
    "import sklearn.preprocessing\n",
    "import sklearn.pipeline"
   ]
  },
  {
   "cell_type": "code",
   "execution_count": 3,
   "metadata": {},
   "outputs": [],
   "source": [
    "import numpy as np\n",
    "import pandas as pd\n",
    "import vtreat.effect_scaler"
   ]
  },
  {
   "cell_type": "code",
   "execution_count": 4,
   "metadata": {},
   "outputs": [],
   "source": [
    "rng = np.random.default_rng()"
   ]
  },
  {
   "cell_type": "code",
   "execution_count": 5,
   "metadata": {},
   "outputs": [],
   "source": [
    "def mk_example(\n",
    "    *,\n",
    "    rng,\n",
    "    n_rows: int,\n",
    "    n_cols: int,\n",
    "    p: float,\n",
    "):\n",
    "    \"\"\"\n",
    "    Make a pure noise example y ~ 0 to investigate over fit.\n",
    "\n",
    "    :rng: numpy pseudo-random generator (example: np.random.default_rng())\n",
    "    :param n_rows: number of example rows\n",
    "    :param n_cols: number of example columns\n",
    "    :param p: intensity of binomial explanatory variables\n",
    "    :return: example data frame\n",
    "    \"\"\"\n",
    "    n_rows = int(n_rows)\n",
    "    assert n_rows > 0\n",
    "    n_cols = int(n_cols)\n",
    "    assert n_cols > 0\n",
    "    p = float(p)\n",
    "    assert p > 0\n",
    "    assert p < 1\n",
    "    d = pd.DataFrame({\n",
    "        f'x_{i:05d}': rng.binomial(n=1, size=n_rows, p=p)\n",
    "        for i in range(n_cols)\n",
    "    })\n",
    "    d['y'] = rng.normal(size=n_rows)\n",
    "    return d\n"
   ]
  },
  {
   "cell_type": "code",
   "execution_count": 6,
   "metadata": {},
   "outputs": [],
   "source": [
    " n_rows = 1000\n",
    " n_cols = 10000\n",
    " p = 1.0 / n_cols"
   ]
  },
  {
   "cell_type": "code",
   "execution_count": 7,
   "metadata": {},
   "outputs": [],
   "source": [
    "d_train = mk_example(rng=rng, n_rows=n_rows, n_cols=n_cols, p=p)\n",
    "d_test = mk_example(rng=rng, n_rows=(10 * n_rows), n_cols=n_cols, p=p)"
   ]
  },
  {
   "cell_type": "code",
   "execution_count": 8,
   "metadata": {},
   "outputs": [],
   "source": [
    "vars = [c for c in d_train.columns if c != 'y']\n"
   ]
  },
  {
   "cell_type": "code",
   "execution_count": 9,
   "metadata": {},
   "outputs": [],
   "source": [
    "def eval_model(model):\n",
    "    model.fit(d_train.loc[:, vars], d_train['y'])\n",
    "    pred_train = model.predict(d_train.loc[:, vars])\n",
    "    rmse_train = sklearn.metrics.mean_squared_error(\n",
    "        y_true = d_train['y'],\n",
    "        y_pred = pred_train,\n",
    "    )\n",
    "    pred_test = model.predict(d_test.loc[:, vars])\n",
    "    rmse_test = sklearn.metrics.mean_squared_error(\n",
    "        y_true = d_test['y'],\n",
    "        y_pred = pred_test,\n",
    "    )\n",
    "    return rmse_train, rmse_test"
   ]
  },
  {
   "cell_type": "code",
   "execution_count": null,
   "metadata": {},
   "outputs": [],
   "source": []
  },
  {
   "cell_type": "code",
   "execution_count": 10,
   "metadata": {},
   "outputs": [],
   "source": [
    "ideal_train_error = sklearn.metrics.mean_squared_error(\n",
    "        y_true = d_train['y'],\n",
    "        y_pred = np.zeros(d_train.shape[0]),\n",
    "    )"
   ]
  },
  {
   "cell_type": "code",
   "execution_count": 11,
   "metadata": {},
   "outputs": [
    {
     "data": {
      "text/plain": [
       "1.0258123968414175"
      ]
     },
     "execution_count": 11,
     "metadata": {},
     "output_type": "execute_result"
    }
   ],
   "source": [
    "ideal_train_error\n"
   ]
  },
  {
   "cell_type": "code",
   "execution_count": 12,
   "metadata": {},
   "outputs": [],
   "source": [
    "ideal_test_error = sklearn.metrics.mean_squared_error(\n",
    "        y_true = d_test['y'],\n",
    "        y_pred = np.zeros(d_test.shape[0]),\n",
    "    )"
   ]
  },
  {
   "cell_type": "code",
   "execution_count": 13,
   "metadata": {},
   "outputs": [
    {
     "data": {
      "text/plain": [
       "1.0060469050341014"
      ]
     },
     "execution_count": 13,
     "metadata": {},
     "output_type": "execute_result"
    }
   ],
   "source": [
    "ideal_test_error"
   ]
  },
  {
   "cell_type": "code",
   "execution_count": null,
   "metadata": {},
   "outputs": [],
   "source": []
  },
  {
   "cell_type": "code",
   "execution_count": 14,
   "metadata": {},
   "outputs": [],
   "source": [
    "rmse_train_lr, rmse_test_lr = eval_model(sklearn.linear_model.LinearRegression())"
   ]
  },
  {
   "cell_type": "code",
   "execution_count": 15,
   "metadata": {},
   "outputs": [
    {
     "data": {
      "text/plain": [
       "44.36225365407323"
      ]
     },
     "execution_count": 15,
     "metadata": {},
     "output_type": "execute_result"
    }
   ],
   "source": [
    "rmse_train_lr"
   ]
  },
  {
   "cell_type": "code",
   "execution_count": 16,
   "metadata": {},
   "outputs": [
    {
     "data": {
      "text/plain": [
       "1.8217317668227592e+28"
      ]
     },
     "execution_count": 16,
     "metadata": {},
     "output_type": "execute_result"
    }
   ],
   "source": [
    "rmse_test_lr"
   ]
  },
  {
   "cell_type": "code",
   "execution_count": null,
   "metadata": {},
   "outputs": [],
   "source": []
  },
  {
   "cell_type": "code",
   "execution_count": 17,
   "metadata": {},
   "outputs": [],
   "source": [
    "rmse_train_l2, rmse_test_l2 = eval_model(sklearn.linear_model.Ridge())"
   ]
  },
  {
   "cell_type": "code",
   "execution_count": 18,
   "metadata": {},
   "outputs": [
    {
     "data": {
      "text/plain": [
       "0.5270230243496119"
      ]
     },
     "execution_count": 18,
     "metadata": {},
     "output_type": "execute_result"
    }
   ],
   "source": [
    "rmse_train_l2"
   ]
  },
  {
   "cell_type": "code",
   "execution_count": 19,
   "metadata": {},
   "outputs": [
    {
     "data": {
      "text/plain": [
       "1.0197445132259777"
      ]
     },
     "execution_count": 19,
     "metadata": {},
     "output_type": "execute_result"
    }
   ],
   "source": [
    "rmse_test_l2"
   ]
  },
  {
   "cell_type": "code",
   "execution_count": null,
   "metadata": {},
   "outputs": [],
   "source": []
  },
  {
   "cell_type": "code",
   "execution_count": 20,
   "metadata": {},
   "outputs": [],
   "source": [
    "rmse_train_l2s, rmse_test_l2s = eval_model(\n",
    "    sklearn.pipeline.Pipeline([\n",
    "        ('scaler', vtreat.effect_scaler.EffectScaler()),\n",
    "        (\"model\", sklearn.linear_model.Ridge()),\n",
    "    ])\n",
    ")"
   ]
  },
  {
   "cell_type": "code",
   "execution_count": 21,
   "metadata": {},
   "outputs": [
    {
     "data": {
      "text/plain": [
       "0.5002190679213362"
      ]
     },
     "execution_count": 21,
     "metadata": {},
     "output_type": "execute_result"
    }
   ],
   "source": [
    "rmse_train_l2s"
   ]
  },
  {
   "cell_type": "code",
   "execution_count": 22,
   "metadata": {},
   "outputs": [
    {
     "data": {
      "text/plain": [
       "1.0283492431140724"
      ]
     },
     "execution_count": 22,
     "metadata": {},
     "output_type": "execute_result"
    }
   ],
   "source": [
    "rmse_test_l2s"
   ]
  },
  {
   "cell_type": "code",
   "execution_count": null,
   "metadata": {},
   "outputs": [],
   "source": []
  },
  {
   "cell_type": "code",
   "execution_count": 23,
   "metadata": {},
   "outputs": [],
   "source": [
    "rmse_train_l2p, rmse_test_l2p = eval_model(\n",
    "    sklearn.pipeline.Pipeline([\n",
    "        ('scaler', sklearn.preprocessing.StandardScaler()),\n",
    "        ('pca', sklearn.decomposition.PCA(n_components=10)),\n",
    "        (\"model\", sklearn.linear_model.Ridge()),\n",
    "    ])\n",
    ")"
   ]
  },
  {
   "cell_type": "code",
   "execution_count": 24,
   "metadata": {},
   "outputs": [
    {
     "data": {
      "text/plain": [
       "1.011196076320379"
      ]
     },
     "execution_count": 24,
     "metadata": {},
     "output_type": "execute_result"
    }
   ],
   "source": [
    "rmse_train_l2p"
   ]
  },
  {
   "cell_type": "code",
   "execution_count": 25,
   "metadata": {},
   "outputs": [
    {
     "data": {
      "text/plain": [
       "1.0070951730192184"
      ]
     },
     "execution_count": 25,
     "metadata": {},
     "output_type": "execute_result"
    }
   ],
   "source": [
    "rmse_test_l2p"
   ]
  },
  {
   "cell_type": "code",
   "execution_count": null,
   "metadata": {},
   "outputs": [],
   "source": []
  },
  {
   "cell_type": "code",
   "execution_count": 26,
   "metadata": {},
   "outputs": [],
   "source": [
    "rmse_train_l2e, rmse_test_l2e = eval_model(\n",
    "    sklearn.pipeline.Pipeline([\n",
    "        ('scaler', vtreat.effect_scaler.EffectScaler()),\n",
    "        ('pca', sklearn.decomposition.PCA(n_components=10)),\n",
    "        (\"model\", sklearn.linear_model.Ridge()),\n",
    "    ])\n",
    ")"
   ]
  },
  {
   "cell_type": "code",
   "execution_count": 27,
   "metadata": {},
   "outputs": [
    {
     "data": {
      "text/plain": [
       "0.9774640909653369"
      ]
     },
     "execution_count": 27,
     "metadata": {},
     "output_type": "execute_result"
    }
   ],
   "source": [
    "rmse_train_l2e"
   ]
  },
  {
   "cell_type": "code",
   "execution_count": 28,
   "metadata": {},
   "outputs": [
    {
     "data": {
      "text/plain": [
       "1.0091428589784588"
      ]
     },
     "execution_count": 28,
     "metadata": {},
     "output_type": "execute_result"
    }
   ],
   "source": [
    "rmse_test_l2e"
   ]
  }
 ],
 "metadata": {
  "kernelspec": {
   "display_name": "Python 3.9.7 ('vtreat_dev_env')",
   "language": "python",
   "name": "python3"
  },
  "language_info": {
   "codemirror_mode": {
    "name": "ipython",
    "version": 3
   },
   "file_extension": ".py",
   "mimetype": "text/x-python",
   "name": "python",
   "nbconvert_exporter": "python",
   "pygments_lexer": "ipython3",
   "version": "3.9.7"
  },
  "orig_nbformat": 4,
  "vscode": {
   "interpreter": {
    "hash": "f859cfb8f598d71a9ca4b7b148f021a3f9957fb2bae27c61c9ec9e5e4e3be13a"
   }
  }
 },
 "nbformat": 4,
 "nbformat_minor": 2
}
