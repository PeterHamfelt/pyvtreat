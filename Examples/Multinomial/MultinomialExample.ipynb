{
 "cells": [
  {
   "cell_type": "markdown",
   "metadata": {},
   "source": [
    "# Using [vtreat](https://github.com/WinVector/pyvtreat) with Multinomial Classification Problems\n",
    "\n",
    "Nina Zumel and John Mount\n",
    "September 2019\n",
    "\n",
    "Note: this is a description of the [`Python` version of `vtreat`](https://github.com/WinVector/pyvtreat), the same example for the [`R` version of `vtreat`](https://github.com/WinVector/vtreat) can be found [here](https://github.com/WinVector/pyvtreat/blob/master/Examples/Multinomial/Multinomial.md).\n"
   ]
  },
  {
   "cell_type": "markdown",
   "metadata": {},
   "source": [
    "## Preliminaries"
   ]
  },
  {
   "cell_type": "markdown",
   "metadata": {},
   "source": [
    "Load modules/packages."
   ]
  },
  {
   "cell_type": "code",
   "execution_count": 1,
   "metadata": {
    "collapsed": false,
    "jupyter": {
     "outputs_hidden": false
    },
    "pycharm": {
     "is_executing": false,
     "name": "#%%\n"
    }
   },
   "outputs": [],
   "source": [
    "import pkg_resources\n",
    "import pandas\n",
    "import numpy\n",
    "import numpy.random\n",
    "import seaborn\n",
    "import matplotlib.pyplot as plt\n",
    "import vtreat\n",
    "import vtreat.util\n",
    "import wvpy.util"
   ]
  },
  {
   "cell_type": "markdown",
   "metadata": {},
   "source": [
    "Generate example data. \n",
    "\n",
    "* `y` is a noisy sinusoidal function of the variable `x`\n",
    "* `yc` is the multiple class output to be predicted: : `y`'s quantized value. \n",
    "* Input `xc` is a categorical variable that represents a discretization of `y`, along some `NaN`s\n",
    "* Input `x2` is a pure noise variable with no relationship to the output"
   ]
  },
  {
   "cell_type": "code",
   "execution_count": 2,
   "metadata": {
    "collapsed": false,
    "jupyter": {
     "outputs_hidden": false
    },
    "pycharm": {
     "is_executing": false,
     "name": "#%%\n"
    }
   },
   "outputs": [
    {
     "data": {
      "text/html": [
       "<div>\n",
       "<style scoped>\n",
       "    .dataframe tbody tr th:only-of-type {\n",
       "        vertical-align: middle;\n",
       "    }\n",
       "\n",
       "    .dataframe tbody tr th {\n",
       "        vertical-align: top;\n",
       "    }\n",
       "\n",
       "    .dataframe thead th {\n",
       "        text-align: right;\n",
       "    }\n",
       "</style>\n",
       "<table border=\"1\" class=\"dataframe\">\n",
       "  <thead>\n",
       "    <tr style=\"text-align: right;\">\n",
       "      <th></th>\n",
       "      <th>x</th>\n",
       "      <th>y</th>\n",
       "      <th>xc</th>\n",
       "      <th>x2</th>\n",
       "      <th>yc</th>\n",
       "    </tr>\n",
       "  </thead>\n",
       "  <tbody>\n",
       "    <tr>\n",
       "      <th>0</th>\n",
       "      <td>2.700607</td>\n",
       "      <td>0.268432</td>\n",
       "      <td>level_0.5</td>\n",
       "      <td>-1.696959</td>\n",
       "      <td>liminal</td>\n",
       "    </tr>\n",
       "    <tr>\n",
       "      <th>1</th>\n",
       "      <td>-3.409446</td>\n",
       "      <td>0.085874</td>\n",
       "      <td>level_0.0</td>\n",
       "      <td>-0.064905</td>\n",
       "      <td>liminal</td>\n",
       "    </tr>\n",
       "    <tr>\n",
       "      <th>2</th>\n",
       "      <td>-2.497962</td>\n",
       "      <td>-0.714933</td>\n",
       "      <td>level_-0.5</td>\n",
       "      <td>-0.743320</td>\n",
       "      <td>small</td>\n",
       "    </tr>\n",
       "    <tr>\n",
       "      <th>3</th>\n",
       "      <td>NaN</td>\n",
       "      <td>-0.060780</td>\n",
       "      <td>level_-0.0</td>\n",
       "      <td>-2.008286</td>\n",
       "      <td>liminal</td>\n",
       "    </tr>\n",
       "    <tr>\n",
       "      <th>4</th>\n",
       "      <td>NaN</td>\n",
       "      <td>1.085506</td>\n",
       "      <td>level_1.0</td>\n",
       "      <td>0.431998</td>\n",
       "      <td>large</td>\n",
       "    </tr>\n",
       "  </tbody>\n",
       "</table>\n",
       "</div>"
      ],
      "text/plain": [
       "          x         y          xc        x2       yc\n",
       "0  2.700607  0.268432   level_0.5 -1.696959  liminal\n",
       "1 -3.409446  0.085874   level_0.0 -0.064905  liminal\n",
       "2 -2.497962 -0.714933  level_-0.5 -0.743320    small\n",
       "3       NaN -0.060780  level_-0.0 -2.008286  liminal\n",
       "4       NaN  1.085506   level_1.0  0.431998    large"
      ]
     },
     "execution_count": 2,
     "metadata": {},
     "output_type": "execute_result"
    }
   ],
   "source": [
    "def make_data(nrows):\n",
    "    d = pandas.DataFrame({'x': 5*numpy.random.normal(size=nrows)})\n",
    "    d['y'] = numpy.sin(d['x']) + 0.1*numpy.random.normal(size=nrows)\n",
    "    d.loc[numpy.arange(3, 10), 'x'] = numpy.nan                           # introduce a nan level\n",
    "    d['xc'] = ['level_' + str(5*numpy.round(yi/5, 1)) for yi in d['y']]\n",
    "    d['x2'] = numpy.random.normal(size=nrows)\n",
    "    d.loc[d['xc']=='level_-1.0', 'xc'] = numpy.nan  # introduce a nan level\n",
    "    d['yc'] = numpy.where(d['y']>0.5, 'large', numpy.where(d['y']<-0.5, 'small', 'liminal'))\n",
    "    return d\n",
    "\n",
    "d = make_data(500)\n",
    "\n",
    "d.head()"
   ]
  },
  {
   "cell_type": "markdown",
   "metadata": {},
   "source": [
    "### Some quick data exploration"
   ]
  },
  {
   "cell_type": "markdown",
   "metadata": {},
   "source": [
    "Check how many levels `xc` has, and their distribution (including `NaN`)"
   ]
  },
  {
   "cell_type": "code",
   "execution_count": 3,
   "metadata": {
    "collapsed": false,
    "jupyter": {
     "outputs_hidden": false
    },
    "pycharm": {
     "is_executing": false,
     "name": "#%%\n"
    }
   },
   "outputs": [
    {
     "data": {
      "text/plain": [
       "array(['level_0.5', 'level_0.0', 'level_-0.5', 'level_-0.0', 'level_1.0',\n",
       "       nan], dtype=object)"
      ]
     },
     "execution_count": 3,
     "metadata": {},
     "output_type": "execute_result"
    }
   ],
   "source": [
    "d['xc'].unique()"
   ]
  },
  {
   "cell_type": "code",
   "execution_count": 4,
   "metadata": {
    "collapsed": false,
    "jupyter": {
     "outputs_hidden": false
    },
    "pycharm": {
     "is_executing": false,
     "name": "#%%\n"
    }
   },
   "outputs": [
    {
     "data": {
      "text/plain": [
       "level_-0.5    113\n",
       "level_1.0     108\n",
       "NaN            98\n",
       "level_0.5      88\n",
       "level_0.0      52\n",
       "level_-0.0     41\n",
       "Name: xc, dtype: int64"
      ]
     },
     "execution_count": 4,
     "metadata": {},
     "output_type": "execute_result"
    }
   ],
   "source": [
    "d['xc'].value_counts(dropna=False)"
   ]
  },
  {
   "cell_type": "markdown",
   "metadata": {},
   "source": [
    "Show the distribution of `yc`"
   ]
  },
  {
   "cell_type": "code",
   "execution_count": 5,
   "metadata": {
    "collapsed": false,
    "jupyter": {
     "outputs_hidden": false
    },
    "pycharm": {
     "is_executing": false,
     "name": "#%%\n"
    }
   },
   "outputs": [
    {
     "data": {
      "text/plain": [
       "liminal    180\n",
       "small      169\n",
       "large      151\n",
       "Name: yc, dtype: int64"
      ]
     },
     "execution_count": 5,
     "metadata": {},
     "output_type": "execute_result"
    }
   ],
   "source": [
    "d['yc'].value_counts(dropna=False)"
   ]
  },
  {
   "cell_type": "markdown",
   "metadata": {},
   "source": [
    "Plot conditional distribution of `x` versus `yc`."
   ]
  },
  {
   "cell_type": "code",
   "execution_count": 6,
   "metadata": {
    "collapsed": false,
    "jupyter": {
     "outputs_hidden": false
    },
    "pycharm": {
     "is_executing": false,
     "name": "#%%\n"
    }
   },
   "outputs": [],
   "source": [
    "# TODO: multiple histograms ( generalize wvpy dual_density_plot )"
   ]
  },
  {
   "cell_type": "markdown",
   "metadata": {},
   "source": [
    "## Build a transform appropriate for classification problems.\n",
    "\n",
    "Now that we have the data, we want to treat it prior to modeling: we want training data where all the input variables are numeric and have no missing values or `NaN`s.\n",
    "\n",
    "First create the data treatment transform object, in this case a treatment for a binomial classification problem."
   ]
  },
  {
   "cell_type": "code",
   "execution_count": 7,
   "metadata": {
    "collapsed": false,
    "jupyter": {
     "outputs_hidden": false
    },
    "pycharm": {
     "is_executing": false,
     "name": "#%%\n"
    }
   },
   "outputs": [],
   "source": [
    "transform = vtreat.MultinomialOutcomeTreatment(\n",
    "    outcome_name='yc',    # outcome variable\n",
    "    cols_to_copy=['y'],   # columns to \"carry along\" but not treat as input variables\n",
    ")  "
   ]
  },
  {
   "cell_type": "markdown",
   "metadata": {},
   "source": [
    "Use the training data `d` to fit the transform and the return a treated training set: completely numeric, with no missing values.\n",
    "Note that for the training data `d`: `transform.fit_transform()` is **not** the same as `transform.fit().transform()`; the second call can lead to nested model bias in some situations, and is **not** recommended. \n",
    "For other, later data, not seen during transform design `transform.transform(o)` is an appropriate step."
   ]
  },
  {
   "cell_type": "code",
   "execution_count": 8,
   "metadata": {
    "collapsed": false,
    "jupyter": {
     "outputs_hidden": false
    },
    "pycharm": {
     "is_executing": false,
     "name": "#%%\n"
    }
   },
   "outputs": [],
   "source": [
    "d_prepared = transform.fit_transform(d, d['yc'])"
   ]
  },
  {
   "cell_type": "markdown",
   "metadata": {},
   "source": [
    "Now examine the score frame, which gives information about each new variable, including its type, which original variable it is  derived from, its (cross-validated) correlation with the outcome, and its (cross-validated) significance as a one-variable linear model for the outcome. "
   ]
  },
  {
   "cell_type": "code",
   "execution_count": 9,
   "metadata": {
    "collapsed": false,
    "jupyter": {
     "outputs_hidden": false
    },
    "pycharm": {
     "is_executing": false,
     "name": "#%%\n"
    }
   },
   "outputs": [
    {
     "data": {
      "text/html": [
       "<div>\n",
       "<style scoped>\n",
       "    .dataframe tbody tr th:only-of-type {\n",
       "        vertical-align: middle;\n",
       "    }\n",
       "\n",
       "    .dataframe tbody tr th {\n",
       "        vertical-align: top;\n",
       "    }\n",
       "\n",
       "    .dataframe thead th {\n",
       "        text-align: right;\n",
       "    }\n",
       "</style>\n",
       "<table border=\"1\" class=\"dataframe\">\n",
       "  <thead>\n",
       "    <tr style=\"text-align: right;\">\n",
       "      <th></th>\n",
       "      <th>variable</th>\n",
       "      <th>orig_variable</th>\n",
       "      <th>treatment</th>\n",
       "      <th>y_aware</th>\n",
       "      <th>has_range</th>\n",
       "      <th>PearsonR</th>\n",
       "      <th>significance</th>\n",
       "      <th>vcount</th>\n",
       "      <th>default_threshold</th>\n",
       "      <th>recommended</th>\n",
       "      <th>outcome_target</th>\n",
       "    </tr>\n",
       "  </thead>\n",
       "  <tbody>\n",
       "    <tr>\n",
       "      <th>0</th>\n",
       "      <td>x_is_bad</td>\n",
       "      <td>x</td>\n",
       "      <td>missing_indicator</td>\n",
       "      <td>False</td>\n",
       "      <td>True</td>\n",
       "      <td>-0.004227</td>\n",
       "      <td>9.248901e-01</td>\n",
       "      <td>2.0</td>\n",
       "      <td>0.100000</td>\n",
       "      <td>False</td>\n",
       "      <td>large</td>\n",
       "    </tr>\n",
       "    <tr>\n",
       "      <th>1</th>\n",
       "      <td>xc_is_bad</td>\n",
       "      <td>xc</td>\n",
       "      <td>missing_indicator</td>\n",
       "      <td>False</td>\n",
       "      <td>True</td>\n",
       "      <td>-0.324770</td>\n",
       "      <td>9.570226e-14</td>\n",
       "      <td>2.0</td>\n",
       "      <td>0.100000</td>\n",
       "      <td>True</td>\n",
       "      <td>large</td>\n",
       "    </tr>\n",
       "    <tr>\n",
       "      <th>2</th>\n",
       "      <td>x</td>\n",
       "      <td>x</td>\n",
       "      <td>clean_copy</td>\n",
       "      <td>False</td>\n",
       "      <td>True</td>\n",
       "      <td>0.060607</td>\n",
       "      <td>1.760313e-01</td>\n",
       "      <td>2.0</td>\n",
       "      <td>0.100000</td>\n",
       "      <td>False</td>\n",
       "      <td>large</td>\n",
       "    </tr>\n",
       "    <tr>\n",
       "      <th>3</th>\n",
       "      <td>x2</td>\n",
       "      <td>x2</td>\n",
       "      <td>clean_copy</td>\n",
       "      <td>False</td>\n",
       "      <td>True</td>\n",
       "      <td>0.015279</td>\n",
       "      <td>7.332465e-01</td>\n",
       "      <td>2.0</td>\n",
       "      <td>0.100000</td>\n",
       "      <td>False</td>\n",
       "      <td>large</td>\n",
       "    </tr>\n",
       "    <tr>\n",
       "      <th>4</th>\n",
       "      <td>xc_logit_code_large</td>\n",
       "      <td>xc</td>\n",
       "      <td>logit_code</td>\n",
       "      <td>True</td>\n",
       "      <td>True</td>\n",
       "      <td>0.841585</td>\n",
       "      <td>2.567633e-135</td>\n",
       "      <td>3.0</td>\n",
       "      <td>0.066667</td>\n",
       "      <td>True</td>\n",
       "      <td>large</td>\n",
       "    </tr>\n",
       "    <tr>\n",
       "      <th>5</th>\n",
       "      <td>xc_logit_code_liminal</td>\n",
       "      <td>xc</td>\n",
       "      <td>logit_code</td>\n",
       "      <td>True</td>\n",
       "      <td>True</td>\n",
       "      <td>-0.409457</td>\n",
       "      <td>1.236682e-21</td>\n",
       "      <td>3.0</td>\n",
       "      <td>0.066667</td>\n",
       "      <td>False</td>\n",
       "      <td>large</td>\n",
       "    </tr>\n",
       "    <tr>\n",
       "      <th>6</th>\n",
       "      <td>xc_logit_code_small</td>\n",
       "      <td>xc</td>\n",
       "      <td>logit_code</td>\n",
       "      <td>True</td>\n",
       "      <td>True</td>\n",
       "      <td>-0.563718</td>\n",
       "      <td>2.803242e-43</td>\n",
       "      <td>3.0</td>\n",
       "      <td>0.066667</td>\n",
       "      <td>False</td>\n",
       "      <td>large</td>\n",
       "    </tr>\n",
       "    <tr>\n",
       "      <th>7</th>\n",
       "      <td>xc_prevalence_code</td>\n",
       "      <td>xc</td>\n",
       "      <td>prevalence_code</td>\n",
       "      <td>False</td>\n",
       "      <td>True</td>\n",
       "      <td>0.281141</td>\n",
       "      <td>1.550617e-10</td>\n",
       "      <td>1.0</td>\n",
       "      <td>0.200000</td>\n",
       "      <td>True</td>\n",
       "      <td>large</td>\n",
       "    </tr>\n",
       "    <tr>\n",
       "      <th>8</th>\n",
       "      <td>xc_lev_level_-0.5</td>\n",
       "      <td>xc</td>\n",
       "      <td>indicator_code</td>\n",
       "      <td>False</td>\n",
       "      <td>True</td>\n",
       "      <td>-0.355434</td>\n",
       "      <td>2.463731e-16</td>\n",
       "      <td>5.0</td>\n",
       "      <td>0.040000</td>\n",
       "      <td>True</td>\n",
       "      <td>large</td>\n",
       "    </tr>\n",
       "    <tr>\n",
       "      <th>9</th>\n",
       "      <td>xc_lev_level_1.0</td>\n",
       "      <td>xc</td>\n",
       "      <td>indicator_code</td>\n",
       "      <td>False</td>\n",
       "      <td>True</td>\n",
       "      <td>0.797982</td>\n",
       "      <td>1.362405e-111</td>\n",
       "      <td>5.0</td>\n",
       "      <td>0.040000</td>\n",
       "      <td>True</td>\n",
       "      <td>large</td>\n",
       "    </tr>\n",
       "    <tr>\n",
       "      <th>10</th>\n",
       "      <td>xc_lev__NA_</td>\n",
       "      <td>xc</td>\n",
       "      <td>indicator_code</td>\n",
       "      <td>False</td>\n",
       "      <td>True</td>\n",
       "      <td>-0.324770</td>\n",
       "      <td>9.570226e-14</td>\n",
       "      <td>5.0</td>\n",
       "      <td>0.040000</td>\n",
       "      <td>True</td>\n",
       "      <td>large</td>\n",
       "    </tr>\n",
       "    <tr>\n",
       "      <th>11</th>\n",
       "      <td>xc_lev_level_0.5</td>\n",
       "      <td>xc</td>\n",
       "      <td>indicator_code</td>\n",
       "      <td>False</td>\n",
       "      <td>True</td>\n",
       "      <td>0.187870</td>\n",
       "      <td>2.356774e-05</td>\n",
       "      <td>5.0</td>\n",
       "      <td>0.040000</td>\n",
       "      <td>True</td>\n",
       "      <td>large</td>\n",
       "    </tr>\n",
       "    <tr>\n",
       "      <th>12</th>\n",
       "      <td>xc_lev_level_0.0</td>\n",
       "      <td>xc</td>\n",
       "      <td>indicator_code</td>\n",
       "      <td>False</td>\n",
       "      <td>True</td>\n",
       "      <td>-0.224098</td>\n",
       "      <td>4.127524e-07</td>\n",
       "      <td>5.0</td>\n",
       "      <td>0.040000</td>\n",
       "      <td>True</td>\n",
       "      <td>large</td>\n",
       "    </tr>\n",
       "    <tr>\n",
       "      <th>13</th>\n",
       "      <td>x_is_bad</td>\n",
       "      <td>x</td>\n",
       "      <td>missing_indicator</td>\n",
       "      <td>False</td>\n",
       "      <td>True</td>\n",
       "      <td>0.052487</td>\n",
       "      <td>2.413958e-01</td>\n",
       "      <td>2.0</td>\n",
       "      <td>0.100000</td>\n",
       "      <td>False</td>\n",
       "      <td>liminal</td>\n",
       "    </tr>\n",
       "    <tr>\n",
       "      <th>14</th>\n",
       "      <td>xc_is_bad</td>\n",
       "      <td>xc</td>\n",
       "      <td>missing_indicator</td>\n",
       "      <td>False</td>\n",
       "      <td>True</td>\n",
       "      <td>-0.370306</td>\n",
       "      <td>1.071598e-17</td>\n",
       "      <td>2.0</td>\n",
       "      <td>0.100000</td>\n",
       "      <td>True</td>\n",
       "      <td>liminal</td>\n",
       "    </tr>\n",
       "    <tr>\n",
       "      <th>15</th>\n",
       "      <td>x</td>\n",
       "      <td>x</td>\n",
       "      <td>clean_copy</td>\n",
       "      <td>False</td>\n",
       "      <td>True</td>\n",
       "      <td>0.002160</td>\n",
       "      <td>9.615712e-01</td>\n",
       "      <td>2.0</td>\n",
       "      <td>0.100000</td>\n",
       "      <td>False</td>\n",
       "      <td>liminal</td>\n",
       "    </tr>\n",
       "    <tr>\n",
       "      <th>16</th>\n",
       "      <td>x2</td>\n",
       "      <td>x2</td>\n",
       "      <td>clean_copy</td>\n",
       "      <td>False</td>\n",
       "      <td>True</td>\n",
       "      <td>-0.013948</td>\n",
       "      <td>7.557113e-01</td>\n",
       "      <td>2.0</td>\n",
       "      <td>0.100000</td>\n",
       "      <td>False</td>\n",
       "      <td>liminal</td>\n",
       "    </tr>\n",
       "    <tr>\n",
       "      <th>17</th>\n",
       "      <td>xc_logit_code_large</td>\n",
       "      <td>xc</td>\n",
       "      <td>logit_code</td>\n",
       "      <td>True</td>\n",
       "      <td>True</td>\n",
       "      <td>-0.239033</td>\n",
       "      <td>6.296255e-08</td>\n",
       "      <td>3.0</td>\n",
       "      <td>0.066667</td>\n",
       "      <td>False</td>\n",
       "      <td>liminal</td>\n",
       "    </tr>\n",
       "    <tr>\n",
       "      <th>18</th>\n",
       "      <td>xc_logit_code_liminal</td>\n",
       "      <td>xc</td>\n",
       "      <td>logit_code</td>\n",
       "      <td>True</td>\n",
       "      <td>True</td>\n",
       "      <td>0.668000</td>\n",
       "      <td>6.568091e-66</td>\n",
       "      <td>3.0</td>\n",
       "      <td>0.066667</td>\n",
       "      <td>True</td>\n",
       "      <td>liminal</td>\n",
       "    </tr>\n",
       "    <tr>\n",
       "      <th>19</th>\n",
       "      <td>xc_logit_code_small</td>\n",
       "      <td>xc</td>\n",
       "      <td>logit_code</td>\n",
       "      <td>True</td>\n",
       "      <td>True</td>\n",
       "      <td>-0.295511</td>\n",
       "      <td>1.557328e-11</td>\n",
       "      <td>3.0</td>\n",
       "      <td>0.066667</td>\n",
       "      <td>False</td>\n",
       "      <td>liminal</td>\n",
       "    </tr>\n",
       "    <tr>\n",
       "      <th>20</th>\n",
       "      <td>xc_prevalence_code</td>\n",
       "      <td>xc</td>\n",
       "      <td>prevalence_code</td>\n",
       "      <td>False</td>\n",
       "      <td>True</td>\n",
       "      <td>-0.630158</td>\n",
       "      <td>1.080349e-56</td>\n",
       "      <td>1.0</td>\n",
       "      <td>0.200000</td>\n",
       "      <td>True</td>\n",
       "      <td>liminal</td>\n",
       "    </tr>\n",
       "    <tr>\n",
       "      <th>21</th>\n",
       "      <td>xc_lev_level_-0.5</td>\n",
       "      <td>xc</td>\n",
       "      <td>indicator_code</td>\n",
       "      <td>False</td>\n",
       "      <td>True</td>\n",
       "      <td>0.013150</td>\n",
       "      <td>7.692715e-01</td>\n",
       "      <td>5.0</td>\n",
       "      <td>0.040000</td>\n",
       "      <td>False</td>\n",
       "      <td>liminal</td>\n",
       "    </tr>\n",
       "    <tr>\n",
       "      <th>22</th>\n",
       "      <td>xc_lev_level_1.0</td>\n",
       "      <td>xc</td>\n",
       "      <td>indicator_code</td>\n",
       "      <td>False</td>\n",
       "      <td>True</td>\n",
       "      <td>-0.393668</td>\n",
       "      <td>5.545599e-20</td>\n",
       "      <td>5.0</td>\n",
       "      <td>0.040000</td>\n",
       "      <td>True</td>\n",
       "      <td>liminal</td>\n",
       "    </tr>\n",
       "    <tr>\n",
       "      <th>23</th>\n",
       "      <td>xc_lev__NA_</td>\n",
       "      <td>xc</td>\n",
       "      <td>indicator_code</td>\n",
       "      <td>False</td>\n",
       "      <td>True</td>\n",
       "      <td>-0.370306</td>\n",
       "      <td>1.071598e-17</td>\n",
       "      <td>5.0</td>\n",
       "      <td>0.040000</td>\n",
       "      <td>True</td>\n",
       "      <td>liminal</td>\n",
       "    </tr>\n",
       "    <tr>\n",
       "      <th>24</th>\n",
       "      <td>xc_lev_level_0.5</td>\n",
       "      <td>xc</td>\n",
       "      <td>indicator_code</td>\n",
       "      <td>False</td>\n",
       "      <td>True</td>\n",
       "      <td>0.145738</td>\n",
       "      <td>1.082678e-03</td>\n",
       "      <td>5.0</td>\n",
       "      <td>0.040000</td>\n",
       "      <td>True</td>\n",
       "      <td>liminal</td>\n",
       "    </tr>\n",
       "    <tr>\n",
       "      <th>25</th>\n",
       "      <td>xc_lev_level_0.0</td>\n",
       "      <td>xc</td>\n",
       "      <td>indicator_code</td>\n",
       "      <td>False</td>\n",
       "      <td>True</td>\n",
       "      <td>0.454257</td>\n",
       "      <td>7.948060e-27</td>\n",
       "      <td>5.0</td>\n",
       "      <td>0.040000</td>\n",
       "      <td>True</td>\n",
       "      <td>liminal</td>\n",
       "    </tr>\n",
       "    <tr>\n",
       "      <th>26</th>\n",
       "      <td>x_is_bad</td>\n",
       "      <td>x</td>\n",
       "      <td>missing_indicator</td>\n",
       "      <td>False</td>\n",
       "      <td>True</td>\n",
       "      <td>-0.049158</td>\n",
       "      <td>2.725933e-01</td>\n",
       "      <td>2.0</td>\n",
       "      <td>0.100000</td>\n",
       "      <td>False</td>\n",
       "      <td>small</td>\n",
       "    </tr>\n",
       "    <tr>\n",
       "      <th>27</th>\n",
       "      <td>xc_is_bad</td>\n",
       "      <td>xc</td>\n",
       "      <td>missing_indicator</td>\n",
       "      <td>False</td>\n",
       "      <td>True</td>\n",
       "      <td>0.690988</td>\n",
       "      <td>3.337909e-72</td>\n",
       "      <td>2.0</td>\n",
       "      <td>0.100000</td>\n",
       "      <td>True</td>\n",
       "      <td>small</td>\n",
       "    </tr>\n",
       "    <tr>\n",
       "      <th>28</th>\n",
       "      <td>x</td>\n",
       "      <td>x</td>\n",
       "      <td>clean_copy</td>\n",
       "      <td>False</td>\n",
       "      <td>True</td>\n",
       "      <td>-0.061018</td>\n",
       "      <td>1.731157e-01</td>\n",
       "      <td>2.0</td>\n",
       "      <td>0.100000</td>\n",
       "      <td>False</td>\n",
       "      <td>small</td>\n",
       "    </tr>\n",
       "    <tr>\n",
       "      <th>29</th>\n",
       "      <td>x2</td>\n",
       "      <td>x2</td>\n",
       "      <td>clean_copy</td>\n",
       "      <td>False</td>\n",
       "      <td>True</td>\n",
       "      <td>-0.000676</td>\n",
       "      <td>9.879633e-01</td>\n",
       "      <td>2.0</td>\n",
       "      <td>0.100000</td>\n",
       "      <td>False</td>\n",
       "      <td>small</td>\n",
       "    </tr>\n",
       "    <tr>\n",
       "      <th>30</th>\n",
       "      <td>xc_logit_code_large</td>\n",
       "      <td>xc</td>\n",
       "      <td>logit_code</td>\n",
       "      <td>True</td>\n",
       "      <td>True</td>\n",
       "      <td>-0.574294</td>\n",
       "      <td>3.273176e-45</td>\n",
       "      <td>3.0</td>\n",
       "      <td>0.066667</td>\n",
       "      <td>False</td>\n",
       "      <td>small</td>\n",
       "    </tr>\n",
       "    <tr>\n",
       "      <th>31</th>\n",
       "      <td>xc_logit_code_liminal</td>\n",
       "      <td>xc</td>\n",
       "      <td>logit_code</td>\n",
       "      <td>True</td>\n",
       "      <td>True</td>\n",
       "      <td>-0.280423</td>\n",
       "      <td>1.733402e-10</td>\n",
       "      <td>3.0</td>\n",
       "      <td>0.066667</td>\n",
       "      <td>False</td>\n",
       "      <td>small</td>\n",
       "    </tr>\n",
       "    <tr>\n",
       "      <th>32</th>\n",
       "      <td>xc_logit_code_small</td>\n",
       "      <td>xc</td>\n",
       "      <td>logit_code</td>\n",
       "      <td>True</td>\n",
       "      <td>True</td>\n",
       "      <td>0.847016</td>\n",
       "      <td>8.973677e-139</td>\n",
       "      <td>3.0</td>\n",
       "      <td>0.066667</td>\n",
       "      <td>True</td>\n",
       "      <td>small</td>\n",
       "    </tr>\n",
       "    <tr>\n",
       "      <th>33</th>\n",
       "      <td>xc_prevalence_code</td>\n",
       "      <td>xc</td>\n",
       "      <td>prevalence_code</td>\n",
       "      <td>False</td>\n",
       "      <td>True</td>\n",
       "      <td>0.366568</td>\n",
       "      <td>2.393596e-17</td>\n",
       "      <td>1.0</td>\n",
       "      <td>0.200000</td>\n",
       "      <td>True</td>\n",
       "      <td>small</td>\n",
       "    </tr>\n",
       "    <tr>\n",
       "      <th>34</th>\n",
       "      <td>xc_lev_level_-0.5</td>\n",
       "      <td>xc</td>\n",
       "      <td>indicator_code</td>\n",
       "      <td>False</td>\n",
       "      <td>True</td>\n",
       "      <td>0.331643</td>\n",
       "      <td>2.662733e-14</td>\n",
       "      <td>5.0</td>\n",
       "      <td>0.040000</td>\n",
       "      <td>True</td>\n",
       "      <td>small</td>\n",
       "    </tr>\n",
       "    <tr>\n",
       "      <th>35</th>\n",
       "      <td>xc_lev_level_1.0</td>\n",
       "      <td>xc</td>\n",
       "      <td>indicator_code</td>\n",
       "      <td>False</td>\n",
       "      <td>True</td>\n",
       "      <td>-0.375058</td>\n",
       "      <td>3.800986e-18</td>\n",
       "      <td>5.0</td>\n",
       "      <td>0.040000</td>\n",
       "      <td>True</td>\n",
       "      <td>small</td>\n",
       "    </tr>\n",
       "    <tr>\n",
       "      <th>36</th>\n",
       "      <td>xc_lev__NA_</td>\n",
       "      <td>xc</td>\n",
       "      <td>indicator_code</td>\n",
       "      <td>False</td>\n",
       "      <td>True</td>\n",
       "      <td>0.690988</td>\n",
       "      <td>3.337909e-72</td>\n",
       "      <td>5.0</td>\n",
       "      <td>0.040000</td>\n",
       "      <td>True</td>\n",
       "      <td>small</td>\n",
       "    </tr>\n",
       "    <tr>\n",
       "      <th>37</th>\n",
       "      <td>xc_lev_level_0.5</td>\n",
       "      <td>xc</td>\n",
       "      <td>indicator_code</td>\n",
       "      <td>False</td>\n",
       "      <td>True</td>\n",
       "      <td>-0.330234</td>\n",
       "      <td>3.470347e-14</td>\n",
       "      <td>5.0</td>\n",
       "      <td>0.040000</td>\n",
       "      <td>True</td>\n",
       "      <td>small</td>\n",
       "    </tr>\n",
       "    <tr>\n",
       "      <th>38</th>\n",
       "      <td>xc_lev_level_0.0</td>\n",
       "      <td>xc</td>\n",
       "      <td>indicator_code</td>\n",
       "      <td>False</td>\n",
       "      <td>True</td>\n",
       "      <td>-0.243440</td>\n",
       "      <td>3.527434e-08</td>\n",
       "      <td>5.0</td>\n",
       "      <td>0.040000</td>\n",
       "      <td>True</td>\n",
       "      <td>small</td>\n",
       "    </tr>\n",
       "  </tbody>\n",
       "</table>\n",
       "</div>"
      ],
      "text/plain": [
       "                 variable orig_variable          treatment  y_aware  \\\n",
       "0                x_is_bad             x  missing_indicator    False   \n",
       "1               xc_is_bad            xc  missing_indicator    False   \n",
       "2                       x             x         clean_copy    False   \n",
       "3                      x2            x2         clean_copy    False   \n",
       "4     xc_logit_code_large            xc         logit_code     True   \n",
       "5   xc_logit_code_liminal            xc         logit_code     True   \n",
       "6     xc_logit_code_small            xc         logit_code     True   \n",
       "7      xc_prevalence_code            xc    prevalence_code    False   \n",
       "8       xc_lev_level_-0.5            xc     indicator_code    False   \n",
       "9        xc_lev_level_1.0            xc     indicator_code    False   \n",
       "10            xc_lev__NA_            xc     indicator_code    False   \n",
       "11       xc_lev_level_0.5            xc     indicator_code    False   \n",
       "12       xc_lev_level_0.0            xc     indicator_code    False   \n",
       "13               x_is_bad             x  missing_indicator    False   \n",
       "14              xc_is_bad            xc  missing_indicator    False   \n",
       "15                      x             x         clean_copy    False   \n",
       "16                     x2            x2         clean_copy    False   \n",
       "17    xc_logit_code_large            xc         logit_code     True   \n",
       "18  xc_logit_code_liminal            xc         logit_code     True   \n",
       "19    xc_logit_code_small            xc         logit_code     True   \n",
       "20     xc_prevalence_code            xc    prevalence_code    False   \n",
       "21      xc_lev_level_-0.5            xc     indicator_code    False   \n",
       "22       xc_lev_level_1.0            xc     indicator_code    False   \n",
       "23            xc_lev__NA_            xc     indicator_code    False   \n",
       "24       xc_lev_level_0.5            xc     indicator_code    False   \n",
       "25       xc_lev_level_0.0            xc     indicator_code    False   \n",
       "26               x_is_bad             x  missing_indicator    False   \n",
       "27              xc_is_bad            xc  missing_indicator    False   \n",
       "28                      x             x         clean_copy    False   \n",
       "29                     x2            x2         clean_copy    False   \n",
       "30    xc_logit_code_large            xc         logit_code     True   \n",
       "31  xc_logit_code_liminal            xc         logit_code     True   \n",
       "32    xc_logit_code_small            xc         logit_code     True   \n",
       "33     xc_prevalence_code            xc    prevalence_code    False   \n",
       "34      xc_lev_level_-0.5            xc     indicator_code    False   \n",
       "35       xc_lev_level_1.0            xc     indicator_code    False   \n",
       "36            xc_lev__NA_            xc     indicator_code    False   \n",
       "37       xc_lev_level_0.5            xc     indicator_code    False   \n",
       "38       xc_lev_level_0.0            xc     indicator_code    False   \n",
       "\n",
       "    has_range  PearsonR   significance  vcount  default_threshold  \\\n",
       "0        True -0.004227   9.248901e-01     2.0           0.100000   \n",
       "1        True -0.324770   9.570226e-14     2.0           0.100000   \n",
       "2        True  0.060607   1.760313e-01     2.0           0.100000   \n",
       "3        True  0.015279   7.332465e-01     2.0           0.100000   \n",
       "4        True  0.841585  2.567633e-135     3.0           0.066667   \n",
       "5        True -0.409457   1.236682e-21     3.0           0.066667   \n",
       "6        True -0.563718   2.803242e-43     3.0           0.066667   \n",
       "7        True  0.281141   1.550617e-10     1.0           0.200000   \n",
       "8        True -0.355434   2.463731e-16     5.0           0.040000   \n",
       "9        True  0.797982  1.362405e-111     5.0           0.040000   \n",
       "10       True -0.324770   9.570226e-14     5.0           0.040000   \n",
       "11       True  0.187870   2.356774e-05     5.0           0.040000   \n",
       "12       True -0.224098   4.127524e-07     5.0           0.040000   \n",
       "13       True  0.052487   2.413958e-01     2.0           0.100000   \n",
       "14       True -0.370306   1.071598e-17     2.0           0.100000   \n",
       "15       True  0.002160   9.615712e-01     2.0           0.100000   \n",
       "16       True -0.013948   7.557113e-01     2.0           0.100000   \n",
       "17       True -0.239033   6.296255e-08     3.0           0.066667   \n",
       "18       True  0.668000   6.568091e-66     3.0           0.066667   \n",
       "19       True -0.295511   1.557328e-11     3.0           0.066667   \n",
       "20       True -0.630158   1.080349e-56     1.0           0.200000   \n",
       "21       True  0.013150   7.692715e-01     5.0           0.040000   \n",
       "22       True -0.393668   5.545599e-20     5.0           0.040000   \n",
       "23       True -0.370306   1.071598e-17     5.0           0.040000   \n",
       "24       True  0.145738   1.082678e-03     5.0           0.040000   \n",
       "25       True  0.454257   7.948060e-27     5.0           0.040000   \n",
       "26       True -0.049158   2.725933e-01     2.0           0.100000   \n",
       "27       True  0.690988   3.337909e-72     2.0           0.100000   \n",
       "28       True -0.061018   1.731157e-01     2.0           0.100000   \n",
       "29       True -0.000676   9.879633e-01     2.0           0.100000   \n",
       "30       True -0.574294   3.273176e-45     3.0           0.066667   \n",
       "31       True -0.280423   1.733402e-10     3.0           0.066667   \n",
       "32       True  0.847016  8.973677e-139     3.0           0.066667   \n",
       "33       True  0.366568   2.393596e-17     1.0           0.200000   \n",
       "34       True  0.331643   2.662733e-14     5.0           0.040000   \n",
       "35       True -0.375058   3.800986e-18     5.0           0.040000   \n",
       "36       True  0.690988   3.337909e-72     5.0           0.040000   \n",
       "37       True -0.330234   3.470347e-14     5.0           0.040000   \n",
       "38       True -0.243440   3.527434e-08     5.0           0.040000   \n",
       "\n",
       "    recommended outcome_target  \n",
       "0         False          large  \n",
       "1          True          large  \n",
       "2         False          large  \n",
       "3         False          large  \n",
       "4          True          large  \n",
       "5         False          large  \n",
       "6         False          large  \n",
       "7          True          large  \n",
       "8          True          large  \n",
       "9          True          large  \n",
       "10         True          large  \n",
       "11         True          large  \n",
       "12         True          large  \n",
       "13        False        liminal  \n",
       "14         True        liminal  \n",
       "15        False        liminal  \n",
       "16        False        liminal  \n",
       "17        False        liminal  \n",
       "18         True        liminal  \n",
       "19        False        liminal  \n",
       "20         True        liminal  \n",
       "21        False        liminal  \n",
       "22         True        liminal  \n",
       "23         True        liminal  \n",
       "24         True        liminal  \n",
       "25         True        liminal  \n",
       "26        False          small  \n",
       "27         True          small  \n",
       "28        False          small  \n",
       "29        False          small  \n",
       "30        False          small  \n",
       "31        False          small  \n",
       "32         True          small  \n",
       "33         True          small  \n",
       "34         True          small  \n",
       "35         True          small  \n",
       "36         True          small  \n",
       "37         True          small  \n",
       "38         True          small  "
      ]
     },
     "execution_count": 9,
     "metadata": {},
     "output_type": "execute_result"
    }
   ],
   "source": [
    "transform.score_frame_"
   ]
  },
  {
   "cell_type": "markdown",
   "metadata": {},
   "source": [
    "Note that the variable `xc` has been converted to multiple variables: \n",
    "\n",
    "* an indicator variable for each possible level (`xc_lev_level_*`)\n",
    "* the value of a (cross-validated) one-variable model for `yc` as a function of `xc` (`xc_logit_code`)\n",
    "* a variable that returns how prevalent this particular value of `xc` is in the training data (`xc_prevalence_code`)\n",
    "* a variable indicating when `xc` was `NaN` in the original data (`xc_is_bad`, `x_is_bad`)\n",
    "\n",
    "Any or all of these new variables are available for downstream modeling.\n",
    "\n",
    "The `recommended` column indicates which variables are non constant (`has_range` == True) and have a significance value smaller than `default_threshold`. See the section *Deriving the Default Thresholds* below for the reasoning behind the default thresholds. Recommended columns are intended as advice about which variables appear to be most likely to be useful in a downstream model. This advice attempts to be conservative, to reduce the possibility of mistakenly eliminating variables that may in fact be useful (although, obviously, it can still mistakenly eliminate variables that have a real but non-linear relationship to the output, as is the case with `x`, in  our example)."
   ]
  },
  {
   "cell_type": "markdown",
   "metadata": {},
   "source": [
    "## Examining variables\n",
    "\n",
    "To select variables we either make our selection in terms of new variables as follows."
   ]
  },
  {
   "cell_type": "code",
   "execution_count": 10,
   "metadata": {
    "collapsed": false,
    "jupyter": {
     "outputs_hidden": false
    },
    "pycharm": {
     "is_executing": false,
     "name": "#%%\n"
    }
   },
   "outputs": [
    {
     "data": {
      "text/plain": [
       "array(['xc_is_bad', 'xc_logit_code_large', 'xc_prevalence_code',\n",
       "       'xc_lev_level_-0.5', 'xc_lev_level_1.0', 'xc_lev__NA_',\n",
       "       'xc_lev_level_0.5', 'xc_lev_level_0.0', 'xc_logit_code_liminal',\n",
       "       'xc_logit_code_small'], dtype=object)"
      ]
     },
     "execution_count": 10,
     "metadata": {},
     "output_type": "execute_result"
    }
   ],
   "source": [
    "score_frame = transform.score_frame_\n",
    "good_new_variables = score_frame.variable[score_frame.recommended].unique()\n",
    "good_new_variables"
   ]
  },
  {
   "cell_type": "markdown",
   "metadata": {},
   "source": [
    "Or in terms of original variables as follows."
   ]
  },
  {
   "cell_type": "code",
   "execution_count": 11,
   "metadata": {
    "collapsed": false,
    "jupyter": {
     "outputs_hidden": false
    },
    "pycharm": {
     "is_executing": false,
     "name": "#%%\n"
    }
   },
   "outputs": [
    {
     "data": {
      "text/plain": [
       "array(['xc'], dtype=object)"
      ]
     },
     "execution_count": 11,
     "metadata": {},
     "output_type": "execute_result"
    }
   ],
   "source": [
    "good_original_variables = score_frame.orig_variable[score_frame.recommended].unique()\n",
    "good_original_variables"
   ]
  },
  {
   "cell_type": "markdown",
   "metadata": {},
   "source": [
    "Notice, in each case we must call unique as each variable (derived or original) is potentially qualified against each possible outcome."
   ]
  },
  {
   "cell_type": "markdown",
   "metadata": {},
   "source": [
    "Notice that, by default, `d_prepared` only includes recommended variables (along with `y` and `yc`):"
   ]
  },
  {
   "cell_type": "code",
   "execution_count": 12,
   "metadata": {
    "collapsed": false,
    "jupyter": {
     "outputs_hidden": false
    },
    "pycharm": {
     "is_executing": false,
     "name": "#%%\n"
    }
   },
   "outputs": [
    {
     "data": {
      "text/html": [
       "<div>\n",
       "<style scoped>\n",
       "    .dataframe tbody tr th:only-of-type {\n",
       "        vertical-align: middle;\n",
       "    }\n",
       "\n",
       "    .dataframe tbody tr th {\n",
       "        vertical-align: top;\n",
       "    }\n",
       "\n",
       "    .dataframe thead th {\n",
       "        text-align: right;\n",
       "    }\n",
       "</style>\n",
       "<table border=\"1\" class=\"dataframe\">\n",
       "  <thead>\n",
       "    <tr style=\"text-align: right;\">\n",
       "      <th></th>\n",
       "      <th>y</th>\n",
       "      <th>yc</th>\n",
       "      <th>xc_is_bad</th>\n",
       "      <th>xc_logit_code_large</th>\n",
       "      <th>xc_logit_code_liminal</th>\n",
       "      <th>xc_logit_code_small</th>\n",
       "      <th>xc_prevalence_code</th>\n",
       "      <th>xc_lev_level_-0.5</th>\n",
       "      <th>xc_lev_level_1.0</th>\n",
       "      <th>xc_lev__NA_</th>\n",
       "      <th>xc_lev_level_0.5</th>\n",
       "      <th>xc_lev_level_0.0</th>\n",
       "    </tr>\n",
       "  </thead>\n",
       "  <tbody>\n",
       "    <tr>\n",
       "      <th>0</th>\n",
       "      <td>0.268432</td>\n",
       "      <td>liminal</td>\n",
       "      <td>0.0</td>\n",
       "      <td>0.423869</td>\n",
       "      <td>0.350345</td>\n",
       "      <td>-5.762421</td>\n",
       "      <td>0.176</td>\n",
       "      <td>0.0</td>\n",
       "      <td>0.0</td>\n",
       "      <td>0.0</td>\n",
       "      <td>1.0</td>\n",
       "      <td>0.0</td>\n",
       "    </tr>\n",
       "    <tr>\n",
       "      <th>1</th>\n",
       "      <td>0.085874</td>\n",
       "      <td>liminal</td>\n",
       "      <td>0.0</td>\n",
       "      <td>-5.641837</td>\n",
       "      <td>0.985762</td>\n",
       "      <td>-5.775338</td>\n",
       "      <td>0.104</td>\n",
       "      <td>0.0</td>\n",
       "      <td>0.0</td>\n",
       "      <td>0.0</td>\n",
       "      <td>0.0</td>\n",
       "      <td>1.0</td>\n",
       "    </tr>\n",
       "    <tr>\n",
       "      <th>2</th>\n",
       "      <td>-0.714933</td>\n",
       "      <td>small</td>\n",
       "      <td>0.0</td>\n",
       "      <td>-5.628960</td>\n",
       "      <td>-0.002235</td>\n",
       "      <td>0.585699</td>\n",
       "      <td>0.226</td>\n",
       "      <td>1.0</td>\n",
       "      <td>0.0</td>\n",
       "      <td>0.0</td>\n",
       "      <td>0.0</td>\n",
       "      <td>0.0</td>\n",
       "    </tr>\n",
       "    <tr>\n",
       "      <th>3</th>\n",
       "      <td>-0.060780</td>\n",
       "      <td>liminal</td>\n",
       "      <td>0.0</td>\n",
       "      <td>-5.710410</td>\n",
       "      <td>1.033714</td>\n",
       "      <td>-5.728814</td>\n",
       "      <td>0.082</td>\n",
       "      <td>0.0</td>\n",
       "      <td>0.0</td>\n",
       "      <td>0.0</td>\n",
       "      <td>0.0</td>\n",
       "      <td>0.0</td>\n",
       "    </tr>\n",
       "    <tr>\n",
       "      <th>4</th>\n",
       "      <td>1.085506</td>\n",
       "      <td>large</td>\n",
       "      <td>0.0</td>\n",
       "      <td>1.137272</td>\n",
       "      <td>-5.856069</td>\n",
       "      <td>-5.768219</td>\n",
       "      <td>0.216</td>\n",
       "      <td>0.0</td>\n",
       "      <td>1.0</td>\n",
       "      <td>0.0</td>\n",
       "      <td>0.0</td>\n",
       "      <td>0.0</td>\n",
       "    </tr>\n",
       "  </tbody>\n",
       "</table>\n",
       "</div>"
      ],
      "text/plain": [
       "          y       yc  xc_is_bad  xc_logit_code_large  xc_logit_code_liminal  \\\n",
       "0  0.268432  liminal        0.0             0.423869               0.350345   \n",
       "1  0.085874  liminal        0.0            -5.641837               0.985762   \n",
       "2 -0.714933    small        0.0            -5.628960              -0.002235   \n",
       "3 -0.060780  liminal        0.0            -5.710410               1.033714   \n",
       "4  1.085506    large        0.0             1.137272              -5.856069   \n",
       "\n",
       "   xc_logit_code_small  xc_prevalence_code  xc_lev_level_-0.5  \\\n",
       "0            -5.762421               0.176                0.0   \n",
       "1            -5.775338               0.104                0.0   \n",
       "2             0.585699               0.226                1.0   \n",
       "3            -5.728814               0.082                0.0   \n",
       "4            -5.768219               0.216                0.0   \n",
       "\n",
       "   xc_lev_level_1.0  xc_lev__NA_  xc_lev_level_0.5  xc_lev_level_0.0  \n",
       "0               0.0          0.0               1.0               0.0  \n",
       "1               0.0          0.0               0.0               1.0  \n",
       "2               0.0          0.0               0.0               0.0  \n",
       "3               0.0          0.0               0.0               0.0  \n",
       "4               1.0          0.0               0.0               0.0  "
      ]
     },
     "execution_count": 12,
     "metadata": {},
     "output_type": "execute_result"
    }
   ],
   "source": [
    "d_prepared.head()"
   ]
  },
  {
   "cell_type": "markdown",
   "metadata": {},
   "source": [
    "This is `vtreat`s default behavior; to include all variables in the prepared data, set the parameter `filter_to_recommended` to False, as we show later, in the *Parameters for `BinomialOutcomeTreatment`* section below.\n"
   ]
  },
  {
   "cell_type": "markdown",
   "metadata": {},
   "source": [
    "## A Closer Look at `logit_code` variables\n",
    "\n",
    "Variables of type `logit_code` are the outputs of a one-variable hierarchical logistic regression of a categorical variable (in our example, `xc`) against the centered output on the (cross-validated) treated training data. \n",
    "\n",
    "Let's see whether `xc_logit_code` makes a good one-variable model for `yc`. It has a large AUC:"
   ]
  },
  {
   "cell_type": "code",
   "execution_count": 13,
   "metadata": {
    "collapsed": false,
    "jupyter": {
     "outputs_hidden": false
    },
    "pycharm": {
     "is_executing": false,
     "name": "#%%\n"
    }
   },
   "outputs": [],
   "source": [
    "# TODO: figure out a presentation\n",
    "# wvpy.util.plot_roc(prediction=d_prepared['xc_logit_code'], \n",
    "#                   istrue=d_prepared['yc'],\n",
    "#                   title = 'performance of xc_logit_code variable')"
   ]
  },
  {
   "cell_type": "markdown",
   "metadata": {},
   "source": [
    "This indicates that `xc_logit_code` is strongly predictive of the outcome. Negative values of `xc_logit_code` correspond strongly to negative outcomes, and positive values correspond strongly to positive outcomes."
   ]
  },
  {
   "cell_type": "code",
   "execution_count": 14,
   "metadata": {
    "collapsed": false,
    "jupyter": {
     "outputs_hidden": false
    },
    "pycharm": {
     "is_executing": false,
     "name": "#%%\n"
    }
   },
   "outputs": [],
   "source": [
    "# TODO: figure out a presentation\n",
    "# wvpy.util.dual_density_plot(probs=d_prepared['xc_logit_code'], \n",
    "#                            istrue=d_prepared['yc'])"
   ]
  },
  {
   "cell_type": "markdown",
   "metadata": {},
   "source": [
    "The values of `xc_logit_code_*` are in \"link space\". We can often visualize the relationship a little better by converting the logistic score to a probability."
   ]
  },
  {
   "cell_type": "code",
   "execution_count": 15,
   "metadata": {
    "collapsed": false,
    "jupyter": {
     "outputs_hidden": false
    },
    "pycharm": {
     "is_executing": false,
     "name": "#%%\n"
    }
   },
   "outputs": [],
   "source": [
    "from scipy.special import expit  # sigmoid\n",
    "from scipy.special import logit\n",
    "\n",
    "# TODO: figure out presenetation\n",
    "# offset = logit(numpy.mean(d_prepared.yc))\n",
    "# wvpy.util.dual_density_plot(probs=expit(d_prepared['xc_logit_code_large'] + offset),\n",
    "#                            istrue=d_prepared['yc'])                                   "
   ]
  },
  {
   "cell_type": "markdown",
   "metadata": {},
   "source": [
    "Variables of type `logit_code` are useful when dealing with categorical variables with a very large number of possible levels. For example, a categorical variable with 10,000 possible values potentially converts to 10,000 indicator variables, which may be unwieldy for some modeling methods. Using a single numerical variable of type `logit_code` may be a preferable alternative."
   ]
  },
  {
   "cell_type": "markdown",
   "metadata": {},
   "source": [
    "## Using the Prepared Data in a Model\n",
    "\n",
    "Of course, what we really want to do with the prepared training data is to fit a model jointly with all the (recommended) variables. \n",
    "Let's try fitting a logistic regression model to `d_prepared`."
   ]
  },
  {
   "cell_type": "code",
   "execution_count": 16,
   "metadata": {
    "collapsed": false,
    "jupyter": {
     "outputs_hidden": false
    },
    "pycharm": {
     "is_executing": false,
     "name": "#%%\n"
    }
   },
   "outputs": [
    {
     "data": {
      "text/plain": [
       "LogisticRegression(C=1, class_weight=None, dual=False, fit_intercept=True,\n",
       "                   intercept_scaling=1, l1_ratio=None, max_iter=1000,\n",
       "                   multi_class='multinomial', n_jobs=None, penalty='l2',\n",
       "                   random_state=None, solver='saga', tol=0.0001, verbose=0,\n",
       "                   warm_start=False)"
      ]
     },
     "execution_count": 16,
     "metadata": {},
     "output_type": "execute_result"
    }
   ],
   "source": [
    "import sklearn.linear_model\n",
    "import seaborn\n",
    "\n",
    "not_variables = ['y', 'yc', 'prediction', 'prob_on_predicted_class', 'predict', 'large', 'liminal', 'small']\n",
    "model_vars = [v for v in d_prepared.columns if v not in set(not_variables)]\n",
    "\n",
    "fitter = sklearn.linear_model.LogisticRegression(\n",
    "    solver = 'saga',\n",
    "    penalty = 'l2',\n",
    "    C = 1,\n",
    "    max_iter = 1000,\n",
    "    multi_class = 'multinomial')\n",
    "fitter.fit(d_prepared[model_vars], d_prepared['yc'])"
   ]
  },
  {
   "cell_type": "code",
   "execution_count": 17,
   "metadata": {},
   "outputs": [],
   "source": [
    "def add_predictions(d_prepared, model_vars, fitter):\n",
    "    pred = fitter.predict_proba(d_prepared[model_vars])\n",
    "    classes = fitter.classes_\n",
    "    d_prepared['prob_on_predicted_class'] = 0\n",
    "    d_prepared['predict'] = None\n",
    "    for i in range(len(classes)):\n",
    "        cl = classes[i]\n",
    "        d_prepared[cl] = pred[:, i]\n",
    "        improved = d_prepared[cl] > d_prepared['prob_on_predicted_class']\n",
    "        d_prepared.loc[improved, 'predict'] = cl\n",
    "        d_prepared.loc[improved, 'prob_on_predicted_class'] = d_prepared.loc[improved, cl]\n",
    "    return d_prepared\n",
    "\n",
    "def add_value_by_column(d_prepared, name_column, new_column):\n",
    "    vals = d[name_column].unique()\n",
    "    d_prepared[new_column] = None\n",
    "    for v in vals:\n",
    "        matches = d_prepared[name_column]==v\n",
    "        d_prepared.loc[matches, new_column] = d_prepared.loc[matches, v]\n",
    "    return d_prepared"
   ]
  },
  {
   "cell_type": "code",
   "execution_count": 18,
   "metadata": {},
   "outputs": [
    {
     "data": {
      "text/html": [
       "<div>\n",
       "<style scoped>\n",
       "    .dataframe tbody tr th:only-of-type {\n",
       "        vertical-align: middle;\n",
       "    }\n",
       "\n",
       "    .dataframe tbody tr th {\n",
       "        vertical-align: top;\n",
       "    }\n",
       "\n",
       "    .dataframe thead th {\n",
       "        text-align: right;\n",
       "    }\n",
       "</style>\n",
       "<table border=\"1\" class=\"dataframe\">\n",
       "  <thead>\n",
       "    <tr style=\"text-align: right;\">\n",
       "      <th></th>\n",
       "      <th>y</th>\n",
       "      <th>yc</th>\n",
       "      <th>xc_is_bad</th>\n",
       "      <th>xc_logit_code_large</th>\n",
       "      <th>xc_logit_code_liminal</th>\n",
       "      <th>xc_logit_code_small</th>\n",
       "      <th>xc_prevalence_code</th>\n",
       "      <th>xc_lev_level_-0.5</th>\n",
       "      <th>xc_lev_level_1.0</th>\n",
       "      <th>xc_lev__NA_</th>\n",
       "      <th>xc_lev_level_0.5</th>\n",
       "      <th>xc_lev_level_0.0</th>\n",
       "      <th>prob_on_predicted_class</th>\n",
       "      <th>predict</th>\n",
       "      <th>large</th>\n",
       "      <th>liminal</th>\n",
       "      <th>small</th>\n",
       "      <th>prob_on_correct_class</th>\n",
       "    </tr>\n",
       "  </thead>\n",
       "  <tbody>\n",
       "    <tr>\n",
       "      <th>0</th>\n",
       "      <td>0.268432</td>\n",
       "      <td>liminal</td>\n",
       "      <td>0.0</td>\n",
       "      <td>0.423869</td>\n",
       "      <td>0.350345</td>\n",
       "      <td>-5.762421</td>\n",
       "      <td>0.176</td>\n",
       "      <td>0.0</td>\n",
       "      <td>0.0</td>\n",
       "      <td>0.0</td>\n",
       "      <td>1.0</td>\n",
       "      <td>0.0</td>\n",
       "      <td>0.529168</td>\n",
       "      <td>liminal</td>\n",
       "      <td>0.470418</td>\n",
       "      <td>0.529168</td>\n",
       "      <td>0.000413</td>\n",
       "      <td>0.529168</td>\n",
       "    </tr>\n",
       "    <tr>\n",
       "      <th>1</th>\n",
       "      <td>0.085874</td>\n",
       "      <td>liminal</td>\n",
       "      <td>0.0</td>\n",
       "      <td>-5.641837</td>\n",
       "      <td>0.985762</td>\n",
       "      <td>-5.775338</td>\n",
       "      <td>0.104</td>\n",
       "      <td>0.0</td>\n",
       "      <td>0.0</td>\n",
       "      <td>0.0</td>\n",
       "      <td>0.0</td>\n",
       "      <td>1.0</td>\n",
       "      <td>0.998639</td>\n",
       "      <td>liminal</td>\n",
       "      <td>0.000575</td>\n",
       "      <td>0.998639</td>\n",
       "      <td>0.000786</td>\n",
       "      <td>0.998639</td>\n",
       "    </tr>\n",
       "    <tr>\n",
       "      <th>2</th>\n",
       "      <td>-0.714933</td>\n",
       "      <td>small</td>\n",
       "      <td>0.0</td>\n",
       "      <td>-5.628960</td>\n",
       "      <td>-0.002235</td>\n",
       "      <td>0.585699</td>\n",
       "      <td>0.226</td>\n",
       "      <td>1.0</td>\n",
       "      <td>0.0</td>\n",
       "      <td>0.0</td>\n",
       "      <td>0.0</td>\n",
       "      <td>0.0</td>\n",
       "      <td>0.627012</td>\n",
       "      <td>small</td>\n",
       "      <td>0.000332</td>\n",
       "      <td>0.372656</td>\n",
       "      <td>0.627012</td>\n",
       "      <td>0.627012</td>\n",
       "    </tr>\n",
       "    <tr>\n",
       "      <th>3</th>\n",
       "      <td>-0.060780</td>\n",
       "      <td>liminal</td>\n",
       "      <td>0.0</td>\n",
       "      <td>-5.710410</td>\n",
       "      <td>1.033714</td>\n",
       "      <td>-5.728814</td>\n",
       "      <td>0.082</td>\n",
       "      <td>0.0</td>\n",
       "      <td>0.0</td>\n",
       "      <td>0.0</td>\n",
       "      <td>0.0</td>\n",
       "      <td>0.0</td>\n",
       "      <td>0.998560</td>\n",
       "      <td>liminal</td>\n",
       "      <td>0.000557</td>\n",
       "      <td>0.998560</td>\n",
       "      <td>0.000884</td>\n",
       "      <td>0.99856</td>\n",
       "    </tr>\n",
       "    <tr>\n",
       "      <th>4</th>\n",
       "      <td>1.085506</td>\n",
       "      <td>large</td>\n",
       "      <td>0.0</td>\n",
       "      <td>1.137272</td>\n",
       "      <td>-5.856069</td>\n",
       "      <td>-5.768219</td>\n",
       "      <td>0.216</td>\n",
       "      <td>0.0</td>\n",
       "      <td>1.0</td>\n",
       "      <td>0.0</td>\n",
       "      <td>0.0</td>\n",
       "      <td>0.0</td>\n",
       "      <td>0.998962</td>\n",
       "      <td>large</td>\n",
       "      <td>0.998962</td>\n",
       "      <td>0.000828</td>\n",
       "      <td>0.000209</td>\n",
       "      <td>0.998962</td>\n",
       "    </tr>\n",
       "  </tbody>\n",
       "</table>\n",
       "</div>"
      ],
      "text/plain": [
       "          y       yc  xc_is_bad  xc_logit_code_large  xc_logit_code_liminal  \\\n",
       "0  0.268432  liminal        0.0             0.423869               0.350345   \n",
       "1  0.085874  liminal        0.0            -5.641837               0.985762   \n",
       "2 -0.714933    small        0.0            -5.628960              -0.002235   \n",
       "3 -0.060780  liminal        0.0            -5.710410               1.033714   \n",
       "4  1.085506    large        0.0             1.137272              -5.856069   \n",
       "\n",
       "   xc_logit_code_small  xc_prevalence_code  xc_lev_level_-0.5  \\\n",
       "0            -5.762421               0.176                0.0   \n",
       "1            -5.775338               0.104                0.0   \n",
       "2             0.585699               0.226                1.0   \n",
       "3            -5.728814               0.082                0.0   \n",
       "4            -5.768219               0.216                0.0   \n",
       "\n",
       "   xc_lev_level_1.0  xc_lev__NA_  xc_lev_level_0.5  xc_lev_level_0.0  \\\n",
       "0               0.0          0.0               1.0               0.0   \n",
       "1               0.0          0.0               0.0               1.0   \n",
       "2               0.0          0.0               0.0               0.0   \n",
       "3               0.0          0.0               0.0               0.0   \n",
       "4               1.0          0.0               0.0               0.0   \n",
       "\n",
       "   prob_on_predicted_class  predict     large   liminal     small  \\\n",
       "0                 0.529168  liminal  0.470418  0.529168  0.000413   \n",
       "1                 0.998639  liminal  0.000575  0.998639  0.000786   \n",
       "2                 0.627012    small  0.000332  0.372656  0.627012   \n",
       "3                 0.998560  liminal  0.000557  0.998560  0.000884   \n",
       "4                 0.998962    large  0.998962  0.000828  0.000209   \n",
       "\n",
       "  prob_on_correct_class  \n",
       "0              0.529168  \n",
       "1              0.998639  \n",
       "2              0.627012  \n",
       "3               0.99856  \n",
       "4              0.998962  "
      ]
     },
     "execution_count": 18,
     "metadata": {},
     "output_type": "execute_result"
    }
   ],
   "source": [
    "# now predict\n",
    "d_prepared = add_predictions(d_prepared, model_vars, fitter)\n",
    "d_prepared = add_value_by_column(d_prepared, 'yc', 'prob_on_correct_class')\n",
    "d_prepared.head()"
   ]
  },
  {
   "cell_type": "code",
   "execution_count": 19,
   "metadata": {
    "collapsed": false,
    "jupyter": {
     "outputs_hidden": false
    },
    "pycharm": {
     "is_executing": false,
     "name": "#%%\n"
    }
   },
   "outputs": [],
   "source": [
    "# TODO: work out a presentation\n",
    "# Confusion matrix: https://scikit-learn.org/stable/modules/generated/sklearn.metrics.confusion_matrix.html\n",
    "# also maybe density plot of prob_on_correct_class\n",
    "# look at the ROC curve (on the training data)\n",
    "#wvpy.util.plot_roc(prediction=d_prepared['prediction'], \n",
    "#                   istrue=d_prepared['yc'],\n",
    "#                   title = 'Performance of logistic regression model on training data')"
   ]
  },
  {
   "cell_type": "markdown",
   "metadata": {},
   "source": [
    "Now apply the model to new data."
   ]
  },
  {
   "cell_type": "code",
   "execution_count": 20,
   "metadata": {
    "collapsed": false,
    "jupyter": {
     "outputs_hidden": false
    },
    "pycharm": {
     "is_executing": false,
     "name": "#%%\n"
    }
   },
   "outputs": [
    {
     "data": {
      "text/html": [
       "<div>\n",
       "<style scoped>\n",
       "    .dataframe tbody tr th:only-of-type {\n",
       "        vertical-align: middle;\n",
       "    }\n",
       "\n",
       "    .dataframe tbody tr th {\n",
       "        vertical-align: top;\n",
       "    }\n",
       "\n",
       "    .dataframe thead th {\n",
       "        text-align: right;\n",
       "    }\n",
       "</style>\n",
       "<table border=\"1\" class=\"dataframe\">\n",
       "  <thead>\n",
       "    <tr style=\"text-align: right;\">\n",
       "      <th></th>\n",
       "      <th>y</th>\n",
       "      <th>yc</th>\n",
       "      <th>xc_is_bad</th>\n",
       "      <th>xc_logit_code_large</th>\n",
       "      <th>xc_logit_code_liminal</th>\n",
       "      <th>xc_logit_code_small</th>\n",
       "      <th>xc_prevalence_code</th>\n",
       "      <th>xc_lev_level_-0.5</th>\n",
       "      <th>xc_lev_level_1.0</th>\n",
       "      <th>xc_lev__NA_</th>\n",
       "      <th>xc_lev_level_0.5</th>\n",
       "      <th>xc_lev_level_0.0</th>\n",
       "      <th>prob_on_predicted_class</th>\n",
       "      <th>predict</th>\n",
       "      <th>large</th>\n",
       "      <th>liminal</th>\n",
       "      <th>small</th>\n",
       "      <th>prob_on_correct_class</th>\n",
       "    </tr>\n",
       "  </thead>\n",
       "  <tbody>\n",
       "    <tr>\n",
       "      <th>0</th>\n",
       "      <td>-0.484566</td>\n",
       "      <td>liminal</td>\n",
       "      <td>0.0</td>\n",
       "      <td>-5.698433</td>\n",
       "      <td>0.031524</td>\n",
       "      <td>0.613593</td>\n",
       "      <td>0.226</td>\n",
       "      <td>1.0</td>\n",
       "      <td>0.0</td>\n",
       "      <td>0.0</td>\n",
       "      <td>0.0</td>\n",
       "      <td>0.0</td>\n",
       "      <td>0.628341</td>\n",
       "      <td>small</td>\n",
       "      <td>0.000295</td>\n",
       "      <td>0.371364</td>\n",
       "      <td>0.628341</td>\n",
       "      <td>0.371364</td>\n",
       "    </tr>\n",
       "    <tr>\n",
       "      <th>1</th>\n",
       "      <td>-0.813218</td>\n",
       "      <td>small</td>\n",
       "      <td>1.0</td>\n",
       "      <td>-5.696088</td>\n",
       "      <td>-5.870838</td>\n",
       "      <td>1.082719</td>\n",
       "      <td>0.196</td>\n",
       "      <td>0.0</td>\n",
       "      <td>0.0</td>\n",
       "      <td>1.0</td>\n",
       "      <td>0.0</td>\n",
       "      <td>0.0</td>\n",
       "      <td>0.998723</td>\n",
       "      <td>small</td>\n",
       "      <td>0.000326</td>\n",
       "      <td>0.000951</td>\n",
       "      <td>0.998723</td>\n",
       "      <td>0.998723</td>\n",
       "    </tr>\n",
       "    <tr>\n",
       "      <th>2</th>\n",
       "      <td>-0.900069</td>\n",
       "      <td>small</td>\n",
       "      <td>1.0</td>\n",
       "      <td>-5.696088</td>\n",
       "      <td>-5.870838</td>\n",
       "      <td>1.082719</td>\n",
       "      <td>0.196</td>\n",
       "      <td>0.0</td>\n",
       "      <td>0.0</td>\n",
       "      <td>1.0</td>\n",
       "      <td>0.0</td>\n",
       "      <td>0.0</td>\n",
       "      <td>0.998723</td>\n",
       "      <td>small</td>\n",
       "      <td>0.000326</td>\n",
       "      <td>0.000951</td>\n",
       "      <td>0.998723</td>\n",
       "      <td>0.998723</td>\n",
       "    </tr>\n",
       "    <tr>\n",
       "      <th>3</th>\n",
       "      <td>1.059184</td>\n",
       "      <td>large</td>\n",
       "      <td>0.0</td>\n",
       "      <td>1.194985</td>\n",
       "      <td>-5.872510</td>\n",
       "      <td>-5.809646</td>\n",
       "      <td>0.216</td>\n",
       "      <td>0.0</td>\n",
       "      <td>1.0</td>\n",
       "      <td>0.0</td>\n",
       "      <td>0.0</td>\n",
       "      <td>0.0</td>\n",
       "      <td>0.999052</td>\n",
       "      <td>large</td>\n",
       "      <td>0.999052</td>\n",
       "      <td>0.000762</td>\n",
       "      <td>0.000186</td>\n",
       "      <td>0.999052</td>\n",
       "    </tr>\n",
       "    <tr>\n",
       "      <th>4</th>\n",
       "      <td>-0.431252</td>\n",
       "      <td>liminal</td>\n",
       "      <td>0.0</td>\n",
       "      <td>-5.698433</td>\n",
       "      <td>0.031524</td>\n",
       "      <td>0.613593</td>\n",
       "      <td>0.226</td>\n",
       "      <td>1.0</td>\n",
       "      <td>0.0</td>\n",
       "      <td>0.0</td>\n",
       "      <td>0.0</td>\n",
       "      <td>0.0</td>\n",
       "      <td>0.628341</td>\n",
       "      <td>small</td>\n",
       "      <td>0.000295</td>\n",
       "      <td>0.371364</td>\n",
       "      <td>0.628341</td>\n",
       "      <td>0.371364</td>\n",
       "    </tr>\n",
       "  </tbody>\n",
       "</table>\n",
       "</div>"
      ],
      "text/plain": [
       "          y       yc  xc_is_bad  xc_logit_code_large  xc_logit_code_liminal  \\\n",
       "0 -0.484566  liminal        0.0            -5.698433               0.031524   \n",
       "1 -0.813218    small        1.0            -5.696088              -5.870838   \n",
       "2 -0.900069    small        1.0            -5.696088              -5.870838   \n",
       "3  1.059184    large        0.0             1.194985              -5.872510   \n",
       "4 -0.431252  liminal        0.0            -5.698433               0.031524   \n",
       "\n",
       "   xc_logit_code_small  xc_prevalence_code  xc_lev_level_-0.5  \\\n",
       "0             0.613593               0.226                1.0   \n",
       "1             1.082719               0.196                0.0   \n",
       "2             1.082719               0.196                0.0   \n",
       "3            -5.809646               0.216                0.0   \n",
       "4             0.613593               0.226                1.0   \n",
       "\n",
       "   xc_lev_level_1.0  xc_lev__NA_  xc_lev_level_0.5  xc_lev_level_0.0  \\\n",
       "0               0.0          0.0               0.0               0.0   \n",
       "1               0.0          1.0               0.0               0.0   \n",
       "2               0.0          1.0               0.0               0.0   \n",
       "3               1.0          0.0               0.0               0.0   \n",
       "4               0.0          0.0               0.0               0.0   \n",
       "\n",
       "   prob_on_predicted_class predict     large   liminal     small  \\\n",
       "0                 0.628341   small  0.000295  0.371364  0.628341   \n",
       "1                 0.998723   small  0.000326  0.000951  0.998723   \n",
       "2                 0.998723   small  0.000326  0.000951  0.998723   \n",
       "3                 0.999052   large  0.999052  0.000762  0.000186   \n",
       "4                 0.628341   small  0.000295  0.371364  0.628341   \n",
       "\n",
       "  prob_on_correct_class  \n",
       "0              0.371364  \n",
       "1              0.998723  \n",
       "2              0.998723  \n",
       "3              0.999052  \n",
       "4              0.371364  "
      ]
     },
     "execution_count": 20,
     "metadata": {},
     "output_type": "execute_result"
    }
   ],
   "source": [
    "# create the new data\n",
    "dtest = make_data(450)\n",
    "\n",
    "# prepare the new data with vtreat\n",
    "dtest_prepared = transform.transform(dtest)\n",
    "\n",
    "# apply the model to the prepared data\n",
    "dtest_prepared = add_predictions(dtest_prepared, model_vars, fitter)\n",
    "dtest_prepared = add_value_by_column(dtest_prepared, 'yc', 'prob_on_correct_class')\n",
    "dtest_prepared.head()"
   ]
  },
  {
   "cell_type": "code",
   "execution_count": 21,
   "metadata": {
    "collapsed": false,
    "jupyter": {
     "outputs_hidden": false
    },
    "pycharm": {
     "is_executing": false,
     "name": "#%%\n"
    }
   },
   "outputs": [
    {
     "ename": "KeyError",
     "evalue": "'prediction'",
     "output_type": "error",
     "traceback": [
      "\u001b[0;31m---------------------------------------------------------------------------\u001b[0m",
      "\u001b[0;31mKeyError\u001b[0m                                  Traceback (most recent call last)",
      "\u001b[0;32m~/anaconda3/envs/aiAcademy/lib/python3.6/site-packages/pandas/core/indexes/base.py\u001b[0m in \u001b[0;36mget_loc\u001b[0;34m(self, key, method, tolerance)\u001b[0m\n\u001b[1;32m   2889\u001b[0m             \u001b[0;32mtry\u001b[0m\u001b[0;34m:\u001b[0m\u001b[0;34m\u001b[0m\u001b[0;34m\u001b[0m\u001b[0m\n\u001b[0;32m-> 2890\u001b[0;31m                 \u001b[0;32mreturn\u001b[0m \u001b[0mself\u001b[0m\u001b[0;34m.\u001b[0m\u001b[0m_engine\u001b[0m\u001b[0;34m.\u001b[0m\u001b[0mget_loc\u001b[0m\u001b[0;34m(\u001b[0m\u001b[0mkey\u001b[0m\u001b[0;34m)\u001b[0m\u001b[0;34m\u001b[0m\u001b[0;34m\u001b[0m\u001b[0m\n\u001b[0m\u001b[1;32m   2891\u001b[0m             \u001b[0;32mexcept\u001b[0m \u001b[0mKeyError\u001b[0m\u001b[0;34m:\u001b[0m\u001b[0;34m\u001b[0m\u001b[0;34m\u001b[0m\u001b[0m\n",
      "\u001b[0;32mpandas/_libs/index.pyx\u001b[0m in \u001b[0;36mpandas._libs.index.IndexEngine.get_loc\u001b[0;34m()\u001b[0m\n",
      "\u001b[0;32mpandas/_libs/index.pyx\u001b[0m in \u001b[0;36mpandas._libs.index.IndexEngine.get_loc\u001b[0;34m()\u001b[0m\n",
      "\u001b[0;32mpandas/_libs/hashtable_class_helper.pxi\u001b[0m in \u001b[0;36mpandas._libs.hashtable.PyObjectHashTable.get_item\u001b[0;34m()\u001b[0m\n",
      "\u001b[0;32mpandas/_libs/hashtable_class_helper.pxi\u001b[0m in \u001b[0;36mpandas._libs.hashtable.PyObjectHashTable.get_item\u001b[0;34m()\u001b[0m\n",
      "\u001b[0;31mKeyError\u001b[0m: 'prediction'",
      "\nDuring handling of the above exception, another exception occurred:\n",
      "\u001b[0;31mKeyError\u001b[0m                                  Traceback (most recent call last)",
      "\u001b[0;32m<ipython-input-21-95076fe11819>\u001b[0m in \u001b[0;36m<module>\u001b[0;34m\u001b[0m\n\u001b[0;32m----> 1\u001b[0;31m wvpy.util.plot_roc(prediction=dtest_prepared['prediction'], \n\u001b[0m\u001b[1;32m      2\u001b[0m                    \u001b[0mistrue\u001b[0m\u001b[0;34m=\u001b[0m\u001b[0mdtest_prepared\u001b[0m\u001b[0;34m[\u001b[0m\u001b[0;34m'yc'\u001b[0m\u001b[0;34m]\u001b[0m\u001b[0;34m,\u001b[0m\u001b[0;34m\u001b[0m\u001b[0;34m\u001b[0m\u001b[0m\n\u001b[1;32m      3\u001b[0m                    title = 'Performance of logistic regression model on test data')\n",
      "\u001b[0;32m~/anaconda3/envs/aiAcademy/lib/python3.6/site-packages/pandas/core/frame.py\u001b[0m in \u001b[0;36m__getitem__\u001b[0;34m(self, key)\u001b[0m\n\u001b[1;32m   2973\u001b[0m             \u001b[0;32mif\u001b[0m \u001b[0mself\u001b[0m\u001b[0;34m.\u001b[0m\u001b[0mcolumns\u001b[0m\u001b[0;34m.\u001b[0m\u001b[0mnlevels\u001b[0m \u001b[0;34m>\u001b[0m \u001b[0;36m1\u001b[0m\u001b[0;34m:\u001b[0m\u001b[0;34m\u001b[0m\u001b[0;34m\u001b[0m\u001b[0m\n\u001b[1;32m   2974\u001b[0m                 \u001b[0;32mreturn\u001b[0m \u001b[0mself\u001b[0m\u001b[0;34m.\u001b[0m\u001b[0m_getitem_multilevel\u001b[0m\u001b[0;34m(\u001b[0m\u001b[0mkey\u001b[0m\u001b[0;34m)\u001b[0m\u001b[0;34m\u001b[0m\u001b[0;34m\u001b[0m\u001b[0m\n\u001b[0;32m-> 2975\u001b[0;31m             \u001b[0mindexer\u001b[0m \u001b[0;34m=\u001b[0m \u001b[0mself\u001b[0m\u001b[0;34m.\u001b[0m\u001b[0mcolumns\u001b[0m\u001b[0;34m.\u001b[0m\u001b[0mget_loc\u001b[0m\u001b[0;34m(\u001b[0m\u001b[0mkey\u001b[0m\u001b[0;34m)\u001b[0m\u001b[0;34m\u001b[0m\u001b[0;34m\u001b[0m\u001b[0m\n\u001b[0m\u001b[1;32m   2976\u001b[0m             \u001b[0;32mif\u001b[0m \u001b[0mis_integer\u001b[0m\u001b[0;34m(\u001b[0m\u001b[0mindexer\u001b[0m\u001b[0;34m)\u001b[0m\u001b[0;34m:\u001b[0m\u001b[0;34m\u001b[0m\u001b[0;34m\u001b[0m\u001b[0m\n\u001b[1;32m   2977\u001b[0m                 \u001b[0mindexer\u001b[0m \u001b[0;34m=\u001b[0m \u001b[0;34m[\u001b[0m\u001b[0mindexer\u001b[0m\u001b[0;34m]\u001b[0m\u001b[0;34m\u001b[0m\u001b[0;34m\u001b[0m\u001b[0m\n",
      "\u001b[0;32m~/anaconda3/envs/aiAcademy/lib/python3.6/site-packages/pandas/core/indexes/base.py\u001b[0m in \u001b[0;36mget_loc\u001b[0;34m(self, key, method, tolerance)\u001b[0m\n\u001b[1;32m   2890\u001b[0m                 \u001b[0;32mreturn\u001b[0m \u001b[0mself\u001b[0m\u001b[0;34m.\u001b[0m\u001b[0m_engine\u001b[0m\u001b[0;34m.\u001b[0m\u001b[0mget_loc\u001b[0m\u001b[0;34m(\u001b[0m\u001b[0mkey\u001b[0m\u001b[0;34m)\u001b[0m\u001b[0;34m\u001b[0m\u001b[0;34m\u001b[0m\u001b[0m\n\u001b[1;32m   2891\u001b[0m             \u001b[0;32mexcept\u001b[0m \u001b[0mKeyError\u001b[0m\u001b[0;34m:\u001b[0m\u001b[0;34m\u001b[0m\u001b[0;34m\u001b[0m\u001b[0m\n\u001b[0;32m-> 2892\u001b[0;31m                 \u001b[0;32mreturn\u001b[0m \u001b[0mself\u001b[0m\u001b[0;34m.\u001b[0m\u001b[0m_engine\u001b[0m\u001b[0;34m.\u001b[0m\u001b[0mget_loc\u001b[0m\u001b[0;34m(\u001b[0m\u001b[0mself\u001b[0m\u001b[0;34m.\u001b[0m\u001b[0m_maybe_cast_indexer\u001b[0m\u001b[0;34m(\u001b[0m\u001b[0mkey\u001b[0m\u001b[0;34m)\u001b[0m\u001b[0;34m)\u001b[0m\u001b[0;34m\u001b[0m\u001b[0;34m\u001b[0m\u001b[0m\n\u001b[0m\u001b[1;32m   2893\u001b[0m         \u001b[0mindexer\u001b[0m \u001b[0;34m=\u001b[0m \u001b[0mself\u001b[0m\u001b[0;34m.\u001b[0m\u001b[0mget_indexer\u001b[0m\u001b[0;34m(\u001b[0m\u001b[0;34m[\u001b[0m\u001b[0mkey\u001b[0m\u001b[0;34m]\u001b[0m\u001b[0;34m,\u001b[0m \u001b[0mmethod\u001b[0m\u001b[0;34m=\u001b[0m\u001b[0mmethod\u001b[0m\u001b[0;34m,\u001b[0m \u001b[0mtolerance\u001b[0m\u001b[0;34m=\u001b[0m\u001b[0mtolerance\u001b[0m\u001b[0;34m)\u001b[0m\u001b[0;34m\u001b[0m\u001b[0;34m\u001b[0m\u001b[0m\n\u001b[1;32m   2894\u001b[0m         \u001b[0;32mif\u001b[0m \u001b[0mindexer\u001b[0m\u001b[0;34m.\u001b[0m\u001b[0mndim\u001b[0m \u001b[0;34m>\u001b[0m \u001b[0;36m1\u001b[0m \u001b[0;32mor\u001b[0m \u001b[0mindexer\u001b[0m\u001b[0;34m.\u001b[0m\u001b[0msize\u001b[0m \u001b[0;34m>\u001b[0m \u001b[0;36m1\u001b[0m\u001b[0;34m:\u001b[0m\u001b[0;34m\u001b[0m\u001b[0;34m\u001b[0m\u001b[0m\n",
      "\u001b[0;32mpandas/_libs/index.pyx\u001b[0m in \u001b[0;36mpandas._libs.index.IndexEngine.get_loc\u001b[0;34m()\u001b[0m\n",
      "\u001b[0;32mpandas/_libs/index.pyx\u001b[0m in \u001b[0;36mpandas._libs.index.IndexEngine.get_loc\u001b[0;34m()\u001b[0m\n",
      "\u001b[0;32mpandas/_libs/hashtable_class_helper.pxi\u001b[0m in \u001b[0;36mpandas._libs.hashtable.PyObjectHashTable.get_item\u001b[0;34m()\u001b[0m\n",
      "\u001b[0;32mpandas/_libs/hashtable_class_helper.pxi\u001b[0m in \u001b[0;36mpandas._libs.hashtable.PyObjectHashTable.get_item\u001b[0;34m()\u001b[0m\n",
      "\u001b[0;31mKeyError\u001b[0m: 'prediction'"
     ]
    }
   ],
   "source": [
    "wvpy.util.plot_roc(prediction=dtest_prepared['prediction'], \n",
    "                   istrue=dtest_prepared['yc'],\n",
    "                   title = 'Performance of logistic regression model on test data')"
   ]
  },
  {
   "cell_type": "markdown",
   "metadata": {},
   "source": [
    "## Parameters for `BinomialOutcomeTreatment`\n",
    "\n",
    "We've tried to set the defaults for all parameters so that `vtreat` is usable out of the box for most applications.\n"
   ]
  },
  {
   "cell_type": "code",
   "execution_count": null,
   "metadata": {
    "collapsed": false,
    "jupyter": {
     "outputs_hidden": false
    },
    "pycharm": {
     "is_executing": false,
     "name": "#%%\n"
    }
   },
   "outputs": [],
   "source": [
    "vtreat.vtreat_parameters()"
   ]
  },
  {
   "cell_type": "markdown",
   "metadata": {},
   "source": [
    "**use_hierarchical_estimate:**: When True, uses hierarchical smoothing when estimating `logit_code` variables; when False, uses unsmoothed logistic regression.\n",
    "\n",
    "**coders**: The types of synthetic variables that `vtreat` will (potentially) produce. See *Types of prepared variables* below.\n",
    "\n",
    "**filter_to_recommended**: When True, prepared data only includes variables marked as \"recommended\" in score frame. When False, prepared data includes all variables. See the Example below.\n",
    "\n",
    "**indicator_min_fraction**: For categorical variables, indicator variables (type `indicator_code`) are only produced for levels that are present at least `indicator_min_fraction` of the time. A consequence of this is that 1/`indicator_min_fraction` is the maximum number of indicators that will be produced for a given categorical variable. To make sure that *all* possible indicator variables are produced, set `indicator_min_fraction = 0`\n",
    "\n",
    "**cross_validation_plan**: The cross validation method used by `vtreat`. Most people won't have to change this.\n",
    "\n",
    "**cross_validation_k**: The number of folds to use for cross-validation\n",
    "\n",
    "**user_transforms**: For passing in user-defined transforms for custom data preparation. Won't be needed in most situations, but see [here](https://github.com/WinVector/pyvtreat/blob/master/Examples/UserCoders/UserCoders.ipynb) for an example of applying a GAM transform to input variables.\n",
    "\n",
    "**sparse_indicators**: When True, use a (Pandas) sparse representation for indicator variables. This representation is compatible with `sklearn`; however, it may not be compatible with other modeling packages. When False, use a dense representation.\n",
    "\n",
    "### Example: Use all variables to model, not just recommended"
   ]
  },
  {
   "cell_type": "code",
   "execution_count": null,
   "metadata": {
    "collapsed": false,
    "jupyter": {
     "outputs_hidden": false
    },
    "pycharm": {
     "is_executing": false,
     "name": "#%%\n"
    }
   },
   "outputs": [],
   "source": [
    "transform_all = vtreat.BinomialOutcomeTreatment(\n",
    "    outcome_name='yc',    # outcome variable\n",
    "    outcome_target=True,  # outcome of interest\n",
    "    cols_to_copy=['y'],   # columns to \"carry along\" but not treat as input variables\n",
    "    params = vtreat.vtreat_parameters({\n",
    "        'filter_to_recommended': False\n",
    "    })\n",
    ")  \n",
    "\n",
    "transform_all.fit_transform(d, d['yc']).columns"
   ]
  },
  {
   "cell_type": "code",
   "execution_count": null,
   "metadata": {
    "collapsed": false,
    "jupyter": {
     "outputs_hidden": false
    },
    "pycharm": {
     "is_executing": false,
     "name": "#%%\n"
    }
   },
   "outputs": [],
   "source": [
    "transform_all.score_frame_"
   ]
  },
  {
   "cell_type": "markdown",
   "metadata": {},
   "source": [
    "Note that the prepared data produced by `fit_transform()` includes all the variables, including those that were not marked as \"recommended\". \n",
    "\n",
    "## Types of prepared variables\n",
    "\n",
    "**clean_copy**: Produced from numerical variables: a clean numerical variable with no `NaNs` or missing values\n",
    "\n",
    "**indicator_code**: Produced from categorical variables, one for each (common) level: for each level of the variable, indicates if that level was \"on\"\n",
    "\n",
    "**prevalence_code**: Produced from categorical variables: indicates how often each level of the variable was \"on\"\n",
    "\n",
    "**logit_code**: Produced from categorical variables: score from a one-dimensional model of the centered output as a function of the variable\n",
    "\n",
    "**missing_indicator**: Produced for both numerical and categorical variables: an indicator variable that marks when the original variable was missing or  `NaN`\n",
    "\n",
    "**deviation_code**: not used by `BinomialOutcomeTreatment`\n",
    "\n",
    "**impact_code**: not used by `BinomialOutcomeTreatment`\n",
    "\n",
    "### Example: Produce only a subset of variable types\n",
    "\n",
    "In this example, suppose you only want to use indicators and continuous variables in your model; \n",
    "in other words, you only want to use variables of types (`clean_copy`, `missing_indicator`, and `indicator_code`), and no `logit_code` or `prevalence_code` variables."
   ]
  },
  {
   "cell_type": "code",
   "execution_count": null,
   "metadata": {
    "collapsed": false,
    "jupyter": {
     "outputs_hidden": false
    },
    "pycharm": {
     "is_executing": false,
     "name": "#%%\n"
    }
   },
   "outputs": [],
   "source": [
    "transform_thin = vtreat.BinomialOutcomeTreatment(\n",
    "    outcome_name='yc',    # outcome variable\n",
    "    outcome_target=True,  # outcome of interest\n",
    "    cols_to_copy=['y'],   # columns to \"carry along\" but not treat as input variables\n",
    "    params = vtreat.vtreat_parameters({\n",
    "        'filter_to_recommended': False,\n",
    "        'coders': {'clean_copy',\n",
    "                   'missing_indicator',\n",
    "                   'indicator_code',\n",
    "                  }\n",
    "    })\n",
    ")\n",
    "\n",
    "transform_thin.fit_transform(d, d['yc']).head()"
   ]
  },
  {
   "cell_type": "code",
   "execution_count": null,
   "metadata": {
    "collapsed": false,
    "jupyter": {
     "outputs_hidden": false
    },
    "pycharm": {
     "is_executing": false,
     "name": "#%%\n"
    }
   },
   "outputs": [],
   "source": [
    "transform_thin.score_frame_"
   ]
  },
  {
   "cell_type": "markdown",
   "metadata": {},
   "source": [
    "## Deriving the Default Thresholds\n",
    "\n",
    "While machine learning algorithms are generally tolerant to a reasonable number of irrelevant or noise variables, too many irrelevant variables can lead to serious overfit; see [this article](http://www.win-vector.com/blog/2014/02/bad-bayes-an-example-of-why-you-need-hold-out-testing/) for an extreme example, one we call \"Bad Bayes\". The default threshold is an attempt to eliminate obviously irrelevant variables early.\n",
    "\n",
    "Imagine that you have a pure noise dataset, where none of the *n* inputs are related to the output. If you treat each variable as a one-variable model for the output, and look at the significances of each model, these significance-values will be uniformly distributed in the range [0:1]. You want to pick a weakest possible significance threshold that eliminates as many noise variables as possible. A moment's thought should convince you that a threshold of *1/n* allows only one variable through, in expectation. \n",
    "\n",
    "This leads to the general-case heuristic that a significance threshold of *1/n* on your variables should allow only one irrelevant variable through, in expectation (along with all the relevant variables). Hence, *1/n* used to be our recommended threshold, when we developed the R version of `vtreat`.\n",
    "\n",
    "We noticed, however, that this biases the filtering against numerical variables, since there are at most two derived variables (of types *clean_copy* and *missing_indicator* for every numerical variable in the original data. Categorical variables, on the other hand, are expanded to many derived variables: several indicators (one for every common level), plus a *logit_code* and a *prevalence_code*. So we now reweight the thresholds. \n",
    "\n",
    "Suppose you have a (treated) data set with *ntreat* different types of `vtreat` variables (`clean_copy`, `indicator_code`, etc).\n",
    "There are *nT* variables of type *T*. Then the default threshold for all the variables of type *T* is *1/(ntreat nT)*. This reweighting  helps to reduce the bias against any particular type of variable. The heuristic is still that the set of recommended variables will allow at most one noise variable into the set of candidate variables.\n",
    "\n",
    "As noted above, because `vtreat` estimates variable significances using linear methods by default, some variables with a non-linear relationship  to the output may fail to pass the threshold. Setting the `filter_to_recommended` parameter to False will keep all derived variables in the treated frame, for the data scientist to filter (or not) as they will.\n",
    "\n"
   ]
  },
  {
   "cell_type": "markdown",
   "metadata": {},
   "source": [
    "## Conclusion\n",
    "\n",
    "In all cases (classification, regression, unsupervised, and multinomial classification) the intent is that `vtreat` transforms are essentially one liners.\n",
    "\n",
    "The preparation commands are organized as follows:\n",
    "\n",
    " * **Regression**: [`R` regression example](https://github.com/WinVector/vtreat/blob/master/Examples/Regression/Regression.md), [`Python` regression example](https://github.com/WinVector/pyvtreat/blob/master/Examples/Regression/Regression.md).\n",
    " * **Classification**: [`R` classification example](https://github.com/WinVector/vtreat/blob/master/Examples/Classification/Classification.md), [`Python` classification  example](https://github.com/WinVector/pyvtreat/blob/master/Examples/Multinomial/Multinomial.md).\n",
    " * **Unsupervised tasks**: [`R` unsupervised example](https://github.com/WinVector/vtreat/blob/master/Examples/Unsupervised/Unsupervised.md), [`Python` unsupervised example](https://github.com/WinVector/pyvtreat/blob/master/Examples/Unsupervised/Unsupervised.md).\n",
    " * **Multinomial classification**: [`R` multinomial classification example](https://winvector.github.io/vtreat/articles/MultiClassVtreat.html), [`Python` multinomial classification example](https://github.com/WinVector/pyvtreat/blob/master/Examples/Multinomial/MultinomialExample.ipynb).\n",
    "\n",
    "These current revisions of the examples are designed to be small, yet complete.  So as a set they have some overlap, but the user can rely mostly on a single example for a single task type.\n"
   ]
  }
 ],
 "metadata": {
  "kernelspec": {
   "display_name": "Python 3",
   "language": "python",
   "name": "python3"
  },
  "language_info": {
   "codemirror_mode": {
    "name": "ipython",
    "version": 3
   },
   "file_extension": ".py",
   "mimetype": "text/x-python",
   "name": "python",
   "nbconvert_exporter": "python",
   "pygments_lexer": "ipython3",
   "version": "3.6.9"
  },
  "pycharm": {
   "stem_cell": {
    "cell_type": "raw",
    "metadata": {
     "collapsed": false
    },
    "source": []
   }
  }
 },
 "nbformat": 4,
 "nbformat_minor": 4
}
