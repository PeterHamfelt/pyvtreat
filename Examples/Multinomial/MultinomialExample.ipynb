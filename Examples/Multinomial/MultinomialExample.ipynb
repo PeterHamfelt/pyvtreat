{
 "cells": [
  {
   "cell_type": "markdown",
   "metadata": {},
   "source": [
    "# Using [vtreat](https://github.com/WinVector/pyvtreat) with Multinomial Classification Problems\n",
    "\n",
    "Nina Zumel and John Mount\n",
    "September 2019\n",
    "\n",
    "Note: this is a description of the [`Python` version of `vtreat`](https://github.com/WinVector/pyvtreat), the same example for the [`R` version of `vtreat`](https://github.com/WinVector/vtreat) can be found [here](https://github.com/WinVector/pyvtreat/blob/master/Examples/Multinomial/Multinomial.md).\n"
   ]
  },
  {
   "cell_type": "markdown",
   "metadata": {},
   "source": [
    "## Preliminaries"
   ]
  },
  {
   "cell_type": "markdown",
   "metadata": {},
   "source": [
    "Load modules/packages."
   ]
  },
  {
   "cell_type": "code",
   "execution_count": 1,
   "metadata": {
    "collapsed": false,
    "jupyter": {
     "outputs_hidden": false
    },
    "pycharm": {
     "name": "#%%\n",
     "is_executing": false
    }
   },
   "outputs": [],
   "source": [
    "import pkg_resources\n",
    "import pandas\n",
    "import numpy\n",
    "import numpy.random\n",
    "import seaborn\n",
    "import matplotlib.pyplot as plt\n",
    "import vtreat\n",
    "import vtreat.util\n",
    "import wvpy.util"
   ]
  },
  {
   "cell_type": "markdown",
   "metadata": {},
   "source": [
    "Generate example data. \n",
    "\n",
    "* `y` is a noisy sinusoidal function of the variable `x`\n",
    "* `yc` is the multiple class output to be predicted: : `y`'s quantized value. \n",
    "* Input `xc` is a categorical variable that represents a discretization of `y`, along some `NaN`s\n",
    "* Input `x2` is a pure noise variable with no relationship to the output"
   ]
  },
  {
   "cell_type": "code",
   "execution_count": 2,
   "metadata": {
    "collapsed": false,
    "jupyter": {
     "outputs_hidden": false
    },
    "pycharm": {
     "name": "#%%\n",
     "is_executing": false
    }
   },
   "outputs": [
    {
     "data": {
      "text/plain": "          x         y          xc        x2       yc\n0  0.516951  0.503713   level_0.5 -0.756154    large\n1 -5.998797  0.198779   level_0.0  0.597748  liminal\n2 -2.350743 -0.713556  level_-0.5  1.497122    small\n3       NaN -0.577617  level_-0.5 -0.844595    small\n4       NaN -0.677406  level_-0.5  0.507180    small",
      "text/html": "<div>\n<style scoped>\n    .dataframe tbody tr th:only-of-type {\n        vertical-align: middle;\n    }\n\n    .dataframe tbody tr th {\n        vertical-align: top;\n    }\n\n    .dataframe thead th {\n        text-align: right;\n    }\n</style>\n<table border=\"1\" class=\"dataframe\">\n  <thead>\n    <tr style=\"text-align: right;\">\n      <th></th>\n      <th>x</th>\n      <th>y</th>\n      <th>xc</th>\n      <th>x2</th>\n      <th>yc</th>\n    </tr>\n  </thead>\n  <tbody>\n    <tr>\n      <th>0</th>\n      <td>0.516951</td>\n      <td>0.503713</td>\n      <td>level_0.5</td>\n      <td>-0.756154</td>\n      <td>large</td>\n    </tr>\n    <tr>\n      <th>1</th>\n      <td>-5.998797</td>\n      <td>0.198779</td>\n      <td>level_0.0</td>\n      <td>0.597748</td>\n      <td>liminal</td>\n    </tr>\n    <tr>\n      <th>2</th>\n      <td>-2.350743</td>\n      <td>-0.713556</td>\n      <td>level_-0.5</td>\n      <td>1.497122</td>\n      <td>small</td>\n    </tr>\n    <tr>\n      <th>3</th>\n      <td>NaN</td>\n      <td>-0.577617</td>\n      <td>level_-0.5</td>\n      <td>-0.844595</td>\n      <td>small</td>\n    </tr>\n    <tr>\n      <th>4</th>\n      <td>NaN</td>\n      <td>-0.677406</td>\n      <td>level_-0.5</td>\n      <td>0.507180</td>\n      <td>small</td>\n    </tr>\n  </tbody>\n</table>\n</div>"
     },
     "metadata": {},
     "output_type": "execute_result",
     "execution_count": 2
    }
   ],
   "source": [
    "def make_data(nrows):\n",
    "    d = pandas.DataFrame({'x': 5*numpy.random.normal(size=nrows)})\n",
    "    d['y'] = numpy.sin(d['x']) + 0.1*numpy.random.normal(size=nrows)\n",
    "    d.loc[numpy.arange(3, 10), 'x'] = numpy.nan                           # introduce a nan level\n",
    "    d['xc'] = ['level_' + str(5*numpy.round(yi/5, 1)) for yi in d['y']]\n",
    "    d['x2'] = numpy.random.normal(size=nrows)\n",
    "    d.loc[d['xc']=='level_-1.0', 'xc'] = numpy.nan  # introduce a nan level\n",
    "    d['yc'] = numpy.where(d['y']>0.5, 'large', numpy.where(d['y']<-0.5, 'small', 'liminal'))\n",
    "    return d\n",
    "\n",
    "d = make_data(500)\n",
    "\n",
    "d.head()"
   ]
  },
  {
   "cell_type": "markdown",
   "metadata": {},
   "source": [
    "### Some quick data exploration"
   ]
  },
  {
   "cell_type": "markdown",
   "metadata": {},
   "source": [
    "Check how many levels `xc` has, and their distribution (including `NaN`)"
   ]
  },
  {
   "cell_type": "code",
   "execution_count": 3,
   "metadata": {
    "collapsed": false,
    "jupyter": {
     "outputs_hidden": false
    },
    "pycharm": {
     "name": "#%%\n",
     "is_executing": false
    }
   },
   "outputs": [
    {
     "data": {
      "text/plain": "array(['level_0.5', 'level_0.0', 'level_-0.5', nan, 'level_1.0',\n       'level_-0.0', 'level_1.5'], dtype=object)"
     },
     "metadata": {},
     "output_type": "execute_result",
     "execution_count": 3
    }
   ],
   "source": [
    "d['xc'].unique()"
   ]
  },
  {
   "cell_type": "code",
   "execution_count": 4,
   "metadata": {
    "collapsed": false,
    "jupyter": {
     "outputs_hidden": false
    },
    "pycharm": {
     "name": "#%%\n",
     "is_executing": false
    }
   },
   "outputs": [
    {
     "data": {
      "text/plain": "level_1.0     120\nNaN           111\nlevel_-0.5    103\nlevel_0.5      90\nlevel_-0.0     38\nlevel_0.0      37\nlevel_1.5       1\nName: xc, dtype: int64"
     },
     "metadata": {},
     "output_type": "execute_result",
     "execution_count": 4
    }
   ],
   "source": [
    "d['xc'].value_counts(dropna=False)"
   ]
  },
  {
   "cell_type": "markdown",
   "metadata": {},
   "source": [
    "Show the distribution of `yc`"
   ]
  },
  {
   "cell_type": "code",
   "execution_count": 5,
   "metadata": {
    "collapsed": false,
    "jupyter": {
     "outputs_hidden": false
    },
    "pycharm": {
     "name": "#%%\n",
     "is_executing": false
    }
   },
   "outputs": [
    {
     "data": {
      "text/plain": "large      170\nsmall      170\nliminal    160\nName: yc, dtype: int64"
     },
     "metadata": {},
     "output_type": "execute_result",
     "execution_count": 5
    }
   ],
   "source": [
    "d['yc'].value_counts(dropna=False)"
   ]
  },
  {
   "cell_type": "markdown",
   "metadata": {},
   "source": [
    "Plot conditional distribution of `x` versus `yc`."
   ]
  },
  {
   "cell_type": "code",
   "execution_count": 6,
   "metadata": {
    "collapsed": false,
    "jupyter": {
     "outputs_hidden": false
    },
    "pycharm": {
     "name": "#%%\n",
     "is_executing": false
    }
   },
   "outputs": [],
   "source": [
    "# TODO: multiple histograms ( generalize wvpy dual_density_plot )"
   ]
  },
  {
   "cell_type": "markdown",
   "metadata": {},
   "source": [
    "## Build a transform appropriate for classification problems.\n",
    "\n",
    "Now that we have the data, we want to treat it prior to modeling: we want training data where all the input variables are numeric and have no missing values or `NaN`s.\n",
    "\n",
    "First create the data treatment transform object, in this case a treatment for a binomial classification problem."
   ]
  },
  {
   "cell_type": "code",
   "execution_count": 7,
   "metadata": {
    "collapsed": false,
    "jupyter": {
     "outputs_hidden": false
    },
    "pycharm": {
     "name": "#%%\n",
     "is_executing": false
    }
   },
   "outputs": [],
   "source": [
    "transform = vtreat.MultinomialOutcomeTreatment(\n",
    "    outcome_name='yc',    # outcome variable\n",
    "    cols_to_copy=['y'],   # columns to \"carry along\" but not treat as input variables\n",
    ")  "
   ]
  },
  {
   "cell_type": "markdown",
   "metadata": {},
   "source": [
    "Use the training data `d` to fit the transform and the return a treated training set: completely numeric, with no missing values.\n",
    "Note that for the training data `d`: `transform.fit_transform()` is **not** the same as `transform.fit().transform()`; the second call can lead to nested model bias in some situations, and is **not** recommended. \n",
    "For other, later data, not seen during transform design `transform.transform(o)` is an appropriate step."
   ]
  },
  {
   "cell_type": "code",
   "execution_count": 8,
   "metadata": {
    "collapsed": false,
    "jupyter": {
     "outputs_hidden": false
    },
    "pycharm": {
     "name": "#%%\n",
     "is_executing": false
    }
   },
   "outputs": [],
   "source": [
    "d_prepared = transform.fit_transform(d, d['yc'])"
   ]
  },
  {
   "cell_type": "markdown",
   "metadata": {},
   "source": [
    "Now examine the score frame, which gives information about each new variable, including its type, which original variable it is  derived from, its (cross-validated) correlation with the outcome, and its (cross-validated) significance as a one-variable linear model for the outcome. "
   ]
  },
  {
   "cell_type": "code",
   "execution_count": 9,
   "metadata": {
    "collapsed": false,
    "jupyter": {
     "outputs_hidden": false
    },
    "pycharm": {
     "name": "#%%\n",
     "is_executing": false
    }
   },
   "outputs": [
    {
     "data": {
      "text/plain": "                 variable orig_variable          treatment  y_aware  \\\n0                x_is_bad             x  missing_indicator    False   \n1               xc_is_bad            xc  missing_indicator    False   \n2                       x             x         clean_copy    False   \n3                      x2            x2         clean_copy    False   \n4     xc_logit_code_small            xc         logit_code     True   \n5   xc_logit_code_liminal            xc         logit_code     True   \n6     xc_logit_code_large            xc         logit_code     True   \n7      xc_prevalence_code            xc    prevalence_code    False   \n8        xc_lev_level_1.0            xc     indicator_code    False   \n9             xc_lev__NA_            xc     indicator_code    False   \n10      xc_lev_level_-0.5            xc     indicator_code    False   \n11       xc_lev_level_0.5            xc     indicator_code    False   \n12               x_is_bad             x  missing_indicator    False   \n13              xc_is_bad            xc  missing_indicator    False   \n14                      x             x         clean_copy    False   \n15                     x2            x2         clean_copy    False   \n16    xc_logit_code_small            xc         logit_code     True   \n17  xc_logit_code_liminal            xc         logit_code     True   \n18    xc_logit_code_large            xc         logit_code     True   \n19     xc_prevalence_code            xc    prevalence_code    False   \n20       xc_lev_level_1.0            xc     indicator_code    False   \n21            xc_lev__NA_            xc     indicator_code    False   \n22      xc_lev_level_-0.5            xc     indicator_code    False   \n23       xc_lev_level_0.5            xc     indicator_code    False   \n24               x_is_bad             x  missing_indicator    False   \n25              xc_is_bad            xc  missing_indicator    False   \n26                      x             x         clean_copy    False   \n27                     x2            x2         clean_copy    False   \n28    xc_logit_code_small            xc         logit_code     True   \n29  xc_logit_code_liminal            xc         logit_code     True   \n30    xc_logit_code_large            xc         logit_code     True   \n31     xc_prevalence_code            xc    prevalence_code    False   \n32       xc_lev_level_1.0            xc     indicator_code    False   \n33            xc_lev__NA_            xc     indicator_code    False   \n34      xc_lev_level_-0.5            xc     indicator_code    False   \n35       xc_lev_level_0.5            xc     indicator_code    False   \n\n    has_range  PearsonR   significance  vcount  default_threshold  \\\n0        True  0.058214   1.937519e-01     2.0           0.100000   \n1        True -0.383402   5.905337e-19     2.0           0.100000   \n2        True  0.007701   8.636164e-01     2.0           0.100000   \n3        True -0.061960   1.665610e-01     2.0           0.100000   \n4        True -0.617026   8.733543e-54     3.0           0.066667   \n5        True -0.363087   5.010601e-17     3.0           0.066667   \n6        True  0.856488  3.887271e-145     3.0           0.066667   \n7        True  0.374794   4.028132e-18     1.0           0.200000   \n8        True  0.782945  9.953930e-105     4.0           0.050000   \n9        True -0.383402   5.905337e-19     4.0           0.050000   \n10       True -0.365587   2.949984e-17     4.0           0.050000   \n11       True  0.202206   5.181589e-06     4.0           0.050000   \n12       True -0.081742   6.780620e-02     2.0           0.100000   \n13       True -0.366444   2.457733e-17     2.0           0.100000   \n14       True  0.013624   7.612007e-01     2.0           0.100000   \n15       True  0.006659   8.819283e-01     2.0           0.100000   \n16       True -0.228186   2.498331e-07     3.0           0.066667   \n17       True  0.667486   8.948511e-66     3.0           0.066667   \n18       True -0.246219   2.433682e-08     3.0           0.066667   \n19       True -0.695933   1.235449e-73     1.0           0.200000   \n20       True -0.385496   3.669940e-19     4.0           0.050000   \n21       True -0.366444   2.457733e-17     4.0           0.050000   \n22       True  0.117038   8.805871e-03     4.0           0.050000   \n23       True  0.136150   2.280789e-03     4.0           0.050000   \n24       True  0.022280   6.191875e-01     2.0           0.100000   \n25       True  0.744251   2.438604e-89     2.0           0.100000   \n26       True -0.021118   6.375887e-01     2.0           0.100000   \n27       True  0.055403   2.161971e-01     2.0           0.100000   \n28       True  0.841728  2.091986e-135     3.0           0.066667   \n29       True -0.294208   1.928627e-11     3.0           0.066667   \n30       True -0.614028   3.852775e-53     3.0           0.066667   \n31       True  0.310513   1.227709e-12     1.0           0.200000   \n32       True -0.403335   5.535137e-21     4.0           0.050000   \n33       True  0.744251   2.438604e-89     4.0           0.050000   \n34       True  0.250336   1.392760e-08     4.0           0.050000   \n35       True -0.336277   1.103632e-14     4.0           0.050000   \n\n    recommended outcome_target  \n0         False          large  \n1          True          large  \n2         False          large  \n3         False          large  \n4         False          large  \n5         False          large  \n6          True          large  \n7          True          large  \n8          True          large  \n9          True          large  \n10         True          large  \n11         True          large  \n12         True        liminal  \n13         True        liminal  \n14        False        liminal  \n15        False        liminal  \n16        False        liminal  \n17         True        liminal  \n18        False        liminal  \n19         True        liminal  \n20         True        liminal  \n21         True        liminal  \n22         True        liminal  \n23         True        liminal  \n24        False          small  \n25         True          small  \n26        False          small  \n27        False          small  \n28         True          small  \n29        False          small  \n30        False          small  \n31         True          small  \n32         True          small  \n33         True          small  \n34         True          small  \n35         True          small  ",
      "text/html": "<div>\n<style scoped>\n    .dataframe tbody tr th:only-of-type {\n        vertical-align: middle;\n    }\n\n    .dataframe tbody tr th {\n        vertical-align: top;\n    }\n\n    .dataframe thead th {\n        text-align: right;\n    }\n</style>\n<table border=\"1\" class=\"dataframe\">\n  <thead>\n    <tr style=\"text-align: right;\">\n      <th></th>\n      <th>variable</th>\n      <th>orig_variable</th>\n      <th>treatment</th>\n      <th>y_aware</th>\n      <th>has_range</th>\n      <th>PearsonR</th>\n      <th>significance</th>\n      <th>vcount</th>\n      <th>default_threshold</th>\n      <th>recommended</th>\n      <th>outcome_target</th>\n    </tr>\n  </thead>\n  <tbody>\n    <tr>\n      <th>0</th>\n      <td>x_is_bad</td>\n      <td>x</td>\n      <td>missing_indicator</td>\n      <td>False</td>\n      <td>True</td>\n      <td>0.058214</td>\n      <td>1.937519e-01</td>\n      <td>2.0</td>\n      <td>0.100000</td>\n      <td>False</td>\n      <td>large</td>\n    </tr>\n    <tr>\n      <th>1</th>\n      <td>xc_is_bad</td>\n      <td>xc</td>\n      <td>missing_indicator</td>\n      <td>False</td>\n      <td>True</td>\n      <td>-0.383402</td>\n      <td>5.905337e-19</td>\n      <td>2.0</td>\n      <td>0.100000</td>\n      <td>True</td>\n      <td>large</td>\n    </tr>\n    <tr>\n      <th>2</th>\n      <td>x</td>\n      <td>x</td>\n      <td>clean_copy</td>\n      <td>False</td>\n      <td>True</td>\n      <td>0.007701</td>\n      <td>8.636164e-01</td>\n      <td>2.0</td>\n      <td>0.100000</td>\n      <td>False</td>\n      <td>large</td>\n    </tr>\n    <tr>\n      <th>3</th>\n      <td>x2</td>\n      <td>x2</td>\n      <td>clean_copy</td>\n      <td>False</td>\n      <td>True</td>\n      <td>-0.061960</td>\n      <td>1.665610e-01</td>\n      <td>2.0</td>\n      <td>0.100000</td>\n      <td>False</td>\n      <td>large</td>\n    </tr>\n    <tr>\n      <th>4</th>\n      <td>xc_logit_code_small</td>\n      <td>xc</td>\n      <td>logit_code</td>\n      <td>True</td>\n      <td>True</td>\n      <td>-0.617026</td>\n      <td>8.733543e-54</td>\n      <td>3.0</td>\n      <td>0.066667</td>\n      <td>False</td>\n      <td>large</td>\n    </tr>\n    <tr>\n      <th>5</th>\n      <td>xc_logit_code_liminal</td>\n      <td>xc</td>\n      <td>logit_code</td>\n      <td>True</td>\n      <td>True</td>\n      <td>-0.363087</td>\n      <td>5.010601e-17</td>\n      <td>3.0</td>\n      <td>0.066667</td>\n      <td>False</td>\n      <td>large</td>\n    </tr>\n    <tr>\n      <th>6</th>\n      <td>xc_logit_code_large</td>\n      <td>xc</td>\n      <td>logit_code</td>\n      <td>True</td>\n      <td>True</td>\n      <td>0.856488</td>\n      <td>3.887271e-145</td>\n      <td>3.0</td>\n      <td>0.066667</td>\n      <td>True</td>\n      <td>large</td>\n    </tr>\n    <tr>\n      <th>7</th>\n      <td>xc_prevalence_code</td>\n      <td>xc</td>\n      <td>prevalence_code</td>\n      <td>False</td>\n      <td>True</td>\n      <td>0.374794</td>\n      <td>4.028132e-18</td>\n      <td>1.0</td>\n      <td>0.200000</td>\n      <td>True</td>\n      <td>large</td>\n    </tr>\n    <tr>\n      <th>8</th>\n      <td>xc_lev_level_1.0</td>\n      <td>xc</td>\n      <td>indicator_code</td>\n      <td>False</td>\n      <td>True</td>\n      <td>0.782945</td>\n      <td>9.953930e-105</td>\n      <td>4.0</td>\n      <td>0.050000</td>\n      <td>True</td>\n      <td>large</td>\n    </tr>\n    <tr>\n      <th>9</th>\n      <td>xc_lev__NA_</td>\n      <td>xc</td>\n      <td>indicator_code</td>\n      <td>False</td>\n      <td>True</td>\n      <td>-0.383402</td>\n      <td>5.905337e-19</td>\n      <td>4.0</td>\n      <td>0.050000</td>\n      <td>True</td>\n      <td>large</td>\n    </tr>\n    <tr>\n      <th>10</th>\n      <td>xc_lev_level_-0.5</td>\n      <td>xc</td>\n      <td>indicator_code</td>\n      <td>False</td>\n      <td>True</td>\n      <td>-0.365587</td>\n      <td>2.949984e-17</td>\n      <td>4.0</td>\n      <td>0.050000</td>\n      <td>True</td>\n      <td>large</td>\n    </tr>\n    <tr>\n      <th>11</th>\n      <td>xc_lev_level_0.5</td>\n      <td>xc</td>\n      <td>indicator_code</td>\n      <td>False</td>\n      <td>True</td>\n      <td>0.202206</td>\n      <td>5.181589e-06</td>\n      <td>4.0</td>\n      <td>0.050000</td>\n      <td>True</td>\n      <td>large</td>\n    </tr>\n    <tr>\n      <th>12</th>\n      <td>x_is_bad</td>\n      <td>x</td>\n      <td>missing_indicator</td>\n      <td>False</td>\n      <td>True</td>\n      <td>-0.081742</td>\n      <td>6.780620e-02</td>\n      <td>2.0</td>\n      <td>0.100000</td>\n      <td>True</td>\n      <td>liminal</td>\n    </tr>\n    <tr>\n      <th>13</th>\n      <td>xc_is_bad</td>\n      <td>xc</td>\n      <td>missing_indicator</td>\n      <td>False</td>\n      <td>True</td>\n      <td>-0.366444</td>\n      <td>2.457733e-17</td>\n      <td>2.0</td>\n      <td>0.100000</td>\n      <td>True</td>\n      <td>liminal</td>\n    </tr>\n    <tr>\n      <th>14</th>\n      <td>x</td>\n      <td>x</td>\n      <td>clean_copy</td>\n      <td>False</td>\n      <td>True</td>\n      <td>0.013624</td>\n      <td>7.612007e-01</td>\n      <td>2.0</td>\n      <td>0.100000</td>\n      <td>False</td>\n      <td>liminal</td>\n    </tr>\n    <tr>\n      <th>15</th>\n      <td>x2</td>\n      <td>x2</td>\n      <td>clean_copy</td>\n      <td>False</td>\n      <td>True</td>\n      <td>0.006659</td>\n      <td>8.819283e-01</td>\n      <td>2.0</td>\n      <td>0.100000</td>\n      <td>False</td>\n      <td>liminal</td>\n    </tr>\n    <tr>\n      <th>16</th>\n      <td>xc_logit_code_small</td>\n      <td>xc</td>\n      <td>logit_code</td>\n      <td>True</td>\n      <td>True</td>\n      <td>-0.228186</td>\n      <td>2.498331e-07</td>\n      <td>3.0</td>\n      <td>0.066667</td>\n      <td>False</td>\n      <td>liminal</td>\n    </tr>\n    <tr>\n      <th>17</th>\n      <td>xc_logit_code_liminal</td>\n      <td>xc</td>\n      <td>logit_code</td>\n      <td>True</td>\n      <td>True</td>\n      <td>0.667486</td>\n      <td>8.948511e-66</td>\n      <td>3.0</td>\n      <td>0.066667</td>\n      <td>True</td>\n      <td>liminal</td>\n    </tr>\n    <tr>\n      <th>18</th>\n      <td>xc_logit_code_large</td>\n      <td>xc</td>\n      <td>logit_code</td>\n      <td>True</td>\n      <td>True</td>\n      <td>-0.246219</td>\n      <td>2.433682e-08</td>\n      <td>3.0</td>\n      <td>0.066667</td>\n      <td>False</td>\n      <td>liminal</td>\n    </tr>\n    <tr>\n      <th>19</th>\n      <td>xc_prevalence_code</td>\n      <td>xc</td>\n      <td>prevalence_code</td>\n      <td>False</td>\n      <td>True</td>\n      <td>-0.695933</td>\n      <td>1.235449e-73</td>\n      <td>1.0</td>\n      <td>0.200000</td>\n      <td>True</td>\n      <td>liminal</td>\n    </tr>\n    <tr>\n      <th>20</th>\n      <td>xc_lev_level_1.0</td>\n      <td>xc</td>\n      <td>indicator_code</td>\n      <td>False</td>\n      <td>True</td>\n      <td>-0.385496</td>\n      <td>3.669940e-19</td>\n      <td>4.0</td>\n      <td>0.050000</td>\n      <td>True</td>\n      <td>liminal</td>\n    </tr>\n    <tr>\n      <th>21</th>\n      <td>xc_lev__NA_</td>\n      <td>xc</td>\n      <td>indicator_code</td>\n      <td>False</td>\n      <td>True</td>\n      <td>-0.366444</td>\n      <td>2.457733e-17</td>\n      <td>4.0</td>\n      <td>0.050000</td>\n      <td>True</td>\n      <td>liminal</td>\n    </tr>\n    <tr>\n      <th>22</th>\n      <td>xc_lev_level_-0.5</td>\n      <td>xc</td>\n      <td>indicator_code</td>\n      <td>False</td>\n      <td>True</td>\n      <td>0.117038</td>\n      <td>8.805871e-03</td>\n      <td>4.0</td>\n      <td>0.050000</td>\n      <td>True</td>\n      <td>liminal</td>\n    </tr>\n    <tr>\n      <th>23</th>\n      <td>xc_lev_level_0.5</td>\n      <td>xc</td>\n      <td>indicator_code</td>\n      <td>False</td>\n      <td>True</td>\n      <td>0.136150</td>\n      <td>2.280789e-03</td>\n      <td>4.0</td>\n      <td>0.050000</td>\n      <td>True</td>\n      <td>liminal</td>\n    </tr>\n    <tr>\n      <th>24</th>\n      <td>x_is_bad</td>\n      <td>x</td>\n      <td>missing_indicator</td>\n      <td>False</td>\n      <td>True</td>\n      <td>0.022280</td>\n      <td>6.191875e-01</td>\n      <td>2.0</td>\n      <td>0.100000</td>\n      <td>False</td>\n      <td>small</td>\n    </tr>\n    <tr>\n      <th>25</th>\n      <td>xc_is_bad</td>\n      <td>xc</td>\n      <td>missing_indicator</td>\n      <td>False</td>\n      <td>True</td>\n      <td>0.744251</td>\n      <td>2.438604e-89</td>\n      <td>2.0</td>\n      <td>0.100000</td>\n      <td>True</td>\n      <td>small</td>\n    </tr>\n    <tr>\n      <th>26</th>\n      <td>x</td>\n      <td>x</td>\n      <td>clean_copy</td>\n      <td>False</td>\n      <td>True</td>\n      <td>-0.021118</td>\n      <td>6.375887e-01</td>\n      <td>2.0</td>\n      <td>0.100000</td>\n      <td>False</td>\n      <td>small</td>\n    </tr>\n    <tr>\n      <th>27</th>\n      <td>x2</td>\n      <td>x2</td>\n      <td>clean_copy</td>\n      <td>False</td>\n      <td>True</td>\n      <td>0.055403</td>\n      <td>2.161971e-01</td>\n      <td>2.0</td>\n      <td>0.100000</td>\n      <td>False</td>\n      <td>small</td>\n    </tr>\n    <tr>\n      <th>28</th>\n      <td>xc_logit_code_small</td>\n      <td>xc</td>\n      <td>logit_code</td>\n      <td>True</td>\n      <td>True</td>\n      <td>0.841728</td>\n      <td>2.091986e-135</td>\n      <td>3.0</td>\n      <td>0.066667</td>\n      <td>True</td>\n      <td>small</td>\n    </tr>\n    <tr>\n      <th>29</th>\n      <td>xc_logit_code_liminal</td>\n      <td>xc</td>\n      <td>logit_code</td>\n      <td>True</td>\n      <td>True</td>\n      <td>-0.294208</td>\n      <td>1.928627e-11</td>\n      <td>3.0</td>\n      <td>0.066667</td>\n      <td>False</td>\n      <td>small</td>\n    </tr>\n    <tr>\n      <th>30</th>\n      <td>xc_logit_code_large</td>\n      <td>xc</td>\n      <td>logit_code</td>\n      <td>True</td>\n      <td>True</td>\n      <td>-0.614028</td>\n      <td>3.852775e-53</td>\n      <td>3.0</td>\n      <td>0.066667</td>\n      <td>False</td>\n      <td>small</td>\n    </tr>\n    <tr>\n      <th>31</th>\n      <td>xc_prevalence_code</td>\n      <td>xc</td>\n      <td>prevalence_code</td>\n      <td>False</td>\n      <td>True</td>\n      <td>0.310513</td>\n      <td>1.227709e-12</td>\n      <td>1.0</td>\n      <td>0.200000</td>\n      <td>True</td>\n      <td>small</td>\n    </tr>\n    <tr>\n      <th>32</th>\n      <td>xc_lev_level_1.0</td>\n      <td>xc</td>\n      <td>indicator_code</td>\n      <td>False</td>\n      <td>True</td>\n      <td>-0.403335</td>\n      <td>5.535137e-21</td>\n      <td>4.0</td>\n      <td>0.050000</td>\n      <td>True</td>\n      <td>small</td>\n    </tr>\n    <tr>\n      <th>33</th>\n      <td>xc_lev__NA_</td>\n      <td>xc</td>\n      <td>indicator_code</td>\n      <td>False</td>\n      <td>True</td>\n      <td>0.744251</td>\n      <td>2.438604e-89</td>\n      <td>4.0</td>\n      <td>0.050000</td>\n      <td>True</td>\n      <td>small</td>\n    </tr>\n    <tr>\n      <th>34</th>\n      <td>xc_lev_level_-0.5</td>\n      <td>xc</td>\n      <td>indicator_code</td>\n      <td>False</td>\n      <td>True</td>\n      <td>0.250336</td>\n      <td>1.392760e-08</td>\n      <td>4.0</td>\n      <td>0.050000</td>\n      <td>True</td>\n      <td>small</td>\n    </tr>\n    <tr>\n      <th>35</th>\n      <td>xc_lev_level_0.5</td>\n      <td>xc</td>\n      <td>indicator_code</td>\n      <td>False</td>\n      <td>True</td>\n      <td>-0.336277</td>\n      <td>1.103632e-14</td>\n      <td>4.0</td>\n      <td>0.050000</td>\n      <td>True</td>\n      <td>small</td>\n    </tr>\n  </tbody>\n</table>\n</div>"
     },
     "metadata": {},
     "output_type": "execute_result",
     "execution_count": 9
    }
   ],
   "source": [
    "transform.score_frame_"
   ]
  },
  {
   "cell_type": "markdown",
   "metadata": {},
   "source": [
    "Note that the variable `xc` has been converted to multiple variables: \n",
    "\n",
    "* an indicator variable for each possible level (`xc_lev_level_*`)\n",
    "* the value of a (cross-validated) one-variable model for `yc` as a function of `xc` (`xc_logit_code`)\n",
    "* a variable that returns how prevalent this particular value of `xc` is in the training data (`xc_prevalence_code`)\n",
    "* a variable indicating when `xc` was `NaN` in the original data (`xc_is_bad`, `x_is_bad`)\n",
    "\n",
    "Any or all of these new variables are available for downstream modeling.\n",
    "\n",
    "The `recommended` column indicates which variables are non constant (`has_range` == True) and have a significance value smaller than `default_threshold`. See the section *Deriving the Default Thresholds* below for the reasoning behind the default thresholds. Recommended columns are intended as advice about which variables appear to be most likely to be useful in a downstream model. This advice attempts to be conservative, to reduce the possibility of mistakenly eliminating variables that may in fact be useful (although, obviously, it can still mistakenly eliminate variables that have a real but non-linear relationship to the output, as is the case with `x`, in  our example)."
   ]
  },
  {
   "cell_type": "markdown",
   "source": [
    "## Examining variables\n",
    "\n",
    "To select variables we either make our selection in terms of new variables as follows."
   ],
   "metadata": {
    "collapsed": false
   }
  },
  {
   "cell_type": "code",
   "execution_count": 10,
   "outputs": [
    {
     "data": {
      "text/plain": "array(['xc_is_bad', 'xc_logit_code_large', 'xc_prevalence_code',\n       'xc_lev_level_1.0', 'xc_lev__NA_', 'xc_lev_level_-0.5',\n       'xc_lev_level_0.5', 'x_is_bad', 'xc_logit_code_liminal',\n       'xc_logit_code_small'], dtype=object)"
     },
     "metadata": {},
     "output_type": "execute_result",
     "execution_count": 10
    }
   ],
   "source": [
    "score_frame = transform.score_frame_\n",
    "good_new_variables = score_frame.variable[score_frame.recommended].unique()\n",
    "good_new_variables"
   ],
   "metadata": {
    "collapsed": false,
    "pycharm": {
     "name": "#%%\n",
     "is_executing": false
    }
   }
  },
  {
   "cell_type": "markdown",
   "source": [
    "Or in terms of original variables as follows."
   ],
   "metadata": {
    "collapsed": false
   }
  },
  {
   "cell_type": "code",
   "execution_count": 11,
   "outputs": [
    {
     "data": {
      "text/plain": "array(['xc', 'x'], dtype=object)"
     },
     "metadata": {},
     "output_type": "execute_result",
     "execution_count": 11
    }
   ],
   "source": [
    "good_original_variables = score_frame.orig_variable[score_frame.recommended].unique()\n",
    "good_original_variables"
   ],
   "metadata": {
    "collapsed": false,
    "pycharm": {
     "name": "#%%\n",
     "is_executing": false
    }
   }
  },
  {
   "cell_type": "markdown",
   "source": [
    "Notice, in each case we must call unique as each variable (derived or original) is potentially qualified against each possible outcome."
   ],
   "metadata": {
    "collapsed": false
   }
  },
  {
   "cell_type": "markdown",
   "metadata": {},
   "source": [
    "Notice that, by default, `d_prepared` only includes recommended variables (along with `y` and `yc`):"
   ]
  },
  {
   "cell_type": "code",
   "execution_count": 12,
   "metadata": {
    "collapsed": false,
    "jupyter": {
     "outputs_hidden": false
    },
    "pycharm": {
     "name": "#%%\n",
     "is_executing": false
    }
   },
   "outputs": [
    {
     "data": {
      "text/plain": "          y       yc  x_is_bad  xc_is_bad  xc_logit_code_small  \\\n0  0.503713    large       0.0        0.0            -5.798324   \n1  0.198779  liminal       0.0        0.0            -5.732316   \n2 -0.713556    small       0.0        0.0             0.535932   \n3 -0.577617    small       1.0        0.0             0.455023   \n4 -0.677406    small       1.0        0.0             0.459433   \n\n   xc_logit_code_liminal  xc_logit_code_large  xc_prevalence_code  \\\n0               0.373600             0.433650               0.180   \n1               1.084128            -5.767509               0.074   \n2               0.243899            -5.804795               0.206   \n3               0.349195            -5.815070               0.206   \n4               0.346323            -5.806387               0.206   \n\n   xc_lev_level_1.0  xc_lev__NA_  xc_lev_level_-0.5  xc_lev_level_0.5  \n0               0.0          0.0                0.0               1.0  \n1               0.0          0.0                0.0               0.0  \n2               0.0          0.0                1.0               0.0  \n3               0.0          0.0                1.0               0.0  \n4               0.0          0.0                1.0               0.0  ",
      "text/html": "<div>\n<style scoped>\n    .dataframe tbody tr th:only-of-type {\n        vertical-align: middle;\n    }\n\n    .dataframe tbody tr th {\n        vertical-align: top;\n    }\n\n    .dataframe thead th {\n        text-align: right;\n    }\n</style>\n<table border=\"1\" class=\"dataframe\">\n  <thead>\n    <tr style=\"text-align: right;\">\n      <th></th>\n      <th>y</th>\n      <th>yc</th>\n      <th>x_is_bad</th>\n      <th>xc_is_bad</th>\n      <th>xc_logit_code_small</th>\n      <th>xc_logit_code_liminal</th>\n      <th>xc_logit_code_large</th>\n      <th>xc_prevalence_code</th>\n      <th>xc_lev_level_1.0</th>\n      <th>xc_lev__NA_</th>\n      <th>xc_lev_level_-0.5</th>\n      <th>xc_lev_level_0.5</th>\n    </tr>\n  </thead>\n  <tbody>\n    <tr>\n      <th>0</th>\n      <td>0.503713</td>\n      <td>large</td>\n      <td>0.0</td>\n      <td>0.0</td>\n      <td>-5.798324</td>\n      <td>0.373600</td>\n      <td>0.433650</td>\n      <td>0.180</td>\n      <td>0.0</td>\n      <td>0.0</td>\n      <td>0.0</td>\n      <td>1.0</td>\n    </tr>\n    <tr>\n      <th>1</th>\n      <td>0.198779</td>\n      <td>liminal</td>\n      <td>0.0</td>\n      <td>0.0</td>\n      <td>-5.732316</td>\n      <td>1.084128</td>\n      <td>-5.767509</td>\n      <td>0.074</td>\n      <td>0.0</td>\n      <td>0.0</td>\n      <td>0.0</td>\n      <td>0.0</td>\n    </tr>\n    <tr>\n      <th>2</th>\n      <td>-0.713556</td>\n      <td>small</td>\n      <td>0.0</td>\n      <td>0.0</td>\n      <td>0.535932</td>\n      <td>0.243899</td>\n      <td>-5.804795</td>\n      <td>0.206</td>\n      <td>0.0</td>\n      <td>0.0</td>\n      <td>1.0</td>\n      <td>0.0</td>\n    </tr>\n    <tr>\n      <th>3</th>\n      <td>-0.577617</td>\n      <td>small</td>\n      <td>1.0</td>\n      <td>0.0</td>\n      <td>0.455023</td>\n      <td>0.349195</td>\n      <td>-5.815070</td>\n      <td>0.206</td>\n      <td>0.0</td>\n      <td>0.0</td>\n      <td>1.0</td>\n      <td>0.0</td>\n    </tr>\n    <tr>\n      <th>4</th>\n      <td>-0.677406</td>\n      <td>small</td>\n      <td>1.0</td>\n      <td>0.0</td>\n      <td>0.459433</td>\n      <td>0.346323</td>\n      <td>-5.806387</td>\n      <td>0.206</td>\n      <td>0.0</td>\n      <td>0.0</td>\n      <td>1.0</td>\n      <td>0.0</td>\n    </tr>\n  </tbody>\n</table>\n</div>"
     },
     "metadata": {},
     "output_type": "execute_result",
     "execution_count": 12
    }
   ],
   "source": [
    "d_prepared.head()"
   ]
  },
  {
   "cell_type": "markdown",
   "metadata": {},
   "source": [
    "This is `vtreat`s default behavior; to include all variables in the prepared data, set the parameter `filter_to_recommended` to False, as we show later, in the *Parameters for `BinomialOutcomeTreatment`* section below.\n"
   ]
  },
  {
   "cell_type": "markdown",
   "metadata": {},
   "source": [
    "## A Closer Look at `logit_code` variables\n",
    "\n",
    "Variables of type `logit_code` are the outputs of a one-variable hierarchical logistic regression of a categorical variable (in our example, `xc`) against the centered output on the (cross-validated) treated training data. \n",
    "\n",
    "Let's see whether `xc_logit_code` makes a good one-variable model for `yc`. It has a large AUC:"
   ]
  },
  {
   "cell_type": "code",
   "execution_count": 13,
   "metadata": {
    "collapsed": false,
    "jupyter": {
     "outputs_hidden": false
    },
    "pycharm": {
     "name": "#%%\n",
     "is_executing": false
    }
   },
   "outputs": [],
   "source": [
    "# TODO: figure out a presentation\n",
    "# wvpy.util.plot_roc(prediction=d_prepared['xc_logit_code'], \n",
    "#                   istrue=d_prepared['yc'],\n",
    "#                   title = 'performance of xc_logit_code variable')"
   ]
  },
  {
   "cell_type": "markdown",
   "metadata": {},
   "source": [
    "This indicates that `xc_logit_code` is strongly predictive of the outcome. Negative values of `xc_logit_code` correspond strongly to negative outcomes, and positive values correspond strongly to positive outcomes."
   ]
  },
  {
   "cell_type": "code",
   "execution_count": 14,
   "metadata": {
    "collapsed": false,
    "jupyter": {
     "outputs_hidden": false
    },
    "pycharm": {
     "name": "#%%\n",
     "is_executing": false
    }
   },
   "outputs": [],
   "source": [
    "# TODO: figure out a presentation\n",
    "# wvpy.util.dual_density_plot(probs=d_prepared['xc_logit_code'], \n",
    "#                            istrue=d_prepared['yc'])"
   ]
  },
  {
   "cell_type": "markdown",
   "metadata": {},
   "source": [
    "The values of `xc_logit_code_*` are in \"link space\". We can often visualize the relationship a little better by converting the logistic score to a probability."
   ]
  },
  {
   "cell_type": "code",
   "execution_count": 15,
   "metadata": {
    "collapsed": false,
    "jupyter": {
     "outputs_hidden": false
    },
    "pycharm": {
     "name": "#%%\n",
     "is_executing": false
    }
   },
   "outputs": [],
   "source": [
    "from scipy.special import expit  # sigmoid\n",
    "from scipy.special import logit\n",
    "\n",
    "# TODO: figure out presenetation\n",
    "# offset = logit(numpy.mean(d_prepared.yc))\n",
    "# wvpy.util.dual_density_plot(probs=expit(d_prepared['xc_logit_code_large'] + offset),\n",
    "#                            istrue=d_prepared['yc'])                                   "
   ]
  },
  {
   "cell_type": "markdown",
   "metadata": {},
   "source": [
    "Variables of type `logit_code` are useful when dealing with categorical variables with a very large number of possible levels. For example, a categorical variable with 10,000 possible values potentially converts to 10,000 indicator variables, which may be unwieldy for some modeling methods. Using a single numerical variable of type `logit_code` may be a preferable alternative."
   ]
  },
  {
   "cell_type": "markdown",
   "metadata": {},
   "source": [
    "## Using the Prepared Data in a Model\n",
    "\n",
    "Of course, what we really want to do with the prepared training data is to fit a model jointly with all the (recommended) variables. \n",
    "Let's try fitting a logistic regression model to `d_prepared`."
   ]
  },
  {
   "cell_type": "code",
   "execution_count": 16,
   "metadata": {
    "collapsed": false,
    "jupyter": {
     "outputs_hidden": false
    },
    "pycharm": {
     "name": "#%%\n",
     "is_executing": false
    }
   },
   "outputs": [
    {
     "name": "stderr",
     "text": [
      "/Users/johnmount/anaconda3/envs/aiAcademy/lib/python3.6/site-packages/sklearn/linear_model/sag.py:337: ConvergenceWarning: The max_iter was reached which means the coef_ did not converge\n  \"the coef_ did not converge\", ConvergenceWarning)\n"
     ],
     "output_type": "stream"
    },
    {
     "data": {
      "text/plain": "          y       yc  x_is_bad  xc_is_bad  xc_logit_code_small  \\\n0  0.503713    large       0.0        0.0            -5.798324   \n1  0.198779  liminal       0.0        0.0            -5.732316   \n2 -0.713556    small       0.0        0.0             0.535932   \n3 -0.577617    small       1.0        0.0             0.455023   \n4 -0.677406    small       1.0        0.0             0.459433   \n\n   xc_logit_code_liminal  xc_logit_code_large  xc_prevalence_code  \\\n0               0.373600             0.433650               0.180   \n1               1.084128            -5.767509               0.074   \n2               0.243899            -5.804795               0.206   \n3               0.349195            -5.815070               0.206   \n4               0.346323            -5.806387               0.206   \n\n   xc_lev_level_1.0  xc_lev__NA_  xc_lev_level_-0.5  xc_lev_level_0.5  \\\n0               0.0          0.0                0.0               1.0   \n1               0.0          0.0                0.0               0.0   \n2               0.0          0.0                1.0               0.0   \n3               0.0          0.0                1.0               0.0   \n4               0.0          0.0                1.0               0.0   \n\n      large   liminal     small  \n0  0.521490  0.477876  0.000634  \n1  0.000231  0.998479  0.001290  \n2  0.000645  0.419993  0.579362  \n3  0.000943  0.203087  0.795970  \n4  0.000952  0.202038  0.797009  ",
      "text/html": "<div>\n<style scoped>\n    .dataframe tbody tr th:only-of-type {\n        vertical-align: middle;\n    }\n\n    .dataframe tbody tr th {\n        vertical-align: top;\n    }\n\n    .dataframe thead th {\n        text-align: right;\n    }\n</style>\n<table border=\"1\" class=\"dataframe\">\n  <thead>\n    <tr style=\"text-align: right;\">\n      <th></th>\n      <th>y</th>\n      <th>yc</th>\n      <th>x_is_bad</th>\n      <th>xc_is_bad</th>\n      <th>xc_logit_code_small</th>\n      <th>xc_logit_code_liminal</th>\n      <th>xc_logit_code_large</th>\n      <th>xc_prevalence_code</th>\n      <th>xc_lev_level_1.0</th>\n      <th>xc_lev__NA_</th>\n      <th>xc_lev_level_-0.5</th>\n      <th>xc_lev_level_0.5</th>\n      <th>large</th>\n      <th>liminal</th>\n      <th>small</th>\n    </tr>\n  </thead>\n  <tbody>\n    <tr>\n      <th>0</th>\n      <td>0.503713</td>\n      <td>large</td>\n      <td>0.0</td>\n      <td>0.0</td>\n      <td>-5.798324</td>\n      <td>0.373600</td>\n      <td>0.433650</td>\n      <td>0.180</td>\n      <td>0.0</td>\n      <td>0.0</td>\n      <td>0.0</td>\n      <td>1.0</td>\n      <td>0.521490</td>\n      <td>0.477876</td>\n      <td>0.000634</td>\n    </tr>\n    <tr>\n      <th>1</th>\n      <td>0.198779</td>\n      <td>liminal</td>\n      <td>0.0</td>\n      <td>0.0</td>\n      <td>-5.732316</td>\n      <td>1.084128</td>\n      <td>-5.767509</td>\n      <td>0.074</td>\n      <td>0.0</td>\n      <td>0.0</td>\n      <td>0.0</td>\n      <td>0.0</td>\n      <td>0.000231</td>\n      <td>0.998479</td>\n      <td>0.001290</td>\n    </tr>\n    <tr>\n      <th>2</th>\n      <td>-0.713556</td>\n      <td>small</td>\n      <td>0.0</td>\n      <td>0.0</td>\n      <td>0.535932</td>\n      <td>0.243899</td>\n      <td>-5.804795</td>\n      <td>0.206</td>\n      <td>0.0</td>\n      <td>0.0</td>\n      <td>1.0</td>\n      <td>0.0</td>\n      <td>0.000645</td>\n      <td>0.419993</td>\n      <td>0.579362</td>\n    </tr>\n    <tr>\n      <th>3</th>\n      <td>-0.577617</td>\n      <td>small</td>\n      <td>1.0</td>\n      <td>0.0</td>\n      <td>0.455023</td>\n      <td>0.349195</td>\n      <td>-5.815070</td>\n      <td>0.206</td>\n      <td>0.0</td>\n      <td>0.0</td>\n      <td>1.0</td>\n      <td>0.0</td>\n      <td>0.000943</td>\n      <td>0.203087</td>\n      <td>0.795970</td>\n    </tr>\n    <tr>\n      <th>4</th>\n      <td>-0.677406</td>\n      <td>small</td>\n      <td>1.0</td>\n      <td>0.0</td>\n      <td>0.459433</td>\n      <td>0.346323</td>\n      <td>-5.806387</td>\n      <td>0.206</td>\n      <td>0.0</td>\n      <td>0.0</td>\n      <td>1.0</td>\n      <td>0.0</td>\n      <td>0.000952</td>\n      <td>0.202038</td>\n      <td>0.797009</td>\n    </tr>\n  </tbody>\n</table>\n</div>"
     },
     "metadata": {},
     "output_type": "execute_result",
     "execution_count": 16
    }
   ],
   "source": [
    "import sklearn.linear_model\n",
    "import seaborn\n",
    "\n",
    "not_variables = ['y', 'yc', 'prediction']\n",
    "model_vars = [v for v in d_prepared.columns if v not in set(not_variables)]\n",
    "\n",
    "fitter = sklearn.linear_model.LogisticRegression(\n",
    "    solver = 'saga',\n",
    "    multi_class = 'multinomial')\n",
    "fitter.fit(d_prepared[model_vars], d_prepared['yc'])\n",
    "\n",
    "\n",
    "# now predict\n",
    "\n",
    "def add_predictions(d_prepared, model_vars, fitter):\n",
    "    pred = fitter.predict_proba(d_prepared[model_vars])\n",
    "    classes = fitter.classes_\n",
    "    for i in range(len(classes)):\n",
    "        d_prepared[classes[i]] = pred[:, i]\n",
    "    return d_prepared\n",
    "\n",
    "\n",
    "d_prepared = add_predictions(d_prepared, model_vars, fitter)\n",
    "d_prepared.head()"
   ]
  },
  {
   "cell_type": "code",
   "execution_count": 17,
   "outputs": [],
   "source": [
    "# TODO: work out a presentation\n",
    "# look at the ROC curve (on the training data)\n",
    "#wvpy.util.plot_roc(prediction=d_prepared['prediction'], \n",
    "#                   istrue=d_prepared['yc'],\n",
    "#                   title = 'Performance of logistic regression model on training data')"
   ],
   "metadata": {
    "collapsed": false,
    "pycharm": {
     "name": "#%%\n",
     "is_executing": false
    }
   }
  },
  {
   "cell_type": "markdown",
   "metadata": {},
   "source": [
    "Now apply the model to new data."
   ]
  },
  {
   "cell_type": "code",
   "execution_count": 18,
   "metadata": {
    "collapsed": false,
    "jupyter": {
     "outputs_hidden": false
    },
    "pycharm": {
     "name": "#%%\n",
     "is_executing": false
    }
   },
   "outputs": [],
   "source": [
    "# create the new data\n",
    "dtest = make_data(450)\n",
    "\n",
    "# prepare the new data with vtreat\n",
    "dtest_prepared = transform.transform(dtest)\n",
    "\n",
    "# apply the model to the prepared data\n",
    "dtest_prepared = add_predictions(dtest_prepared, model_vars, fitter)"
   ]
  },
  {
   "cell_type": "code",
   "execution_count": 19,
   "outputs": [
    {
     "traceback": [
      "\u001b[0;31m---------------------------------------------------------------------------\u001b[0m",
      "\u001b[0;31mKeyError\u001b[0m                                  Traceback (most recent call last)",
      "\u001b[0;32m~/anaconda3/envs/aiAcademy/lib/python3.6/site-packages/pandas/core/indexes/base.py\u001b[0m in \u001b[0;36mget_loc\u001b[0;34m(self, key, method, tolerance)\u001b[0m\n\u001b[1;32m   2889\u001b[0m             \u001b[0;32mtry\u001b[0m\u001b[0;34m:\u001b[0m\u001b[0;34m\u001b[0m\u001b[0;34m\u001b[0m\u001b[0m\n\u001b[0;32m-> 2890\u001b[0;31m                 \u001b[0;32mreturn\u001b[0m \u001b[0mself\u001b[0m\u001b[0;34m.\u001b[0m\u001b[0m_engine\u001b[0m\u001b[0;34m.\u001b[0m\u001b[0mget_loc\u001b[0m\u001b[0;34m(\u001b[0m\u001b[0mkey\u001b[0m\u001b[0;34m)\u001b[0m\u001b[0;34m\u001b[0m\u001b[0;34m\u001b[0m\u001b[0m\n\u001b[0m\u001b[1;32m   2891\u001b[0m             \u001b[0;32mexcept\u001b[0m \u001b[0mKeyError\u001b[0m\u001b[0;34m:\u001b[0m\u001b[0;34m\u001b[0m\u001b[0;34m\u001b[0m\u001b[0m\n",
      "\u001b[0;32mpandas/_libs/index.pyx\u001b[0m in \u001b[0;36mpandas._libs.index.IndexEngine.get_loc\u001b[0;34m()\u001b[0m\n",
      "\u001b[0;32mpandas/_libs/index.pyx\u001b[0m in \u001b[0;36mpandas._libs.index.IndexEngine.get_loc\u001b[0;34m()\u001b[0m\n",
      "\u001b[0;32mpandas/_libs/hashtable_class_helper.pxi\u001b[0m in \u001b[0;36mpandas._libs.hashtable.PyObjectHashTable.get_item\u001b[0;34m()\u001b[0m\n",
      "\u001b[0;32mpandas/_libs/hashtable_class_helper.pxi\u001b[0m in \u001b[0;36mpandas._libs.hashtable.PyObjectHashTable.get_item\u001b[0;34m()\u001b[0m\n",
      "\u001b[0;31mKeyError\u001b[0m: 'prediction'",
      "\nDuring handling of the above exception, another exception occurred:\n",
      "\u001b[0;31mKeyError\u001b[0m                                  Traceback (most recent call last)",
      "\u001b[0;32m<ipython-input-19-5dad88882dd3>\u001b[0m in \u001b[0;36m<module>\u001b[0;34m\u001b[0m\n\u001b[0;32m----> 1\u001b[0;31m wvpy.util.plot_roc(prediction=dtest_prepared['prediction'], \n\u001b[0m\u001b[1;32m      2\u001b[0m                    \u001b[0mistrue\u001b[0m\u001b[0;34m=\u001b[0m\u001b[0mdtest_prepared\u001b[0m\u001b[0;34m[\u001b[0m\u001b[0;34m'yc'\u001b[0m\u001b[0;34m]\u001b[0m\u001b[0;34m,\u001b[0m\u001b[0;34m\u001b[0m\u001b[0;34m\u001b[0m\u001b[0m\n\u001b[1;32m      3\u001b[0m                    title = 'Performance of logistic regression model on test data')\n\u001b[1;32m      4\u001b[0m \u001b[0;34m\u001b[0m\u001b[0m\n",
      "\u001b[0;32m~/anaconda3/envs/aiAcademy/lib/python3.6/site-packages/pandas/core/frame.py\u001b[0m in \u001b[0;36m__getitem__\u001b[0;34m(self, key)\u001b[0m\n\u001b[1;32m   2973\u001b[0m             \u001b[0;32mif\u001b[0m \u001b[0mself\u001b[0m\u001b[0;34m.\u001b[0m\u001b[0mcolumns\u001b[0m\u001b[0;34m.\u001b[0m\u001b[0mnlevels\u001b[0m \u001b[0;34m>\u001b[0m \u001b[0;36m1\u001b[0m\u001b[0;34m:\u001b[0m\u001b[0;34m\u001b[0m\u001b[0;34m\u001b[0m\u001b[0m\n\u001b[1;32m   2974\u001b[0m                 \u001b[0;32mreturn\u001b[0m \u001b[0mself\u001b[0m\u001b[0;34m.\u001b[0m\u001b[0m_getitem_multilevel\u001b[0m\u001b[0;34m(\u001b[0m\u001b[0mkey\u001b[0m\u001b[0;34m)\u001b[0m\u001b[0;34m\u001b[0m\u001b[0;34m\u001b[0m\u001b[0m\n\u001b[0;32m-> 2975\u001b[0;31m             \u001b[0mindexer\u001b[0m \u001b[0;34m=\u001b[0m \u001b[0mself\u001b[0m\u001b[0;34m.\u001b[0m\u001b[0mcolumns\u001b[0m\u001b[0;34m.\u001b[0m\u001b[0mget_loc\u001b[0m\u001b[0;34m(\u001b[0m\u001b[0mkey\u001b[0m\u001b[0;34m)\u001b[0m\u001b[0;34m\u001b[0m\u001b[0;34m\u001b[0m\u001b[0m\n\u001b[0m\u001b[1;32m   2976\u001b[0m             \u001b[0;32mif\u001b[0m \u001b[0mis_integer\u001b[0m\u001b[0;34m(\u001b[0m\u001b[0mindexer\u001b[0m\u001b[0;34m)\u001b[0m\u001b[0;34m:\u001b[0m\u001b[0;34m\u001b[0m\u001b[0;34m\u001b[0m\u001b[0m\n\u001b[1;32m   2977\u001b[0m                 \u001b[0mindexer\u001b[0m \u001b[0;34m=\u001b[0m \u001b[0;34m[\u001b[0m\u001b[0mindexer\u001b[0m\u001b[0;34m]\u001b[0m\u001b[0;34m\u001b[0m\u001b[0;34m\u001b[0m\u001b[0m\n",
      "\u001b[0;32m~/anaconda3/envs/aiAcademy/lib/python3.6/site-packages/pandas/core/indexes/base.py\u001b[0m in \u001b[0;36mget_loc\u001b[0;34m(self, key, method, tolerance)\u001b[0m\n\u001b[1;32m   2890\u001b[0m                 \u001b[0;32mreturn\u001b[0m \u001b[0mself\u001b[0m\u001b[0;34m.\u001b[0m\u001b[0m_engine\u001b[0m\u001b[0;34m.\u001b[0m\u001b[0mget_loc\u001b[0m\u001b[0;34m(\u001b[0m\u001b[0mkey\u001b[0m\u001b[0;34m)\u001b[0m\u001b[0;34m\u001b[0m\u001b[0;34m\u001b[0m\u001b[0m\n\u001b[1;32m   2891\u001b[0m             \u001b[0;32mexcept\u001b[0m \u001b[0mKeyError\u001b[0m\u001b[0;34m:\u001b[0m\u001b[0;34m\u001b[0m\u001b[0;34m\u001b[0m\u001b[0m\n\u001b[0;32m-> 2892\u001b[0;31m                 \u001b[0;32mreturn\u001b[0m \u001b[0mself\u001b[0m\u001b[0;34m.\u001b[0m\u001b[0m_engine\u001b[0m\u001b[0;34m.\u001b[0m\u001b[0mget_loc\u001b[0m\u001b[0;34m(\u001b[0m\u001b[0mself\u001b[0m\u001b[0;34m.\u001b[0m\u001b[0m_maybe_cast_indexer\u001b[0m\u001b[0;34m(\u001b[0m\u001b[0mkey\u001b[0m\u001b[0;34m)\u001b[0m\u001b[0;34m)\u001b[0m\u001b[0;34m\u001b[0m\u001b[0;34m\u001b[0m\u001b[0m\n\u001b[0m\u001b[1;32m   2893\u001b[0m         \u001b[0mindexer\u001b[0m \u001b[0;34m=\u001b[0m \u001b[0mself\u001b[0m\u001b[0;34m.\u001b[0m\u001b[0mget_indexer\u001b[0m\u001b[0;34m(\u001b[0m\u001b[0;34m[\u001b[0m\u001b[0mkey\u001b[0m\u001b[0;34m]\u001b[0m\u001b[0;34m,\u001b[0m \u001b[0mmethod\u001b[0m\u001b[0;34m=\u001b[0m\u001b[0mmethod\u001b[0m\u001b[0;34m,\u001b[0m \u001b[0mtolerance\u001b[0m\u001b[0;34m=\u001b[0m\u001b[0mtolerance\u001b[0m\u001b[0;34m)\u001b[0m\u001b[0;34m\u001b[0m\u001b[0;34m\u001b[0m\u001b[0m\n\u001b[1;32m   2894\u001b[0m         \u001b[0;32mif\u001b[0m \u001b[0mindexer\u001b[0m\u001b[0;34m.\u001b[0m\u001b[0mndim\u001b[0m \u001b[0;34m>\u001b[0m \u001b[0;36m1\u001b[0m \u001b[0;32mor\u001b[0m \u001b[0mindexer\u001b[0m\u001b[0;34m.\u001b[0m\u001b[0msize\u001b[0m \u001b[0;34m>\u001b[0m \u001b[0;36m1\u001b[0m\u001b[0;34m:\u001b[0m\u001b[0;34m\u001b[0m\u001b[0;34m\u001b[0m\u001b[0m\n",
      "\u001b[0;32mpandas/_libs/index.pyx\u001b[0m in \u001b[0;36mpandas._libs.index.IndexEngine.get_loc\u001b[0;34m()\u001b[0m\n",
      "\u001b[0;32mpandas/_libs/index.pyx\u001b[0m in \u001b[0;36mpandas._libs.index.IndexEngine.get_loc\u001b[0;34m()\u001b[0m\n",
      "\u001b[0;32mpandas/_libs/hashtable_class_helper.pxi\u001b[0m in \u001b[0;36mpandas._libs.hashtable.PyObjectHashTable.get_item\u001b[0;34m()\u001b[0m\n",
      "\u001b[0;32mpandas/_libs/hashtable_class_helper.pxi\u001b[0m in \u001b[0;36mpandas._libs.hashtable.PyObjectHashTable.get_item\u001b[0;34m()\u001b[0m\n",
      "\u001b[0;31mKeyError\u001b[0m: 'prediction'"
     ],
     "ename": "KeyError",
     "evalue": "'prediction'",
     "output_type": "error"
    }
   ],
   "source": [
    "wvpy.util.plot_roc(prediction=dtest_prepared['prediction'], \n",
    "                   istrue=dtest_prepared['yc'],\n",
    "                   title = 'Performance of logistic regression model on test data')"
   ],
   "metadata": {
    "collapsed": false,
    "pycharm": {
     "name": "#%%\n",
     "is_executing": false
    }
   }
  },
  {
   "cell_type": "markdown",
   "metadata": {},
   "source": [
    "## Parameters for `BinomialOutcomeTreatment`\n",
    "\n",
    "We've tried to set the defaults for all parameters so that `vtreat` is usable out of the box for most applications.\n"
   ]
  },
  {
   "cell_type": "code",
   "execution_count": null,
   "metadata": {
    "collapsed": false,
    "jupyter": {
     "outputs_hidden": false
    },
    "pycharm": {
     "name": "#%%\n",
     "is_executing": false
    }
   },
   "outputs": [],
   "source": [
    "vtreat.vtreat_parameters()"
   ]
  },
  {
   "cell_type": "markdown",
   "metadata": {},
   "source": [
    "**use_hierarchical_estimate:**: When True, uses hierarchical smoothing when estimating `logit_code` variables; when False, uses unsmoothed logistic regression.\n",
    "\n",
    "**coders**: The types of synthetic variables that `vtreat` will (potentially) produce. See *Types of prepared variables* below.\n",
    "\n",
    "**filter_to_recommended**: When True, prepared data only includes variables marked as \"recommended\" in score frame. When False, prepared data includes all variables. See the Example below.\n",
    "\n",
    "**indicator_min_fraction**: For categorical variables, indicator variables (type `indicator_code`) are only produced for levels that are present at least `indicator_min_fraction` of the time. A consequence of this is that 1/`indicator_min_fraction` is the maximum number of indicators that will be produced for a given categorical variable. To make sure that *all* possible indicator variables are produced, set `indicator_min_fraction = 0`\n",
    "\n",
    "**cross_validation_plan**: The cross validation method used by `vtreat`. Most people won't have to change this.\n",
    "\n",
    "**cross_validation_k**: The number of folds to use for cross-validation\n",
    "\n",
    "**user_transforms**: For passing in user-defined transforms for custom data preparation. Won't be needed in most situations, but see [here](https://github.com/WinVector/pyvtreat/blob/master/Examples/UserCoders/UserCoders.ipynb) for an example of applying a GAM transform to input variables.\n",
    "\n",
    "**sparse_indicators**: When True, use a (Pandas) sparse representation for indicator variables. This representation is compatible with `sklearn`; however, it may not be compatible with other modeling packages. When False, use a dense representation.\n",
    "\n",
    "### Example: Use all variables to model, not just recommended"
   ]
  },
  {
   "cell_type": "code",
   "execution_count": null,
   "metadata": {
    "collapsed": false,
    "jupyter": {
     "outputs_hidden": false
    },
    "pycharm": {
     "name": "#%%\n",
     "is_executing": false
    }
   },
   "outputs": [],
   "source": [
    "transform_all = vtreat.BinomialOutcomeTreatment(\n",
    "    outcome_name='yc',    # outcome variable\n",
    "    outcome_target=True,  # outcome of interest\n",
    "    cols_to_copy=['y'],   # columns to \"carry along\" but not treat as input variables\n",
    "    params = vtreat.vtreat_parameters({\n",
    "        'filter_to_recommended': False\n",
    "    })\n",
    ")  \n",
    "\n",
    "transform_all.fit_transform(d, d['yc']).columns"
   ]
  },
  {
   "cell_type": "code",
   "execution_count": null,
   "metadata": {
    "collapsed": false,
    "jupyter": {
     "outputs_hidden": false
    },
    "pycharm": {
     "name": "#%%\n",
     "is_executing": false
    }
   },
   "outputs": [],
   "source": [
    "transform_all.score_frame_"
   ]
  },
  {
   "cell_type": "markdown",
   "metadata": {},
   "source": [
    "Note that the prepared data produced by `fit_transform()` includes all the variables, including those that were not marked as \"recommended\". \n",
    "\n",
    "## Types of prepared variables\n",
    "\n",
    "**clean_copy**: Produced from numerical variables: a clean numerical variable with no `NaNs` or missing values\n",
    "\n",
    "**indicator_code**: Produced from categorical variables, one for each (common) level: for each level of the variable, indicates if that level was \"on\"\n",
    "\n",
    "**prevalence_code**: Produced from categorical variables: indicates how often each level of the variable was \"on\"\n",
    "\n",
    "**logit_code**: Produced from categorical variables: score from a one-dimensional model of the centered output as a function of the variable\n",
    "\n",
    "**missing_indicator**: Produced for both numerical and categorical variables: an indicator variable that marks when the original variable was missing or  `NaN`\n",
    "\n",
    "**deviation_code**: not used by `BinomialOutcomeTreatment`\n",
    "\n",
    "**impact_code**: not used by `BinomialOutcomeTreatment`\n",
    "\n",
    "### Example: Produce only a subset of variable types\n",
    "\n",
    "In this example, suppose you only want to use indicators and continuous variables in your model; \n",
    "in other words, you only want to use variables of types (`clean_copy`, `missing_indicator`, and `indicator_code`), and no `logit_code` or `prevalence_code` variables."
   ]
  },
  {
   "cell_type": "code",
   "execution_count": null,
   "metadata": {
    "collapsed": false,
    "jupyter": {
     "outputs_hidden": false
    },
    "pycharm": {
     "name": "#%%\n",
     "is_executing": false
    }
   },
   "outputs": [],
   "source": [
    "transform_thin = vtreat.BinomialOutcomeTreatment(\n",
    "    outcome_name='yc',    # outcome variable\n",
    "    outcome_target=True,  # outcome of interest\n",
    "    cols_to_copy=['y'],   # columns to \"carry along\" but not treat as input variables\n",
    "    params = vtreat.vtreat_parameters({\n",
    "        'filter_to_recommended': False,\n",
    "        'coders': {'clean_copy',\n",
    "                   'missing_indicator',\n",
    "                   'indicator_code',\n",
    "                  }\n",
    "    })\n",
    ")\n",
    "\n",
    "transform_thin.fit_transform(d, d['yc']).head()"
   ]
  },
  {
   "cell_type": "code",
   "execution_count": null,
   "metadata": {
    "collapsed": false,
    "jupyter": {
     "outputs_hidden": false
    },
    "pycharm": {
     "name": "#%%\n",
     "is_executing": false
    }
   },
   "outputs": [],
   "source": [
    "transform_thin.score_frame_"
   ]
  },
  {
   "cell_type": "markdown",
   "metadata": {},
   "source": [
    "## Deriving the Default Thresholds\n",
    "\n",
    "While machine learning algorithms are generally tolerant to a reasonable number of irrelevant or noise variables, too many irrelevant variables can lead to serious overfit; see [this article](http://www.win-vector.com/blog/2014/02/bad-bayes-an-example-of-why-you-need-hold-out-testing/) for an extreme example, one we call \"Bad Bayes\". The default threshold is an attempt to eliminate obviously irrelevant variables early.\n",
    "\n",
    "Imagine that you have a pure noise dataset, where none of the *n* inputs are related to the output. If you treat each variable as a one-variable model for the output, and look at the significances of each model, these significance-values will be uniformly distributed in the range [0:1]. You want to pick a weakest possible significance threshold that eliminates as many noise variables as possible. A moment's thought should convince you that a threshold of *1/n* allows only one variable through, in expectation. \n",
    "\n",
    "This leads to the general-case heuristic that a significance threshold of *1/n* on your variables should allow only one irrelevant variable through, in expectation (along with all the relevant variables). Hence, *1/n* used to be our recommended threshold, when we developed the R version of `vtreat`.\n",
    "\n",
    "We noticed, however, that this biases the filtering against numerical variables, since there are at most two derived variables (of types *clean_copy* and *missing_indicator* for every numerical variable in the original data. Categorical variables, on the other hand, are expanded to many derived variables: several indicators (one for every common level), plus a *logit_code* and a *prevalence_code*. So we now reweight the thresholds. \n",
    "\n",
    "Suppose you have a (treated) data set with *ntreat* different types of `vtreat` variables (`clean_copy`, `indicator_code`, etc).\n",
    "There are *nT* variables of type *T*. Then the default threshold for all the variables of type *T* is *1/(ntreat nT)*. This reweighting  helps to reduce the bias against any particular type of variable. The heuristic is still that the set of recommended variables will allow at most one noise variable into the set of candidate variables.\n",
    "\n",
    "As noted above, because `vtreat` estimates variable significances using linear methods by default, some variables with a non-linear relationship  to the output may fail to pass the threshold. Setting the `filter_to_recommended` parameter to False will keep all derived variables in the treated frame, for the data scientist to filter (or not) as they will.\n",
    "\n"
   ]
  },
  {
   "cell_type": "markdown",
   "metadata": {},
   "source": [
    "## Conclusion\n",
    "\n",
    "In all cases (classification, regression, unsupervised, and multinomial classification) the intent is that `vtreat` transforms are essentially one liners.\n",
    "\n",
    "The preparation commands are organized as follows:\n",
    "\n",
    " * **Regression**: [`R` regression example](https://github.com/WinVector/vtreat/blob/master/Examples/Regression/Regression.md), [`Python` regression example](https://github.com/WinVector/pyvtreat/blob/master/Examples/Regression/Regression.md).\n",
    " * **Classification**: [`R` classification example](https://github.com/WinVector/vtreat/blob/master/Examples/Classification/Classification.md), [`Python` classification  example](https://github.com/WinVector/pyvtreat/blob/master/Examples/Multinomial/Multinomial.md).\n",
    " * **Unsupervised tasks**: [`R` unsupervised example](https://github.com/WinVector/vtreat/blob/master/Examples/Unsupervised/Unsupervised.md), [`Python` unsupervised example](https://github.com/WinVector/pyvtreat/blob/master/Examples/Unsupervised/Unsupervised.md).\n",
    " * **Multinomial classification**: [`R` multinomial classification example](https://winvector.github.io/vtreat/articles/MultiClassVtreat.html), [`Python` multinomial classification example](https://github.com/WinVector/pyvtreat/blob/master/Examples/Multinomial/MultinomialExample.ipynb).\n",
    "\n",
    "These current revisions of the examples are designed to be small, yet complete.  So as a set they have some overlap, but the user can rely mostly on a single example for a single task type.\n"
   ]
  }
 ],
 "metadata": {
  "kernelspec": {
   "display_name": "Python 3",
   "language": "python",
   "name": "python3"
  },
  "language_info": {
   "codemirror_mode": {
    "name": "ipython",
    "version": 3
   },
   "file_extension": ".py",
   "mimetype": "text/x-python",
   "name": "python",
   "nbconvert_exporter": "python",
   "pygments_lexer": "ipython3",
   "version": "3.6.9"
  },
  "pycharm": {
   "stem_cell": {
    "cell_type": "raw",
    "source": [],
    "metadata": {
     "collapsed": false
    }
   }
  }
 },
 "nbformat": 4,
 "nbformat_minor": 4
}