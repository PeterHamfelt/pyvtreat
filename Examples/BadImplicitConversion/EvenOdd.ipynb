{
 "cells": [
  {
   "cell_type": "markdown",
   "id": "seasonal-biology",
   "metadata": {},
   "source": [
    "Show that by-hand type conversion is needed.\n",
    "\n",
    "The issue is: some modeling packages (such as xgboost) check that all their argument types are numeric, others attempt a silent type\n",
    "conversion. This can cause of modeling power for columns that contain IDs that *happen* to look like integers, and get converted to numeric."
   ]
  },
  {
   "cell_type": "code",
   "execution_count": 1,
   "id": "female-wildlife",
   "metadata": {},
   "outputs": [],
   "source": [
    "# import packages\n",
    "import pandas\n",
    "import numpy\n",
    "import sklearn.linear_model\n",
    "import vtreat\n",
    "import seaborn\n",
    "import matplotlib.pyplot"
   ]
  },
  {
   "cell_type": "code",
   "execution_count": 2,
   "id": "sized-niagara",
   "metadata": {},
   "outputs": [
    {
     "data": {
      "text/html": [
       "<div>\n",
       "<style scoped>\n",
       "    .dataframe tbody tr th:only-of-type {\n",
       "        vertical-align: middle;\n",
       "    }\n",
       "\n",
       "    .dataframe tbody tr th {\n",
       "        vertical-align: top;\n",
       "    }\n",
       "\n",
       "    .dataframe thead th {\n",
       "        text-align: right;\n",
       "    }\n",
       "</style>\n",
       "<table border=\"1\" class=\"dataframe\">\n",
       "  <thead>\n",
       "    <tr style=\"text-align: right;\">\n",
       "      <th></th>\n",
       "      <th>x</th>\n",
       "      <th>y</th>\n",
       "    </tr>\n",
       "  </thead>\n",
       "  <tbody>\n",
       "    <tr>\n",
       "      <th>0</th>\n",
       "      <td>0</td>\n",
       "      <td>0</td>\n",
       "    </tr>\n",
       "    <tr>\n",
       "      <th>1</th>\n",
       "      <td>1</td>\n",
       "      <td>1</td>\n",
       "    </tr>\n",
       "    <tr>\n",
       "      <th>2</th>\n",
       "      <td>2</td>\n",
       "      <td>0</td>\n",
       "    </tr>\n",
       "    <tr>\n",
       "      <th>3</th>\n",
       "      <td>3</td>\n",
       "      <td>1</td>\n",
       "    </tr>\n",
       "    <tr>\n",
       "      <th>4</th>\n",
       "      <td>0</td>\n",
       "      <td>0</td>\n",
       "    </tr>\n",
       "    <tr>\n",
       "      <th>5</th>\n",
       "      <td>1</td>\n",
       "      <td>1</td>\n",
       "    </tr>\n",
       "    <tr>\n",
       "      <th>6</th>\n",
       "      <td>2</td>\n",
       "      <td>0</td>\n",
       "    </tr>\n",
       "    <tr>\n",
       "      <th>7</th>\n",
       "      <td>3</td>\n",
       "      <td>1</td>\n",
       "    </tr>\n",
       "  </tbody>\n",
       "</table>\n",
       "</div>"
      ],
      "text/plain": [
       "   x  y\n",
       "0  0  0\n",
       "1  1  1\n",
       "2  2  0\n",
       "3  3  1\n",
       "4  0  0\n",
       "5  1  1\n",
       "6  2  0\n",
       "7  3  1"
      ]
     },
     "execution_count": 2,
     "metadata": {},
     "output_type": "execute_result"
    }
   ],
   "source": [
    "# build an example system\n",
    "d = pandas.DataFrame({\n",
    "    'x': [i for i in range(4)] + [i for i in range(4)],\n",
    "})\n",
    "d['y'] = d.x % 2\n",
    "d['x'] = d.x.astype('str')  # x is now a string, this is often a signal it should not be treated as numeric.\n",
    "\n",
    "d"
   ]
  },
  {
   "cell_type": "code",
   "execution_count": 3,
   "id": "sharing-money",
   "metadata": {},
   "outputs": [],
   "source": [
    "model_vars = ['x']\n",
    "outcome = 'y'"
   ]
  },
  {
   "cell_type": "code",
   "execution_count": 4,
   "id": "mighty-dominant",
   "metadata": {},
   "outputs": [
    {
     "data": {
      "text/plain": [
       "LogisticRegression()"
      ]
     },
     "execution_count": 4,
     "metadata": {},
     "output_type": "execute_result"
    }
   ],
   "source": [
    "model_bad = sklearn.linear_model.LogisticRegression()\n",
    "model_bad.fit(d.loc[:, model_vars], d[outcome])"
   ]
  },
  {
   "cell_type": "code",
   "execution_count": 5,
   "id": "entire-memorabilia",
   "metadata": {},
   "outputs": [
    {
     "data": {
      "text/plain": [
       "array([[0.59528927]])"
      ]
     },
     "execution_count": 5,
     "metadata": {},
     "output_type": "execute_result"
    }
   ],
   "source": [
    "model_bad.coef_"
   ]
  },
  {
   "cell_type": "code",
   "execution_count": 6,
   "id": "divided-harris",
   "metadata": {},
   "outputs": [
    {
     "data": {
      "text/html": [
       "<div>\n",
       "<style scoped>\n",
       "    .dataframe tbody tr th:only-of-type {\n",
       "        vertical-align: middle;\n",
       "    }\n",
       "\n",
       "    .dataframe tbody tr th {\n",
       "        vertical-align: top;\n",
       "    }\n",
       "\n",
       "    .dataframe thead th {\n",
       "        text-align: right;\n",
       "    }\n",
       "</style>\n",
       "<table border=\"1\" class=\"dataframe\">\n",
       "  <thead>\n",
       "    <tr style=\"text-align: right;\">\n",
       "      <th></th>\n",
       "      <th>y</th>\n",
       "      <th>prediction</th>\n",
       "    </tr>\n",
       "  </thead>\n",
       "  <tbody>\n",
       "    <tr>\n",
       "      <th>0</th>\n",
       "      <td>0</td>\n",
       "      <td>0.290505</td>\n",
       "    </tr>\n",
       "    <tr>\n",
       "      <th>1</th>\n",
       "      <td>1</td>\n",
       "      <td>0.426133</td>\n",
       "    </tr>\n",
       "    <tr>\n",
       "      <th>2</th>\n",
       "      <td>0</td>\n",
       "      <td>0.573867</td>\n",
       "    </tr>\n",
       "    <tr>\n",
       "      <th>3</th>\n",
       "      <td>1</td>\n",
       "      <td>0.709495</td>\n",
       "    </tr>\n",
       "    <tr>\n",
       "      <th>4</th>\n",
       "      <td>0</td>\n",
       "      <td>0.290505</td>\n",
       "    </tr>\n",
       "    <tr>\n",
       "      <th>5</th>\n",
       "      <td>1</td>\n",
       "      <td>0.426133</td>\n",
       "    </tr>\n",
       "    <tr>\n",
       "      <th>6</th>\n",
       "      <td>0</td>\n",
       "      <td>0.573867</td>\n",
       "    </tr>\n",
       "    <tr>\n",
       "      <th>7</th>\n",
       "      <td>1</td>\n",
       "      <td>0.709495</td>\n",
       "    </tr>\n",
       "  </tbody>\n",
       "</table>\n",
       "</div>"
      ],
      "text/plain": [
       "   y  prediction\n",
       "0  0    0.290505\n",
       "1  1    0.426133\n",
       "2  0    0.573867\n",
       "3  1    0.709495\n",
       "4  0    0.290505\n",
       "5  1    0.426133\n",
       "6  0    0.573867\n",
       "7  1    0.709495"
      ]
     },
     "execution_count": 6,
     "metadata": {},
     "output_type": "execute_result"
    }
   ],
   "source": [
    "# vars(model_bad)\n",
    "one_index = numpy.where(model_bad.classes_ == 1)[0][0]\n",
    "\n",
    "plot_frame_bad = pandas.DataFrame({\n",
    "    'y': d[outcome],\n",
    "    'prediction': model_bad.predict_proba(d.loc[:, model_vars])[:, one_index]\n",
    "})\n",
    "\n",
    "plot_frame_bad"
   ]
  },
  {
   "cell_type": "code",
   "execution_count": 7,
   "id": "forbidden-hundred",
   "metadata": {},
   "outputs": [
    {
     "data": {
      "text/plain": [
       "Text(0.5, 1.0, 'bad predictions conditioned on actual outcome')"
      ]
     },
     "execution_count": 7,
     "metadata": {},
     "output_type": "execute_result"
    },
    {
     "data": {
      "image/png": "[encoded data removed]",
      "text/plain": [
       "<Figure size 432x288 with 1 Axes>"
      ]
     },
     "metadata": {
      "needs_background": "light"
     },
     "output_type": "display_data"
    }
   ],
   "source": [
    "seaborn.histplot(data=plot_frame_bad, x='prediction', hue='y')\n",
    "matplotlib.pyplot.title('bad predictions conditioned on actual outcome')"
   ]
  },
  {
   "cell_type": "markdown",
   "id": "ongoing-meeting",
   "metadata": {},
   "source": [
    "Notice the above preduction performance is bad, the model mixes postives and negatives."
   ]
  },
  {
   "cell_type": "markdown",
   "id": "unauthorized-guitar",
   "metadata": {},
   "source": [
    "Now lets try proper re-encoding of string variables as dummies or indicators (similar to `sklearn.preprocessing.OneHot`)."
   ]
  },
  {
   "cell_type": "code",
   "execution_count": 8,
   "id": "least-initial",
   "metadata": {},
   "outputs": [
    {
     "data": {
      "text/html": [
       "<div>\n",
       "<style scoped>\n",
       "    .dataframe tbody tr th:only-of-type {\n",
       "        vertical-align: middle;\n",
       "    }\n",
       "\n",
       "    .dataframe tbody tr th {\n",
       "        vertical-align: top;\n",
       "    }\n",
       "\n",
       "    .dataframe thead th {\n",
       "        text-align: right;\n",
       "    }\n",
       "</style>\n",
       "<table border=\"1\" class=\"dataframe\">\n",
       "  <thead>\n",
       "    <tr style=\"text-align: right;\">\n",
       "      <th></th>\n",
       "      <th>y</th>\n",
       "      <th>x_lev_3</th>\n",
       "      <th>x_lev_0</th>\n",
       "      <th>x_lev_2</th>\n",
       "      <th>x_lev_1</th>\n",
       "    </tr>\n",
       "  </thead>\n",
       "  <tbody>\n",
       "    <tr>\n",
       "      <th>0</th>\n",
       "      <td>0</td>\n",
       "      <td>0.0</td>\n",
       "      <td>1.0</td>\n",
       "      <td>0.0</td>\n",
       "      <td>0.0</td>\n",
       "    </tr>\n",
       "    <tr>\n",
       "      <th>1</th>\n",
       "      <td>1</td>\n",
       "      <td>0.0</td>\n",
       "      <td>0.0</td>\n",
       "      <td>0.0</td>\n",
       "      <td>1.0</td>\n",
       "    </tr>\n",
       "    <tr>\n",
       "      <th>2</th>\n",
       "      <td>0</td>\n",
       "      <td>0.0</td>\n",
       "      <td>0.0</td>\n",
       "      <td>1.0</td>\n",
       "      <td>0.0</td>\n",
       "    </tr>\n",
       "    <tr>\n",
       "      <th>3</th>\n",
       "      <td>1</td>\n",
       "      <td>1.0</td>\n",
       "      <td>0.0</td>\n",
       "      <td>0.0</td>\n",
       "      <td>0.0</td>\n",
       "    </tr>\n",
       "    <tr>\n",
       "      <th>4</th>\n",
       "      <td>0</td>\n",
       "      <td>0.0</td>\n",
       "      <td>1.0</td>\n",
       "      <td>0.0</td>\n",
       "      <td>0.0</td>\n",
       "    </tr>\n",
       "    <tr>\n",
       "      <th>5</th>\n",
       "      <td>1</td>\n",
       "      <td>0.0</td>\n",
       "      <td>0.0</td>\n",
       "      <td>0.0</td>\n",
       "      <td>1.0</td>\n",
       "    </tr>\n",
       "    <tr>\n",
       "      <th>6</th>\n",
       "      <td>0</td>\n",
       "      <td>0.0</td>\n",
       "      <td>0.0</td>\n",
       "      <td>1.0</td>\n",
       "      <td>0.0</td>\n",
       "    </tr>\n",
       "    <tr>\n",
       "      <th>7</th>\n",
       "      <td>1</td>\n",
       "      <td>1.0</td>\n",
       "      <td>0.0</td>\n",
       "      <td>0.0</td>\n",
       "      <td>0.0</td>\n",
       "    </tr>\n",
       "  </tbody>\n",
       "</table>\n",
       "</div>"
      ],
      "text/plain": [
       "   y  x_lev_3  x_lev_0  x_lev_2  x_lev_1\n",
       "0  0      0.0      1.0      0.0      0.0\n",
       "1  1      0.0      0.0      0.0      1.0\n",
       "2  0      0.0      0.0      1.0      0.0\n",
       "3  1      1.0      0.0      0.0      0.0\n",
       "4  0      0.0      1.0      0.0      0.0\n",
       "5  1      0.0      0.0      0.0      1.0\n",
       "6  0      0.0      0.0      1.0      0.0\n",
       "7  1      1.0      0.0      0.0      0.0"
      ]
     },
     "execution_count": 8,
     "metadata": {},
     "output_type": "execute_result"
    }
   ],
   "source": [
    "transform = vtreat.UnsupervisedTreatment(\n",
    "    cols_to_copy = outcome,  # columns to \"carry along\" but not treat as input variables\n",
    "    params = vtreat.unsupervised_parameters({\n",
    "         'coders': {'clean_copy',\n",
    "                    'missing_indicator',\n",
    "                    'indicator_code',\n",
    "                   }\n",
    "    })\n",
    ")\n",
    "\n",
    "d_train = transform.fit_transform(d)\n",
    "\n",
    "d_train"
   ]
  },
  {
   "cell_type": "code",
   "execution_count": 9,
   "id": "mediterranean-object",
   "metadata": {},
   "outputs": [
    {
     "data": {
      "text/plain": [
       "['x_lev_3', 'x_lev_0', 'x_lev_2', 'x_lev_1']"
      ]
     },
     "execution_count": 9,
     "metadata": {},
     "output_type": "execute_result"
    }
   ],
   "source": [
    "new_vars = transform.score_frame_.variable[transform.score_frame_.recommended].to_list()\n",
    "new_vars"
   ]
  },
  {
   "cell_type": "code",
   "execution_count": 10,
   "id": "controversial-egypt",
   "metadata": {},
   "outputs": [
    {
     "data": {
      "text/plain": [
       "LogisticRegression()"
      ]
     },
     "execution_count": 10,
     "metadata": {},
     "output_type": "execute_result"
    }
   ],
   "source": [
    "model_good = sklearn.linear_model.LogisticRegression()\n",
    "model_good.fit(d_train.loc[:, new_vars], d_train[outcome])"
   ]
  },
  {
   "cell_type": "code",
   "execution_count": 11,
   "id": "earlier-decline",
   "metadata": {},
   "outputs": [
    {
     "data": {
      "text/plain": [
       "{'x_lev_3': 0.6748022104535976,\n",
       " 'x_lev_0': -0.6748022104535976,\n",
       " 'x_lev_2': -0.6748022104535976,\n",
       " 'x_lev_1': 0.6748022104535976}"
      ]
     },
     "execution_count": 11,
     "metadata": {},
     "output_type": "execute_result"
    }
   ],
   "source": [
    "{v: c for v, c in zip(new_vars, model_good.coef_[0])}"
   ]
  },
  {
   "cell_type": "code",
   "execution_count": 12,
   "id": "american-advocacy",
   "metadata": {},
   "outputs": [
    {
     "data": {
      "text/html": [
       "<div>\n",
       "<style scoped>\n",
       "    .dataframe tbody tr th:only-of-type {\n",
       "        vertical-align: middle;\n",
       "    }\n",
       "\n",
       "    .dataframe tbody tr th {\n",
       "        vertical-align: top;\n",
       "    }\n",
       "\n",
       "    .dataframe thead th {\n",
       "        text-align: right;\n",
       "    }\n",
       "</style>\n",
       "<table border=\"1\" class=\"dataframe\">\n",
       "  <thead>\n",
       "    <tr style=\"text-align: right;\">\n",
       "      <th></th>\n",
       "      <th>y</th>\n",
       "      <th>prediction</th>\n",
       "    </tr>\n",
       "  </thead>\n",
       "  <tbody>\n",
       "    <tr>\n",
       "      <th>0</th>\n",
       "      <td>0</td>\n",
       "      <td>0.337422</td>\n",
       "    </tr>\n",
       "    <tr>\n",
       "      <th>1</th>\n",
       "      <td>1</td>\n",
       "      <td>0.662578</td>\n",
       "    </tr>\n",
       "    <tr>\n",
       "      <th>2</th>\n",
       "      <td>0</td>\n",
       "      <td>0.337422</td>\n",
       "    </tr>\n",
       "    <tr>\n",
       "      <th>3</th>\n",
       "      <td>1</td>\n",
       "      <td>0.662578</td>\n",
       "    </tr>\n",
       "    <tr>\n",
       "      <th>4</th>\n",
       "      <td>0</td>\n",
       "      <td>0.337422</td>\n",
       "    </tr>\n",
       "    <tr>\n",
       "      <th>5</th>\n",
       "      <td>1</td>\n",
       "      <td>0.662578</td>\n",
       "    </tr>\n",
       "    <tr>\n",
       "      <th>6</th>\n",
       "      <td>0</td>\n",
       "      <td>0.337422</td>\n",
       "    </tr>\n",
       "    <tr>\n",
       "      <th>7</th>\n",
       "      <td>1</td>\n",
       "      <td>0.662578</td>\n",
       "    </tr>\n",
       "  </tbody>\n",
       "</table>\n",
       "</div>"
      ],
      "text/plain": [
       "   y  prediction\n",
       "0  0    0.337422\n",
       "1  1    0.662578\n",
       "2  0    0.337422\n",
       "3  1    0.662578\n",
       "4  0    0.337422\n",
       "5  1    0.662578\n",
       "6  0    0.337422\n",
       "7  1    0.662578"
      ]
     },
     "execution_count": 12,
     "metadata": {},
     "output_type": "execute_result"
    }
   ],
   "source": [
    "one_index_good = numpy.where(model_good.classes_ == 1)[0][0]\n",
    "\n",
    "plot_frame_good = pandas.DataFrame({\n",
    "    'y': d_train[outcome],\n",
    "    'prediction': model_good.predict_proba(d_train.loc[:, new_vars])[:, one_index_good]\n",
    "})\n",
    "\n",
    "plot_frame_good"
   ]
  },
  {
   "cell_type": "code",
   "execution_count": 13,
   "id": "compatible-steering",
   "metadata": {},
   "outputs": [
    {
     "data": {
      "text/plain": [
       "Text(0.5, 1.0, 'good predictions conditioned on actual outcome')"
      ]
     },
     "execution_count": 13,
     "metadata": {},
     "output_type": "execute_result"
    },
    {
     "data": {
      "image/png": "[encoded data removed]",
      "text/plain": [
       "<Figure size 432x288 with 1 Axes>"
      ]
     },
     "metadata": {
      "needs_background": "light"
     },
     "output_type": "display_data"
    }
   ],
   "source": [
    "seaborn.histplot(data=plot_frame_good, x='prediction', hue='y')\n",
    "matplotlib.pyplot.title('good predictions conditioned on actual outcome')"
   ]
  },
  {
   "cell_type": "markdown",
   "id": "assisted-nudist",
   "metadata": {},
   "source": [
    "Notice now the model separates positives from negatives. I.e. it has learned the concept."
   ]
  },
  {
   "cell_type": "code",
   "execution_count": null,
   "id": "happy-austria",
   "metadata": {},
   "outputs": [],
   "source": []
  }
 ],
 "metadata": {
  "kernelspec": {
   "display_name": "Python 3",
   "language": "python",
   "name": "python3"
  },
  "language_info": {
   "codemirror_mode": {
    "name": "ipython",
    "version": 3
   },
   "file_extension": ".py",
   "mimetype": "text/x-python",
   "name": "python",
   "nbconvert_exporter": "python",
   "pygments_lexer": "ipython3",
   "version": "3.7.7"
  }
 },
 "nbformat": 4,
 "nbformat_minor": 5
}
