{
 "cells": [
  {
   "cell_type": "code",
   "execution_count": 1,
   "metadata": {
    "pycharm": {
     "is_executing": false
    }
   },
   "outputs": [],
   "source": [
    "import pandas\n",
    "import vtreat.cross_plan\n",
    "\n",
    "order_vector = [i*100 for i in range(10)]\n",
    "k_folds = 5\n",
    "\n",
    "d = pandas.DataFrame({'i':order_vector})\n",
    "splitter = vtreat.cross_plan.OrderedCrossPlan('i')"
   ]
  },
  {
   "cell_type": "code",
   "execution_count": 2,
   "metadata": {
    "collapsed": false,
    "jupyter": {
     "outputs_hidden": false
    },
    "pycharm": {
     "is_executing": false,
     "name": "#%%\n"
    }
   },
   "outputs": [
    {
     "data": {
      "text/plain": [
       "[{'train': [2, 3, 4, 5, 6, 7, 8, 9], 'app': [0, 1]},\n",
       " {'train': [4, 5, 6, 7, 8, 9], 'app': [2, 3]},\n",
       " {'train': [0, 1, 2, 3], 'app': [4, 5]},\n",
       " {'train': [0, 1, 2, 3, 4, 5], 'app': [6, 7]},\n",
       " {'train': [0, 1, 2, 3, 4, 5, 6, 7], 'app': [8, 9]}]"
      ]
     },
     "execution_count": 2,
     "metadata": {},
     "output_type": "execute_result"
    }
   ],
   "source": [
    "splitter.split_plan(data=d, k_folds=k_folds)"
   ]
  },
  {
   "cell_type": "markdown",
   "metadata": {
    "pycharm": {
     "name": "#%% md\n"
    }
   },
   "source": [
    "Notice in the above split all application indices are intervals of the order values, and all training indices are for order-values either all before or all after the\n",
    "values specified by the application indices."
   ]
  },
  {
   "cell_type": "markdown",
   "metadata": {},
   "source": [
    "A non-trivial application of this methodology can be found [here](https://github.com/WinVector/pyvtreat/blob/master/Examples/OrderedCrossPlan/OrderedExample.ipynb)."
   ]
  }
 ],
 "metadata": {
  "kernelspec": {
   "display_name": "Python 3",
   "language": "python",
   "name": "python3"
  },
  "language_info": {
   "codemirror_mode": {
    "name": "ipython",
    "version": 3
   },
   "file_extension": ".py",
   "mimetype": "text/x-python",
   "name": "python",
   "nbconvert_exporter": "python",
   "pygments_lexer": "ipython3",
   "version": "3.6.9"
  },
  "pycharm": {
   "stem_cell": {
    "cell_type": "raw",
    "metadata": {
     "collapsed": false
    },
    "source": []
   }
  }
 },
 "nbformat": 4,
 "nbformat_minor": 4
}
