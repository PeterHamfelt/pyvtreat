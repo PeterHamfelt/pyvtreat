{
 "cells": [
  {
   "cell_type": "code",
   "execution_count": 1,
   "metadata": {
    "collapsed": true,
    "pycharm": {
     "is_executing": false
    }
   },
   "outputs": [],
   "source": [
    "import pandas\n",
    "import vtreat.cross_plan\n",
    "\n",
    "order_vector = [i for i in range(10)]\n",
    "k_folds = 5\n",
    "\n",
    "d = pandas.DataFrame({'i':order_vector})\n",
    "splitter = vtreat.cross_plan.OrderedCrossPlan('i')"
   ]
  },
  {
   "cell_type": "code",
   "execution_count": 2,
   "outputs": [
    {
     "data": {
      "text/plain": "[{'train': [2, 3, 4, 5, 6, 7, 8, 9], 'app': [0, 1]},\n {'train': [4, 5, 6, 7, 8, 9], 'app': [2, 3]},\n {'train': [0, 1, 2, 3], 'app': [4, 5]},\n {'train': [0, 1, 2, 3, 4, 5], 'app': [6, 7]},\n {'train': [0, 1, 2, 3, 4, 5, 6, 7], 'app': [8, 9]}]"
     },
     "metadata": {},
     "output_type": "execute_result",
     "execution_count": 2
    }
   ],
   "source": [
    "splitter.split_plan(data=d, k_folds=k_folds)"
   ],
   "metadata": {
    "collapsed": false,
    "pycharm": {
     "name": "#%%\n",
     "is_executing": false
    }
   }
  },
  {
   "cell_type": "markdown",
   "source": [
    "Notice in the above split all training indices are for order-values either all before or all after the\n",
    "values specified by the application indices."
   ],
   "metadata": {
    "collapsed": false,
    "pycharm": {
     "name": "#%% md\n"
    }
   }
  }
 ],
 "metadata": {
  "language_info": {
   "codemirror_mode": {
    "name": "ipython",
    "version": 2
   },
   "file_extension": ".py",
   "mimetype": "text/x-python",
   "name": "python",
   "nbconvert_exporter": "python",
   "pygments_lexer": "ipython2",
   "version": "2.7.6"
  },
  "kernelspec": {
   "name": "python3",
   "language": "python",
   "display_name": "Python 3"
  },
  "pycharm": {
   "stem_cell": {
    "cell_type": "raw",
    "source": [],
    "metadata": {
     "collapsed": false
    }
   }
  }
 },
 "nbformat": 4,
 "nbformat_minor": 0
}